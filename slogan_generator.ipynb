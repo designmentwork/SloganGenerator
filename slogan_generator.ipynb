{
  "nbformat": 4,
  "nbformat_minor": 0,
  "metadata": {
    "colab": {
      "name": "slogan_generator.ipynb",
      "provenance": []
    },
    "kernelspec": {
      "name": "python3",
      "display_name": "Python 3"
    },
    "language_info": {
      "name": "python"
    },
    "accelerator": "GPU"
  },
  "cells": [
    {
      "cell_type": "code",
      "metadata": {
        "colab": {
          "base_uri": "https://localhost:8080/"
        },
        "id": "OnuJYYOsYwvx",
        "outputId": "61c969e5-ede2-4580-d54d-c9c451c149ca"
      },
      "source": [
        "pip install torch"
      ],
      "execution_count": 37,
      "outputs": [
        {
          "output_type": "stream",
          "text": [
            "Requirement already satisfied: torch in /usr/local/lib/python3.7/dist-packages (1.8.1+cu101)\n",
            "Requirement already satisfied: numpy in /usr/local/lib/python3.7/dist-packages (from torch) (1.19.5)\n",
            "Requirement already satisfied: typing-extensions in /usr/local/lib/python3.7/dist-packages (from torch) (3.7.4.3)\n"
          ],
          "name": "stdout"
        }
      ]
    },
    {
      "cell_type": "code",
      "metadata": {
        "colab": {
          "base_uri": "https://localhost:8080/"
        },
        "id": "a2NJU3Ziap2g",
        "outputId": "72b9c3b5-d97e-43ef-b11f-6b7a2d8528d3"
      },
      "source": [
        "pip install transformers"
      ],
      "execution_count": 38,
      "outputs": [
        {
          "output_type": "stream",
          "text": [
            "Requirement already satisfied: transformers in /usr/local/lib/python3.7/dist-packages (4.6.0)\n",
            "Requirement already satisfied: tqdm>=4.27 in /usr/local/lib/python3.7/dist-packages (from transformers) (4.41.1)\n",
            "Requirement already satisfied: tokenizers<0.11,>=0.10.1 in /usr/local/lib/python3.7/dist-packages (from transformers) (0.10.2)\n",
            "Requirement already satisfied: importlib-metadata; python_version < \"3.8\" in /usr/local/lib/python3.7/dist-packages (from transformers) (4.0.1)\n",
            "Requirement already satisfied: huggingface-hub==0.0.8 in /usr/local/lib/python3.7/dist-packages (from transformers) (0.0.8)\n",
            "Requirement already satisfied: packaging in /usr/local/lib/python3.7/dist-packages (from transformers) (20.9)\n",
            "Requirement already satisfied: requests in /usr/local/lib/python3.7/dist-packages (from transformers) (2.23.0)\n",
            "Requirement already satisfied: filelock in /usr/local/lib/python3.7/dist-packages (from transformers) (3.0.12)\n",
            "Requirement already satisfied: sacremoses in /usr/local/lib/python3.7/dist-packages (from transformers) (0.0.45)\n",
            "Requirement already satisfied: regex!=2019.12.17 in /usr/local/lib/python3.7/dist-packages (from transformers) (2019.12.20)\n",
            "Requirement already satisfied: numpy>=1.17 in /usr/local/lib/python3.7/dist-packages (from transformers) (1.19.5)\n",
            "Requirement already satisfied: typing-extensions>=3.6.4; python_version < \"3.8\" in /usr/local/lib/python3.7/dist-packages (from importlib-metadata; python_version < \"3.8\"->transformers) (3.7.4.3)\n",
            "Requirement already satisfied: zipp>=0.5 in /usr/local/lib/python3.7/dist-packages (from importlib-metadata; python_version < \"3.8\"->transformers) (3.4.1)\n",
            "Requirement already satisfied: pyparsing>=2.0.2 in /usr/local/lib/python3.7/dist-packages (from packaging->transformers) (2.4.7)\n",
            "Requirement already satisfied: chardet<4,>=3.0.2 in /usr/local/lib/python3.7/dist-packages (from requests->transformers) (3.0.4)\n",
            "Requirement already satisfied: idna<3,>=2.5 in /usr/local/lib/python3.7/dist-packages (from requests->transformers) (2.10)\n",
            "Requirement already satisfied: urllib3!=1.25.0,!=1.25.1,<1.26,>=1.21.1 in /usr/local/lib/python3.7/dist-packages (from requests->transformers) (1.24.3)\n",
            "Requirement already satisfied: certifi>=2017.4.17 in /usr/local/lib/python3.7/dist-packages (from requests->transformers) (2020.12.5)\n",
            "Requirement already satisfied: six in /usr/local/lib/python3.7/dist-packages (from sacremoses->transformers) (1.15.0)\n",
            "Requirement already satisfied: click in /usr/local/lib/python3.7/dist-packages (from sacremoses->transformers) (8.0.0)\n",
            "Requirement already satisfied: joblib in /usr/local/lib/python3.7/dist-packages (from sacremoses->transformers) (1.0.1)\n"
          ],
          "name": "stdout"
        }
      ]
    },
    {
      "cell_type": "code",
      "metadata": {
        "id": "Ppk3D3BKaf-l"
      },
      "source": [
        "from transformers import GPT2TokenizerFast, GPT2LMHeadModel\n",
        "#from transformers import BertConfig, BertModel\n",
        "tokenizer = GPT2TokenizerFast.from_pretrained('gpt2')\n",
        "model = GPT2LMHeadModel.from_pretrained('gpt2')\n",
        "#model = 'bert-base-uncased'.from_pretrained('bert-base-uncased')"
      ],
      "execution_count": 39,
      "outputs": []
    },
    {
      "cell_type": "markdown",
      "metadata": {
        "id": "6JO4lABT7WV8"
      },
      "source": [
        ""
      ]
    },
    {
      "cell_type": "code",
      "metadata": {
        "colab": {
          "base_uri": "https://localhost:8080/"
        },
        "id": "HEwRITuDa6Jz",
        "outputId": "1775378e-bb61-4a33-f826-9348f8f1b5ab"
      },
      "source": [
        "SPECIAL_TOKENS_DICT = {\n",
        "    'pad_token': '<pad>',\n",
        "    'additional_special_tokens': ['<context>', '<slogan>'],\n",
        "}\n",
        "\n",
        "tokenizer.add_special_tokens(SPECIAL_TOKENS_DICT)\n",
        "model.resize_token_embeddings(len(tokenizer))"
      ],
      "execution_count": 40,
      "outputs": [
        {
          "output_type": "execute_result",
          "data": {
            "text/plain": [
              "Embedding(50260, 768)"
            ]
          },
          "metadata": {
            "tags": []
          },
          "execution_count": 40
        }
      ]
    },
    {
      "cell_type": "code",
      "metadata": {
        "id": "gfeDxzWeZ3Ww"
      },
      "source": [
        "import csv, torch\n",
        "import regex as re\n",
        "from torch.utils.data import Dataset\n",
        "\n",
        "class SloganDataset(Dataset):\n",
        "  def __init__(self, filename, tokenizer, seq_length=64):\n",
        "\n",
        "    context_tkn = tokenizer.additional_special_tokens_ids[0]\n",
        "    slogan_tkn = tokenizer.additional_special_tokens_ids[1]\n",
        "    pad_tkn = tokenizer.pad_token_id\n",
        "    eos_tkn = tokenizer.eos_token_id\n",
        "\n",
        "    self.examples = []\n",
        "    with open(filename, 'r', encoding='utf8', errors='ignore') as csvfile:\n",
        "      reader = csv.reader(csvfile)\n",
        "      #reader[1] = reader[1].encode('windows-1252').decode('utf-8')\n",
        "      for row in reader:\n",
        "        print(\"1: \",row)\n",
        "        emptyString = \"\"\n",
        "        row[0] = re.sub(r\"\\xa0\", \" \", row[0])\n",
        "        row[1] = re.sub(r\"\\xa0\", \" \", row[1])\n",
        "        row[0] = re.sub(r\"Ã\", \" \", row[0])\n",
        "        row[1] = re.sub(r\"Ã\", \" \", row[1])\n",
        "        row[0] = re.sub(r\"Ã‚Â\\xa0\", \",\", row[0])\n",
        "        row[1] = re.sub(r\"Ã‚Â\\xa0\", \",\", row[1])\n",
        "        row[0] = re.sub(r\"ÃƒÂ©\", \"e\", row[0])\n",
        "        row[1] = re.sub(r\"ÃƒÂ©\", \"e\", row[1])\n",
        "        print(\"2: \",row)\n",
        "        # Build the context and slogan segments:\n",
        "        context = [context_tkn] + tokenizer.encode(row[0], max_length=seq_length//2-1)\n",
        "        slogan = [slogan_tkn] + tokenizer.encode(row[1], max_length=seq_length//2-2) + [eos_tkn]\n",
        "\n",
        "        # Concatenate the two parts together:\n",
        "        tokens = context + slogan + [pad_tkn] * ( seq_length - len(context) - len(slogan) )\n",
        "\n",
        "        # Annotate each token with its corresponding segment:\n",
        "        segments = [context_tkn] * len(context) + [slogan_tkn] * ( seq_length - len(context) )\n",
        "\n",
        "        # Ignore the context, padding, and <slogan> tokens by setting their labels to -1\n",
        "        labels = [-100] * (len(context)+1) + slogan[1:] + [-100] * ( seq_length - len(context) - len(slogan) )\n",
        "\n",
        "        # Add the preprocessed example to the dataset\n",
        "        self.examples.append((tokens, segments, labels))\n",
        "\n",
        "  def __len__(self):\n",
        "    return len(self.examples)\n",
        "\n",
        "  def __getitem__(self, item):\n",
        "    return torch.tensor(self.examples[item])"
      ],
      "execution_count": 41,
      "outputs": []
    },
    {
      "cell_type": "code",
      "metadata": {
        "colab": {
          "base_uri": "https://localhost:8080/"
        },
        "id": "6Ifu_mQSaKPo",
        "outputId": "c8eb9257-44a2-4dd6-9bd4-b0a75184aaf4"
      },
      "source": [
        "slogan_dataset = SloganDataset('/content/slogans.csv', tokenizer)"
      ],
      "execution_count": 43,
      "outputs": [
        {
          "output_type": "stream",
          "text": [
            "Truncation was not explicitly activated but `max_length` is provided a specific value, please use `truncation=True` to explicitly truncate examples to max length. Defaulting to 'longest_first' truncation strategy. If you encode pairs of sequences (GLUE-style) with the tokenizer you can select this strategy more precisely by providing a specific strategy to `truncation`.\n"
          ],
          "name": "stderr"
        },
        {
          "output_type": "stream",
          "text": [
            "\u001b[1;30;43mStreaming output truncated to the last 5000 lines.\u001b[0m\n",
            "1:  ['Audi automobiles', 'Everyone dreams of an Audi.']\n",
            "2:  ['Audi automobiles', 'Everyone dreams of an Audi.']\n",
            "1:  ['Volkswagen, the German car brand', 'Volkswagen. Drivers wanted.']\n",
            "2:  ['Volkswagen, the German car brand', 'Volkswagen. Drivers wanted.']\n",
            "1:  ['Volkswagen, the German car brand', 'For the love of the car.']\n",
            "2:  ['Volkswagen, the German car brand', 'For the love of the car.']\n",
            "1:  ['Volkswagen, the German car brand', 'Relieves gas pains.']\n",
            "2:  ['Volkswagen, the German car brand', 'Relieves gas pains.']\n",
            "1:  ['Volkswagen, the German car brand', 'Surprisingly ordinary prices']\n",
            "2:  ['Volkswagen, the German car brand', 'Surprisingly ordinary prices']\n",
            "1:  ['Peugeot, the French automobiles', 'Peugeot. Live the pleasure.']\n",
            "2:  ['Peugeot, the French automobiles', 'Peugeot. Live the pleasure.']\n",
            "1:  ['Peugeot, the French automobiles', 'The drive of your life.']\n",
            "2:  ['Peugeot, the French automobiles', 'The drive of your life.']\n",
            "1:  ['Peugeot, the French automobiles', 'The lion goes from strength to strength.']\n",
            "2:  ['Peugeot, the French automobiles', 'The lion goes from strength to strength.']\n",
            "1:  ['Jeep cars', \"Jeep. There's Only One.\"]\n",
            "2:  ['Jeep cars', \"Jeep. There's Only One.\"]\n",
            "1:  ['Toyota car brand', \"Let's go places.\"]\n",
            "2:  ['Toyota car brand', \"Let's go places.\"]\n",
            "1:  ['Toyota car brand', 'Today tomorrow Toyota.']\n",
            "2:  ['Toyota car brand', 'Today tomorrow Toyota.']\n",
            "1:  ['Toyota car brand', 'Toyota. Moving forward.']\n",
            "2:  ['Toyota car brand', 'Toyota. Moving forward.']\n",
            "1:  ['Toyota car brand', 'The best built cars in the world.']\n",
            "2:  ['Toyota car brand', 'The best built cars in the world.']\n",
            "1:  ['Toyota car brand', 'Get the feeling!']\n",
            "2:  ['Toyota car brand', 'Get the feeling!']\n",
            "1:  ['Toyota car brand', 'Everyday.']\n",
            "2:  ['Toyota car brand', 'Everyday.']\n",
            "1:  ['Toyota car brand', 'Drive your dreams.']\n",
            "2:  ['Toyota car brand', 'Drive your dreams.']\n",
            "1:  ['Toyota car brand', 'The car in front is a Toyota.']\n",
            "2:  ['Toyota car brand', 'The car in front is a Toyota.']\n",
            "1:  ['Toyota car brand', 'I love what you do for me, Toyota!']\n",
            "2:  ['Toyota car brand', 'I love what you do for me, Toyota!']\n",
            "1:  ['Toyota car brand', 'Who could ask for anything more?']\n",
            "2:  ['Toyota car brand', 'Who could ask for anything more?']\n",
            "1:  ['Toyota car brand', 'Oh, what a feeling!']\n",
            "2:  ['Toyota car brand', 'Oh, what a feeling!']\n",
            "1:  ['Toyota car brand', 'You asked for it! You got it!']\n",
            "2:  ['Toyota car brand', 'You asked for it! You got it!']\n",
            "1:  ['Toyota car brand', 'Your new experience of motoring.']\n",
            "2:  ['Toyota car brand', 'Your new experience of motoring.']\n",
            "1:  ['Pontiac Vehicles', 'We are driving excitement.']\n",
            "2:  ['Pontiac Vehicles', 'We are driving excitement.']\n",
            "1:  ['Rover car brand', 'Rover. A Class Of Its Own.']\n",
            "2:  ['Rover car brand', 'Rover. A Class Of Its Own.']\n",
            "1:  ['Land Rover vehicles', 'Land Rover. Go beyond.']\n",
            "2:  ['Land Rover vehicles', 'Land Rover. Go beyond.']\n",
            "1:  ['Bark Easy Pet Grooming', 'The best things in life are furry.']\n",
            "2:  ['Bark Easy Pet Grooming', 'The best things in life are furry.']\n",
            "1:  ['Happy Pet Grooming in Costa Mesa', 'Dogs like us and so will you.']\n",
            "2:  ['Happy Pet Grooming in Costa Mesa', 'Dogs like us and so will you.']\n",
            "1:  ['Dapper Dog Grooming', 'Is your dog a dapper dog?']\n",
            "2:  ['Dapper Dog Grooming', 'Is your dog a dapper dog?']\n",
            "1:  ['Golden Paw Dog Grooming', 'We love making tails wag and folks smile!']\n",
            "2:  ['Golden Paw Dog Grooming', 'We love making tails wag and folks smile!']\n",
            "1:  [\"Renee's Dog Grooming in Orlando\", \"Where tails are waggin' & pets are braggin'.\"]\n",
            "2:  [\"Renee's Dog Grooming in Orlando\", \"Where tails are waggin' & pets are braggin'.\"]\n",
            "1:  ['Bubbles and Pets Dog Grooming Salon in Edmond', 'We make your pets look their best!']\n",
            "2:  ['Bubbles and Pets Dog Grooming Salon in Edmond', 'We make your pets look their best!']\n",
            "1:  [\"Amber's Grooming Salon in Pullman\", 'Bringing out the best in your pet!']\n",
            "2:  [\"Amber's Grooming Salon in Pullman\", 'Bringing out the best in your pet!']\n",
            "1:  ['Doggy Bubbles, pet grooming salon in Ocala', 'A happy grooming experience.']\n",
            "2:  ['Doggy Bubbles, pet grooming salon in Ocala', 'A happy grooming experience.']\n",
            "1:  ['Paradise Pawfection Dog Grooming', 'Whether big or small we groom them all.']\n",
            "2:  ['Paradise Pawfection Dog Grooming', 'Whether big or small we groom them all.']\n",
            "1:  ['Temple Dog Grooming Salon', 'Dogs and cats, big and small... We love them all.']\n",
            "2:  ['Temple Dog Grooming Salon', 'Dogs and cats, big and small... We love them all.']\n",
            "1:  [\"Anne Marie's Pet Grooming Parlor\", 'Quality care with style.']\n",
            "2:  [\"Anne Marie's Pet Grooming Parlor\", 'Quality care with style.']\n",
            "1:  ['Hollywoof Grooming Parlor', \"It's your pet's time to shine!\"]\n",
            "2:  ['Hollywoof Grooming Parlor', \"It's your pet's time to shine!\"]\n",
            "1:  [\"Alice's Pet Parlor in Reno\", 'For pets with panache.']\n",
            "2:  [\"Alice's Pet Parlor in Reno\", 'For pets with panache.']\n",
            "1:  ['Royal Pet Salon in East Northport', 'Where your pet is treated like royalty!']\n",
            "2:  ['Royal Pet Salon in East Northport', 'Where your pet is treated like royalty!']\n",
            "1:  ['Royal Touch Pet Salon', 'Pet grooming done with style!']\n",
            "2:  ['Royal Touch Pet Salon', 'Pet grooming done with style!']\n",
            "1:  ['Dapper Dog in Mission, Texas', 'Your preferred dog groomer.']\n",
            "2:  ['Dapper Dog in Mission, Texas', 'Your preferred dog groomer.']\n",
            "1:  ['Doggy Stylez in Willimantic', 'A groomed puppy is a happy puppy.']\n",
            "2:  ['Doggy Stylez in Willimantic', 'A groomed puppy is a happy puppy.']\n",
            "1:  ['Maru Maru Pet Services', 'Maru Maru means \"excellent\" in Japanese.']\n",
            "2:  ['Maru Maru Pet Services', 'Maru Maru means \"excellent\" in Japanese.']\n",
            "1:  ['Lucky Dog Grooming Salon', 'Where a lucky dog is a healthy dog.']\n",
            "2:  ['Lucky Dog Grooming Salon', 'Where a lucky dog is a healthy dog.']\n",
            "1:  ['Grateful Pet Grooming Salon in Toledo', \"We're the bark of the town.\"]\n",
            "2:  ['Grateful Pet Grooming Salon in Toledo', \"We're the bark of the town.\"]\n",
            "1:  [\"ZuZu's Pet Grooming Salon in Colorado Springs\", 'A custom cut from nose to butt.']\n",
            "2:  [\"ZuZu's Pet Grooming Salon in Colorado Springs\", 'A custom cut from nose to butt.']\n",
            "1:  ['Reliable Grooming in Howard Beach', 'Your pets pampered from their heads to their paws.']\n",
            "2:  ['Reliable Grooming in Howard Beach', 'Your pets pampered from their heads to their paws.']\n",
            "1:  ['Dalespets Grooming Salon', 'Where your pet is our priority.']\n",
            "2:  ['Dalespets Grooming Salon', 'Where your pet is our priority.']\n",
            "1:  [\"Amy's Grooming Salon in Holly Springs\", 'Keeping them feeling & looking good.']\n",
            "2:  [\"Amy's Grooming Salon in Holly Springs\", 'Keeping them feeling & looking good.']\n",
            "1:  ['Pet Styling by Becki', 'Particular. Professional. Passionate about pets.']\n",
            "2:  ['Pet Styling by Becki', 'Particular. Professional. Passionate about pets.']\n",
            "1:  ['JD Interior Design', 'We listen, we create, you enjoy.']\n",
            "2:  ['JD Interior Design', 'We listen, we create, you enjoy.']\n",
            "1:  ['Absolute Interior Design in Kelowna', 'Inspired. Creative. Functional.']\n",
            "2:  ['Absolute Interior Design in Kelowna', 'Inspired. Creative. Functional.']\n",
            "1:  ['Country Knole, interior design services in Taunton', 'Inspiring interiors.']\n",
            "2:  ['Country Knole, interior design services in Taunton', 'Inspiring interiors.']\n",
            "1:  ['Cherry Hill, corporate interior design company in India', 'The future of workplace.']\n",
            "2:  ['Cherry Hill, corporate interior design company in India', 'The future of workplace.']\n",
            "1:  ['Interior Logistics, office design and fit-out company in Sydney', 'Smarter working environments.']\n",
            "2:  ['Interior Logistics, office design and fit-out company in Sydney', 'Smarter working environments.']\n",
            "1:  ['Collective Design, interior design practice', 'Interior thinking.']\n",
            "2:  ['Collective Design, interior design practice', 'Interior thinking.']\n",
            "1:  ['Collective Design, interior design practice', 'Finest bespoke interiors.']\n",
            "2:  ['Collective Design, interior design practice', 'Finest bespoke interiors.']\n",
            "1:  ['Aspect Commercial Interiors, office design and fit out', 'Workspace: designed & built.']\n",
            "2:  ['Aspect Commercial Interiors, office design and fit out', 'Workspace: designed & built.']\n",
            "1:  ['Arc Business Interiors', 'Creating inspirational office space.']\n",
            "2:  ['Arc Business Interiors', 'Creating inspirational office space.']\n",
            "1:  ['Kiva Design, corporate and retail architecture and interior design', 'Designing spaces to enhance your business.']\n",
            "2:  ['Kiva Design, corporate and retail architecture and interior design', 'Designing spaces to enhance your business.']\n",
            "1:  ['Swiftpro, interior designing firm in Delhi', 'Interiors inspired by innovation.']\n",
            "2:  ['Swiftpro, interior designing firm in Delhi', 'Interiors inspired by innovation.']\n",
            "1:  ['Lakeshore Designs, firm in Canada', 'A reflection of you.']\n",
            "2:  ['Lakeshore Designs, firm in Canada', 'A reflection of you.']\n",
            "1:  ['Elements Interior Design Studio', 'Enhance your home... Enhance your life...']\n",
            "2:  ['Elements Interior Design Studio', 'Enhance your home... Enhance your life...']\n",
            "1:  ['The Interior Design Studio in Medina, Ohio', 'Bringing great design home.']\n",
            "2:  ['The Interior Design Studio in Medina, Ohio', 'Bringing great design home.']\n",
            "1:  ['AND Interior Design Studio', 'We design thoughtful, livable spaces.']\n",
            "2:  ['AND Interior Design Studio', 'We design thoughtful, livable spaces.']\n",
            "1:  ['Anita Thomas, interior designer in Wellington', 'Dream. Create. Live.']\n",
            "2:  ['Anita Thomas, interior designer in Wellington', 'Dream. Create. Live.']\n",
            "1:  ['Ara Design, interior design consultants', 'Design with distinction.']\n",
            "2:  ['Ara Design, interior design consultants', 'Design with distinction.']\n",
            "1:  ['FAB Interiors', 'Innovative ideas, stylish designs.']\n",
            "2:  ['FAB Interiors', 'Innovative ideas, stylish designs.']\n",
            "1:  ['Jaimie K Designs', 'Distinctive designs for distinctive interiors.']\n",
            "2:  ['Jaimie K Designs', 'Distinctive designs for distinctive interiors.']\n",
            "1:  ['Anita Brown Design Studio, 3D visualization', 'Design without limits, creativity guaranteed.']\n",
            "2:  ['Anita Brown Design Studio, 3D visualization', 'Design without limits, creativity guaranteed.']\n",
            "1:  ['Nuance Designs, home renovations company in Johannesburg', 'That subtle degree of difference.']\n",
            "2:  ['Nuance Designs, home renovations company in Johannesburg', 'That subtle degree of difference.']\n",
            "1:  ['MJM Design Company in St. Charles', 'Finding you in every detail.']\n",
            "2:  ['MJM Design Company in St. Charles', 'Finding you in every detail.']\n",
            "1:  ['Porter Design Company in Fair Haven', 'Get cozy with us.']\n",
            "2:  ['Porter Design Company in Fair Haven', 'Get cozy with us.']\n",
            "1:  ['Patricia Gray Inc.', 'Exceptional homes for exceptional people.']\n",
            "2:  ['Patricia Gray Inc.', 'Exceptional homes for exceptional people.']\n",
            "1:  ['John Darke Interiors in Tauranga', 'Anything but ordinary.']\n",
            "2:  ['John Darke Interiors in Tauranga', 'Anything but ordinary.']\n",
            "1:  ['Along Came Mary, interior design studio', 'Celebrating the individual with fine interior design.']\n",
            "2:  ['Along Came Mary, interior design studio', 'Celebrating the individual with fine interior design.']\n",
            "1:  ['Raid, brand of insecticides', 'Raid. Kills bugs dead.']\n",
            "2:  ['Raid, brand of insecticides', 'Raid. Kills bugs dead.']\n",
            "1:  ['Raid Ant Baits', 'Kills ants dead.']\n",
            "2:  ['Raid Ant Baits', 'Kills ants dead.']\n",
            "1:  ['Raid Ant & Roach Killer', 'Kills bugs & germs dead.']\n",
            "2:  ['Raid Ant & Roach Killer', 'Kills bugs & germs dead.']\n",
            "1:  ['All Out, mosquito repellents in India', 'Kills bugs dead. Protects your family.']\n",
            "2:  ['All Out, mosquito repellents in India', 'Kills bugs dead. Protects your family.']\n",
            "1:  ['Repel Insect Repellents', 'Get out there.']\n",
            "2:  ['Repel Insect Repellents', 'Get out there.']\n",
            "1:  ['Sawyer Insect Repellents', 'We keep you outdoors.']\n",
            "2:  ['Sawyer Insect Repellents', 'We keep you outdoors.']\n",
            "1:  ['Sawyer Insect Repellents', 'No ticks. No mosquitoes. Simply better.']\n",
            "2:  ['Sawyer Insect Repellents', 'No ticks. No mosquitoes. Simply better.']\n",
            "1:  ['Sunsect Insect Repellent + Sunscreen', \"It's all you'll ever need...\"]\n",
            "2:  ['Sunsect Insect Repellent + Sunscreen', \"It's all you'll ever need...\"]\n",
            "1:  ['Off! Insect Repellents', 'Keeps bugs Off!']\n",
            "2:  ['Off! Insect Repellents', 'Keeps bugs Off!']\n",
            "1:  ['Off! Insect Repellents', 'Off! It works!']\n",
            "2:  ['Off! Insect Repellents', 'Off! It works!']\n",
            "1:  ['Off! Insect Repellents', 'Keeps bugs away from you.']\n",
            "2:  ['Off! Insect Repellents', 'Keeps bugs away from you.']\n",
            "1:  ['Black Flag, insecticide brand in the USA', 'Black Flag. Let it fly.']\n",
            "2:  ['Black Flag, insecticide brand in the USA', 'Black Flag. Let it fly.']\n",
            "1:  ['Black Flag, insecticide brand in the USA', 'The baddest Black Flag ever!']\n",
            "2:  ['Black Flag, insecticide brand in the USA', 'The baddest Black Flag ever!']\n",
            "1:  ['Black Flag, insecticide brand in the USA', 'Control your world.']\n",
            "2:  ['Black Flag, insecticide brand in the USA', 'Control your world.']\n",
            "1:  ['Black Flag Roach Motel Trap', \"Roaches check in but they don't check out!\"]\n",
            "2:  ['Black Flag Roach Motel Trap', \"Roaches check in but they don't check out!\"]\n",
            "1:  ['Autan Insect Repellent', 'Keeps bugs away, gently.']\n",
            "2:  ['Autan Insect Repellent', 'Keeps bugs away, gently.']\n",
            "1:  ['Autan Insect Repellent', 'Autan. You love it. Mossies hate it.']\n",
            "2:  ['Autan Insect Repellent', 'Autan. You love it. Mossies hate it.']\n",
            "1:  ['Mosi-guard Natural, mosquito repellent', 'Naturally better than the alternative.']\n",
            "2:  ['Mosi-guard Natural, mosquito repellent', 'Naturally better than the alternative.']\n",
            "1:  ['Good Knight Naturals, mosquito repellent cream', 'Live free.']\n",
            "2:  ['Good Knight Naturals, mosquito repellent cream', 'Live free.']\n",
            "1:  ['Jungle Formula Insect Repellent', \"It's not just for the jungle.\"]\n",
            "2:  ['Jungle Formula Insect Repellent', \"It's not just for the jungle.\"]\n",
            "1:  ['Jungle Formula Insect Repellent', 'Keeps biting insects at bay.']\n",
            "2:  ['Jungle Formula Insect Repellent', 'Keeps biting insects at bay.']\n",
            "1:  ['Mosquito Magnet, mosquito control products', 'Put mosquitoes in their place.']\n",
            "2:  ['Mosquito Magnet, mosquito control products', 'Put mosquitoes in their place.']\n",
            "1:  ['Mosquito Magnet, mosquito control products', 'Take back your yard.']\n",
            "2:  ['Mosquito Magnet, mosquito control products', 'Take back your yard.']\n",
            "1:  ['Mega-Catch Mosquito Traps', 'The ultimate mosquito trap.']\n",
            "2:  ['Mega-Catch Mosquito Traps', 'The ultimate mosquito trap.']\n",
            "1:  ['RID Medicated Insect Repellent', 'Nothing comes close.']\n",
            "2:  ['RID Medicated Insect Repellent', 'Nothing comes close.']\n",
            "1:  ['Mortein, household insecticides in Australia', 'More smart. More safe. Mortein.']\n",
            "2:  ['Mortein, household insecticides in Australia', 'More smart. More safe. Mortein.']\n",
            "1:  ['Spectracide, products for outdoor insect and weed control', 'Make the smart choice.']\n",
            "2:  ['Spectracide, products for outdoor insect and weed control', 'Make the smart choice.']\n",
            "1:  ['Spectracide Triazicide Insect Killer', \"Bugs can't hide from Spectracide.\"]\n",
            "2:  ['Spectracide Triazicide Insect Killer', \"Bugs can't hide from Spectracide.\"]\n",
            "1:  ['Flit, brand of insecticide against mosquitoes', 'Quick, Henry, the Flit!']\n",
            "2:  ['Flit, brand of insecticide against mosquitoes', 'Quick, Henry, the Flit!']\n",
            "1:  ['Flit, brand of insecticide against mosquitoes', \"Don't get bit... Get Flit.\"]\n",
            "2:  ['Flit, brand of insecticide against mosquitoes', \"Don't get bit... Get Flit.\"]\n",
            "1:  ['Baygon, brand of bug sprays, mosquito coils and baits', 'The power is yours.']\n",
            "2:  ['Baygon, brand of bug sprays, mosquito coils and baits', 'The power is yours.']\n",
            "1:  ['Baygon, brand of bug sprays, mosquito coils and baits', \"If it's Baygon it works.\"]\n",
            "2:  ['Baygon, brand of bug sprays, mosquito coils and baits', \"If it's Baygon it works.\"]\n",
            "1:  ['Cutter Insect Repellents', 'Incredibly effective.']\n",
            "2:  ['Cutter Insect Repellents', 'Incredibly effective.']\n",
            "1:  ['Revenge, sprays and fly catchers', 'Got pests? Get Revenge!']\n",
            "2:  ['Revenge, sprays and fly catchers', 'Got pests? Get Revenge!']\n",
            "1:  ['Casper Mosquito Coil', 'Assured protection every night.']\n",
            "2:  ['Casper Mosquito Coil', 'Assured protection every night.']\n",
            "1:  ['Mad 4 My Dog Training', 'Positive dog solutions.']\n",
            "2:  ['Mad 4 My Dog Training', 'Positive dog solutions.']\n",
            "1:  ['Take The Lead Dog Training Ltd.', 'Behaviour for life.']\n",
            "2:  ['Take The Lead Dog Training Ltd.', 'Behaviour for life.']\n",
            "1:  ['Speaking Dog Training Company', 'When dogs speak, we listen.']\n",
            "2:  ['Speaking Dog Training Company', 'When dogs speak, we listen.']\n",
            "1:  ['Muttamorphosis, dog trainers in Newcastle', 'Notice the change in your dog.']\n",
            "2:  ['Muttamorphosis, dog trainers in Newcastle', 'Notice the change in your dog.']\n",
            "1:  ['Kamal Fernandez, dog trainer in London', 'Where every dog has its day.']\n",
            "2:  ['Kamal Fernandez, dog trainer in London', 'Where every dog has its day.']\n",
            "1:  ['Partners Dog Training School', 'Send your dog to school.']\n",
            "2:  ['Partners Dog Training School', 'Send your dog to school.']\n",
            "1:  ['Partners Dog Training School', 'Where good dogs learn to be great.']\n",
            "2:  ['Partners Dog Training School', 'Where good dogs learn to be great.']\n",
            "1:  ['Partners Dog Training School', 'Let us train your dog to be happy.']\n",
            "2:  ['Partners Dog Training School', 'Let us train your dog to be happy.']\n",
            "1:  ['DueNorth Dog Training', 'Always the right direction.']\n",
            "2:  ['DueNorth Dog Training', 'Always the right direction.']\n",
            "1:  ['Family Dog Training in Hudson', 'Because they are part of our families.']\n",
            "2:  ['Family Dog Training in Hudson', 'Because they are part of our families.']\n",
            "1:  ['The Dog Training Co. in Arizona', 'Train your dog without compulsion or punishment.']\n",
            "2:  ['The Dog Training Co. in Arizona', 'Train your dog without compulsion or punishment.']\n",
            "1:  ['AllBreeds Canine Training Center in Pelham', 'A well-behaved dog is a welcome dog!']\n",
            "2:  ['AllBreeds Canine Training Center in Pelham', 'A well-behaved dog is a welcome dog!']\n",
            "1:  ['Granite State Dog Training Center', 'Big or small, we train them all!']\n",
            "2:  ['Granite State Dog Training Center', 'Big or small, we train them all!']\n",
            "1:  ['Sheps Dog Training Centre', 'Get the results you always wanted.']\n",
            "2:  ['Sheps Dog Training Centre', 'Get the results you always wanted.']\n",
            "1:  ['Tails-U-Win! Dog Training Center', 'Positive training with positive results.']\n",
            "2:  ['Tails-U-Win! Dog Training Center', 'Positive training with positive results.']\n",
            "1:  ['Good Boy Dog School', 'Positive about dogs, positive about people.']\n",
            "2:  ['Good Boy Dog School', 'Positive about dogs, positive about people.']\n",
            "1:  ['Communicanine, dog training classes and lessons', 'Connecting dogs and people.']\n",
            "2:  ['Communicanine, dog training classes and lessons', 'Connecting dogs and people.']\n",
            "1:  ['Off Leash Dog Training in Charlotte', 'Our dogs are family.']\n",
            "2:  ['Off Leash Dog Training in Charlotte', 'Our dogs are family.']\n",
            "1:  ['Gigi Moss Dog Training', 'Gentle, modern training for dogs and their people.']\n",
            "2:  ['Gigi Moss Dog Training', 'Gentle, modern training for dogs and their people.']\n",
            "1:  ['PAW Dog Training', 'Problem? No problem!']\n",
            "2:  ['PAW Dog Training', 'Problem? No problem!']\n",
            "1:  ['Side Kick Dog Training in Springfield', 'Your perfect partner in training.']\n",
            "2:  ['Side Kick Dog Training in Springfield', 'Your perfect partner in training.']\n",
            "1:  ['Oriole Dog Training Club', 'Come and sit. Stay and play.']\n",
            "2:  ['Oriole Dog Training Club', 'Come and sit. Stay and play.']\n",
            "1:  ['Ottawa Canine School', 'Come. Sit. Stay!']\n",
            "2:  ['Ottawa Canine School', 'Come. Sit. Stay!']\n",
            "1:  ['Clermont County Dog Training Club', 'A great place to train your dog!']\n",
            "2:  ['Clermont County Dog Training Club', 'A great place to train your dog!']\n",
            "1:  ['DogStar Activity Center in Acton', 'Where your dog can become a star.']\n",
            "2:  ['DogStar Activity Center in Acton', 'Where your dog can become a star.']\n",
            "1:  ['Rescue Me Canine Training', 'Training for dogs - solutions for owners.']\n",
            "2:  ['Rescue Me Canine Training', 'Training for dogs - solutions for owners.']\n",
            "1:  ['Smarty Paws Canine Coaching', 'A positive training experience in a fun environment.']\n",
            "2:  ['Smarty Paws Canine Coaching', 'A positive training experience in a fun environment.']\n",
            "1:  ['Ladydrive Driving School in Sussex', 'Just for women Just for you.']\n",
            "2:  ['Ladydrive Driving School in Sussex', 'Just for women Just for you.']\n",
            "1:  ['Lady Drive, female driving school in Grimsby, UK', 'Lady instructors for lady drivers.']\n",
            "2:  ['Lady Drive, female driving school in Grimsby, UK', 'Lady instructors for lady drivers.']\n",
            "1:  ['Airport Driving School, Ireland', \"Ireland's most successful driving school.\"]\n",
            "2:  ['Airport Driving School, Ireland', \"Ireland's most successful driving school.\"]\n",
            "1:  ['Go-Green Driving School in Castro Valley, CA', 'Go-safe. Go-Green.']\n",
            "2:  ['Go-Green Driving School in Castro Valley, CA', 'Go-safe. Go-Green.']\n",
            "1:  ['Go Green Driving School in New York', 'On your way.']\n",
            "2:  ['Go Green Driving School in New York', 'On your way.']\n",
            "1:  [\"Glenn's Driving School in Edmonton\", 'Where our customers become our friends.']\n",
            "2:  [\"Glenn's Driving School in Edmonton\", 'Where our customers become our friends.']\n",
            "1:  ['Skip Barber Racing School', 'Teaching you to take control.']\n",
            "2:  ['Skip Barber Racing School', 'Teaching you to take control.']\n",
            "1:  ['BSM, British School of Motoring', 'BSM. Life begins at 17.']\n",
            "2:  ['BSM, British School of Motoring', 'BSM. Life begins at 17.']\n",
            "1:  ['BSM, British School of Motoring', 'Because your success matters.']\n",
            "2:  ['BSM, British School of Motoring', 'Because your success matters.']\n",
            "1:  ['BSM, British School of Motoring', 'The best start in motoring.']\n",
            "2:  ['BSM, British School of Motoring', 'The best start in motoring.']\n",
            "1:  ['Irish School of Motoring', \"Ireland's No.1 driving school.\"]\n",
            "2:  ['Irish School of Motoring', \"Ireland's No.1 driving school.\"]\n",
            "1:  ['AA Driving Academy in Cape Town', 'Put the key in the ignition.']\n",
            "2:  ['AA Driving Academy in Cape Town', 'Put the key in the ignition.']\n",
            "1:  ['Fergusson Driving School in Christchurch, New Zealand', 'The cool school!']\n",
            "2:  ['Fergusson Driving School in Christchurch, New Zealand', 'The cool school!']\n",
            "1:  ['Warkworth Driving Academy', 'All your car and motorbike training needs!']\n",
            "2:  ['Warkworth Driving Academy', 'All your car and motorbike training needs!']\n",
            "1:  ['My Driving School in Pretoria, South Africa', \"We don't follow. We lead.\"]\n",
            "2:  ['My Driving School in Pretoria, South Africa', \"We don't follow. We lead.\"]\n",
            "1:  ['Southern Suburbs Driving Academy, Cape Town', 'Coaching with confidence.']\n",
            "2:  ['Southern Suburbs Driving Academy, Cape Town', 'Coaching with confidence.']\n",
            "1:  ['Good News Driving School in Bath, PA', 'Are you tired of walking? Learn to drive now!']\n",
            "2:  ['Good News Driving School in Bath, PA', 'Are you tired of walking? Learn to drive now!']\n",
            "1:  ['Blue Water Driving Academy in Ontario', 'Learn to drive from the professionals.']\n",
            "2:  ['Blue Water Driving Academy in Ontario', 'Learn to drive from the professionals.']\n",
            "1:  ['V.I.P. Driving School in Melbourne', 'Time to learn with the best.']\n",
            "2:  ['V.I.P. Driving School in Melbourne', 'Time to learn with the best.']\n",
            "1:  ['Acclaim Driving School, England', 'With you all the way.']\n",
            "2:  ['Acclaim Driving School, England', 'With you all the way.']\n",
            "1:  ['Youngs Driving Academy in Piedmont, South Carolina', 'Your road to driving success.']\n",
            "2:  ['Youngs Driving Academy in Piedmont, South Carolina', 'Your road to driving success.']\n",
            "1:  ['Pass Driving School in Kent, UK', 'More than just driving instructors.']\n",
            "2:  ['Pass Driving School in Kent, UK', 'More than just driving instructors.']\n",
            "1:  ['Lime Driving School, Australia', 'Your local driving school.']\n",
            "2:  ['Lime Driving School, Australia', 'Your local driving school.']\n",
            "1:  ['Compass Driving Academy in Richland, WA', 'Steering you in the right direction.']\n",
            "2:  ['Compass Driving Academy in Richland, WA', 'Steering you in the right direction.']\n",
            "1:  [\"Ray's Driving School\", \"We won't steer you wrong.\"]\n",
            "2:  [\"Ray's Driving School\", \"We won't steer you wrong.\"]\n",
            "1:  ['Canada Trust Driving School, driving courses for all types of vehicles', 'Learn the right way, right away.']\n",
            "2:  ['Canada Trust Driving School, driving courses for all types of vehicles', 'Learn the right way, right away.']\n",
            "1:  ['Dieppe Driving School, Canada', 'We drive, to arrive.']\n",
            "2:  ['Dieppe Driving School, Canada', 'We drive, to arrive.']\n",
            "1:  ['Driving School of North Texas, driving lessons for teens', 'Why trust your teens life to anyone else?']\n",
            "2:  ['Driving School of North Texas, driving lessons for teens', 'Why trust your teens life to anyone else?']\n",
            "1:  ['Wise Driving School in Bridgeport, Texas', 'Be a wise driver!']\n",
            "2:  ['Wise Driving School in Bridgeport, Texas', 'Be a wise driver!']\n",
            "1:  ['Signature Driving School in Embrun', 'Skills for life.']\n",
            "2:  ['Signature Driving School in Embrun', 'Skills for life.']\n",
            "1:  ['A+ Driving School, Minnesota', 'Preparing you for the highway of life.']\n",
            "2:  ['A+ Driving School, Minnesota', 'Preparing you for the highway of life.']\n",
            "1:  ['Smart Start Driving Academy in Gonzales, LA', 'Smart drivers start here.']\n",
            "2:  ['Smart Start Driving Academy in Gonzales, LA', 'Smart drivers start here.']\n",
            "1:  ['Carolina Footwear', 'Carolina. Built for Work.']\n",
            "2:  ['Carolina Footwear', 'Carolina. Built for Work.']\n",
            "1:  ['Earth shoes brand', 'Earth. Different. Like you.']\n",
            "2:  ['Earth shoes brand', 'Earth. Different. Like you.']\n",
            "1:  ['New Balance Athletic Shoe', 'There are two motivations in sports. Which is yours? For Love or Money?']\n",
            "2:  ['New Balance Athletic Shoe', 'There are two motivations in sports. Which is yours? For Love or Money?']\n",
            "1:  ['Ariat, boots for equestrian lifestyle', 'Ariat. Performance Is In Our Sole.']\n",
            "2:  ['Ariat, boots for equestrian lifestyle', 'Ariat. Performance Is In Our Sole.']\n",
            "1:  ['Bite Footwear brand for specific activities: golf, fishing', 'Bite. Equip Your Feet.']\n",
            "2:  ['Bite Footwear brand for specific activities: golf, fishing', 'Bite. Equip Your Feet.']\n",
            "1:  ['Bloch brand, dance footwear and bodywear', 'Professionals choose Bloch.']\n",
            "2:  ['Bloch brand, dance footwear and bodywear', 'Professionals choose Bloch.']\n",
            "1:  ['Merrell, outdoor and casual footwear', \"Merrell. Let's get outside.\"]\n",
            "2:  ['Merrell, outdoor and casual footwear', \"Merrell. Let's get outside.\"]\n",
            "1:  ['Mario Bruni, Italian brand', 'Mario Bruni. The World Finest Shoes.']\n",
            "2:  ['Mario Bruni, Italian brand', 'Mario Bruni. The World Finest Shoes.']\n",
            "1:  ['El Naturalista, Spanish natural shoes', 'El Naturalista. Walking through life.']\n",
            "2:  ['El Naturalista, Spanish natural shoes', 'El Naturalista. Walking through life.']\n",
            "1:  ['Bata footwear, Indian brand', 'Bata. The world at your feet.']\n",
            "2:  ['Bata footwear, Indian brand', 'Bata. The world at your feet.']\n",
            "1:  ['Meindl boots, Germany', 'Meindl. Shoes for Actives.']\n",
            "2:  ['Meindl boots, Germany', 'Meindl. Shoes for Actives.']\n",
            "1:  ['Meindl boots, Germany', 'Performance with comfort.']\n",
            "2:  ['Meindl boots, Germany', 'Performance with comfort.']\n",
            "1:  ['Lowa boots', 'Lowa. Simply more.']\n",
            "2:  ['Lowa boots', 'Lowa. Simply more.']\n",
            "1:  ['Hush Puppies casual shoes', 'Free to be casual.']\n",
            "2:  ['Hush Puppies casual shoes', 'Free to be casual.']\n",
            "1:  ['Hush Puppies casual shoes', 'Hush Puppies. Shoes you can live in.']\n",
            "2:  ['Hush Puppies casual shoes', 'Hush Puppies. Shoes you can live in.']\n",
            "1:  [\"Van Dal, women's shoes\", 'Van Dal. See how good they feel.']\n",
            "2:  [\"Van Dal, women's shoes\", 'Van Dal. See how good they feel.']\n",
            "1:  [\"Van Dal, women's shoes\", 'Almost a part of you.']\n",
            "2:  [\"Van Dal, women's shoes\", 'Almost a part of you.']\n",
            "1:  ['Feelmax footware', 'Feelmax. Take a natural step.']\n",
            "2:  ['Feelmax footware', 'Feelmax. Take a natural step.']\n",
            "1:  ['Disan central vacuum systems', 'At home, in a healthier world.']\n",
            "2:  ['Disan central vacuum systems', 'At home, in a healthier world.']\n",
            "1:  ['Beam Electrolux central vacuum systems', 'Enjoy the messy moments.']\n",
            "2:  ['Beam Electrolux central vacuum systems', 'Enjoy the messy moments.']\n",
            "1:  ['Beam Electrolux central vacuum systems', 'Cleaner, healthier living. Built in.']\n",
            "2:  ['Beam Electrolux central vacuum systems', 'Cleaner, healthier living. Built in.']\n",
            "1:  ['Beam Electrolux central vacuum systems', 'Superior cleaning, healthier living.']\n",
            "2:  ['Beam Electrolux central vacuum systems', 'Superior cleaning, healthier living.']\n",
            "1:  ['Beam Electrolux central vacuum systems', 'Powerful cleaning innovation.']\n",
            "2:  ['Beam Electrolux central vacuum systems', 'Powerful cleaning innovation.']\n",
            "1:  ['Vacuflo central vacuum systems', 'Clean starts here.']\n",
            "2:  ['Vacuflo central vacuum systems', 'Clean starts here.']\n",
            "1:  ['DrainVac central vacuum cleaners', 'We clean up!']\n",
            "2:  ['DrainVac central vacuum cleaners', 'We clean up!']\n",
            "1:  ['Duovac central vacuum cleaners', 'We vacuum, you breathe better.']\n",
            "2:  ['Duovac central vacuum cleaners', 'We vacuum, you breathe better.']\n",
            "1:  ['Easy-Flo central vacuum systems', 'A better way to clean your home.']\n",
            "2:  ['Easy-Flo central vacuum systems', 'A better way to clean your home.']\n",
            "1:  ['MD built-in central vacuum system', 'Be clean. Be done.']\n",
            "2:  ['MD built-in central vacuum system', 'Be clean. Be done.']\n",
            "1:  ['CycloVac central vacuums', 'Performance and innovation.']\n",
            "2:  ['CycloVac central vacuums', 'Performance and innovation.']\n",
            "1:  ['Element central vacuums', 'Clean. Healthy. Air.']\n",
            "2:  ['Element central vacuums', 'Clean. Healthy. Air.']\n",
            "1:  ['Husky central vacuums', 'Nothing escapes it.']\n",
            "2:  ['Husky central vacuums', 'Nothing escapes it.']\n",
            "1:  ['Sequoia built-in vacuum systems', 'No more heavy vacuums. No more hassle with a cord.']\n",
            "2:  ['Sequoia built-in vacuum systems', 'No more heavy vacuums. No more hassle with a cord.']\n",
            "1:  ['Aertecnica, brand of central vacuum cleaners', 'Think clean.']\n",
            "2:  ['Aertecnica, brand of central vacuum cleaners', 'Think clean.']\n",
            "1:  ['VacuMaid central vacuums', 'Because your family deserves a healthy home.']\n",
            "2:  ['VacuMaid central vacuums', 'Because your family deserves a healthy home.']\n",
            "1:  ['Vroom, retractable hoses for central vacuum cleaners', 'Zero to clean in 3 seconds.']\n",
            "2:  ['Vroom, retractable hoses for central vacuum cleaners', 'Zero to clean in 3 seconds.']\n",
            "1:  ['WallyFlex, auxiliary hose for central vacuum systems', 'Meet Wally, your new butler.']\n",
            "2:  ['WallyFlex, auxiliary hose for central vacuum systems', 'Meet Wally, your new butler.']\n",
            "1:  ['Air Wick air fresheners', 'Air Wick. Home is in the air.']\n",
            "2:  ['Air Wick air fresheners', 'Air Wick. Home is in the air.']\n",
            "1:  ['Air Wick air fresheners', 'The craft of fragrance.']\n",
            "2:  ['Air Wick air fresheners', 'The craft of fragrance.']\n",
            "1:  ['Air Wick air fresheners', 'Something in the Air Wick.']\n",
            "2:  ['Air Wick air fresheners', 'Something in the Air Wick.']\n",
            "1:  ['Air Wick air fresheners', \"It's good to be home.\"]\n",
            "2:  ['Air Wick air fresheners', \"It's good to be home.\"]\n",
            "1:  ['Air Wick Freshmatic Automatic Sprays', 'Set it to the rhythm of your home.']\n",
            "2:  ['Air Wick Freshmatic Automatic Sprays', 'Set it to the rhythm of your home.']\n",
            "1:  ['Renuzit Air Fresheners', 'Natural essence of nature.']\n",
            "2:  ['Renuzit Air Fresheners', 'Natural essence of nature.']\n",
            "1:  ['Renuzit Air Fresheners', 'The scent is all you notice.']\n",
            "2:  ['Renuzit Air Fresheners', 'The scent is all you notice.']\n",
            "1:  ['Renuzit Air Fresheners', 'Renuzit doozit.']\n",
            "2:  ['Renuzit Air Fresheners', 'Renuzit doozit.']\n",
            "1:  ['Renuzit Super Odor Neutralizer', 'The ultimate odor eliminator.']\n",
            "2:  ['Renuzit Super Odor Neutralizer', 'The ultimate odor eliminator.']\n",
            "1:  ['Poo-Pourri Toilet Deodorizer', 'Before-you-go toilet spray.']\n",
            "2:  ['Poo-Pourri Toilet Deodorizer', 'Before-you-go toilet spray.']\n",
            "1:  ['Glade Car Air Freshener', 'Your car smells bad?']\n",
            "2:  ['Glade Car Air Freshener', 'Your car smells bad?']\n",
            "1:  ['Glade Car Air Freshener', 'Breathing life into your car.']\n",
            "2:  ['Glade Car Air Freshener', 'Breathing life into your car.']\n",
            "1:  ['Glade air fresheners, scented candles', 'Open up and invite life in.']\n",
            "2:  ['Glade air fresheners, scented candles', 'Open up and invite life in.']\n",
            "1:  ['Glade air fresheners, scented candles', \"And yes, it's Glade.\"]\n",
            "2:  ['Glade air fresheners, scented candles', \"And yes, it's Glade.\"]\n",
            "1:  ['Glade air fresheners, scented candles', 'The joy of fragrance, fresh from Glade.']\n",
            "2:  ['Glade air fresheners, scented candles', 'The joy of fragrance, fresh from Glade.']\n",
            "1:  ['Glade air fresheners, scented candles', 'The welcoming scent of home.']\n",
            "2:  ['Glade air fresheners, scented candles', 'The welcoming scent of home.']\n",
            "1:  ['Glade air fresheners, scented candles', 'See it. Smell it. Love it.']\n",
            "2:  ['Glade air fresheners, scented candles', 'See it. Smell it. Love it.']\n",
            "1:  ['Glade air fresheners, scented candles', \"It's freshness to go!\"]\n",
            "2:  ['Glade air fresheners, scented candles', \"It's freshness to go!\"]\n",
            "1:  ['Glade air fresheners, scented candles', 'Create the mood with Glade.']\n",
            "2:  ['Glade air fresheners, scented candles', 'Create the mood with Glade.']\n",
            "1:  [\"Glade Touch'n Fresh Minispray\", 'Breathing life into your home.']\n",
            "2:  [\"Glade Touch'n Fresh Minispray\", 'Breathing life into your home.']\n",
            "1:  ['OdoBan Odor Eliminators', 'Make life fresh.']\n",
            "2:  ['OdoBan Odor Eliminators', 'Make life fresh.']\n",
            "1:  ['Oust Odour Eliminator', 'Do not just cover up bad odours. Get Oust!']\n",
            "2:  ['Oust Odour Eliminator', 'Do not just cover up bad odours. Get Oust!']\n",
            "1:  ['Oust Odour Eliminator', 'Get odors out with Oust.']\n",
            "2:  ['Oust Odour Eliminator', 'Get odors out with Oust.']\n",
            "1:  ['Oust Odour Eliminator', 'Oust them.']\n",
            "2:  ['Oust Odour Eliminator', 'Oust them.']\n",
            "1:  ['Aroma2Go USB Aroma Diffuser', 'Changing the way you freshen your space.']\n",
            "2:  ['Aroma2Go USB Aroma Diffuser', 'Changing the way you freshen your space.']\n",
            "1:  ['Aroma USB Fragrance Diffuser', 'Aromatherapy anywhere.']\n",
            "2:  ['Aroma USB Fragrance Diffuser', 'Aromatherapy anywhere.']\n",
            "1:  ['Casa & Perfume Air Freshener', 'Trust us, smell it!']\n",
            "2:  ['Casa & Perfume Air Freshener', 'Trust us, smell it!']\n",
            "1:  ['Sun Country Air Freshener', 'Made to work in your bathroom.']\n",
            "2:  ['Sun Country Air Freshener', 'Made to work in your bathroom.']\n",
            "1:  ['Sun Country Air Freshener', 'The great indoors.']\n",
            "2:  ['Sun Country Air Freshener', 'The great indoors.']\n",
            "1:  ['Wizard Air Freshener', 'Wizard freshens the air beautifully.']\n",
            "2:  ['Wizard Air Freshener', 'Wizard freshens the air beautifully.']\n",
            "1:  ['Alive and Shine Center, yoga studio in Bellevue', 'When you join a class, you join a family.']\n",
            "2:  ['Alive and Shine Center, yoga studio in Bellevue', 'When you join a class, you join a family.']\n",
            "1:  ['Alive and Shine Center, yoga studio in Bellevue', 'Real people. Real life. Real yoga.']\n",
            "2:  ['Alive and Shine Center, yoga studio in Bellevue', 'Real people. Real life. Real yoga.']\n",
            "1:  ['Piedmont Yoga Studio, Oakland', 'Yoga as a tool for life.']\n",
            "2:  ['Piedmont Yoga Studio, Oakland', 'Yoga as a tool for life.']\n",
            "1:  ['Boerne Yoga Center', 'Yoga for life.']\n",
            "2:  ['Boerne Yoga Center', 'Yoga for life.']\n",
            "1:  ['Arkansas Yoga Center', 'Amazing space. Transform at your pace.']\n",
            "2:  ['Arkansas Yoga Center', 'Amazing space. Transform at your pace.']\n",
            "1:  ['Shine Yoga Studio, Cincinnati', 'The little yoga studio with a big heart!']\n",
            "2:  ['Shine Yoga Studio, Cincinnati', 'The little yoga studio with a big heart!']\n",
            "1:  ['Big Bend Yoga Center, Webster Groves', 'A place to center yourself.']\n",
            "2:  ['Big Bend Yoga Center, Webster Groves', 'A place to center yourself.']\n",
            "1:  ['Chi Yoga Center in Wilton Manors', 'Harmonize your body, mind and inner self.']\n",
            "2:  ['Chi Yoga Center in Wilton Manors', 'Harmonize your body, mind and inner self.']\n",
            "1:  ['Root Yoga Center, Denver', 'Feeling is living.']\n",
            "2:  ['Root Yoga Center, Denver', 'Feeling is living.']\n",
            "1:  ['Telluride Yoga Center', 'Live in the moment.']\n",
            "2:  ['Telluride Yoga Center', 'Live in the moment.']\n",
            "1:  ['Yoga Center of Collinsville', 'Coolest yoga in the coolest town.']\n",
            "2:  ['Yoga Center of Collinsville', 'Coolest yoga in the coolest town.']\n",
            "1:  ['Youphoria, yoga classes and yoga teacher training in Foster', 'Inspiration for joyful living.']\n",
            "2:  ['Youphoria, yoga classes and yoga teacher training in Foster', 'Inspiration for joyful living.']\n",
            "1:  ['Atman Yoga Studio', 'Envision your highest form of self!']\n",
            "2:  ['Atman Yoga Studio', 'Envision your highest form of self!']\n",
            "1:  ['Barefoot Yoga Studio', 'Yoga. For all sizes. For all shapes.']\n",
            "2:  ['Barefoot Yoga Studio', 'Yoga. For all sizes. For all shapes.']\n",
            "1:  ['Westfield Yoga Center', 'Healthy body, clear mind, peaceful spirit.']\n",
            "2:  ['Westfield Yoga Center', 'Healthy body, clear mind, peaceful spirit.']\n",
            "1:  ['Balance Yoga Center in Redding', 'Create healthy change through body, mind and spirit.']\n",
            "2:  ['Balance Yoga Center in Redding', 'Create healthy change through body, mind and spirit.']\n",
            "1:  ['Quantum, brand of electric and manual wheelchairs', 'Quantum. Life beyond limits.']\n",
            "2:  ['Quantum, brand of electric and manual wheelchairs', 'Quantum. Life beyond limits.']\n",
            "1:  ['Permobil power wheelchairs', 'Permobil. The power of mobility.']\n",
            "2:  ['Permobil power wheelchairs', 'Permobil. The power of mobility.']\n",
            "1:  ['Quickie wheelchairs for adults', 'Quickie. Live without limits.']\n",
            "2:  ['Quickie wheelchairs for adults', 'Quickie. Live without limits.']\n",
            "1:  ['Quickie wheelchairs for adults', 'Nothing beats a Quickie.']\n",
            "2:  ['Quickie wheelchairs for adults', 'Nothing beats a Quickie.']\n",
            "1:  ['Quickie wheelchairs for adults', 'Added value with every turn.']\n",
            "2:  ['Quickie wheelchairs for adults', 'Added value with every turn.']\n",
            "1:  ['Lomax steel manual wheelchairs', 'See the person, not the chair.']\n",
            "2:  ['Lomax steel manual wheelchairs', 'See the person, not the chair.']\n",
            "1:  ['Lomax steel manual wheelchairs', 'Lomax. Active daily living.']\n",
            "2:  ['Lomax steel manual wheelchairs', 'Lomax. Active daily living.']\n",
            "1:  ['Invacare, brand of wheelchairs, mobility scooters and other medical equipment', 'Invacare. Yes, you can.']\n",
            "2:  ['Invacare, brand of wheelchairs, mobility scooters and other medical equipment', 'Invacare. Yes, you can.']\n",
            "1:  ['Pride, manufacturer of power and lift chairs, mobility scooters', 'Live your best.']\n",
            "2:  ['Pride, manufacturer of power and lift chairs, mobility scooters', 'Live your best.']\n",
            "1:  ['Hoveround, power wheelchairs and mobility scooters', 'Personal mobility solutions.']\n",
            "2:  ['Hoveround, power wheelchairs and mobility scooters', 'Personal mobility solutions.']\n",
            "1:  ['Harmar Mobility, manufacturer of lifts for wheelchairs and scooters', 'Understand the difference.']\n",
            "2:  ['Harmar Mobility, manufacturer of lifts for wheelchairs and scooters', 'Understand the difference.']\n",
            "1:  ['LEVO standing wheelchairs', 'The experts in standing.']\n",
            "2:  ['LEVO standing wheelchairs', 'The experts in standing.']\n",
            "1:  ['Meyra, German wheelchair manufacturer', 'Meyra. We move people.']\n",
            "2:  ['Meyra, German wheelchair manufacturer', 'Meyra. We move people.']\n",
            "1:  ['Merits, power and manual wheelchairs, home care beds', 'Merits. With you for life.']\n",
            "2:  ['Merits, power and manual wheelchairs, home care beds', 'Merits. With you for life.']\n",
            "1:  ['Kuschall wheelchairs', 'Kuschall. Designed for life.']\n",
            "2:  ['Kuschall wheelchairs', 'Kuschall. Designed for life.']\n",
            "1:  ['Etac wheelchairs', 'Etac. Creating possibilities.']\n",
            "2:  ['Etac wheelchairs', 'Etac. Creating possibilities.']\n",
            "1:  ['Balder power wheelchairs', 'Be moved.']\n",
            "2:  ['Balder power wheelchairs', 'Be moved.']\n",
            "1:  ['R82, brand of wheelchairs, seats and appliances for disabled children', 'Nothing compares to a smile!']\n",
            "2:  ['R82, brand of wheelchairs, seats and appliances for disabled children', 'Nothing compares to a smile!']\n",
            "1:  ['Capland Speech Therapy Center', \"Don't let your thoughts go unspoken.\"]\n",
            "2:  ['Capland Speech Therapy Center', \"Don't let your thoughts go unspoken.\"]\n",
            "1:  ['Leaps & Bounds Speech Pathology', 'Because you want the best for your child.']\n",
            "2:  ['Leaps & Bounds Speech Pathology', 'Because you want the best for your child.']\n",
            "1:  ['Teaneck Speech and Language Center', 'Creating pathways to better communication.']\n",
            "2:  ['Teaneck Speech and Language Center', 'Creating pathways to better communication.']\n",
            "1:  ['Kausar H. Zafar, speech therapist in Houston', 'Committed to results.']\n",
            "2:  ['Kausar H. Zafar, speech therapist in Houston', 'Committed to results.']\n",
            "1:  ['At Home Speech Therapy in Greater Vancouver', 'Open doors to communication.']\n",
            "2:  ['At Home Speech Therapy in Greater Vancouver', 'Open doors to communication.']\n",
            "1:  ['Center for Speech and Language Disorders in Lombard', 'Therapy that makes a difference.']\n",
            "2:  ['Center for Speech and Language Disorders in Lombard', 'Therapy that makes a difference.']\n",
            "1:  ['Small Talk Speech and Language Therapy', 'Helping children reach their true potential.']\n",
            "2:  ['Small Talk Speech and Language Therapy', 'Helping children reach their true potential.']\n",
            "1:  ['Greater Atlanta Speech and Language Clinics', 'Working together for a greater tomorrow.']\n",
            "2:  ['Greater Atlanta Speech and Language Clinics', 'Working together for a greater tomorrow.']\n",
            "1:  ['The Speech Therapy Centre', 'Communicate with confidence.']\n",
            "2:  ['The Speech Therapy Centre', 'Communicate with confidence.']\n",
            "1:  ['The TalkSpot Speech Therapy Center for Adults in Westport', 'Live. Work. Play. Communicate.']\n",
            "2:  ['The TalkSpot Speech Therapy Center for Adults in Westport', 'Live. Work. Play. Communicate.']\n",
            "1:  ['Glenda Browne Speech Pathology', \"Investing in our kids' future.\"]\n",
            "2:  ['Glenda Browne Speech Pathology', \"Investing in our kids' future.\"]\n",
            "1:  ['Tanya Boyd Speech Pathology', 'Building confidence through language.']\n",
            "2:  ['Tanya Boyd Speech Pathology', 'Building confidence through language.']\n",
            "1:  ['Spectrum Speech Pathology', 'Opening the world of communication.']\n",
            "2:  ['Spectrum Speech Pathology', 'Opening the world of communication.']\n",
            "1:  ['The Little Bookworm Speech Pathology', 'Enhancing speech, language and literacy.']\n",
            "2:  ['The Little Bookworm Speech Pathology', 'Enhancing speech, language and literacy.']\n",
            "1:  ['Life Spirit Speech Pathology', 'We lift the life spirit of those we serve!']\n",
            "2:  ['Life Spirit Speech Pathology', 'We lift the life spirit of those we serve!']\n",
            "1:  ['City Sounds of NY, speech-language pathology center', \"Dedicated to making a child's voice heard.\"]\n",
            "2:  ['City Sounds of NY, speech-language pathology center', \"Dedicated to making a child's voice heard.\"]\n",
            "1:  ['Speech Pathways, private speech-language pathology practice', 'Your path to clear communication.']\n",
            "2:  ['Speech Pathways, private speech-language pathology practice', 'Your path to clear communication.']\n",
            "1:  ['Shelley Ortved, speech pathologist', 'Providing the tools to build better communication.']\n",
            "2:  ['Shelley Ortved, speech pathologist', 'Providing the tools to build better communication.']\n",
            "1:  ['Alfano Center, speech and occupational therapy in Miami', 'A new beginning.']\n",
            "2:  ['Alfano Center, speech and occupational therapy in Miami', 'A new beginning.']\n",
            "1:  ['Lowry Speech & Occupational Therapy in Denver', 'Is your child ready for success?']\n",
            "2:  ['Lowry Speech & Occupational Therapy in Denver', 'Is your child ready for success?']\n",
            "1:  ['Telethon Speech and Hearing Centre', \"Releasing children's potential.\"]\n",
            "2:  ['Telethon Speech and Hearing Centre', \"Releasing children's potential.\"]\n",
            "1:  ['South Australia Speech and Hearing Centre', 'Hearing you loud and clear.']\n",
            "2:  ['South Australia Speech and Hearing Centre', 'Hearing you loud and clear.']\n",
            "1:  ['Ohio University Hearing, Speech & Language Clinic', 'The promise of excellent care.']\n",
            "2:  ['Ohio University Hearing, Speech & Language Clinic', 'The promise of excellent care.']\n",
            "1:  ['Talk Play Grow, speech therapy for kids', \"Transforming children's speech and language.\"]\n",
            "2:  ['Talk Play Grow, speech therapy for kids', \"Transforming children's speech and language.\"]\n",
            "1:  [\"Surrey's Little Talkers, speech and language therapy services\", \"Committed to unlocking children's communication.\"]\n",
            "2:  [\"Surrey's Little Talkers, speech and language therapy services\", \"Committed to unlocking children's communication.\"]\n",
            "1:  ['Vitality Wellness Center in Winnipeg', 'Relax. Recharge. Rejuvenate.']\n",
            "2:  ['Vitality Wellness Center in Winnipeg', 'Relax. Recharge. Rejuvenate.']\n",
            "1:  ['Ponte Vedra Wellness Center', 'We keep your spine in align!']\n",
            "2:  ['Ponte Vedra Wellness Center', 'We keep your spine in align!']\n",
            "1:  ['Holze Wellness Center', 'Every journey begins with the first step.']\n",
            "2:  ['Holze Wellness Center', 'Every journey begins with the first step.']\n",
            "1:  ['Alchemy Wellness Center', 'Better living through cleansing.']\n",
            "2:  ['Alchemy Wellness Center', 'Better living through cleansing.']\n",
            "1:  ['Biomax Wellness Centre, Australia', 'Get healthy, stay healthy.']\n",
            "2:  ['Biomax Wellness Centre, Australia', 'Get healthy, stay healthy.']\n",
            "1:  ['Wantirna Wellness Centre', 'Allow yourself to \"just be\".']\n",
            "2:  ['Wantirna Wellness Centre', 'Allow yourself to \"just be\".']\n",
            "1:  ['Southwest Wellness Centre', 'From illness to wellness.']\n",
            "2:  ['Southwest Wellness Centre', 'From illness to wellness.']\n",
            "1:  ['Chester Wellness Centre', 'Your mind. Your body. Your choice.']\n",
            "2:  ['Chester Wellness Centre', 'Your mind. Your body. Your choice.']\n",
            "1:  ['The Wellness Centre in Northallerton', 'Working in harmony.']\n",
            "2:  ['The Wellness Centre in Northallerton', 'Working in harmony.']\n",
            "1:  ['Karma Wellness Studio in Cincinnati', 'Every body could use some good Karma.']\n",
            "2:  ['Karma Wellness Studio in Cincinnati', 'Every body could use some good Karma.']\n",
            "1:  ['Glow, holistic wellness studio', 'Grow life. Own wellness.']\n",
            "2:  ['Glow, holistic wellness studio', 'Grow life. Own wellness.']\n",
            "1:  ['Atlas Wellness Centre in Bedford', 'Enjoy vibrant health for life.']\n",
            "2:  ['Atlas Wellness Centre in Bedford', 'Enjoy vibrant health for life.']\n",
            "1:  ['Rosedale Wellness Centre in Toronto', 'Many disciplines, one philosophy.']\n",
            "2:  ['Rosedale Wellness Centre in Toronto', 'Many disciplines, one philosophy.']\n",
            "1:  ['Life Total Wellness Centre', 'Live life. Love life.']\n",
            "2:  ['Life Total Wellness Centre', 'Live life. Love life.']\n",
            "1:  ['Saskatoon Wellness Centre', 'Live well, love life.']\n",
            "2:  ['Saskatoon Wellness Centre', 'Live well, love life.']\n",
            "1:  ['Absolute Life Wellness Center in Austin', 'One patient. Multiple solutions.']\n",
            "2:  ['Absolute Life Wellness Center in Austin', 'One patient. Multiple solutions.']\n",
            "1:  ['Advanced Wellness Centre in Richmond', 'A world of health under one roof.']\n",
            "2:  ['Advanced Wellness Centre in Richmond', 'A world of health under one roof.']\n",
            "1:  ['Family Wellness Center in Plainview', 'Helping heal your body and your life.']\n",
            "2:  ['Family Wellness Center in Plainview', 'Helping heal your body and your life.']\n",
            "1:  ['Northport Wellness Center', 'Your path to optimal health.']\n",
            "2:  ['Northport Wellness Center', 'Your path to optimal health.']\n",
            "1:  ['Optimized Wellness Center in Alameda', 'For your best self.']\n",
            "2:  ['Optimized Wellness Center in Alameda', 'For your best self.']\n",
            "1:  ['PCC Community Wellness Center in Oak Park', 'Care centered around you.']\n",
            "2:  ['PCC Community Wellness Center in Oak Park', 'Care centered around you.']\n",
            "1:  ['Back In Balance Wellness Center in Bangor', 'Healthy by choice, not by chance.']\n",
            "2:  ['Back In Balance Wellness Center in Bangor', 'Healthy by choice, not by chance.']\n",
            "1:  ['Canberra Wellness Centre', 'Your energy restoration specialists.']\n",
            "2:  ['Canberra Wellness Centre', 'Your energy restoration specialists.']\n",
            "1:  ['A Family Practice & Wellness Center in Cartersville', 'Discover what total wellness can do for you.']\n",
            "2:  ['A Family Practice & Wellness Center in Cartersville', 'Discover what total wellness can do for you.']\n",
            "1:  ['Absolute Wellness Center in Brandon', 'Where your wellness is our absolute concern.']\n",
            "2:  ['Absolute Wellness Center in Brandon', 'Where your wellness is our absolute concern.']\n",
            "1:  ['MyLooks Plastic Surgery', 'Love the new you.']\n",
            "2:  ['MyLooks Plastic Surgery', 'Love the new you.']\n",
            "1:  ['The Cosmetic Surgery Clinic in Bangkok, Thailand', \"Making what's good even better.\"]\n",
            "2:  ['The Cosmetic Surgery Clinic in Bangkok, Thailand', \"Making what's good even better.\"]\n",
            "1:  ['Plaza, plastic surgery clinic in Tokyo, Japan', 'Discover a new you.']\n",
            "2:  ['Plaza, plastic surgery clinic in Tokyo, Japan', 'Discover a new you.']\n",
            "1:  ['Mississauga Cosmetic Surgery Clinic', 'A more natural younger you.']\n",
            "2:  ['Mississauga Cosmetic Surgery Clinic', 'A more natural younger you.']\n",
            "1:  ['The Plastic Surgery Center in Shreveport', 'Minimize age. Maximize beauty.']\n",
            "2:  ['The Plastic Surgery Center in Shreveport', 'Minimize age. Maximize beauty.']\n",
            "1:  ['Canova Medical, cosmetic surgery & skin treatments', 'The Italian way to beauty.']\n",
            "2:  ['Canova Medical, cosmetic surgery & skin treatments', 'The Italian way to beauty.']\n",
            "1:  ['Canova Medical, cosmetic surgery & skin treatments', 'The Italian way to beauty. Closer than you think.']\n",
            "2:  ['Canova Medical, cosmetic surgery & skin treatments', 'The Italian way to beauty. Closer than you think.']\n",
            "1:  ['The Cosmetic Surgical Center of El Cerrito', 'Look better. Feel better. Now!']\n",
            "2:  ['The Cosmetic Surgical Center of El Cerrito', 'Look better. Feel better. Now!']\n",
            "1:  ['The Aesthetic Center of Plastic Surgery in Houston', 'The best you is what we do.']\n",
            "2:  ['The Aesthetic Center of Plastic Surgery in Houston', 'The best you is what we do.']\n",
            "1:  ['Transform Cosmetic Surgery Group', 'When you feel good, we feel good.']\n",
            "2:  ['Transform Cosmetic Surgery Group', 'When you feel good, we feel good.']\n",
            "1:  ['Celebration Cosmetic Surgery in Florida', 'Live beautifully.']\n",
            "2:  ['Celebration Cosmetic Surgery in Florida', 'Live beautifully.']\n",
            "1:  ['Dr. Maher Anous, plastic surgeon in Beverly Hills', 'We know beauty.']\n",
            "2:  ['Dr. Maher Anous, plastic surgeon in Beverly Hills', 'We know beauty.']\n",
            "1:  ['Dr. David Morales, cosmetic surgeon in Dallas', 'Refresh your image.']\n",
            "2:  ['Dr. David Morales, cosmetic surgeon in Dallas', 'Refresh your image.']\n",
            "1:  ['Living Energy Pilates Studio', 'The pilates experts!']\n",
            "2:  ['Living Energy Pilates Studio', 'The pilates experts!']\n",
            "1:  ['Align Pilates in Minneapolis', 'See what your body can do.']\n",
            "2:  ['Align Pilates in Minneapolis', 'See what your body can do.']\n",
            "1:  ['Redmond Pilates Center', 'Real pilates. Real results.']\n",
            "2:  ['Redmond Pilates Center', 'Real pilates. Real results.']\n",
            "1:  ['Eden Pilates in Toronto', 'Find your inner.']\n",
            "2:  ['Eden Pilates in Toronto', 'Find your inner.']\n",
            "1:  ['Pilates Center of Rockville', 'Come as you are. Leave at your best.']\n",
            "2:  ['Pilates Center of Rockville', 'Come as you are. Leave at your best.']\n",
            "1:  ['Extreme Pilates in Laguna Niguel', 'Sculpting your body scientifically.']\n",
            "2:  ['Extreme Pilates in Laguna Niguel', 'Sculpting your body scientifically.']\n",
            "1:  ['Extreme Pilates in Laguna Niguel', 'Get fit!']\n",
            "2:  ['Extreme Pilates in Laguna Niguel', 'Get fit!']\n",
            "1:  ['Centerspace Pilates Studio', 'Feel the difference inside.']\n",
            "2:  ['Centerspace Pilates Studio', 'Feel the difference inside.']\n",
            "1:  ['Excel Pilates Studio in Washington, DC', 'Empower your body. Empower your mind.']\n",
            "2:  ['Excel Pilates Studio in Washington, DC', 'Empower your body. Empower your mind.']\n",
            "1:  ['Aberdeen Pilates Studio', 'Educating your mind to understand your body.']\n",
            "2:  ['Aberdeen Pilates Studio', 'Educating your mind to understand your body.']\n",
            "1:  ['Livermore Pilates Studio', 'Transform your body.']\n",
            "2:  ['Livermore Pilates Studio', 'Transform your body.']\n",
            "1:  ['Black Rock Pilates', 'Make your body a place you want to live.']\n",
            "2:  ['Black Rock Pilates', 'Make your body a place you want to live.']\n",
            "1:  ['KW Pilates, classes in Waterloo', 'Building strength and flexibility from within.']\n",
            "2:  ['KW Pilates, classes in Waterloo', 'Building strength and flexibility from within.']\n",
            "1:  ['Pacific NW Pilates, training center in Portland', 'Intelligent exercise. Profound results.']\n",
            "2:  ['Pacific NW Pilates, training center in Portland', 'Intelligent exercise. Profound results.']\n",
            "1:  ['Embody Pilates Studio and Teacher-Training Center', 'Breathe. Balance. Be.']\n",
            "2:  ['Embody Pilates Studio and Teacher-Training Center', 'Breathe. Balance. Be.']\n",
            "1:  ['Ultimate Pilates in West Sussex', 'Excellence in movement.']\n",
            "2:  ['Ultimate Pilates in West Sussex', 'Excellence in movement.']\n",
            "1:  ['Plastic Surgery of Short Hills, facial cosmetic, reconstructive procedures', 'A more beautiful you.']\n",
            "2:  ['Plastic Surgery of Short Hills, facial cosmetic, reconstructive procedures', 'A more beautiful you.']\n",
            "1:  ['Ness Plastic Surgery in Plymouth', 'Improving you.']\n",
            "2:  ['Ness Plastic Surgery in Plymouth', 'Improving you.']\n",
            "1:  ['Barbara K. Siwy, specialist in cosmetic, plastic and reconstructive surgery', 'Revitalize, refine, rejuvenate.']\n",
            "2:  ['Barbara K. Siwy, specialist in cosmetic, plastic and reconstructive surgery', 'Revitalize, refine, rejuvenate.']\n",
            "1:  ['Zinsser Plastic Surgery, practice of Dr. Zinsser', 'Professionalism. Excellence. Experience.']\n",
            "2:  ['Zinsser Plastic Surgery, practice of Dr. Zinsser', 'Professionalism. Excellence. Experience.']\n",
            "1:  ['Practice of cosmetic and plastic surgeon Dr. Kovanda', 'Refine. Transform. Restore.']\n",
            "2:  ['Practice of cosmetic and plastic surgeon Dr. Kovanda', 'Refine. Transform. Restore.']\n",
            "1:  ['Metropolitan Plastic Surgery in Missouri', 'Restore. Rejuvenate. Rejoice!']\n",
            "2:  ['Metropolitan Plastic Surgery in Missouri', 'Restore. Rejuvenate. Rejoice!']\n",
            "1:  ['The Plastic Surgery Center in Wichita, Kansas', 'Real plastic surgeons. Real results.']\n",
            "2:  ['The Plastic Surgery Center in Wichita, Kansas', 'Real plastic surgeons. Real results.']\n",
            "1:  ['Burford Medical', 'Improving looks, changing lives.']\n",
            "2:  ['Burford Medical', 'Improving looks, changing lives.']\n",
            "1:  ['Tupelo Plastic Surgery Clinic', 'Creating a new you.']\n",
            "2:  ['Tupelo Plastic Surgery Clinic', 'Creating a new you.']\n",
            "1:  [\"Guy's Nuffield House\", 'Be happy with your choice.']\n",
            "2:  [\"Guy's Nuffield House\", 'Be happy with your choice.']\n",
            "1:  ['Surgicare Medical Group', 'Discover the new you.']\n",
            "2:  ['Surgicare Medical Group', 'Discover the new you.']\n",
            "1:  ['Integration Pilates Studio in Edmonton', 'Fitness from the inside out.']\n",
            "2:  ['Integration Pilates Studio in Edmonton', 'Fitness from the inside out.']\n",
            "1:  ['Living Well Pilates, classes in Oakville', 'Pilates for all bodies.']\n",
            "2:  ['Living Well Pilates, classes in Oakville', 'Pilates for all bodies.']\n",
            "1:  ['Pilates of Cherry Creek', 'Pilates for every body.']\n",
            "2:  ['Pilates of Cherry Creek', 'Pilates for every body.']\n",
            "1:  ['Pilates for Life Studio in Paarl, South Africa', 'Intelligent exercise, remarkable results.']\n",
            "2:  ['Pilates for Life Studio in Paarl, South Africa', 'Intelligent exercise, remarkable results.']\n",
            "1:  ['Pilates Dynamics in Randburg', 'Engaging mind & body.']\n",
            "2:  ['Pilates Dynamics in Randburg', 'Engaging mind & body.']\n",
            "1:  ['Parsons Green Pilates Studio in Fulham', 'Challenge your body and your mind.']\n",
            "2:  ['Parsons Green Pilates Studio in Fulham', 'Challenge your body and your mind.']\n",
            "1:  ['Studio Pilates in Ilkley', 'Uniting body and mind.']\n",
            "2:  ['Studio Pilates in Ilkley', 'Uniting body and mind.']\n",
            "1:  ['Pilates Body Studio, Bexley', 'Helping you feel the difference.']\n",
            "2:  ['Pilates Body Studio, Bexley', 'Helping you feel the difference.']\n",
            "1:  ['Pilates North, studio in Richmond Hill', 'Balance in motion.']\n",
            "2:  ['Pilates North, studio in Richmond Hill', 'Balance in motion.']\n",
            "1:  ['Pilates on Demand, online pilates video classes and exercises', 'Fitness that fits around you.']\n",
            "2:  ['Pilates on Demand, online pilates video classes and exercises', 'Fitness that fits around you.']\n",
            "1:  ['The Pilates Group, classes in Richmond', 'Take charge of your body.']\n",
            "2:  ['The Pilates Group, classes in Richmond', 'Take charge of your body.']\n",
            "1:  ['Leeon Studio Pilates', 'Excellence in pilates.']\n",
            "2:  ['Leeon Studio Pilates', 'Excellence in pilates.']\n",
            "1:  ['Studio Technique in Burlington', 'Pilates, for health, strength, stamina and recovery.']\n",
            "2:  ['Studio Technique in Burlington', 'Pilates, for health, strength, stamina and recovery.']\n",
            "1:  ['Pembrokeshire Pilates', 'Change your body shape... Longer, leaner, stronger.']\n",
            "2:  ['Pembrokeshire Pilates', 'Change your body shape... Longer, leaner, stronger.']\n",
            "1:  ['FlowMotion Pilates in Bishop, California', 'Strength, flexibility, prevention and healing through movement.']\n",
            "2:  ['FlowMotion Pilates in Bishop, California', 'Strength, flexibility, prevention and healing through movement.']\n",
            "1:  ['Cinderella Plastic Surgery in Seoul, Korea', 'Experience a more beautiful you.']\n",
            "2:  ['Cinderella Plastic Surgery in Seoul, Korea', 'Experience a more beautiful you.']\n",
            "1:  ['Tallahassee Plastic Surgery Clinic', 'The delicate art of blending science & nature.']\n",
            "2:  ['Tallahassee Plastic Surgery Clinic', 'The delicate art of blending science & nature.']\n",
            "1:  ['Regional Physiotherapy Centre Inc.', 'Excellence in physical therapy.']\n",
            "2:  ['Regional Physiotherapy Centre Inc.', 'Excellence in physical therapy.']\n",
            "1:  ['Central City Physiotherapy in Perth', 'Faster recovery & lasting results.']\n",
            "2:  ['Central City Physiotherapy in Perth', 'Faster recovery & lasting results.']\n",
            "1:  ['Feit Physiotherapy in Sydney', 'Feel better, move better, be better.']\n",
            "2:  ['Feit Physiotherapy in Sydney', 'Feel better, move better, be better.']\n",
            "1:  ['Zest Physiotherapy in Everton Hills', 'Fresh solutions.']\n",
            "2:  ['Zest Physiotherapy in Everton Hills', 'Fresh solutions.']\n",
            "1:  ['Jenkins Physiotherapy in Madeley', 'Helping you feel better.']\n",
            "2:  ['Jenkins Physiotherapy in Madeley', 'Helping you feel better.']\n",
            "1:  ['Kesson Physiotherapy', 'Put yourself in our hands.']\n",
            "2:  ['Kesson Physiotherapy', 'Put yourself in our hands.']\n",
            "1:  ['Kesson Physiotherapy', 'Let our years of expertise help you get back on track.']\n",
            "2:  ['Kesson Physiotherapy', 'Let our years of expertise help you get back on track.']\n",
            "1:  ['Bodyworks Physiotherapy Clinic', 'We know how your body works.']\n",
            "2:  ['Bodyworks Physiotherapy Clinic', 'We know how your body works.']\n",
            "1:  ['Scott Physiotherapy Clinic in Brantford', 'The road to recovery starts here.']\n",
            "2:  ['Scott Physiotherapy Clinic in Brantford', 'The road to recovery starts here.']\n",
            "1:  ['Bedford Physiotherapy Centre', 'BPC. Better patient care.']\n",
            "2:  ['Bedford Physiotherapy Centre', 'BPC. Better patient care.']\n",
            "1:  ['Sydney Spine and Pelvis Physiotherapy Centre', 'Combining passion and knowledge to heal.']\n",
            "2:  ['Sydney Spine and Pelvis Physiotherapy Centre', 'Combining passion and knowledge to heal.']\n",
            "1:  ['Southmount/Halton Physiotherapy Centres', 'Keeping you in action.']\n",
            "2:  ['Southmount/Halton Physiotherapy Centres', 'Keeping you in action.']\n",
            "1:  ['Huronia Physiotherapy and Chiropractic Clinic', 'For every body that moves!']\n",
            "2:  ['Huronia Physiotherapy and Chiropractic Clinic', 'For every body that moves!']\n",
            "1:  ['Optimal Physiotherapy Clinic in Ottawa', 'A helping hand towards optimal health.']\n",
            "2:  ['Optimal Physiotherapy Clinic in Ottawa', 'A helping hand towards optimal health.']\n",
            "1:  ['Scope Physiotherapy Clinic in Essex', 'Hope for functional restoration.']\n",
            "2:  ['Scope Physiotherapy Clinic in Essex', 'Hope for functional restoration.']\n",
            "1:  ['South Delta Physiotherapy Clinic', 'We are your neighbourhood body specialists.']\n",
            "2:  ['South Delta Physiotherapy Clinic', 'We are your neighbourhood body specialists.']\n",
            "1:  ['East Midlands Physiotherapy Clinic', 'Living the lifestyle you choose!']\n",
            "2:  ['East Midlands Physiotherapy Clinic', 'Living the lifestyle you choose!']\n",
            "1:  ['Bounce Physiotherapy & Exercise Clinic', 'Physiotherapy led health & fitness.']\n",
            "2:  ['Bounce Physiotherapy & Exercise Clinic', 'Physiotherapy led health & fitness.']\n",
            "1:  ['Newcastle Sports Injury Clinic', \"Don't be sidelined by injury.\"]\n",
            "2:  ['Newcastle Sports Injury Clinic', \"Don't be sidelined by injury.\"]\n",
            "1:  ['Wimbledon Clinics, the sports injury specialists', 'Your health, our expertise.']\n",
            "2:  ['Wimbledon Clinics, the sports injury specialists', 'Your health, our expertise.']\n",
            "1:  ['PhysioActive, physiotherapy and sports injury clinic in London', 'Taking care of your body.']\n",
            "2:  ['PhysioActive, physiotherapy and sports injury clinic in London', 'Taking care of your body.']\n",
            "1:  ['Sole Clinic, podiatry and physiotherapy in Singapore', 'You trusted foot & rehab specialist.']\n",
            "2:  ['Sole Clinic, podiatry and physiotherapy in Singapore', 'You trusted foot & rehab specialist.']\n",
            "1:  ['ProMed Physiotherapy and Podiatry Clinic', 'A hands-on approach to help achieve your goals.']\n",
            "2:  ['ProMed Physiotherapy and Podiatry Clinic', 'A hands-on approach to help achieve your goals.']\n",
            "1:  ['Capilano Rehab Centre in Edmonton', 'Wake up and enjoy pain-free living.']\n",
            "2:  ['Capilano Rehab Centre in Edmonton', 'Wake up and enjoy pain-free living.']\n",
            "1:  ['Clem Jones Centre Physio & Rehab', \"You're in safe hands.\"]\n",
            "2:  ['Clem Jones Centre Physio & Rehab', \"You're in safe hands.\"]\n",
            "1:  ['InSync Physiotherapy, sport medicine & rehabilitation clinic', 'Helping you move freely & live well.']\n",
            "2:  ['InSync Physiotherapy, sport medicine & rehabilitation clinic', 'Helping you move freely & live well.']\n",
            "1:  ['Walgreens Pharmacy Stores', 'At the corner of happy & healthy.']\n",
            "2:  ['Walgreens Pharmacy Stores', 'At the corner of happy & healthy.']\n",
            "1:  ['Walgreens Pharmacy Stores', 'Walgreens. The pharmacy America trusts.']\n",
            "2:  ['Walgreens Pharmacy Stores', 'Walgreens. The pharmacy America trusts.']\n",
            "1:  ['Longs Drugs, drug store chain in the United States', 'Live healthy. Live happy. Live Longs.']\n",
            "2:  ['Longs Drugs, drug store chain in the United States', 'Live healthy. Live happy. Live Longs.']\n",
            "1:  ['Longs Drugs, drug store chain in the United States', 'Longs belongs to you.']\n",
            "2:  ['Longs Drugs, drug store chain in the United States', 'Longs belongs to you.']\n",
            "1:  ['Priceline Pharmacy in Australia', 'Paying less is a beautiful thing.']\n",
            "2:  ['Priceline Pharmacy in Australia', 'Paying less is a beautiful thing.']\n",
            "1:  ['Discount Drug Stores', 'More than just low prices.']\n",
            "2:  ['Discount Drug Stores', 'More than just low prices.']\n",
            "1:  ['CVS Pharmacy', 'Expect something extra.']\n",
            "2:  ['CVS Pharmacy', 'Expect something extra.']\n",
            "1:  ['The Medicine Shoppe Pharmacy', 'Caring beyond prescriptions.']\n",
            "2:  ['The Medicine Shoppe Pharmacy', 'Caring beyond prescriptions.']\n",
            "1:  ['The Medicine Shoppe Pharmacy', 'Your health. Our priority.']\n",
            "2:  ['The Medicine Shoppe Pharmacy', 'Your health. Our priority.']\n",
            "1:  ['The Medicine Shoppe Pharmacy', '100% pure pharmacy.']\n",
            "2:  ['The Medicine Shoppe Pharmacy', '100% pure pharmacy.']\n",
            "1:  ['Rite Aid Pharmacy', \"Rite Aid. With us, it's personal.\"]\n",
            "2:  ['Rite Aid Pharmacy', \"Rite Aid. With us, it's personal.\"]\n",
            "1:  ['Drugstore.com, online drugstore', 'The uncommon drugstore.']\n",
            "2:  ['Drugstore.com, online drugstore', 'The uncommon drugstore.']\n",
            "1:  ['Osco Drug Stores', 'Count on people who care.']\n",
            "2:  ['Osco Drug Stores', 'Count on people who care.']\n",
            "1:  ['Good Neighbor Pharmacy, cooperative network', 'Locally owned. Locally operated. Locally loved.']\n",
            "2:  ['Good Neighbor Pharmacy, cooperative network', 'Locally owned. Locally operated. Locally loved.']\n",
            "1:  ['Good Neighbor Pharmacy, cooperative network', 'Get to know your neighbor.']\n",
            "2:  ['Good Neighbor Pharmacy, cooperative network', 'Get to know your neighbor.']\n",
            "1:  ['Boots, pharmacy chain in the UK and Ireland', \"Boots. Let's feel good.\"]\n",
            "2:  ['Boots, pharmacy chain in the UK and Ireland', \"Boots. Let's feel good.\"]\n",
            "1:  ['Boots, pharmacy chain in the UK and Ireland', 'Trust Boots.']\n",
            "2:  ['Boots, pharmacy chain in the UK and Ireland', 'Trust Boots.']\n",
            "1:  ['Boots, pharmacy chain in the UK and Ireland', 'Look & feel better for less.']\n",
            "2:  ['Boots, pharmacy chain in the UK and Ireland', 'Look & feel better for less.']\n",
            "1:  ['Boots, pharmacy chain in the UK and Ireland', 'The right chemistry.']\n",
            "2:  ['Boots, pharmacy chain in the UK and Ireland', 'The right chemistry.']\n",
            "1:  ['Boots, pharmacy chain in the UK and Ireland', 'Famous for family medicines.']\n",
            "2:  ['Boots, pharmacy chain in the UK and Ireland', 'Famous for family medicines.']\n",
            "1:  ['Lloyds Pharmacy', 'Healthcare for life.']\n",
            "2:  ['Lloyds Pharmacy', 'Healthcare for life.']\n",
            "1:  ['Lloyds Pharmacy', 'Your health. Our expertise.']\n",
            "2:  ['Lloyds Pharmacy', 'Your health. Our expertise.']\n",
            "1:  ['Lloyds Pharmacy', 'Your local health authority.']\n",
            "2:  ['Lloyds Pharmacy', 'Your local health authority.']\n",
            "1:  ['Guardian Pharmacy Stores in Singapore', 'Healthier & happier.']\n",
            "2:  ['Guardian Pharmacy Stores in Singapore', 'Healthier & happier.']\n",
            "1:  ['Guardian Pharmacies in Malaysia', 'The one you trust.']\n",
            "2:  ['Guardian Pharmacies in Malaysia', 'The one you trust.']\n",
            "1:  ['Guardian, independent pharmacies in Canada', 'Feeling better starts here.']\n",
            "2:  ['Guardian, independent pharmacies in Canada', 'Feeling better starts here.']\n",
            "1:  ['Guardian Pharmacy in Australia', 'Advice. Trust. Care.']\n",
            "2:  ['Guardian Pharmacy in Australia', 'Advice. Trust. Care.']\n",
            "1:  ['Well Pharmacy', 'Here for your wellbeing.']\n",
            "2:  ['Well Pharmacy', 'Here for your wellbeing.']\n",
            "1:  ['Numark Pharmacists', 'Your local community pharmacy.']\n",
            "2:  ['Numark Pharmacists', 'Your local community pharmacy.']\n",
            "1:  ['Superdrug, health and beauty retailer', 'That Superdrug feeling.']\n",
            "2:  ['Superdrug, health and beauty retailer', 'That Superdrug feeling.']\n",
            "1:  ['Superdrug, health and beauty retailer', 'Take another look.']\n",
            "2:  ['Superdrug, health and beauty retailer', 'Take another look.']\n",
            "1:  ['Superdrug, health and beauty retailer', 'Healthcare at healthy prices.']\n",
            "2:  ['Superdrug, health and beauty retailer', 'Healthcare at healthy prices.']\n",
            "1:  ['Gordons Chemists', 'The beauty of Gordons is the price.']\n",
            "2:  ['Gordons Chemists', 'The beauty of Gordons is the price.']\n",
            "1:  ['Clicks, health and beauty retailer in South Africa', 'Feel good, pay less.']\n",
            "2:  ['Clicks, health and beauty retailer in South Africa', 'Feel good, pay less.']\n",
            "1:  ['Unichem Pharmacy', 'In sickness and in health.']\n",
            "2:  ['Unichem Pharmacy', 'In sickness and in health.']\n",
            "1:  ['We Care Pharmacy Plus in Michigan', 'We offer expertise because we care.']\n",
            "2:  ['We Care Pharmacy Plus in Michigan', 'We offer expertise because we care.']\n",
            "1:  ['Phipps Pharmacy', 'The cure for the common drug store.']\n",
            "2:  ['Phipps Pharmacy', 'The cure for the common drug store.']\n",
            "1:  ['Hetero Pharmacy in India', 'Your family medical shop.']\n",
            "2:  ['Hetero Pharmacy in India', 'Your family medical shop.']\n",
            "1:  ['Four Seasons Pharmacy', 'Quality products at affordable prices.']\n",
            "2:  ['Four Seasons Pharmacy', 'Quality products at affordable prices.']\n",
            "1:  ['Pharmaca Integrative Pharmacy', 'Healthy happens here.']\n",
            "2:  ['Pharmaca Integrative Pharmacy', 'Healthy happens here.']\n",
            "1:  ['Giant Genie Pharmacy', 'Your health first.']\n",
            "2:  ['Giant Genie Pharmacy', 'Your health first.']\n",
            "1:  ['Medicap Pharmacy', \"We'll always make time for you!\"]\n",
            "2:  ['Medicap Pharmacy', \"We'll always make time for you!\"]\n",
            "1:  ['Giant Pharmacy', \"If it's a matter of your health, it matters to us.\"]\n",
            "2:  ['Giant Pharmacy', \"If it's a matter of your health, it matters to us.\"]\n",
            "1:  ['Studio Y Interior Design in Whangarei', 'Style your space.']\n",
            "2:  ['Studio Y Interior Design in Whangarei', 'Style your space.']\n",
            "1:  ['Hunter & Company Interior Design in Whitefish', 'Creative living.']\n",
            "2:  ['Hunter & Company Interior Design in Whitefish', 'Creative living.']\n",
            "1:  ['Jane Lockhart Interior Design in Mississauga', 'Create. Update. Renovate.']\n",
            "2:  ['Jane Lockhart Interior Design in Mississauga', 'Create. Update. Renovate.']\n",
            "1:  ['Cream Interior Design Company', 'Prepare to be inspired.']\n",
            "2:  ['Cream Interior Design Company', 'Prepare to be inspired.']\n",
            "1:  ['Algedra, luxury interior design company in UAE', 'Legend of the future.']\n",
            "2:  ['Algedra, luxury interior design company in UAE', 'Legend of the future.']\n",
            "1:  ['SubhAAkritee, interior design and decorating company in Kolkata', 'The design people.']\n",
            "2:  ['SubhAAkritee, interior design and decorating company in Kolkata', 'The design people.']\n",
            "1:  ['Envi Interior Design Firm in Bozeman', 'Purity through the designed environment.']\n",
            "2:  ['Envi Interior Design Firm in Bozeman', 'Purity through the designed environment.']\n",
            "1:  ['R & R Design Studio, residential and commercial interior design', 'Where dimensions take shape.']\n",
            "2:  ['R & R Design Studio, residential and commercial interior design', 'Where dimensions take shape.']\n",
            "1:  ['Spire Design & Construction Studio in Centennial', 'Creating lasting impressions through interior design.']\n",
            "2:  ['Spire Design & Construction Studio in Centennial', 'Creating lasting impressions through interior design.']\n",
            "1:  ['Cole Design Studio in Toronto', 'Love where you live.']\n",
            "2:  ['Cole Design Studio in Toronto', 'Love where you live.']\n",
            "1:  ['Jean Gardner Designs, studio in Oakville', 'Inventive inspired interiors.']\n",
            "2:  ['Jean Gardner Designs, studio in Oakville', 'Inventive inspired interiors.']\n",
            "1:  ['Soulier Design Studio, interior design firm specializing in eco friendly design and materials', 'Sustainable design with your earth & health in mind.']\n",
            "2:  ['Soulier Design Studio, interior design firm specializing in eco friendly design and materials', 'Sustainable design with your earth & health in mind.']\n",
            "1:  ['Sunset Interiors & Design Studio in Arizona', 'Furniture & design with the West in mind.']\n",
            "2:  ['Sunset Interiors & Design Studio in Arizona', 'Furniture & design with the West in mind.']\n",
            "1:  ['Jennifer Bayley, interior designer in Tauranga', 'The whole house or just one room...']\n",
            "2:  ['Jennifer Bayley, interior designer in Tauranga', 'The whole house or just one room...']\n",
            "1:  ['Resaiki, interior designers & decorators in India', \"We don't build, we create.\"]\n",
            "2:  ['Resaiki, interior designers & decorators in India', \"We don't build, we create.\"]\n",
            "1:  ['Amazing Interiors, Auckland', 'Transforming spaces into living concepts.']\n",
            "2:  ['Amazing Interiors, Auckland', 'Transforming spaces into living concepts.']\n",
            "1:  ['Studio 2.0 Interior Design Consultants in Saskatoon', 'Transforming spaces. Transforming lives.']\n",
            "2:  ['Studio 2.0 Interior Design Consultants in Saskatoon', 'Transforming spaces. Transforming lives.']\n",
            "1:  ['David Long Designs in York', 'Creating the art of stylish living.']\n",
            "2:  ['David Long Designs in York', 'Creating the art of stylish living.']\n",
            "1:  ['Inside Studio Ltd', \"It's the Inside that counts.\"]\n",
            "2:  ['Inside Studio Ltd', \"It's the Inside that counts.\"]\n",
            "1:  ['Spencer Group Design', 'A small efficient interior design team.']\n",
            "2:  ['Spencer Group Design', 'A small efficient interior design team.']\n",
            "1:  ['Show Business Interiors', 'Bringing interiors to life.']\n",
            "2:  ['Show Business Interiors', 'Bringing interiors to life.']\n",
            "1:  ['Robin Baron Design', 'Confidence begins at home.']\n",
            "2:  ['Robin Baron Design', 'Confidence begins at home.']\n",
            "1:  ['Lekha Interiors in Pondicherry', 'Live to design.']\n",
            "2:  ['Lekha Interiors in Pondicherry', 'Live to design.']\n",
            "1:  ['Brush Interiors, consultancy in Perth', 'Exquisite interiors customised to your needs.']\n",
            "2:  ['Brush Interiors, consultancy in Perth', 'Exquisite interiors customised to your needs.']\n",
            "1:  ['Carne Interior Design Company in Pretoria', 'Creating innovative interior design solutions for tomorrow.']\n",
            "2:  ['Carne Interior Design Company in Pretoria', 'Creating innovative interior design solutions for tomorrow.']\n",
            "1:  ['Happy Tails Pet Grooming in Marshalltown', 'Tail wagging deals!']\n",
            "2:  ['Happy Tails Pet Grooming in Marshalltown', 'Tail wagging deals!']\n",
            "1:  ['Gosford Grooming', 'Qualified personal care for all breeds.']\n",
            "2:  ['Gosford Grooming', 'Qualified personal care for all breeds.']\n",
            "1:  ['Zoomin Groomin, mobile pet grooming services', 'Sit. Stay. We come to you!']\n",
            "2:  ['Zoomin Groomin, mobile pet grooming services', 'Sit. Stay. We come to you!']\n",
            "1:  ['Pamper Parlour Mobile Grooming', 'Paws down, the best around!']\n",
            "2:  ['Pamper Parlour Mobile Grooming', 'Paws down, the best around!']\n",
            "1:  ['Top Dog Grooming in Hobart', 'Style for the discerning dog.']\n",
            "2:  ['Top Dog Grooming in Hobart', 'Style for the discerning dog.']\n",
            "1:  ['Pet Universe, cat and dog grooming salon in London', 'People trust us, pets love us.']\n",
            "2:  ['Pet Universe, cat and dog grooming salon in London', 'People trust us, pets love us.']\n",
            "1:  ['Alpha Dog Grooming Salon', \"The dog lover's choice.\"]\n",
            "2:  ['Alpha Dog Grooming Salon', \"The dog lover's choice.\"]\n",
            "1:  ['Barx of Mold Dog Grooming Salon', 'Professionalism & reliability in abundance.']\n",
            "2:  ['Barx of Mold Dog Grooming Salon', 'Professionalism & reliability in abundance.']\n",
            "1:  [\"Oscar's Grooming Parlour in Leatherhead\", 'Every pet deserves celebrity treatment.']\n",
            "2:  [\"Oscar's Grooming Parlour in Leatherhead\", 'Every pet deserves celebrity treatment.']\n",
            "1:  ['Poochies Parlour in Australia', 'Home of pet perfection.']\n",
            "2:  ['Poochies Parlour in Australia', 'Home of pet perfection.']\n",
            "1:  ['Poochies Parlour in Branford', 'Where every dog is special.']\n",
            "2:  ['Poochies Parlour in Branford', 'Where every dog is special.']\n",
            "1:  ['Paw Prints Pet Salon', 'Your pet deserves the best!']\n",
            "2:  ['Paw Prints Pet Salon', 'Your pet deserves the best!']\n",
            "1:  ['Shear Magic Pet Salon in Hilo', 'Where your pet is the star!']\n",
            "2:  ['Shear Magic Pet Salon in Hilo', 'Where your pet is the star!']\n",
            "1:  ['Pooch Palace Grooming Salon', 'Treat your pet like royalty.']\n",
            "2:  ['Pooch Palace Grooming Salon', 'Treat your pet like royalty.']\n",
            "1:  ['Shampoochie Dog Grooming in Adelaide', 'For a clean happy well groomed pet.']\n",
            "2:  ['Shampoochie Dog Grooming in Adelaide', 'For a clean happy well groomed pet.']\n",
            "1:  ['Mucky Pups, dog groomers in Chepstow', \"Because we're fur-baby crazy!\"]\n",
            "2:  ['Mucky Pups, dog groomers in Chepstow', \"Because we're fur-baby crazy!\"]\n",
            "1:  ['A Fur Affair Inc.', 'A great place to have your dog or cat groomed.']\n",
            "2:  ['A Fur Affair Inc.', 'A great place to have your dog or cat groomed.']\n",
            "1:  ['PetBrite Dog Grooming Salon', 'You pamper yourself. Now pamper your pet.']\n",
            "2:  ['PetBrite Dog Grooming Salon', 'You pamper yourself. Now pamper your pet.']\n",
            "1:  ['Pretty Pet Grooming Salon in Sydney', 'We make pets pretty!']\n",
            "2:  ['Pretty Pet Grooming Salon in Sydney', 'We make pets pretty!']\n",
            "1:  ['The Dazzling Dawg Grooming Salon', \"Put a little dazzle in your doggie's waggle!\"]\n",
            "2:  ['The Dazzling Dawg Grooming Salon', \"Put a little dazzle in your doggie's waggle!\"]\n",
            "1:  ['A Bark and A Wag Grooming Salon', 'The best at affordable prices.']\n",
            "2:  ['A Bark and A Wag Grooming Salon', 'The best at affordable prices.']\n",
            "1:  ['Golden Dog Grooming Salon & Spa', 'Always gentle & loving touch.']\n",
            "2:  ['Golden Dog Grooming Salon & Spa', 'Always gentle & loving touch.']\n",
            "1:  ['Happy Pet Spa in Sherwood Park', 'We have warm hearts for cold noses!']\n",
            "2:  ['Happy Pet Spa in Sherwood Park', 'We have warm hearts for cold noses!']\n",
            "1:  ['Precious Pet Grooming Salon in Jacksonville', 'Where pets get the red carpet treatment.']\n",
            "2:  ['Precious Pet Grooming Salon in Jacksonville', 'Where pets get the red carpet treatment.']\n",
            "1:  ['K-9 Dog Grooming in Kelowna', 'Friendly loving care for your 4 legged friend.']\n",
            "2:  ['K-9 Dog Grooming in Kelowna', 'Friendly loving care for your 4 legged friend.']\n",
            "1:  ['David H Myers, UK independent chain of designer opticians', 'Because image is everything.']\n",
            "2:  ['David H Myers, UK independent chain of designer opticians', 'Because image is everything.']\n",
            "1:  ['Leightons Opticians, network of opticians in England, offers professional eye care, designer spectacles, contact lenses and prescription glasses', 'To see. To hear. To live.']\n",
            "2:  ['Leightons Opticians, network of opticians in England, offers professional eye care, designer spectacles, contact lenses and prescription glasses', 'To see. To hear. To live.']\n",
            "1:  ['Pearle Vision, chain of eye care stores', 'Pearle Vision. Clearly different.']\n",
            "2:  ['Pearle Vision, chain of eye care stores', 'Pearle Vision. Clearly different.']\n",
            "1:  ['Pearle Vision, chain of eye care stores', 'Nobody cares for eyes more than Pearle.']\n",
            "2:  ['Pearle Vision, chain of eye care stores', 'Nobody cares for eyes more than Pearle.']\n",
            "1:  ['Pearle Vision, chain of eye care stores', \"It's that simple.\"]\n",
            "2:  ['Pearle Vision, chain of eye care stores', \"It's that simple.\"]\n",
            "1:  ['Agawam Opticians', 'Your family optician since 1972.']\n",
            "2:  ['Agawam Opticians', 'Your family optician since 1972.']\n",
            "1:  ['Andersen Opticians in Weybridge, Surrey, offers eye examination, contact lenses, glasses, sunglasses', 'Eyecare - seen through professional eyes.']\n",
            "2:  ['Andersen Opticians in Weybridge, Surrey, offers eye examination, contact lenses, glasses, sunglasses', 'Eyecare - seen through professional eyes.']\n",
            "1:  ['Boots Opticians', 'See better.']\n",
            "2:  ['Boots Opticians', 'See better.']\n",
            "1:  ['Boots Opticians', 'Eyecare solutions.']\n",
            "2:  ['Boots Opticians', 'Eyecare solutions.']\n",
            "1:  ['Boots Opticians', 'Eye care solutions from Boots opticians.']\n",
            "2:  ['Boots Opticians', 'Eye care solutions from Boots opticians.']\n",
            "1:  [\"Buenau's Opticians in Delmar, all types of eyewear, eye exams\", \"The quality service you expect - at prices that can't be beat.\"]\n",
            "2:  [\"Buenau's Opticians in Delmar, all types of eyewear, eye exams\", \"The quality service you expect - at prices that can't be beat.\"]\n",
            "1:  ['Burlington eye center', 'Your vision. Our focus.']\n",
            "2:  ['Burlington eye center', 'Your vision. Our focus.']\n",
            "1:  ['Chapman Opticians, eye care practices in England', 'Partners in eye care.']\n",
            "2:  ['Chapman Opticians, eye care practices in England', 'Partners in eye care.']\n",
            "1:  ['Vision Express Opticians in England', \"We'll see you right.\"]\n",
            "2:  ['Vision Express Opticians in England', \"We'll see you right.\"]\n",
            "1:  ['Vision Express Opticians in England', 'Your eyes, our focus.']\n",
            "2:  ['Vision Express Opticians in England', 'Your eyes, our focus.']\n",
            "1:  ['Vision Express Opticians in England', 'What would you like to see?']\n",
            "2:  ['Vision Express Opticians in England', 'What would you like to see?']\n",
            "1:  ['Vision Express Opticians in England', 'The one hour optical lab.']\n",
            "2:  ['Vision Express Opticians in England', 'The one hour optical lab.']\n",
            "1:  ['Vision Express Opticians in England', 'Most glasses made in one hour.']\n",
            "2:  ['Vision Express Opticians in England', 'Most glasses made in one hour.']\n",
            "1:  ['Vision Express Opticians in England', 'Experts with vision.']\n",
            "2:  ['Vision Express Opticians in England', 'Experts with vision.']\n",
            "1:  ['Colin Lee Opticians in England, glasses, eye care products and services', 'Vision for a better outlook.']\n",
            "2:  ['Colin Lee Opticians in England, glasses, eye care products and services', 'Vision for a better outlook.']\n",
            "1:  ['Conlons Opticians, UK', 'Experience the difference.']\n",
            "2:  ['Conlons Opticians, UK', 'Experience the difference.']\n",
            "1:  ['Pfizer Pharmaceutical Company', 'Working together for a healthier world.']\n",
            "2:  ['Pfizer Pharmaceutical Company', 'Working together for a healthier world.']\n",
            "1:  ['Pfizer Pharmaceutical Company', \"Pfizer. Life is our life's work.\"]\n",
            "2:  ['Pfizer Pharmaceutical Company', \"Pfizer. Life is our life's work.\"]\n",
            "1:  ['Novartis Pharmaceutical Company', 'Caring and curing.']\n",
            "2:  ['Novartis Pharmaceutical Company', 'Caring and curing.']\n",
            "1:  ['Bayer Pharmaceutical Company', 'Science for a better life.']\n",
            "2:  ['Bayer Pharmaceutical Company', 'Science for a better life.']\n",
            "1:  ['Bayer Pharmaceutical Company', 'Improving the quality of life.']\n",
            "2:  ['Bayer Pharmaceutical Company', 'Improving the quality of life.']\n",
            "1:  ['Merck & Co. (or Merck Sharp & Dohme)', 'Merck. Be well.']\n",
            "2:  ['Merck & Co. (or Merck Sharp & Dohme)', 'Merck. Be well.']\n",
            "1:  ['Merck & Co. (or Merck Sharp & Dohme)', 'Where patients come first.']\n",
            "2:  ['Merck & Co. (or Merck Sharp & Dohme)', 'Where patients come first.']\n",
            "1:  ['Merck Serono Pharmaceutical Company', 'Living science, transforming lives.']\n",
            "2:  ['Merck Serono Pharmaceutical Company', 'Living science, transforming lives.']\n",
            "1:  ['Roche', 'Doing now what patients need next.']\n",
            "2:  ['Roche', 'Doing now what patients need next.']\n",
            "1:  ['Roche Applied Science', 'Keep it easy Keep it Roche Applied Science.']\n",
            "2:  ['Roche Applied Science', 'Keep it easy Keep it Roche Applied Science.']\n",
            "1:  ['Astellas Pharma', 'Astellas. Changing tomorrow.']\n",
            "2:  ['Astellas Pharma', 'Astellas. Changing tomorrow.']\n",
            "1:  ['Astellas Pharma', 'Leading light for life.']\n",
            "2:  ['Astellas Pharma', 'Leading light for life.']\n",
            "1:  ['Sanofi (earlier - Sanofi-Aventis), French pharmaceutical company', 'Because health matters.']\n",
            "2:  ['Sanofi (earlier - Sanofi-Aventis), French pharmaceutical company', 'Because health matters.']\n",
            "1:  ['Sanofi Pasteur MSD, vaccine manufacturer', 'Vaccines for life.']\n",
            "2:  ['Sanofi Pasteur MSD, vaccine manufacturer', 'Vaccines for life.']\n",
            "1:  ['Bristol-Myers Squibb, biopharmaceutical company', 'Together we can prevail.']\n",
            "2:  ['Bristol-Myers Squibb, biopharmaceutical company', 'Together we can prevail.']\n",
            "1:  ['Bristol-Myers Squibb, biopharmaceutical company', 'Hope, triumph, and the miracle of medicine.']\n",
            "2:  ['Bristol-Myers Squibb, biopharmaceutical company', 'Hope, triumph, and the miracle of medicine.']\n",
            "1:  ['AstraZeneca, biopharmaceutical company', 'Health connects us all.']\n",
            "2:  ['AstraZeneca, biopharmaceutical company', 'Health connects us all.']\n",
            "1:  ['AstraZeneca, biopharmaceutical company', 'Life inspiring ideas.']\n",
            "2:  ['AstraZeneca, biopharmaceutical company', 'Life inspiring ideas.']\n",
            "1:  ['Janssen (earlier - Janssen-Cilag)', 'We care for your health.']\n",
            "2:  ['Janssen (earlier - Janssen-Cilag)', 'We care for your health.']\n",
            "1:  ['GlaxoSmithKline, British pharmaceutical company', 'Do more, feel better, live longer.']\n",
            "2:  ['GlaxoSmithKline, British pharmaceutical company', 'Do more, feel better, live longer.']\n",
            "1:  ['GlaxoSmithKline, British pharmaceutical company', 'Together we can make life better.']\n",
            "2:  ['GlaxoSmithKline, British pharmaceutical company', 'Together we can make life better.']\n",
            "1:  ['GlaxoSmithKline, British pharmaceutical company', \"Today's medicines finance tomorrow's miracles.\"]\n",
            "2:  ['GlaxoSmithKline, British pharmaceutical company', \"Today's medicines finance tomorrow's miracles.\"]\n",
            "1:  ['Glaxo Wellcome', 'Breakthrough medicines for everyday living.']\n",
            "2:  ['Glaxo Wellcome', 'Breakthrough medicines for everyday living.']\n",
            "1:  ['Schering, pharmaceutical company in Germany', 'Schering. Making medicine work.']\n",
            "2:  ['Schering, pharmaceutical company in Germany', 'Schering. Making medicine work.']\n",
            "1:  ['Schering-Plough', 'To earn trust, every day.']\n",
            "2:  ['Schering-Plough', 'To earn trust, every day.']\n",
            "1:  ['Sandoz, manufacturer of generic pharmaceuticals', 'Think generics.']\n",
            "2:  ['Sandoz, manufacturer of generic pharmaceuticals', 'Think generics.']\n",
            "1:  ['Yamanouchi, Japanese pharmaceutical company', 'Creating and caring... For life.']\n",
            "2:  ['Yamanouchi, Japanese pharmaceutical company', 'Creating and caring... For life.']\n",
            "1:  ['Samaritan Pharmaceuticals', 'A cure is closer than you think.']\n",
            "2:  ['Samaritan Pharmaceuticals', 'A cure is closer than you think.']\n",
            "1:  ['Fougera Pharmaceuticals', 'Make no compromises.']\n",
            "2:  ['Fougera Pharmaceuticals', 'Make no compromises.']\n",
            "1:  ['Polpharma, Polish manufacturer of generic drugs', 'People helping people.']\n",
            "2:  ['Polpharma, Polish manufacturer of generic drugs', 'People helping people.']\n",
            "1:  ['Stiefel Laboratories, dermatological pharmaceutical company', 'Stiefel. Research in dermatology.']\n",
            "2:  ['Stiefel Laboratories, dermatological pharmaceutical company', 'Stiefel. Research in dermatology.']\n",
            "1:  ['Santen Pharmaceutical, specializes in ophthalmology and rheumatology', 'Santen. A clear vision for life.']\n",
            "2:  ['Santen Pharmaceutical, specializes in ophthalmology and rheumatology', 'Santen. A clear vision for life.']\n",
            "1:  ['Gedeon Richter, biotechnology and pharmaceutical company in Hungary', 'Delivering quality therapy through generations.']\n",
            "2:  ['Gedeon Richter, biotechnology and pharmaceutical company in Hungary', 'Delivering quality therapy through generations.']\n",
            "1:  ['Egis Pharmaceuticals in Hungary', 'Health. Quality. Life.']\n",
            "2:  ['Egis Pharmaceuticals in Hungary', 'Health. Quality. Life.']\n",
            "1:  ['Actavis Generics', 'Actavis. Think smart medicine.']\n",
            "2:  ['Actavis Generics', 'Actavis. Think smart medicine.']\n",
            "1:  ['Actavis Generics', 'Creating value in pharmaceuticals.']\n",
            "2:  ['Actavis Generics', 'Creating value in pharmaceuticals.']\n",
            "1:  [\"Dr.Reddy's, pharmaceutical company in India\", 'Life. Research. Hope.']\n",
            "2:  [\"Dr.Reddy's, pharmaceutical company in India\", 'Life. Research. Hope.']\n",
            "1:  ['Aventis Pharma in India', 'Our challenge is life.']\n",
            "2:  ['Aventis Pharma in India', 'Our challenge is life.']\n",
            "1:  ['Ranbaxy Laboratories, Indian pharmaceutical company', 'Ranbaxy. Trusted medicines. Healthier lives.']\n",
            "2:  ['Ranbaxy Laboratories, Indian pharmaceutical company', 'Ranbaxy. Trusted medicines. Healthier lives.']\n",
            "1:  ['Abingdon Massage Clinic', 'We are here to make you feel better!']\n",
            "2:  ['Abingdon Massage Clinic', 'We are here to make you feel better!']\n",
            "1:  ['Two Sisters Massage Clinic in Townsville', 'We aim to alleviate your pain!']\n",
            "2:  ['Two Sisters Massage Clinic in Townsville', 'We aim to alleviate your pain!']\n",
            "1:  ['MuscleWorx Massage in Hamilton, NZ', 'Massage therapy that works.']\n",
            "2:  ['MuscleWorx Massage in Hamilton, NZ', 'Massage therapy that works.']\n",
            "1:  ['Boise Therapeutic Massage Center', \"We're hands above the rest!\"]\n",
            "2:  ['Boise Therapeutic Massage Center', \"We're hands above the rest!\"]\n",
            "1:  ['Escape Massage Centers', 'Because you deserve it.']\n",
            "2:  ['Escape Massage Centers', 'Because you deserve it.']\n",
            "1:  ['PalmLeaf Massage Clinic', 'Enjoy the good life. Enjoy a massage.']\n",
            "2:  ['PalmLeaf Massage Clinic', 'Enjoy the good life. Enjoy a massage.']\n",
            "1:  ['PalmLeaf Massage Clinic', 'A holistic approach to wellness.']\n",
            "2:  ['PalmLeaf Massage Clinic', 'A holistic approach to wellness.']\n",
            "1:  ['Silvia Nilsson, massage therapist from Lloydminster', 'Come in stressed. Leave revitalized.']\n",
            "2:  ['Silvia Nilsson, massage therapist from Lloydminster', 'Come in stressed. Leave revitalized.']\n",
            "1:  ['Neil Case, Townsville massage therapist', \"It's nice to be kneaded.\"]\n",
            "2:  ['Neil Case, Townsville massage therapist', \"It's nice to be kneaded.\"]\n",
            "1:  ['Jan Wolsey, Brighton massage therapist', 'Change the way you feel.']\n",
            "2:  ['Jan Wolsey, Brighton massage therapist', 'Change the way you feel.']\n",
            "1:  ['Madeleine Harvey, massage therapist in Harrogate', 'Well being for every body.']\n",
            "2:  ['Madeleine Harvey, massage therapist in Harrogate', 'Well being for every body.']\n",
            "1:  ['Aromatherapy and Massage Center in Auburn', \"It's not just a treat, it's a treatment.\"]\n",
            "2:  ['Aromatherapy and Massage Center in Auburn', \"It's not just a treat, it's a treatment.\"]\n",
            "1:  ['Aromatherapy and Massage Center in Auburn', 'Healing body, mind and spirit!']\n",
            "2:  ['Aromatherapy and Massage Center in Auburn', 'Healing body, mind and spirit!']\n",
            "1:  ['Federal Way Naturopathy', 'Rooted in your well being.']\n",
            "2:  ['Federal Way Naturopathy', 'Rooted in your well being.']\n",
            "1:  ['Pacifica Naturopathic Medicine', 'Live healthy happy.']\n",
            "2:  ['Pacifica Naturopathic Medicine', 'Live healthy happy.']\n",
            "1:  ['Vital Child Naturopathy Clinic', 'Natural health for vital people.']\n",
            "2:  ['Vital Child Naturopathy Clinic', 'Natural health for vital people.']\n",
            "1:  ['California Naturopathic Clinic', \"We're bringing healthy back!\"]\n",
            "2:  ['California Naturopathic Clinic', \"We're bringing healthy back!\"]\n",
            "1:  ['Insight Naturopathic Clinic in Toronto', 'We look into your health.']\n",
            "2:  ['Insight Naturopathic Clinic in Toronto', 'We look into your health.']\n",
            "1:  ['Quinte Naturopathic Centre in Belleville', 'Healthy people, healthy planet.']\n",
            "2:  ['Quinte Naturopathic Centre in Belleville', 'Healthy people, healthy planet.']\n",
            "1:  ['West Valley Naturopathic Center', 'Time to listen, time to care, time to heal.']\n",
            "2:  ['West Valley Naturopathic Center', 'Time to listen, time to care, time to heal.']\n",
            "1:  ['New England Naturopathic Health', 'Medicine that makes sense.']\n",
            "2:  ['New England Naturopathic Health', 'Medicine that makes sense.']\n",
            "1:  ['Flagstaff Clinic of Naturopathic Medicine', 'Complete family care, naturally.']\n",
            "2:  ['Flagstaff Clinic of Naturopathic Medicine', 'Complete family care, naturally.']\n",
            "1:  ['BetterHealth Naturopathic Clinic', 'A natural approach to health.']\n",
            "2:  ['BetterHealth Naturopathic Clinic', 'A natural approach to health.']\n",
            "1:  ['Natural Healing Centre in Ferny Creek', 'Excellence in health and well-being.']\n",
            "2:  ['Natural Healing Centre in Ferny Creek', 'Excellence in health and well-being.']\n",
            "1:  ['Natural Healing Centre in Ferny Creek', 'Natural good health.']\n",
            "2:  ['Natural Healing Centre in Ferny Creek', 'Natural good health.']\n",
            "1:  ['Bear Creek Naturopathic Clinic', 'Your path towards health.']\n",
            "2:  ['Bear Creek Naturopathic Clinic', 'Your path towards health.']\n",
            "1:  ['St. George Naturopathic Clinic', 'Feel better. Live longer!']\n",
            "2:  ['St. George Naturopathic Clinic', 'Feel better. Live longer!']\n",
            "1:  ['Banyule massage therapy centre in Australia, remedial, therapeutic, relaxation, sport and pregnancy massage', 'Keeping the community healthy.']\n",
            "2:  ['Banyule massage therapy centre in Australia, remedial, therapeutic, relaxation, sport and pregnancy massage', 'Keeping the community healthy.']\n",
            "1:  ['Natural Balance Massage Therapy Centre in Ottawa', 'A natural approach to better health.']\n",
            "2:  ['Natural Balance Massage Therapy Centre in Ottawa', 'A natural approach to better health.']\n",
            "1:  ['Queens Park Massage Therapy Clinic', 'Helping you meet your wellness goals.']\n",
            "2:  ['Queens Park Massage Therapy Clinic', 'Helping you meet your wellness goals.']\n",
            "1:  ['LivHealth massage therapy clinic in Cambridge, Canada', 'Keeping you moving!']\n",
            "2:  ['LivHealth massage therapy clinic in Cambridge, Canada', 'Keeping you moving!']\n",
            "1:  ['Y Massages', 'Feel alive again.']\n",
            "2:  ['Y Massages', 'Feel alive again.']\n",
            "1:  ['Hands in Demand Therapeutics Inc.', 'Helping you feel better!']\n",
            "2:  ['Hands in Demand Therapeutics Inc.', 'Helping you feel better!']\n",
            "1:  ['Balance Massage Therapy in Ponsonby', 'Every body needs balance.']\n",
            "2:  ['Balance Massage Therapy in Ponsonby', 'Every body needs balance.']\n",
            "1:  ['Indooroopilly Therapeutic Massage', 'Your health is in reliable hands!']\n",
            "2:  ['Indooroopilly Therapeutic Massage', 'Your health is in reliable hands!']\n",
            "1:  ['LifeHealthMassage Therapeutic Clinic in Toronto', 'The professional hands you can trust.']\n",
            "2:  ['LifeHealthMassage Therapeutic Clinic in Toronto', 'The professional hands you can trust.']\n",
            "1:  ['Integrative Health Centre in Calgary', 'Treating the cause of disease.']\n",
            "2:  ['Integrative Health Centre in Calgary', 'Treating the cause of disease.']\n",
            "1:  ['Docere Center for Natural Medicine', 'Where your doctor is your teacher.']\n",
            "2:  ['Docere Center for Natural Medicine', 'Where your doctor is your teacher.']\n",
            "1:  ['Wholistic Medical Centre in Sydney', 'Well-being for your whole-being.']\n",
            "2:  ['Wholistic Medical Centre in Sydney', 'Well-being for your whole-being.']\n",
            "1:  ['Arizona Natural Health Center', 'Your team of wellness experts.']\n",
            "2:  ['Arizona Natural Health Center', 'Your team of wellness experts.']\n",
            "1:  ['Vitalchi Natural Therapy & Wellness Centre in Melbourne', 'Wellness sanctuary.']\n",
            "2:  ['Vitalchi Natural Therapy & Wellness Centre in Melbourne', 'Wellness sanctuary.']\n",
            "1:  ['Bastyr University Clinic in San Diego', 'Your partner in natural health care.']\n",
            "2:  ['Bastyr University Clinic in San Diego', 'Your partner in natural health care.']\n",
            "1:  ['Family Clinic of Natural Medicine in Madison', 'Empowering you to health, naturally.']\n",
            "2:  ['Family Clinic of Natural Medicine in Madison', 'Empowering you to health, naturally.']\n",
            "1:  ['Tigard Holistic Health Clinic', 'Staying healthy in a toxic world.']\n",
            "2:  ['Tigard Holistic Health Clinic', 'Staying healthy in a toxic world.']\n",
            "1:  ['Whitsunday Health Clinic', 'Improve your health the natural way.']\n",
            "2:  ['Whitsunday Health Clinic', 'Improve your health the natural way.']\n",
            "1:  ['The Bodhi Clinic in Millersville', 'Pathways to naturopathic healing.']\n",
            "2:  ['The Bodhi Clinic in Millersville', 'Pathways to naturopathic healing.']\n",
            "1:  ['Dragonfly Naturopathic Clinic in Ottawa', 'Providing a natural and scientific approach to healing.']\n",
            "2:  ['Dragonfly Naturopathic Clinic in Ottawa', 'Providing a natural and scientific approach to healing.']\n",
            "1:  ['McQuinn Naturopathic Family Practice', \"We don't just treat our patients. We teach our patients.\"]\n",
            "2:  ['McQuinn Naturopathic Family Practice', \"We don't just treat our patients. We teach our patients.\"]\n",
            "1:  ['Sit Happens Dog Training in Port Coquitlam', 'Nothing less than an outstanding dog.']\n",
            "2:  ['Sit Happens Dog Training in Port Coquitlam', 'Nothing less than an outstanding dog.']\n",
            "1:  [\"J9's K9s Dog Training\", 'Learn while you play!']\n",
            "2:  [\"J9's K9s Dog Training\", 'Learn while you play!']\n",
            "1:  ['Georgina Kennel & Obedience Club', 'Our cause is four paws.']\n",
            "2:  ['Georgina Kennel & Obedience Club', 'Our cause is four paws.']\n",
            "1:  ['Lynne Davies Dog Training', 'Passionate about dogs.']\n",
            "2:  ['Lynne Davies Dog Training', 'Passionate about dogs.']\n",
            "1:  [\"Who's Walking Who Dog Training Centres\", 'The smartest way to train your dog.']\n",
            "2:  [\"Who's Walking Who Dog Training Centres\", 'The smartest way to train your dog.']\n",
            "1:  ['Michigan Dog Training in Plymouth', 'Enriching dog and human lives.']\n",
            "2:  ['Michigan Dog Training in Plymouth', 'Enriching dog and human lives.']\n",
            "1:  ['Michigan Dog Training in Plymouth', 'Helping high energy dogs become ideal companions.']\n",
            "2:  ['Michigan Dog Training in Plymouth', 'Helping high energy dogs become ideal companions.']\n",
            "1:  ['Bella Vista Training and Care Center', 'All types of training for all types of dogs!']\n",
            "2:  ['Bella Vista Training and Care Center', 'All types of training for all types of dogs!']\n",
            "1:  ['South West Dog Training & Behaviour Centre', 'Their future in your hands.']\n",
            "2:  ['South West Dog Training & Behaviour Centre', 'Their future in your hands.']\n",
            "1:  ['The Lucky Dog Training Center', \"Train. Don't complain!\"]\n",
            "2:  ['The Lucky Dog Training Center', \"Train. Don't complain!\"]\n",
            "1:  ['Chadkirk Dog Training Centre in Stockport', 'Bringing your pet into your family.']\n",
            "2:  ['Chadkirk Dog Training Centre in Stockport', 'Bringing your pet into your family.']\n",
            "1:  ['Cloud Nine Dog Training School', \"Behavior that's rewarded is repeated.\"]\n",
            "2:  ['Cloud Nine Dog Training School', \"Behavior that's rewarded is repeated.\"]\n",
            "1:  ['Companion Dog Training School in Asheville', 'Where anything is pawsable.']\n",
            "2:  ['Companion Dog Training School in Asheville', 'Where anything is pawsable.']\n",
            "1:  ['Jump Start Dog Training', 'Get off to a good start... Jump Start.']\n",
            "2:  ['Jump Start Dog Training', 'Get off to a good start... Jump Start.']\n",
            "1:  ['AA Dog Training in Southampton', 'For dogs that perk you up, not get you down.']\n",
            "2:  ['AA Dog Training in Southampton', 'For dogs that perk you up, not get you down.']\n",
            "1:  ['Paramount Dog Training', 'The evolution of a balanced dog and owner has arrived.']\n",
            "2:  ['Paramount Dog Training', 'The evolution of a balanced dog and owner has arrived.']\n",
            "1:  ['Tails Up Dog Training', 'Where dogs learn that learning is fun!']\n",
            "2:  ['Tails Up Dog Training', 'Where dogs learn that learning is fun!']\n",
            "1:  ['Taproot Dog Training', 'Teaching humans. Training dogs. Growing together.']\n",
            "2:  ['Taproot Dog Training', 'Teaching humans. Training dogs. Growing together.']\n",
            "1:  ['Inkosikazi Dog Training', 'Building trust and respect between you and your dog!']\n",
            "2:  ['Inkosikazi Dog Training', 'Building trust and respect between you and your dog!']\n",
            "1:  ['Association of Professional Dog Trainers, USA', 'Building better trainers through education.']\n",
            "2:  ['Association of Professional Dog Trainers, USA', 'Building better trainers through education.']\n",
            "1:  ['Dog Training Club of Tampa', 'Where we teach you to teach your dog!']\n",
            "2:  ['Dog Training Club of Tampa', 'Where we teach you to teach your dog!']\n",
            "1:  ['Kalamazoo Dog Training Club', 'We train you to train your dog!']\n",
            "2:  ['Kalamazoo Dog Training Club', 'We train you to train your dog!']\n",
            "1:  ['Dog Training Club of Salinas Valley', 'Teaching you to train your dog.']\n",
            "2:  ['Dog Training Club of Salinas Valley', 'Teaching you to train your dog.']\n",
            "1:  ['Kindred Souls Canine Center', 'Dog training done right.']\n",
            "2:  ['Kindred Souls Canine Center', 'Dog training done right.']\n",
            "1:  ['Dog Sports Centre in Caledon', 'Bring out the best in your best friend!']\n",
            "2:  ['Dog Sports Centre in Caledon', 'Bring out the best in your best friend!']\n",
            "1:  [\"Ditto's Canine Learning Centre\", 'Because training your dog is not always black & white.']\n",
            "2:  [\"Ditto's Canine Learning Centre\", 'Because training your dog is not always black & white.']\n",
            "1:  ['Barnes-Jewish Hospital in St. Louis', 'National leaders in medicine.']\n",
            "2:  ['Barnes-Jewish Hospital in St. Louis', 'National leaders in medicine.']\n",
            "1:  ['Barnes-Jewish Hospital in St. Louis', 'Advancing medicine. Touching lives.']\n",
            "2:  ['Barnes-Jewish Hospital in St. Louis', 'Advancing medicine. Touching lives.']\n",
            "1:  ['Lancaster General Hospital', 'Choose well. Be well.']\n",
            "2:  ['Lancaster General Hospital', 'Choose well. Be well.']\n",
            "1:  ['Lancaster General Hospital', 'By your side.']\n",
            "2:  ['Lancaster General Hospital', 'By your side.']\n",
            "1:  ['Tampa General Hospital in Florida', 'Trusted for our expertise. Chosen for our care.']\n",
            "2:  ['Tampa General Hospital in Florida', 'Trusted for our expertise. Chosen for our care.']\n",
            "1:  ['Tampa General Hospital in Florida', 'The science of medicine. The art of healing.']\n",
            "2:  ['Tampa General Hospital in Florida', 'The science of medicine. The art of healing.']\n",
            "1:  ['Florida Hospital', 'The skill to heal. The spirit to care.']\n",
            "2:  ['Florida Hospital', 'The skill to heal. The spirit to care.']\n",
            "1:  ['Glens Falls Hospital', 'Big-city medicine. Hometown care.']\n",
            "2:  ['Glens Falls Hospital', 'Big-city medicine. Hometown care.']\n",
            "1:  ['Alpha Hospitals, UK', 'A state of mind.']\n",
            "2:  ['Alpha Hospitals, UK', 'A state of mind.']\n",
            "1:  ['Doctors Hospital of Sarasota', 'Putting more care into healthcare.']\n",
            "2:  ['Doctors Hospital of Sarasota', 'Putting more care into healthcare.']\n",
            "1:  ['Doctors Community Hospital in Lanham, Maryland', 'Passion for caring.']\n",
            "2:  ['Doctors Community Hospital in Lanham, Maryland', 'Passion for caring.']\n",
            "1:  [\"St. Stephen's Hospital in Delhi\", 'Serving humanity in the service of Christ.']\n",
            "2:  [\"St. Stephen's Hospital in Delhi\", 'Serving humanity in the service of Christ.']\n",
            "1:  ['Apollo Hospitals in India', 'Touching lives.']\n",
            "2:  ['Apollo Hospitals in India', 'Touching lives.']\n",
            "1:  ['National Jewish Health, respiratory hospital in Denver', 'Science transforming life.']\n",
            "2:  ['National Jewish Health, respiratory hospital in Denver', 'Science transforming life.']\n",
            "1:  ['Cottage Hospital in Woodsville', 'Quality care close to home.']\n",
            "2:  ['Cottage Hospital in Woodsville', 'Quality care close to home.']\n",
            "1:  ['Miami Valley Hospital in Dayton, Ohio', \"The region's leader.\"]\n",
            "2:  ['Miami Valley Hospital in Dayton, Ohio', \"The region's leader.\"]\n",
            "1:  ['Boca Raton Regional Hospital', 'Advancing the boundaries of medicine.']\n",
            "2:  ['Boca Raton Regional Hospital', 'Advancing the boundaries of medicine.']\n",
            "1:  ['Aspen Valley Hospital', 'Small enough to care. Large enough to heal.']\n",
            "2:  ['Aspen Valley Hospital', 'Small enough to care. Large enough to heal.']\n",
            "1:  ['Ambi Pur Car Air Freshener', \"You'll never want to leave your car.\"]\n",
            "2:  ['Ambi Pur Car Air Freshener', \"You'll never want to leave your car.\"]\n",
            "1:  ['Ambi Pur Car Air Freshener', 'Real perfume for your car.']\n",
            "2:  ['Ambi Pur Car Air Freshener', 'Real perfume for your car.']\n",
            "1:  ['Ambi Pur, air freshening products', 'Ambi Pur. Breathe happy.']\n",
            "2:  ['Ambi Pur, air freshening products', 'Ambi Pur. Breathe happy.']\n",
            "1:  ['Ambi Pur, air freshening products', 'Pure inspiration.']\n",
            "2:  ['Ambi Pur, air freshening products', 'Pure inspiration.']\n",
            "1:  ['Ambi Pur, air freshening products', 'Fragrance your imagination.']\n",
            "2:  ['Ambi Pur, air freshening products', 'Fragrance your imagination.']\n",
            "1:  ['Ambi Pur Mini Fresh', \"Freshness where it's never gone before.\"]\n",
            "2:  ['Ambi Pur Mini Fresh', \"Freshness where it's never gone before.\"]\n",
            "1:  ['Lysol Neutra Air Sanitizing Spray', 'Treat your air well.']\n",
            "2:  ['Lysol Neutra Air Sanitizing Spray', 'Treat your air well.']\n",
            "1:  ['Neutradol, odour deodorizers', \"The world's No 1 deodorizer.\"]\n",
            "2:  ['Neutradol, odour deodorizers', \"The world's No 1 deodorizer.\"]\n",
            "1:  ['Neutradol, odour deodorizers', 'Bringing freshness straight into your everyday life.']\n",
            "2:  ['Neutradol, odour deodorizers', 'Bringing freshness straight into your everyday life.']\n",
            "1:  ['Febreze Air Fresheners & Odor Eliminating Products', 'Breathe happy.']\n",
            "2:  ['Febreze Air Fresheners & Odor Eliminating Products', 'Breathe happy.']\n",
            "1:  ['Febreze Air Fresheners & Odor Eliminating Products', \"It's a breath of fresh air.\"]\n",
            "2:  ['Febreze Air Fresheners & Odor Eliminating Products', \"It's a breath of fresh air.\"]\n",
            "1:  ['Febreze Air Fresheners & Odor Eliminating Products', \"It's that fresh.\"]\n",
            "2:  ['Febreze Air Fresheners & Odor Eliminating Products', \"It's that fresh.\"]\n",
            "1:  ['Febreze Air Fresheners & Odor Eliminating Products', 'Discover the freshness from Febreze.']\n",
            "2:  ['Febreze Air Fresheners & Odor Eliminating Products', 'Discover the freshness from Febreze.']\n",
            "1:  ['Febreze Air Fresheners & Odor Eliminating Products', 'Discover the freshness.']\n",
            "2:  ['Febreze Air Fresheners & Odor Eliminating Products', 'Discover the freshness.']\n",
            "1:  ['Febreze Air Fresheners & Odor Eliminating Products', 'Room to breathe.']\n",
            "2:  ['Febreze Air Fresheners & Odor Eliminating Products', 'Room to breathe.']\n",
            "1:  ['Febreze Air Fresheners & Odor Eliminating Products', 'Fresh air clean with Febreze.']\n",
            "2:  ['Febreze Air Fresheners & Odor Eliminating Products', 'Fresh air clean with Febreze.']\n",
            "1:  ['Febreze Air Fresheners & Odor Eliminating Products', 'Everyday Febreze.']\n",
            "2:  ['Febreze Air Fresheners & Odor Eliminating Products', 'Everyday Febreze.']\n",
            "1:  ['Febreze Air Fresheners & Odor Eliminating Products', 'The more you use it the more you love it.']\n",
            "2:  ['Febreze Air Fresheners & Odor Eliminating Products', 'The more you use it the more you love it.']\n",
            "1:  ['Febreze Car Vent Clips', 'Keep your car fresh.']\n",
            "2:  ['Febreze Car Vent Clips', 'Keep your car fresh.']\n",
            "1:  ['Odonil, air & room fresheners', 'Nature inspired fragrances.']\n",
            "2:  ['Odonil, air & room fresheners', 'Nature inspired fragrances.']\n",
            "1:  ['Neutron, cleaning and odor control products', 'Clean smarter. Smell better.']\n",
            "2:  ['Neutron, cleaning and odor control products', 'Clean smarter. Smell better.']\n",
            "1:  [\"Just'a Drop, bathroom odor eliminator\", \"America's favorite bathroom odor eliminator.\"]\n",
            "2:  [\"Just'a Drop, bathroom odor eliminator\", \"America's favorite bathroom odor eliminator.\"]\n",
            "1:  [\"Just'a Drop, bathroom odor eliminator\", 'The new way to use the bathroom.']\n",
            "2:  [\"Just'a Drop, bathroom odor eliminator\", 'The new way to use the bathroom.']\n",
            "1:  ['Nok Out Odor Eliminator and Sanitizer', 'Nok Out. The heavyweight of odor eliminators.']\n",
            "2:  ['Nok Out Odor Eliminator and Sanitizer', 'Nok Out. The heavyweight of odor eliminators.']\n",
            "1:  ['Bright Air, brand of air fresheners and odor eliminators', 'Products for positive living.']\n",
            "2:  ['Bright Air, brand of air fresheners and odor eliminators', 'Products for positive living.']\n",
            "1:  ['TimeMist, metered air fresheners', 'Fresh thinking.']\n",
            "2:  ['TimeMist, metered air fresheners', 'Fresh thinking.']\n",
            "1:  ['Stella Air Freshener, brand in Indonesia', 'Daily freshness.']\n",
            "2:  ['Stella Air Freshener, brand in Indonesia', 'Daily freshness.']\n",
            "1:  ['Stella Air Freshener, brand in Indonesia', 'Keep your house and your car fresh.']\n",
            "2:  ['Stella Air Freshener, brand in Indonesia', 'Keep your house and your car fresh.']\n",
            "1:  ['Sapolio Air Fresheners', 'Scents which take you away.']\n",
            "2:  ['Sapolio Air Fresheners', 'Scents which take you away.']\n",
            "1:  ['Cedar Valley Hospice', 'Making each moment matter.']\n",
            "2:  ['Cedar Valley Hospice', 'Making each moment matter.']\n",
            "1:  ['Ashgate Hospice in Chesterfield', 'Living for every day.']\n",
            "2:  ['Ashgate Hospice in Chesterfield', 'Living for every day.']\n",
            "1:  ['Ayrshire Hospice', 'Making today matter.']\n",
            "2:  ['Ayrshire Hospice', 'Making today matter.']\n",
            "1:  ['Hospice East Rand in Benoni', 'No end to caring.']\n",
            "2:  ['Hospice East Rand in Benoni', 'No end to caring.']\n",
            "1:  ['Comox Valley Hospice Society', 'Friends for life.']\n",
            "2:  ['Comox Valley Hospice Society', 'Friends for life.']\n",
            "1:  ['Bolton Hospice', 'Caring from the heart.']\n",
            "2:  ['Bolton Hospice', 'Caring from the heart.']\n",
            "1:  ['Rennie Grove Hospice Care', 'Care based around you.']\n",
            "2:  ['Rennie Grove Hospice Care', 'Care based around you.']\n",
            "1:  ['Rennie Grove Hospice Care', 'Hospice at home.']\n",
            "2:  ['Rennie Grove Hospice Care', 'Hospice at home.']\n",
            "1:  ['Odyssey Hospice, Atlanta', 'Care from the heart.']\n",
            "2:  ['Odyssey Hospice, Atlanta', 'Care from the heart.']\n",
            "1:  ['Beloit Regional Hospice', 'Supporting the spirit of life.']\n",
            "2:  ['Beloit Regional Hospice', 'Supporting the spirit of life.']\n",
            "1:  ['Hospice Hawaii, Honolulu', 'Bring hope. Reduce fears. Impact lives.']\n",
            "2:  ['Hospice Hawaii, Honolulu', 'Bring hope. Reduce fears. Impact lives.']\n",
            "1:  ['Hospice of the East Bay', \"We're here when you need us.\"]\n",
            "2:  ['Hospice of the East Bay', \"We're here when you need us.\"]\n",
            "1:  [\"St. Michael's Hospice, England\", 'Quality for life. Choice in care.']\n",
            "2:  [\"St. Michael's Hospice, England\", 'Quality for life. Choice in care.']\n",
            "1:  [\"Haven House Children's Hospice\", 'A special place for special children.']\n",
            "2:  [\"Haven House Children's Hospice\", 'A special place for special children.']\n",
            "1:  ['Compton Hospice for terminally ill persons in Wolverhampton', 'Caring together.']\n",
            "2:  ['Compton Hospice for terminally ill persons in Wolverhampton', 'Caring together.']\n",
            "1:  ['Naomi House and Jacksplace, hospices for children and young people', 'Care and support for good days, difficult days and last days.']\n",
            "2:  ['Naomi House and Jacksplace, hospices for children and young people', 'Care and support for good days, difficult days and last days.']\n",
            "1:  ['Brisbane Homeopathy', 'Where good health comes naturally.']\n",
            "2:  ['Brisbane Homeopathy', 'Where good health comes naturally.']\n",
            "1:  ['Bolton Homeopathy Clinic', 'Putting your health first!']\n",
            "2:  ['Bolton Homeopathy Clinic', 'Putting your health first!']\n",
            "1:  ['Weinstock Homeopathy', 'In the pursuit of health.']\n",
            "2:  ['Weinstock Homeopathy', 'In the pursuit of health.']\n",
            "1:  ['Alberta Homeopathic Medical Clinic', 'A life line to better health.']\n",
            "2:  ['Alberta Homeopathic Medical Clinic', 'A life line to better health.']\n",
            "1:  ['Hauser Homeopathy', 'Healing families naturally.']\n",
            "2:  ['Hauser Homeopathy', 'Healing families naturally.']\n",
            "1:  ['Serenity Homeopathic Clinic in Port Moody', 'A balanced approach to health.']\n",
            "2:  ['Serenity Homeopathic Clinic in Port Moody', 'A balanced approach to health.']\n",
            "1:  ['Chris Braithwaite, homeopath from England', 'The natural health choice.']\n",
            "2:  ['Chris Braithwaite, homeopath from England', 'The natural health choice.']\n",
            "1:  ['Holistic Healing Homeopathy Center in Singapore', 'We help you to live healthy life.']\n",
            "2:  ['Holistic Healing Homeopathy Center in Singapore', 'We help you to live healthy life.']\n",
            "1:  ['Homeopathy practice of Louis Klein', 'Wellness through homeopathy.']\n",
            "2:  ['Homeopathy practice of Louis Klein', 'Wellness through homeopathy.']\n",
            "1:  ['Doris Hoffmann Homeopathy in Kent', 'Get well. Stay well.']\n",
            "2:  ['Doris Hoffmann Homeopathy in Kent', 'Get well. Stay well.']\n",
            "1:  ['Avghi Constantinides, homeopath in Los Angeles', 'A solid foundation for your health.']\n",
            "2:  ['Avghi Constantinides, homeopath in Los Angeles', 'A solid foundation for your health.']\n",
            "1:  ['Mary-Jane Sharratt, homeopath in Sussex', 'Restoring health naturally.']\n",
            "2:  ['Mary-Jane Sharratt, homeopath in Sussex', 'Restoring health naturally.']\n",
            "1:  ['Sudbury Homeopathic Clinic', 'Your path back to wellness.']\n",
            "2:  ['Sudbury Homeopathic Clinic', 'Your path back to wellness.']\n",
            "1:  ['Nelsons, manufacturer of homeopathic medicines', \"Helping the body's natural defences.\"]\n",
            "2:  ['Nelsons, manufacturer of homeopathic medicines', \"Helping the body's natural defences.\"]\n",
            "1:  ['Welling Homeopathy Clinic in Mumbai', 'Discover the real power of homeopathy.']\n",
            "2:  ['Welling Homeopathy Clinic in Mumbai', 'Discover the real power of homeopathy.']\n",
            "1:  ['Winnipeg Homoeopathic Clinic', 'Dedicated to improving your health - naturally!']\n",
            "2:  ['Winnipeg Homoeopathic Clinic', 'Dedicated to improving your health - naturally!']\n",
            "1:  ['Seattle Homeopathy Medical Clinic', 'Restoring your vitality.']\n",
            "2:  ['Seattle Homeopathy Medical Clinic', 'Restoring your vitality.']\n",
            "1:  ['Redlands Homeopathy of homeopath Jon Hay', 'Nature has a way of healing.']\n",
            "2:  ['Redlands Homeopathy of homeopath Jon Hay', 'Nature has a way of healing.']\n",
            "1:  ['Sally Williams, homeopath in Buffalo', 'The science of nature.']\n",
            "2:  ['Sally Williams, homeopath in Buffalo', 'The science of nature.']\n",
            "1:  ['Marlow Homeopathy', 'Improving health naturally.']\n",
            "2:  ['Marlow Homeopathy', 'Improving health naturally.']\n",
            "1:  ['Austin Clinic of Homeopathy', 'Healing bodies, transforming lives.']\n",
            "2:  ['Austin Clinic of Homeopathy', 'Healing bodies, transforming lives.']\n",
            "1:  ['Lisa Formosa Homeopathy in Whitby, Canada', 'Discover homeopathic medicine.']\n",
            "2:  ['Lisa Formosa Homeopathy in Whitby, Canada', 'Discover homeopathic medicine.']\n",
            "1:  ['Bloor West Homeopathic & Wellness Clinic', 'Restore your health naturally and effectively!']\n",
            "2:  ['Bloor West Homeopathic & Wellness Clinic', 'Restore your health naturally and effectively!']\n",
            "1:  ['Asha Frost, homeopath from Ontario', 'Intention to heal.']\n",
            "2:  ['Asha Frost, homeopath from Ontario', 'Intention to heal.']\n",
            "1:  ['Glen Jung, classical homeopath in Toronto', \"Gently stimulating your body's natural healing power.\"]\n",
            "2:  ['Glen Jung, classical homeopath in Toronto', \"Gently stimulating your body's natural healing power.\"]\n",
            "1:  ['Crunch Fitness, chain of American fitness clubs', 'Crunch. No judgments.']\n",
            "2:  ['Crunch Fitness, chain of American fitness clubs', 'Crunch. No judgments.']\n",
            "1:  ['Crunch Fitness, chain of American fitness clubs', 'Making fitness fun.']\n",
            "2:  ['Crunch Fitness, chain of American fitness clubs', 'Making fitness fun.']\n",
            "1:  ['Crunch Fitness, chain of American fitness clubs', 'We all crunch.']\n",
            "2:  ['Crunch Fitness, chain of American fitness clubs', 'We all crunch.']\n",
            "1:  ['Jetts, fitness clubs without contracts in Australia', 'Jetts. Workout on your terms.']\n",
            "2:  ['Jetts, fitness clubs without contracts in Australia', 'Jetts. Workout on your terms.']\n",
            "1:  ['Applied Science Fitness Studio in Culpeper', 'Results, not promises.']\n",
            "2:  ['Applied Science Fitness Studio in Culpeper', 'Results, not promises.']\n",
            "1:  ['My Fitness Studio in Mesa, Arizona', 'Get the body you want at the studio you love!']\n",
            "2:  ['My Fitness Studio in Mesa, Arizona', 'Get the body you want at the studio you love!']\n",
            "1:  ['Mid-City Gym, Manhattan, New York', 'The last real gym!']\n",
            "2:  ['Mid-City Gym, Manhattan, New York', 'The last real gym!']\n",
            "1:  ['Mid-City Gym, Manhattan, New York', 'Stop paying for it.']\n",
            "2:  ['Mid-City Gym, Manhattan, New York', 'Stop paying for it.']\n",
            "1:  ['CKO Kickboxing, health fitness and kickboxing gyms', 'Take back your body.']\n",
            "2:  ['CKO Kickboxing, health fitness and kickboxing gyms', 'Take back your body.']\n",
            "1:  ['Millennium Fitness Centre in Glenrothes, Scotland', 'Live life, love fitness.']\n",
            "2:  ['Millennium Fitness Centre in Glenrothes, Scotland', 'Live life, love fitness.']\n",
            "1:  ['The Fitness Centre in Brantford, Ontario', \"It's never too late to feel great.\"]\n",
            "2:  ['The Fitness Centre in Brantford, Ontario', \"It's never too late to feel great.\"]\n",
            "1:  [\"SpaLady, women's only fitness clubs\", 'The fitness leader.']\n",
            "2:  [\"SpaLady, women's only fitness clubs\", 'The fitness leader.']\n",
            "1:  ['Greens Health & Fitness Clubs', 'Where fitness comes naturally.']\n",
            "2:  ['Greens Health & Fitness Clubs', 'Where fitness comes naturally.']\n",
            "1:  ['Diamond Fitness, gym in Altamonte Springs', 'Forever fit, forever strong!']\n",
            "2:  ['Diamond Fitness, gym in Altamonte Springs', 'Forever fit, forever strong!']\n",
            "1:  ['Vamp, fitness gym in Bunbury', 'Always something happening.']\n",
            "2:  ['Vamp, fitness gym in Bunbury', 'Always something happening.']\n",
            "1:  ['B.O.S.S. Fitness Studio in Columbus, Ohio', 'Bodies of stamina & strength.']\n",
            "2:  ['B.O.S.S. Fitness Studio in Columbus, Ohio', 'Bodies of stamina & strength.']\n",
            "1:  ['Balance Fitness Studio in Charlotte', 'Everyone in life needs balance.']\n",
            "2:  ['Balance Fitness Studio in Charlotte', 'Everyone in life needs balance.']\n",
            "1:  ['Body Innovations, fitness centre in Guelph', 'Solutions for moving better and feeling healthier.']\n",
            "2:  ['Body Innovations, fitness centre in Guelph', 'Solutions for moving better and feeling healthier.']\n",
            "1:  ['Moving Mantra Yoga Studio in Raleigh', 'Eight limbs of yoga for a healthy life.']\n",
            "2:  ['Moving Mantra Yoga Studio in Raleigh', 'Eight limbs of yoga for a healthy life.']\n",
            "1:  ['Satya Yoga Center in Richmond Hill, Canada', 'Cultivating mindful living.']\n",
            "2:  ['Satya Yoga Center in Richmond Hill, Canada', 'Cultivating mindful living.']\n",
            "1:  ['Shanti Yoga Studio in Edmonton', 'Create peace. Be love. Live joy.']\n",
            "2:  ['Shanti Yoga Studio in Edmonton', 'Create peace. Be love. Live joy.']\n",
            "1:  ['Simplicity Yoga Studio in Kings Park, New York', 'Bring simple joys into your life.']\n",
            "2:  ['Simplicity Yoga Studio in Kings Park, New York', 'Bring simple joys into your life.']\n",
            "1:  ['The Yoga Studio in Campbell, California', 'Transformation through practice.']\n",
            "2:  ['The Yoga Studio in Campbell, California', 'Transformation through practice.']\n",
            "1:  ['The Yoga Studio in Millis, Massachusetts', 'Awaken to wellness.']\n",
            "2:  ['The Yoga Studio in Millis, Massachusetts', 'Awaken to wellness.']\n",
            "1:  ['Venture Yoga Studio in Darien', 'Explore your possibilities.']\n",
            "2:  ['Venture Yoga Studio in Darien', 'Explore your possibilities.']\n",
            "1:  ['Prakasa Yoga Studio in Goshen', 'Cultivate radiance of being.']\n",
            "2:  ['Prakasa Yoga Studio in Goshen', 'Cultivate radiance of being.']\n",
            "1:  ['Solace Yoga Studio in Mishawaka', 'Soothe your soul.']\n",
            "2:  ['Solace Yoga Studio in Mishawaka', 'Soothe your soul.']\n",
            "1:  ['Y2 Yoga Studio in Charlotte', 'Life is complicated. Yoga is simple.']\n",
            "2:  ['Y2 Yoga Studio in Charlotte', 'Life is complicated. Yoga is simple.']\n",
            "1:  ['Yoga at the Raven, studio in Los Angeles', 'A sanctuary for the heart.']\n",
            "2:  ['Yoga at the Raven, studio in Los Angeles', 'A sanctuary for the heart.']\n",
            "1:  ['Bliss Yoga Studio in Saint Paul', 'The bliss of your true self.']\n",
            "2:  ['Bliss Yoga Studio in Saint Paul', 'The bliss of your true self.']\n",
            "1:  ['Yotopia, yoga studio in London', 'Intelligent movement.']\n",
            "2:  ['Yotopia, yoga studio in London', 'Intelligent movement.']\n",
            "1:  ['Sunrise Yoga Studio in Dartmouth', 'Helping you to become more flexible and less stressed.']\n",
            "2:  ['Sunrise Yoga Studio in Dartmouth', 'Helping you to become more flexible and less stressed.']\n",
            "1:  ['Dancing Warrior Yoga, studio near Sydney', 'Yoga on the mind, movement in the bones, party in the heart.']\n",
            "2:  ['Dancing Warrior Yoga, studio near Sydney', 'Yoga on the mind, movement in the bones, party in the heart.']\n",
            "1:  ['Yoga Mamas, yoga classes in Brighton', 'Health & well-being for all the family.']\n",
            "2:  ['Yoga Mamas, yoga classes in Brighton', 'Health & well-being for all the family.']\n",
            "1:  ['Yoga Pearl Studio, Portland', 'Yoga Pearl. Be well.']\n",
            "2:  ['Yoga Pearl Studio, Portland', 'Yoga Pearl. Be well.']\n",
            "1:  ['One Flow Yoga Studio in Sacramento', 'Strength, courage & love for life.']\n",
            "2:  ['One Flow Yoga Studio in Sacramento', 'Strength, courage & love for life.']\n",
            "1:  ['Padme Yoga Center, Sacramento', 'Yoga. Community. Flow.']\n",
            "2:  ['Padme Yoga Center, Sacramento', 'Yoga. Community. Flow.']\n",
            "1:  ['The Mat Yoga Studio', 'Move. Awaken. Transform.']\n",
            "2:  ['The Mat Yoga Studio', 'Move. Awaken. Transform.']\n",
            "1:  ['Sol Yoga Studios in San Diego', 'A unique heated yoga experience.']\n",
            "2:  ['Sol Yoga Studios in San Diego', 'A unique heated yoga experience.']\n",
            "1:  ['Release Yoga Studio, Asbury Park', 'Yoga. Movement. Freedom.']\n",
            "2:  ['Release Yoga Studio, Asbury Park', 'Yoga. Movement. Freedom.']\n",
            "1:  ['Yoga School of Therapeutics in Overland Park', 'Calm mind. Healthy body. Renewed spirit.']\n",
            "2:  ['Yoga School of Therapeutics in Overland Park', 'Calm mind. Healthy body. Renewed spirit.']\n",
            "1:  ['Swanand Yoga, hatha yoga classes in New York', 'The quest for innate happiness.']\n",
            "2:  ['Swanand Yoga, hatha yoga classes in New York', 'The quest for innate happiness.']\n",
            "1:  ['Yoga Toes Studio in Point Reyes Station', 'Step into your greatness.']\n",
            "2:  ['Yoga Toes Studio in Point Reyes Station', 'Step into your greatness.']\n",
            "1:  ['Yogaways, yoga centre in Terrigal', 'Keeping community in mind.']\n",
            "2:  ['Yogaways, yoga centre in Terrigal', 'Keeping community in mind.']\n",
            "1:  ['Youth Yoga School, training yoga teachers', 'Aspire to inspire.']\n",
            "2:  ['Youth Yoga School, training yoga teachers', 'Aspire to inspire.']\n",
            "1:  ['Yoga Center of Chico', 'Dedicated to the union of body, mind and community.']\n",
            "2:  ['Yoga Center of Chico', 'Dedicated to the union of body, mind and community.']\n",
            "1:  ['Yogareal, yoga studio near Melbourne', \"Just because you're moving, doesn't mean you're alive.\"]\n",
            "2:  ['Yogareal, yoga studio near Melbourne', \"Just because you're moving, doesn't mean you're alive.\"]\n",
            "1:  ['Yoga Pole Studio in Brooklyn Heights', 'Take your yogini to new heights.']\n",
            "2:  ['Yoga Pole Studio in Brooklyn Heights', 'Take your yogini to new heights.']\n",
            "1:  ['City Yoga Studio in Coventry', \"Yoga is more than a move, it's a meaning!\"]\n",
            "2:  ['City Yoga Studio in Coventry', \"Yoga is more than a move, it's a meaning!\"]\n",
            "1:  ['Little Yoga Studio, San Diego', 'Grow strong. Be present.']\n",
            "2:  ['Little Yoga Studio, San Diego', 'Grow strong. Be present.']\n",
            "1:  ['Eastside Yoga Studio in Windsor', 'Come experience the joy of yoga.']\n",
            "2:  ['Eastside Yoga Studio in Windsor', 'Come experience the joy of yoga.']\n",
            "1:  ['Family Yoga Centre in Edmonton', 'Yoga in the Iyengar tradition.']\n",
            "2:  ['Family Yoga Centre in Edmonton', 'Yoga in the Iyengar tradition.']\n",
            "1:  ['Dorset Yoga Centre, Dorchester', 'Strengthen the body. Still the mind.']\n",
            "2:  ['Dorset Yoga Centre, Dorchester', 'Strengthen the body. Still the mind.']\n",
            "1:  ['Village Yoga Studio, Winston-Salem', 'Helping you find your own way on your yoga path.']\n",
            "2:  ['Village Yoga Studio, Winston-Salem', 'Helping you find your own way on your yoga path.']\n",
            "1:  ['Outer Banks Yoga and Pilates Studio in Kitty Hawk', 'Be the change you wish to see in the world.']\n",
            "2:  ['Outer Banks Yoga and Pilates Studio in Kitty Hawk', 'Be the change you wish to see in the world.']\n",
            "1:  ['Kodaikanal Yoga Center, India', 'Nature in practice.']\n",
            "2:  ['Kodaikanal Yoga Center, India', 'Nature in practice.']\n",
            "1:  ['Open Doors Yoga Studios', 'Free your body, free your mind.']\n",
            "2:  ['Open Doors Yoga Studios', 'Free your body, free your mind.']\n",
            "1:  ['Scarsdale Yoga Studios', 'Live well. Feel good.']\n",
            "2:  ['Scarsdale Yoga Studios', 'Live well. Feel good.']\n",
            "1:  ['Shakti Vinyasa Yoga Studios', 'Discover strength and awaken spirit.']\n",
            "2:  ['Shakti Vinyasa Yoga Studios', 'Discover strength and awaken spirit.']\n",
            "1:  ['Radiance Yoga Studio in Alexandria, Virginia', 'Illuminate your spirit.']\n",
            "2:  ['Radiance Yoga Studio in Alexandria, Virginia', 'Illuminate your spirit.']\n",
            "1:  ['Maa Yoga Studio, Vancouver', 'Stillness becomes you.']\n",
            "2:  ['Maa Yoga Studio, Vancouver', 'Stillness becomes you.']\n",
            "1:  ['Open Door Yoga Studio in Raleigh', 'Strong limbs. Deep roots. Open minds. Open doors.']\n",
            "2:  ['Open Door Yoga Studio in Raleigh', 'Strong limbs. Deep roots. Open minds. Open doors.']\n",
            "1:  ['Yoga Center of Morro Bay', 'Come as you are. This yoga is for everyone.']\n",
            "2:  ['Yoga Center of Morro Bay', 'Come as you are. This yoga is for everyone.']\n",
            "1:  ['Bend Yoga Studio, San Francisco', 'A small studio with a big heart.']\n",
            "2:  ['Bend Yoga Studio, San Francisco', 'A small studio with a big heart.']\n",
            "1:  ['Bend Yoga Studio in North Bay', \"It's your yoga.\"]\n",
            "2:  ['Bend Yoga Studio in North Bay', \"It's your yoga.\"]\n",
            "1:  ['Abhyaasa Yoga Studio in Naperville', 'Practice for awakening.']\n",
            "2:  ['Abhyaasa Yoga Studio in Naperville', 'Practice for awakening.']\n",
            "1:  ['Gili Yoga Studio, Indonesia', 'Awaken in paradise.']\n",
            "2:  ['Gili Yoga Studio, Indonesia', 'Awaken in paradise.']\n",
            "1:  ['Agape Yoga Studio in St. Louis', 'Tend the body. Expand the mind. Feel the soul.']\n",
            "2:  ['Agape Yoga Studio in St. Louis', 'Tend the body. Expand the mind. Feel the soul.']\n",
            "1:  ['Art of Yoga Studio in Waterdown', \"Life's too fast Slow down Do yoga.\"]\n",
            "2:  ['Art of Yoga Studio in Waterdown', \"Life's too fast Slow down Do yoga.\"]\n",
            "1:  ['Ashtanga Yoga Centre of Melbourne', 'Increase your strength, flexibility and vitality.']\n",
            "2:  ['Ashtanga Yoga Centre of Melbourne', 'Increase your strength, flexibility and vitality.']\n",
            "1:  ['Bhava Yoga Studio, Albuquerque', 'Your vibrant new life.']\n",
            "2:  ['Bhava Yoga Studio, Albuquerque', 'Your vibrant new life.']\n",
            "1:  ['Blissful Monkey Yoga Studio', 'No fuss. No frills. Just you and yoga.']\n",
            "2:  ['Blissful Monkey Yoga Studio', 'No fuss. No frills. Just you and yoga.']\n",
            "1:  ['Breathe Yoga Studio in Toronto', 'Where east meets west in the village.']\n",
            "2:  ['Breathe Yoga Studio in Toronto', 'Where east meets west in the village.']\n",
            "1:  ['Brisbane Yoga Centre', 'Strengthen. Energize. Renew.']\n",
            "2:  ['Brisbane Yoga Centre', 'Strengthen. Energize. Renew.']\n",
            "1:  ['Bristol Yoga Studio', 'Your yoga, your practice.']\n",
            "2:  ['Bristol Yoga Studio', 'Your yoga, your practice.']\n",
            "1:  ['Chula Vista Yoga Center', 'Practice with an open heart and mind.']\n",
            "2:  ['Chula Vista Yoga Center', 'Practice with an open heart and mind.']\n",
            "1:  ['Studio Be Yoga in Boulder', 'Engaging the natural intelligence of the body.']\n",
            "2:  ['Studio Be Yoga in Boulder', 'Engaging the natural intelligence of the body.']\n",
            "1:  ['PhysioHealth & Sports Injury Clinic in Corrimal', 'Strength, mobility, function, life.']\n",
            "2:  ['PhysioHealth & Sports Injury Clinic in Corrimal', 'Strength, mobility, function, life.']\n",
            "1:  ['Edgecliff Physiotherapy Sports & Spinal Centre', 'Move well for better health.']\n",
            "2:  ['Edgecliff Physiotherapy Sports & Spinal Centre', 'Move well for better health.']\n",
            "1:  ['Nepean Sports Medicine & Physiotherapy Centre', 'Getting back to enjoying life.']\n",
            "2:  ['Nepean Sports Medicine & Physiotherapy Centre', 'Getting back to enjoying life.']\n",
            "1:  ['North Ajax Rehab and Sports Injury Clinic', 'Science in our skills, magic in our hands.']\n",
            "2:  ['North Ajax Rehab and Sports Injury Clinic', 'Science in our skills, magic in our hands.']\n",
            "1:  ['Port Moody Physiotherapy & Sports Injury Clinic', \"We'll get you back in the game.\"]\n",
            "2:  ['Port Moody Physiotherapy & Sports Injury Clinic', \"We'll get you back in the game.\"]\n",
            "1:  ['PhysioArt Physiotherapy in Dubai', 'Recover. Refresh. Rejuvenate.']\n",
            "2:  ['PhysioArt Physiotherapy in Dubai', 'Recover. Refresh. Rejuvenate.']\n",
            "1:  ['Pivotal Physiotherapy', 'For all that moves you.']\n",
            "2:  ['Pivotal Physiotherapy', 'For all that moves you.']\n",
            "1:  ['Sammy Margo Physiotherapy', 'Getting you better faster.']\n",
            "2:  ['Sammy Margo Physiotherapy', 'Getting you better faster.']\n",
            "1:  ['Surrey Physiotherapy', \"If you're in pain, we are at hand.\"]\n",
            "2:  ['Surrey Physiotherapy', \"If you're in pain, we are at hand.\"]\n",
            "1:  ['Shelbourne Physiotherapy', 'Health solutions.']\n",
            "2:  ['Shelbourne Physiotherapy', 'Health solutions.']\n",
            "1:  ['Berkshire Physiotherapy Centre', \"Treatment that's more than skin deep.\"]\n",
            "2:  ['Berkshire Physiotherapy Centre', \"Treatment that's more than skin deep.\"]\n",
            "1:  ['Get Better Physiotherapy in Browns Plains', 'We are hands on!']\n",
            "2:  ['Get Better Physiotherapy in Browns Plains', 'We are hands on!']\n",
            "1:  ['Westboro Physiotherapy Centre', 'Where active people receive active rehab.']\n",
            "2:  ['Westboro Physiotherapy Centre', 'Where active people receive active rehab.']\n",
            "1:  ['The N.T. Physiotherapy Clinic in Darwin', 'Feel better and healthier naturally.']\n",
            "2:  ['The N.T. Physiotherapy Clinic in Darwin', 'Feel better and healthier naturally.']\n",
            "1:  ['Physio First Physiotherapy Clinic', 'Your first choice in physiotherapy.']\n",
            "2:  ['Physio First Physiotherapy Clinic', 'Your first choice in physiotherapy.']\n",
            "1:  ['Redbourn Physiotherapy Clinic', 'Fit for life. Fit for sport.']\n",
            "2:  ['Redbourn Physiotherapy Clinic', 'Fit for life. Fit for sport.']\n",
            "1:  ['Saltergate Physiotherapy Clinic', 'A hands on approach.']\n",
            "2:  ['Saltergate Physiotherapy Clinic', 'A hands on approach.']\n",
            "1:  ['Salus Physiotherapy Clinic in Vancouver', 'Movement for life.']\n",
            "2:  ['Salus Physiotherapy Clinic in Vancouver', 'Movement for life.']\n",
            "1:  ['Sunbury Physiotherapy Clinic', 'Be your best.']\n",
            "2:  ['Sunbury Physiotherapy Clinic', 'Be your best.']\n",
            "1:  ['Bournemouth Physiotherapy Clinics', \"We've got your back!\"]\n",
            "2:  ['Bournemouth Physiotherapy Clinics', \"We've got your back!\"]\n",
            "1:  ['Physiocentric', 'Your health. Our focus.']\n",
            "2:  ['Physiocentric', 'Your health. Our focus.']\n",
            "1:  ['Burton Physiotherapy Centre', 'Back to life.']\n",
            "2:  ['Burton Physiotherapy Centre', 'Back to life.']\n",
            "1:  ['The Physio Center in Summerside', 'Discover your potential.']\n",
            "2:  ['The Physio Center in Summerside', 'Discover your potential.']\n",
            "1:  ['The Physio Clinic in Prospect', 'For all things physio.']\n",
            "2:  ['The Physio Clinic in Prospect', 'For all things physio.']\n",
            "1:  ['Shirley Physiotherapy Clinic, Southampton', 'Providing excellence in your physiotherapy care.']\n",
            "2:  ['Shirley Physiotherapy Clinic, Southampton', 'Providing excellence in your physiotherapy care.']\n",
            "1:  ['Ampthill & Flitwick Physiotherapists', \"We'll get you up and running!\"]\n",
            "2:  ['Ampthill & Flitwick Physiotherapists', \"We'll get you up and running!\"]\n",
            "1:  ['DTR clinic in Cardiff', 'Setting new standards in physiotherapy.']\n",
            "2:  ['DTR clinic in Cardiff', 'Setting new standards in physiotherapy.']\n",
            "1:  ['Forest Hill Physiotherapy in Toronto', 'Optimize a healthier you!']\n",
            "2:  ['Forest Hill Physiotherapy in Toronto', 'Optimize a healthier you!']\n",
            "1:  ['Julie Skaling Physiotherapy', 'A personalized approach to your well-being.']\n",
            "2:  ['Julie Skaling Physiotherapy', 'A personalized approach to your well-being.']\n",
            "1:  ['Falmouth Physiotherapy Clinic', 'Helping you to get on with life.']\n",
            "2:  ['Falmouth Physiotherapy Clinic', 'Helping you to get on with life.']\n",
            "1:  ['PainCare Physio & Foot Clinic', 'Healthcare from head to toe.']\n",
            "2:  ['PainCare Physio & Foot Clinic', 'Healthcare from head to toe.']\n",
            "1:  ['PainCare Physio & Foot Clinic', 'Your health matters - from head to toe.']\n",
            "2:  ['PainCare Physio & Foot Clinic', 'Your health matters - from head to toe.']\n",
            "1:  ['Glamorgan Physiotherapy Clinic', 'Relief. Remedy. Recovery.']\n",
            "2:  ['Glamorgan Physiotherapy Clinic', 'Relief. Remedy. Recovery.']\n",
            "1:  ['Integro Physiotherapy Clinic in Singapore', 'Move to heal.']\n",
            "2:  ['Integro Physiotherapy Clinic in Singapore', 'Move to heal.']\n",
            "1:  ['Malvern East Physiotherapy', 'Helping you keep active and injury free.']\n",
            "2:  ['Malvern East Physiotherapy', 'Helping you keep active and injury free.']\n",
            "1:  ['North Queensland Physiotherapy Centre', 'The rapid recovery team.']\n",
            "2:  ['North Queensland Physiotherapy Centre', 'The rapid recovery team.']\n",
            "1:  ['Palm Beach Physiotherapy Centre', 'Get up, get better, get here!']\n",
            "2:  ['Palm Beach Physiotherapy Centre', 'Get up, get better, get here!']\n",
            "1:  ['Hawksland Physiotherapy Centre in Cornwall', \"It's about quality of life.\"]\n",
            "2:  ['Hawksland Physiotherapy Centre in Cornwall', \"It's about quality of life.\"]\n",
            "1:  ['Cerebral Palsy Physiotherapy Centre', 'Working together, unlocking potential.']\n",
            "2:  ['Cerebral Palsy Physiotherapy Centre', 'Working together, unlocking potential.']\n",
            "1:  ['Lacewood Physiotherapy Clinic in Halifax', 'Physio with heart.']\n",
            "2:  ['Lacewood Physiotherapy Clinic in Halifax', 'Physio with heart.']\n",
            "1:  ['Lacombe Physiotherapy Clinic', 'We can get you back in the game.']\n",
            "2:  ['Lacombe Physiotherapy Clinic', 'We can get you back in the game.']\n",
            "1:  ['Lombard Physiotherapy Clinic', 'A relaxed and welcoming environment.']\n",
            "2:  ['Lombard Physiotherapy Clinic', 'A relaxed and welcoming environment.']\n",
            "1:  ['Om Sai Physiotherapy Clinic', 'A legend in rehabilitation industry.']\n",
            "2:  ['Om Sai Physiotherapy Clinic', 'A legend in rehabilitation industry.']\n",
            "1:  ['Ottawa & District Physiotherapy Clinic', 'Committed to excellence in care.']\n",
            "2:  ['Ottawa & District Physiotherapy Clinic', 'Committed to excellence in care.']\n",
            "1:  ['Rutherford Physical Therapy and Sports Injury Clinic', 'Move forward.']\n",
            "2:  ['Rutherford Physical Therapy and Sports Injury Clinic', 'Move forward.']\n",
            "1:  ['TAWA Physical Therapy & Sports Injury Clinic', 'Together working to achieve your best.']\n",
            "2:  ['TAWA Physical Therapy & Sports Injury Clinic', 'Together working to achieve your best.']\n",
            "1:  ['Evergreen Clinics in England', 'Working together to achieve optimum health.']\n",
            "2:  ['Evergreen Clinics in England', 'Working together to achieve optimum health.']\n",
            "1:  ['Girton Physio', 'With you every step of the way.']\n",
            "2:  ['Girton Physio', 'With you every step of the way.']\n",
            "1:  ['Crystal Palace Physio Group', 'Making people better.']\n",
            "2:  ['Crystal Palace Physio Group', 'Making people better.']\n",
            "1:  ['Hoppers Physio', 'A great move!']\n",
            "2:  ['Hoppers Physio', 'A great move!']\n",
            "1:  ['Portage Physiotherapy and Sports Injury Clinic', 'First, we help you! Then we teach you how to help yourself!']\n",
            "2:  ['Portage Physiotherapy and Sports Injury Clinic', 'First, we help you! Then we teach you how to help yourself!']\n",
            "1:  ['Queensland Plastic Surgery Clinic', 'Look and feel your best.']\n",
            "2:  ['Queensland Plastic Surgery Clinic', 'Look and feel your best.']\n",
            "1:  [\"Dr. Shetty's Clinic in Bangalore\", 'A shape you desire for...']\n",
            "2:  [\"Dr. Shetty's Clinic in Bangalore\", 'A shape you desire for...']\n",
            "1:  ['Plastic & Cosmetic Surgery Clinic in Bangalore', 'Beauty, symmetry, balance, proportion.']\n",
            "2:  ['Plastic & Cosmetic Surgery Clinic in Bangalore', 'Beauty, symmetry, balance, proportion.']\n",
            "1:  [\"Dr. Rajmohan's Cosmetic Surgery Center in Chennai, India\", 'Enhancing looks. Enriching beauty.']\n",
            "2:  [\"Dr. Rajmohan's Cosmetic Surgery Center in Chennai, India\", 'Enhancing looks. Enriching beauty.']\n",
            "1:  ['Facial Cosmetic Surgery Clinic, UK', 'Make the best first impression.']\n",
            "2:  ['Facial Cosmetic Surgery Clinic, UK', 'Make the best first impression.']\n",
            "1:  ['Meditours Hungary, dental and plastic surgery agent based in Budapest', 'A new life, a new you.']\n",
            "2:  ['Meditours Hungary, dental and plastic surgery agent based in Budapest', 'A new life, a new you.']\n",
            "1:  ['Meditours Hungary, dental and plastic surgery agent based in Budapest', 'Helping you every step of the way.']\n",
            "2:  ['Meditours Hungary, dental and plastic surgery agent based in Budapest', 'Helping you every step of the way.']\n",
            "1:  ['Fitzwilliam Clinic in Belfast, Northern Ireland', 'Excellence in cosmetic surgery.']\n",
            "2:  ['Fitzwilliam Clinic in Belfast, Northern Ireland', 'Excellence in cosmetic surgery.']\n",
            "1:  ['Lavish Cosmetic Surgery and Beauty Clinic in Australia', 'The difference is in the touch.']\n",
            "2:  ['Lavish Cosmetic Surgery and Beauty Clinic in Australia', 'The difference is in the touch.']\n",
            "1:  ['Dr. Brent Howley, plastic and cosmetic surgeon', 'Refresh. Renew.']\n",
            "2:  ['Dr. Brent Howley, plastic and cosmetic surgeon', 'Refresh. Renew.']\n",
            "1:  ['Vasudhan, plastic, cosmetic & laser surgery centers in India', 'Redefine yourself.']\n",
            "2:  ['Vasudhan, plastic, cosmetic & laser surgery centers in India', 'Redefine yourself.']\n",
            "1:  ['Kaayakalp, cosmetic and laser surgery clinic in Kolkata', 'Where beautification begins.']\n",
            "2:  ['Kaayakalp, cosmetic and laser surgery clinic in Kolkata', 'Where beautification begins.']\n",
            "1:  ['The Cosmetic Surgery Clinic in Beirut, facial enhancement and rejuvenation procedures', 'Stay young & beautiful forever.']\n",
            "2:  ['The Cosmetic Surgery Clinic in Beirut, facial enhancement and rejuvenation procedures', 'Stay young & beautiful forever.']\n",
            "1:  ['The Belvedere Clinic in London, breast reduction, nose reshaping, liposuction', 'Beauty with care.']\n",
            "2:  ['The Belvedere Clinic in London, breast reduction, nose reshaping, liposuction', 'Beauty with care.']\n",
            "1:  ['The Cosmetic Clinic in Manchester, breast enlargement and reduction, liposuction', 'Your body, your choice.']\n",
            "2:  ['The Cosmetic Clinic in Manchester, breast enlargement and reduction, liposuction', 'Your body, your choice.']\n",
            "1:  ['Hunter Plastic Surgery in Charlestown', 'Real results. Expert care.']\n",
            "2:  ['Hunter Plastic Surgery in Charlestown', 'Real results. Expert care.']\n",
            "1:  ['Brighton Day Surgery for women in Adelaide', 'For women by women.']\n",
            "2:  ['Brighton Day Surgery for women in Adelaide', 'For women by women.']\n",
            "1:  ['Sculpt Surgery in Perth', 'Just imagine the difference.']\n",
            "2:  ['Sculpt Surgery in Perth', 'Just imagine the difference.']\n",
            "1:  ['Plastic & Cosmetic Laser Surgical Centre in Edmonton, Canada', 'Designed with you in mind.']\n",
            "2:  ['Plastic & Cosmetic Laser Surgical Centre in Edmonton, Canada', 'Designed with you in mind.']\n",
            "1:  ['Dr. Bryan Callaghan, plastic surgeon in Ottawa', 'For the change in you.']\n",
            "2:  ['Dr. Bryan Callaghan, plastic surgeon in Ottawa', 'For the change in you.']\n",
            "1:  ['The Hamilton Plastic Surgery Centre in Canada', 'Recapture the beauty of self-confidence.']\n",
            "2:  ['The Hamilton Plastic Surgery Centre in Canada', 'Recapture the beauty of self-confidence.']\n",
            "1:  ['Barr Plastic Surgery, practice of Dr. Scott Barr', 'Love yourself. Inside and out.']\n",
            "2:  ['Barr Plastic Surgery, practice of Dr. Scott Barr', 'Love yourself. Inside and out.']\n",
            "1:  ['Lanark Centre for Cosmetic Surgery', 'We care more.']\n",
            "2:  ['Lanark Centre for Cosmetic Surgery', 'We care more.']\n",
            "1:  ['Rubicon Medical in London', 'Caring for our patients.']\n",
            "2:  ['Rubicon Medical in London', 'Caring for our patients.']\n",
            "1:  ['SW Montana Plastic Surgery in Bozeman', 'Enhance your natural beauty.']\n",
            "2:  ['SW Montana Plastic Surgery in Bozeman', 'Enhance your natural beauty.']\n",
            "1:  ['Austin Plastic Surgery Center, breast and nose procedures', 'Enhance your look, enhance your life.']\n",
            "2:  ['Austin Plastic Surgery Center, breast and nose procedures', 'Enhance your look, enhance your life.']\n",
            "1:  ['El Paso Cosmetic Surgery Center', 'The science of beauty.']\n",
            "2:  ['El Paso Cosmetic Surgery Center', 'The science of beauty.']\n",
            "1:  ['Appleton Plastic Surgery Center', 'Experience youthful skin for life!']\n",
            "2:  ['Appleton Plastic Surgery Center', 'Experience youthful skin for life!']\n",
            "1:  ['Mariposa Plastic Surgery Center', 'Look how you feel. Love how you look.']\n",
            "2:  ['Mariposa Plastic Surgery Center', 'Look how you feel. Love how you look.']\n",
            "1:  ['The Cosmetic Surgery Clinic in Waterloo, Canada', \"It's what you do for yourself.\"]\n",
            "2:  ['The Cosmetic Surgery Clinic in Waterloo, Canada', \"It's what you do for yourself.\"]\n",
            "1:  ['The Cosmetic Surgery Clinic in Waterloo, Canada', 'Results now. Results forever.']\n",
            "2:  ['The Cosmetic Surgery Clinic in Waterloo, Canada', 'Results now. Results forever.']\n",
            "1:  ['Pandrangi Plastic Surgery, practice of Dr. Pandrangi', 'Creating beauty throughout life.']\n",
            "2:  ['Pandrangi Plastic Surgery, practice of Dr. Pandrangi', 'Creating beauty throughout life.']\n",
            "1:  ['Lake County Plastic Surgery & Vein Center of Dr. Aras Tijunelis', 'Shaping your dreams into reality.']\n",
            "2:  ['Lake County Plastic Surgery & Vein Center of Dr. Aras Tijunelis', 'Shaping your dreams into reality.']\n",
            "1:  ['Linia Cosmetic Surgery', 'Meeting the national care standards.']\n",
            "2:  ['Linia Cosmetic Surgery', 'Meeting the national care standards.']\n",
            "1:  ['VM Plastic Surgery in India', 'Where excellence blends with experience.']\n",
            "2:  ['VM Plastic Surgery in India', 'Where excellence blends with experience.']\n",
            "1:  ['Dr. Tancredi DAmore, plastic surgeon in California', 'A meticulous approach to natural results.']\n",
            "2:  ['Dr. Tancredi DAmore, plastic surgeon in California', 'A meticulous approach to natural results.']\n",
            "1:  ['Dr. Barbara Howard, plastic surgeon in Jefferson City', 'Practicing the art of plastic surgery.']\n",
            "2:  ['Dr. Barbara Howard, plastic surgeon in Jefferson City', 'Practicing the art of plastic surgery.']\n",
            "1:  ['Riversong Plastic Surgery in Newburyport', 'The art of the possible.']\n",
            "2:  ['Riversong Plastic Surgery in Newburyport', 'The art of the possible.']\n",
            "1:  ['PlasticSurgery.com, website for search plastic surgeons in your area', 'Because beauty is in the details.']\n",
            "2:  ['PlasticSurgery.com, website for search plastic surgeons in your area', 'Because beauty is in the details.']\n",
            "1:  ['Plastic Surgery Associates of Lynchburg', 'Be your best.']\n",
            "2:  ['Plastic Surgery Associates of Lynchburg', 'Be your best.']\n",
            "1:  ['Centra Medical Group', 'You... redefined.']\n",
            "2:  ['Centra Medical Group', 'You... redefined.']\n",
            "1:  ['Plastic Surgery Associates of Macon', 'Imagine a beautiful new you.']\n",
            "2:  ['Plastic Surgery Associates of Macon', 'Imagine a beautiful new you.']\n",
            "1:  ['Plastic Surgery Texas in Fort Worth', 'Trust the hands of experience.']\n",
            "2:  ['Plastic Surgery Texas in Fort Worth', 'Trust the hands of experience.']\n",
            "1:  ['Advanced Plastic Surgery Center in Prescott', 'Emerge to incredible possibilities.']\n",
            "2:  ['Advanced Plastic Surgery Center in Prescott', 'Emerge to incredible possibilities.']\n",
            "1:  ['Advanced Plastic Surgery Center in Arlington', 'Believe in your beauty.']\n",
            "2:  ['Advanced Plastic Surgery Center in Arlington', 'Believe in your beauty.']\n",
            "1:  ['Samra Plastic Surgery in New Jersey', 'Beauty is our practice.']\n",
            "2:  ['Samra Plastic Surgery in New Jersey', 'Beauty is our practice.']\n",
            "1:  ['Artemis Hospitals in India for cosmetic and plastic surgery', 'Our speciality is you.']\n",
            "2:  ['Artemis Hospitals in India for cosmetic and plastic surgery', 'Our speciality is you.']\n",
            "1:  ['Yuva Cosmetic Surgery Center in Vadodara', 'Holding back the years.']\n",
            "2:  ['Yuva Cosmetic Surgery Center in Vadodara', 'Holding back the years.']\n",
            "1:  ['Miguelangelo Plastic Surgery Clinic in Mexico', 'Transform yourself in paradise!']\n",
            "2:  ['Miguelangelo Plastic Surgery Clinic in Mexico', 'Transform yourself in paradise!']\n",
            "1:  ['The Vu Center for plastic & cosmetic surgery in Beaverton', 'Helping you look and feel your very best.']\n",
            "2:  ['The Vu Center for plastic & cosmetic surgery in Beaverton', 'Helping you look and feel your very best.']\n",
            "1:  ['Handal Plastic Surgery in Boca Raton, Florida', 'Where safety & skill unite to provide natural results.']\n",
            "2:  ['Handal Plastic Surgery in Boca Raton, Florida', 'Where safety & skill unite to provide natural results.']\n",
            "1:  ['Garcia Plastic and Hand Surgery in Glens Falls', \"There's no better time to look and feel fantastic in everything you do.\"]\n",
            "2:  ['Garcia Plastic and Hand Surgery in Glens Falls', \"There's no better time to look and feel fantastic in everything you do.\"]\n",
            "1:  ['Ross Pilates', 'Transform, renew, revitalize.']\n",
            "2:  ['Ross Pilates', 'Transform, renew, revitalize.']\n",
            "1:  ['Ross Pilates', 'Strength of body. Peace of mind.']\n",
            "2:  ['Ross Pilates', 'Strength of body. Peace of mind.']\n",
            "1:  ['Encore Pilates, classes in Gainesville', 'Exercise smarter, not harder.']\n",
            "2:  ['Encore Pilates, classes in Gainesville', 'Exercise smarter, not harder.']\n",
            "1:  ['Encore Pilates, classes in Gainesville', 'Health. Strength. Purpose.']\n",
            "2:  ['Encore Pilates, classes in Gainesville', 'Health. Strength. Purpose.']\n",
            "1:  ['EHS Pilates, classes & instructor training in San Francisco', 'Energy. Health. Strength.']\n",
            "2:  ['EHS Pilates, classes & instructor training in San Francisco', 'Energy. Health. Strength.']\n",
            "1:  ['Pilates + Yoga Studio in St. Louis', 'Make a mind-body connection.']\n",
            "2:  ['Pilates + Yoga Studio in St. Louis', 'Make a mind-body connection.']\n",
            "1:  ['Sol Pilates & Yoga, classes in Markham', 'Transform your body and your life with pilates.']\n",
            "2:  ['Sol Pilates & Yoga, classes in Markham', 'Transform your body and your life with pilates.']\n",
            "1:  ['Teague Pilates Studio in Agoura Hills', \"It's not just another workout. It's a lifestyle.\"]\n",
            "2:  ['Teague Pilates Studio in Agoura Hills', \"It's not just another workout. It's a lifestyle.\"]\n",
            "1:  ['Pilates Powerhouse & Rehab Center', \"Live in a body you love. Love the body you're in.\"]\n",
            "2:  ['Pilates Powerhouse & Rehab Center', \"Live in a body you love. Love the body you're in.\"]\n",
            "1:  ['Pilates Santa Fe', 'Experience. Expertise. Excellence.']\n",
            "2:  ['Pilates Santa Fe', 'Experience. Expertise. Excellence.']\n",
            "1:  ['Plexus Pilates in Tucson', 'Do what you love to do better.']\n",
            "2:  ['Plexus Pilates in Tucson', 'Do what you love to do better.']\n",
            "1:  ['Posture Perfect Pilates', 'Strengthen & lengthen one breath at a time.']\n",
            "2:  ['Posture Perfect Pilates', 'Strengthen & lengthen one breath at a time.']\n",
            "1:  ['Pure Pilates, classes in Traverse City', 'Aspire. Strengthen. Evolve.']\n",
            "2:  ['Pure Pilates, classes in Traverse City', 'Aspire. Strengthen. Evolve.']\n",
            "1:  ['Vineyard Pilates & Bodywork', 'Quality you can feel.']\n",
            "2:  ['Vineyard Pilates & Bodywork', 'Quality you can feel.']\n",
            "1:  ['Pilates Central Studio', 'The place to be. The place to become.']\n",
            "2:  ['Pilates Central Studio', 'The place to be. The place to become.']\n",
            "1:  ['Body Harmonics, studios in Toronto', 'For greater wellbeing.']\n",
            "2:  ['Body Harmonics, studios in Toronto', 'For greater wellbeing.']\n",
            "1:  ['West Coast Pilates & Health Inc.', 'Move well into tomorrow.']\n",
            "2:  ['West Coast Pilates & Health Inc.', 'Move well into tomorrow.']\n",
            "1:  ['Purely Pilates, sessions in Hove, England', 'Flexibility through strength.']\n",
            "2:  ['Purely Pilates, sessions in Hove, England', 'Flexibility through strength.']\n",
            "1:  ['Regeneration Pilates, classes in Norwich', 'Feel physically fit for life.']\n",
            "2:  ['Regeneration Pilates, classes in Norwich', 'Feel physically fit for life.']\n",
            "1:  ['Renee Watson Pilates Studio', 'Freedom to move.']\n",
            "2:  ['Renee Watson Pilates Studio', 'Freedom to move.']\n",
            "1:  ['Petersfield Pilates', 'Transform how your body looks, feels and moves.']\n",
            "2:  ['Petersfield Pilates', 'Transform how your body looks, feels and moves.']\n",
            "1:  ['Retrofit Pilates, classes for individuals and groups in Toronto', 'Retrofit your body. Change your life.']\n",
            "2:  ['Retrofit Pilates, classes for individuals and groups in Toronto', 'Retrofit your body. Change your life.']\n",
            "1:  ['USPA, United States Pilates Association', 'The core of pilates education.']\n",
            "2:  ['USPA, United States Pilates Association', 'The core of pilates education.']\n",
            "1:  ['Pilates Platinum in California', 'A fresh approach to fitness.']\n",
            "2:  ['Pilates Platinum in California', 'A fresh approach to fitness.']\n",
            "1:  ['Indigo Pilates Studio in Brooklyn, NY', 'For Pilates and balanced living.']\n",
            "2:  ['Indigo Pilates Studio in Brooklyn, NY', 'For Pilates and balanced living.']\n",
            "1:  ['Pilates Garage in Brooklyn, New York', 'Re-connect. Re-define. Re-align.']\n",
            "2:  ['Pilates Garage in Brooklyn, New York', 'Re-connect. Re-define. Re-align.']\n",
            "1:  ['Iron Butterfly Pilates, training studio in Charlotte', 'Strength from within.']\n",
            "2:  ['Iron Butterfly Pilates, training studio in Charlotte', 'Strength from within.']\n",
            "1:  ['Central Pilates Studio in Washington, UK', 'The next generation in movement.']\n",
            "2:  ['Central Pilates Studio in Washington, UK', 'The next generation in movement.']\n",
            "1:  ['Ashland Pilates Center', 'Classical pilates with a modern twist.']\n",
            "2:  ['Ashland Pilates Center', 'Classical pilates with a modern twist.']\n",
            "1:  ['Flow Pilates Centre', 'The definitive place to move your body.']\n",
            "2:  ['Flow Pilates Centre', 'The definitive place to move your body.']\n",
            "1:  ['The Garuda Yoga and Pilates Studio', 'The intelligent way to exercise.']\n",
            "2:  ['The Garuda Yoga and Pilates Studio', 'The intelligent way to exercise.']\n",
            "1:  ['Pondera Physiotherapy and Pilates in Brisbane', 'We love seeing people perform at their best.']\n",
            "2:  ['Pondera Physiotherapy and Pilates in Brisbane', 'We love seeing people perform at their best.']\n",
            "1:  ['Knoxville Yoga Center', 'Lift your spirit.']\n",
            "2:  ['Knoxville Yoga Center', 'Lift your spirit.']\n",
            "1:  ['Knoxville Yoga Center', 'Lift your spirit. Build your body. Relax your mind.']\n",
            "2:  ['Knoxville Yoga Center', 'Lift your spirit. Build your body. Relax your mind.']\n",
            "1:  ['Rise Yoga Studio, yoga classes in Sacramento', 'Come alive.']\n",
            "2:  ['Rise Yoga Studio, yoga classes in Sacramento', 'Come alive.']\n",
            "1:  ['Kripalu, center for yoga & health in Stockbridge', 'Exploring the yoga of life.']\n",
            "2:  ['Kripalu, center for yoga & health in Stockbridge', 'Exploring the yoga of life.']\n",
            "1:  ['Peachtree Yoga Center in Atlanta', 'Welcome to this beautiful and ancient practice.']\n",
            "2:  ['Peachtree Yoga Center in Atlanta', 'Welcome to this beautiful and ancient practice.']\n",
            "1:  ['Yoga Center of Minneapolis', 'Healthy body. Quiet mind.']\n",
            "2:  ['Yoga Center of Minneapolis', 'Healthy body. Quiet mind.']\n",
            "1:  ['Ignite Yoga Center in Livingston', 'Change your life.']\n",
            "2:  ['Ignite Yoga Center in Livingston', 'Change your life.']\n",
            "1:  ['InYoga Center in California', 'Breathe. Grow. Live. In yoga.']\n",
            "2:  ['InYoga Center in California', 'Breathe. Grow. Live. In yoga.']\n",
            "1:  ['Lighthouse Yoga Center, Washington, DC', 'Your beacon of inner peace.']\n",
            "2:  ['Lighthouse Yoga Center, Washington, DC', 'Your beacon of inner peace.']\n",
            "1:  ['Northville Yoga Center, Michigan', 'Peace in oneself, peace in the world.']\n",
            "2:  ['Northville Yoga Center, Michigan', 'Peace in oneself, peace in the world.']\n",
            "1:  ['Prasada Yoga Center in North Hampton', 'Transforming energy.']\n",
            "2:  ['Prasada Yoga Center in North Hampton', 'Transforming energy.']\n",
            "1:  ['Savannah Yoga Center', 'Just show up.']\n",
            "2:  ['Savannah Yoga Center', 'Just show up.']\n",
            "1:  ['Still Point Yoga Center', 'Discover yoga health. Discover yourself.']\n",
            "2:  ['Still Point Yoga Center', 'Discover yoga health. Discover yourself.']\n",
            "1:  ['The Yoga Center of Stuart', 'Improving your life.']\n",
            "2:  ['The Yoga Center of Stuart', 'Improving your life.']\n",
            "1:  ['Amba Yoga Center in Smithtown', 'More flexibility, new possibilities.']\n",
            "2:  ['Amba Yoga Center in Smithtown', 'More flexibility, new possibilities.']\n",
            "1:  ['Embrace Yoga Center', 'Cultivate a beautiful body, a peaceful mind and a joyful heart.']\n",
            "2:  ['Embrace Yoga Center', 'Cultivate a beautiful body, a peaceful mind and a joyful heart.']\n",
            "1:  ['Anadin drug brand, fast pain relief from headaches, colds & flu', 'Anadin. When only fast will do.']\n",
            "2:  ['Anadin drug brand, fast pain relief from headaches, colds & flu', 'Anadin. When only fast will do.']\n",
            "1:  ['Anadin drug brand, fast pain relief from headaches, colds & flu', 'Nothing acts faster than Anadin.']\n",
            "2:  ['Anadin drug brand, fast pain relief from headaches, colds & flu', 'Nothing acts faster than Anadin.']\n",
            "1:  ['Excedrin drug, painkiller', 'Excedrin. The Headache Medicine.']\n",
            "2:  ['Excedrin drug, painkiller', 'Excedrin. The Headache Medicine.']\n",
            "1:  ['Aleve drug brand, pain reliever / fever reducer', 'Aleve. All Day Strong. All Day Long.']\n",
            "2:  ['Aleve drug brand, pain reliever / fever reducer', 'Aleve. All Day Strong. All Day Long.']\n",
            "1:  ['Bayer Aspirin analgesics', 'The More You Know, The More You Trust Bayer.']\n",
            "2:  ['Bayer Aspirin analgesics', 'The More You Know, The More You Trust Bayer.']\n",
            "1:  ['Bayer Aspirin analgesics', 'Take it for Pain. Take it for Life.']\n",
            "2:  ['Bayer Aspirin analgesics', 'Take it for Pain. Take it for Life.']\n",
            "1:  ['Midol drug brand for menstrual pain relief', 'All you need is Midol.']\n",
            "2:  ['Midol drug brand for menstrual pain relief', 'All you need is Midol.']\n",
            "1:  ['Midol drug brand for menstrual pain relief', \"Because your period's more than a pain.\"]\n",
            "2:  ['Midol drug brand for menstrual pain relief', \"Because your period's more than a pain.\"]\n",
            "1:  ['Solpadeine brand, a range of painkillers', 'Solpadeine. Power to hit pain where it hurts.']\n",
            "2:  ['Solpadeine brand, a range of painkillers', 'Solpadeine. Power to hit pain where it hurts.']\n",
            "1:  ['Paramol Tablets, painkiller', \"Paramol. You can't hit pain much harder.\"]\n",
            "2:  ['Paramol Tablets, painkiller', \"Paramol. You can't hit pain much harder.\"]\n",
            "1:  ['Advil drugs, relief from different types of pain', 'For Better Relief, Advance to Advil!']\n",
            "2:  ['Advil drugs, relief from different types of pain', 'For Better Relief, Advance to Advil!']\n",
            "1:  ['Advil drugs, relief from different types of pain', 'Advil. Stronger than pain..']\n",
            "2:  ['Advil drugs, relief from different types of pain', 'Advil. Stronger than pain..']\n",
            "1:  ['Tylenol drug brand', 'Tylenol. The pain reliever hospitals use most.']\n",
            "2:  ['Tylenol drug brand', 'Tylenol. The pain reliever hospitals use most.']\n",
            "1:  ['Nurofen drug, pain reliever', 'Nurofen. Targeted Relief For Pain.']\n",
            "2:  ['Nurofen drug, pain reliever', 'Nurofen. Targeted Relief For Pain.']\n",
            "1:  ['Vital Europe, cosmetic dental clinics in Europe', 'Spend more on yourself, less on your dentist.']\n",
            "2:  ['Vital Europe, cosmetic dental clinics in Europe', 'Spend more on yourself, less on your dentist.']\n",
            "1:  ['Great Lakes Dental Care in Grand Rapids', 'Be proud of your smile.']\n",
            "2:  ['Great Lakes Dental Care in Grand Rapids', 'Be proud of your smile.']\n",
            "1:  ['Monokian Family & Cosmetic Dentistry', 'Where beautiful smiles begin.']\n",
            "2:  ['Monokian Family & Cosmetic Dentistry', 'Where beautiful smiles begin.']\n",
            "1:  ['Gentech Dentist', 'Its all about you.']\n",
            "2:  ['Gentech Dentist', 'Its all about you.']\n",
            "1:  ['Affordable Dentures', 'A good reason to smile.']\n",
            "2:  ['Affordable Dentures', 'A good reason to smile.']\n",
            "1:  ['Deerfield Family Dentistry', \"Smile! You're in good hands.\"]\n",
            "2:  ['Deerfield Family Dentistry', \"Smile! You're in good hands.\"]\n",
            "1:  ['Deerfield Family Dentistry', 'Let us take care of you and your smile.']\n",
            "2:  ['Deerfield Family Dentistry', 'Let us take care of you and your smile.']\n",
            "1:  ['Dr. Jonathan O. Twomey, dentist in Edina', 'Specialized dentistry. Personalized care.']\n",
            "2:  ['Dr. Jonathan O. Twomey, dentist in Edina', 'Specialized dentistry. Personalized care.']\n",
            "1:  ['Dr. Kamran Fattah, practicing family dentist in Salem', 'A better life starts with a beautiful smile.']\n",
            "2:  ['Dr. Kamran Fattah, practicing family dentist in Salem', 'A better life starts with a beautiful smile.']\n",
            "1:  ['Dr. Wayne T. Yee, dentist in Modesto', 'Dentistry with a personal touch.']\n",
            "2:  ['Dr. Wayne T. Yee, dentist in Modesto', 'Dentistry with a personal touch.']\n",
            "1:  ['American Family Dentistry in Scottsdale', 'Your smile is your best accessory!']\n",
            "2:  ['American Family Dentistry in Scottsdale', 'Your smile is your best accessory!']\n",
            "1:  ['Dental office of Dr. Eric Henize in Blue Ash', 'A health body starts with a healthy mouth.']\n",
            "2:  ['Dental office of Dr. Eric Henize in Blue Ash', 'A health body starts with a healthy mouth.']\n",
            "1:  ['Dental office of Dr. Eric Henize in Blue Ash', 'Dental excellence. Compassionate care.']\n",
            "2:  ['Dental office of Dr. Eric Henize in Blue Ash', 'Dental excellence. Compassionate care.']\n",
            "1:  ['Alaska Center for Dentistry in Anchorage', 'The latest in dentistry from people who care.']\n",
            "2:  ['Alaska Center for Dentistry in Anchorage', 'The latest in dentistry from people who care.']\n",
            "1:  ['Crossroads Family Dentistry in Delta Junction, Alaska', 'Dentistry with family in mind.']\n",
            "2:  ['Crossroads Family Dentistry in Delta Junction, Alaska', 'Dentistry with family in mind.']\n",
            "1:  [\"Ashburn Children's Dentistry\", 'All aboard for healthy smiles!']\n",
            "2:  [\"Ashburn Children's Dentistry\", 'All aboard for healthy smiles!']\n",
            "1:  ['Childrens Dental Clinic of Las Cruces', 'Where kindness & dentistry meet.']\n",
            "2:  ['Childrens Dental Clinic of Las Cruces', 'Where kindness & dentistry meet.']\n",
            "1:  ['Gateway Dental Centre in Canada', 'Your gateway to a breath of fresh air.']\n",
            "2:  ['Gateway Dental Centre in Canada', 'Your gateway to a breath of fresh air.']\n",
            "1:  ['Fraser Family Dental Clinic in Vancouver', 'Improving the world, one smile at a time.']\n",
            "2:  ['Fraser Family Dental Clinic in Vancouver', 'Improving the world, one smile at a time.']\n",
            "1:  ['MySmile, dental practice of Dr. Charles Kamel', 'Flaunt it.']\n",
            "2:  ['MySmile, dental practice of Dr. Charles Kamel', 'Flaunt it.']\n",
            "1:  ['March Dental, practice in Kanata', 'Where smiles come alive.']\n",
            "2:  ['March Dental, practice in Kanata', 'Where smiles come alive.']\n",
            "1:  ['North York Dental Clinic in Toronto', 'Giving our neighbours a smile.']\n",
            "2:  ['North York Dental Clinic in Toronto', 'Giving our neighbours a smile.']\n",
            "1:  ['Thorncliffe Dental Centre in Toronto', 'Smile, and the world smiles with you!']\n",
            "2:  ['Thorncliffe Dental Centre in Toronto', 'Smile, and the world smiles with you!']\n",
            "1:  ['Trillium Dental, Ottawa and nearby areas', 'For the life of your smile.']\n",
            "2:  ['Trillium Dental, Ottawa and nearby areas', 'For the life of your smile.']\n",
            "1:  ['Sedation Dental Group in Canada', 'Family smile care in comfort.']\n",
            "2:  ['Sedation Dental Group in Canada', 'Family smile care in comfort.']\n",
            "1:  ['Dr. Dan Foresto Family & Cosmetic Dentistry', \"Get the smile you've always wanted!\"]\n",
            "2:  ['Dr. Dan Foresto Family & Cosmetic Dentistry', \"Get the smile you've always wanted!\"]\n",
            "1:  ['Dr. Jordan Pettigrew, family dentist in Ottawa', 'Modern dentistry in a calm and relaxed environment.']\n",
            "2:  ['Dr. Jordan Pettigrew, family dentist in Ottawa', 'Modern dentistry in a calm and relaxed environment.']\n",
            "1:  ['Cedars-Sinai, hospital and research institution in Los Angeles', 'Leading the quest for health.']\n",
            "2:  ['Cedars-Sinai, hospital and research institution in Los Angeles', 'Leading the quest for health.']\n",
            "1:  ['Cedars-Sinai, hospital and research institution in Los Angeles', 'Leading the quest for life.']\n",
            "2:  ['Cedars-Sinai, hospital and research institution in Los Angeles', 'Leading the quest for life.']\n",
            "1:  ['Narayana Hrudayalaya Hospitals', 'Health for all. All for health.']\n",
            "2:  ['Narayana Hrudayalaya Hospitals', 'Health for all. All for health.']\n",
            "1:  ['Narayana Hrudayalaya Hospitals', 'Caring with compassion.']\n",
            "2:  ['Narayana Hrudayalaya Hospitals', 'Caring with compassion.']\n",
            "1:  ['Holy Cross Hospital in Silver Spring, Maryland', 'A new generation of medicine.']\n",
            "2:  ['Holy Cross Hospital in Silver Spring, Maryland', 'A new generation of medicine.']\n",
            "1:  ['Holy Cross Hospital in Silver Spring, Maryland', 'Experts in medicine. Specialists in caring.']\n",
            "2:  ['Holy Cross Hospital in Silver Spring, Maryland', 'Experts in medicine. Specialists in caring.']\n",
            "1:  ['Lakshmi Hospital', 'The trusted family hospital.']\n",
            "2:  ['Lakshmi Hospital', 'The trusted family hospital.']\n",
            "1:  ['St. Michaels Hospital, Catholic teaching and research hospital in Toronto', 'Inspired care. Inspiring science.']\n",
            "2:  ['St. Michaels Hospital, Catholic teaching and research hospital in Toronto', 'Inspired care. Inspiring science.']\n",
            "1:  ['Inland Hospital, cardiology and obstetrics services in Maine', 'Where you come first!']\n",
            "2:  ['Inland Hospital, cardiology and obstetrics services in Maine', 'Where you come first!']\n",
            "1:  ['Appasamy Hospital in Chennai', 'Restoring happiness.']\n",
            "2:  ['Appasamy Hospital in Chennai', 'Restoring happiness.']\n",
            "1:  ['Sagar Hospitals, India', 'With you. For life.']\n",
            "2:  ['Sagar Hospitals, India', 'With you. For life.']\n",
            "1:  ['Indo Gulf Hospital, India', 'Your partner in health care.']\n",
            "2:  ['Indo Gulf Hospital, India', 'Your partner in health care.']\n",
            "1:  ['The Miriam Hospital, Providence', 'Quality care... Quality people.']\n",
            "2:  ['The Miriam Hospital, Providence', 'Quality care... Quality people.']\n",
            "1:  ['UCLH, University College London Hospitals', '8 hospitals. 1 vision.']\n",
            "2:  ['UCLH, University College London Hospitals', '8 hospitals. 1 vision.']\n",
            "1:  ['Nottingham University Hospitals', 'We are here for you.']\n",
            "2:  ['Nottingham University Hospitals', 'We are here for you.']\n",
            "1:  ['Lewistown Hospital', 'Right here. Right for you.']\n",
            "2:  ['Lewistown Hospital', 'Right here. Right for you.']\n",
            "1:  [\"Texas Heart Institute at St. Luke's Episcopal Hospital\", 'The heart of discovery.']\n",
            "2:  [\"Texas Heart Institute at St. Luke's Episcopal Hospital\", 'The heart of discovery.']\n",
            "1:  ['South Nassau Communities Hospital', 'Touching lives, one patient at a time.']\n",
            "2:  ['South Nassau Communities Hospital', 'Touching lives, one patient at a time.']\n",
            "1:  ['Nuffield Health Private Hospitals', 'Start living again.']\n",
            "2:  ['Nuffield Health Private Hospitals', 'Start living again.']\n",
            "1:  ['Nuffield Health Private Hospitals', 'Our business is a healthy future.']\n",
            "2:  ['Nuffield Health Private Hospitals', 'Our business is a healthy future.']\n",
            "1:  ['Nuffield Health Leeds Hospital', 'Accessible healthcare for everyone.']\n",
            "2:  ['Nuffield Health Leeds Hospital', 'Accessible healthcare for everyone.']\n",
            "1:  ['Nuffield Health Leeds Hospital', 'Caring for you.']\n",
            "2:  ['Nuffield Health Leeds Hospital', 'Caring for you.']\n",
            "1:  ['Windom Area Hospital', 'Dedicated to health.']\n",
            "2:  ['Windom Area Hospital', 'Dedicated to health.']\n",
            "1:  [\"King Edward VII's Hospital Sister Agnes\", 'Working together for better patient care.']\n",
            "2:  [\"King Edward VII's Hospital Sister Agnes\", 'Working together for better patient care.']\n",
            "1:  ['Methodist Hospitals in Gary & Merrillville, Indiana', 'Leading the way to better health.']\n",
            "2:  ['Methodist Hospitals in Gary & Merrillville, Indiana', 'Leading the way to better health.']\n",
            "1:  ['Hospital for Special Surgery, hospital for orthopedics and rheumatology, New York', 'Specialists in mobility.']\n",
            "2:  ['Hospital for Special Surgery, hospital for orthopedics and rheumatology, New York', 'Specialists in mobility.']\n",
            "1:  ['Hospital for Special Surgery, hospital for orthopedics and rheumatology, New York', 'We rebuild the joy of movement.']\n",
            "2:  ['Hospital for Special Surgery, hospital for orthopedics and rheumatology, New York', 'We rebuild the joy of movement.']\n",
            "1:  ['Methodist Hospital in Henderson, Kentucky', 'The name for healthcare.']\n",
            "2:  ['Methodist Hospital in Henderson, Kentucky', 'The name for healthcare.']\n",
            "1:  ['Edward Hospital & Health Services in Naperville', \"Sharing responsibility for your family's health.\"]\n",
            "2:  ['Edward Hospital & Health Services in Naperville', \"Sharing responsibility for your family's health.\"]\n",
            "1:  ['Norwalk Hospital', 'Compassion. Expertise. Results.']\n",
            "2:  ['Norwalk Hospital', 'Compassion. Expertise. Results.']\n",
            "1:  ['NWH, Northern Westchester Hospital', 'Expertise. Technology. Humanity.']\n",
            "2:  ['NWH, Northern Westchester Hospital', 'Expertise. Technology. Humanity.']\n",
            "1:  ['Northern Inyo Hospital in Bishop, California', 'People you know, caring for people you love.']\n",
            "2:  ['Northern Inyo Hospital in Bishop, California', 'People you know, caring for people you love.']\n",
            "1:  ['Durham Regional Hospital', 'Good neighbors. Good health.']\n",
            "2:  ['Durham Regional Hospital', 'Good neighbors. Good health.']\n",
            "1:  ['Massachusetts General Hospital', 'The creative business of patient care.']\n",
            "2:  ['Massachusetts General Hospital', 'The creative business of patient care.']\n",
            "1:  ['Royal Perth Hospital', 'Committed to excellence in health care.']\n",
            "2:  ['Royal Perth Hospital', 'Committed to excellence in health care.']\n",
            "1:  ['Hospital of St. John & St. Elizabeth in London', 'You are in good hands.']\n",
            "2:  ['Hospital of St. John & St. Elizabeth in London', 'You are in good hands.']\n",
            "1:  ['Tallahassee Memorial Hospital', 'Your hospital for life.']\n",
            "2:  ['Tallahassee Memorial Hospital', 'Your hospital for life.']\n",
            "1:  ['Tallahassee Memorial Hospital', 'Feel the difference.']\n",
            "2:  ['Tallahassee Memorial Hospital', 'Feel the difference.']\n",
            "1:  ['Lawrence + Memorial Hospital', 'Celebrating a century of care.']\n",
            "2:  ['Lawrence + Memorial Hospital', 'Celebrating a century of care.']\n",
            "1:  ['Lawrence + Memorial Hospital', 'Your care. Your trust. Our passion.']\n",
            "2:  ['Lawrence + Memorial Hospital', 'Your care. Your trust. Our passion.']\n",
            "1:  ['Memorial Hospital of Sweetwater County', 'Your health is our legacy.']\n",
            "2:  ['Memorial Hospital of Sweetwater County', 'Your health is our legacy.']\n",
            "1:  ['Memorial Hospital of Sweetwater County', \"The miners' hospital.\"]\n",
            "2:  ['Memorial Hospital of Sweetwater County', \"The miners' hospital.\"]\n",
            "1:  ['Childrens Healthcare of Atlanta, pediatric hospitals', 'Dedicated to all better.']\n",
            "2:  ['Childrens Healthcare of Atlanta, pediatric hospitals', 'Dedicated to all better.']\n",
            "1:  ['Childrens hospital in Central California', 'Amazing people. Incredible care.']\n",
            "2:  ['Childrens hospital in Central California', 'Amazing people. Incredible care.']\n",
            "1:  [\"Children's Hospital in Los Angeles\", 'We treat kids better.']\n",
            "2:  [\"Children's Hospital in Los Angeles\", 'We treat kids better.']\n",
            "1:  ['Childrens Hospital of Wisconsin in Milwaukee', 'Kids deserve the best.']\n",
            "2:  ['Childrens Hospital of Wisconsin in Milwaukee', 'Kids deserve the best.']\n",
            "1:  [\"Levine Children's Hospital in Charlotte\", 'Our world revolves around children.']\n",
            "2:  [\"Levine Children's Hospital in Charlotte\", 'Our world revolves around children.']\n",
            "1:  ['Childrens Hospital Foundations Australia', 'Our children. Their health. Our future.']\n",
            "2:  ['Childrens Hospital Foundations Australia', 'Our children. Their health. Our future.']\n",
            "1:  ['Stamford Hospital', \"When it takes a miracle - we're there.\"]\n",
            "2:  ['Stamford Hospital', \"When it takes a miracle - we're there.\"]\n",
            "1:  ['McCord Hospital, South Africa', 'Bringing care, hope and excellence.']\n",
            "2:  ['McCord Hospital, South Africa', 'Bringing care, hope and excellence.']\n",
            "1:  ['Sturdy Memorial Hospital', 'Amazing medicine. Surprisingly close.']\n",
            "2:  ['Sturdy Memorial Hospital', 'Amazing medicine. Surprisingly close.']\n",
            "1:  ['The Christie Hospital and Cancer Centre, UK', 'We care. We discover. We teach.']\n",
            "2:  ['The Christie Hospital and Cancer Centre, UK', 'We care. We discover. We teach.']\n",
            "1:  ['Pekin Hospital, Illinois', 'Personal size. Personal care.']\n",
            "2:  ['Pekin Hospital, Illinois', 'Personal size. Personal care.']\n",
            "1:  ['Indiana University Hospitals', 'Touching lives with caring hands.']\n",
            "2:  ['Indiana University Hospitals', 'Touching lives with caring hands.']\n",
            "1:  [\"Saint Joseph's Hospital of Atlanta, Georgia\", 'Excellence. Integrity. Commitment.']\n",
            "2:  [\"Saint Joseph's Hospital of Atlanta, Georgia\", 'Excellence. Integrity. Commitment.']\n",
            "1:  [\"Saint Joseph's Hospital of Atlanta, Georgia\", 'Healing hands. Caring hearts. Touching lives.']\n",
            "2:  [\"Saint Joseph's Hospital of Atlanta, Georgia\", 'Healing hands. Caring hearts. Touching lives.']\n",
            "1:  ['Susan B. Allen Memorial Hospital in El Dorado', 'Great health care from people you trust.']\n",
            "2:  ['Susan B. Allen Memorial Hospital in El Dorado', 'Great health care from people you trust.']\n",
            "1:  ['Susan B. Allen Memorial Hospital in El Dorado', 'People you know. Healthcare you trust.']\n",
            "2:  ['Susan B. Allen Memorial Hospital in El Dorado', 'People you know. Healthcare you trust.']\n",
            "1:  [\"Boston Children's Hospital\", 'Until every child is well.']\n",
            "2:  [\"Boston Children's Hospital\", 'Until every child is well.']\n",
            "1:  [\"Boston Children's Hospital\", 'The first place for children.']\n",
            "2:  [\"Boston Children's Hospital\", 'The first place for children.']\n",
            "1:  [\"St. Jude Children's Research Hospital\", 'Finding cures. Saving children.']\n",
            "2:  [\"St. Jude Children's Research Hospital\", 'Finding cures. Saving children.']\n",
            "1:  [\"Children's Hospital & Research Center in Oakland\", 'Undivided attention. Unsurpassed care.']\n",
            "2:  [\"Children's Hospital & Research Center in Oakland\", 'Undivided attention. Unsurpassed care.']\n",
            "1:  [\"Miami Children's Hospital\", \"We're here for the children.\"]\n",
            "2:  [\"Miami Children's Hospital\", \"We're here for the children.\"]\n",
            "1:  [\"Wolfson Children's Hospital in Jacksonville, Florida\", 'Where children come first.']\n",
            "2:  [\"Wolfson Children's Hospital in Jacksonville, Florida\", 'Where children come first.']\n",
            "1:  [\"The Children's Hospital of Philadelphia\", 'Hope lives here.']\n",
            "2:  [\"The Children's Hospital of Philadelphia\", 'Hope lives here.']\n",
            "1:  [\"Children's Hospital Colorado\", 'Kids need a kids hospital.']\n",
            "2:  [\"Children's Hospital Colorado\", 'Kids need a kids hospital.']\n",
            "1:  ['Great Ormond Street Hospital for Children', 'The child first and always.']\n",
            "2:  ['Great Ormond Street Hospital for Children', 'The child first and always.']\n",
            "1:  [\"Driscoll Children's Hospital\", 'Offering hope and healing.']\n",
            "2:  [\"Driscoll Children's Hospital\", 'Offering hope and healing.']\n",
            "1:  ['Shriners Hospitals for Children', 'Love to the rescue.']\n",
            "2:  ['Shriners Hospitals for Children', 'Love to the rescue.']\n",
            "1:  [\"New Hampshire's Hospital for Children\", 'Healthcare just for kids.']\n",
            "2:  [\"New Hampshire's Hospital for Children\", 'Healthcare just for kids.']\n",
            "1:  [\"Nationwide Children's Hospital, pediatric hospital and research institute\", 'When your child needs a hospital, everything matters.']\n",
            "2:  [\"Nationwide Children's Hospital, pediatric hospital and research institute\", 'When your child needs a hospital, everything matters.']\n",
            "1:  [\"All Children's Hospital, pediatric hospital in St. Petersburg, Florida\", 'Creating healthy tomorrows... for one child, for all children.']\n",
            "2:  [\"All Children's Hospital, pediatric hospital in St. Petersburg, Florida\", 'Creating healthy tomorrows... for one child, for all children.']\n",
            "1:  ['HCA Hospitals in the UK', 'World-class healthcare.']\n",
            "2:  ['HCA Hospitals in the UK', 'World-class healthcare.']\n",
            "1:  ['HCA Hospitals in the UK', 'World class hospitals. World class future.']\n",
            "2:  ['HCA Hospitals in the UK', 'World class hospitals. World class future.']\n",
            "1:  ['Bridgeport Hospital, private general medical and surgical hospital', 'Caring for your life.']\n",
            "2:  ['Bridgeport Hospital, private general medical and surgical hospital', 'Caring for your life.']\n",
            "1:  ['Bridgeport Hospital, private general medical and surgical hospital', \"A century ago, we made a commitment. We've kept it.\"]\n",
            "2:  ['Bridgeport Hospital, private general medical and surgical hospital', \"A century ago, we made a commitment. We've kept it.\"]\n",
            "1:  ['Erskine Hospital, care for veterans of the British Armed Forces', 'Proud to care.']\n",
            "2:  ['Erskine Hospital, care for veterans of the British Armed Forces', 'Proud to care.']\n",
            "1:  ['Erskine Hospital, care for veterans of the British Armed Forces', 'Caring for ex-service men and women across Scotland.']\n",
            "2:  ['Erskine Hospital, care for veterans of the British Armed Forces', 'Caring for ex-service men and women across Scotland.']\n",
            "1:  ['Saskatoon City Hospital Foundation', 'People caring for people.']\n",
            "2:  ['Saskatoon City Hospital Foundation', 'People caring for people.']\n",
            "1:  ['WakeMed Health and Hospitals', 'The power to heal. A passion for care.']\n",
            "2:  ['WakeMed Health and Hospitals', 'The power to heal. A passion for care.']\n",
            "1:  [\"St. Luke's Hospital in Chesterfield, Missouri\", 'Our specialty is you.']\n",
            "2:  [\"St. Luke's Hospital in Chesterfield, Missouri\", 'Our specialty is you.']\n",
            "1:  ['White Plains Hospital', 'Our bottom line is you.']\n",
            "2:  ['White Plains Hospital', 'Our bottom line is you.']\n",
            "1:  ['Wentworth-Douglass Hospital', \"The seacoast's leading medical center.\"]\n",
            "2:  ['Wentworth-Douglass Hospital', \"The seacoast's leading medical center.\"]\n",
            "1:  ['The New Victoria Hospital, UK', 'When only the best will do.']\n",
            "2:  ['The New Victoria Hospital, UK', 'When only the best will do.']\n",
            "1:  [\"St. Joseph's Hospital Health Center in Syracuse\", 'A higher level of care.']\n",
            "2:  [\"St. Joseph's Hospital Health Center in Syracuse\", 'A higher level of care.']\n",
            "1:  [\"Saint Peter's University Hospital in New Brunswick\", 'For you. For your family. For life.']\n",
            "2:  [\"Saint Peter's University Hospital in New Brunswick\", 'For you. For your family. For life.']\n",
            "1:  ['Saifee Hospital in Mumbai', 'When I fall sick it is he who cures me.']\n",
            "2:  ['Saifee Hospital in Mumbai', 'When I fall sick it is he who cures me.']\n",
            "1:  ['Regency Hospital in Kanpur', 'Patient centric care.']\n",
            "2:  ['Regency Hospital in Kanpur', 'Patient centric care.']\n",
            "1:  ['South Shore Hospital', 'There is a difference.']\n",
            "2:  ['South Shore Hospital', 'There is a difference.']\n",
            "1:  ['Mount Sinai Hospital in Toronto', 'Bright minds. Big hearts. The best medicine.']\n",
            "2:  ['Mount Sinai Hospital in Toronto', 'Bright minds. Big hearts. The best medicine.']\n",
            "1:  ['Mater Private Hospital in Ireland', 'A heritage in care. A reputation in excellence.']\n",
            "2:  ['Mater Private Hospital in Ireland', 'A heritage in care. A reputation in excellence.']\n",
            "1:  ['Mater Private Hospital in Ireland', 'We put people first.']\n",
            "2:  ['Mater Private Hospital in Ireland', 'We put people first.']\n",
            "1:  ['The Medical City, tertiary care hospital, Philippines', 'Where patients are partners.']\n",
            "2:  ['The Medical City, tertiary care hospital, Philippines', 'Where patients are partners.']\n",
            "1:  ['The Medical City, tertiary care hospital, Philippines', 'Capital of health.']\n",
            "2:  ['The Medical City, tertiary care hospital, Philippines', 'Capital of health.']\n",
            "1:  ['Capital Health Hospitals', 'Minds advancing medicine.']\n",
            "2:  ['Capital Health Hospitals', 'Minds advancing medicine.']\n",
            "1:  ['Capital Health Hospitals', 'Outstanding care. Extremely close.']\n",
            "2:  ['Capital Health Hospitals', 'Outstanding care. Extremely close.']\n",
            "1:  ['Kingston General Hospital, Canada', 'Outstanding care, always.']\n",
            "2:  ['Kingston General Hospital, Canada', 'Outstanding care, always.']\n",
            "1:  ['Aventura Hospital and Medical Center in Florida', 'Respect. Service. Excellence.']\n",
            "2:  ['Aventura Hospital and Medical Center in Florida', 'Respect. Service. Excellence.']\n",
            "1:  ['Barnsley Hospital', 'Our patients are at the centre of everything we do.']\n",
            "2:  ['Barnsley Hospital', 'Our patients are at the centre of everything we do.']\n",
            "1:  ['Beacon Hospital in Dublin, Ireland', 'A leading light in healthcare.']\n",
            "2:  ['Beacon Hospital in Dublin, Ireland', 'A leading light in healthcare.']\n",
            "1:  ['Mater, chain of hospitals in Australia', 'Exceptional people. Exceptional care.']\n",
            "2:  ['Mater, chain of hospitals in Australia', 'Exceptional people. Exceptional care.']\n",
            "1:  ['Medical City Hospital in Dallas, Texas', 'Specialists. In life.']\n",
            "2:  ['Medical City Hospital in Dallas, Texas', 'Specialists. In life.']\n",
            "1:  ['Overlake Hospital Medical Center in Bellevue, medical and surgical services', 'Medical excellence every day.']\n",
            "2:  ['Overlake Hospital Medical Center in Bellevue, medical and surgical services', 'Medical excellence every day.']\n",
            "1:  ['BMI private hospitals and treatment centres, UK', 'Zero in on maximum health.']\n",
            "2:  ['BMI private hospitals and treatment centres, UK', 'Zero in on maximum health.']\n",
            "1:  ['Gordon Hospital', 'Founded on faith. Focused on family.']\n",
            "2:  ['Gordon Hospital', 'Founded on faith. Focused on family.']\n",
            "1:  [\"Brigham and Women's Hospital & Medical Center in Boston\", 'Compassionate care. Extraordinary nursing.']\n",
            "2:  [\"Brigham and Women's Hospital & Medical Center in Boston\", 'Compassionate care. Extraordinary nursing.']\n",
            "1:  ['Reid Hospital in Richmond, Indiana', 'Caring. Healing. Leading.']\n",
            "2:  ['Reid Hospital in Richmond, Indiana', 'Caring. Healing. Leading.']\n",
            "1:  [\"Saint Mary's Hospital in Waterbury\", 'Exceptional care. Every patient. Every day.']\n",
            "2:  [\"Saint Mary's Hospital in Waterbury\", 'Exceptional care. Every patient. Every day.']\n",
            "1:  ['Cotswold Care Hospice in Minchinhampton', 'Every day is special.']\n",
            "2:  ['Cotswold Care Hospice in Minchinhampton', 'Every day is special.']\n",
            "1:  ['The Prince & Princess of Wales Hospice in Glasgow', 'A quality of care. A quality of life.']\n",
            "2:  ['The Prince & Princess of Wales Hospice in Glasgow', 'A quality of care. A quality of life.']\n",
            "1:  ['Katharine House Hospice, free hospice care in Staffordshire', 'Embracing life and living.']\n",
            "2:  ['Katharine House Hospice, free hospice care in Staffordshire', 'Embracing life and living.']\n",
            "1:  ['Samaritan Healthcare & Hospice, New Jersey', 'Embrace each moment.']\n",
            "2:  ['Samaritan Healthcare & Hospice, New Jersey', 'Embrace each moment.']\n",
            "1:  ['Good Sam or Good Samaritan Hospice in Roanoke', 'Good Sam. For good reasons.']\n",
            "2:  ['Good Sam or Good Samaritan Hospice in Roanoke', 'Good Sam. For good reasons.']\n",
            "1:  [\"St. Joseph's Hospice in Sarnia, Ontario\", 'Care. Compassion. Community.']\n",
            "2:  [\"St. Joseph's Hospice in Sarnia, Ontario\", 'Care. Compassion. Community.']\n",
            "1:  [\"St. Joseph's Hospice in Sarnia, Ontario\", 'When home and hospital are no longer appropriate.']\n",
            "2:  [\"St. Joseph's Hospice in Sarnia, Ontario\", 'When home and hospital are no longer appropriate.']\n",
            "1:  ['Heart House Hospice in Mississauga', 'A special kind of caring.']\n",
            "2:  ['Heart House Hospice in Mississauga', 'A special kind of caring.']\n",
            "1:  ['Elizabeth Hospice in Escondido', 'Think differently.']\n",
            "2:  ['Elizabeth Hospice in Escondido', 'Think differently.']\n",
            "1:  ['Hospice Georgian Triangle in Collingwood', 'Caring not curing.']\n",
            "2:  ['Hospice Georgian Triangle in Collingwood', 'Caring not curing.']\n",
            "1:  ['Hospice of Medina County', 'Expert care. Compassionate hearts.']\n",
            "2:  ['Hospice of Medina County', 'Expert care. Compassionate hearts.']\n",
            "1:  ['Hospice Quinte in Belleville', \"Compassionate support on life's journey.\"]\n",
            "2:  ['Hospice Quinte in Belleville', \"Compassionate support on life's journey.\"]\n",
            "1:  ['Hospice Orillia', \"It's all about living.\"]\n",
            "2:  ['Hospice Orillia', \"It's all about living.\"]\n",
            "1:  ['Houston Hospice', 'Life matters.']\n",
            "2:  ['Houston Hospice', 'Life matters.']\n",
            "1:  ['Providence Hospice in Fort Worth, TX', 'Because your life matters.']\n",
            "2:  ['Providence Hospice in Fort Worth, TX', 'Because your life matters.']\n",
            "1:  ['Seasons Hospice in Rochester, Minnesota', 'Adding quality of life to each day.']\n",
            "2:  ['Seasons Hospice in Rochester, Minnesota', 'Adding quality of life to each day.']\n",
            "1:  ['LivingWell Health Clubs', 'Personalised fitness for life.']\n",
            "2:  ['LivingWell Health Clubs', 'Personalised fitness for life.']\n",
            "1:  ['LivingWell Health Clubs', 'Changing the face of health clubs.']\n",
            "2:  ['LivingWell Health Clubs', 'Changing the face of health clubs.']\n",
            "1:  ['TEST Sports Clubs in New Jersey', 'Total energy for life.']\n",
            "2:  ['TEST Sports Clubs in New Jersey', 'Total energy for life.']\n",
            "1:  ['World Gym, international chain of fitness clubs', \"You can't solve every problem with your head.\"]\n",
            "2:  ['World Gym, international chain of fitness clubs', \"You can't solve every problem with your head.\"]\n",
            "1:  ['Total Fitness, chain of health clubs in the UK', 'Putting your health first.']\n",
            "2:  ['Total Fitness, chain of health clubs in the UK', 'Putting your health first.']\n",
            "1:  ['Kieser Training Gyms', 'Strength for health.']\n",
            "2:  ['Kieser Training Gyms', 'Strength for health.']\n",
            "1:  ['Kieser Training Gyms', \"We've worked out how you can work out effectively.\"]\n",
            "2:  ['Kieser Training Gyms', \"We've worked out how you can work out effectively.\"]\n",
            "1:  ['Fortis Fitness, gym in Toronto', 'Knowledge is power.']\n",
            "2:  ['Fortis Fitness, gym in Toronto', 'Knowledge is power.']\n",
            "1:  ['Rapid Fitness, gym in Raleigh', 'Quick results done right.']\n",
            "2:  ['Rapid Fitness, gym in Raleigh', 'Quick results done right.']\n",
            "1:  ['Eden Fitness, luxury health and fitness club in London', 'As individual as you are.']\n",
            "2:  ['Eden Fitness, luxury health and fitness club in London', 'As individual as you are.']\n",
            "1:  ['The Glen Fitness Studio', 'As unique as you.']\n",
            "2:  ['The Glen Fitness Studio', 'As unique as you.']\n",
            "1:  ['Future Fit Training, fitness courses', 'Training for the serious fitness professional.']\n",
            "2:  ['Future Fit Training, fitness courses', 'Training for the serious fitness professional.']\n",
            "1:  ['Premier Training International, certified personal fitness trainer courses', 'The personal training company.']\n",
            "2:  ['Premier Training International, certified personal fitness trainer courses', 'The personal training company.']\n",
            "1:  ['Lotus Fitness Studio', 'Change your mind. Change your body. Change your life.']\n",
            "2:  ['Lotus Fitness Studio', 'Change your mind. Change your body. Change your life.']\n",
            "1:  ['Virgin Active Health Clubs', 'Live happily ever active.']\n",
            "2:  ['Virgin Active Health Clubs', 'Live happily ever active.']\n",
            "1:  ['Virgin Active Health Clubs', \"Don't just live, live happily ever active.\"]\n",
            "2:  ['Virgin Active Health Clubs', \"Don't just live, live happily ever active.\"]\n",
            "1:  ['Virgin Active Health Clubs', \"Life's more fun when you move.\"]\n",
            "2:  ['Virgin Active Health Clubs', \"Life's more fun when you move.\"]\n",
            "1:  ['Spectrum Athletic Clubs', 'We take your fitness personally.']\n",
            "2:  ['Spectrum Athletic Clubs', 'We take your fitness personally.']\n",
            "1:  ['Cambridge Athletic Club', 'Get fit. Stay strong. Belong.']\n",
            "2:  ['Cambridge Athletic Club', 'Get fit. Stay strong. Belong.']\n",
            "1:  ['Fitness Factory, full-service athletic club in St. Louis', 'Building a better you!']\n",
            "2:  ['Fitness Factory, full-service athletic club in St. Louis', 'Building a better you!']\n",
            "1:  ['Merritt Athletic Clubs', 'Where your future takes shape.']\n",
            "2:  ['Merritt Athletic Clubs', 'Where your future takes shape.']\n",
            "1:  ['Platinum Athletic Club, Surrey, Canada', 'Reach your potential.']\n",
            "2:  ['Platinum Athletic Club, Surrey, Canada', 'Reach your potential.']\n",
            "1:  ['Talwalkars, chain of health centers in India', 'Spreading fitness in over 70 cities.']\n",
            "2:  ['Talwalkars, chain of health centers in India', 'Spreading fitness in over 70 cities.']\n",
            "1:  ['Talwalkars, chain of health centers in India', 'Committed to fitness since 1932.']\n",
            "2:  ['Talwalkars, chain of health centers in India', 'Committed to fitness since 1932.']\n",
            "1:  ['Paramount Health & Fitness Club near Melbourne', 'A better life for all of us.']\n",
            "2:  ['Paramount Health & Fitness Club near Melbourne', 'A better life for all of us.']\n",
            "1:  ['Grindstone Fitness Studio in Columbia, MO', 'The perfect body is a body in motion.']\n",
            "2:  ['Grindstone Fitness Studio in Columbia, MO', 'The perfect body is a body in motion.']\n",
            "1:  ['Jim White Fitness &Nutrition Studios', 'See the difference in you.']\n",
            "2:  ['Jim White Fitness &Nutrition Studios', 'See the difference in you.']\n",
            "1:  ['Transform Fitness in Mahomet, IL', 'Be transformed!']\n",
            "2:  ['Transform Fitness in Mahomet, IL', 'Be transformed!']\n",
            "1:  ['Vadim Fitness Studio in Scarsdale', 'Fitness for the real world.']\n",
            "2:  ['Vadim Fitness Studio in Scarsdale', 'Fitness for the real world.']\n",
            "1:  ['Jupiter Fitness Center', 'Body under construction.']\n",
            "2:  ['Jupiter Fitness Center', 'Body under construction.']\n",
            "1:  ['Club Fitness', 'Better fitness. Better price.']\n",
            "2:  ['Club Fitness', 'Better fitness. Better price.']\n",
            "1:  ['RPM Fitness Studio in Wrexham, North Wales', \"If it doesn't challenge you, it doesn't change you.\"]\n",
            "2:  ['RPM Fitness Studio in Wrexham, North Wales', \"If it doesn't challenge you, it doesn't change you.\"]\n",
            "1:  ['Curves, fitness and weight loss clubs for women', 'You curves will amaze you.']\n",
            "2:  ['Curves, fitness and weight loss clubs for women', 'You curves will amaze you.']\n",
            "1:  ['Curves, fitness and weight loss clubs for women', 'The power to amaze yourself.']\n",
            "2:  ['Curves, fitness and weight loss clubs for women', 'The power to amaze yourself.']\n",
            "1:  [\"TWP Fitness, women's gym and fitness centre in Kelowna\", \"The woman's place.\"]\n",
            "2:  [\"TWP Fitness, women's gym and fitness centre in Kelowna\", \"The woman's place.\"]\n",
            "1:  [\"TWP Fitness, women's gym and fitness centre in Kelowna\", 'Women training for the sport of life.']\n",
            "2:  [\"TWP Fitness, women's gym and fitness centre in Kelowna\", 'Women training for the sport of life.']\n",
            "1:  ['Fitness Plus, gyms for women in Santa Fe', \"First in women's health and fitness.\"]\n",
            "2:  ['Fitness Plus, gyms for women in Santa Fe', \"First in women's health and fitness.\"]\n",
            "1:  ['Balance Fitness, studio for women in New Haven', 'Look good. Feel great.']\n",
            "2:  ['Balance Fitness, studio for women in New Haven', 'Look good. Feel great.']\n",
            "1:  [\"Body & Soul Fitness Studio, women's gym in Lancaster\", 'Real fitness for every woman.']\n",
            "2:  [\"Body & Soul Fitness Studio, women's gym in Lancaster\", 'Real fitness for every woman.']\n",
            "1:  ['Escape Fitness Studio, womens gym in Sydney', 'Escape the everyday.']\n",
            "2:  ['Escape Fitness Studio, womens gym in Sydney', 'Escape the everyday.']\n",
            "1:  ['Kinetix Health Club in Lynchburg', 'Fitness prescription for life.']\n",
            "2:  ['Kinetix Health Club in Lynchburg', 'Fitness prescription for life.']\n",
            "1:  ['Workout Anytime, chain of fitness clubs', 'Your fitness. Your schedule.']\n",
            "2:  ['Workout Anytime, chain of fitness clubs', 'Your fitness. Your schedule.']\n",
            "1:  ['The Hampton Health & Fitness Club', 'Fitness got personal.']\n",
            "2:  ['The Hampton Health & Fitness Club', 'Fitness got personal.']\n",
            "1:  ['Rosemary Conley Diet and Fitness Clubs', 'Fitter. Healthier. Happier.']\n",
            "2:  ['Rosemary Conley Diet and Fitness Clubs', 'Fitter. Healthier. Happier.']\n",
            "1:  ['Rosemary Conley Diet and Fitness Clubs', 'Work with the best.']\n",
            "2:  ['Rosemary Conley Diet and Fitness Clubs', 'Work with the best.']\n",
            "1:  ['Get Serious Fitness, classes in Lethbridge', 'Discover your potential!']\n",
            "2:  ['Get Serious Fitness, classes in Lethbridge', 'Discover your potential!']\n",
            "1:  ['Pilates Plus of Schaumburg, fitness studio', 'Where fun & fitness meet!']\n",
            "2:  ['Pilates Plus of Schaumburg, fitness studio', 'Where fun & fitness meet!']\n",
            "1:  ['Ottawa Pole Fitness, studio for pole dancing classes', 'Get fit. Feel good. Have fun!']\n",
            "2:  ['Ottawa Pole Fitness, studio for pole dancing classes', 'Get fit. Feel good. Have fun!']\n",
            "1:  ['San Juan Island Fitness', 'The place to feel good, look great and stay strong!']\n",
            "2:  ['San Juan Island Fitness', 'The place to feel good, look great and stay strong!']\n",
            "1:  ['Momentum Female Fitness Center in Mechanicsburg', 'The motivation to move you in body, mind & spirit.']\n",
            "2:  ['Momentum Female Fitness Center in Mechanicsburg', 'The motivation to move you in body, mind & spirit.']\n",
            "1:  ['LA fitness, health and fitness clubs in the UK', \"We'll get there together.\"]\n",
            "2:  ['LA fitness, health and fitness clubs in the UK', \"We'll get there together.\"]\n",
            "1:  ['LA fitness, health and fitness clubs in the UK', \"You're better off with LA Fitness.\"]\n",
            "2:  ['LA fitness, health and fitness clubs in the UK', \"You're better off with LA Fitness.\"]\n",
            "1:  ['LA fitness, health and fitness clubs in the UK', \"We're on your side.\"]\n",
            "2:  ['LA fitness, health and fitness clubs in the UK', \"We're on your side.\"]\n",
            "1:  ['LA Fitness, chain of health clubs across the United States and Canada', 'Exercise your options.']\n",
            "2:  ['LA Fitness, chain of health clubs across the United States and Canada', 'Exercise your options.']\n",
            "1:  ['Bally Total Fitness, health club chain', 'Every body needs something.']\n",
            "2:  ['Bally Total Fitness, health club chain', 'Every body needs something.']\n",
            "1:  ['CMFC, Cape May Fitness Center', \"Success is not a gift. It's a choice.\"]\n",
            "2:  ['CMFC, Cape May Fitness Center', \"Success is not a gift. It's a choice.\"]\n",
            "1:  ['David Lloyd, racquets, health and fitness clubs', 'Life. Be fit for it.']\n",
            "2:  ['David Lloyd, racquets, health and fitness clubs', 'Life. Be fit for it.']\n",
            "1:  [\"Gold's Gym, international chain of fitness centers\", 'Know your own strength.']\n",
            "2:  [\"Gold's Gym, international chain of fitness centers\", 'Know your own strength.']\n",
            "1:  [\"Gold's Gym, international chain of fitness centers\", 'The confidence to do what you need to.']\n",
            "2:  [\"Gold's Gym, international chain of fitness centers\", 'The confidence to do what you need to.']\n",
            "1:  ['Fitness First, international chain of health clubs', \"We'll help you put your fitness first.\"]\n",
            "2:  ['Fitness First, international chain of health clubs', \"We'll help you put your fitness first.\"]\n",
            "1:  ['Fitness First, international chain of health clubs', 'Be yourself.']\n",
            "2:  ['Fitness First, international chain of health clubs', 'Be yourself.']\n",
            "1:  ['Victory Fitness Centers in Columbus, OH', 'Where winning is losing!']\n",
            "2:  ['Victory Fitness Centers in Columbus, OH', 'Where winning is losing!']\n",
            "1:  ['Body Shop Fitness Centers', 'Your body. Your life.']\n",
            "2:  ['Body Shop Fitness Centers', 'Your body. Your life.']\n",
            "1:  ['Tonics Fitness Centre in Sittingbourne', 'Real people. Real results.']\n",
            "2:  ['Tonics Fitness Centre in Sittingbourne', 'Real people. Real results.']\n",
            "1:  ['Gryphon Fitness Studio in Placentia, CA', 'Making fitness fun!']\n",
            "2:  ['Gryphon Fitness Studio in Placentia, CA', 'Making fitness fun!']\n",
            "1:  ['Oni Fitness Studio in Atlanta', 'Live, move, flourish.']\n",
            "2:  ['Oni Fitness Studio in Atlanta', 'Live, move, flourish.']\n",
            "1:  ['Lifestyle Health &Fitness Centre in Nanaimo', 'Where fitness is a way of life.']\n",
            "2:  ['Lifestyle Health &Fitness Centre in Nanaimo', 'Where fitness is a way of life.']\n",
            "1:  [\"The GYM, Penticton's health & fitness center\", 'Take the 1st step.']\n",
            "2:  [\"The GYM, Penticton's health & fitness center\", 'Take the 1st step.']\n",
            "1:  [\"Palooka's Executive Fitness, gym in Halifax\", 'A better quality of life.']\n",
            "2:  [\"Palooka's Executive Fitness, gym in Halifax\", 'A better quality of life.']\n",
            "1:  ['Ultimate Fitness Gym in Renfrew, Canada', 'Serious about strength.']\n",
            "2:  ['Ultimate Fitness Gym in Renfrew, Canada', 'Serious about strength.']\n",
            "1:  ['Wiarton Fitness Centre', 'Moving your life forward.']\n",
            "2:  ['Wiarton Fitness Centre', 'Moving your life forward.']\n",
            "1:  ['LFC, Lexington Fitness Club', 'New strength, new beginnings.']\n",
            "2:  ['LFC, Lexington Fitness Club', 'New strength, new beginnings.']\n",
            "1:  ['Newlife Fitness Club in Laurencekirk', \"It's Never too late to be all you can be.\"]\n",
            "2:  ['Newlife Fitness Club in Laurencekirk', \"It's Never too late to be all you can be.\"]\n",
            "1:  ['Nirvana Family Fitness in Bristol, Philadelphia', 'For those who want to look better and feel better.']\n",
            "2:  ['Nirvana Family Fitness in Bristol, Philadelphia', 'For those who want to look better and feel better.']\n",
            "1:  ['David Lloyd, racquets, health and fitness clubs', 'David Lloyd. Feel the difference.']\n",
            "2:  ['David Lloyd, racquets, health and fitness clubs', 'David Lloyd. Feel the difference.']\n",
            "1:  ['Anytime Fitness, chain of health and fitness clubs, USA', 'The club for busy people.']\n",
            "2:  ['Anytime Fitness, chain of health and fitness clubs, USA', 'The club for busy people.']\n",
            "1:  ['Anytime Fitness, chain of health and fitness clubs, USA', 'Get in a workout. Get on with your life.']\n",
            "2:  ['Anytime Fitness, chain of health and fitness clubs, USA', 'Get in a workout. Get on with your life.']\n",
            "1:  ['Activ8 Health & Fitness Clubs', 'We believe in a better you.']\n",
            "2:  ['Activ8 Health & Fitness Clubs', 'We believe in a better you.']\n",
            "1:  ['TFD, private health & fitness club', 'Investing in your life.']\n",
            "2:  ['TFD, private health & fitness club', 'Investing in your life.']\n",
            "1:  ['Bladium Sports & Fitness Club in Alameda', 'Big clubs. Big energy.']\n",
            "2:  ['Bladium Sports & Fitness Club in Alameda', 'Big clubs. Big energy.']\n",
            "1:  ['Watford Fitness Club', 'Your body session.']\n",
            "2:  ['Watford Fitness Club', 'Your body session.']\n",
            "1:  ['Vanguard Key Clubs', 'Resolve to live healthy.']\n",
            "2:  ['Vanguard Key Clubs', 'Resolve to live healthy.']\n",
            "1:  ['Oak Brook Racquet and Fitness Club', 'Play. Train. Relax.']\n",
            "2:  ['Oak Brook Racquet and Fitness Club', 'Play. Train. Relax.']\n",
            "1:  ['Bath & Racquet Fitness Club in Sarasota', 'Where Sarasota comes to play.']\n",
            "2:  ['Bath & Racquet Fitness Club in Sarasota', 'Where Sarasota comes to play.']\n",
            "1:  ['Area Fitness in Toronto', 'Throw away all your excuses.']\n",
            "2:  ['Area Fitness in Toronto', 'Throw away all your excuses.']\n",
            "1:  ['DNA Fitness Studio in Richmond', 'Changing lives, one workout at a time.']\n",
            "2:  ['DNA Fitness Studio in Richmond', 'Changing lives, one workout at a time.']\n",
            "1:  ['AA Fitness Studio in Dumfries', 'You too can be fighting fit.']\n",
            "2:  ['AA Fitness Studio in Dumfries', 'You too can be fighting fit.']\n",
            "1:  ['AA Fitness Studio in Dumfries', 'Fitness has never been so much fun!']\n",
            "2:  ['AA Fitness Studio in Dumfries', 'Fitness has never been so much fun!']\n",
            "1:  ['AA Fitness Studio in Dumfries', 'Building confidence. Building fitness.']\n",
            "2:  ['AA Fitness Studio in Dumfries', 'Building confidence. Building fitness.']\n",
            "1:  ['ABsolute Fitness and Personal Training in New Hamburg, Canada', 'Our goal is to help you reach yours.']\n",
            "2:  ['ABsolute Fitness and Personal Training in New Hamburg, Canada', 'Our goal is to help you reach yours.']\n",
            "1:  ['Healthworks Fitness Studio in Stratford-upon-Avon', 'Your local health club.']\n",
            "2:  ['Healthworks Fitness Studio in Stratford-upon-Avon', 'Your local health club.']\n",
            "1:  [\"Hot Fitness Studio in St. John's\", 'Perspire to greatness.']\n",
            "2:  [\"Hot Fitness Studio in St. John's\", 'Perspire to greatness.']\n",
            "1:  [\"KP Fitness Studio, women's training in Abbotsford\", 'The evolution of fitness for HER.']\n",
            "2:  [\"KP Fitness Studio, women's training in Abbotsford\", 'The evolution of fitness for HER.']\n",
            "1:  ['Boom Fitness, gym in Portland', 'More boom for your buck!']\n",
            "2:  ['Boom Fitness, gym in Portland', 'More boom for your buck!']\n",
            "1:  ['Boom Fitness, health club in New York', 'Strength that shows.']\n",
            "2:  ['Boom Fitness, health club in New York', 'Strength that shows.']\n",
            "1:  ['Elite Fitness Studio in Broadstairs', 'Be part of the Elite.']\n",
            "2:  ['Elite Fitness Studio in Broadstairs', 'Be part of the Elite.']\n",
            "1:  ['Elite Fitness Studio in Broadstairs', 'Bespoke fitness for all ages.']\n",
            "2:  ['Elite Fitness Studio in Broadstairs', 'Bespoke fitness for all ages.']\n",
            "1:  ['Pilates Plus Fitness Studio in Highett', 'Changing bodies, changing lives.']\n",
            "2:  ['Pilates Plus Fitness Studio in Highett', 'Changing bodies, changing lives.']\n",
            "1:  ['GoodLife Fitness, clubs in Canada', 'Makes it easy.']\n",
            "2:  ['GoodLife Fitness, clubs in Canada', 'Makes it easy.']\n",
            "1:  ['Pure Motivation Fitness Studio in Vaughan', 'Love your body.']\n",
            "2:  ['Pure Motivation Fitness Studio in Vaughan', 'Love your body.']\n",
            "1:  ['Wow Health and Fitness Studio near Melbourne', 'A studio that offers you more.']\n",
            "2:  ['Wow Health and Fitness Studio near Melbourne', 'A studio that offers you more.']\n",
            "1:  [\"Rocky's Fitness Center in Santa Cruz, CA\", 'We change lives.']\n",
            "2:  [\"Rocky's Fitness Center in Santa Cruz, CA\", 'We change lives.']\n",
            "1:  ['The Fitness Center in Champaign, IL', \"It's time to get fit!\"]\n",
            "2:  ['The Fitness Center in Champaign, IL', \"It's time to get fit!\"]\n",
            "1:  ['Energize Health Fitness Club in Belrose', 'Passionate experts energizing lives.']\n",
            "2:  ['Energize Health Fitness Club in Belrose', 'Passionate experts energizing lives.']\n",
            "1:  ['Les Mills Gyms, exercise-to-music group fitness classes', 'Les Mills. For a fitter planet.']\n",
            "2:  ['Les Mills Gyms, exercise-to-music group fitness classes', 'Les Mills. For a fitter planet.']\n",
            "1:  ['Les Mills Gyms, exercise-to-music group fitness classes', 'Turn it up!']\n",
            "2:  ['Les Mills Gyms, exercise-to-music group fitness classes', 'Turn it up!']\n",
            "1:  ['24/7 Power Fitness, gym in Perth', 'The club that never closes.']\n",
            "2:  ['24/7 Power Fitness, gym in Perth', 'The club that never closes.']\n",
            "1:  ['Ashland Fitness Studio', 'The best little gym in Ashland.']\n",
            "2:  ['Ashland Fitness Studio', 'The best little gym in Ashland.']\n",
            "1:  ['Ashland Fitness Studio', 'Your space. Your time. Your gym.']\n",
            "2:  ['Ashland Fitness Studio', 'Your space. Your time. Your gym.']\n",
            "1:  ['Total Fitness Health and Wellness Centre, Gym in Langley, Canada', 'More than just a gym!']\n",
            "2:  ['Total Fitness Health and Wellness Centre, Gym in Langley, Canada', 'More than just a gym!']\n",
            "1:  ['Funktion Fitness in Derby, UK', 'Like no other gym.']\n",
            "2:  ['Funktion Fitness in Derby, UK', 'Like no other gym.']\n",
            "1:  ['The Open Gym, 24-hour gym in Albuquerque', 'Welcome to a gym that understands you.']\n",
            "2:  ['The Open Gym, 24-hour gym in Albuquerque', 'Welcome to a gym that understands you.']\n",
            "1:  ['The Open Gym, 24-hour gym in Albuquerque', 'Your gym, your time.']\n",
            "2:  ['The Open Gym, 24-hour gym in Albuquerque', 'Your gym, your time.']\n",
            "1:  ['The Downtown Fitness Club in Rochester, NY', \"Life's tough. Get fit.\"]\n",
            "2:  ['The Downtown Fitness Club in Rochester, NY', \"Life's tough. Get fit.\"]\n",
            "1:  [\"Erin's Fitness Club in Burbank\", 'Glow fitness, come join the party.']\n",
            "2:  [\"Erin's Fitness Club in Burbank\", 'Glow fitness, come join the party.']\n",
            "1:  ['Health & Fitness Gym in Olney', 'One life. Be fit for it.']\n",
            "2:  ['Health & Fitness Gym in Olney', 'One life. Be fit for it.']\n",
            "1:  ['Fitness Force, gym in Keswick, Ontario', 'Have fun. Be fit!']\n",
            "2:  ['Fitness Force, gym in Keswick, Ontario', 'Have fun. Be fit!']\n",
            "1:  ['Goodwill Fitness Center in Santa Ana, CA', 'Rise to the challenge.']\n",
            "2:  ['Goodwill Fitness Center in Santa Ana, CA', 'Rise to the challenge.']\n",
            "1:  ['Finger Lakes Fitness Center in Ithaca, NY', 'Your gateway to fitness downtown.']\n",
            "2:  ['Finger Lakes Fitness Center in Ithaca, NY', 'Your gateway to fitness downtown.']\n",
            "1:  ['Future Fitness, combined strength & fitness gym in Coventry', 'Health & strength.']\n",
            "2:  ['Future Fitness, combined strength & fitness gym in Coventry', 'Health & strength.']\n",
            "1:  ['Brookhaven Fitness Studio, Atlanta', 'Integrative fitness for a healthy lifestyle.']\n",
            "2:  ['Brookhaven Fitness Studio, Atlanta', 'Integrative fitness for a healthy lifestyle.']\n",
            "1:  ['BodyWorks, day spa & fitness studio in Houston', 'Where health, beauty and fitness meet.']\n",
            "2:  ['BodyWorks, day spa & fitness studio in Houston', 'Where health, beauty and fitness meet.']\n",
            "1:  ['Speed-Fit, fitness clubs in Germany', 'The quickest way to a top shape.']\n",
            "2:  ['Speed-Fit, fitness clubs in Germany', 'The quickest way to a top shape.']\n",
            "1:  ['Speed-Fit, fitness clubs in Germany', 'The fastest way to get in shape.']\n",
            "2:  ['Speed-Fit, fitness clubs in Germany', 'The fastest way to get in shape.']\n",
            "1:  ['Portobello Green Fitness Club', 'Why wait? Join today and feel great!']\n",
            "2:  ['Portobello Green Fitness Club', 'Why wait? Join today and feel great!']\n",
            "1:  ['The Henley Club in Henley on Thames, UK', 'The future fitness.']\n",
            "2:  ['The Henley Club in Henley on Thames, UK', 'The future fitness.']\n",
            "1:  ['Fitness Formula Clubs in Chicago', 'Where membership means something.']\n",
            "2:  ['Fitness Formula Clubs in Chicago', 'Where membership means something.']\n",
            "1:  ['Fitness Formula Clubs in Chicago', \"It's not just a Chicago gym. It's a Fitness Formula Club.\"]\n",
            "2:  ['Fitness Formula Clubs in Chicago', \"It's not just a Chicago gym. It's a Fitness Formula Club.\"]\n",
            "1:  ['Synergy Fitness Clubs in New York', 'One life. Live well.']\n",
            "2:  ['Synergy Fitness Clubs in New York', 'One life. Live well.']\n",
            "1:  ['Olympia Gym in New Delhi, India', 'The only thing worth losing is weight.']\n",
            "2:  ['Olympia Gym in New Delhi, India', 'The only thing worth losing is weight.']\n",
            "1:  ['Achieve Fitness Gym in Guelph', 'Anything you can conceive, you can achieve.']\n",
            "2:  ['Achieve Fitness Gym in Guelph', 'Anything you can conceive, you can achieve.']\n",
            "1:  ['Trophy Fitness Club, Dallas', 'Fitness for everyday people.']\n",
            "2:  ['Trophy Fitness Club, Dallas', 'Fitness for everyday people.']\n",
            "1:  ['St. Louis Fitness Club', 'Enjoy life. Get fit.']\n",
            "2:  ['St. Louis Fitness Club', 'Enjoy life. Get fit.']\n",
            "1:  ['Fierce Girl Fitness in Calgary', 'Find your Fierce!']\n",
            "2:  ['Fierce Girl Fitness in Calgary', 'Find your Fierce!']\n",
            "1:  ['Steps Fitness Studio in Tucson, AZ', 'Dance inspired fitness.']\n",
            "2:  ['Steps Fitness Studio in Tucson, AZ', 'Dance inspired fitness.']\n",
            "1:  ['World Class, chain of fitness clubs in Russia', 'Improve yourself.']\n",
            "2:  ['World Class, chain of fitness clubs in Russia', 'Improve yourself.']\n",
            "1:  ['Willows Health & Lifestyle Centre in Toowoomba', 'Your journey to a healthier life.']\n",
            "2:  ['Willows Health & Lifestyle Centre in Toowoomba', 'Your journey to a healthier life.']\n",
            "1:  ['Valley Fitness Centre, Sydney, Australia', 'Train like a Champion.']\n",
            "2:  ['Valley Fitness Centre, Sydney, Australia', 'Train like a Champion.']\n",
            "1:  ['Dolphin Fitness Clubs, New York', 'Everything you expect from a health club except the high price!']\n",
            "2:  ['Dolphin Fitness Clubs, New York', 'Everything you expect from a health club except the high price!']\n",
            "1:  ['Lighthouse Hospice in Cherry Hill', 'We light the way.']\n",
            "2:  ['Lighthouse Hospice in Cherry Hill', 'We light the way.']\n",
            "1:  ['Mt. Hood Hospice in Sandy, Oregon', 'Because every day is a gift.']\n",
            "2:  ['Mt. Hood Hospice in Sandy, Oregon', 'Because every day is a gift.']\n",
            "1:  ['Northern Ireland Hospice for people with life-limiting illness', 'Caring is at the heart of everything we do.']\n",
            "2:  ['Northern Ireland Hospice for people with life-limiting illness', 'Caring is at the heart of everything we do.']\n",
            "1:  ['Primrose Hospice in Bromsgrove', 'Living well at the end of life.']\n",
            "2:  ['Primrose Hospice in Bromsgrove', 'Living well at the end of life.']\n",
            "1:  ['SouthernCare, hospice provider in the USA', 'SouthernCare. Where caring is a way of life.']\n",
            "2:  ['SouthernCare, hospice provider in the USA', 'SouthernCare. Where caring is a way of life.']\n",
            "1:  [\"St. Ann's Hospice, Greater Manchester\", 'Every day makes a difference.']\n",
            "2:  [\"St. Ann's Hospice, Greater Manchester\", 'Every day makes a difference.']\n",
            "1:  [\"St. Joseph's Hospice, London\", 'Caring with faith, hope and love.']\n",
            "2:  [\"St. Joseph's Hospice, London\", 'Caring with faith, hope and love.']\n",
            "1:  ['St. Leonards Hospice in York', 'Caring for local people.']\n",
            "2:  ['St. Leonards Hospice in York', 'Caring for local people.']\n",
            "1:  ['Teesside Hospice in Linthorpe', \"It's the life we put into each day that counts.\"]\n",
            "2:  ['Teesside Hospice in Linthorpe', \"It's the life we put into each day that counts.\"]\n",
            "1:  ['The Heart of Kent Hospice', 'Care, comfort, compassion and hope.']\n",
            "2:  ['The Heart of Kent Hospice', 'Care, comfort, compassion and hope.']\n",
            "1:  ['The Hospice of East Texas, Tyler', 'Extraordinary care, compassion and commitment.']\n",
            "2:  ['The Hospice of East Texas, Tyler', 'Extraordinary care, compassion and commitment.']\n",
            "1:  ['Trinity Hospice in London', 'Living every moment.']\n",
            "2:  ['Trinity Hospice in London', 'Living every moment.']\n",
            "1:  ['Willowbrook Hospice for people with a life-limiting illnesses in Prescot', 'Time for caring.']\n",
            "2:  ['Willowbrook Hospice for people with a life-limiting illnesses in Prescot', 'Time for caring.']\n",
            "1:  [\"St Peter's Hospice in Bristol\", 'For patients, families and Bristol.']\n",
            "2:  [\"St Peter's Hospice in Bristol\", 'For patients, families and Bristol.']\n",
            "1:  ['Delta Hospice in Chino, California', 'We will not rest until we have given our best.']\n",
            "2:  ['Delta Hospice in Chino, California', 'We will not rest until we have given our best.']\n",
            "1:  ['Broadbeach Dental Practice', 'For happy, healthy smiles.']\n",
            "2:  ['Broadbeach Dental Practice', 'For happy, healthy smiles.']\n",
            "1:  ['Randwick Dental Clinic', 'Nothing but the tooth.']\n",
            "2:  ['Randwick Dental Clinic', 'Nothing but the tooth.']\n",
            "1:  ['Richmond Fine Dentistry', 'Dentistry that makes you smile!']\n",
            "2:  ['Richmond Fine Dentistry', 'Dentistry that makes you smile!']\n",
            "1:  ['Dhealth, dental office of Dr. Stefan Danylak', 'Simply better dentistry.']\n",
            "2:  ['Dhealth, dental office of Dr. Stefan Danylak', 'Simply better dentistry.']\n",
            "1:  ['Modern Dentistry in Canberra', 'A reason to smile.']\n",
            "2:  ['Modern Dentistry in Canberra', 'A reason to smile.']\n",
            "1:  ['Forum Dentistry in St. Leonards', 'Smile, chew, laugh, live.']\n",
            "2:  ['Forum Dentistry in St. Leonards', 'Smile, chew, laugh, live.']\n",
            "1:  ['Forum Dentistry in St. Leonards', 'An experience to smile about.']\n",
            "2:  ['Forum Dentistry in St. Leonards', 'An experience to smile about.']\n",
            "1:  ['Forum Dentistry in St. Leonards', 'Care in an environment of excellence.']\n",
            "2:  ['Forum Dentistry in St. Leonards', 'Care in an environment of excellence.']\n",
            "1:  ['Progressive Dental in Cremorne', 'Catering to all of your dental needs and desires.']\n",
            "2:  ['Progressive Dental in Cremorne', 'Catering to all of your dental needs and desires.']\n",
            "1:  ['Smile Dental, practices in New Zealand', 'Giving you one more reason to smile.']\n",
            "2:  ['Smile Dental, practices in New Zealand', 'Giving you one more reason to smile.']\n",
            "1:  ['Ardent Dental Care in Barrow-in-Furness', 'Look great - feel great!']\n",
            "2:  ['Ardent Dental Care in Barrow-in-Furness', 'Look great - feel great!']\n",
            "1:  ['Bar Hill Dental Clinic', 'Smile with confidence.']\n",
            "2:  ['Bar Hill Dental Clinic', 'Smile with confidence.']\n",
            "1:  ['Bramingham Dental Clinic', 'You smile, we smile...']\n",
            "2:  ['Bramingham Dental Clinic', 'You smile, we smile...']\n",
            "1:  ['Histon Dental Clinic', 'Your friendly local Cambridge dentist.']\n",
            "2:  ['Histon Dental Clinic', 'Your friendly local Cambridge dentist.']\n",
            "1:  ['Cathedral Dental Clinic in Cardiff', 'Caring for you & your smile.']\n",
            "2:  ['Cathedral Dental Clinic in Cardiff', 'Caring for you & your smile.']\n",
            "1:  ['Advance Dental Clinic in Chelmsford', 'Committed to dental excellence.']\n",
            "2:  ['Advance Dental Clinic in Chelmsford', 'Committed to dental excellence.']\n",
            "1:  ['The Berkeley Clinic in Glasgow', 'Committed to excellence.']\n",
            "2:  ['The Berkeley Clinic in Glasgow', 'Committed to excellence.']\n",
            "1:  ['Pendragon Health', 'A leading visionary in dental care.']\n",
            "2:  ['Pendragon Health', 'A leading visionary in dental care.']\n",
            "1:  ['Hermes London Dental Clinic', 'Your smile is our passion.']\n",
            "2:  ['Hermes London Dental Clinic', 'Your smile is our passion.']\n",
            "1:  ['London Smiling, cosmetic private dentists', 'Great teeth, great smile, great life.']\n",
            "2:  ['London Smiling, cosmetic private dentists', 'Great teeth, great smile, great life.']\n",
            "1:  ['Ethicare Dental, practice in London', 'Your smile in safe hands.']\n",
            "2:  ['Ethicare Dental, practice in London', 'Your smile in safe hands.']\n",
            "1:  ['Walmley Dental Practice in England', 'Care for your smile.']\n",
            "2:  ['Walmley Dental Practice in England', 'Care for your smile.']\n",
            "1:  ['Ferndale Dental Clinic in Devizes', 'Creating beautiful smiles.']\n",
            "2:  ['Ferndale Dental Clinic in Devizes', 'Creating beautiful smiles.']\n",
            "1:  ['Whitley Dental Clinic', 'Creating brighter smiles.']\n",
            "2:  ['Whitley Dental Clinic', 'Creating brighter smiles.']\n",
            "1:  ['Barnton Dental Spa in Edinburgh', 'Beauty is power. A smile its sword.']\n",
            "2:  ['Barnton Dental Spa in Edinburgh', 'Beauty is power. A smile its sword.']\n",
            "1:  ['32Whites Dental Care in Stockport', 'Your smile. Our passion. Your life.']\n",
            "2:  ['32Whites Dental Care in Stockport', 'Your smile. Our passion. Your life.']\n",
            "1:  ['Bellsquarry Dentistry in Scotland', 'Compassionate prevention, pursuit of excellence.']\n",
            "2:  ['Bellsquarry Dentistry in Scotland', 'Compassionate prevention, pursuit of excellence.']\n",
            "1:  ['A Brite Smile, family oriented dental practices in Australia', 'Beyond your expectations.']\n",
            "2:  ['A Brite Smile, family oriented dental practices in Australia', 'Beyond your expectations.']\n",
            "1:  ['Smile Dental practice in Kalgoorlie', 'Making Kalgoorlie smile.']\n",
            "2:  ['Smile Dental practice in Kalgoorlie', 'Making Kalgoorlie smile.']\n",
            "1:  ['Smile Sydney, practice of dentist Alexander McEwens', 'Keeping Sydney smiling.']\n",
            "2:  ['Smile Sydney, practice of dentist Alexander McEwens', 'Keeping Sydney smiling.']\n",
            "1:  ['Sydney Laser Dental Care', 'Experience the gentle difference.']\n",
            "2:  ['Sydney Laser Dental Care', 'Experience the gentle difference.']\n",
            "1:  ['Freedom Dental in Melbourne', 'Release your smile.']\n",
            "2:  ['Freedom Dental in Melbourne', 'Release your smile.']\n",
            "1:  ['Optimal Caring Dentistry, Melbourne', 'Beautiful natural smiles.']\n",
            "2:  ['Optimal Caring Dentistry, Melbourne', 'Beautiful natural smiles.']\n",
            "1:  ['Smile Solutions, dental practice in Melbourne', \"Melbourne's home of dentistry.\"]\n",
            "2:  ['Smile Solutions, dental practice in Melbourne', \"Melbourne's home of dentistry.\"]\n",
            "1:  ['Dentist@330, Mount Waverley', 'Helping you smile.']\n",
            "2:  ['Dentist@330, Mount Waverley', 'Helping you smile.']\n",
            "1:  ['Honeysuckle Dental in Newcastle, Australia', 'The sweet experience.']\n",
            "2:  ['Honeysuckle Dental in Newcastle, Australia', 'The sweet experience.']\n",
            "1:  ['Dentist on Paxton', 'A smile is a curve that sets everything straight.']\n",
            "2:  ['Dentist on Paxton', 'A smile is a curve that sets everything straight.']\n",
            "1:  ['Australian DB Dental practices', 'Put a smile on your face.']\n",
            "2:  ['Australian DB Dental practices', 'Put a smile on your face.']\n",
            "1:  ['Accent Dental Care in Perth', 'Put a smile in your life.']\n",
            "2:  ['Accent Dental Care in Perth', 'Put a smile in your life.']\n",
            "1:  ['Northbridge Dental Clinic in Perth', \"Tomorrow's dentistry today.\"]\n",
            "2:  ['Northbridge Dental Clinic in Perth', \"Tomorrow's dentistry today.\"]\n",
            "1:  ['Gentle Touch Dental in Leichhardt', 'Your comfort is our first concern.']\n",
            "2:  ['Gentle Touch Dental in Leichhardt', 'Your comfort is our first concern.']\n",
            "1:  ['DCA Dental Clinics in Australia', 'A caring positive experience.']\n",
            "2:  ['DCA Dental Clinics in Australia', 'A caring positive experience.']\n",
            "1:  ['Aesthetique Dental Care in Leeds', 'Where science meets art.']\n",
            "2:  ['Aesthetique Dental Care in Leeds', 'Where science meets art.']\n",
            "1:  ['Dentistry 100, practice in London', 'Dentistry with heart.']\n",
            "2:  ['Dentistry 100, practice in London', 'Dentistry with heart.']\n",
            "1:  ['One Dental Clinic in Dorridge', 'Perfect smile, perfect you.']\n",
            "2:  ['One Dental Clinic in Dorridge', 'Perfect smile, perfect you.']\n",
            "1:  ['Diamond Dental Clinic in Cookstown', 'Making top quality dentistry affordable.']\n",
            "2:  ['Diamond Dental Clinic in Cookstown', 'Making top quality dentistry affordable.']\n",
            "1:  ['Genix Healthcare', 'Filling the gap in dentistry.']\n",
            "2:  ['Genix Healthcare', 'Filling the gap in dentistry.']\n",
            "1:  ['Toothbeary, pediatric dental practice in England', \"My child's dentist.\"]\n",
            "2:  ['Toothbeary, pediatric dental practice in England', \"My child's dentist.\"]\n",
            "1:  ['Perfect Smile, dental clinics across London', 'The dental professionals.']\n",
            "2:  ['Perfect Smile, dental clinics across London', 'The dental professionals.']\n",
            "1:  ['Nechells Dental Clinic', 'Caring for the community.']\n",
            "2:  ['Nechells Dental Clinic', 'Caring for the community.']\n",
            "1:  ['Tavistock Drive Dental Care in Nottingham', 'For a stunning smile.']\n",
            "2:  ['Tavistock Drive Dental Care in Nottingham', 'For a stunning smile.']\n",
            "1:  ['High Street Dental Care in Melton Mowbray', 'Private dentistry in a relaxing high-tech environment.']\n",
            "2:  ['High Street Dental Care in Melton Mowbray', 'Private dentistry in a relaxing high-tech environment.']\n",
            "1:  ['Medford Dental Clinic', 'Creating happy, healthy smiles!']\n",
            "2:  ['Medford Dental Clinic', 'Creating happy, healthy smiles!']\n",
            "1:  ['Midwest Dental', 'Bringing life to your smile.']\n",
            "2:  ['Midwest Dental', 'Bringing life to your smile.']\n",
            "1:  ['Main Street Dental Clinics in Minnesota', 'Comfortable dentistry.']\n",
            "2:  ['Main Street Dental Clinics in Minnesota', 'Comfortable dentistry.']\n",
            "1:  ['Chandler Dental Clinic in San Antonio', 'Exceptionally well trained general dentists.']\n",
            "2:  ['Chandler Dental Clinic in San Antonio', 'Exceptionally well trained general dentists.']\n",
            "1:  ['Sexton Dental Clinic', 'Quality, affordable dentistry.']\n",
            "2:  ['Sexton Dental Clinic', 'Quality, affordable dentistry.']\n",
            "1:  ['VINA Community Dental Center of Livingston County', 'Dental home for people in need.']\n",
            "2:  ['VINA Community Dental Center of Livingston County', 'Dental home for people in need.']\n",
            "1:  ['Smile Dental Group in Singapore', 'Your smile matters.']\n",
            "2:  ['Smile Dental Group in Singapore', 'Your smile matters.']\n",
            "1:  ['Tomorrows Dentistry Today, Omaha', 'Complete care on your schedule.']\n",
            "2:  ['Tomorrows Dentistry Today, Omaha', 'Complete care on your schedule.']\n",
            "1:  ['Chatswood Dental Centre in Sydney', 'Excellence in dentistry with optimum care.']\n",
            "2:  ['Chatswood Dental Centre in Sydney', 'Excellence in dentistry with optimum care.']\n",
            "1:  ['Extreme Dentistry, dental Implants, tooth whitening, teeth removal', 'Leading the way in results driven care.']\n",
            "2:  ['Extreme Dentistry, dental Implants, tooth whitening, teeth removal', 'Leading the way in results driven care.']\n",
            "1:  ['1-800-Dentist, free service in United States for finding dentist based on your dental and payment needs', 'Relax, this is going to be so easy.']\n",
            "2:  ['1-800-Dentist, free service in United States for finding dentist based on your dental and payment needs', 'Relax, this is going to be so easy.']\n",
            "1:  ['1-800-Dentist, free service in United States for finding dentist based on your dental and payment needs', 'The smart way to find a dentist.']\n",
            "2:  ['1-800-Dentist, free service in United States for finding dentist based on your dental and payment needs', 'The smart way to find a dentist.']\n",
            "1:  ['1-800-Dentist, free service in United States for finding dentist based on your dental and payment needs', 'Get matched with a great dentist today.']\n",
            "2:  ['1-800-Dentist, free service in United States for finding dentist based on your dental and payment needs', 'Get matched with a great dentist today.']\n",
            "1:  ['1-800-Dentist, free service in United States for finding dentist based on your dental and payment needs', \"Seriously, it's time.\"]\n",
            "2:  ['1-800-Dentist, free service in United States for finding dentist based on your dental and payment needs', \"Seriously, it's time.\"]\n",
            "1:  ['ToothKind, cosmetic dental practice in Deagon', 'Because teeth have feeling too.']\n",
            "2:  ['ToothKind, cosmetic dental practice in Deagon', 'Because teeth have feeling too.']\n",
            "1:  ['Dr. Peter Poulos, cosmetic dentist in Sydney', 'New smile. New life.']\n",
            "2:  ['Dr. Peter Poulos, cosmetic dentist in Sydney', 'New smile. New life.']\n",
            "1:  ['Glow Dentistry in Hampstead', 'Cosmetic excellence. Stunning smiles.']\n",
            "2:  ['Glow Dentistry in Hampstead', 'Cosmetic excellence. Stunning smiles.']\n",
            "1:  ['TimberCrest Dental Center in Appleton', 'Say it with a smile!']\n",
            "2:  ['TimberCrest Dental Center in Appleton', 'Say it with a smile!']\n",
            "1:  ['KiDDS Dental, pediatric dental and oral care in Spokane', 'Grow up with smiling!']\n",
            "2:  ['KiDDS Dental, pediatric dental and oral care in Spokane', 'Grow up with smiling!']\n",
            "1:  ['The Gentle Dentist, practice in Worthington', 'Exceptional service. Remarkably gentle.']\n",
            "2:  ['The Gentle Dentist, practice in Worthington', 'Exceptional service. Remarkably gentle.']\n",
            "1:  ['Dr. Dana Anthony Yip, pediatric dentist in West Linn', 'Kids love us. Parents trust us!']\n",
            "2:  ['Dr. Dana Anthony Yip, pediatric dentist in West Linn', 'Kids love us. Parents trust us!']\n",
            "1:  [\"Creston Children's Dental Clinic in Portland\", \"Helping keep Portland's kids smiling!\"]\n",
            "2:  [\"Creston Children's Dental Clinic in Portland\", \"Helping keep Portland's kids smiling!\"]\n",
            "1:  ['Chalet Dental Clinic in Yakima', 'Generations of beautiful smiles.']\n",
            "2:  ['Chalet Dental Clinic in Yakima', 'Generations of beautiful smiles.']\n",
            "1:  ['Chalet Dental Clinic in Yakima', \"Dentistry for today's lifestyle.\"]\n",
            "2:  ['Chalet Dental Clinic in Yakima', \"Dentistry for today's lifestyle.\"]\n",
            "1:  ['M&N Dental Practice in Bedford', 'For a beautiful and healthy smile.']\n",
            "2:  ['M&N Dental Practice in Bedford', 'For a beautiful and healthy smile.']\n",
            "1:  ['St. Mellion Dental Clinic', 'Smiles with style.']\n",
            "2:  ['St. Mellion Dental Clinic', 'Smiles with style.']\n",
            "1:  ['The Smile Dentist, private practice of Dr. Rob Davies', 'A perfect smile guaranteed.']\n",
            "2:  ['The Smile Dentist, private practice of Dr. Rob Davies', 'A perfect smile guaranteed.']\n",
            "1:  ['VidaDent, London', 'Enjoy the beauty of a healthy smile!']\n",
            "2:  ['VidaDent, London', 'Enjoy the beauty of a healthy smile!']\n",
            "1:  ['Synergy Dental Clinics in England', 'Dedicated to excellence.']\n",
            "2:  ['Synergy Dental Clinics in England', 'Dedicated to excellence.']\n",
            "1:  ['Smile Dental Centre in Exeter', 'The gentle dental centre.']\n",
            "2:  ['Smile Dental Centre in Exeter', 'The gentle dental centre.']\n",
            "1:  ['GDC, General Dental Council, UK', 'Protecting patients, regulating the dental team.']\n",
            "2:  ['GDC, General Dental Council, UK', 'Protecting patients, regulating the dental team.']\n",
            "1:  ['King Lane Dental Care, Leeds', \"Tomorrow's dentistry practised today.\"]\n",
            "2:  ['King Lane Dental Care, Leeds', \"Tomorrow's dentistry practised today.\"]\n",
            "1:  ['Abitibi Dental Centre in North York', 'Smiles that fit your lifestyle!']\n",
            "2:  ['Abitibi Dental Centre in North York', 'Smiles that fit your lifestyle!']\n",
            "1:  [\"Washtenaw Children's Dental Clinic in Ann Arbor, non-profit clinic for low-income children\", \"We don't turn anyone away for inability to pay.\"]\n",
            "2:  [\"Washtenaw Children's Dental Clinic in Ann Arbor, non-profit clinic for low-income children\", \"We don't turn anyone away for inability to pay.\"]\n",
            "1:  ['Treasure Valley Family Dentistry', 'Because you should want to go to your dentist.']\n",
            "2:  ['Treasure Valley Family Dentistry', 'Because you should want to go to your dentist.']\n",
            "1:  ['Pediatric Dentistry North in Indianapolis', 'A healthy smile begins with a child.']\n",
            "2:  ['Pediatric Dentistry North in Indianapolis', 'A healthy smile begins with a child.']\n",
            "1:  ['Smile on Riggs Family Dental in Chandler', \"Dentistry you can't wait to tell your friends about.\"]\n",
            "2:  ['Smile on Riggs Family Dental in Chandler', \"Dentistry you can't wait to tell your friends about.\"]\n",
            "1:  ['My Dentists, practice in Charlotte', 'Our family caring for yours.']\n",
            "2:  ['My Dentists, practice in Charlotte', 'Our family caring for yours.']\n",
            "1:  ['Dr. Michelle Williams, dentist in Addison', 'Because everyone deserves to smile.']\n",
            "2:  ['Dr. Michelle Williams, dentist in Addison', 'Because everyone deserves to smile.']\n",
            "1:  ['Dental office of Dr. Fawcett in Houston', 'The art of dentistry.']\n",
            "2:  ['Dental office of Dr. Fawcett in Houston', 'The art of dentistry.']\n",
            "1:  ['Chateaux Dental in Broomfield', \"Family dentistry with a woman's touch.\"]\n",
            "2:  ['Chateaux Dental in Broomfield', \"Family dentistry with a woman's touch.\"]\n",
            "1:  ['Distinctive Dentistry in Edmonds', 'As distinctive as you are.']\n",
            "2:  ['Distinctive Dentistry in Edmonds', 'As distinctive as you are.']\n",
            "1:  ['Southbridge Dentistry in Littleton', 'The cure for dental anxiety. The home of radiant smiles.']\n",
            "2:  ['Southbridge Dentistry in Littleton', 'The cure for dental anxiety. The home of radiant smiles.']\n",
            "1:  ['Mike Unser and Steve Baumgart, dentists in Denver', \"We're here to help.\"]\n",
            "2:  ['Mike Unser and Steve Baumgart, dentists in Denver', \"We're here to help.\"]\n",
            "1:  ['Corson Dentistry in Denver', 'Progressive methods. Caring approach.']\n",
            "2:  ['Corson Dentistry in Denver', 'Progressive methods. Caring approach.']\n",
            "1:  ['Platte Valley Dental Care', 'Creating healthy smiles with a gentle touch.']\n",
            "2:  ['Platte Valley Dental Care', 'Creating healthy smiles with a gentle touch.']\n",
            "1:  ['LeCuyer & Amato Dentistry in Seattle', 'Excellence defined.']\n",
            "2:  ['LeCuyer & Amato Dentistry in Seattle', 'Excellence defined.']\n",
            "1:  ['Matrix Dentistry in Glendale', 'Precise. Meticulous. Human.']\n",
            "2:  ['Matrix Dentistry in Glendale', 'Precise. Meticulous. Human.']\n",
            "1:  ['Galleria Family Dental in Henderson', 'Gentle high quality dental care.']\n",
            "2:  ['Galleria Family Dental in Henderson', 'Gentle high quality dental care.']\n",
            "1:  ['Young Dentistry in Georgetown, Canada', 'Smile care.']\n",
            "2:  ['Young Dentistry in Georgetown, Canada', 'Smile care.']\n",
            "1:  ['Gulf Canada Square Dental in Calgary', 'Modern dentistry with gentle care.']\n",
            "2:  ['Gulf Canada Square Dental in Calgary', 'Modern dentistry with gentle care.']\n",
            "1:  [\"Angel's Touch Dental Clinic in Los Cabos, Mexico\", 'We take care of your mouth like an angel.']\n",
            "2:  [\"Angel's Touch Dental Clinic in Los Cabos, Mexico\", 'We take care of your mouth like an angel.']\n",
            "1:  ['Westwood Family Dental in Los Angeles', 'Upscale dental care from down-to-earth people.']\n",
            "2:  ['Westwood Family Dental in Los Angeles', 'Upscale dental care from down-to-earth people.']\n",
            "1:  ['Mission Trails Dentistry in San Diego', 'Your pathway to a bright new smile.']\n",
            "2:  ['Mission Trails Dentistry in San Diego', 'Your pathway to a bright new smile.']\n",
            "1:  ['Meridian Dental Clinic in Kent, USA', 'Dentistry dedicated to excellence.']\n",
            "2:  ['Meridian Dental Clinic in Kent, USA', 'Dentistry dedicated to excellence.']\n",
            "1:  ['Dental Clinic of Marshfield', 'Imagine yourself with a new smile.']\n",
            "2:  ['Dental Clinic of Marshfield', 'Imagine yourself with a new smile.']\n",
            "1:  ['Dental Clinic of Marshfield', 'Our smiles speak for themselves.']\n",
            "2:  ['Dental Clinic of Marshfield', 'Our smiles speak for themselves.']\n",
            "1:  ['Dental Clinic of Marshfield', 'Dental care for life.']\n",
            "2:  ['Dental Clinic of Marshfield', 'Dental care for life.']\n",
            "1:  ['Advanced Dental Center of Florence', 'Where many have found their Carolina smile.']\n",
            "2:  ['Advanced Dental Center of Florence', 'Where many have found their Carolina smile.']\n",
            "1:  ['Creekside Dentistry in Folsom', 'Let us brighten your smile!']\n",
            "2:  ['Creekside Dentistry in Folsom', 'Let us brighten your smile!']\n",
            "1:  ['Hecox Dentistry', 'The experience you can count on.']\n",
            "2:  ['Hecox Dentistry', 'The experience you can count on.']\n",
            "1:  ['Bayview Dental & Implant Centre', 'We want to make you smile!']\n",
            "2:  ['Bayview Dental & Implant Centre', 'We want to make you smile!']\n",
            "1:  ['Drs. Brandon and Malinda Kearbey, dentists in Hillsboro', 'The world always looks brighter from behind a smile.']\n",
            "2:  ['Drs. Brandon and Malinda Kearbey, dentists in Hillsboro', 'The world always looks brighter from behind a smile.']\n",
            "1:  ['Tulips Dental Care in Markham', 'Let us make you smile.']\n",
            "2:  ['Tulips Dental Care in Markham', 'Let us make you smile.']\n",
            "1:  ['Houston Dental, private practice of Dr. Tom Houston', 'Dentistry for people who love to smile.']\n",
            "2:  ['Houston Dental, private practice of Dr. Tom Houston', 'Dentistry for people who love to smile.']\n",
            "1:  ['Northern Dental Care', 'Creating beautiful, healthy smiles.']\n",
            "2:  ['Northern Dental Care', 'Creating beautiful, healthy smiles.']\n",
            "1:  ['Dr. Dirk Thompson, dentist in Calgary', 'Creating beautiful smiles every day.']\n",
            "2:  ['Dr. Dirk Thompson, dentist in Calgary', 'Creating beautiful smiles every day.']\n",
            "1:  [\"Avalon Dental Centre in St. John's\", 'Eat wisely, smile nicely.']\n",
            "2:  [\"Avalon Dental Centre in St. John's\", 'Eat wisely, smile nicely.']\n",
            "1:  ['Family Dental Centre in Belleville', 'We bring smiles to life.']\n",
            "2:  ['Family Dental Centre in Belleville', 'We bring smiles to life.']\n",
            "1:  ['Ferris Lane Dental in Barrie', 'We love to see you smile.']\n",
            "2:  ['Ferris Lane Dental in Barrie', 'We love to see you smile.']\n",
            "1:  ['Signal Hill Dental Centre in Calgary', 'Something to smile about.']\n",
            "2:  ['Signal Hill Dental Centre in Calgary', 'Something to smile about.']\n",
            "1:  ['Dove Dental Clinic in Surrey, BC', 'Creating miles of smiles.']\n",
            "2:  ['Dove Dental Clinic in Surrey, BC', 'Creating miles of smiles.']\n",
            "1:  ['Evergreen Dental Centre in Surrey, BC', 'We cater to cowards!']\n",
            "2:  ['Evergreen Dental Centre in Surrey, BC', 'We cater to cowards!']\n",
            "1:  ['Hawkstone Dental Clinic in Edmonton', \"Caring for all your family's dental needs.\"]\n",
            "2:  ['Hawkstone Dental Clinic in Edmonton', \"Caring for all your family's dental needs.\"]\n",
            "1:  ['Georgian Bay Family Dentistry in Parry Sound', 'An attractive smile makes a lasting impression!']\n",
            "2:  ['Georgian Bay Family Dentistry in Parry Sound', 'An attractive smile makes a lasting impression!']\n",
            "1:  ['Middletown Family Dentistry', 'Dentistry is our profession, but people are our focus.']\n",
            "2:  ['Middletown Family Dentistry', 'Dentistry is our profession, but people are our focus.']\n",
            "1:  ['Dr. Nick Seddon, dentist in West Vancouver', 'Changing lives one smile at a time.']\n",
            "2:  ['Dr. Nick Seddon, dentist in West Vancouver', 'Changing lives one smile at a time.']\n",
            "1:  ['Dr. Drew Markham, dentist in Huntsville, Canada', 'Creating vibrant smiles for healthy lifestyles!']\n",
            "2:  ['Dr. Drew Markham, dentist in Huntsville, Canada', 'Creating vibrant smiles for healthy lifestyles!']\n",
            "1:  ['Dentistry on Wynford, Toronto', 'Make your dream smile a reality!']\n",
            "2:  ['Dentistry on Wynford, Toronto', 'Make your dream smile a reality!']\n",
            "1:  ['Queen Street Dental Care in Toronto', 'Personalized & comfortable.']\n",
            "2:  ['Queen Street Dental Care in Toronto', 'Personalized & comfortable.']\n",
            "1:  ['Dr. John Miller, dentist in Collingwood', 'Creating the healthy smile you want through science and artistry.']\n",
            "2:  ['Dr. John Miller, dentist in Collingwood', 'Creating the healthy smile you want through science and artistry.']\n",
            "1:  ['Hospice of Frederick County', 'Care. Comfort. Hope.']\n",
            "2:  ['Hospice of Frederick County', 'Care. Comfort. Hope.']\n",
            "1:  ['Hospice of Kitsap County', 'Dignity. Compassion. Comfort.']\n",
            "2:  ['Hospice of Kitsap County', 'Dignity. Compassion. Comfort.']\n",
            "1:  ['Southern Area Hospice Services, Northern Ireland', 'Dignity in caring.']\n",
            "2:  ['Southern Area Hospice Services, Northern Ireland', 'Dignity in caring.']\n",
            "1:  ['Hospice of Central Pennsylvania', 'Choose the very best.']\n",
            "2:  ['Hospice of Central Pennsylvania', 'Choose the very best.']\n",
            "1:  ['Hospice of Marion County', 'Feel better. Live better.']\n",
            "2:  ['Hospice of Marion County', 'Feel better. Live better.']\n",
            "1:  ['Hospice of New York', 'To comfort always.']\n",
            "2:  ['Hospice of New York', 'To comfort always.']\n",
            "1:  ['Hospice Society of Greater Halifax', 'Living fully, dying well.']\n",
            "2:  ['Hospice Society of Greater Halifax', 'Living fully, dying well.']\n",
            "1:  ['Lower Cape Fear Hospice & LifeCareCenter in Wilmington', 'Live well. Every moment matters.']\n",
            "2:  ['Lower Cape Fear Hospice & LifeCareCenter in Wilmington', 'Live well. Every moment matters.']\n",
            "1:  ['Hospice Sussex, Canada', 'Providing comfort, care and hope.']\n",
            "2:  ['Hospice Sussex, Canada', 'Providing comfort, care and hope.']\n",
            "1:  ['Hospice Savannah', 'People with a gift for helping.']\n",
            "2:  ['Hospice Savannah', 'People with a gift for helping.']\n",
            "1:  ['Legacy Hospice in Texas', 'Living fully. Leaving a legacy.']\n",
            "2:  ['Legacy Hospice in Texas', 'Living fully. Leaving a legacy.']\n",
            "1:  ['Hospice of Rutherford County', 'Life to the fullest!']\n",
            "2:  ['Hospice of Rutherford County', 'Life to the fullest!']\n",
            "1:  ['Sungardens Hospice, South Africa', 'Share the care.']\n",
            "2:  ['Sungardens Hospice, South Africa', 'Share the care.']\n",
            "1:  ['Life Choice Hospice, Unites States', 'Inspiring life.']\n",
            "2:  ['Life Choice Hospice, Unites States', 'Inspiring life.']\n",
            "1:  ['Tapologo Hospice, South Africa', 'A place of hope, healing and compassion.']\n",
            "2:  ['Tapologo Hospice, South Africa', 'A place of hope, healing and compassion.']\n",
            "1:  ['Hospice of Texarkana', 'Adding life to days.']\n",
            "2:  ['Hospice of Texarkana', 'Adding life to days.']\n",
            "1:  ['Jocelyn House Hospice in Winnipeg', 'Adding life to final days.']\n",
            "2:  ['Jocelyn House Hospice in Winnipeg', 'Adding life to final days.']\n",
            "1:  ['St. Helena Hospice in Colchester', 'Your time. Your hospice.']\n",
            "2:  ['St. Helena Hospice in Colchester', 'Your time. Your hospice.']\n",
            "1:  ['Nelspruit Hospice, South Africa', 'Because we care!']\n",
            "2:  ['Nelspruit Hospice, South Africa', 'Because we care!']\n",
            "1:  ['Queenscourt Hospice, local charity in Southport', 'Where life is for living.']\n",
            "2:  ['Queenscourt Hospice, local charity in Southport', 'Where life is for living.']\n",
            "1:  ['Sue Ryder, charity with chain of care centers', 'Incredible hospice and neurological care.']\n",
            "2:  ['Sue Ryder, charity with chain of care centers', 'Incredible hospice and neurological care.']\n",
            "1:  ['Sue Ryder, charity with chain of care centers', 'Care that liberates lives.']\n",
            "2:  ['Sue Ryder, charity with chain of care centers', 'Care that liberates lives.']\n",
            "1:  ['Homestead Hospice', \"Life's most important journey starts here.\"]\n",
            "2:  ['Homestead Hospice', \"Life's most important journey starts here.\"]\n",
            "1:  ['Hosparus, nonprofit hospice organization', 'Because the end of life is part of living.']\n",
            "2:  ['Hosparus, nonprofit hospice organization', 'Because the end of life is part of living.']\n",
            "1:  ['Hospice Calgary', 'Compassionate support when life changes.']\n",
            "2:  ['Hospice Calgary', 'Compassionate support when life changes.']\n",
            "1:  ['Hospice Care of South Carolina', 'Excellent care comes from the heart.']\n",
            "2:  ['Hospice Care of South Carolina', 'Excellent care comes from the heart.']\n",
            "1:  ['Hospice Care Ottawa', 'When comfort matters most.']\n",
            "2:  ['Hospice Care Ottawa', 'When comfort matters most.']\n",
            "1:  ['United Hospice of Rockland, end of life care', 'When time matters most.']\n",
            "2:  ['United Hospice of Rockland, end of life care', 'When time matters most.']\n",
            "1:  ['Hospice Compassus in Brentwood', 'Serving with heartfelt compassion.']\n",
            "2:  ['Hospice Compassus in Brentwood', 'Serving with heartfelt compassion.']\n",
            "1:  ['St. Margaret of Scotland Hospice', 'Open to all in need of care.']\n",
            "2:  ['St. Margaret of Scotland Hospice', 'Open to all in need of care.']\n",
            "1:  ['Hospice of Cincinnati', 'Experience. Compassionate. Caring.']\n",
            "2:  ['Hospice of Cincinnati', 'Experience. Compassionate. Caring.']\n",
            "1:  ['Drakenstein Palliative Hospice in Paarl, South Africa', 'Helping people, help people.']\n",
            "2:  ['Drakenstein Palliative Hospice in Paarl, South Africa', 'Helping people, help people.']\n",
            "1:  ['NJHPCO, New Jersey Hospice and Palliative Care Organization', 'Come home with hospice.']\n",
            "2:  ['NJHPCO, New Jersey Hospice and Palliative Care Organization', 'Come home with hospice.']\n",
            "1:  ['Pikes Peak Hospice & Palliative Care', 'Relief. Comfort. Control.']\n",
            "2:  ['Pikes Peak Hospice & Palliative Care', 'Relief. Comfort. Control.']\n",
            "1:  ['Leratong Hospice, palliative care centre in South Africa', 'The place of love.']\n",
            "2:  ['Leratong Hospice, palliative care centre in South Africa', 'The place of love.']\n",
            "1:  ['Barnsley Hospice in England', 'Comfort, care & dignity.']\n",
            "2:  ['Barnsley Hospice in England', 'Comfort, care & dignity.']\n",
            "1:  ['Acorns Childrens Hospice in Birmingham, UK', 'Care for the child, support for the family.']\n",
            "2:  ['Acorns Childrens Hospice in Birmingham, UK', 'Care for the child, support for the family.']\n",
            "1:  ['Acorns Childrens Hospice in Birmingham, UK', \"Acorns. Your local children's hospice.\"]\n",
            "2:  ['Acorns Childrens Hospice in Birmingham, UK', \"Acorns. Your local children's hospice.\"]\n",
            "1:  ['Prince George Hospice House, Canada', 'Dignity and life in your last days.']\n",
            "2:  ['Prince George Hospice House, Canada', 'Dignity and life in your last days.']\n",
            "1:  ['Hoffmann Hospice in California', \"Hoffmann's there because we care.\"]\n",
            "2:  ['Hoffmann Hospice in California', \"Hoffmann's there because we care.\"]\n",
            "1:  ['Willen Hospice, England', 'Always there to care.']\n",
            "2:  ['Willen Hospice, England', 'Always there to care.']\n",
            "1:  ['Hospice of the Piedmont, Charlottesville', 'Sharing the journey.']\n",
            "2:  ['Hospice of the Piedmont, Charlottesville', 'Sharing the journey.']\n",
            "1:  ['Wakefield Hospice', 'Sharing the care.']\n",
            "2:  ['Wakefield Hospice', 'Sharing the care.']\n",
            "1:  ['Hospice Georgina in Ontario, Canada', 'Sharing the caring.']\n",
            "2:  ['Hospice Georgina in Ontario, Canada', 'Sharing the caring.']\n",
            "1:  ['Caldwell Hospice and Palliative Care', 'Companions for the journey.']\n",
            "2:  ['Caldwell Hospice and Palliative Care', 'Companions for the journey.']\n",
            "1:  ['Seasons Hospice & Palliative Care', 'Honoring life. Offering hope.']\n",
            "2:  ['Seasons Hospice & Palliative Care', 'Honoring life. Offering hope.']\n",
            "1:  ['Coastal Hospice & Palliative Care in Salisbury, Maryland', \"Hospice fulfills life's journey with comfort and dignity.\"]\n",
            "2:  ['Coastal Hospice & Palliative Care in Salisbury, Maryland', \"Hospice fulfills life's journey with comfort and dignity.\"]\n",
            "1:  ['Amitabha Hospice Service, New Zealand', 'Offering kindness & clarity.']\n",
            "2:  ['Amitabha Hospice Service, New Zealand', 'Offering kindness & clarity.']\n",
            "1:  ['St. Oswalds Hospice, Newcastle', 'Quality time for everyone.']\n",
            "2:  ['St. Oswalds Hospice, Newcastle', 'Quality time for everyone.']\n",
            "1:  ['Ipswich Hospice Care, Australia', 'Quality of life through care.']\n",
            "2:  ['Ipswich Hospice Care, Australia', 'Quality of life through care.']\n",
            "1:  ['Hospice Hope in Ravenstone, UK', 'Help make it happen.']\n",
            "2:  ['Hospice Hope in Ravenstone, UK', 'Help make it happen.']\n",
            "1:  ['St. Lukes Hospice, United Kingdom', 'Enhancing the quality of life.']\n",
            "2:  ['St. Lukes Hospice, United Kingdom', 'Enhancing the quality of life.']\n",
            "1:  ['Hospice of Hilo, Hawaii', 'Partners in hope, support and comfort.']\n",
            "2:  ['Hospice of Hilo, Hawaii', 'Partners in hope, support and comfort.']\n",
            "1:  ['Hospice of Hilo, Hawaii', 'Care & compassion when you need it most.']\n",
            "2:  ['Hospice of Hilo, Hawaii', 'Care & compassion when you need it most.']\n",
            "1:  ['Compassionate Care Hospice', 'Committed to quality of life.']\n",
            "2:  ['Compassionate Care Hospice', 'Committed to quality of life.']\n",
            "1:  ['Heritage Hospice in Marietta, end-of-life care', 'A commitment to comfort.']\n",
            "2:  ['Heritage Hospice in Marietta, end-of-life care', 'A commitment to comfort.']\n",
            "1:  ['Arthur Rank Hospice Charity in Cambridge, UK', 'Making every moment count.']\n",
            "2:  ['Arthur Rank Hospice Charity in Cambridge, UK', 'Making every moment count.']\n",
            "1:  [\"St. Andrew's Hospice in Grimsby\", 'Making each day count!']\n",
            "2:  [\"St. Andrew's Hospice in Grimsby\", 'Making each day count!']\n",
            "1:  ['Hospice Care Network, New York State', 'Because every day counts.']\n",
            "2:  ['Hospice Care Network, New York State', 'Because every day counts.']\n",
            "1:  ['Phyllis Tuckwell Hospice in Farnham', 'Because every day is precious.']\n",
            "2:  ['Phyllis Tuckwell Hospice in Farnham', 'Because every day is precious.']\n",
            "1:  ['Wigan & Leigh Hospice, end-of-life care', 'Time is precious.']\n",
            "2:  ['Wigan & Leigh Hospice, end-of-life care', 'Time is precious.']\n",
            "1:  ['Weinstein Hospice, Jewish hospice in Atlanta', 'Compassionate care in the Jewish tradition.']\n",
            "2:  ['Weinstein Hospice, Jewish hospice in Atlanta', 'Compassionate care in the Jewish tradition.']\n",
            "1:  ['Serenity Hospice in Lafayette', \"Compassionate care through life's journey.\"]\n",
            "2:  ['Serenity Hospice in Lafayette', \"Compassionate care through life's journey.\"]\n",
            "1:  ['Wellspring Naturopathic Clinic', 'A natural source of greater health.']\n",
            "2:  ['Wellspring Naturopathic Clinic', 'A natural source of greater health.']\n",
            "1:  ['Alpine Naturopathic Clinic in Issaquah', 'Restore your health & reclaim your life.']\n",
            "2:  ['Alpine Naturopathic Clinic in Issaquah', 'Restore your health & reclaim your life.']\n",
            "1:  ['East Bay Naturopathic Clinic', 'Progressive medicine with traditional roots.']\n",
            "2:  ['East Bay Naturopathic Clinic', 'Progressive medicine with traditional roots.']\n",
            "1:  ['Parramatta Naturopathic Clinic', \"Enriching your family's health.\"]\n",
            "2:  ['Parramatta Naturopathic Clinic', \"Enriching your family's health.\"]\n",
            "1:  ['Kamloops Naturopathic Clinic', 'Natural medicine combined with modern science.']\n",
            "2:  ['Kamloops Naturopathic Clinic', 'Natural medicine combined with modern science.']\n",
            "1:  ['Kelowna Naturopathic Clinic', 'Healing with science & nature.']\n",
            "2:  ['Kelowna Naturopathic Clinic', 'Healing with science & nature.']\n",
            "1:  ['Markham Village Naturopathic Clinic', 'Health... the way nature intended.']\n",
            "2:  ['Markham Village Naturopathic Clinic', 'Health... the way nature intended.']\n",
            "1:  ['Snohomish Naturopathic Clinic', 'Achieve optimal health.']\n",
            "2:  ['Snohomish Naturopathic Clinic', 'Achieve optimal health.']\n",
            "1:  ['Vitalis Naturopathic Centre in Seattle', 'Optimize your vital force.']\n",
            "2:  ['Vitalis Naturopathic Centre in Seattle', 'Optimize your vital force.']\n",
            "1:  ['Falcon Naturopathic Centre', 'Expressing vitality naturally!']\n",
            "2:  ['Falcon Naturopathic Centre', 'Expressing vitality naturally!']\n",
            "1:  ['LotusRain Naturopathic Clinic', 'Optimize your care, health and life.']\n",
            "2:  ['LotusRain Naturopathic Clinic', 'Optimize your care, health and life.']\n",
            "1:  ['LotusRain Naturopathic Clinic', 'Your partner in optimal health.']\n",
            "2:  ['LotusRain Naturopathic Clinic', 'Your partner in optimal health.']\n",
            "1:  ['Naturopathic Center for Women in Greenwood', 'While there is life there is hope.']\n",
            "2:  ['Naturopathic Center for Women in Greenwood', 'While there is life there is hope.']\n",
            "1:  ['Dr. Laura Schissell, naturopath and chiropractor', 'Working together to optimize your health.']\n",
            "2:  ['Dr. Laura Schissell, naturopath and chiropractor', 'Working together to optimize your health.']\n",
            "1:  ['The Center for Natural & Integrative Medicine, Orlando', 'A bridge to health, hope & healing.']\n",
            "2:  ['The Center for Natural & Integrative Medicine, Orlando', 'A bridge to health, hope & healing.']\n",
            "1:  ['Lake Side Health Centre, naturopathic doctors in Mississauga', 'Your partners in health.']\n",
            "2:  ['Lake Side Health Centre, naturopathic doctors in Mississauga', 'Your partners in health.']\n",
            "1:  ['Atune Health Centres', 'Health care for the whole person.']\n",
            "2:  ['Atune Health Centres', 'Health care for the whole person.']\n",
            "1:  ['The Natural Medicine Centre in St. Leonards', 'A world of possibility in healing.']\n",
            "2:  ['The Natural Medicine Centre in St. Leonards', 'A world of possibility in healing.']\n",
            "1:  ['Genesis Natural Medicine Center in Tucson', 'The beginning of the rest of your life!']\n",
            "2:  ['Genesis Natural Medicine Center in Tucson', 'The beginning of the rest of your life!']\n",
            "1:  ['Nature Cures Clinic in Portland', 'Holistic care throughout your lifespan.']\n",
            "2:  ['Nature Cures Clinic in Portland', 'Holistic care throughout your lifespan.']\n",
            "1:  ['Empowered Health Clinic in Melbourne', 'Blending science with nature.']\n",
            "2:  ['Empowered Health Clinic in Melbourne', 'Blending science with nature.']\n",
            "1:  ['New Hampshire Natural Health Clinic', 'Your home for naturopathic medicine.']\n",
            "2:  ['New Hampshire Natural Health Clinic', 'Your home for naturopathic medicine.']\n",
            "1:  ['Hilo Natural Health Clinic', 'Good medicine should not be the alternative.']\n",
            "2:  ['Hilo Natural Health Clinic', 'Good medicine should not be the alternative.']\n",
            "1:  ['The Connecticut Center for Health, alternative medicine center using naturopathy, herbal medicine, nutrition, homeopathy', \"The natural choice for your family's health care.\"]\n",
            "2:  ['The Connecticut Center for Health, alternative medicine center using naturopathy, herbal medicine, nutrition, homeopathy', \"The natural choice for your family's health care.\"]\n",
            "1:  ['Select Health Centre in Edmonton', 'A comprehensive wellness plan to fit your needs.']\n",
            "2:  ['Select Health Centre in Edmonton', 'A comprehensive wellness plan to fit your needs.']\n",
            "1:  ['Kim McKenzie, Doctor of Naturopathy and Chiropractic in Toronto', 'Providing access to your greater health expression.']\n",
            "2:  ['Kim McKenzie, Doctor of Naturopathy and Chiropractic in Toronto', 'Providing access to your greater health expression.']\n",
            "1:  ['Massage Clinic QT', 'Road to recovery.']\n",
            "2:  ['Massage Clinic QT', 'Road to recovery.']\n",
            "1:  ['Rangiora Raynor Massage Clinic', 'Finding and releasing tension in your body.']\n",
            "2:  ['Rangiora Raynor Massage Clinic', 'Finding and releasing tension in your body.']\n",
            "1:  ['Bodhi Massage and Bodywork Center in San Diego', 'Your neighborhood sanctuary.']\n",
            "2:  ['Bodhi Massage and Bodywork Center in San Diego', 'Your neighborhood sanctuary.']\n",
            "1:  ['Griffith Massage Centre', 'With good therapists, good results.']\n",
            "2:  ['Griffith Massage Centre', 'With good therapists, good results.']\n",
            "1:  ['Touch Point, remedial massage therapy', 'Making you feel better again.']\n",
            "2:  ['Touch Point, remedial massage therapy', 'Making you feel better again.']\n",
            "1:  ['Dreamclinic in Seattle', 'Keep your health.']\n",
            "2:  ['Dreamclinic in Seattle', 'Keep your health.']\n",
            "1:  ['Dreamclinic in Seattle', 'The trusted place for massage therapy in Seattle.']\n",
            "2:  ['Dreamclinic in Seattle', 'The trusted place for massage therapy in Seattle.']\n",
            "1:  ['Aroma Massage Clinic, mobile massage salon in Tur Langton', 'The clinic that comes to you.']\n",
            "2:  ['Aroma Massage Clinic, mobile massage salon in Tur Langton', 'The clinic that comes to you.']\n",
            "1:  ['Equilibrium Massage Therapy Clinic in Victoria', 'Find your balance.']\n",
            "2:  ['Equilibrium Massage Therapy Clinic in Victoria', 'Find your balance.']\n",
            "1:  ['Harmony, mobile massage therapy practice in Whistler', 'We bring health & relaxation to you.']\n",
            "2:  ['Harmony, mobile massage therapy practice in Whistler', 'We bring health & relaxation to you.']\n",
            "1:  ['Heart Lake Massage Therapy Clinic', 'Professional therapy in a tranquil setting.']\n",
            "2:  ['Heart Lake Massage Therapy Clinic', 'Professional therapy in a tranquil setting.']\n",
            "1:  ['Brighton Massage Center', 'Journey in health.']\n",
            "2:  ['Brighton Massage Center', 'Journey in health.']\n",
            "1:  ['Old Town Massage Center in Alexandria', 'Therapeutic excellence.']\n",
            "2:  ['Old Town Massage Center in Alexandria', 'Therapeutic excellence.']\n",
            "1:  ['Therapeutic Massage Center at Kingsdale', 'Reaching wellness together.']\n",
            "2:  ['Therapeutic Massage Center at Kingsdale', 'Reaching wellness together.']\n",
            "1:  ['Prince Edward Island Massage Therapy Association', 'A step to better health.']\n",
            "2:  ['Prince Edward Island Massage Therapy Association', 'A step to better health.']\n",
            "1:  ['Pure Performance, massage therapy in Vancouver', 'We can help you recover and perform better.']\n",
            "2:  ['Pure Performance, massage therapy in Vancouver', 'We can help you recover and perform better.']\n",
            "1:  ['Burrard Massage Therapy Clinic in Vancouver', 'Smart, safe & effective health care.']\n",
            "2:  ['Burrard Massage Therapy Clinic in Vancouver', 'Smart, safe & effective health care.']\n",
            "1:  ['Healing Winds, massage & therapy centre in Markham', 'We cannot wait to get our hands on you!']\n",
            "2:  ['Healing Winds, massage & therapy centre in Markham', 'We cannot wait to get our hands on you!']\n",
            "1:  ['Wellheads Massage Clinic', 'For fitness and wellbeing.']\n",
            "2:  ['Wellheads Massage Clinic', 'For fitness and wellbeing.']\n",
            "1:  ['New Light, massage and wellness center in Saint Paul, Minnesota', 'See yourself in a New Light.']\n",
            "2:  ['New Light, massage and wellness center in Saint Paul, Minnesota', 'See yourself in a New Light.']\n",
            "1:  ['Mobile Massage Company Corporate, New Zealand', 'Improving performance by reducing stress.']\n",
            "2:  ['Mobile Massage Company Corporate, New Zealand', 'Improving performance by reducing stress.']\n",
            "1:  ['Quarry Physiotherapy Sports Injury & Massage Clinic in Interlake', 'Keeping Interlakers in motion.']\n",
            "2:  ['Quarry Physiotherapy Sports Injury & Massage Clinic in Interlake', 'Keeping Interlakers in motion.']\n",
            "1:  ['Quarry Physiotherapy Sports Injury & Massage Clinic in Interlake', 'Keeping the Interlake in motion.']\n",
            "2:  ['Quarry Physiotherapy Sports Injury & Massage Clinic in Interlake', 'Keeping the Interlake in motion.']\n",
            "1:  ['Harris Neck Massage Clinic', 'Come once for the experience. Return for the results.']\n",
            "2:  ['Harris Neck Massage Clinic', 'Come once for the experience. Return for the results.']\n",
            "1:  ['Therapeutic Touch Massage Clinic in Huber Heights', 'The pleasure that helps get rid of the pain.']\n",
            "2:  ['Therapeutic Touch Massage Clinic in Huber Heights', 'The pleasure that helps get rid of the pain.']\n",
            "1:  ['Belconnen Massage Clinic', 'Indulgent luxury for mind, body and soul.']\n",
            "2:  ['Belconnen Massage Clinic', 'Indulgent luxury for mind, body and soul.']\n",
            "1:  ['Dr. Craig French, chiropractor in Durham', 'Better health through chiropractic.']\n",
            "2:  ['Dr. Craig French, chiropractor in Durham', 'Better health through chiropractic.']\n",
            "1:  ['Dr. Dan Sigman, chiropractor in Rapid City', 'Hands that heal.']\n",
            "2:  ['Dr. Dan Sigman, chiropractor in Rapid City', 'Hands that heal.']\n",
            "1:  ['Moss Chiropractic Clinic in Spring Hill', 'Because quality of life means everything.']\n",
            "2:  ['Moss Chiropractic Clinic in Spring Hill', 'Because quality of life means everything.']\n",
            "1:  ['Brentwood Chiropractic Clinic', 'Feel better. Move better. Live better.']\n",
            "2:  ['Brentwood Chiropractic Clinic', 'Feel better. Move better. Live better.']\n",
            "1:  ['Active Wellness Chiropractic Center in California', 'Be well. Live well.']\n",
            "2:  ['Active Wellness Chiropractic Center in California', 'Be well. Live well.']\n",
            "1:  ['Mountainview Chiropractic Center in Hillsborough', \"It's your life... Live it in health!\"]\n",
            "2:  ['Mountainview Chiropractic Center in Hillsborough', \"It's your life... Live it in health!\"]\n",
            "1:  ['Mountainview Chiropractic Center in Hillsborough', 'Treating patients from pediatric to geriatric.']\n",
            "2:  ['Mountainview Chiropractic Center in Hillsborough', 'Treating patients from pediatric to geriatric.']\n",
            "1:  ['Berkeley Chiropractic Clinic in California', 'Your health is your wealth.']\n",
            "2:  ['Berkeley Chiropractic Clinic in California', 'Your health is your wealth.']\n",
            "1:  ['Divine Therapy, practice of massage therapist Caren Benstead', 'Rest. Refresh. Restore.']\n",
            "2:  ['Divine Therapy, practice of massage therapist Caren Benstead', 'Rest. Refresh. Restore.']\n",
            "1:  ['Divine Therapy, practice of massage therapist Caren Benstead', 'Feel divine with our heavenly therapies.']\n",
            "2:  ['Divine Therapy, practice of massage therapist Caren Benstead', 'Feel divine with our heavenly therapies.']\n",
            "1:  ['Eastleigh Sports Massage', 'Helping you feel fit for sport and fit for life.']\n",
            "2:  ['Eastleigh Sports Massage', 'Helping you feel fit for sport and fit for life.']\n",
            "1:  [\"That's the Rub, massage therapy center in Bloomington\", 'Results oriented massage therapy.']\n",
            "2:  [\"That's the Rub, massage therapy center in Bloomington\", 'Results oriented massage therapy.']\n",
            "1:  ['Living Waters Massage Therapy Clinic in Madison', 'Look good. Feel better. Live longer.']\n",
            "2:  ['Living Waters Massage Therapy Clinic in Madison', 'Look good. Feel better. Live longer.']\n",
            "1:  ['Maria McGugan Massage Therapy Clinic in Orangeville', 'A tranquil experience, through caring hands.']\n",
            "2:  ['Maria McGugan Massage Therapy Clinic in Orangeville', 'A tranquil experience, through caring hands.']\n",
            "1:  ['Massage Therapy Centre in London, Ontario', 'Dedicated to your health and wellbeing.']\n",
            "2:  ['Massage Therapy Centre in London, Ontario', 'Dedicated to your health and wellbeing.']\n",
            "1:  ['Massage therapy clinic in Fort Wayne', \"We've got your back.\"]\n",
            "2:  ['Massage therapy clinic in Fort Wayne', \"We've got your back.\"]\n",
            "1:  ['BJB Therapeutic Massage Center in Herndon', 'Supportive center for your care and wellness.']\n",
            "2:  ['BJB Therapeutic Massage Center in Herndon', 'Supportive center for your care and wellness.']\n",
            "1:  ['The BodySong Massage Center & School in Novato', \"Listening to your body's wisdom for healing.\"]\n",
            "2:  ['The BodySong Massage Center & School in Novato', \"Listening to your body's wisdom for healing.\"]\n",
            "1:  ['Austin Massage Clinic', 'Healing hands, compassionate hearts & intuitive minds.']\n",
            "2:  ['Austin Massage Clinic', 'Healing hands, compassionate hearts & intuitive minds.']\n",
            "1:  ['The VKH Massage Clinic', 'One hour to change your health and life.']\n",
            "2:  ['The VKH Massage Clinic', 'One hour to change your health and life.']\n",
            "1:  ['Tampa Massage Clinic', 'Nothing is more important than human touch.']\n",
            "2:  ['Tampa Massage Clinic', 'Nothing is more important than human touch.']\n",
            "1:  ['Urban Serenity, massage clinic in Lisburn', \"Where it's all about you.\"]\n",
            "2:  ['Urban Serenity, massage clinic in Lisburn', \"Where it's all about you.\"]\n",
            "1:  ['Senators Physiotherapy & Massage Clinic in Ottawa', 'Recover. Strengthen. Fly.']\n",
            "2:  ['Senators Physiotherapy & Massage Clinic in Ottawa', 'Recover. Strengthen. Fly.']\n",
            "1:  ['Sutherland-Chan Yonge and Bloor Massage Therapy Clinic', 'Creating healthier lifestyles.']\n",
            "2:  ['Sutherland-Chan Yonge and Bloor Massage Therapy Clinic', 'Creating healthier lifestyles.']\n",
            "1:  ['Valley Massage Therapy Clinic in Kentville', 'Where art & the science of massage come together.']\n",
            "2:  ['Valley Massage Therapy Clinic in Kentville', 'Where art & the science of massage come together.']\n",
            "1:  ['Ignite Chiropractic Centre, Australia', 'Sparking your inner health.']\n",
            "2:  ['Ignite Chiropractic Centre, Australia', 'Sparking your inner health.']\n",
            "1:  ['Synergy Chiropractic Center in Wentzville', 'Working together for your overall health.']\n",
            "2:  ['Synergy Chiropractic Center in Wentzville', 'Working together for your overall health.']\n",
            "1:  ['North Valley Chiropractic', 'We listen, we care, we get results!']\n",
            "2:  ['North Valley Chiropractic', 'We listen, we care, we get results!']\n",
            "1:  ['Chiropractor Plus Clinic in Nixa', \"Isn't it time you felt good again?\"]\n",
            "2:  ['Chiropractor Plus Clinic in Nixa', \"Isn't it time you felt good again?\"]\n",
            "1:  ['Chiropractor Plus Clinic in Nixa', 'Get the care you need, when you need it, at the price you can afford.']\n",
            "2:  ['Chiropractor Plus Clinic in Nixa', 'Get the care you need, when you need it, at the price you can afford.']\n",
            "1:  ['Fearn Natural Health Clinic', 'The posture professionals.']\n",
            "2:  ['Fearn Natural Health Clinic', 'The posture professionals.']\n",
            "1:  ['Kelowna Manual Therapy Clinic', 'Put yourself in good hands.']\n",
            "2:  ['Kelowna Manual Therapy Clinic', 'Put yourself in good hands.']\n",
            "1:  ['Minser Chiropractic Clinic in St. Cloud, Minnesota', 'Where health happens.']\n",
            "2:  ['Minser Chiropractic Clinic in St. Cloud, Minnesota', 'Where health happens.']\n",
            "1:  ['Campbell Chiropractic Clinic in Jacksonville', 'For the health of it.']\n",
            "2:  ['Campbell Chiropractic Clinic in Jacksonville', 'For the health of it.']\n",
            "1:  ['Rochester Chiropractic Center, United States', 'Pain relief today, total health tomorrow.']\n",
            "2:  ['Rochester Chiropractic Center, United States', 'Pain relief today, total health tomorrow.']\n",
            "1:  ['Barlow Centre in Calgary', 'Centre for active living.']\n",
            "2:  ['Barlow Centre in Calgary', 'Centre for active living.']\n",
            "1:  ['The Hunt Club Chiropractic in Ottawa', 'Not just for life... but to be fully alive.']\n",
            "2:  ['The Hunt Club Chiropractic in Ottawa', 'Not just for life... but to be fully alive.']\n",
            "1:  ['Jacksonville Chiropractic and Acupuncture, practice of Dr. Carlson', \"Adjusting Jacksonville's health.\"]\n",
            "2:  ['Jacksonville Chiropractic and Acupuncture, practice of Dr. Carlson', \"Adjusting Jacksonville's health.\"]\n",
            "1:  ['JAC Acupuncture, private practice of Jackie Rose', 'Where change begins.']\n",
            "2:  ['JAC Acupuncture, private practice of Jackie Rose', 'Where change begins.']\n",
            "1:  ['Rose City Acupuncture in Portland', 'Gentle, effective healing.']\n",
            "2:  ['Rose City Acupuncture in Portland', 'Gentle, effective healing.']\n",
            "1:  ['The Acupuncture Clinic in Columbia', 'The art of experienced practice.']\n",
            "2:  ['The Acupuncture Clinic in Columbia', 'The art of experienced practice.']\n",
            "1:  ['Blue Lotus, clinic in Brookfield', 'Healthy life is priceless gift!']\n",
            "2:  ['Blue Lotus, clinic in Brookfield', 'Healthy life is priceless gift!']\n",
            "1:  ['Marin Acupuncture Clinic in San Anselmo', 'Your health in bloom.']\n",
            "2:  ['Marin Acupuncture Clinic in San Anselmo', 'Your health in bloom.']\n",
            "1:  [\"Wong's Acupuncture Centre\", 'Pin-pointing the disharmony.']\n",
            "2:  [\"Wong's Acupuncture Centre\", 'Pin-pointing the disharmony.']\n",
            "1:  ['Blue Waters Acupuncture Center', 'At Blue Waters your health becomes crystal clear.']\n",
            "2:  ['Blue Waters Acupuncture Center', 'At Blue Waters your health becomes crystal clear.']\n",
            "1:  [\"The People's Clinic in Boise\", 'Acupuncture for the rest of us!']\n",
            "2:  [\"The People's Clinic in Boise\", 'Acupuncture for the rest of us!']\n",
            "1:  ['Garforth Acupuncture Clinic', 'Balancing body and mind.']\n",
            "2:  ['Garforth Acupuncture Clinic', 'Balancing body and mind.']\n",
            "1:  ['Fairview Chiropractic and Massage Centre', 'Stop waiting. Start healing.']\n",
            "2:  ['Fairview Chiropractic and Massage Centre', 'Stop waiting. Start healing.']\n",
            "1:  ['Schwab Chiropractic Clinic in Eau Claire', 'Shaping the way you live.']\n",
            "2:  ['Schwab Chiropractic Clinic in Eau Claire', 'Shaping the way you live.']\n",
            "1:  ['Chiromedix', 'Moving you forward.']\n",
            "2:  ['Chiromedix', 'Moving you forward.']\n",
            "1:  ['Right Health Clinic in Colorado Springs', 'The right chiropractor. At the right time.']\n",
            "2:  ['Right Health Clinic in Colorado Springs', 'The right chiropractor. At the right time.']\n",
            "1:  ['Monahan Chiropractic Medical Clinics', \"You're in great hands with Monahan's.\"]\n",
            "2:  ['Monahan Chiropractic Medical Clinics', \"You're in great hands with Monahan's.\"]\n",
            "1:  ['Almond Wellness Centre, acupuncture Chinese medicine', 'Regain your health without drugs.']\n",
            "2:  ['Almond Wellness Centre, acupuncture Chinese medicine', 'Regain your health without drugs.']\n",
            "1:  ['Louisville Acupuncture Clinic', 'Are you ready for a change?']\n",
            "2:  ['Louisville Acupuncture Clinic', 'Are you ready for a change?']\n",
            "1:  ['Louisville Acupuncture Clinic', 'Bring your body back into balance.']\n",
            "2:  ['Louisville Acupuncture Clinic', 'Bring your body back into balance.']\n",
            "1:  ['Blue Ridge Acupuncture Clinic in Asheville', 'The wisdom of nature, the science of today.']\n",
            "2:  ['Blue Ridge Acupuncture Clinic in Asheville', 'The wisdom of nature, the science of today.']\n",
            "1:  ['Blessing Acupuncture in Monterey', 'Live well. Be well.']\n",
            "2:  ['Blessing Acupuncture in Monterey', 'Live well. Be well.']\n",
            "1:  ['Acupuncture & Chinese Medical Center in Winnipeg', 'Healthy living that begins today and lasts a lifetime!']\n",
            "2:  ['Acupuncture & Chinese Medical Center in Winnipeg', 'Healthy living that begins today and lasts a lifetime!']\n",
            "1:  ['Folsom Chinese Acupuncture Center', 'Feel better today and enjoy a better tomorrow.']\n",
            "2:  ['Folsom Chinese Acupuncture Center', 'Feel better today and enjoy a better tomorrow.']\n",
            "1:  ['One Community Acupuncture Center', 'Helping people get better with natural medicine.']\n",
            "2:  ['One Community Acupuncture Center', 'Helping people get better with natural medicine.']\n",
            "1:  ['Pink Lotus Acupuncture and Wellness Center', 'Awaken the unconscious with mindful living.']\n",
            "2:  ['Pink Lotus Acupuncture and Wellness Center', 'Awaken the unconscious with mindful living.']\n",
            "1:  ['Abilene Acupuncture Clinic', 'Better health starts here!']\n",
            "2:  ['Abilene Acupuncture Clinic', 'Better health starts here!']\n",
            "1:  ['Cary Acupuncture Clinic', 'Improve your health, empower your life.']\n",
            "2:  ['Cary Acupuncture Clinic', 'Improve your health, empower your life.']\n",
            "1:  ['Troy Acupuncture', 'Continuing generations of family tradition.']\n",
            "2:  ['Troy Acupuncture', 'Continuing generations of family tradition.']\n",
            "1:  ['Acupuncture Center of Cary', 'Enhancing health and well-being.']\n",
            "2:  ['Acupuncture Center of Cary', 'Enhancing health and well-being.']\n",
            "1:  ['Rockridge Family Chiropractic', 'Supporting you in your quest for health, strength and vitality.']\n",
            "2:  ['Rockridge Family Chiropractic', 'Supporting you in your quest for health, strength and vitality.']\n",
            "1:  ['Balance Acupuncture Center in Boonton', 'Health in harmony... Life in harmony.']\n",
            "2:  ['Balance Acupuncture Center in Boonton', 'Health in harmony... Life in harmony.']\n",
            "1:  ['DFW Acupuncture Center', 'Helping you activate your inner healing force.']\n",
            "2:  ['DFW Acupuncture Center', 'Helping you activate your inner healing force.']\n",
            "1:  ['Escondido Acupuncture Center', 'Your choice for natural healing.']\n",
            "2:  ['Escondido Acupuncture Center', 'Your choice for natural healing.']\n",
            "1:  ['Samdae Herbal & Acupuncture Clinics', 'Dedicated to providing safe and efficient care.']\n",
            "2:  ['Samdae Herbal & Acupuncture Clinics', 'Dedicated to providing safe and efficient care.']\n",
            "1:  ['Onken yogurts and mousses', 'Onken. Feel good.']\n",
            "2:  ['Onken yogurts and mousses', 'Onken. Feel good.']\n",
            "1:  ['Danone / Danacol, low fat drinking yoghurt', \"Danacol. Cholesterol hates it. You'll love it.\"]\n",
            "2:  ['Danone / Danacol, low fat drinking yoghurt', \"Danacol. Cholesterol hates it. You'll love it.\"]\n",
            "1:  ['Benecol yogurt drink', 'Benecol. Keep cholesterol at bay.']\n",
            "2:  ['Benecol yogurt drink', 'Benecol. Keep cholesterol at bay.']\n",
            "1:  ['Danone / Actimel probiotic yogurt drink', 'A little every day goes a long, long way.']\n",
            "2:  ['Danone / Actimel probiotic yogurt drink', 'A little every day goes a long, long way.']\n",
            "1:  ['Danone / Actimel probiotic yogurt drink', 'The Actimel challenge. Give it a go.']\n",
            "2:  ['Danone / Actimel probiotic yogurt drink', 'The Actimel challenge. Give it a go.']\n",
            "1:  ['Danone / Activia, yogurt with probiotic culture', 'Activia. Actively good.']\n",
            "2:  ['Danone / Activia, yogurt with probiotic culture', 'Activia. Actively good.']\n",
            "1:  ['Muller yogurts', 'Lead a Muller life.']\n",
            "2:  ['Muller yogurts', 'Lead a Muller life.']\n",
            "1:  ['Breyers yogurt brand', 'Breyers. Tastes so good Still good for you.']\n",
            "2:  ['Breyers yogurt brand', 'Breyers. Tastes so good Still good for you.']\n",
            "1:  ['Yoplait / Yop drinking yogurt', 'Yop. For when the morning comes.']\n",
            "2:  ['Yoplait / Yop drinking yogurt', 'Yop. For when the morning comes.']\n",
            "1:  ['Yoplait / Yop drinking yogurt', 'Yop. Skip & jump.']\n",
            "2:  ['Yoplait / Yop drinking yogurt', 'Yop. Skip & jump.']\n",
            "1:  ['Progresso canned soups', 'Loaded with vegetables. Packed with taste.']\n",
            "2:  ['Progresso canned soups', 'Loaded with vegetables. Packed with taste.']\n",
            "1:  ['Progresso canned soups', 'Make it Progresso. Or make it yourself.']\n",
            "2:  ['Progresso canned soups', 'Make it Progresso. Or make it yourself.']\n",
            "1:  ['Progresso canned soups', 'What a light soup should be.']\n",
            "2:  ['Progresso canned soups', 'What a light soup should be.']\n",
            "1:  ['Progresso canned soups', 'Progresso. A taste of the good life!']\n",
            "2:  ['Progresso canned soups', 'Progresso. A taste of the good life!']\n",
            "1:  ['Progresso canned soups', 'Wherever you are, a taste of the good life.']\n",
            "2:  ['Progresso canned soups', 'Wherever you are, a taste of the good life.']\n",
            "1:  ['Progresso canned soups', 'Discover the better taste of Progresso.']\n",
            "2:  ['Progresso canned soups', 'Discover the better taste of Progresso.']\n",
            "1:  [\"Campbell's Chunky soup\", 'It fills you up right.']\n",
            "2:  [\"Campbell's Chunky soup\", 'It fills you up right.']\n",
            "1:  [\"Campbell's Chunky soup\", 'Spread the warmth.']\n",
            "2:  [\"Campbell's Chunky soup\", 'Spread the warmth.']\n",
            "1:  [\"Campbell's Chunky soup\", 'Fill up on the good stuff.']\n",
            "2:  [\"Campbell's Chunky soup\", 'Fill up on the good stuff.']\n",
            "1:  [\"Campbell's Chunky soup\", 'Soup that eats like a meal.']\n",
            "2:  [\"Campbell's Chunky soup\", 'Soup that eats like a meal.']\n",
            "1:  [\"Campbell's soup\", \"M'm! M'm! Good!\"]\n",
            "2:  [\"Campbell's soup\", \"M'm! M'm! Good!\"]\n",
            "1:  [\"Campbell's soup\", \"It's amazing what soup can do!\"]\n",
            "2:  [\"Campbell's soup\", \"It's amazing what soup can do!\"]\n",
            "1:  [\"Campbell's soup\", \"So many, many reasons it's so... M'm! M'm! Good!\"]\n",
            "2:  [\"Campbell's soup\", \"So many, many reasons it's so... M'm! M'm! Good!\"]\n",
            "1:  [\"Campbell's soup\", \"Campbell's. Possibilities.\"]\n",
            "2:  [\"Campbell's soup\", \"Campbell's. Possibilities.\"]\n",
            "1:  [\"Campbell's soup\", \"Make it Campbell's instead.\"]\n",
            "2:  [\"Campbell's soup\", \"Make it Campbell's instead.\"]\n",
            "1:  [\"Campbell's soup\", 'Never underestimate the power of soup!']\n",
            "2:  [\"Campbell's soup\", 'Never underestimate the power of soup!']\n",
            "1:  [\"Campbell's soup\", 'Soup is good food.']\n",
            "2:  [\"Campbell's soup\", 'Soup is good food.']\n",
            "1:  [\"Campbell's Select Harvest soups\", 'Real ingredients. Real taste.']\n",
            "2:  [\"Campbell's Select Harvest soups\", 'Real ingredients. Real taste.']\n",
            "1:  [\"Campbell's Select soups\", 'Why settle when you can Select?']\n",
            "2:  [\"Campbell's Select soups\", 'Why settle when you can Select?']\n",
            "1:  [\"Campbell's Condensed soups\", \"You get more out of Campbell's.\"]\n",
            "2:  [\"Campbell's Condensed soups\", \"You get more out of Campbell's.\"]\n",
            "1:  [\"Campbell's Chicken Noodle soup\", \"It's got the goods.\"]\n",
            "2:  [\"Campbell's Chicken Noodle soup\", \"It's got the goods.\"]\n",
            "1:  [\"Campbell's Cup Soup\", 'For people who want more.']\n",
            "2:  [\"Campbell's Cup Soup\", 'For people who want more.']\n",
            "1:  [\"Campbell's V8 soups\", \"An idea so fresh, it's uncanny.\"]\n",
            "2:  [\"Campbell's V8 soups\", \"An idea so fresh, it's uncanny.\"]\n",
            "1:  ['Swanson broth', 'The secret is Swanson Broth.']\n",
            "2:  ['Swanson broth', 'The secret is Swanson Broth.']\n",
            "1:  ['Swanson broth', 'Replace water with flavor.']\n",
            "2:  ['Swanson broth', 'Replace water with flavor.']\n",
            "1:  ['Boulder Soup Works, brand of organic pre-packaged soups', 'Soup to live by.']\n",
            "2:  ['Boulder Soup Works, brand of organic pre-packaged soups', 'Soup to live by.']\n",
            "1:  ['Glorious, brand of fresh, chilled soups and sauces', 'Glorious. Adventure through food.']\n",
            "2:  ['Glorious, brand of fresh, chilled soups and sauces', 'Glorious. Adventure through food.']\n",
            "1:  ['Rosella, Australian soup brand', 'Rosella. Just heat & eat.']\n",
            "2:  ['Rosella, Australian soup brand', 'Rosella. Just heat & eat.']\n",
            "1:  ['Continental Chicken Noodle simmer soup', 'The best soup comes from the best ingredients.']\n",
            "2:  ['Continental Chicken Noodle simmer soup', 'The best soup comes from the best ingredients.']\n",
            "1:  ['Continental Cup a Soup', 'Anywhere, anytime.']\n",
            "2:  ['Continental Cup a Soup', 'Anywhere, anytime.']\n",
            "1:  ['Continental Cup a Soup Sensations, range of soups in sachets', 'Let the flavour seduce you.']\n",
            "2:  ['Continental Cup a Soup Sensations, range of soups in sachets', 'Let the flavour seduce you.']\n",
            "1:  ['Maggi soups', 'With a soup, you are always at home.']\n",
            "2:  ['Maggi soups', 'With a soup, you are always at home.']\n",
            "1:  ['Knorr soups', 'Knorr. Life can be delicious.']\n",
            "2:  ['Knorr soups', 'Knorr. Life can be delicious.']\n",
            "1:  ['Knorr Quick instant soup', 'If patience is not your thing.']\n",
            "2:  ['Knorr Quick instant soup', 'If patience is not your thing.']\n",
            "1:  ['Knorr Quick instant soup', 'Tastes more like a slow soup.']\n",
            "2:  ['Knorr Quick instant soup', 'Tastes more like a slow soup.']\n",
            "1:  ['Green Giant, vegetable soups', 'Make time for vegetable goodness.']\n",
            "2:  ['Green Giant, vegetable soups', 'Make time for vegetable goodness.']\n",
            "1:  ['Odlums home baking products', 'Odlums. The owl favourites.']\n",
            "2:  ['Odlums home baking products', 'Odlums. The owl favourites.']\n",
            "1:  ['Duncan Hines baking mixes (cake, cookie, muffin)', 'So rich. So moist. So very Duncan Hines.']\n",
            "2:  ['Duncan Hines baking mixes (cake, cookie, muffin)', 'So rich. So moist. So very Duncan Hines.']\n",
            "1:  ['Nestle Toll House baking ingredients', 'Bake the Very Best.']\n",
            "2:  ['Nestle Toll House baking ingredients', 'Bake the Very Best.']\n",
            "1:  ['Sasko flour, South Africa', 'Sasko. Makes your baking better tasting.']\n",
            "2:  ['Sasko flour, South Africa', 'Sasko. Makes your baking better tasting.']\n",
            "1:  ['Cravendale milk brand', 'Cravendale. Milk matters.']\n",
            "2:  ['Cravendale milk brand', 'Cravendale. Milk matters.']\n",
            "1:  ['Cravendale milk brand', 'Cravendale. The cows want it back.']\n",
            "2:  ['Cravendale milk brand', 'Cravendale. The cows want it back.']\n",
            "1:  ['Robert Wiseman Dairies / The One milk', 'All the taste. Only 1% fat.']\n",
            "2:  ['Robert Wiseman Dairies / The One milk', 'All the taste. Only 1% fat.']\n",
            "1:  ['Silk Soymilk', 'Silk. Beyond nutrition.']\n",
            "2:  ['Silk Soymilk', 'Silk. Beyond nutrition.']\n",
            "1:  ['Devondale milk, Australia', 'Devondale. Tastes like real milk because it is.']\n",
            "2:  ['Devondale milk, Australia', 'Devondale. Tastes like real milk because it is.']\n",
            "1:  ['PureHarvest brand (soy, rice, oat, dairy milk), Australia', 'Pure by Name. Pure by Nature.']\n",
            "2:  ['PureHarvest brand (soy, rice, oat, dairy milk), Australia', 'Pure by Name. Pure by Nature.']\n",
            "1:  ['Vitasoy brand, soy milk and soy beverages', 'Vitasoy. Enjoy Your Health.']\n",
            "2:  ['Vitasoy brand, soy milk and soy beverages', 'Vitasoy. Enjoy Your Health.']\n",
            "1:  ['Alba Dry Milk', 'Skim milk does not come from skinny cows.']\n",
            "2:  ['Alba Dry Milk', 'Skim milk does not come from skinny cows.']\n",
            "1:  ['Perrys Ice Cream, manufacturer of ice cream and frozen yogurts', \"Life is a bowl of Perry's.\"]\n",
            "2:  ['Perrys Ice Cream, manufacturer of ice cream and frozen yogurts', \"Life is a bowl of Perry's.\"]\n",
            "1:  ['Good Humor ice cream', 'Good Humor. Return to the classics.']\n",
            "2:  ['Good Humor ice cream', 'Good Humor. Return to the classics.']\n",
            "1:  [\"Chapman's ice cream in Canada\", \"Chapman's. For the kid in all of us!\"]\n",
            "2:  [\"Chapman's ice cream in Canada\", \"Chapman's. For the kid in all of us!\"]\n",
            "1:  [\"Carte D'Or ice cream brand\", \"Once you've got Carte D'Or, you've got dessert.\"]\n",
            "2:  [\"Carte D'Or ice cream brand\", \"Once you've got Carte D'Or, you've got dessert.\"]\n",
            "1:  [\"Carte D'Or ice cream brand\", \"Give more. Give Carte D'Or.\"]\n",
            "2:  [\"Carte D'Or ice cream brand\", \"Give more. Give Carte D'Or.\"]\n",
            "1:  [\"Carte D'Or ice cream brand\", 'Savour the emotions.']\n",
            "2:  [\"Carte D'Or ice cream brand\", 'Savour the emotions.']\n",
            "1:  ['Connoisseur gourmet ice cream in Australia', 'Connoisseur. The thrill of the taste.']\n",
            "2:  ['Connoisseur gourmet ice cream in Australia', 'Connoisseur. The thrill of the taste.']\n",
            "1:  ['Connoisseur gourmet ice cream in Australia', 'For people with taste.']\n",
            "2:  ['Connoisseur gourmet ice cream in Australia', 'For people with taste.']\n",
            "1:  ['Arctic Zero low calorie ice cream', \"So good, you won't know it's healthy!\"]\n",
            "2:  ['Arctic Zero low calorie ice cream', \"So good, you won't know it's healthy!\"]\n",
            "1:  ['Arctic Zero low calorie ice cream', 'A protein shake in ice cream form.']\n",
            "2:  ['Arctic Zero low calorie ice cream', 'A protein shake in ice cream form.']\n",
            "1:  [\"It's-It ice cream\", \"It's-It. Ice cream treat.\"]\n",
            "2:  [\"It's-It ice cream\", \"It's-It. Ice cream treat.\"]\n",
            "1:  ['Cornetto ice cream cones', 'Cornetto. Enjoy the ride, love the ending.']\n",
            "2:  ['Cornetto ice cream cones', 'Cornetto. Enjoy the ride, love the ending.']\n",
            "1:  ['Haagen-Dazs ice cream tubs', 'Made for movies.']\n",
            "2:  ['Haagen-Dazs ice cream tubs', 'Made for movies.']\n",
            "1:  [\"Dreyer's ice cream\", \"It's not just ice cream. It's Dreyer's.\"]\n",
            "2:  [\"Dreyer's ice cream\", \"It's not just ice cream. It's Dreyer's.\"]\n",
            "1:  [\"Dreyer's ice cream\", \"Dreyer's. What could be better?\"]\n",
            "2:  [\"Dreyer's ice cream\", \"Dreyer's. What could be better?\"]\n",
            "1:  ['Breyers ice cream', \"It's way beyond ice cream.\"]\n",
            "2:  ['Breyers ice cream', \"It's way beyond ice cream.\"]\n",
            "1:  [\"Tony's frozen pizza products\", \"Tony's. Tastes like fun.\"]\n",
            "2:  [\"Tony's frozen pizza products\", \"Tony's. Tastes like fun.\"]\n",
            "1:  ['Freschetta frozen pizza', 'Freschetta. The fresh taste sensation.']\n",
            "2:  ['Freschetta frozen pizza', 'Freschetta. The fresh taste sensation.']\n",
            "1:  [\"Heavens' Bistro low-fat frozen pizzas\", 'All the taste, not on your waist!']\n",
            "2:  [\"Heavens' Bistro low-fat frozen pizzas\", 'All the taste, not on your waist!']\n",
            "1:  ['Chicago Town pizza', 'A Million Miles From Humdrum.']\n",
            "2:  ['Chicago Town pizza', 'A Million Miles From Humdrum.']\n",
            "1:  ['Breyers ice cream', 'Brings the family together.']\n",
            "2:  ['Breyers ice cream', 'Brings the family together.']\n",
            "1:  ['Breyers ice cream', 'So good, it must be Breyers.']\n",
            "2:  ['Breyers ice cream', 'So good, it must be Breyers.']\n",
            "1:  ['Popsicle ice pop', \"Anything's possible with Popsicle.\"]\n",
            "2:  ['Popsicle ice pop', \"Anything's possible with Popsicle.\"]\n",
            "1:  ['Popsicle ice pop', \"If it's Popsicle, it's possible!\"]\n",
            "2:  ['Popsicle ice pop', \"If it's Popsicle, it's possible!\"]\n",
            "1:  ['Popsicle ice pop', \"If it isn't Popsicle, it's just an ice pop.\"]\n",
            "2:  ['Popsicle ice pop', \"If it isn't Popsicle, it's just an ice pop.\"]\n",
            "1:  ['Blue Bunny ice cream', \"So good, it's speaks for itself.\"]\n",
            "2:  ['Blue Bunny ice cream', \"So good, it's speaks for itself.\"]\n",
            "1:  ['Blue Bell Creameries, manufacturer of Blue Bell ice cream', 'We eat all we can and sell the rest.']\n",
            "2:  ['Blue Bell Creameries, manufacturer of Blue Bell ice cream', 'We eat all we can and sell the rest.']\n",
            "1:  ['Blue Bell ice cream brand', 'The best ice cream in the country.']\n",
            "2:  ['Blue Bell ice cream brand', 'The best ice cream in the country.']\n",
            "1:  ['Blue Bell ice cream brand', 'A taste of heaven on earth.']\n",
            "2:  ['Blue Bell ice cream brand', 'A taste of heaven on earth.']\n",
            "1:  ['Blue Bell ice cream brand', 'Have yourself a Blue Bell country day.']\n",
            "2:  ['Blue Bell ice cream brand', 'Have yourself a Blue Bell country day.']\n",
            "1:  ['Magnolia ice cream', 'Make memories with Magnolia.']\n",
            "2:  ['Magnolia ice cream', 'Make memories with Magnolia.']\n",
            "1:  ['Magnolia ice cream', 'Real ice cream. Real people.']\n",
            "2:  ['Magnolia ice cream', 'Real ice cream. Real people.']\n",
            "1:  ['Skinny Cow ice cream', 'Love yourself.']\n",
            "2:  ['Skinny Cow ice cream', 'Love yourself.']\n",
            "1:  ['Skinny Cow ice cream', 'Like ice cream, love Skinny Cow.']\n",
            "2:  ['Skinny Cow ice cream', 'Like ice cream, love Skinny Cow.']\n",
            "1:  ['Klondike ice cream bars and sandwiches', 'The best ice cream bar ever conceived.']\n",
            "2:  ['Klondike ice cream bars and sandwiches', 'The best ice cream bar ever conceived.']\n",
            "1:  ['Klondike ice cream bars and sandwiches', 'What would you do for a Klondike bar?']\n",
            "2:  ['Klondike ice cream bars and sandwiches', 'What would you do for a Klondike bar?']\n",
            "1:  ['Magnum ice cream brand', 'Magnum. For pleasure seekers.']\n",
            "2:  ['Magnum ice cream brand', 'Magnum. For pleasure seekers.']\n",
            "1:  ['Magnum ice cream brand', 'Enjoy the royal treatment.']\n",
            "2:  ['Magnum ice cream brand', 'Enjoy the royal treatment.']\n",
            "1:  ['Magnum ice cream brand', 'Magnumize your life.']\n",
            "2:  ['Magnum ice cream brand', 'Magnumize your life.']\n",
            "1:  ['Various ranges of Magnum ice-cream', 'Magnum After Dinner. Little shivers of excitement.']\n",
            "2:  ['Various ranges of Magnum ice-cream', 'Magnum After Dinner. Little shivers of excitement.']\n",
            "1:  ['Various ranges of Magnum ice-cream', 'Magnum Caramel & Nuts. Got the balls for it?']\n",
            "2:  ['Various ranges of Magnum ice-cream', 'Magnum Caramel & Nuts. Got the balls for it?']\n",
            "1:  ['Various ranges of Magnum ice-cream', \"Magnum Double. Now you'll love it twice as much.\"]\n",
            "2:  ['Various ranges of Magnum ice-cream', \"Magnum Double. Now you'll love it twice as much.\"]\n",
            "1:  ['PediaSure bottled nutrition for kids', 'PediaSure. Be sure.']\n",
            "2:  ['PediaSure bottled nutrition for kids', 'PediaSure. Be sure.']\n",
            "1:  ['Gerber baby food brand', \"Shouldn't your baby be a Gerber baby?\"]\n",
            "2:  ['Gerber baby food brand', \"Shouldn't your baby be a Gerber baby?\"]\n",
            "1:  ['Beech-Nut baby food', 'Beech-Nut. Small Is Big Here.']\n",
            "2:  ['Beech-Nut baby food', 'Beech-Nut. Small Is Big Here.']\n",
            "1:  ['Chiropractic Center of Lakeland', 'For your good health. Naturally.']\n",
            "2:  ['Chiropractic Center of Lakeland', 'For your good health. Naturally.']\n",
            "1:  ['Natural Chiropractic Center in Plymouth', 'Free the power of your energy flow.']\n",
            "2:  ['Natural Chiropractic Center in Plymouth', 'Free the power of your energy flow.']\n",
            "1:  ['Spence Chiropractic Center in San Diego', 'Obtaining optimal health naturally.']\n",
            "2:  ['Spence Chiropractic Center in San Diego', 'Obtaining optimal health naturally.']\n",
            "1:  ['Strauss Chiropractic Center in Levittown', 'Because adjustments are a part of life.']\n",
            "2:  ['Strauss Chiropractic Center in Levittown', 'Because adjustments are a part of life.']\n",
            "1:  ['Stratton Chiropractic Center in Quincy, Illinois', 'Get back to life... Today!']\n",
            "2:  ['Stratton Chiropractic Center in Quincy, Illinois', 'Get back to life... Today!']\n",
            "1:  ['Vida Lifestyles Chiropractic and Naturopathy in Australia', 'Wellness care for now and the future.']\n",
            "2:  ['Vida Lifestyles Chiropractic and Naturopathy in Australia', 'Wellness care for now and the future.']\n",
            "1:  ['Vida Lifestyles Chiropractic and Naturopathy in Australia', 'We love life!']\n",
            "2:  ['Vida Lifestyles Chiropractic and Naturopathy in Australia', 'We love life!']\n",
            "1:  ['Denver Chiropractic Center of Dr. Glenn Hyman', \"Don't put up with pain.\"]\n",
            "2:  ['Denver Chiropractic Center of Dr. Glenn Hyman', \"Don't put up with pain.\"]\n",
            "1:  ['Van Drisse Chiropractic Center in De Pere, Wisconsin', \"If you're in pain, we can see you today!\"]\n",
            "2:  ['Van Drisse Chiropractic Center in De Pere, Wisconsin', \"If you're in pain, we can see you today!\"]\n",
            "1:  ['Canadian Chiropractic Association', 'Treatment that stands up.']\n",
            "2:  ['Canadian Chiropractic Association', 'Treatment that stands up.']\n",
            "1:  ['Eastern Passage Chiropractic Center in Dartmouth, Canada', 'Freedom from back pain. Live again!']\n",
            "2:  ['Eastern Passage Chiropractic Center in Dartmouth, Canada', 'Freedom from back pain. Live again!']\n",
            "1:  ['Align Health Centre in Newmarket', 'Align your health.']\n",
            "2:  ['Align Health Centre in Newmarket', 'Align your health.']\n",
            "1:  ['Align Health Centre in Newmarket', \"It's time to align your health.\"]\n",
            "2:  ['Align Health Centre in Newmarket', \"It's time to align your health.\"]\n",
            "1:  ['Chiropractic Center of Monroe', 'When it really matters.']\n",
            "2:  ['Chiropractic Center of Monroe', 'When it really matters.']\n",
            "1:  ['Real Health Chiropractic Clinic in Eden Prairie', 'Real you. Real life. Real health.']\n",
            "2:  ['Real Health Chiropractic Clinic in Eden Prairie', 'Real you. Real life. Real health.']\n",
            "1:  ['Associate Chiropractic Centre in Bridgewater', 'Relieving pain, promoting health.']\n",
            "2:  ['Associate Chiropractic Centre in Bridgewater', 'Relieving pain, promoting health.']\n",
            "1:  ['Complete Chiropractic in London, Canada', 'Treating more than just back pain.']\n",
            "2:  ['Complete Chiropractic in London, Canada', 'Treating more than just back pain.']\n",
            "1:  ['Sante Chiropractic in Ottawa', 'Where healthy people go.']\n",
            "2:  ['Sante Chiropractic in Ottawa', 'Where healthy people go.']\n",
            "1:  ['Chiropractic Health Clinic in Merritt Island', 'Discover what chiropractic can do for you.']\n",
            "2:  ['Chiropractic Health Clinic in Merritt Island', 'Discover what chiropractic can do for you.']\n",
            "1:  ['Health First Chiropractic in Grand Rapids', 'Caring for your health first.']\n",
            "2:  ['Health First Chiropractic in Grand Rapids', 'Caring for your health first.']\n",
            "1:  ['Buzek Chiropractic Clinic in Leamington', 'Natural health care for all generations.']\n",
            "2:  ['Buzek Chiropractic Clinic in Leamington', 'Natural health care for all generations.']\n",
            "1:  ['Poquoson Family Medicine & Chiropractic Clinic', 'Modern medicine with a hometown touch.']\n",
            "2:  ['Poquoson Family Medicine & Chiropractic Clinic', 'Modern medicine with a hometown touch.']\n",
            "1:  ['Anderson Chiropractic in Barrie', 'Increase your level of awesomeness.']\n",
            "2:  ['Anderson Chiropractic in Barrie', 'Increase your level of awesomeness.']\n",
            "1:  ['Holdom Chiropractic & Wellness Centre in Burnaby', 'Chiropractic & wellness, hand in hand.']\n",
            "2:  ['Holdom Chiropractic & Wellness Centre in Burnaby', 'Chiropractic & wellness, hand in hand.']\n",
            "1:  ['Inside Out Chiropractic Center in Edmonton', 'Expect a miracle.']\n",
            "2:  ['Inside Out Chiropractic Center in Edmonton', 'Expect a miracle.']\n",
            "1:  ['American Chiropractic Wellness Center in Thousand Oaks', 'Keeping families well adjusted.']\n",
            "2:  ['American Chiropractic Wellness Center in Thousand Oaks', 'Keeping families well adjusted.']\n",
            "1:  ['Streetsville Chiropractic in Mississauga', 'Empowering people to achieve optimal health.']\n",
            "2:  ['Streetsville Chiropractic in Mississauga', 'Empowering people to achieve optimal health.']\n",
            "1:  ['Northallerton Acupuncture Clinic', 'Restoring balance.']\n",
            "2:  ['Northallerton Acupuncture Clinic', 'Restoring balance.']\n",
            "1:  ['First Acupuncture Clinic in Middlesex', \"Restore your body's equilibrium.\"]\n",
            "2:  ['First Acupuncture Clinic in Middlesex', \"Restore your body's equilibrium.\"]\n",
            "1:  ['AAA Acupuncture Clinic of acupuncturist Peirong Hu', 'Take your pain away.']\n",
            "2:  ['AAA Acupuncture Clinic of acupuncturist Peirong Hu', 'Take your pain away.']\n",
            "1:  ['Acupuncture & Chinese Herbal Medicine Clinic in Mississauga', 'Health, life, vitality.']\n",
            "2:  ['Acupuncture & Chinese Herbal Medicine Clinic in Mississauga', 'Health, life, vitality.']\n",
            "1:  ['Acupuncture Face Lift Clinic in Toronto', 'Restore your natural beauty.']\n",
            "2:  ['Acupuncture Face Lift Clinic in Toronto', 'Restore your natural beauty.']\n",
            "1:  ['Golden Needle Acupuncture Clinic in Ajax', 'A natural way to health.']\n",
            "2:  ['Golden Needle Acupuncture Clinic in Ajax', 'A natural way to health.']\n",
            "1:  ['Chinese Acupuncture Clinic in Plymouth', 'A natural way to maintain your health.']\n",
            "2:  ['Chinese Acupuncture Clinic in Plymouth', 'A natural way to maintain your health.']\n",
            "1:  ['Harvest Hills Acupuncture & Massage Clinic in Calgary', 'A green medical care.']\n",
            "2:  ['Harvest Hills Acupuncture & Massage Clinic in Calgary', 'A green medical care.']\n",
            "1:  ['Ethos Acupuncture Clinic in New Delhi', 'The world of good health.']\n",
            "2:  ['Ethos Acupuncture Clinic in New Delhi', 'The world of good health.']\n",
            "1:  ['Avery Yackel, acupuncturist and oriental medicine practitioner', 'Life in harmony.']\n",
            "2:  ['Avery Yackel, acupuncturist and oriental medicine practitioner', 'Life in harmony.']\n",
            "1:  ['Glendale Clinic', 'Better health naturally.']\n",
            "2:  ['Glendale Clinic', 'Better health naturally.']\n",
            "1:  ['Glendale Clinic', 'A healing art.']\n",
            "2:  ['Glendale Clinic', 'A healing art.']\n",
            "1:  ['The Acupuncture Center of Richmond', 'Ageless wisdom for natural healing.']\n",
            "2:  ['The Acupuncture Center of Richmond', 'Ageless wisdom for natural healing.']\n",
            "1:  ['Maine Center for Acupuncture', 'Where healing + relaxation happen.']\n",
            "2:  ['Maine Center for Acupuncture', 'Where healing + relaxation happen.']\n",
            "1:  ['Southcentre Chinese Acupuncture in Calgary', 'Your health in good hands.']\n",
            "2:  ['Southcentre Chinese Acupuncture in Calgary', 'Your health in good hands.']\n",
            "1:  ['The National Certification Commission for Acupuncture and Oriental Medicine, USA', 'Public protection through quality credentials.']\n",
            "2:  ['The National Certification Commission for Acupuncture and Oriental Medicine, USA', 'Public protection through quality credentials.']\n",
            "1:  [\"Kokubo's Acupuncture Clinic in Toronto\", 'Healing by skilled hands & a caring heart.']\n",
            "2:  [\"Kokubo's Acupuncture Clinic in Toronto\", 'Healing by skilled hands & a caring heart.']\n",
            "1:  ['Morningside Clinic in Dallas', 'Resonance, harmony, balance.']\n",
            "2:  ['Morningside Clinic in Dallas', 'Resonance, harmony, balance.']\n",
            "1:  ['Healing Acupuncture Clinic in Marshalltown', 'Return to health.']\n",
            "2:  ['Healing Acupuncture Clinic in Marshalltown', 'Return to health.']\n",
            "1:  ['Grace Acupuncture Clinic in Kingwood', 'There is nothing to compare with your health.']\n",
            "2:  ['Grace Acupuncture Clinic in Kingwood', 'There is nothing to compare with your health.']\n",
            "1:  ['Three Wells Acupuncture Clinic in Morris', 'Revive. Restore. Renew.']\n",
            "2:  ['Three Wells Acupuncture Clinic in Morris', 'Revive. Restore. Renew.']\n",
            "1:  ['Lin Acupuncture & Herbal Clinic in Walnut', 'Prevention is the best cure!']\n",
            "2:  ['Lin Acupuncture & Herbal Clinic in Walnut', 'Prevention is the best cure!']\n",
            "1:  ['Jeffres Acupuncture Center in New York', 'Where ancient knowledge meets modern healing.']\n",
            "2:  ['Jeffres Acupuncture Center in New York', 'Where ancient knowledge meets modern healing.']\n",
            "1:  ['Acupuncture center of Baltimore', 'Ancient wisdom for modern wellness.']\n",
            "2:  ['Acupuncture center of Baltimore', 'Ancient wisdom for modern wellness.']\n",
            "1:  ['Acupuncturist Greg Teston in Baxley', 'Restoring a healthy energy balance through acupuncture.']\n",
            "2:  ['Acupuncturist Greg Teston in Baxley', 'Restoring a healthy energy balance through acupuncture.']\n",
            "1:  ['Wang Acupuncture Clinic in Jacksonville', 'Dedicated to measurable success.']\n",
            "2:  ['Wang Acupuncture Clinic in Jacksonville', 'Dedicated to measurable success.']\n",
            "1:  ['Moore Acupuncture Clinic in Hartsville', 'Dedicated to an alternative approach to better health.']\n",
            "2:  ['Moore Acupuncture Clinic in Hartsville', 'Dedicated to an alternative approach to better health.']\n",
            "1:  ['Maryland Acupuncture Clinic of acupuncturist John Howard', 'Combining ancient wisdom with modern technology.']\n",
            "2:  ['Maryland Acupuncture Clinic of acupuncturist John Howard', 'Combining ancient wisdom with modern technology.']\n",
            "1:  ['Lixin Acupuncture Clinics in Denver', 'A place for healing.']\n",
            "2:  ['Lixin Acupuncture Clinics in Denver', 'A place for healing.']\n",
            "1:  ['Clinton Chiropractic in Alameda', 'Where pain relief comes naturally.']\n",
            "2:  ['Clinton Chiropractic in Alameda', 'Where pain relief comes naturally.']\n",
            "1:  ['Mission Bay Chiropractic in San Francisco', 'Achieving better health naturally.']\n",
            "2:  ['Mission Bay Chiropractic in San Francisco', 'Achieving better health naturally.']\n",
            "1:  ['Orinda Chiropractic & Laser Center', 'Supporting your body from the ground up.']\n",
            "2:  ['Orinda Chiropractic & Laser Center', 'Supporting your body from the ground up.']\n",
            "1:  ['Chiropractic Center of Norwich in Connecticut', 'The doctor you choose does make a difference.']\n",
            "2:  ['Chiropractic Center of Norwich in Connecticut', 'The doctor you choose does make a difference.']\n",
            "1:  ['Brewer Chiropractic Clinic in Arlington', 'The road to wellness.']\n",
            "2:  ['Brewer Chiropractic Clinic in Arlington', 'The road to wellness.']\n",
            "1:  ['The Chiropractic Center in Ehid, Oklahoma', 'Living well starts here.']\n",
            "2:  ['The Chiropractic Center in Ehid, Oklahoma', 'Living well starts here.']\n",
            "1:  ['The Chiropractic Center in Ehid, Oklahoma', 'Above and beyond.']\n",
            "2:  ['The Chiropractic Center in Ehid, Oklahoma', 'Above and beyond.']\n",
            "1:  ['Community Chiropractic Centers of Shorewood', 'Dedicated to wellness.']\n",
            "2:  ['Community Chiropractic Centers of Shorewood', 'Dedicated to wellness.']\n",
            "1:  ['Allied Health Chiropractic Centers in USA', 'Excellence in chiropractic care.']\n",
            "2:  ['Allied Health Chiropractic Centers in USA', 'Excellence in chiropractic care.']\n",
            "1:  ['Elmenhurst Chiropractic Clinic in Walla Walla', 'Gentle care for the whole family.']\n",
            "2:  ['Elmenhurst Chiropractic Clinic in Walla Walla', 'Gentle care for the whole family.']\n",
            "1:  ['A Family Chiropractic Clinic in Denton, Texas', 'Achieve a higher quality of life.']\n",
            "2:  ['A Family Chiropractic Clinic in Denton, Texas', 'Achieve a higher quality of life.']\n",
            "1:  ['Anders Victoria Family Chiropractic in Red Deer, Canada', 'Live life comfortably.']\n",
            "2:  ['Anders Victoria Family Chiropractic in Red Deer, Canada', 'Live life comfortably.']\n",
            "1:  ['Anders Victoria Family Chiropractic in Red Deer, Canada', 'Are you in pain? We can help!']\n",
            "2:  ['Anders Victoria Family Chiropractic in Red Deer, Canada', 'Are you in pain? We can help!']\n",
            "1:  ['Advance Chiropractic Clinic in Rochester, Minnesota', 'Activate your health.']\n",
            "2:  ['Advance Chiropractic Clinic in Rochester, Minnesota', 'Activate your health.']\n",
            "1:  ['Back To Care Chiropractic in Orange, California', 'We add years to life and life to years.']\n",
            "2:  ['Back To Care Chiropractic in Orange, California', 'We add years to life and life to years.']\n",
            "1:  [\"America's Chiropractic Center in Indianapolis\", 'Adjust to a pain free and healthy lifestyle.']\n",
            "2:  [\"America's Chiropractic Center in Indianapolis\", 'Adjust to a pain free and healthy lifestyle.']\n",
            "1:  [\"Emperor's Acupuncture Clinic\", 'Rejuvenate your body naturally.']\n",
            "2:  [\"Emperor's Acupuncture Clinic\", 'Rejuvenate your body naturally.']\n",
            "1:  ['Manly Acupuncture Clinic', 'Creating future health from ancient wisdom.']\n",
            "2:  ['Manly Acupuncture Clinic', 'Creating future health from ancient wisdom.']\n",
            "1:  ['The Acupuncture Turning Point, heath center in Edmonton', 'A modern approach to health, integrating East & West.']\n",
            "2:  ['The Acupuncture Turning Point, heath center in Edmonton', 'A modern approach to health, integrating East & West.']\n",
            "1:  ['Lixin Acupuncture Clinics in Denver', 'The key to a healthy and long life.']\n",
            "2:  ['Lixin Acupuncture Clinics in Denver', 'The key to a healthy and long life.']\n",
            "1:  ['Northfield Acupuncture & Alternative Medicine Clinic', 'Where natural healing begins.']\n",
            "2:  ['Northfield Acupuncture & Alternative Medicine Clinic', 'Where natural healing begins.']\n",
            "1:  ['Northfield Acupuncture & Alternative Medicine Clinic', 'The natural choice.']\n",
            "2:  ['Northfield Acupuncture & Alternative Medicine Clinic', 'The natural choice.']\n",
            "1:  ['Acupuncturists Lois Francis & Tim Metford in England', 'For a happier and healthier you.']\n",
            "2:  ['Acupuncturists Lois Francis & Tim Metford in England', 'For a happier and healthier you.']\n",
            "1:  ['The Traditional Acupuncture Centre in Leamington Spa', 'Maintaining body, mind and spirit.']\n",
            "2:  ['The Traditional Acupuncture Centre in Leamington Spa', 'Maintaining body, mind and spirit.']\n",
            "1:  ['Manchester Acupuncture Clinic', 'Mind & body maintenance.']\n",
            "2:  ['Manchester Acupuncture Clinic', 'Mind & body maintenance.']\n",
            "1:  ['Isthmus Acupuncture Center in Madison', 'Holistic health care for wellness.']\n",
            "2:  ['Isthmus Acupuncture Center in Madison', 'Holistic health care for wellness.']\n",
            "1:  ['Ventura Acupuncture Clinic', 'Comprehensive holistic healthcare.']\n",
            "2:  ['Ventura Acupuncture Clinic', 'Comprehensive holistic healthcare.']\n",
            "1:  ['Affordable Acupuncture in Miami', 'Healthcare for everyone.']\n",
            "2:  ['Affordable Acupuncture in Miami', 'Healthcare for everyone.']\n",
            "1:  ['Sports Edge Acupuncture Clinic in Herndon', 'Your natural, safe, effective & drug free alternative.']\n",
            "2:  ['Sports Edge Acupuncture Clinic in Herndon', 'Your natural, safe, effective & drug free alternative.']\n",
            "1:  ['Roanoke Community Acupuncture', 'Affordable, accessible, available acupuncture for everyone.']\n",
            "2:  ['Roanoke Community Acupuncture', 'Affordable, accessible, available acupuncture for everyone.']\n",
            "1:  ['Ramsey Family Chiropractic Center in Cleveland', 'Our goal is to help you achieve yours.']\n",
            "2:  ['Ramsey Family Chiropractic Center in Cleveland', 'Our goal is to help you achieve yours.']\n",
            "1:  ['Active Therapeutic Solutions in Guelph', 'Live life. Be active.']\n",
            "2:  ['Active Therapeutic Solutions in Guelph', 'Live life. Be active.']\n",
            "1:  ['Schlee Chiropractic in Albany, California', 'Inner peace leads to world peace!']\n",
            "2:  ['Schlee Chiropractic in Albany, California', 'Inner peace leads to world peace!']\n",
            "1:  ['Anderson Chiropractic Center in Holly Springs', 'Optimal health and wellness through chiropractic care.']\n",
            "2:  ['Anderson Chiropractic Center in Holly Springs', 'Optimal health and wellness through chiropractic care.']\n",
            "1:  ['The Chiropractic Center of Dr. Jake in Santa Rosa, United States', 'Align yourself with health.']\n",
            "2:  ['The Chiropractic Center of Dr. Jake in Santa Rosa, United States', 'Align yourself with health.']\n",
            "1:  ['Stucky Chiropractic Center in Eau Claire', 'Your health is our mission.']\n",
            "2:  ['Stucky Chiropractic Center in Eau Claire', 'Your health is our mission.']\n",
            "1:  ['Sims Chiropractic Center in Hyattsville', 'We have your back.']\n",
            "2:  ['Sims Chiropractic Center in Hyattsville', 'We have your back.']\n",
            "1:  ['Hoffman Chiropractic & Wellness Centre in Red Deer', 'Technology. People. Results.']\n",
            "2:  ['Hoffman Chiropractic & Wellness Centre in Red Deer', 'Technology. People. Results.']\n",
            "1:  ['Aspinwall Chiropractic Clinic, specializing in sports injury, back and neck pain', 'A tradition of providing effective pain relief.']\n",
            "2:  ['Aspinwall Chiropractic Clinic, specializing in sports injury, back and neck pain', 'A tradition of providing effective pain relief.']\n",
            "1:  ['Comprehensive Health & Chiropractic Centre in San Marcos', 'Treating the cause, rather than chasing the symptoms!']\n",
            "2:  ['Comprehensive Health & Chiropractic Centre in San Marcos', 'Treating the cause, rather than chasing the symptoms!']\n",
            "1:  ['Barriefield Family Chiropractic Centre in Kingston', 'It is not the years in your life, it is the life in your years!']\n",
            "2:  ['Barriefield Family Chiropractic Centre in Kingston', 'It is not the years in your life, it is the life in your years!']\n",
            "1:  ['Baxters canned soups', 'Baxters. The family of fine foods.']\n",
            "2:  ['Baxters canned soups', 'Baxters. The family of fine foods.']\n",
            "1:  ['Baxters canned soups', \"When nature's done her job we begin ours.\"]\n",
            "2:  ['Baxters canned soups', \"When nature's done her job we begin ours.\"]\n",
            "1:  ['Baxters Healthy Choice soup', 'Inspired by nature. Created by Baxters.']\n",
            "2:  ['Baxters Healthy Choice soup', 'Inspired by nature. Created by Baxters.']\n",
            "1:  ['Heinz soups', 'It has to be Heinz.']\n",
            "2:  ['Heinz soups', 'It has to be Heinz.']\n",
            "1:  ['Heinz soups', 'Better make some room.']\n",
            "2:  ['Heinz soups', 'Better make some room.']\n",
            "1:  ['Heinz soups', 'Look forward to winter.']\n",
            "2:  ['Heinz soups', 'Look forward to winter.']\n",
            "1:  ['Heinz soups', 'Not your everyday soup.']\n",
            "2:  ['Heinz soups', 'Not your everyday soup.']\n",
            "1:  ['Heinz soups', \"There's a little bit of Heinz in all of us.\"]\n",
            "2:  ['Heinz soups', \"There's a little bit of Heinz in all of us.\"]\n",
            "1:  ['Heinz Big Soup', 'Go Big or go hungry.']\n",
            "2:  ['Heinz Big Soup', 'Go Big or go hungry.']\n",
            "1:  ['Heinz Big Soup', \"It's big, chunky & tasty!\"]\n",
            "2:  ['Heinz Big Soup', \"It's big, chunky & tasty!\"]\n",
            "1:  ['Heinz Big Soup', 'Soups you can really get your teeth into.']\n",
            "2:  ['Heinz Big Soup', 'Soups you can really get your teeth into.']\n",
            "1:  [\"Heinz Farmers' Market soup\", 'Taste the countryside.']\n",
            "2:  [\"Heinz Farmers' Market soup\", 'Taste the countryside.']\n",
            "1:  ['Heinz Cup Soup', 'Real soup on the go.']\n",
            "2:  ['Heinz Cup Soup', 'Real soup on the go.']\n",
            "1:  ['Heinz Real Soup', 'Take a break from fake.']\n",
            "2:  ['Heinz Real Soup', 'Take a break from fake.']\n",
            "1:  ['Lipton Cup-a-Soup, instant soups', 'Beat the 3pm slump.']\n",
            "2:  ['Lipton Cup-a-Soup, instant soups', 'Beat the 3pm slump.']\n",
            "1:  ['Lipton Cup-a-Soup, instant soups', \"It's America's right-now soup!\"]\n",
            "2:  ['Lipton Cup-a-Soup, instant soups', \"It's America's right-now soup!\"]\n",
            "1:  ['Lipton Cup-a-Soup, instant soups', 'You never had soup so good so fast.']\n",
            "2:  ['Lipton Cup-a-Soup, instant soups', 'You never had soup so good so fast.']\n",
            "1:  ['Lipton Chicken Noodle soup', \"The taste that beat Campbell's 2 to 1.\"]\n",
            "2:  ['Lipton Chicken Noodle soup', \"The taste that beat Campbell's 2 to 1.\"]\n",
            "1:  ['Tabatchnick frozen soups', 'A soup for every taste and every season.']\n",
            "2:  ['Tabatchnick frozen soups', 'A soup for every taste and every season.']\n",
            "1:  ['New Covent Garden soup', 'The seasons make our soups.']\n",
            "2:  ['New Covent Garden soup', 'The seasons make our soups.']\n",
            "1:  ['New Covent Garden soup', 'Fresh from our kitchen to yours.']\n",
            "2:  ['New Covent Garden soup', 'Fresh from our kitchen to yours.']\n",
            "1:  ['Batchelors Cup a Soup, instant soups', 'No artificial colours or preservatives.']\n",
            "2:  ['Batchelors Cup a Soup, instant soups', 'No artificial colours or preservatives.']\n",
            "1:  ['Batchelors Cup a Soup, instant soups', \"It's a great big hug in a mug.\"]\n",
            "2:  ['Batchelors Cup a Soup, instant soups', \"It's a great big hug in a mug.\"]\n",
            "1:  ['Batchelors Cup a Soup, instant soups', 'Keep your tummy quiet with a Batchelors Cup a Soup.']\n",
            "2:  ['Batchelors Cup a Soup, instant soups', 'Keep your tummy quiet with a Batchelors Cup a Soup.']\n",
            "1:  ['Batchelors soup', 'One of the better things about the British winter.']\n",
            "2:  ['Batchelors soup', 'One of the better things about the British winter.']\n",
            "1:  ['Yorkshire Provender soups', 'Delicious every day.']\n",
            "2:  ['Yorkshire Provender soups', 'Delicious every day.']\n",
            "1:  ['Frontier Soups, dry soup mixes', \"Soup so good... you'll call it dinner!\"]\n",
            "2:  ['Frontier Soups, dry soup mixes', \"Soup so good... you'll call it dinner!\"]\n",
            "1:  ['Dole Garden Soup', 'Simply delicious.']\n",
            "2:  ['Dole Garden Soup', 'Simply delicious.']\n",
            "1:  ['Avonmore fresh soup', 'Avonmore. The taste of homemade.']\n",
            "2:  ['Avonmore fresh soup', 'Avonmore. The taste of homemade.']\n",
            "1:  ['Avonmore fresh soup', 'Homemade without the hassle.']\n",
            "2:  ['Avonmore fresh soup', 'Homemade without the hassle.']\n",
            "1:  ['Avonmore fresh soup', 'Homemade without the hard labour.']\n",
            "2:  ['Avonmore fresh soup', 'Homemade without the hard labour.']\n",
            "1:  ['Crosse & Blackwell soup', 'From all across Britain.']\n",
            "2:  ['Crosse & Blackwell soup', 'From all across Britain.']\n",
            "1:  ['Crosse & Blackwell soup', 'Better soups by experience.']\n",
            "2:  ['Crosse & Blackwell soup', 'Better soups by experience.']\n",
            "1:  ['Soup Starter, homemade soup mix', 'Soup from the heart, not from a can.']\n",
            "2:  ['Soup Starter, homemade soup mix', 'Soup from the heart, not from a can.']\n",
            "1:  ['Soup Starter, homemade soup mix', 'Cook smarter with Soup Starter.']\n",
            "2:  ['Soup Starter, homemade soup mix', 'Cook smarter with Soup Starter.']\n",
            "1:  ['Erin soup brand', 'Erin. Soup that stirs your soul.']\n",
            "2:  ['Erin soup brand', 'Erin. Soup that stirs your soul.']\n",
            "1:  ['Lady Borden ice cream', \"Extra good because it's made with extra cream!\"]\n",
            "2:  ['Lady Borden ice cream', \"Extra good because it's made with extra cream!\"]\n",
            "1:  ['Lady Borden ice cream', 'Fit for a golden spoon.']\n",
            "2:  ['Lady Borden ice cream', 'Fit for a golden spoon.']\n",
            "1:  ['Amul ice cream in India', 'Amul. Real milk. Real ice cream.']\n",
            "2:  ['Amul ice cream in India', 'Amul. Real milk. Real ice cream.']\n",
            "1:  ['Ideal ice cream in India', 'Life tastes so good! Lap it up!']\n",
            "2:  ['Ideal ice cream in India', 'Life tastes so good! Lap it up!']\n",
            "1:  ['Vadilal, Indian ice cream brand', 'Vadilal. Nothing but goodness.']\n",
            "2:  ['Vadilal, Indian ice cream brand', 'Vadilal. Nothing but goodness.']\n",
            "1:  ['Vadilal, Indian ice cream brand', 'The ice cream experts.']\n",
            "2:  ['Vadilal, Indian ice cream brand', 'The ice cream experts.']\n",
            "1:  ['Vadilal Flingo ice cream', 'A surprise in every bite.']\n",
            "2:  ['Vadilal Flingo ice cream', 'A surprise in every bite.']\n",
            "1:  ['Weis, ice cream brand in Australia', \"The taste on everyone's lips.\"]\n",
            "2:  ['Weis, ice cream brand in Australia', \"The taste on everyone's lips.\"]\n",
            "1:  ['Weis, ice cream brand in Australia', 'Weis Raspberry Bar. Berry yourself.']\n",
            "2:  ['Weis, ice cream brand in Australia', 'Weis Raspberry Bar. Berry yourself.']\n",
            "1:  ['Peters Entice ice cream tub', \"Clearly it's going to Entice.\"]\n",
            "2:  ['Peters Entice ice cream tub', \"Clearly it's going to Entice.\"]\n",
            "1:  ['Peters Drumstick ice cream cones, Australia', 'Music to your mouth.']\n",
            "2:  ['Peters Drumstick ice cream cones, Australia', 'Music to your mouth.']\n",
            "1:  ['Peters Drumstick ice cream cones, Australia', 'Grab a summer classic.']\n",
            "2:  ['Peters Drumstick ice cream cones, Australia', 'Grab a summer classic.']\n",
            "1:  ['Tip Top ice cream brand, New Zealand', 'Make someone you know. Feel Tip Top.']\n",
            "2:  ['Tip Top ice cream brand, New Zealand', 'Make someone you know. Feel Tip Top.']\n",
            "1:  ['Tip Top ice cream brand, New Zealand', 'Tip Top. Real ice creamier.']\n",
            "2:  ['Tip Top ice cream brand, New Zealand', 'Tip Top. Real ice creamier.']\n",
            "1:  ['Tip Top Coola, ice cream bar', 'The coolest bar by far.']\n",
            "2:  ['Tip Top Coola, ice cream bar', 'The coolest bar by far.']\n",
            "1:  ['Tip Top Choc Bar', 'Things get ugly without a Choc Bar.']\n",
            "2:  ['Tip Top Choc Bar', 'Things get ugly without a Choc Bar.']\n",
            "1:  ['Tip Top Trumpet, ice cream cones', 'Trumpet. Simplifying summer.']\n",
            "2:  ['Tip Top Trumpet, ice cream cones', 'Trumpet. Simplifying summer.']\n",
            "1:  ['Tip Top Trumpet, ice cream cones', \"You can't beat a Trumpet.\"]\n",
            "2:  ['Tip Top Trumpet, ice cream cones', \"You can't beat a Trumpet.\"]\n",
            "1:  ['Tip Top Rocky Road', 'Some people like things a bit rocky.']\n",
            "2:  ['Tip Top Rocky Road', 'Some people like things a bit rocky.']\n",
            "1:  ['Moritz ice cream', \"You don't know to expect next.\"]\n",
            "2:  ['Moritz ice cream', \"You don't know to expect next.\"]\n",
            "1:  ['Moritz ice cream', 'Make time to indulge.']\n",
            "2:  ['Moritz ice cream', 'Make time to indulge.']\n",
            "1:  ['Orchard Fresh, natural ice creams and kulfis', 'Did you have an ice cream today?']\n",
            "2:  ['Orchard Fresh, natural ice creams and kulfis', 'Did you have an ice cream today?']\n",
            "1:  [\"Wall's ice cream\", 'Share happy.']\n",
            "2:  [\"Wall's ice cream\", 'Share happy.']\n",
            "1:  [\"Wall's ice cream\", 'Stop me and buy one.']\n",
            "2:  [\"Wall's ice cream\", 'Stop me and buy one.']\n",
            "1:  ['Solero ice cream', \"The cool effect you don't expect.\"]\n",
            "2:  ['Solero ice cream', \"The cool effect you don't expect.\"]\n",
            "1:  [\"Wall's Viennetta, ice cream desserts\", 'One slice is never enough.']\n",
            "2:  [\"Wall's Viennetta, ice cream desserts\", 'One slice is never enough.']\n",
            "1:  [\"Wall's Viennetta, ice cream desserts\", 'An unforgettable experience.']\n",
            "2:  [\"Wall's Viennetta, ice cream desserts\", 'An unforgettable experience.']\n",
            "1:  ['Nestle Drumstick ice cream cones', 'You liked us. We love you!']\n",
            "2:  ['Nestle Drumstick ice cream cones', 'You liked us. We love you!']\n",
            "1:  ['Nestle Maxibon ice cream sandwich', 'For those who like to bite off more than they can chew.']\n",
            "2:  ['Nestle Maxibon ice cream sandwich', 'For those who like to bite off more than they can chew.']\n",
            "1:  [\"Mackie's of Scotland ice cream\", 'Creamy by nature!']\n",
            "2:  [\"Mackie's of Scotland ice cream\", 'Creamy by nature!']\n",
            "1:  [\"Mackie's of Scotland ice cream\", 'Ice cream made the way it should be.']\n",
            "2:  [\"Mackie's of Scotland ice cream\", 'Ice cream made the way it should be.']\n",
            "1:  [\"Kelly's of Cornwall ice cream\", 'Cornish by nature.']\n",
            "2:  [\"Kelly's of Cornwall ice cream\", 'Cornish by nature.']\n",
            "1:  [\"Kelly's of Cornwall ice cream\", 'Simple pleasure.']\n",
            "2:  [\"Kelly's of Cornwall ice cream\", 'Simple pleasure.']\n",
            "1:  ['Haagen Dazs Gelato desserts', 'Even the names taste good.']\n",
            "2:  ['Haagen Dazs Gelato desserts', 'Even the names taste good.']\n",
            "1:  ['Cadbury Dairy Milk ice cream', '#FreezeTheJoy.']\n",
            "2:  ['Cadbury Dairy Milk ice cream', '#FreezeTheJoy.']\n",
            "1:  ['Cadbury ice cream', 'The essential ice cream experience.']\n",
            "2:  ['Cadbury ice cream', 'The essential ice cream experience.']\n",
            "1:  ['Cadbury ice cream', 'How cool is that?']\n",
            "2:  ['Cadbury ice cream', 'How cool is that?']\n",
            "1:  ['Dairy Day ice cream', 'Celebrate the moment.']\n",
            "2:  ['Dairy Day ice cream', 'Celebrate the moment.']\n",
            "1:  [\"Lovin' Scoopful gourmet light ice cream\", 'It loves you as much as you love it.']\n",
            "2:  [\"Lovin' Scoopful gourmet light ice cream\", 'It loves you as much as you love it.']\n",
            "1:  ['Nobo, brand of dairy-free ice cream in Ireland', 'Nobo. Treat yourself. Better.']\n",
            "2:  ['Nobo, brand of dairy-free ice cream in Ireland', 'Nobo. Treat yourself. Better.']\n",
            "1:  ['Corrin Hill ice cream, Ireland', 'Ice cream has never tasted better.']\n",
            "2:  ['Corrin Hill ice cream, Ireland', 'Ice cream has never tasted better.']\n",
            "1:  [\"Franco's Ices, brand of ice cream and ice lolly\", 'Ice cream products that take some lickin.']\n",
            "2:  [\"Franco's Ices, brand of ice cream and ice lolly\", 'Ice cream products that take some lickin.']\n",
            "1:  ['Galaxy ice cream', 'Think chocolate, think chilled, think Galaxy ice cream.']\n",
            "2:  ['Galaxy ice cream', 'Think chocolate, think chilled, think Galaxy ice cream.']\n",
            "1:  ['HB ice cream brand in Ireland', \"One of life's simple pleasures.\"]\n",
            "2:  ['HB ice cream brand in Ireland', \"One of life's simple pleasures.\"]\n",
            "1:  ['HB ice cream brand in Ireland', \"HB. Two letters spell Ireland's favourite ice cream.\"]\n",
            "2:  ['HB ice cream brand in Ireland', \"HB. Two letters spell Ireland's favourite ice cream.\"]\n",
            "1:  ['HB Hazelbrook Farm ice cream in Ireland', 'Making the most of milk.']\n",
            "2:  ['HB Hazelbrook Farm ice cream in Ireland', 'Making the most of milk.']\n",
            "1:  ['Stella Ice Cream, manufacturer of ice cream, ice lolly and frozen desserts', \"The name on everyone's lips.\"]\n",
            "2:  ['Stella Ice Cream, manufacturer of ice cream, ice lolly and frozen desserts', \"The name on everyone's lips.\"]\n",
            "1:  ['Stella Ice Cream, manufacturer of ice cream, ice lolly and frozen desserts', 'The up & coming name in ice cream.']\n",
            "2:  ['Stella Ice Cream, manufacturer of ice cream, ice lolly and frozen desserts', 'The up & coming name in ice cream.']\n",
            "1:  ['Loseley dairy ice cream', 'Loseley. Traditionally extraordinary.']\n",
            "2:  ['Loseley dairy ice cream', 'Loseley. Traditionally extraordinary.']\n",
            "1:  ['ACC, Cement', 'Cementing Relationship']\n",
            "2:  ['ACC, Cement', 'Cementing Relationship']\n",
            "1:  ['ACC, Cement', 'Suraksha Power']\n",
            "2:  ['ACC, Cement', 'Suraksha Power']\n",
            "1:  ['ACC, Cement', 'Xtra Strong']\n",
            "2:  ['ACC, Cement', 'Xtra Strong']\n",
            "1:  ['Adani Group, Organization', 'Thinking Big. Doing Better']\n",
            "2:  ['Adani Group, Organization', 'Thinking Big. Doing Better']\n",
            "1:  ['Aditya BirlaGroup Organization', 'My World, My Way-Living']\n",
            "2:  ['Aditya BirlaGroup Organization', 'My World, My Way-Living']\n",
            "1:  ['Aditya Birla Group Organization', 'Taking India To The World']\n",
            "2:  ['Aditya Birla Group Organization', 'Taking India To The World']\n",
            "1:  ['Aquafina, water purifier', 'Make Your Body Happy']\n",
            "2:  ['Aquafina, water purifier', 'Make Your Body Happy']\n",
            "1:  ['Aquafina, water purifier', 'Pure Enjoyment']\n",
            "2:  ['Aquafina, water purifier', 'Pure Enjoyment']\n",
            "1:  ['Aquafina, water purifier', 'Pure Water That Tastes Good']\n",
            "2:  ['Aquafina, water purifier', 'Pure Water That Tastes Good']\n",
            "1:  ['Aquafina, water purifier', 'Purity Guaranteed']\n",
            "2:  ['Aquafina, water purifier', 'Purity Guaranteed']\n",
            "1:  ['Aquafina, water purifier', 'The Purest Part Of You']\n",
            "2:  ['Aquafina, water purifier', 'The Purest Part Of You']\n",
            "1:  ['Accenture, IT, Multi National Company, MNC, Information Technology', 'High Performance Delivered']\n",
            "2:  ['Accenture, IT, Multi National Company, MNC, Information Technology', 'High Performance Delivered']\n",
            "1:  ['Air Deccan, Airline', 'Simplifly']\n",
            "2:  ['Air Deccan, Airline', 'Simplifly']\n",
            "1:  ['Air India, Airline', 'Truly Indian']\n",
            "2:  ['Air India, Airline', 'Truly Indian']\n",
            "1:  ['Air India, Airline', 'Unbeatable Service']\n",
            "2:  ['Air India, Airline', 'Unbeatable Service']\n",
            "1:  ['Air India, Airline', 'We Raise Our Hands Only To Say Namaste']\n",
            "2:  ['Air India, Airline', 'We Raise Our Hands Only To Say Namaste']\n",
            "1:  ['Air India, Airline', 'Your Palace In The Sky']\n",
            "2:  ['Air India, Airline', 'Your Palace In The Sky']\n",
            "1:  ['Airtel, Telecom', 'Express Yourself']\n",
            "2:  ['Airtel, Telecom', 'Express Yourself']\n",
            "1:  ['Airtel, Telecom', 'Live Every Moment']\n",
            "2:  ['Airtel, Telecom', 'Live Every Moment']\n",
            "1:  ['Airtel, Telecom', 'Power To keep In Touch']\n",
            "2:  ['Airtel, Telecom', 'Power To keep In Touch']\n",
            "1:  ['Airtel, Telecom', 'Touch Tomorrow']\n",
            "2:  ['Airtel, Telecom', 'Touch Tomorrow']\n",
            "1:  ['Amartex, Family Mart', 'Truthful, Transparent, & Teamwork']\n",
            "2:  ['Amartex, Family Mart', 'Truthful, Transparent, & Teamwork']\n",
            "1:  ['Amazon India, online shopping', 'And You are Done']\n",
            "2:  ['Amazon India, online shopping', 'And You are Done']\n",
            "1:  ['Amazon India, online shopping', 'Work Hard. Have Fun. Make History']\n",
            "2:  ['Amazon India, online shopping', 'Work Hard. Have Fun. Make History']\n",
            "1:  ['Ambrane, Powerbank', 'Be Party Ready Always']\n",
            "2:  ['Ambrane, Powerbank', 'Be Party Ready Always']\n",
            "1:  ['Ambrane, Powerbank', 'Technology In Your Life']\n",
            "2:  ['Ambrane, Powerbank', 'Technology In Your Life']\n",
            "1:  ['Ambrane, Powerbank', 'Party With The Beats']\n",
            "2:  ['Ambrane, Powerbank', 'Party With The Beats']\n",
            "1:  ['Ambuja, Cements', 'Giant Compressive Strength']\n",
            "2:  ['Ambuja, Cements', 'Giant Compressive Strength']\n",
            "1:  ['Ambuja, Cements', 'Strength for the Decor']\n",
            "2:  ['Ambuja, Cements', 'Strength for the Decor']\n",
            "1:  ['Amul, Milk Products', 'The Taste Of India']\n",
            "2:  ['Amul, Milk Products', 'The Taste Of India']\n",
            "1:  ['Amul, Milk Products', 'Utterly, Butterly, Delicious']\n",
            "2:  ['Amul, Milk Products', 'Utterly, Butterly, Delicious']\n",
            "1:  ['Amway, health and wellness', 'We Are Listening']\n",
            "2:  ['Amway, health and wellness', 'We Are Listening']\n",
            "1:  ['Apollo, Tyres', 'Go To The Distance']\n",
            "2:  ['Apollo, Tyres', 'Go To The Distance']\n",
            "1:  ['Aptech, Computer Education', 'Unleash Your Potential']\n",
            "2:  ['Aptech, Computer Education', 'Unleash Your Potential']\n",
            "1:  ['Ariel, Detergent', 'Your Laundry Will Thank You']\n",
            "2:  ['Ariel, Detergent', 'Your Laundry Will Thank You']\n",
            "1:  ['Arvind, Textile', 'Fashioning Possibilities']\n",
            "2:  ['Arvind, Textile', 'Fashioning Possibilities']\n",
            "1:  ['Arvind, Textile', 'Wear The Future']\n",
            "2:  ['Arvind, Textile', 'Wear The Future']\n",
            "1:  ['Asian, Paints', 'Har Ghar Kucch Kehta Hai']\n",
            "2:  ['Asian, Paints', 'Har Ghar Kucch Kehta Hai']\n",
            "1:  ['Asian, Paints', 'Mera Wala']\n",
            "2:  ['Asian, Paints', 'Mera Wala']\n",
            "1:  ['AskMe.com, information', 'The Baap of All Apps']\n",
            "2:  ['AskMe.com, information', 'The Baap of All Apps']\n",
            "1:  ['Ashok Leyland, Automotive', 'Engineering Your Tomorrows']\n",
            "2:  ['Ashok Leyland, Automotive', 'Engineering Your Tomorrows']\n",
            "1:  ['Avon, beauty products', 'Beauty For A Purpose']\n",
            "2:  ['Avon, beauty products', 'Beauty For A Purpose']\n",
            "1:  ['Avon, beauty products', 'The Company For Women']\n",
            "2:  ['Avon, beauty products', 'The Company For Women']\n",
            "1:  ['Axe, Perfume', 'Even Angels Will Fall']\n",
            "2:  ['Axe, Perfume', 'Even Angels Will Fall']\n",
            "1:  ['Bajaj, Automotive', 'Distinctly Ahead']\n",
            "2:  ['Bajaj, Automotive', 'Distinctly Ahead']\n",
            "1:  ['Bajaj, Automotive', \"The World's Favourite Indian\"]\n",
            "2:  ['Bajaj, Automotive', \"The World's Favourite Indian\"]\n",
            "1:  ['Bajaj Pulsar, MotorCycle', 'Definitely Male']\n",
            "2:  ['Bajaj Pulsar, MotorCycle', 'Definitely Male']\n",
            "1:  ['Bank Of Baroda, Bank', \"India's International Bank\"]\n",
            "2:  ['Bank Of Baroda, Bank', \"India's International Bank\"]\n",
            "1:  ['Bank Of India, Bank', 'Relationship Beyond Banking']\n",
            "2:  ['Bank Of India, Bank', 'Relationship Beyond Banking']\n",
            "1:  ['Bank Of Maharashtra, Bank', 'One Family One Bank']\n",
            "2:  ['Bank Of Maharashtra, Bank', 'One Family One Bank']\n",
            "1:  ['Bata, Footwear', 'Every Child Deserves Bouncers']\n",
            "2:  ['Bata, Footwear', 'Every Child Deserves Bouncers']\n",
            "1:  ['Bata, Footwear', 'Me & Comfortable With It']\n",
            "2:  ['Bata, Footwear', 'Me & Comfortable With It']\n",
            "1:  ['Bata, Footwear', 'Surprisingly Bata']\n",
            "2:  ['Bata, Footwear', 'Surprisingly Bata']\n",
            "1:  ['Bata, Footwear', 'The World At Your Feet']\n",
            "2:  ['Bata, Footwear', 'The World At Your Feet']\n",
            "1:  ['Bata, Footwear', 'Where Life Meets Style']\n",
            "2:  ['Bata, Footwear', 'Where Life Meets Style']\n",
            "1:  ['Berger, Paint', 'Long Life10']\n",
            "2:  ['Berger, Paint', 'Long Life10']\n",
            "1:  ['Berger, Paint', 'Paint Your Imagination']\n",
            "2:  ['Berger, Paint', 'Paint Your Imagination']\n",
            "1:  ['Bewakoof.com', 'A Bewakoof Follows His Heart']\n",
            "2:  ['Bewakoof.com', 'A Bewakoof Follows His Heart']\n",
            "1:  ['Bingo Chips, Food', 'No Confusion Great Combination']\n",
            "2:  ['Bingo Chips, Food', 'No Confusion Great Combination']\n",
            "1:  ['Biocon Biopharmaceuticals', 'The Difference Lies In Our DNA']\n",
            "2:  ['Biocon Biopharmaceuticals', 'The Difference Lies In Our DNA']\n",
            "1:  ['Biotique, Beauty product', 'Advanced Ayurveda']\n",
            "2:  ['Biotique, Beauty product', 'Advanced Ayurveda']\n",
            "1:  ['Biotique, Beauty product, hair', 'Say No To Dandruff, Give Your Tresses That Fresh & Lustrous Shine']\n",
            "2:  ['Biotique, Beauty product, hair', 'Say No To Dandruff, Give Your Tresses That Fresh & Lustrous Shine']\n",
            "1:  [\"Blender's Pride, Whisky\", 'Good Taste Stays With You']\n",
            "2:  [\"Blender's Pride, Whisky\", 'Good Taste Stays With You']\n",
            "1:  ['Bluedart, Logistic', 'It Takes A Leader To Deliver']\n",
            "2:  ['Bluedart, Logistic', 'It Takes A Leader To Deliver']\n",
            "1:  ['Bombay Dyeing, Textile', 'Inspiring Stylish Homes']\n",
            "2:  ['Bombay Dyeing, Textile', 'Inspiring Stylish Homes']\n",
            "1:  ['BookMyShow, Online ticket booking', 'My Show. My Time. My Seat']\n",
            "2:  ['BookMyShow, Online ticket booking', 'My Show. My Time. My Seat']\n",
            "1:  ['Supermarket, supermarket', 'Amazing finds only here!']\n",
            "2:  ['Supermarket, supermarket', 'Amazing finds only here!']\n",
            "1:  ['Supermarket, supermarket', 'Exciting treats available daily.']\n",
            "2:  ['Supermarket, supermarket', 'Exciting treats available daily.']\n",
            "1:  ['Supermarket, supermarket', 'We care your go-to place for good value treats.']\n",
            "2:  ['Supermarket, supermarket', 'We care your go-to place for good value treats.']\n",
            "1:  ['Supermarket, supermarket', 'Make delicious creations. Shop with us!']\n",
            "2:  ['Supermarket, supermarket', 'Make delicious creations. Shop with us!']\n",
            "1:  ['Supermarket, supermarket', 'Kitchen needs solved.']\n",
            "2:  ['Supermarket, supermarket', 'Kitchen needs solved.']\n",
            "1:  ['Barbeque tools, grills and utensils', 'King of the grills']\n",
            "2:  ['Barbeque tools, grills and utensils', 'King of the grills']\n",
            "1:  ['Barbeque tools, grills and utensils', 'Licensed to grill']\n",
            "2:  ['Barbeque tools, grills and utensils', 'Licensed to grill']\n",
            "1:  ['Boost, energy drink', 'BoostIs The Secret Of My Energy']\n",
            "2:  ['Boost, energy drink', 'BoostIs The Secret Of My Energy']\n",
            "1:  ['Boost, energy drink', 'BoostIs The Secret Of Our Energy']\n",
            "2:  ['Boost, energy drink', 'BoostIs The Secret Of Our Energy']\n",
            "1:  ['Britannia, Biscuit', 'Eat Healthy, Think Better']\n",
            "2:  ['Britannia, Biscuit', 'Eat Healthy, Think Better']\n",
            "1:  ['Britannia, Biscuit', 'Have A Good Day']\n",
            "2:  ['Britannia, Biscuit', 'Have A Good Day']\n",
            "1:  ['Bru Coffee, Beverage', 'Happiness Begins With Bru']\n",
            "2:  ['Bru Coffee, Beverage', 'Happiness Begins With Bru']\n",
            "1:  ['BSNL, Telecom', 'Connecting India']\n",
            "2:  ['BSNL, Telecom', 'Connecting India']\n",
            "1:  ['Cafe Coffee Day', 'A Lot Can Happen Over Coffee']\n",
            "2:  ['Cafe Coffee Day', 'A Lot Can Happen Over Coffee']\n",
            "1:  ['Camlin, Stationary', 'Jiyo, Rang Bhar Ke']\n",
            "2:  ['Camlin, Stationary', 'Jiyo, Rang Bhar Ke']\n",
            "1:  ['Camlin, Stationary', \" Let's Have Camlin\"]\n",
            "2:  ['Camlin, Stationary', \" Let's Have Camlin\"]\n",
            "1:  ['Castrol, Oil', \"It's More Than Just Oil\"]\n",
            "2:  ['Castrol, Oil', \"It's More Than Just Oil\"]\n",
            "1:  ['Castrol, Oil', 'Liquid Engineering']\n",
            "2:  ['Castrol, Oil', 'Liquid Engineering']\n",
            "1:  ['CEAT', 'Born Tough']\n",
            "2:  ['CEAT', 'Born Tough']\n",
            "1:  ['Central Bank of India, bank', 'Build A Better Life Around Us']\n",
            "2:  ['Central Bank of India, bank', 'Build A Better Life Around Us']\n",
            "1:  ['Cinthol, Soap', 'Alive Is Awesome']\n",
            "2:  ['Cinthol, Soap', 'Alive Is Awesome']\n",
            "1:  ['Cipla, Pharmaceutical', 'Caring For Life']\n",
            "2:  ['Cipla, Pharmaceutical', 'Caring For Life']\n",
            "1:  ['Cleartrip, Ticket Booking', ' Making Travel Simple']\n",
            "2:  ['Cleartrip, Ticket Booking', ' Making Travel Simple']\n",
            "1:  ['Cleartrip, Ticket Booking', \" What's Happening? Lots Happening\"]\n",
            "2:  ['Cleartrip, Ticket Booking', \" What's Happening? Lots Happening\"]\n",
            "1:  ['Close Up, tooth paste', ' Intense Freshness Intense Closeness']\n",
            "2:  ['Close Up, tooth paste', ' Intense Freshness Intense Closeness']\n",
            "1:  ['Close Up, tooth paste', ' Maclean Your Teeth']\n",
            "2:  ['Close Up, tooth paste', ' Maclean Your Teeth']\n",
            "1:  ['Coca-Cola, drinks', ' Always The Real Thing!']\n",
            "2:  ['Coca-Cola, drinks', ' Always The Real Thing!']\n",
            "1:  ['Coca-Cola, drinks', ' Open Happiness']\n",
            "2:  ['Coca-Cola, drinks', ' Open Happiness']\n",
            "1:  ['Coca-Cola, drinks', ' Say It With Coke']\n",
            "2:  ['Coca-Cola, drinks', ' Say It With Coke']\n",
            "1:  ['Coca-Cola, drinks', ' Taste The Feeling']\n",
            "2:  ['Coca-Cola, drinks', ' Taste The Feeling']\n",
            "1:  ['Colgate, tooth paste', ' A Healthier Mouth Day In, Day Out']\n",
            "2:  ['Colgate, tooth paste', ' A Healthier Mouth Day In, Day Out']\n",
            "1:  ['Colgate, tooth paste', ' Cleans More Than Just Teeth']\n",
            "2:  ['Colgate, tooth paste', ' Cleans More Than Just Teeth']\n",
            "1:  ['Colgate, tooth paste', ' Colgate Helps Stop Cavities Before They Start']\n",
            "2:  ['Colgate, tooth paste', ' Colgate Helps Stop Cavities Before They Start']\n",
            "1:  ['Colgate, tooth paste', ' Everyday Protection For Sensitive Teeth']\n",
            "2:  ['Colgate, tooth paste', ' Everyday Protection For Sensitive Teeth']\n",
            "1:  ['Colgate, tooth paste', ' Fights Germs For 12 Hours']\n",
            "2:  ['Colgate, tooth paste', ' Fights Germs For 12 Hours']\n",
            "1:  ['Colgate, tooth paste', ' It Cleans Your Breath While It Cleans Your Teeth']\n",
            "2:  ['Colgate, tooth paste', ' It Cleans Your Breath While It Cleans Your Teeth']\n",
            "1:  ['Colgate, tooth paste', 'It Stays On The Job-Fighting Cavities']\n",
            "2:  ['Colgate, tooth paste', 'It Stays On The Job-Fighting Cavities']\n",
            "1:  ['Colgate, tooth paste', ' So Clean, You Can Feel It']\n",
            "2:  ['Colgate, tooth paste', ' So Clean, You Can Feel It']\n",
            "1:  ['Colgate, tooth paste', ' Switch On The Power Of Freshness']\n",
            "2:  ['Colgate, tooth paste', ' Switch On The Power Of Freshness']\n",
            "1:  ['Colgate, tooth paste', ' Whole Mouth Health']\n",
            "2:  ['Colgate, tooth paste', ' Whole Mouth Health']\n",
            "1:  ['Color essence, beauty and cosmetics product', 'Color Your Spirit']\n",
            "2:  ['Color essence, beauty and cosmetics product', 'Color Your Spirit']\n",
            "1:  ['Comfort, fabric conditioner', 'Comfort Makes A Good Clothes Day']\n",
            "2:  ['Comfort, fabric conditioner', 'Comfort Makes A Good Clothes Day']\n",
            "1:  ['Complan, health drink', ' For Extra Growing Power']\n",
            "2:  ['Complan, health drink', ' For Extra Growing Power']\n",
            "1:  ['Complan, health drink', ' I AmA ComplanBoy']\n",
            "2:  ['Complan, health drink', ' I AmA ComplanBoy']\n",
            "1:  ['Crompton Greaves, consumer elecrtricals, fans, lights, water heaters, irons, kitchen applainces', ' Everyday Solutions']\n",
            "2:  ['Crompton Greaves, consumer elecrtricals, fans, lights, water heaters, irons, kitchen applainces', ' Everyday Solutions']\n",
            "1:  ['Crompton Greaves, consumer elecrtricals, fans, lights, water heaters, irons, kitchen applainces', \" Let's Hangout at home\"]\n",
            "2:  ['Crompton Greaves, consumer elecrtricals, fans, lights, water heaters, irons, kitchen applainces', \" Let's Hangout at home\"]\n",
            "1:  ['Crompton Greaves, consumer elecrtricals, fans, lights, water heaters, irons, kitchen applainces', ' Perfect Design For All Your Needs']\n",
            "2:  ['Crompton Greaves, consumer elecrtricals, fans, lights, water heaters, irons, kitchen applainces', ' Perfect Design For All Your Needs']\n",
            "1:  ['Crompton Greaves, consumer elecrtricals, fans, lights, water heaters, irons, kitchen applainces', ' Smart Solutions Strong Relationships']\n",
            "2:  ['Crompton Greaves, consumer elecrtricals, fans, lights, water heaters, irons, kitchen applainces', ' Smart Solutions Strong Relationships']\n",
            "1:  ['Cybage, IT, Multi National Company, MNC, Information Technology', 'Delivering Value Scientifically']\n",
            "2:  ['Cybage, IT, Multi National Company, MNC, Information Technology', 'Delivering Value Scientifically']\n",
            "1:  ['Cyient,IT, Multi National Company, MNC, Information Technology', ' Designing Tomorrow Together']\n",
            "2:  ['Cyient,IT, Multi National Company, MNC, Information Technology', ' Designing Tomorrow Together']\n",
            "1:  ['Cyient,IT, Multi National Company, MNC, Information Technology', ' Diversity Matters: One Cyient']\n",
            "2:  ['Cyient,IT, Multi National Company, MNC, Information Technology', ' Diversity Matters: One Cyient']\n",
            "1:  ['Dabur, Ayurveda', ' Celebrate Life']\n",
            "2:  ['Dabur, Ayurveda', ' Celebrate Life']\n",
            "1:  ['Dabur, Ayurveda', ' Science-Based Ayurveda']\n",
            "2:  ['Dabur, Ayurveda', ' Science-Based Ayurveda']\n",
            "1:  ['Dairy Milk, Chocolate', ' Pure Happiness Pure Cadburyness']\n",
            "2:  ['Dairy Milk, Chocolate', ' Pure Happiness Pure Cadburyness']\n",
            "1:  ['Dairy Milk, Chocolate', ' Auspicious start']\n",
            "2:  ['Dairy Milk, Chocolate', ' Auspicious start']\n",
            "1:  ['Dairy Milk, Chocolate', ' Tastes Like This Feels']\n",
            "2:  ['Dairy Milk, Chocolate', ' Tastes Like This Feels']\n",
            "1:  ['Datamatics, IT, Multi National Company, MNC, Information Technology', 'Data To Intelligence']\n",
            "2:  ['Datamatics, IT, Multi National Company, MNC, Information Technology', 'Data To Intelligence']\n",
            "1:  ['Dettol, cleaning product, disinfectant, personal hygeine', 'Be 100% Sure']\n",
            "2:  ['Dettol, cleaning product, disinfectant, personal hygeine', 'Be 100% Sure']\n",
            "1:  ['Dinesh Suitings, apparel, textiles', ' Take the World in Your Stride']\n",
            "2:  ['Dinesh Suitings, apparel, textiles', ' Take the World in Your Stride']\n",
            "1:  ['Dish TV, broadcast satellite service', ' Life Masala Maar Ke']\n",
            "2:  ['Dish TV, broadcast satellite service', ' Life Masala Maar Ke']\n",
            "1:  ['DLF, Real Estate', 'Building India']\n",
            "2:  ['DLF, Real Estate', 'Building India']\n",
            "1:  ['DLFMall, shopping mall', 'India Ka Mall']\n",
            "2:  ['DLFMall, shopping mall', 'India Ka Mall']\n",
            "1:  ['D-Mart, super market', ' Daily Savings Daily Discounts']\n",
            "2:  ['D-Mart, super market', ' Daily Savings Daily Discounts']\n",
            "1:  ['D-Mart, super market', ' Mehnat Hamari Bachat Apki']\n",
            "2:  ['D-Mart, super market', ' Mehnat Hamari Bachat Apki']\n",
            "1:  ['Barbeque tools, grills and utensils', 'The Ultimate Bbq Machine.']\n",
            "2:  ['Barbeque tools, grills and utensils', 'The Ultimate Bbq Machine.']\n",
            "1:  ['Barbeque tools, grills and utensils', 'Bbq - If You Love Bbq.']\n",
            "2:  ['Barbeque tools, grills and utensils', 'Bbq - If You Love Bbq.']\n",
            "1:  ['Barbeque tools, grills and utensils', 'The Best Grill Under One Roof.']\n",
            "2:  ['Barbeque tools, grills and utensils', 'The Best Grill Under One Roof.']\n",
            "1:  ['Barbeque tools, grills and utensils', 'Barbeque, Your Family Will Love You']\n",
            "2:  ['Barbeque tools, grills and utensils', 'Barbeque, Your Family Will Love You']\n",
            "1:  ['Barbeque tools, grills and utensils', 'Absolute Barbeque. Grills With Result']\n",
            "2:  ['Barbeque tools, grills and utensils', 'Absolute Barbeque. Grills With Result']\n",
            "1:  ['Office Furniture, furniture', 'Fill yourofficewith beautifulfurniture.']\n",
            "2:  ['Office Furniture, furniture', 'Fill yourofficewith beautifulfurniture.']\n",
            "1:  ['Office Furniture, furniture', 'The furniture your office deserves.']\n",
            "2:  ['Office Furniture, furniture', 'The furniture your office deserves.']\n",
            "1:  ['Office Furniture, furniture', 'Designs inspired by the new generation with a classic touch.']\n",
            "2:  ['Office Furniture, furniture', 'Designs inspired by the new generation with a classic touch.']\n",
            "1:  ['Office Furniture, furniture', 'Making business people comfortable in their work']\n",
            "2:  ['Office Furniture, furniture', 'Making business people comfortable in their work']\n",
            "1:  ['Dollar Club, Textile, Apparel', 'Fit Hai Boss']\n",
            "2:  ['Dollar Club, Textile, Apparel', 'Fit Hai Boss']\n",
            "1:  ['Dove, soap, beauty product', ' Beauty Bar']\n",
            "2:  ['Dove, soap, beauty product', ' Beauty Bar']\n",
            "1:  ['Dove, soap, beauty product', ' Real beauty From Real Care']\n",
            "2:  ['Dove, soap, beauty product', ' Real beauty From Real Care']\n",
            "1:  ['Dove, soap, beauty product', ' Put Your Best Face Forward WithDove']\n",
            "2:  ['Dove, soap, beauty product', ' Put Your Best Face Forward WithDove']\n",
            "1:  [\"Dr. Reddy's Laboratories, pharmaceutical\", \"Good Health Can't Wait\"]\n",
            "2:  [\"Dr. Reddy's Laboratories, pharmaceutical\", \"Good Health Can't Wait\"]\n",
            "1:  ['eBay, ecommerce, online shopping', 'Buy it. Sell it. Love it']\n",
            "2:  ['eBay, ecommerce, online shopping', 'Buy it. Sell it. Love it']\n",
            "1:  ['Eicher Motors, automobile', ' Go Pro']\n",
            "2:  ['Eicher Motors, automobile', ' Go Pro']\n",
            "1:  ['Eicher Motors, automobile', ' The Future Of Indian Trucking']\n",
            "2:  ['Eicher Motors, automobile', ' The Future Of Indian Trucking']\n",
            "1:  ['Emami, beauty products', ' Making People Healthy & Beautiful Naturally']\n",
            "2:  ['Emami, beauty products', ' Making People Healthy & Beautiful Naturally']\n",
            "1:  ['Emami, beauty products', ' No Jhanjhat']\n",
            "2:  ['Emami, beauty products', ' No Jhanjhat']\n",
            "1:  ['Eureka Forbes, Vaccum Cleaner', 'Your Friend For Life']\n",
            "2:  ['Eureka Forbes, Vaccum Cleaner', 'Your Friend For Life']\n",
            "1:  ['Eureka Forbes, water purifier', 'Your Friend For Life']\n",
            "2:  ['Eureka Forbes, water purifier', 'Your Friend For Life']\n",
            "1:  ['Eveready, battery', 'Give Me Red']\n",
            "2:  ['Eveready, battery', 'Give Me Red']\n",
            "1:  ['Everest Spices, masala', ' Make Every Celebration Royal With Everest']\n",
            "2:  ['Everest Spices, masala', ' Make Every Celebration Royal With Everest']\n",
            "1:  ['Exide, battery', 'Outlives Every Other Battery']\n",
            "2:  ['Exide, battery', 'Outlives Every Other Battery']\n",
            "1:  ['FabIndia, Textile, Apparel', 'Celebrate India']\n",
            "2:  ['FabIndia, Textile, Apparel', 'Celebrate India']\n",
            "1:  ['Fair andLovely, beauty product', ' Clear Fairness']\n",
            "2:  ['Fair andLovely, beauty product', ' Clear Fairness']\n",
            "1:  ['Fair andLovely, beauty product', ' More Than Just Fairness']\n",
            "2:  ['Fair andLovely, beauty product', ' More Than Just Fairness']\n",
            "1:  ['Fanta, drink', ' Bold Choice Bold Taste']\n",
            "2:  ['Fanta, drink', ' Bold Choice Bold Taste']\n",
            "1:  ['Fanta, drink', ' Bold Orange Fun']\n",
            "2:  ['Fanta, drink', ' Bold Orange Fun']\n",
            "1:  ['Fanta, drink', ' Freshness MeansFanta']\n",
            "2:  ['Fanta, drink', ' Freshness MeansFanta']\n",
            "1:  ['Fanta, drink', ' WantaFanta!']\n",
            "2:  ['Fanta, drink', ' WantaFanta!']\n",
            "1:  ['Ferns N Petals, flowers', 'Flowers, Anywhere Anytime']\n",
            "2:  ['Ferns N Petals, flowers', 'Flowers, Anywhere Anytime']\n",
            "1:  ['Fevicol, Adhesive', ' The Ultimate Adhesive']\n",
            "2:  ['Fevicol, Adhesive', ' The Ultimate Adhesive']\n",
            "1:  ['Fiama Di Wills, soap', 'Beautiful You Today, Tomorrow']\n",
            "2:  ['Fiama Di Wills, soap', 'Beautiful You Today, Tomorrow']\n",
            "1:  ['FirstCry, kids store', 'Big Store For Little ones']\n",
            "2:  ['FirstCry, kids store', 'Big Store For Little ones']\n",
            "1:  ['Flipkart, ecommerece, online shopping', ' The Online Megastore']\n",
            "2:  ['Flipkart, ecommerece, online shopping', ' The Online Megastore']\n",
            "1:  ['Flying Machine, online store', \" Tag A Friend Who's A Wild One\"]\n",
            "2:  ['Flying Machine, online store', \" Tag A Friend Who's A Wild One\"]\n",
            "1:  ['Flying Machine, online store', ' Take A Hike']\n",
            "2:  ['Flying Machine, online store', ' Take A Hike']\n",
            "1:  ['Foodpanda, food delivery', \" Don't Call, Just Install\"]\n",
            "2:  ['Foodpanda, food delivery', \" Don't Call, Just Install\"]\n",
            "1:  ['Foodpanda, food delivery', ' The First Bite']\n",
            "2:  ['Foodpanda, food delivery', ' The First Bite']\n",
            "1:  ['Foodpanda, food delivery', ' Your Favourite Food Just A Call Away']\n",
            "2:  ['Foodpanda, food delivery', ' Your Favourite Food Just A Call Away']\n",
            "1:  ['Force Motors, automobile', 'Next Generation Shared Mobility Solutions']\n",
            "2:  ['Force Motors, automobile', 'Next Generation Shared Mobility Solutions']\n",
            "1:  ['Franco Leone, online shopping ', 'Truly Italian']\n",
            "2:  ['Franco Leone, online shopping ', 'Truly Italian']\n",
            "1:  ['Frooti, drink', ' Juice Up Your Life']\n",
            "2:  ['Frooti, drink', ' Juice Up Your Life']\n",
            "1:  ['Frooti, drink', ' Mango Frooti Fresh and Juicy']\n",
            "2:  ['Frooti, drink', ' Mango Frooti Fresh and Juicy']\n",
            "1:  ['GAIL, natural gas', 'Gas And Beyond']\n",
            "2:  ['GAIL, natural gas', 'Gas And Beyond']\n",
            "1:  ['Garnier, hair care products', 'Take Care']\n",
            "2:  ['Garnier, hair care products', 'Take Care']\n",
            "1:  ['Gillette, razors', 'The Best A Man Can Get']\n",
            "2:  ['Gillette, razors', 'The Best A Man Can Get']\n",
            "1:  ['Gini & Jony, kids shop', 'Freedom Fasihons']\n",
            "2:  ['Gini & Jony, kids shop', 'Freedom Fasihons']\n",
            "1:  ['Gini & Jony, kids shop', 'Happy Style']\n",
            "2:  ['Gini & Jony, kids shop', 'Happy Style']\n",
            "1:  ['Gini & Jony, kids shop', 'A New Way For A New World']\n",
            "2:  ['Gini & Jony, kids shop', 'A New Way For A New World']\n",
            "1:  ['Go Air, Airline, ticket booking', 'Fly Smart']\n",
            "2:  ['Go Air, Airline, ticket booking', 'Fly Smart']\n",
            "1:  ['Godrej, FMCG, consumer products', 'Brighter Living']\n",
            "2:  ['Godrej, FMCG, consumer products', 'Brighter Living']\n",
            "1:  ['Gold Flake, cigarette', ' Celebrate the Feeling']\n",
            "2:  ['Gold Flake, cigarette', ' Celebrate the Feeling']\n",
            "1:  ['Gold Flake, cigarette', ' For the Gracious People']\n",
            "2:  ['Gold Flake, cigarette', ' For the Gracious People']\n",
            "1:  ['Greaves Cotton, engine', ' Everyday Solutions']\n",
            "2:  ['Greaves Cotton, engine', ' Everyday Solutions']\n",
            "1:  ['Haldiram, Food', ' Always In Good Taste']\n",
            "2:  ['Haldiram, Food', ' Always In Good Taste']\n",
            "1:  ['Haldiram, Food', ' Do not Eat At Home Today']\n",
            "2:  ['Haldiram, Food', ' Do not Eat At Home Today']\n",
            "1:  ['Haldiram, Food', ' Taste Of Tradition']\n",
            "2:  ['Haldiram, Food', ' Taste Of Tradition']\n",
            "1:  ['Halonix Bulb, lighting', ' Before Changing The Clothes, Change Your Bulb']\n",
            "2:  ['Halonix Bulb, lighting', ' Before Changing The Clothes, Change Your Bulb']\n",
            "1:  ['Halonix Bulb, lighting', ' The Right Light']\n",
            "2:  ['Halonix Bulb, lighting', ' The Right Light']\n",
            "1:  ['Havells, electrical', ' Passion Is In Everything HavellsDoes']\n",
            "2:  ['Havells, electrical', ' Passion Is In Everything HavellsDoes']\n",
            "1:  ['Hawkins Cookers, Pressure Cooker', 'Fast & Trouble Free Cooking']\n",
            "2:  ['Hawkins Cookers, Pressure Cooker', 'Fast & Trouble Free Cooking']\n",
            "1:  ['HCL,  IT,Information Technology, MNC, Multinational Company', ' Employees First, Customers Second']\n",
            "2:  ['HCL,  IT,Information Technology, MNC, Multinational Company', ' Employees First, Customers Second']\n",
            "1:  ['HCL,  IT,Information Technology, MNC, Multinational Company', ' Technology That Touches Lives']\n",
            "2:  ['HCL,  IT,Information Technology, MNC, Multinational Company', ' Technology That Touches Lives']\n",
            "1:  ['HCL,  IT,Information Technology, MNC, Multinational Company', ' We Touch Lives']\n",
            "2:  ['HCL,  IT,Information Technology, MNC, Multinational Company', ' We Touch Lives']\n",
            "1:  ['HDFC Bank, Bank', 'We Understand Your World']\n",
            "2:  ['HDFC Bank, Bank', 'We Understand Your World']\n",
            "1:  ['Head & Shoulders, Shampoo', 'You Never Get A Second Chance To Make A First Impression']\n",
            "2:  ['Head & Shoulders, Shampoo', 'You Never Get A Second Chance To Make A First Impression']\n",
            "1:  ['Hero Cycles, Cycles', 'Speed And Power']\n",
            "2:  ['Hero Cycles, Cycles', 'Speed And Power']\n",
            "1:  ['Hero MotoCorp, Automobile', ' Fill It Shut It Forget It']\n",
            "2:  ['Hero MotoCorp, Automobile', ' Fill It Shut It Forget It']\n",
            "1:  ['Hero MotoCorp, Automobile', ' For The Hero Within']\n",
            "2:  ['Hero MotoCorp, Automobile', ' For The Hero Within']\n",
            "1:  ['HeroÃÂPleasure, Scooter', 'Why Should Boys Have All The Fun']\n",
            "2:  ['Hero ÂPleasure, Scooter', 'Why Should Boys Have All The Fun']\n",
            "1:  ['HiDesign,  bags', 'Real Leather Crafted The Forgotten Way']\n",
            "2:  ['HiDesign,  bags', 'Real Leather Crafted The Forgotten Way']\n",
            "1:  ['Hike Messenger, VoIP, Messenger', ' Fun, Free Messaging For Life']\n",
            "2:  ['Hike Messenger, VoIP, Messenger', ' Fun, Free Messaging For Life']\n",
            "1:  ['Hike Messenger, VoIP, Messenger', ' Got a Gang? Get onHike']\n",
            "2:  ['Hike Messenger, VoIP, Messenger', ' Got a Gang? Get onHike']\n",
            "1:  ['Hike Messenger, VoIP, Messenger', ' Hike Up Your Life']\n",
            "2:  ['Hike Messenger, VoIP, Messenger', ' Hike Up Your Life']\n",
            "1:  ['Himalayan, beauty , health', ' Herbal Healthcare']\n",
            "2:  ['Himalayan, beauty , health', ' Herbal Healthcare']\n",
            "1:  ['Himalayan, beauty , health', ' Wellness Since 1930']\n",
            "2:  ['Himalayan, beauty , health', ' Wellness Since 1930']\n",
            "1:  ['HLL Lifecare, Ayurveda', 'Innovating For Healthy Generations']\n",
            "2:  ['HLL Lifecare, Ayurveda', 'Innovating For Healthy Generations']\n",
            "1:  ['Honda, car, automobile', 'The Power of Dreams']\n",
            "2:  ['Honda, car, automobile', 'The Power of Dreams']\n",
            "1:  ['Horlicks, energy drink', 'Taller, Stronger, Sharper']\n",
            "2:  ['Horlicks, energy drink', 'Taller, Stronger, Sharper']\n",
            "1:  ['HRX, Fitness', 'Be The Best Version Of Yourself']\n",
            "2:  ['HRX, Fitness', 'Be The Best Version Of Yourself']\n",
            "1:  ['Huggies, Baby Care', ' Designed To Stop Leaks']\n",
            "2:  ['Huggies, Baby Care', ' Designed To Stop Leaks']\n",
            "1:  ['Huggies, Baby Care', ' There is Nothing Like A Hug']\n",
            "2:  ['Huggies, Baby Care', ' There is Nothing Like A Hug']\n",
            "1:  ['Huggies, Baby Care', ' What Happens In Huggies Stays InHuggies']\n",
            "2:  ['Huggies, Baby Care', ' What Happens In Huggies Stays InHuggies']\n",
            "1:  ['Hutch, Telecom', ' Wherever You Go, Our Network Follows']\n",
            "2:  ['Hutch, Telecom', ' Wherever You Go, Our Network Follows']\n",
            "1:  ['Hutch, Telecom', ' You & I']\n",
            "2:  ['Hutch, Telecom', ' You & I']\n",
            "1:  ['Hyundai, car, Automobile', ' New Thinking. New Possibilities']\n",
            "2:  ['Hyundai, car, Automobile', ' New Thinking. New Possibilities']\n",
            "1:  ['Hyundai, car, Automobile', ' Next Awaits']\n",
            "2:  ['Hyundai, car, Automobile', ' Next Awaits']\n",
            "1:  ['iBall, electronics', 'Your Eyeball View Our Technology New']\n",
            "2:  ['iBall, electronics', 'Your Eyeball View Our Technology New']\n",
            "1:  ['IDBI, Bank', 'Banking For All']\n",
            "2:  ['IDBI, Bank', 'Banking For All']\n",
            "1:  ['Idea, Voice and Data Service', ' An Idea Can Change Your life']\n",
            "2:  ['Idea, Voice and Data Service', ' An Idea Can Change Your life']\n",
            "1:  ['Idea, Voice and Data Service', ' What An Idea Sirji']\n",
            "2:  ['Idea, Voice and Data Service', ' What An Idea Sirji']\n",
            "1:  ['Imperial Blue, Whisky', 'Men Will Be Men']\n",
            "2:  ['Imperial Blue, Whisky', 'Men Will Be Men']\n",
            "1:  ['Indane, Cooking gas', 'Safe. Reliable. Convenient']\n",
            "2:  ['Indane, Cooking gas', 'Safe. Reliable. Convenient']\n",
            "1:  ['Indian Oil Corporation, petroleum', 'Our Groundwork Takes You Sky High']\n",
            "2:  ['Indian Oil Corporation, petroleum', 'Our Groundwork Takes You Sky High']\n",
            "1:  ['Indian Overseas Bank, Bank', 'Good People To Grow With']\n",
            "2:  ['Indian Overseas Bank, Bank', 'Good People To Grow With']\n",
            "1:  ['Indigo Airlines, Airline', 'Go IndiGo']\n",
            "2:  ['Indigo Airlines, Airline', 'Go IndiGo']\n",
            "1:  ['IndusInd Bank, Bank', ' We Make You Feel Richer']\n",
            "2:  ['IndusInd Bank, Bank', ' We Make You Feel Richer']\n",
            "1:  ['Infibeam, Finance', 'Shop With A Smile']\n",
            "2:  ['Infibeam, Finance', 'Shop With A Smile']\n",
            "1:  ['Infosys, IT,Information Technology, MNC, Multinational Company', ' Building Tomorrows Enterprise']\n",
            "2:  ['Infosys, IT,Information Technology, MNC, Multinational Company', ' Building Tomorrows Enterprise']\n",
            "1:  ['Infosys, IT,Information Technology, MNC, Multinational Company', ' Navigate Your Next']\n",
            "2:  ['Infosys, IT,Information Technology, MNC, Multinational Company', ' Navigate Your Next']\n",
            "1:  ['Infosys, IT,Information Technology, MNC, Multinational Company', ' Power By Intellect, Driven By Values']\n",
            "2:  ['Infosys, IT,Information Technology, MNC, Multinational Company', ' Power By Intellect, Driven By Values']\n",
            "1:  ['Infosys, IT,Information Technology, MNC, Multinational Company', ' Win In The Flat World']\n",
            "2:  ['Infosys, IT,Information Technology, MNC, Multinational Company', ' Win In The Flat World']\n",
            "1:  ['Inshorts, IT, Software', ' Short Mein Jaano']\n",
            "2:  ['Inshorts, IT, Software', ' Short Mein Jaano']\n",
            "1:  ['Inshorts, IT, Software', ' Stay Informed']\n",
            "2:  ['Inshorts, IT, Software', ' Stay Informed']\n",
            "1:  ['Intex, electronics', 'Demand More']\n",
            "2:  ['Intex, electronics', 'Demand More']\n",
            "1:  ['ITC, Conglomerate', 'Enduring Value']\n",
            "2:  ['ITC, Conglomerate', 'Enduring Value']\n",
            "1:  ['Jabong, online shopping, clothing ', 'Be You']\n",
            "2:  ['Jabong, online shopping, clothing ', 'Be You']\n",
            "1:  ['Jabong, online shopping, clothing ', 'Fashion Nikla Mann Fisla']\n",
            "2:  ['Jabong, online shopping, clothing ', 'Fashion Nikla Mann Fisla']\n",
            "1:  ['Jaguar Cars, Automotive ', 'How Alive Are You']\n",
            "2:  ['Jaguar Cars, Automotive ', 'How Alive Are You']\n",
            "1:  ['Jaguar Cars, Automotive ', 'The Art Of Performance']\n",
            "2:  ['Jaguar Cars, Automotive ', 'The Art Of Performance']\n",
            "1:  ['Jet Airways, Airline, Airline', 'The Joy of Flying']\n",
            "2:  ['Jet Airways, Airline, Airline', 'The Joy of Flying']\n",
            "1:  ['Jio, Telecom', 'Digital Life']\n",
            "2:  ['Jio, Telecom', 'Digital Life']\n",
            "1:  ['JK Tyre, Tyres', 'Total Control']\n",
            "2:  ['JK Tyre, Tyres', 'Total Control']\n",
            "1:  ['Karbonn Mobiles', 'Spread A Smile']\n",
            "2:  ['Karbonn Mobiles', 'Spread A Smile']\n",
            "1:  ['Kelloggs, food manufacturing', 'Lets Make Today Great']\n",
            "2:  ['Kelloggs, food manufacturing', 'Lets Make Today Great']\n",
            "1:  ['Kelloggs, food manufacturing', 'Shuruaat Sahi Toh Din Sahi']\n",
            "2:  ['Kelloggs, food manufacturing', 'Shuruaat Sahi Toh Din Sahi']\n",
            "1:  ['Killer Jeans, Apparel, Textile', 'The World Is Your Ramp']\n",
            "2:  ['Killer Jeans, Apparel, Textile', 'The World Is Your Ramp']\n",
            "1:  ['Kinder Joy, Chocolate', 'A Little Surprise Goes A Long Way']\n",
            "2:  ['Kinder Joy, Chocolate', 'A Little Surprise Goes A Long Way']\n",
            "1:  ['Kinder Joy, Chocolate', 'With Surprise']\n",
            "2:  ['Kinder Joy, Chocolate', 'With Surprise']\n",
            "1:  ['Kingfisher, Airline', 'The King Of Good Times']\n",
            "2:  ['Kingfisher, Airline', 'The King Of Good Times']\n",
            "1:  ['Supermarket, supermarket', 'We focus on what you need.']\n",
            "2:  ['Supermarket, supermarket', 'We focus on what you need.']\n",
            "1:  ['Supermarket, supermarket', 'If you cannot find it from others, we have it for you.']\n",
            "2:  ['Supermarket, supermarket', 'If you cannot find it from others, we have it for you.']\n",
            "1:  ['Supermarket, supermarket', 'We are a special kind of wonderland.']\n",
            "2:  ['Supermarket, supermarket', 'We are a special kind of wonderland.']\n",
            "1:  ['Supermarket, supermarket', 'Do not worry. We have everything you need.']\n",
            "2:  ['Supermarket, supermarket', 'Do not worry. We have everything you need.']\n",
            "1:  ['Barbeque tools, grills and utensils', 'Grill baby grill']\n",
            "2:  ['Barbeque tools, grills and utensils', 'Grill baby grill']\n",
            "1:  ['Barbeque tools, grills and utensils', 'Grilling accessories that are actually worth money']\n",
            "2:  ['Barbeque tools, grills and utensils', 'Grilling accessories that are actually worth money']\n",
            "1:  ['Barbeque tools, grills and utensils', 'Get your favoriteBarbecue Cookdesign today']\n",
            "2:  ['Barbeque tools, grills and utensils', 'Get your favoriteBarbecue Cookdesign today']\n",
            "1:  ['Barbeque tools, grills and utensils', 'BBQ like you have never BBQd king.']\n",
            "2:  ['Barbeque tools, grills and utensils', 'BBQ like you have never BBQd king.']\n",
            "1:  ['Kingfisher, Airline', 'Fly The Good Times']\n",
            "2:  ['Kingfisher, Airline', 'Fly The Good Times']\n",
            "1:  ['Lakme, beauty product', 'Beauty Sutra']\n",
            "2:  ['Lakme, beauty product', 'Beauty Sutra']\n",
            "1:  ['Lakme, beauty product', 'Inspired Haircare']\n",
            "2:  ['Lakme, beauty product', 'Inspired Haircare']\n",
            "1:  ['Lakme, beauty product', 'Lakme Reinvent']\n",
            "2:  ['Lakme, beauty product', 'Lakme Reinvent']\n",
            "1:  ['Lanco, conglomerate ', 'Always Inspiring']\n",
            "2:  ['Lanco, conglomerate ', 'Always Inspiring']\n",
            "1:  ['LAVA, electronics ', 'Get The Power In Your Hand']\n",
            "2:  ['LAVA, electronics ', 'Get The Power In Your Hand']\n",
            "1:  ['Lays, Potato chips', ' Kids cannot Eat Just One']\n",
            "2:  ['Lays, Potato chips', ' Kids cannot Eat Just One']\n",
            "1:  ['Lays, Potato chips', ' Get Your Smile On']\n",
            "2:  ['Lays, Potato chips', ' Get Your Smile On']\n",
            "1:  ['Lays, Potato chips', ' No One Can Eat Just One']\n",
            "2:  ['Lays, Potato chips', ' No One Can Eat Just One']\n",
            "1:  ['LIC, Insurance', ' Your Welfare Is Our Responsibility']\n",
            "2:  ['LIC, Insurance', ' Your Welfare Is Our Responsibility']\n",
            "1:  ['Limca, soda, drink', ' It is Veri Veri Lime & Lemoni']\n",
            "2:  ['Limca, soda, drink', ' It is Veri Veri Lime & Lemoni']\n",
            "1:  ['Lipton, Tea, Beverage', ' Direct From The Tea Gardens To The Teapot']\n",
            "2:  ['Lipton, Tea, Beverage', ' Direct From The Tea Gardens To The Teapot']\n",
            "1:  ['Lipton, Tea, Beverage', ' Drink Positive']\n",
            "2:  ['Lipton, Tea, Beverage', ' Drink Positive']\n",
            "1:  ['Listerine, mouthwash, oral care', 'Kills Germs That Cause Bad Breath']\n",
            "2:  ['Listerine, mouthwash, oral care', 'Kills Germs That Cause Bad Breath']\n",
            "1:  ['Louis Philippe, Apparel, Textile', ' Excellence Matters']\n",
            "2:  ['Louis Philippe, Apparel, Textile', ' Excellence Matters']\n",
            "1:  ['Louis Philippe, Apparel, Textile', ' Rise Above The Rest']\n",
            "2:  ['Louis Philippe, Apparel, Textile', ' Rise Above The Rest']\n",
            "1:  ['Louis Philippe, Apparel, Textile', ' The Upper Crest']\n",
            "2:  ['Louis Philippe, Apparel, Textile', ' The Upper Crest']\n",
            "1:  ['Lux, soap, body care', ' Ab Khubsuriti Se Darr Kaisa']\n",
            "2:  ['Lux, soap, body care', ' Ab Khubsuriti Se Darr Kaisa']\n",
            "1:  ['Lux, soap, body care', ' Beauty Soap Of Film Stars']\n",
            "2:  ['Lux, soap, body care', ' Beauty Soap Of Film Stars']\n",
            "1:  ['Lux, soap, body care', ' Celebrating Beauty']\n",
            "2:  ['Lux, soap, body care', ' Celebrating Beauty']\n",
            "1:  ['Lux, soap, body care', ' Not Just SoapIts Skin Care']\n",
            "2:  ['Lux, soap, body care', ' Not Just SoapIts Skin Care']\n",
            "1:  ['Lux, soap, body care', ' Lux Brings Out The Star In You']\n",
            "2:  ['Lux, soap, body care', ' Lux Brings Out The Star In You']\n",
            "1:  ['Maaza, drinks', ' New Look Same Indulgent Taste']\n",
            "2:  ['Maaza, drinks', ' New Look Same Indulgent Taste']\n",
            "1:  ['Maaza, drinks', ' The Tropical Fruit Drink']\n",
            "2:  ['Maaza, drinks', ' The Tropical Fruit Drink']\n",
            "1:  ['Maggi, Noodles, food', ' 2 Minute Noodles']\n",
            "2:  ['Maggi, Noodles, food', ' 2 Minute Noodles']\n",
            "1:  ['Maggi, Noodles, food', ' 2 Minutes For Education']\n",
            "2:  ['Maggi, Noodles, food', ' 2 Minutes For Education']\n",
            "1:  ['Maggi, Noodles, food', ' Easy To Cook And Good To Eat']\n",
            "2:  ['Maggi, Noodles, food', ' Easy To Cook And Good To Eat']\n",
            "1:  ['Maggi, Noodles, food', ' Spreading Khusiyan For More Than 3 Decade']\n",
            "2:  ['Maggi, Noodles, food', ' Spreading Khusiyan For More Than 3 Decade']\n",
            "1:  ['Maggi, Noodles, food', ' Taste Bhi Health Bhi']\n",
            "2:  ['Maggi, Noodles, food', ' Taste Bhi Health Bhi']\n",
            "1:  ['Mahindra,automobile', 'Rise']\n",
            "2:  ['Mahindra,automobile', 'Rise']\n",
            "1:  ['Mahindra Scorpio, bike, motocycle', 'Nothing Else Will Do']\n",
            "2:  ['Mahindra Scorpio, bike, motocycle', 'Nothing Else Will Do']\n",
            "1:  ['MakeMyTrip, online ticket booking', ' Memories Unlimited']\n",
            "2:  ['MakeMyTrip, online ticket booking', ' Memories Unlimited']\n",
            "1:  ['Malaya Manorama, Media', 'Nobody Delivers Kerala Better']\n",
            "2:  ['Malaya Manorama, Media', 'Nobody Delivers Kerala Better']\n",
            "1:  ['Marico, Consumer goods', ' Be More Everyday']\n",
            "2:  ['Marico, Consumer goods', ' Be More Everyday']\n",
            "1:  ['Marico, Consumer goods', ' Make A Difference']\n",
            "2:  ['Marico, Consumer goods', ' Make A Difference']\n",
            "1:  ['Maruti 800, car', 'Change Your Life']\n",
            "2:  ['Maruti 800, car', 'Change Your Life']\n",
            "1:  ['Maruti Suzuki,car', 'Change your Life']\n",
            "2:  ['Maruti Suzuki,car', 'Change your Life']\n",
            "1:  ['Maruti Suzuki,car', 'Count On Us']\n",
            "2:  ['Maruti Suzuki,car', 'Count On Us']\n",
            "1:  ['Maruti Suzuki,car', 'Way Of Life']\n",
            "2:  ['Maruti Suzuki,car', 'Way Of Life']\n",
            "1:  ['Mastek Foundation, Technology Services', 'Informed Giving, Responsible Receiving']\n",
            "2:  ['Mastek Foundation, Technology Services', 'Informed Giving, Responsible Receiving']\n",
            "1:  ['Max Fashion, Fashion, Apparel, Textile', 'Look Good, Feel Good']\n",
            "2:  ['Max Fashion, Fashion, Apparel, Textile', 'Look Good, Feel Good']\n",
            "1:  ['Mentos, mouth refreshner', 'Stay Fresh']\n",
            "2:  ['Mentos, mouth refreshner', 'Stay Fresh']\n",
            "1:  ['Mentos, mouth refreshner', 'There is Nothing Like A Mentos']\n",
            "2:  ['Mentos, mouth refreshner', 'There is Nothing Like A Mentos']\n",
            "1:  ['Microland, IT services', 'Extraordinary Everyday']\n",
            "2:  ['Microland, IT services', 'Extraordinary Everyday']\n",
            "1:  ['Microland, IT services', 'Making Digital Happen']\n",
            "2:  ['Microland, IT services', 'Making Digital Happen']\n",
            "1:  ['Micromax, Telecom', 'Nothing Like Anything']\n",
            "2:  ['Micromax, Telecom', 'Nothing Like Anything']\n",
            "1:  ['Micromax, Telecom', 'Nuts. Guts. Glory']\n",
            "2:  ['Micromax, Telecom', 'Nuts. Guts. Glory']\n",
            "1:  ['Milkybar, chocolate', 'A Delicious Source Of Milk Goodness']\n",
            "2:  ['Milkybar, chocolate', 'A Delicious Source Of Milk Goodness']\n",
            "1:  ['Mindtree, IT services', 'Welcome To Possible']\n",
            "2:  ['Mindtree, IT services', 'Welcome To Possible']\n",
            "1:  ['Minute Maid, Fruit juices, soft drinks', 'Feel The Orange Feel The Pulp']\n",
            "2:  ['Minute Maid, Fruit juices, soft drinks', 'Feel The Orange Feel The Pulp']\n",
            "1:  ['Minute Maid, Fruit juices, soft drinks', 'Made With Nature']\n",
            "2:  ['Minute Maid, Fruit juices, soft drinks', 'Made With Nature']\n",
            "1:  ['Monte Carlo, Fashion, Apparel, Textile,Retail', 'Its The Way You Make Me Feel']\n",
            "2:  ['Monte Carlo, Fashion, Apparel, Textile,Retail', 'Its The Way You Make Me Feel']\n",
            "1:  ['Mountain Dew, drink, soda', 'Darr Ke Aage Jeet Hai']\n",
            "2:  ['Mountain Dew, drink, soda', 'Darr Ke Aage Jeet Hai']\n",
            "1:  ['Mphasis, IT services', 'The Next Applied']\n",
            "2:  ['Mphasis, IT services', 'The Next Applied']\n",
            "1:  ['Mphasis, IT services', 'Unleash the Next']\n",
            "2:  ['Mphasis, IT services', 'Unleash the Next']\n",
            "1:  ['MRF, Tyres', 'Tyres With Muscle']\n",
            "2:  ['MRF, Tyres', 'Tyres With Muscle']\n",
            "1:  ['MTNL, Telecom', 'Transparency Makes Us Different']\n",
            "2:  ['MTNL, Telecom', 'Transparency Makes Us Different']\n",
            "1:  ['Mukand, Iron and Steel', 'Infinite Resolve']\n",
            "2:  ['Mukand, Iron and Steel', 'Infinite Resolve']\n",
            "1:  ['Munch, Chocolate', 'Cannot Stop Munching']\n",
            "2:  ['Munch, Chocolate', 'Cannot Stop Munching']\n",
            "1:  ['Muthoot Finance, Finance', 'Unchanging Values In Changing Times']\n",
            "2:  ['Muthoot Finance, Finance', 'Unchanging Values In Changing Times']\n",
            "1:  ['Muthoot Finance, Finance', 'Welcome To The World Of Trust']\n",
            "2:  ['Muthoot Finance, Finance', 'Welcome To The World Of Trust']\n",
            "1:  ['Myntra, Online shopping apparels, shoes, bags, home products', 'Indias Largest Online Fashion Store']\n",
            "2:  ['Myntra, Online shopping apparels, shoes, bags, home products', 'Indias Largest Online Fashion Store']\n",
            "1:  ['Navy Cut, Cigarette', 'Made for Each Other']\n",
            "2:  ['Navy Cut, Cigarette', 'Made for Each Other']\n",
            "1:  ['Nescafe, Coffee Beverage', '100% Pure Instant Coffee']\n",
            "2:  ['Nescafe, Coffee Beverage', '100% Pure Instant Coffee']\n",
            "1:  ['Nescafe, Coffee Beverage', 'It All Starts With A Nescafe']\n",
            "2:  ['Nescafe, Coffee Beverage', 'It All Starts With A Nescafe']\n",
            "1:  ['Nestle, Coffee Beverage', 'Good Food, Good Life']\n",
            "2:  ['Nestle, Coffee Beverage', 'Good Food, Good Life']\n",
            "1:  ['NIIT, IT Company, Software', 'Engage With The Emerging']\n",
            "2:  ['NIIT, IT Company, Software', 'Engage With The Emerging']\n",
            "1:  ['Nilkamal Plastics, Plastic furnitures', 'Indias Favorite Furniture']\n",
            "2:  ['Nilkamal Plastics, Plastic furnitures', 'Indias Favorite Furniture']\n",
            "1:  ['Nirma, manufacturing company producing detergents, Soap', 'Washing Powder Nirma']\n",
            "2:  ['Nirma, manufacturing company producing detergents, Soap', 'Washing Powder Nirma']\n",
            "1:  ['Nokia, Mobile Phone', 'Connecting People']\n",
            "2:  ['Nokia, Mobile Phone', 'Connecting People']\n",
            "1:  ['Old Monk, Rum', 'Very Old Vatted XXX Rum']\n",
            "2:  ['Old Monk, Rum', 'Very Old Vatted XXX Rum']\n",
            "1:  ['OLX, online buying and selling', 'Where Buyers Meet Sellers']\n",
            "2:  ['OLX, online buying and selling', 'Where Buyers Meet Sellers']\n",
            "1:  ['Boutique', 'Explore your inner style']\n",
            "2:  ['Boutique', 'Explore your inner style']\n",
            "1:  ['Boutique', 'Express your charm']\n",
            "2:  ['Boutique', 'Express your charm']\n",
            "1:  ['Boutique', 'Destination to refine your image']\n",
            "2:  ['Boutique', 'Destination to refine your image']\n",
            "1:  ['Boutique', 'The best feminine']\n",
            "2:  ['Boutique', 'The best feminine']\n",
            "1:  ['Boutique', 'Elegant avenue']\n",
            "2:  ['Boutique', 'Elegant avenue']\n",
            "1:  ['Boutique', 'Open your door of charm']\n",
            "2:  ['Boutique', 'Open your door of charm']\n",
            "1:  ['Boutique', 'Something for everyone']\n",
            "2:  ['Boutique', 'Something for everyone']\n",
            "1:  ['Boutique', 'Get your best version']\n",
            "2:  ['Boutique', 'Get your best version']\n",
            "1:  ['Boutique', 'Never old to look good']\n",
            "2:  ['Boutique', 'Never old to look good']\n",
            "1:  ['Boutique', 'Dive into fashion']\n",
            "2:  ['Boutique', 'Dive into fashion']\n",
            "1:  ['Boutique', 'Get eyes on you']\n",
            "2:  ['Boutique', 'Get eyes on you']\n",
            "1:  ['Boutique', 'Handmade beauty']\n",
            "2:  ['Boutique', 'Handmade beauty']\n",
            "1:  ['Boutique', 'Paint it with charm']\n",
            "2:  ['Boutique', 'Paint it with charm']\n",
            "1:  ['Boutique', 'Authentically trendy']\n",
            "2:  ['Boutique', 'Authentically trendy']\n",
            "1:  ['Boutique', 'The style for womens inner elegance']\n",
            "2:  ['Boutique', 'The style for womens inner elegance']\n",
            "1:  ['Boutique', 'Get ready for your peagent']\n",
            "2:  ['Boutique', 'Get ready for your peagent']\n",
            "1:  ['Boutique', 'Elegant from head to toe']\n",
            "2:  ['Boutique', 'Elegant from head to toe']\n",
            "1:  ['ONGC, oil and Natural gas', 'Making Tomorrow Brighter']\n",
            "2:  ['ONGC, oil and Natural gas', 'Making Tomorrow Brighter']\n",
            "1:  ['Onida, Electronics', 'Designed With You In Mind']\n",
            "2:  ['Onida, Electronics', 'Designed With You In Mind']\n",
            "1:  ['Onida, Television', 'Experience The Desire']\n",
            "2:  ['Onida, Television', 'Experience The Desire']\n",
            "1:  ['Onida, Refridgerator', 'Neighbours Envy, Owners Pride']\n",
            "2:  ['Onida, Refridgerator', 'Neighbours Envy, Owners Pride']\n",
            "1:  ['Onida, Electronics', 'No Tagline']\n",
            "2:  ['Onida, Electronics', 'No Tagline']\n",
            "1:  ['Onida, Electronics', 'Nothing But The Truth']\n",
            "2:  ['Onida, Electronics', 'Nothing But The Truth']\n",
            "1:  ['Onida, Electronics', 'Owners Pride']\n",
            "2:  ['Onida, Electronics', 'Owners Pride']\n",
            "1:  ['Oral-B, oral care with Tooth brush, Tooth paste', 'The Brand More Dentists Use Themselves Worldwide']\n",
            "2:  ['Oral-B, oral care with Tooth brush, Tooth paste', 'The Brand More Dentists Use Themselves Worldwide']\n",
            "1:  ['Orbit, chewing gum', ' For A Healthy Teeth And Prevents Tooth Decay']\n",
            "2:  ['Orbit, chewing gum', ' For A Healthy Teeth And Prevents Tooth Decay']\n",
            "1:  ['Orbit, chewing gum', ' It Really Works']\n",
            "2:  ['Orbit, chewing gum', ' It Really Works']\n",
            "1:  ['Orbit, chewing gum', ' Just Brushed Clean Feeling']\n",
            "2:  ['Orbit, chewing gum', ' Just Brushed Clean Feeling']\n",
            "1:  ['Oreo India, Biscuit', ' Daily Dunk']\n",
            "2:  ['Oreo India, Biscuit', ' Daily Dunk']\n",
            "1:  ['OreoIndia, Biscuit', ' Milk is Favorite Cookie']\n",
            "2:  ['OreoIndia, Biscuit', ' Milk is Favorite Cookie']\n",
            "1:  ['OreoIndia, Biscuit', ' Twist, Lick, Dunk']\n",
            "2:  ['OreoIndia, Biscuit', ' Twist, Lick, Dunk']\n",
            "1:  ['Oriflame India, skin care, Makeup and beauty product', 'Look Great']\n",
            "2:  ['Oriflame India, skin care, Makeup and beauty product', 'Look Great']\n",
            "1:  ['OYO, hospitality', 'One For Everyone']\n",
            "2:  ['OYO, hospitality', 'One For Everyone']\n",
            "1:  ['Pantaloons, shop for apparels, shoes, bags', 'In Love With Life']\n",
            "2:  ['Pantaloons, shop for apparels, shoes, bags', 'In Love With Life']\n",
            "1:  ['Pantaloons, shop for apparels, shoes, bags', 'In Love With Fashion']\n",
            "2:  ['Pantaloons, shop for apparels, shoes, bags', 'In Love With Fashion']\n",
            "1:  ['Pantene, hair care', 'Hair So Healthy It Shines']\n",
            "2:  ['Pantene, hair care', 'Hair So Healthy It Shines']\n",
            "1:  ['Paperboat, beverages and foods', 'Drinks And Memories']\n",
            "2:  ['Paperboat, beverages and foods', 'Drinks And Memories']\n",
            "1:  ['Pepsi, Carbonated soda drink,beverages', 'Pepsify Karo Gai']\n",
            "2:  ['Pepsi, Carbonated soda drink,beverages', 'Pepsify Karo Gai']\n",
            "1:  ['Pepsi, Carbonated soda drink,beverages', 'That is What I Like']\n",
            "2:  ['Pepsi, Carbonated soda drink,beverages', 'That is What I Like']\n",
            "1:  ['Pepsi, Carbonated soda drink,beverages', 'Where There is Pepsi, There is Music']\n",
            "2:  ['Pepsi, Carbonated soda drink,beverages', 'Where There is Pepsi, There is Music']\n",
            "1:  ['Pepsodent, oralcare, tooth paste, tooth brush', 'My Toothpaste Fights 10']\n",
            "2:  ['Pepsodent, oralcare, tooth paste, tooth brush', 'My Toothpaste Fights 10']\n",
            "1:  ['Pepsodent, oralcare, tooth paste, tooth brush', 'Protection Outside Freshness Inside']\n",
            "2:  ['Pepsodent, oralcare, tooth paste, tooth brush', 'Protection Outside Freshness Inside']\n",
            "1:  ['Pepsodent, oralcare, tooth paste, tooth brush', 'You will Wonder Where The Yellow Went When You Brush Your Teeth With Pepsodent!']\n",
            "2:  ['Pepsodent, oralcare, tooth paste, tooth brush', 'You will Wonder Where The Yellow Went When You Brush Your Teeth With Pepsodent!']\n",
            "1:  ['Perk, chocolate', 'Anytime, Anywhere']\n",
            "2:  ['Perk, chocolate', 'Anytime, Anywhere']\n",
            "1:  ['Peter England, branded fabrics, textile, garments,shirt', ' Beginning Of Good Things']\n",
            "2:  ['Peter England, branded fabrics, textile, garments,shirt', ' Beginning Of Good Things']\n",
            "1:  ['Peter England, branded fabrics, textile, garments,shirt', ' Honest Shirt']\n",
            "2:  ['Peter England, branded fabrics, textile, garments,shirt', ' Honest Shirt']\n",
            "1:  ['Peter England, branded fabrics, textile, garments,shirt', ' Honestly Impressive']\n",
            "2:  ['Peter England, branded fabrics, textile, garments,shirt', ' Honestly Impressive']\n",
            "1:  ['PNB, Bank', 'The Name You Can BankUpon']\n",
            "2:  ['PNB, Bank', 'The Name You Can BankUpon']\n",
            "1:  ['Polo, Mint candy', 'The Mint With The Hole']\n",
            "2:  ['Polo, Mint candy', 'The Mint With The Hole']\n",
            "1:  ['Ponds, Body care products like Talcum powder, soap', ' For TimelessBeauty']\n",
            "2:  ['Ponds, Body care products like Talcum powder, soap', ' For TimelessBeauty']\n",
            "1:  ['Ponds, Body care products like Talcum powder, soap', ' The Miracle Is You']\n",
            "2:  ['Ponds, Body care products like Talcum powder, soap', ' The Miracle Is You']\n",
            "1:  ['Ponds, Body care products like Talcum powder, soap', ' Where Your Real Age Vanishes']\n",
            "2:  ['Ponds, Body care products like Talcum powder, soap', ' Where Your Real Age Vanishes']\n",
            "1:  ['Ponds, Body care products like Talcum powder, soap', ' White Beauty']\n",
            "2:  ['Ponds, Body care products like Talcum powder, soap', ' White Beauty']\n",
            "1:  ['Practo, health tech company ', 'Your Home For Health']\n",
            "2:  ['Practo, health tech company ', 'Your Home For Health']\n",
            "1:  ['Provogue,fashion & lifestyle retail', 'Redefining Fashion']\n",
            "2:  ['Provogue,fashion & lifestyle retail', 'Redefining Fashion']\n",
            "1:  ['Quick Heal, antivirus', 'Security Simplified']\n",
            "2:  ['Quick Heal, antivirus', 'Security Simplified']\n",
            "1:  ['Trading', 'A Taste For Trading.']\n",
            "2:  ['Trading', 'A Taste For Trading.']\n",
            "1:  ['Trading', 'Trading its guaranteed.']\n",
            "2:  ['Trading', 'Trading its guaranteed.']\n",
            "1:  ['Trading', 'Academy Attitude Positive Attitude.']\n",
            "2:  ['Trading', 'Academy Attitude Positive Attitude.']\n",
            "1:  ['Trading', 'profit through trading']\n",
            "2:  ['Trading', 'profit through trading']\n",
            "1:  ['Trading', 'The best team for trading']\n",
            "2:  ['Trading', 'The best team for trading']\n",
            "1:  ['Trading', 'Pure Trading Pure Profit']\n",
            "2:  ['Trading', 'Pure Trading Pure Profit']\n",
            "1:  ['Radio Mirchi, radio', ' It is Hot']\n",
            "2:  ['Radio Mirchi, radio', ' It is Hot']\n",
            "1:  ['Rasna, Juice', ' I Love You Rasna']\n",
            "2:  ['Rasna, Juice', ' I Love You Rasna']\n",
            "1:  ['Raymond, Branded Fashion Fabrics, garments, dress', ' Feels Like Heaven']\n",
            "2:  ['Raymond, Branded Fashion Fabrics, garments, dress', ' Feels Like Heaven']\n",
            "1:  ['Raymond, Branded Fashion Fabrics, garments, dress', ' Made To Measure']\n",
            "2:  ['Raymond, Branded Fashion Fabrics, garments, dress', ' Made To Measure']\n",
            "1:  ['Raymond, Branded Fashion Fabrics, garments, dress', ' The Complete Man']\n",
            "2:  ['Raymond, Branded Fashion Fabrics, garments, dress', ' The Complete Man']\n",
            "1:  ['Real, fruit juice', 'My Real Fruit Power']\n",
            "2:  ['Real, fruit juice', 'My Real Fruit Power']\n",
            "1:  ['RedBus, online ticket booking', 'When You Gotta Go, You Gotta Go']\n",
            "2:  ['RedBus, online ticket booking', 'When You Gotta Go, You Gotta Go']\n",
            "1:  ['Red FM, radio', 'Bajate Raho']\n",
            "2:  ['Red FM, radio', 'Bajate Raho']\n",
            "1:  ['Reliance Industries, Conglomerate', 'Growth Is Life']\n",
            "2:  ['Reliance Industries, Conglomerate', 'Growth Is Life']\n",
            "1:  ['RITES, Technical and Economic Service , consulting', 'The Infrastructure People']\n",
            "2:  ['RITES, Technical and Economic Service , consulting', 'The Infrastructure People']\n",
            "1:  ['Royal Enfield, Bullet', 'Made Like A Gun']\n",
            "2:  ['Royal Enfield, Bullet', 'Made Like A Gun']\n",
            "1:  ['Royal Stag, Scotch ', ' It is Your Life Make It Large']\n",
            "2:  ['Royal Stag, Scotch ', ' It is Your Life Make It Large']\n",
            "1:  ['SBI, Bank', ' A Bank Of The Common Man']\n",
            "2:  ['SBI, Bank', ' A Bank Of The Common Man']\n",
            "1:  ['SBI, Bank', ' Pure Banking Nothing Else']\n",
            "2:  ['SBI, Bank', ' Pure Banking Nothing Else']\n",
            "1:  ['SBI, Bank', ' The Banker To Every Indian']\n",
            "2:  ['SBI, Bank', ' The Banker To Every Indian']\n",
            "1:  ['SBI, Bank', ' The Nation Banks On Us']\n",
            "2:  ['SBI, Bank', ' The Nation Banks On Us']\n",
            "1:  ['SBI, Bank', ' With You All The Way']\n",
            "2:  ['SBI, Bank', ' With You All The Way']\n",
            "1:  ['SBI, Bank', ' You Can Always Bank On Us']\n",
            "2:  ['SBI, Bank', ' You Can Always Bank On Us']\n",
            "1:  ['Sensodyne, tooth paste', ' Dentist Recommended Brand For Protection Against Tooth Sensitivity']\n",
            "2:  ['Sensodyne, tooth paste', ' Dentist Recommended Brand For Protection Against Tooth Sensitivity']\n",
            "1:  ['Sensodyne, tooth paste', ' Stop The Pain And Eat What You Love']\n",
            "2:  ['Sensodyne, tooth paste', ' Stop The Pain And Eat What You Love']\n",
            "1:  ['Sensodyne, tooth paste', ' Worlds No. 1 Sensitivity Toothpaste']\n",
            "2:  ['Sensodyne, tooth paste', ' Worlds No. 1 Sensitivity Toothpaste']\n",
            "1:  ['Servo, Greases and lubricants', 'World-Class Lubricants']\n",
            "2:  ['Servo, Greases and lubricants', 'World-Class Lubricants']\n",
            "1:  ['Shaadi.com, Matrimonial', 'Love, Arranged By Shaadi']\n",
            "2:  ['Shaadi.com, Matrimonial', 'Love, Arranged By Shaadi']\n",
            "1:  ['Shapoorji Pallonji, Conglomerate', 'Built To Last Since 1865']\n",
            "2:  ['Shapoorji Pallonji, Conglomerate', 'Built To Last Since 1865']\n",
            "1:  ['Shiv-Naresh, sportswear & Sports equipment', 'From Indian, By Indian, To Indian']\n",
            "2:  ['Shiv-Naresh, sportswear & Sports equipment', 'From Indian, By Indian, To Indian']\n",
            "1:  ['Shoppers Stop, Shop online for the latest apparel, beauty, home decor products', 'Start Something New']\n",
            "2:  ['Shoppers Stop, Shop online for the latest apparel, beauty, home decor products', 'Start Something New']\n",
            "1:  ['Shree Cement, cement', 'The Cement Made Of Trust']\n",
            "2:  ['Shree Cement, cement', 'The Cement Made Of Trust']\n",
            "1:  ['Skipper,  integrated Transmission Tower manufacturing companies', 'Fixed For Life']\n",
            "2:  ['Skipper,  integrated Transmission Tower manufacturing companies', 'Fixed For Life']\n",
            "1:  ['Skybags, Luggage and backpack', ' Arrive In Style']\n",
            "2:  ['Skybags, Luggage and backpack', ' Arrive In Style']\n",
            "1:  ['Skybags, Luggage and backpack', ' Move In Style']\n",
            "2:  ['Skybags, Luggage and backpack', ' Move In Style']\n",
            "1:  ['Skybags, Luggage and backpack', ' My Style My Way']\n",
            "2:  ['Skybags, Luggage and backpack', ' My Style My Way']\n",
            "1:  ['Skybags, Luggage and backpack', ' Play Back To Back']\n",
            "2:  ['Skybags, Luggage and backpack', ' Play Back To Back']\n",
            "1:  ['South Indian Restaurant, Restaurants, dining', 'One thousand flavors in one place']\n",
            "2:  ['South Indian Restaurant, Restaurants, dining', 'One thousand flavors in one place']\n",
            "1:  ['South Indian Restaurant, Restaurants, dining', 'The pleasure of variety on your plate']\n",
            "2:  ['South Indian Restaurant, Restaurants, dining', 'The pleasure of variety on your plate']\n",
            "1:  ['South Indian Restaurant, Restaurants, dining', 'The house of spices']\n",
            "2:  ['South Indian Restaurant, Restaurants, dining', 'The house of spices']\n",
            "1:  ['South Indian Restaurant, Restaurants, dining', 'It is never too spicy']\n",
            "2:  ['South Indian Restaurant, Restaurants, dining', 'It is never too spicy']\n",
            "1:  ['South Indian Restaurant, Restaurants, dining', 'A taste of exotic India']\n",
            "2:  ['South Indian Restaurant, Restaurants, dining', 'A taste of exotic India']\n",
            "1:  ['Indian Restaurant, Restaurants,dining', 'The flavors that will inspire you']\n",
            "2:  ['Indian Restaurant, Restaurants,dining', 'The flavors that will inspire you']\n",
            "1:  ['Indian Restaurant, Restaurants,dining', 'We bet you will not find better']\n",
            "2:  ['Indian Restaurant, Restaurants,dining', 'We bet you will not find better']\n",
            "1:  ['Indian Restaurant, Restaurants,dining', 'Tikki Masala Make You Holla!']\n",
            "2:  ['Indian Restaurant, Restaurants,dining', 'Tikki Masala Make You Holla!']\n",
            "1:  ['Indian Restaurant, Restaurants,dining', 'Viva La Vindaloo Curry!']\n",
            "2:  ['Indian Restaurant, Restaurants,dining', 'Viva La Vindaloo Curry!']\n",
            "1:  ['Indian Restaurant, Restaurants,dining', 'If you are in a hurry, eat our curry.']\n",
            "2:  ['Indian Restaurant, Restaurants,dining', 'If you are in a hurry, eat our curry.']\n",
            "1:  ['Snapdeal, Online shopping, ecommerce', ' Unbox New Snapdeal']\n",
            "2:  ['Snapdeal, Online shopping, ecommerce', ' Unbox New Snapdeal']\n",
            "1:  ['Snicker, Chocolate', ' Hungry? Grab A Snicker']\n",
            "2:  ['Snicker, Chocolate', ' Hungry? Grab A Snicker']\n",
            "1:  ['Snicker, Chocolate', ' You are Not You When You are Hungry']\n",
            "2:  ['Snicker, Chocolate', ' You are Not You When You are Hungry']\n",
            "1:  ['Sonata Watch, Watch', ' A TATA Product']\n",
            "2:  ['Sonata Watch, Watch', ' A TATA Product']\n",
            "1:  ['SouthÂIndian Bank, Bank', 'Experience Next GenerationÂBanking']\n",
            "2:  ['SouthÂIndian Bank, Bank', 'Experience Next GenerationÂBanking']\n",
            "1:  ['SpiceJet, Airline', 'Red. Hot. Spicy']\n",
            "2:  ['SpiceJet, Airline', 'Red. Hot. Spicy']\n",
            "1:  ['Spykar,Textile, dress, apparel, wallets, socks, bags', 'Bring It On']\n",
            "2:  ['Spykar,Textile, dress, apparel, wallets, socks, bags', 'Bring It On']\n",
            "1:  ['Strepsils, Medicine  to soothe and protect the throa', ' First Aid For Sore Throat']\n",
            "2:  ['Strepsils, Medicine  to soothe and protect the throa', ' First Aid For Sore Throat']\n",
            "1:  ['Sunfeast, Biscuit', ' Spread the Smile']\n",
            "2:  ['Sunfeast, Biscuit', ' Spread the Smile']\n",
            "1:  ['Sunlight, Laundry Detergent', 'Spread The Brightness']\n",
            "2:  ['Sunlight, Laundry Detergent', 'Spread The Brightness']\n",
            "1:  ['Sunsilk, Shampoo and hair conditioner', ' Every Day is A Good Hair Day With Sunsilk']\n",
            "2:  ['Sunsilk, Shampoo and hair conditioner', ' Every Day is A Good Hair Day With Sunsilk']\n",
            "1:  ['Sunsilk, Shampoo and hair conditioner', ' Life Cannot Wait']\n",
            "2:  ['Sunsilk, Shampoo and hair conditioner', ' Life Cannot Wait']\n",
            "1:  ['Sunsilk, Shampoo and hair conditioner', ' Make Your Hair Happen']\n",
            "2:  ['Sunsilk, Shampoo and hair conditioner', ' Make Your Hair Happen']\n",
            "1:  ['Sunsilk, Shampoo and hair conditioner', ' Wash Out Your Hair Monsters With Sunsilk']\n",
            "2:  ['Sunsilk, Shampoo and hair conditioner', ' Wash Out Your Hair Monsters With Sunsilk']\n",
            "1:  ['Surya Roshni, Lighting products, bulb, light', 'Energising Lifestyles']\n",
            "2:  ['Surya Roshni, Lighting products, bulb, light', 'Energising Lifestyles']\n",
            "1:  ['Surya Roshni, Lighting products, bulb, light', 'Every City Every Home']\n",
            "2:  ['Surya Roshni, Lighting products, bulb, light', 'Every City Every Home']\n",
            "1:  ['Suzlon, Renewable energy producing Wind turbines', 'Powering A Greener Tomorrow']\n",
            "2:  ['Suzlon, Renewable energy producing Wind turbines', 'Powering A Greener Tomorrow']\n",
            "1:  ['Swaraj Mazda, vehicle, automobile', 'Towards New Horizon']\n",
            "2:  ['Swaraj Mazda, vehicle, automobile', 'Towards New Horizon']\n",
            "1:  ['Synthite, Spices', 'Inspired By Nature']\n",
            "2:  ['Synthite, Spices', 'Inspired By Nature']\n",
            "1:  ['Syska, LED Lights', 'Light Years Ahead']\n",
            "2:  ['Syska, LED Lights', 'Light Years Ahead']\n",
            "1:  ['Tata Docomo, Telecom', ' Do The New']\n",
            "2:  ['Tata Docomo, Telecom', ' Do The New']\n",
            "1:  ['Tata Docomo, Telecom', ' Open Up']\n",
            "2:  ['Tata Docomo, Telecom', ' Open Up']\n",
            "1:  ['Tata Group', 'Leadership With Trust']\n",
            "2:  ['Tata Group', 'Leadership With Trust']\n",
            "1:  ['Tata Indica', 'More Car Per Car']\n",
            "2:  ['Tata Indica', 'More Car Per Car']\n",
            "1:  ['Tata Motors', 'Connecting Aspiration']\n",
            "2:  ['Tata Motors', 'Connecting Aspiration']\n",
            "1:  ['Tata Safari', 'Reclaim Your Life']\n",
            "2:  ['Tata Safari', 'Reclaim Your Life']\n",
            "1:  ['Tata Salt, Salt', ' Iodised Salt']\n",
            "2:  ['Tata Salt, Salt', ' Iodised Salt']\n",
            "1:  ['Tetley, Green Tea', ' Deliciously Refreshing.. That is Better!']\n",
            "2:  ['Tetley, Green Tea', ' Deliciously Refreshing.. That is Better!']\n",
            "1:  ['Tetley, Green Tea', ' Detox With The Rejuvenating Taste Of Tetley Green Tea']\n",
            "2:  ['Tetley, Green Tea', ' Detox With The Rejuvenating Taste Of Tetley Green Tea']\n",
            "1:  ['Boutique', 'Keeping the individuality, working on taste']\n",
            "2:  ['Boutique', 'Keeping the individuality, working on taste']\n",
            "1:  ['Boutique', 'For us, Fashion is the favorite F word']\n",
            "2:  ['Boutique', 'For us, Fashion is the favorite F word']\n",
            "1:  ['Boutique', 'Dont be a dead fish and go with the flow']\n",
            "2:  ['Boutique', 'Dont be a dead fish and go with the flow']\n",
            "1:  ['Boutique', 'Classy since previous life']\n",
            "2:  ['Boutique', 'Classy since previous life']\n",
            "1:  ['Boutique', 'A tinge of your own taste']\n",
            "2:  ['Boutique', 'A tinge of your own taste']\n",
            "1:  ['Boutique', 'Dont be model be a princess']\n",
            "2:  ['Boutique', 'Dont be model be a princess']\n",
            "1:  ['Boutique', 'We only make your dreams materialistic']\n",
            "2:  ['Boutique', 'We only make your dreams materialistic']\n",
            "1:  ['Boutique', 'You want it, weve got it']\n",
            "2:  ['Boutique', 'You want it, weve got it']\n",
            "1:  ['Boutique', 'Where your fashion journey begins']\n",
            "2:  ['Boutique', 'Where your fashion journey begins']\n",
            "1:  ['Tetley, Green Tea', ' Make Time Make Tetley']\n",
            "2:  ['Tetley, Green Tea', ' Make Time Make Tetley']\n",
            "1:  ['TCS, IT software', ' Beyond The Obvious']\n",
            "2:  ['TCS, IT software', ' Beyond The Obvious']\n",
            "1:  ['TCS, IT software', ' Experience Certainty']\n",
            "2:  ['TCS, IT software', ' Experience Certainty']\n",
            "1:  ['TCS, IT software', ' Experience Energy']\n",
            "2:  ['TCS, IT software', ' Experience Energy']\n",
            "1:  ['The Indian Express, Newspaper', 'Journalism Of Courage']\n",
            "2:  ['The Indian Express, Newspaper', 'Journalism Of Courage']\n",
            "1:  ['Thermax, Energy Segment Products, Energy, Environment and Chemical', 'Water & Waste Solutions']\n",
            "2:  ['Thermax, Energy Segment Products, Energy, Environment and Chemical', 'Water & Waste Solutions']\n",
            "1:  ['Thumbs Up,  Carbonated Drinks', ' Anything For My Thumbs Up']\n",
            "2:  ['Thumbs Up,  Carbonated Drinks', ' Anything For My Thumbs Up']\n",
            "1:  ['Thumbs Up,  Carbonated Drinks', ' Happy Days Are Here Again']\n",
            "2:  ['Thumbs Up,  Carbonated Drinks', ' Happy Days Are Here Again']\n",
            "1:  ['Thumbs Up,  Carbonated Drinks', ' Taste The Thunder']\n",
            "2:  ['Thumbs Up,  Carbonated Drinks', ' Taste The Thunder']\n",
            "1:  ['Tic Tac, small, hard mint', ' It is Not Just A Mint It is A Tic Tac']\n",
            "2:  ['Tic Tac, small, hard mint', ' It is Not Just A Mint It is A Tic Tac']\n",
            "1:  ['Tic Tac, small, hard mint', ' Refreshment To Be Shared']\n",
            "2:  ['Tic Tac, small, hard mint', ' Refreshment To Be Shared']\n",
            "1:  ['Tic Tac, small, hard mint', ' The 100 percent Calorie Breath Mint']\n",
            "2:  ['Tic Tac, small, hard mint', ' The 100 percent Calorie Breath Mint']\n",
            "1:  ['Tic Tac, small, hard mint', ' Two Hours OfTic TacFreshness In Less Than Two Calories']\n",
            "2:  ['Tic Tac, small, hard mint', ' Two Hours OfTic TacFreshness In Less Than Two Calories']\n",
            "1:  ['Tide, laundry detergent', ' Dirt Cannot Hide From IntensifiedTide']\n",
            "2:  ['Tide, laundry detergent', ' Dirt Cannot Hide From IntensifiedTide']\n",
            "1:  ['Tide, laundry detergent', ' If It has Got To Be clean It has Got To Be Tide']\n",
            "2:  ['Tide, laundry detergent', ' If It has Got To Be clean It has Got To Be Tide']\n",
            "1:  ['Tide, laundry detergent', ' TideIn Dirt Out']\n",
            "2:  ['Tide, laundry detergent', ' TideIn Dirt Out']\n",
            "1:  ['Uncle Chips, Potato chips', 'I Love Uncle Chipps']\n",
            "2:  ['Uncle Chips, Potato chips', 'I Love Uncle Chipps']\n",
            "1:  ['Union Bank of India, Bank', 'Good People toBankWith']\n",
            "2:  ['Union Bank of India, Bank', 'Good People toBankWith']\n",
            "1:  ['Vadilal, icecream', ' The Best Part Of Everyday']\n",
            "2:  ['Vadilal, icecream', ' The Best Part Of Everyday']\n",
            "1:  ['Vadilal, icecream', ' The Ice Cream Expert']\n",
            "2:  ['Vadilal, icecream', ' The Ice Cream Expert']\n",
            "1:  ['Vedanta,  minerals, oil and gas', 'Transforming Elements']\n",
            "2:  ['Vedanta,  minerals, oil and gas', 'Transforming Elements']\n",
            "1:  ['Vestige, health and personal care products', 'Wish You Wellth']\n",
            "2:  ['Vestige, health and personal care products', 'Wish You Wellth']\n",
            "1:  ['Vicco, Indian Ayurvedic herbal hygiene, healthcare and other products', ' ViccoTurmeric Ayurvedic Cream']\n",
            "2:  ['Vicco, Indian Ayurvedic herbal hygiene, healthcare and other products', ' ViccoTurmeric Ayurvedic Cream']\n",
            "1:  ['Vicks, Cough, Cold, Flu treatment, and allergy medicine to get effective relief for symptoms like sinus & nasal congestion, sore throat, fever, and more', ' Breathe Life In']\n",
            "2:  ['Vicks, Cough, Cold, Flu treatment, and allergy medicine to get effective relief for symptoms like sinus & nasal congestion, sore throat, fever, and more', ' Breathe Life In']\n",
            "1:  ['Vicks, Cough, Cold, Flu treatment, and allergy medicine to get effective relief for symptoms like sinus & nasal congestion, sore throat, fever, and more', ' Everyone Deserves The Touch Of Care']\n",
            "2:  ['Vicks, Cough, Cold, Flu treatment, and allergy medicine to get effective relief for symptoms like sinus & nasal congestion, sore throat, fever, and more', ' Everyone Deserves The Touch Of Care']\n",
            "1:  ['Videocon, products in televisions washing machines air-conditioners refrigerators audio products home theatre systems ', ' Experience Change']\n",
            "2:  ['Videocon, products in televisions washing machines air-conditioners refrigerators audio products home theatre systems ', ' Experience Change']\n",
            "1:  ['Vijaya Bank, Bank', 'A Friend You Can Bank Upon']\n",
            "2:  ['Vijaya Bank, Bank', 'A Friend You Can Bank Upon']\n",
            "1:  ['Vim, hand dishwashing products', ' Best Ever Vim bar']\n",
            "2:  ['Vim, hand dishwashing products', ' Best Ever Vim bar']\n",
            "1:  ['Vim, hand dishwashing products', ' The Power Of 100 Lemons']\n",
            "2:  ['Vim, hand dishwashing products', ' The Power Of 100 Lemons']\n",
            "1:  ['VIP, luggage and travel', ' Hello Holidays']\n",
            "2:  ['VIP, luggage and travel', ' Hello Holidays']\n",
            "1:  ['VIP, luggage and travel', ' Happy Journey']\n",
            "2:  ['VIP, luggage and travel', ' Happy Journey']\n",
            "1:  ['Vizag Steel,  Steel Plant', 'Pride of Steel']\n",
            "2:  ['Vizag Steel,  Steel Plant', 'Pride of Steel']\n",
            "1:  ['Vodafone, multinational telecommunications companythat offers voice, messaging, and data services across mobile and fixed networks; fixed broadband and TV', 'Power To You']\n",
            "2:  ['Vodafone, multinational telecommunications companythat offers voice, messaging, and data services across mobile and fixed networks; fixed broadband and TV', 'Power To You']\n",
            "1:  ['Vodafone, multinational telecommunications companythat offers voice, messaging, and data services across mobile and fixed networks; fixed broadband and TV', 'The Future Is Exciting. Ready?']\n",
            "2:  ['Vodafone, multinational telecommunications companythat offers voice, messaging, and data services across mobile and fixed networks; fixed broadband and TV', 'The Future Is Exciting. Ready?']\n",
            "1:  ['Westside, Online Shop clothing, dresses, kurtis, tops, footwear, bags, jeans, shirts & home products', 'Endless Possibilities']\n",
            "2:  ['Westside, Online Shop clothing, dresses, kurtis, tops, footwear, bags, jeans, shirts & home products', 'Endless Possibilities']\n",
            "1:  ['Whirlpool, Home, Kitchen & Laundry Appliances and Products', 'Every Day, Care']\n",
            "2:  ['Whirlpool, Home, Kitchen & Laundry Appliances and Products', 'Every Day, Care']\n",
            "1:  ['Wildcraft, Online Shop for shoes, apparel, bags, footwear,backpacks', 'Come Alive']\n",
            "2:  ['Wildcraft, Online Shop for shoes, apparel, bags, footwear,backpacks', 'Come Alive']\n",
            "1:  ['Wills Navy Cut, brand of cigarette', 'Made For Each Other']\n",
            "2:  ['Wills Navy Cut, brand of cigarette', 'Made For Each Other']\n",
            "1:  ['Wills Lifestyle, online clothing, apparel store', 'Enjoy The Change']\n",
            "2:  ['Wills Lifestyle, online clothing, apparel store', 'Enjoy The Change']\n",
            "1:  ['Wipro,  IT sofware', 'Applying Thought']\n",
            "2:  ['Wipro,  IT sofware', 'Applying Thought']\n",
            "1:  ['Woodland, Shop for shoes, apparel, bags, watches, mobiles', 'Bred For Adventure Lovers']\n",
            "2:  ['Woodland, Shop for shoes, apparel, bags, watches, mobiles', 'Bred For Adventure Lovers']\n",
            "1:  ['XOLO, latest android mobile phones', 'The Next Level']\n",
            "2:  ['XOLO, latest android mobile phones', 'The Next Level']\n",
            "1:  ['Yatra.com, Book a Airline ticket', 'Creating Happy Travellers']\n",
            "2:  ['Yatra.com, Book a Airline ticket', 'Creating Happy Travellers']\n",
            "1:  ['Yatra.com, Book a Airline ticket', 'Ehsaan Mat Lo, Discount Lo']\n",
            "2:  ['Yatra.com, Book a Airline ticket', 'Ehsaan Mat Lo, Discount Lo']\n",
            "1:  ['Yatra.com, Book a Airline ticket', 'Smarter Way To Travel']\n",
            "2:  ['Yatra.com, Book a Airline ticket', 'Smarter Way To Travel']\n",
            "1:  ['Yatra.com, Book a Airline ticket', 'Travel O Dance WithYatra.com']\n",
            "2:  ['Yatra.com, Book a Airline ticket', 'Travel O Dance WithYatra.com']\n",
            "1:  ['Yebhi, Online Shop for shoes, apparel, bags, watches, mobiles', 'A Better Life. A Click Away']\n",
            "2:  ['Yebhi, Online Shop for shoes, apparel, bags, watches, mobiles', 'A Better Life. A Click Away']\n",
            "1:  ['Yebhi, Online Shop for shoes, apparel, bags, watches, mobiles', 'Discover Fashion']\n",
            "2:  ['Yebhi, Online Shop for shoes, apparel, bags, watches, mobiles', 'Discover Fashion']\n",
            "1:  ['Yepme, online shop for clothes, shoes, apparel', 'Indias First Online Fashion Brand']\n",
            "2:  ['Yepme, online shop for clothes, shoes, apparel', 'Indias First Online Fashion Brand']\n",
            "1:  ['Yes Bank, Bank', 'Experience Our Expertise']\n",
            "2:  ['Yes Bank, Bank', 'Experience Our Expertise']\n",
            "1:  ['Zandu Balm, relieving balm for headache, body ache and cold remedy', 'Ek Balm Teen Kaam']\n",
            "2:  ['Zandu Balm, relieving balm for headache, body ache and cold remedy', 'Ek Balm Teen Kaam']\n",
            "1:  ['Zandu Balm, relieving balm for headache, body ache and cold remedy', 'Fast Action Fast Absorption']\n",
            "2:  ['Zandu Balm, relieving balm for headache, body ache and cold remedy', 'Fast Action Fast Absorption']\n",
            "1:  ['Zappos, online shoes and cloth retailer', 'Delivering Happiness']\n",
            "2:  ['Zappos, online shoes and cloth retailer', 'Delivering Happiness']\n",
            "1:  ['Zerodha, online stock trading', 'The Discount Brokerage']\n",
            "2:  ['Zerodha, online stock trading', 'The Discount Brokerage']\n",
            "1:  ['ZOHO, IT software', 'Work Online']\n",
            "2:  ['ZOHO, IT software', 'Work Online']\n",
            "1:  ['Zomato, online food delivery', 'Discover Great Places To Eat Around You']\n",
            "2:  ['Zomato, online food delivery', 'Discover Great Places To Eat Around You']\n",
            "1:  ['Zomato, online food delivery', 'Every Meal Matters']\n",
            "2:  ['Zomato, online food delivery', 'Every Meal Matters']\n",
            "1:  ['Zomato, online food delivery', 'Never Have A Bad Meal']\n",
            "2:  ['Zomato, online food delivery', 'Never Have A Bad Meal']\n",
            "1:  ['7up, lemon-lime-flavored non-caffeinated soft drink', 'Dil Bole I Feel Up']\n",
            "2:  ['7up, lemon-lime-flavored non-caffeinated soft drink', 'Dil Bole I Feel Up']\n",
            "1:  ['7up, lemon-lime-flavored non-caffeinated soft drink', 'I Feel Up']\n",
            "2:  ['7up, lemon-lime-flavored non-caffeinated soft drink', 'I Feel Up']\n",
            "1:  ['7up, lemon-lime-flavored non-caffeinated soft drink', 'You Like It, It Likes You']\n",
            "2:  ['7up, lemon-lime-flavored non-caffeinated soft drink', 'You Like It, It Likes You']\n",
            "1:  ['South Indian Restaurant, Restaurants, dining', 'From the south to your mouth']\n",
            "2:  ['South Indian Restaurant, Restaurants, dining', 'From the south to your mouth']\n",
            "1:  ['South Indian Restaurant, Restaurants, dining', 'We put the coconut in curry']\n",
            "2:  ['South Indian Restaurant, Restaurants, dining', 'We put the coconut in curry']\n",
            "1:  ['South Indian Restaurant, Restaurants, dining', 'Because vegetables are the key']\n",
            "2:  ['South Indian Restaurant, Restaurants, dining', 'Because vegetables are the key']\n",
            "1:  ['South Indian Restaurant, Restaurants, dining', 'The Essence of Delicious India']\n",
            "2:  ['South Indian Restaurant, Restaurants, dining', 'The Essence of Delicious India']\n",
            "1:  ['South Indian Restaurant, Restaurants, dining', 'The Land of Spices']\n",
            "2:  ['South Indian Restaurant, Restaurants, dining', 'The Land of Spices']\n",
            "1:  ['South Indian Restaurant, Restaurants, dining', 'A New Indian Experience']\n",
            "2:  ['South Indian Restaurant, Restaurants, dining', 'A New Indian Experience']\n",
            "1:  ['South Indian Restaurant, Restaurants, dining', 'The Heart of Incredible India']\n",
            "2:  ['South Indian Restaurant, Restaurants, dining', 'The Heart of Incredible India']\n",
            "1:  ['South Indian Restaurant, Restaurants, dining', 'Half Way To Heaven']\n",
            "2:  ['South Indian Restaurant, Restaurants, dining', 'Half Way To Heaven']\n",
            "1:  ['South Indian Restaurant, Restaurants, dining', 'Succulent southern specialties']\n",
            "2:  ['South Indian Restaurant, Restaurants, dining', 'Succulent southern specialties']\n",
            "1:  ['South Indian Restaurant, Restaurants, dining', 'Truly Indian']\n",
            "2:  ['South Indian Restaurant, Restaurants, dining', 'Truly Indian']\n",
            "1:  ['South Indian Restaurant, Restaurants, dining', 'Bhaarat ka masaala']\n",
            "2:  ['South Indian Restaurant, Restaurants, dining', 'Bhaarat ka masaala']\n",
            "1:  ['South Indian Restaurant, Restaurants, dining', 'Masaalon ka svaad']\n",
            "2:  ['South Indian Restaurant, Restaurants, dining', 'Masaalon ka svaad']\n",
            "1:  ['Indian Restaurant, Restaurants,dining', 'It is probably Paneer.']\n",
            "2:  ['Indian Restaurant, Restaurants,dining', 'It is probably Paneer.']\n",
            "1:  ['Indian Restaurant, Restaurants,dining', 'Worries go down better with soup.']\n",
            "2:  ['Indian Restaurant, Restaurants,dining', 'Worries go down better with soup.']\n",
            "1:  ['Indian Restaurant, Restaurants,dining', 'So long as you have food in your mouth, you have solved all the problems for the time being.']\n",
            "2:  ['Indian Restaurant, Restaurants,dining', 'So long as you have food in your mouth, you have solved all the problems for the time being.']\n",
            "1:  ['Indian Restaurant, Restaurants,dining', 'Enjoy the aromas of India']\n",
            "2:  ['Indian Restaurant, Restaurants,dining', 'Enjoy the aromas of India']\n",
            "1:  ['Indian Restaurant, Restaurants,dining', 'Food is the pulse of India']\n",
            "2:  ['Indian Restaurant, Restaurants,dining', 'Food is the pulse of India']\n",
            "1:  ['Indian Restaurant, Restaurants,dining', 'Its not just about the lentils']\n",
            "2:  ['Indian Restaurant, Restaurants,dining', 'Its not just about the lentils']\n",
            "1:  ['Indian Restaurant, Restaurants,dining', 'Where curry was invented']\n",
            "2:  ['Indian Restaurant, Restaurants,dining', 'Where curry was invented']\n",
            "1:  ['Indian Restaurant, Restaurants,dining', 'Make Your Body Happy']\n",
            "2:  ['Indian Restaurant, Restaurants,dining', 'Make Your Body Happy']\n",
            "1:  ['Indian Restaurant, Restaurants,dining', 'The taste of authentic India']\n",
            "2:  ['Indian Restaurant, Restaurants,dining', 'The taste of authentic India']\n",
            "1:  ['Supermarket, supermarket', 'Always stocked for your needs.']\n",
            "2:  ['Supermarket, supermarket', 'Always stocked for your needs.']\n",
            "1:  ['Supermarket, supermarket', 'Everyone loves a great deal.']\n",
            "2:  ['Supermarket, supermarket', 'Everyone loves a great deal.']\n",
            "1:  ['Supermarket, supermarket', 'We are here to serve only the best products for you.']\n",
            "2:  ['Supermarket, supermarket', 'We are here to serve only the best products for you.']\n",
            "1:  ['Supermarket, supermarket', 'We have it all!']\n",
            "2:  ['Supermarket, supermarket', 'We have it all!']\n",
            "1:  ['Supermarket, supermarket', 'Your needs in just one place.']\n",
            "2:  ['Supermarket, supermarket', 'Your needs in just one place.']\n",
            "1:  ['Supermarket, supermarket', 'We know what you want.']\n",
            "2:  ['Supermarket, supermarket', 'We know what you want.']\n",
            "1:  ['Supermarket, supermarket', 'Search no more!']\n",
            "2:  ['Supermarket, supermarket', 'Search no more!']\n",
            "1:  ['Supermarket, supermarket', 'Look no further! We got everything for you.']\n",
            "2:  ['Supermarket, supermarket', 'Look no further! We got everything for you.']\n",
            "1:  ['Supermarket, supermarket', 'Low low prices await!']\n",
            "2:  ['Supermarket, supermarket', 'Low low prices await!']\n",
            "1:  ['Supermarket, supermarket', 'Grocery shopping has never been this fun!']\n",
            "2:  ['Supermarket, supermarket', 'Grocery shopping has never been this fun!']\n",
            "1:  ['Kirloskar, conglomerates', 'Enriching Lives']\n",
            "2:  ['Kirloskar, conglomerates', 'Enriching Lives']\n",
            "1:  ['Kit Kat, chocolate', 'Break Time, Anytime']\n",
            "2:  ['Kit Kat, chocolate', 'Break Time, Anytime']\n",
            "1:  ['Kit Kat, chocolate', 'Have A Break Have A Kit Kat']\n",
            "2:  ['Kit Kat, chocolate', 'Have A Break Have A Kit Kat']\n",
            "1:  ['Kit Kat, chocolate', 'Kit Kat Break Banta Hai']\n",
            "2:  ['Kit Kat, chocolate', 'Kit Kat Break Banta Hai']\n",
            "1:  ['Kokuyo Camlin, stationery', 'Colors That Create Magic']\n",
            "2:  ['Kokuyo Camlin, stationery', 'Colors That Create Magic']\n",
            "1:  ['Kokuyo Camlin, stationery', 'Everyday In Every Way']\n",
            "2:  ['Kokuyo Camlin, stationery', 'Everyday In Every Way']\n",
            "1:  ['Kokuyo Camlin, stationery', 'Making Learning Fun']\n",
            "2:  ['Kokuyo Camlin, stationery', 'Making Learning Fun']\n",
            "1:  ['Kokuyo Camlin, stationery', 'No. 1 Brand Of Mechanical Pencils']\n",
            "2:  ['Kokuyo Camlin, stationery', 'No. 1 Brand Of Mechanical Pencils']\n",
            "1:  ['Kotak Mahindra Bank, Bank', 'Lets Make Money Simple']\n",
            "2:  ['Kotak Mahindra Bank, Bank', 'Lets Make Money Simple']\n",
            "1:  ['krack Jack, Food, Biscuits', 'IndiasFirst & Original Sweet And Salty Biscuit']\n",
            "2:  ['krack Jack, Food, Biscuits', 'IndiasFirst & Original Sweet And Salty Biscuit']\n",
            "1:  ['Kurkure, snack, food', 'Spend Time With Family']\n",
            "2:  ['Kurkure, snack, food', 'Spend Time With Family']\n",
            "1:  ['L&T, Engineering ', 'It is All About Imagineering']\n",
            "2:  ['L&T, Engineering ', 'It is All About Imagineering']\n",
            "1:  ['Supermarket, supermarket', 'Best deals all year round!']\n",
            "2:  ['Supermarket, supermarket', 'Best deals all year round!']\n",
            "1:  ['Barbeque tools, grills and utensils', 'Endless Possibilities With Grill.']\n",
            "2:  ['Barbeque tools, grills and utensils', 'Endless Possibilities With Grill.']\n",
            "1:  ['Barbeque tools, grills and utensils', \"Grill It's Guaranteed.\"]\n",
            "2:  ['Barbeque tools, grills and utensils', \"Grill It's Guaranteed.\"]\n",
            "1:  ['Barbeque tools, grills and utensils', \"Everyone's Favourite Grill.\"]\n",
            "2:  ['Barbeque tools, grills and utensils', \"Everyone's Favourite Grill.\"]\n",
            "1:  ['Barbeque tools, grills and utensils', 'Best And Meshed']\n",
            "2:  ['Barbeque tools, grills and utensils', 'Best And Meshed']\n",
            "1:  ['Barbeque tools, grills and utensils', 'Cuts Barbeque Time In Half.']\n",
            "2:  ['Barbeque tools, grills and utensils', 'Cuts Barbeque Time In Half.']\n",
            "1:  ['Barbeque tools, grills and utensils', 'Grill For The Masses.']\n",
            "2:  ['Barbeque tools, grills and utensils', 'Grill For The Masses.']\n",
            "1:  ['Office Furniture, furniture', 'Solving the work place puzzle, piece by piece.']\n",
            "2:  ['Office Furniture, furniture', 'Solving the work place puzzle, piece by piece.']\n",
            "1:  ['Office Furniture, furniture', 'From emptiness to effect. Furniture that functions.']\n",
            "2:  ['Office Furniture, furniture', 'From emptiness to effect. Furniture that functions.']\n",
            "1:  ['Office Furniture, furniture', 'That can make your work hours comfortable']\n",
            "2:  ['Office Furniture, furniture', 'That can make your work hours comfortable']\n",
            "1:  ['Titan, Watches, Jewellery, Precision engineering, Bags, Perfumes, Belts, Wallets and Eyewear', 'Be More']\n",
            "2:  ['Titan, Watches, Jewellery, Precision engineering, Bags, Perfumes, Belts, Wallets and Eyewear', 'Be More']\n",
            "1:  ['Tropicana, Juice and Juiece drink products', ' Let us Make Breakfast 100%']\n",
            "2:  ['Tropicana, Juice and Juiece drink products', ' Let us Make Breakfast 100%']\n",
            "1:  ['Tropicana, Juice and Juiece drink products', ' Squeeze It is Natural']\n",
            "2:  ['Tropicana, Juice and Juiece drink products', ' Squeeze It is Natural']\n",
            "1:  ['Tropicana, Juice and Juiece drink products', ' We Put The Good In Morning']\n",
            "2:  ['Tropicana, Juice and Juiece drink products', ' We Put The Good In Morning']\n",
            "1:  ['TVSMotor, Two-wheeler Three-wheeler Automobile parts and vehicle services', ' Joy Of Ride']\n",
            "2:  ['TVSMotor, Two-wheeler Three-wheeler Automobile parts and vehicle services', ' Joy Of Ride']\n",
            "1:  ['UCO Bank, Bank', 'Honours Your Trust']\n",
            "2:  ['UCO Bank, Bank', 'Honours Your Trust']\n",
            "1:  ['Ujala, Detergents, Fabric Whitener and Fabric Stiffener', ' Rise And Shine With Confidence']\n",
            "2:  ['Ujala, Detergents, Fabric Whitener and Fabric Stiffener', ' Rise And Shine With Confidence']\n",
            "1:  ['UltraTech, Cement ', 'Build Beautiful']\n",
            "2:  ['UltraTech, Cement ', 'Build Beautiful']\n",
            "1:  ['Office Furniture, furniture', 'Your office makeover specialist']\n",
            "2:  ['Office Furniture, furniture', 'Your office makeover specialist']\n",
            "1:  ['Boutique', 'Never out of trend']\n",
            "2:  ['Boutique', 'Never out of trend']\n",
            "1:  ['Boutique', 'Be the trendsetter']\n",
            "2:  ['Boutique', 'Be the trendsetter']\n",
            "1:  ['Boutique', 'Full of young charm']\n",
            "2:  ['Boutique', 'Full of young charm']\n",
            "1:  ['Boutique', 'A store that wardrobe loves']\n",
            "2:  ['Boutique', 'A store that wardrobe loves']\n",
            "1:  ['Boutique', 'Unlock your style']\n",
            "2:  ['Boutique', 'Unlock your style']\n",
            "1:  ['Boutique', 'Your thoughts, our execution']\n",
            "2:  ['Boutique', 'Your thoughts, our execution']\n",
            "1:  ['Boutique', 'Discover the inner Diva']\n",
            "2:  ['Boutique', 'Discover the inner Diva']\n",
            "1:  ['Boutique', 'Dress pretty, feel pretty']\n",
            "2:  ['Boutique', 'Dress pretty, feel pretty']\n",
            "1:  ['Boutique', 'Unique style for Discerning taste']\n",
            "2:  ['Boutique', 'Unique style for Discerning taste']\n",
            "1:  ['Boutique', 'Classy fashion for Selective Women']\n",
            "2:  ['Boutique', 'Classy fashion for Selective Women']\n",
            "1:  ['Boutique', 'Get yourself layered with style']\n",
            "2:  ['Boutique', 'Get yourself layered with style']\n",
            "1:  ['Boutique', 'Your search ends here']\n",
            "2:  ['Boutique', 'Your search ends here']\n",
            "1:  ['Park Avenue, fabric, styling, palettes and trends', 'Play the Lead']\n",
            "2:  ['Park Avenue, fabric, styling, palettes and trends', 'Play the Lead']\n",
            "1:  ['Parle, Food, Biscuit', 'The Tasty Healthy Food']\n",
            "2:  ['Parle, Food, Biscuit', 'The Tasty Healthy Food']\n",
            "1:  ['Parle-G, Food, Biscuit', 'The Tasty Healthy Food']\n",
            "2:  ['Parle-G, Food, Biscuit', 'The Tasty Healthy Food']\n",
            "1:  ['Parx, fabric and fashion retailer,garment, apparel, dress', 'Live Easy']\n",
            "2:  ['Parx, fabric and fashion retailer,garment, apparel, dress', 'Live Easy']\n",
            "1:  ['Pears,Soap, shampoo, hand wash', 'Pure & Gentle']\n",
            "2:  ['Pears,Soap, shampoo, hand wash', 'Pure & Gentle']\n",
            "1:  ['Pepperfry, Furniture', 'Happy Furniture to You']\n",
            "2:  ['Pepperfry, Furniture', 'Happy Furniture to You']\n",
            "1:  ['Pepsi, Carbonated soda drink,beverages', 'Be Young, Have Fun, Drink Pepsi']\n",
            "2:  ['Pepsi, Carbonated soda drink,beverages', 'Be Young, Have Fun, Drink Pepsi']\n",
            "1:  ['Pepsi, Carbonated soda drink,beverages', 'Change The Game']\n",
            "2:  ['Pepsi, Carbonated soda drink,beverages', 'Change The Game']\n",
            "1:  ['Pepsi, Carbonated soda drink,beverages', 'Here, It is Pepsi']\n",
            "2:  ['Pepsi, Carbonated soda drink,beverages', 'Here, It is Pepsi']\n",
            "1:  ['Boutique', 'Never let your fashion sleep']\n",
            "2:  ['Boutique', 'Never let your fashion sleep']\n",
            "1:  ['Boutique', 'My language is fashion']\n",
            "2:  ['Boutique', 'My language is fashion']\n",
            "1:  ['Boutique', 'Fashion or passion? Get both']\n",
            "2:  ['Boutique', 'Fashion or passion? Get both']\n",
            "1:  ['Boutique', 'As gorgeous as you']\n",
            "2:  ['Boutique', 'As gorgeous as you']\n",
            "1:  ['Boutique', 'Win the everyday beauty contest']\n",
            "2:  ['Boutique', 'Win the everyday beauty contest']\n",
            "1:  ['Academy, Education', 'A Great Place For Education']\n",
            "2:  ['Academy, Education', 'A Great Place For Education']\n",
            "1:  ['Academy, Education', 'A Great Place To Learn.']\n",
            "2:  ['Academy, Education', 'A Great Place To Learn.']\n",
            "1:  ['Academy, Education', 'A Quality School.']\n",
            "2:  ['Academy, Education', 'A Quality School.']\n",
            "1:  ['Academy, Education', 'Academy Attitude Positive Attitude.']\n",
            "2:  ['Academy, Education', 'Academy Attitude Positive Attitude.']\n",
            "1:  ['Academy, Education', 'Achieving High Standards.']\n",
            "2:  ['Academy, Education', 'Achieving High Standards.']\n",
            "1:  ['Trading', 'Your financial advisor']\n",
            "2:  ['Trading', 'Your financial advisor']\n",
            "1:  ['Trading', 'We only offer stocks worth buying']\n",
            "2:  ['Trading', 'We only offer stocks worth buying']\n",
            "1:  ['Trading', 'Helping out with stocks']\n",
            "2:  ['Trading', 'Helping out with stocks']\n",
            "1:  ['Trading', 'Where Trading is a Pleasure.']\n",
            "2:  ['Trading', 'Where Trading is a Pleasure.']\n"
          ],
          "name": "stdout"
        }
      ]
    },
    {
      "cell_type": "code",
      "metadata": {
        "id": "aPLxCHp2fH69"
      },
      "source": [
        "import math, random\n",
        "from torch.utils.data import DataLoader\n",
        "from torch.utils.data.sampler import SubsetRandomSampler\n",
        "\n",
        "# Create data indices for training and validation splits:\n",
        "\n",
        "indices = list(range(len(slogan_dataset)))\n",
        "\n",
        "random.seed(42)\n",
        "random.shuffle(indices)\n",
        "\n",
        "split = math.floor(0.1 * len(slogan_dataset))\n",
        "train_indices, val_indices = indices[split:], indices[:split]\n",
        "\n",
        "# Build the PyTorch data loaders:\n",
        "\n",
        "train_sampler = SubsetRandomSampler(train_indices)\n",
        "val_sampler = SubsetRandomSampler(val_indices)\n",
        "\n",
        "train_loader = DataLoader(slogan_dataset, batch_size=32, sampler=train_sampler)\n",
        "val_loader = DataLoader(slogan_dataset, batch_size=64, sampler=val_sampler)"
      ],
      "execution_count": 44,
      "outputs": []
    },
    {
      "cell_type": "code",
      "metadata": {
        "id": "hp5YimMcfaXf"
      },
      "source": [
        "import numpy as np\n",
        "from tqdm import tqdm\n",
        "def fit(model, optimizer, train_dl, val_dl, epochs=1, device=torch.device('cpu')):\n",
        "\n",
        "  for i in range(epochs):\n",
        "\n",
        "    print('\\n--- Starting epoch #{} ---'.format(i))\n",
        "\n",
        "    model.train()\n",
        "\n",
        "    # These 2 lists will keep track of the batch losses and batch sizes over one epoch:\n",
        "    losses = []\n",
        "    nums = []\n",
        "\n",
        "    for xb in tqdm(train_dl, desc=\"Training\"):\n",
        "      # Move the batch to the training device:\n",
        "      print(len(xb))\n",
        "      inputs = xb.to(device)\n",
        "      print(inputs[:,1,:])\n",
        "      # Call the model with the token ids, segment ids, and the ground truth (labels)\n",
        "      outputs = model(inputs[:,0,:], token_type_ids=inputs[:,1,:], labels=inputs[:,2,:])\n",
        "\n",
        "      # Add the loss and batch size to the list:\n",
        "      loss = outputs[0]\n",
        "      losses.append(loss.item())\n",
        "      nums.append(len(xb))\n",
        "\n",
        "      loss.backward()\n",
        "\n",
        "      optimizer.step()\n",
        "      model.zero_grad()\n",
        "\n",
        "    # Compute the average cost over one epoch:\n",
        "    train_cost = np.sum(np.multiply(losses, nums)) / sum(nums)\n",
        "\n",
        "\n",
        "    # Now do the same thing for validation:\n",
        "\n",
        "    model.eval()\n",
        "\n",
        "    with torch.no_grad():\n",
        "      losses = []\n",
        "      nums = []\n",
        "\n",
        "      for xb in tqdm(val_dl, desc=\"Validation\"):\n",
        "        inputs = xb.to(device)\n",
        "        outputs = model(inputs[:,0,:], token_type_ids=inputs[:,1,:], labels=inputs[:,2,:])\n",
        "        losses.append(outputs[0].item())\n",
        "        nums.append(len(xb))\n",
        "\n",
        "    val_cost = np.sum(np.multiply(losses, nums)) / sum(nums)\n",
        "\n",
        "    print('\\n--- Epoch #{} finished --- Training cost: {} / Validation cost: {}'.format(i, train_cost, val_cost))"
      ],
      "execution_count": 45,
      "outputs": []
    },
    {
      "cell_type": "code",
      "metadata": {
        "colab": {
          "base_uri": "https://localhost:8080/"
        },
        "id": "E6pDYy0JfcZS",
        "outputId": "06c0fc4f-7dcd-4d86-e453-bffd20bbe148"
      },
      "source": [
        "from transformers import AdamW\n",
        "\n",
        "# Move the model to the GPU:\n",
        "device = torch.device('cuda')\n",
        "model.to(device)\n",
        "\n",
        "# Fine-tune GPT2 for two epochs:\n",
        "optimizer = AdamW(model.parameters())\n",
        "fit(model, optimizer, train_loader, val_loader, epochs=2, device=device)"
      ],
      "execution_count": 46,
      "outputs": [
        {
          "output_type": "stream",
          "text": [
            "\rTraining:   0%|          | 0/287 [00:00<?, ?it/s]"
          ],
          "name": "stderr"
        },
        {
          "output_type": "stream",
          "text": [
            "\n",
            "--- Starting epoch #0 ---\n",
            "32\n",
            "tensor([[50258, 50258, 50258,  ..., 50259, 50259, 50259],\n",
            "        [50258, 50258, 50258,  ..., 50259, 50259, 50259],\n",
            "        [50258, 50258, 50258,  ..., 50259, 50259, 50259],\n",
            "        ...,\n",
            "        [50258, 50258, 50258,  ..., 50259, 50259, 50259],\n",
            "        [50258, 50258, 50258,  ..., 50259, 50259, 50259],\n",
            "        [50258, 50258, 50258,  ..., 50259, 50259, 50259]], device='cuda:0')\n"
          ],
          "name": "stdout"
        },
        {
          "output_type": "stream",
          "text": [
            "\rTraining:   0%|          | 1/287 [00:00<02:50,  1.68it/s]"
          ],
          "name": "stderr"
        },
        {
          "output_type": "stream",
          "text": [
            "32\n",
            "tensor([[50258, 50258, 50258,  ..., 50259, 50259, 50259],\n",
            "        [50258, 50258, 50258,  ..., 50259, 50259, 50259],\n",
            "        [50258, 50258, 50258,  ..., 50259, 50259, 50259],\n",
            "        ...,\n",
            "        [50258, 50258, 50258,  ..., 50259, 50259, 50259],\n",
            "        [50258, 50258, 50258,  ..., 50259, 50259, 50259],\n",
            "        [50258, 50258, 50258,  ..., 50259, 50259, 50259]], device='cuda:0')\n"
          ],
          "name": "stdout"
        },
        {
          "output_type": "stream",
          "text": [
            "\rTraining:   1%|          | 2/287 [00:01<02:44,  1.74it/s]"
          ],
          "name": "stderr"
        },
        {
          "output_type": "stream",
          "text": [
            "32\n",
            "tensor([[50258, 50258, 50258,  ..., 50259, 50259, 50259],\n",
            "        [50258, 50258, 50258,  ..., 50259, 50259, 50259],\n",
            "        [50258, 50258, 50258,  ..., 50259, 50259, 50259],\n",
            "        ...,\n",
            "        [50258, 50258, 50258,  ..., 50259, 50259, 50259],\n",
            "        [50258, 50258, 50258,  ..., 50259, 50259, 50259],\n",
            "        [50258, 50258, 50258,  ..., 50259, 50259, 50259]], device='cuda:0')\n"
          ],
          "name": "stdout"
        },
        {
          "output_type": "stream",
          "text": [
            "\rTraining:   1%|          | 3/287 [00:01<02:42,  1.75it/s]"
          ],
          "name": "stderr"
        },
        {
          "output_type": "stream",
          "text": [
            "32\n",
            "tensor([[50258, 50258, 50258,  ..., 50259, 50259, 50259],\n",
            "        [50258, 50258, 50258,  ..., 50259, 50259, 50259],\n",
            "        [50258, 50258, 50258,  ..., 50259, 50259, 50259],\n",
            "        ...,\n",
            "        [50258, 50258, 50258,  ..., 50259, 50259, 50259],\n",
            "        [50258, 50258, 50258,  ..., 50259, 50259, 50259],\n",
            "        [50258, 50258, 50258,  ..., 50259, 50259, 50259]], device='cuda:0')\n"
          ],
          "name": "stdout"
        },
        {
          "output_type": "stream",
          "text": [
            "\rTraining:   1%|▏         | 4/287 [00:02<02:38,  1.78it/s]"
          ],
          "name": "stderr"
        },
        {
          "output_type": "stream",
          "text": [
            "32\n",
            "tensor([[50258, 50258, 50258,  ..., 50259, 50259, 50259],\n",
            "        [50258, 50258, 50258,  ..., 50259, 50259, 50259],\n",
            "        [50258, 50258, 50258,  ..., 50259, 50259, 50259],\n",
            "        ...,\n",
            "        [50258, 50258, 50258,  ..., 50259, 50259, 50259],\n",
            "        [50258, 50258, 50258,  ..., 50259, 50259, 50259],\n",
            "        [50258, 50258, 50258,  ..., 50259, 50259, 50259]], device='cuda:0')\n"
          ],
          "name": "stdout"
        },
        {
          "output_type": "stream",
          "text": [
            "\rTraining:   2%|▏         | 5/287 [00:02<02:38,  1.78it/s]"
          ],
          "name": "stderr"
        },
        {
          "output_type": "stream",
          "text": [
            "32\n",
            "tensor([[50258, 50258, 50258,  ..., 50259, 50259, 50259],\n",
            "        [50258, 50258, 50258,  ..., 50259, 50259, 50259],\n",
            "        [50258, 50258, 50258,  ..., 50259, 50259, 50259],\n",
            "        ...,\n",
            "        [50258, 50258, 50258,  ..., 50259, 50259, 50259],\n",
            "        [50258, 50258, 50258,  ..., 50259, 50259, 50259],\n",
            "        [50258, 50258, 50258,  ..., 50259, 50259, 50259]], device='cuda:0')\n"
          ],
          "name": "stdout"
        },
        {
          "output_type": "stream",
          "text": [
            "\rTraining:   2%|▏         | 6/287 [00:03<02:36,  1.79it/s]"
          ],
          "name": "stderr"
        },
        {
          "output_type": "stream",
          "text": [
            "32\n",
            "tensor([[50258, 50258, 50258,  ..., 50259, 50259, 50259],\n",
            "        [50258, 50258, 50258,  ..., 50259, 50259, 50259],\n",
            "        [50258, 50258, 50258,  ..., 50259, 50259, 50259],\n",
            "        ...,\n",
            "        [50258, 50258, 50258,  ..., 50259, 50259, 50259],\n",
            "        [50258, 50258, 50258,  ..., 50259, 50259, 50259],\n",
            "        [50258, 50258, 50258,  ..., 50259, 50259, 50259]], device='cuda:0')\n"
          ],
          "name": "stdout"
        },
        {
          "output_type": "stream",
          "text": [
            "\rTraining:   2%|▏         | 7/287 [00:03<02:35,  1.80it/s]"
          ],
          "name": "stderr"
        },
        {
          "output_type": "stream",
          "text": [
            "32\n",
            "tensor([[50258, 50258, 50258,  ..., 50259, 50259, 50259],\n",
            "        [50258, 50258, 50258,  ..., 50259, 50259, 50259],\n",
            "        [50258, 50258, 50258,  ..., 50259, 50259, 50259],\n",
            "        ...,\n",
            "        [50258, 50258, 50258,  ..., 50259, 50259, 50259],\n",
            "        [50258, 50258, 50258,  ..., 50259, 50259, 50259],\n",
            "        [50258, 50258, 50258,  ..., 50259, 50259, 50259]], device='cuda:0')\n"
          ],
          "name": "stdout"
        },
        {
          "output_type": "stream",
          "text": [
            "\rTraining:   3%|▎         | 8/287 [00:04<02:34,  1.81it/s]"
          ],
          "name": "stderr"
        },
        {
          "output_type": "stream",
          "text": [
            "32\n",
            "tensor([[50258, 50258, 50258,  ..., 50259, 50259, 50259],\n",
            "        [50258, 50258, 50258,  ..., 50259, 50259, 50259],\n",
            "        [50258, 50258, 50258,  ..., 50259, 50259, 50259],\n",
            "        ...,\n",
            "        [50258, 50258, 50258,  ..., 50259, 50259, 50259],\n",
            "        [50258, 50258, 50258,  ..., 50259, 50259, 50259],\n",
            "        [50258, 50258, 50258,  ..., 50259, 50259, 50259]], device='cuda:0')\n"
          ],
          "name": "stdout"
        },
        {
          "output_type": "stream",
          "text": [
            "\rTraining:   3%|▎         | 9/287 [00:04<02:34,  1.80it/s]"
          ],
          "name": "stderr"
        },
        {
          "output_type": "stream",
          "text": [
            "32\n",
            "tensor([[50258, 50258, 50258,  ..., 50259, 50259, 50259],\n",
            "        [50258, 50258, 50258,  ..., 50259, 50259, 50259],\n",
            "        [50258, 50258, 50258,  ..., 50259, 50259, 50259],\n",
            "        ...,\n",
            "        [50258, 50258, 50258,  ..., 50259, 50259, 50259],\n",
            "        [50258, 50258, 50258,  ..., 50259, 50259, 50259],\n",
            "        [50258, 50258, 50258,  ..., 50259, 50259, 50259]], device='cuda:0')\n"
          ],
          "name": "stdout"
        },
        {
          "output_type": "stream",
          "text": [
            "\rTraining:   3%|▎         | 10/287 [00:05<02:33,  1.80it/s]"
          ],
          "name": "stderr"
        },
        {
          "output_type": "stream",
          "text": [
            "32\n",
            "tensor([[50258, 50258, 50258,  ..., 50259, 50259, 50259],\n",
            "        [50258, 50258, 50258,  ..., 50259, 50259, 50259],\n",
            "        [50258, 50258, 50258,  ..., 50259, 50259, 50259],\n",
            "        ...,\n",
            "        [50258, 50258, 50258,  ..., 50259, 50259, 50259],\n",
            "        [50258, 50258, 50258,  ..., 50259, 50259, 50259],\n",
            "        [50258, 50258, 50258,  ..., 50259, 50259, 50259]], device='cuda:0')\n"
          ],
          "name": "stdout"
        },
        {
          "output_type": "stream",
          "text": [
            "\rTraining:   4%|▍         | 11/287 [00:06<02:33,  1.80it/s]"
          ],
          "name": "stderr"
        },
        {
          "output_type": "stream",
          "text": [
            "32\n",
            "tensor([[50258, 50258, 50258,  ..., 50259, 50259, 50259],\n",
            "        [50258, 50258, 50258,  ..., 50259, 50259, 50259],\n",
            "        [50258, 50258, 50258,  ..., 50259, 50259, 50259],\n",
            "        ...,\n",
            "        [50258, 50258, 50258,  ..., 50259, 50259, 50259],\n",
            "        [50258, 50258, 50258,  ..., 50259, 50259, 50259],\n",
            "        [50258, 50258, 50258,  ..., 50259, 50259, 50259]], device='cuda:0')\n"
          ],
          "name": "stdout"
        },
        {
          "output_type": "stream",
          "text": [
            "\rTraining:   4%|▍         | 12/287 [00:06<02:32,  1.80it/s]"
          ],
          "name": "stderr"
        },
        {
          "output_type": "stream",
          "text": [
            "32\n",
            "tensor([[50258, 50258, 50258,  ..., 50259, 50259, 50259],\n",
            "        [50258, 50258, 50258,  ..., 50259, 50259, 50259],\n",
            "        [50258, 50258, 50258,  ..., 50259, 50259, 50259],\n",
            "        ...,\n",
            "        [50258, 50258, 50258,  ..., 50259, 50259, 50259],\n",
            "        [50258, 50258, 50258,  ..., 50259, 50259, 50259],\n",
            "        [50258, 50258, 50258,  ..., 50259, 50259, 50259]], device='cuda:0')\n"
          ],
          "name": "stdout"
        },
        {
          "output_type": "stream",
          "text": [
            "\rTraining:   5%|▍         | 13/287 [00:07<02:31,  1.81it/s]"
          ],
          "name": "stderr"
        },
        {
          "output_type": "stream",
          "text": [
            "32\n",
            "tensor([[50258, 50258, 50258,  ..., 50259, 50259, 50259],\n",
            "        [50258, 50258, 50258,  ..., 50259, 50259, 50259],\n",
            "        [50258, 50258, 50258,  ..., 50259, 50259, 50259],\n",
            "        ...,\n",
            "        [50258, 50258, 50258,  ..., 50259, 50259, 50259],\n",
            "        [50258, 50258, 50258,  ..., 50259, 50259, 50259],\n",
            "        [50258, 50258, 50258,  ..., 50259, 50259, 50259]], device='cuda:0')\n"
          ],
          "name": "stdout"
        },
        {
          "output_type": "stream",
          "text": [
            "\rTraining:   5%|▍         | 14/287 [00:07<02:31,  1.80it/s]"
          ],
          "name": "stderr"
        },
        {
          "output_type": "stream",
          "text": [
            "32\n",
            "tensor([[50258, 50258, 50258,  ..., 50259, 50259, 50259],\n",
            "        [50258, 50258, 50258,  ..., 50259, 50259, 50259],\n",
            "        [50258, 50258, 50258,  ..., 50259, 50259, 50259],\n",
            "        ...,\n",
            "        [50258, 50258, 50258,  ..., 50259, 50259, 50259],\n",
            "        [50258, 50258, 50258,  ..., 50259, 50259, 50259],\n",
            "        [50258, 50258, 50258,  ..., 50259, 50259, 50259]], device='cuda:0')\n"
          ],
          "name": "stdout"
        },
        {
          "output_type": "stream",
          "text": [
            "\rTraining:   5%|▌         | 15/287 [00:08<02:31,  1.79it/s]"
          ],
          "name": "stderr"
        },
        {
          "output_type": "stream",
          "text": [
            "32\n",
            "tensor([[50258, 50258, 50258,  ..., 50259, 50259, 50259],\n",
            "        [50258, 50258, 50258,  ..., 50259, 50259, 50259],\n",
            "        [50258, 50258, 50258,  ..., 50259, 50259, 50259],\n",
            "        ...,\n",
            "        [50258, 50258, 50258,  ..., 50259, 50259, 50259],\n",
            "        [50258, 50258, 50258,  ..., 50259, 50259, 50259],\n",
            "        [50258, 50258, 50258,  ..., 50259, 50259, 50259]], device='cuda:0')\n"
          ],
          "name": "stdout"
        },
        {
          "output_type": "stream",
          "text": [
            "\rTraining:   6%|▌         | 16/287 [00:08<02:31,  1.79it/s]"
          ],
          "name": "stderr"
        },
        {
          "output_type": "stream",
          "text": [
            "32\n",
            "tensor([[50258, 50258, 50258,  ..., 50259, 50259, 50259],\n",
            "        [50258, 50258, 50258,  ..., 50259, 50259, 50259],\n",
            "        [50258, 50258, 50258,  ..., 50259, 50259, 50259],\n",
            "        ...,\n",
            "        [50258, 50258, 50258,  ..., 50259, 50259, 50259],\n",
            "        [50258, 50258, 50258,  ..., 50259, 50259, 50259],\n",
            "        [50258, 50258, 50258,  ..., 50259, 50259, 50259]], device='cuda:0')\n"
          ],
          "name": "stdout"
        },
        {
          "output_type": "stream",
          "text": [
            "\rTraining:   6%|▌         | 17/287 [00:09<02:31,  1.79it/s]"
          ],
          "name": "stderr"
        },
        {
          "output_type": "stream",
          "text": [
            "32\n",
            "tensor([[50258, 50258, 50258,  ..., 50259, 50259, 50259],\n",
            "        [50258, 50258, 50258,  ..., 50259, 50259, 50259],\n",
            "        [50258, 50258, 50258,  ..., 50259, 50259, 50259],\n",
            "        ...,\n",
            "        [50258, 50258, 50258,  ..., 50259, 50259, 50259],\n",
            "        [50258, 50258, 50258,  ..., 50259, 50259, 50259],\n",
            "        [50258, 50258, 50258,  ..., 50259, 50259, 50259]], device='cuda:0')\n"
          ],
          "name": "stdout"
        },
        {
          "output_type": "stream",
          "text": [
            "\rTraining:   6%|▋         | 18/287 [00:10<02:30,  1.79it/s]"
          ],
          "name": "stderr"
        },
        {
          "output_type": "stream",
          "text": [
            "32\n",
            "tensor([[50258, 50258, 50258,  ..., 50259, 50259, 50259],\n",
            "        [50258, 50258, 50258,  ..., 50259, 50259, 50259],\n",
            "        [50258, 50258, 50258,  ..., 50259, 50259, 50259],\n",
            "        ...,\n",
            "        [50258, 50258, 50258,  ..., 50259, 50259, 50259],\n",
            "        [50258, 50258, 50258,  ..., 50259, 50259, 50259],\n",
            "        [50258, 50258, 50258,  ..., 50259, 50259, 50259]], device='cuda:0')\n"
          ],
          "name": "stdout"
        },
        {
          "output_type": "stream",
          "text": [
            "\rTraining:   7%|▋         | 19/287 [00:10<02:30,  1.78it/s]"
          ],
          "name": "stderr"
        },
        {
          "output_type": "stream",
          "text": [
            "32\n",
            "tensor([[50258, 50258, 50258,  ..., 50259, 50259, 50259],\n",
            "        [50258, 50258, 50258,  ..., 50259, 50259, 50259],\n",
            "        [50258, 50258, 50258,  ..., 50259, 50259, 50259],\n",
            "        ...,\n",
            "        [50258, 50258, 50258,  ..., 50259, 50259, 50259],\n",
            "        [50258, 50258, 50258,  ..., 50259, 50259, 50259],\n",
            "        [50258, 50258, 50258,  ..., 50259, 50259, 50259]], device='cuda:0')\n"
          ],
          "name": "stdout"
        },
        {
          "output_type": "stream",
          "text": [
            "\rTraining:   7%|▋         | 20/287 [00:11<02:30,  1.78it/s]"
          ],
          "name": "stderr"
        },
        {
          "output_type": "stream",
          "text": [
            "32\n",
            "tensor([[50258, 50258, 50258,  ..., 50259, 50259, 50259],\n",
            "        [50258, 50258, 50258,  ..., 50259, 50259, 50259],\n",
            "        [50258, 50258, 50258,  ..., 50259, 50259, 50259],\n",
            "        ...,\n",
            "        [50258, 50258, 50258,  ..., 50259, 50259, 50259],\n",
            "        [50258, 50258, 50258,  ..., 50259, 50259, 50259],\n",
            "        [50258, 50258, 50258,  ..., 50259, 50259, 50259]], device='cuda:0')\n"
          ],
          "name": "stdout"
        },
        {
          "output_type": "stream",
          "text": [
            "\rTraining:   7%|▋         | 21/287 [00:11<02:29,  1.78it/s]"
          ],
          "name": "stderr"
        },
        {
          "output_type": "stream",
          "text": [
            "32\n",
            "tensor([[50258, 50258, 50258,  ..., 50259, 50259, 50259],\n",
            "        [50258, 50258, 50258,  ..., 50259, 50259, 50259],\n",
            "        [50258, 50258, 50258,  ..., 50259, 50259, 50259],\n",
            "        ...,\n",
            "        [50258, 50258, 50258,  ..., 50259, 50259, 50259],\n",
            "        [50258, 50258, 50258,  ..., 50259, 50259, 50259],\n",
            "        [50258, 50258, 50258,  ..., 50259, 50259, 50259]], device='cuda:0')\n"
          ],
          "name": "stdout"
        },
        {
          "output_type": "stream",
          "text": [
            "\rTraining:   8%|▊         | 22/287 [00:12<02:29,  1.78it/s]"
          ],
          "name": "stderr"
        },
        {
          "output_type": "stream",
          "text": [
            "32\n",
            "tensor([[50258, 50258, 50258,  ..., 50259, 50259, 50259],\n",
            "        [50258, 50258, 50258,  ..., 50259, 50259, 50259],\n",
            "        [50258, 50258, 50258,  ..., 50259, 50259, 50259],\n",
            "        ...,\n",
            "        [50258, 50258, 50258,  ..., 50259, 50259, 50259],\n",
            "        [50258, 50258, 50258,  ..., 50259, 50259, 50259],\n",
            "        [50258, 50258, 50258,  ..., 50259, 50259, 50259]], device='cuda:0')\n"
          ],
          "name": "stdout"
        },
        {
          "output_type": "stream",
          "text": [
            "\rTraining:   8%|▊         | 23/287 [00:12<02:28,  1.78it/s]"
          ],
          "name": "stderr"
        },
        {
          "output_type": "stream",
          "text": [
            "32\n",
            "tensor([[50258, 50258, 50258,  ..., 50259, 50259, 50259],\n",
            "        [50258, 50258, 50258,  ..., 50259, 50259, 50259],\n",
            "        [50258, 50258, 50258,  ..., 50259, 50259, 50259],\n",
            "        ...,\n",
            "        [50258, 50258, 50258,  ..., 50259, 50259, 50259],\n",
            "        [50258, 50258, 50258,  ..., 50259, 50259, 50259],\n",
            "        [50258, 50258, 50258,  ..., 50259, 50259, 50259]], device='cuda:0')\n"
          ],
          "name": "stdout"
        },
        {
          "output_type": "stream",
          "text": [
            "\rTraining:   8%|▊         | 24/287 [00:13<02:28,  1.77it/s]"
          ],
          "name": "stderr"
        },
        {
          "output_type": "stream",
          "text": [
            "32\n",
            "tensor([[50258, 50258, 50258,  ..., 50259, 50259, 50259],\n",
            "        [50258, 50258, 50258,  ..., 50259, 50259, 50259],\n",
            "        [50258, 50258, 50258,  ..., 50259, 50259, 50259],\n",
            "        ...,\n",
            "        [50258, 50258, 50258,  ..., 50259, 50259, 50259],\n",
            "        [50258, 50258, 50258,  ..., 50259, 50259, 50259],\n",
            "        [50258, 50258, 50258,  ..., 50259, 50259, 50259]], device='cuda:0')\n"
          ],
          "name": "stdout"
        },
        {
          "output_type": "stream",
          "text": [
            "\rTraining:   9%|▊         | 25/287 [00:13<02:28,  1.77it/s]"
          ],
          "name": "stderr"
        },
        {
          "output_type": "stream",
          "text": [
            "32\n",
            "tensor([[50258, 50258, 50258,  ..., 50259, 50259, 50259],\n",
            "        [50258, 50258, 50258,  ..., 50259, 50259, 50259],\n",
            "        [50258, 50258, 50258,  ..., 50259, 50259, 50259],\n",
            "        ...,\n",
            "        [50258, 50258, 50258,  ..., 50259, 50259, 50259],\n",
            "        [50258, 50258, 50258,  ..., 50259, 50259, 50259],\n",
            "        [50258, 50258, 50258,  ..., 50259, 50259, 50259]], device='cuda:0')\n"
          ],
          "name": "stdout"
        },
        {
          "output_type": "stream",
          "text": [
            "\rTraining:   9%|▉         | 26/287 [00:14<02:27,  1.77it/s]"
          ],
          "name": "stderr"
        },
        {
          "output_type": "stream",
          "text": [
            "32\n",
            "tensor([[50258, 50258, 50258,  ..., 50259, 50259, 50259],\n",
            "        [50258, 50258, 50258,  ..., 50259, 50259, 50259],\n",
            "        [50258, 50258, 50258,  ..., 50259, 50259, 50259],\n",
            "        ...,\n",
            "        [50258, 50258, 50258,  ..., 50259, 50259, 50259],\n",
            "        [50258, 50258, 50258,  ..., 50259, 50259, 50259],\n",
            "        [50258, 50258, 50258,  ..., 50259, 50259, 50259]], device='cuda:0')\n"
          ],
          "name": "stdout"
        },
        {
          "output_type": "stream",
          "text": [
            "\rTraining:   9%|▉         | 27/287 [00:15<02:27,  1.76it/s]"
          ],
          "name": "stderr"
        },
        {
          "output_type": "stream",
          "text": [
            "32\n",
            "tensor([[50258, 50258, 50258,  ..., 50259, 50259, 50259],\n",
            "        [50258, 50258, 50258,  ..., 50259, 50259, 50259],\n",
            "        [50258, 50258, 50258,  ..., 50259, 50259, 50259],\n",
            "        ...,\n",
            "        [50258, 50258, 50258,  ..., 50259, 50259, 50259],\n",
            "        [50258, 50258, 50258,  ..., 50259, 50259, 50259],\n",
            "        [50258, 50258, 50258,  ..., 50259, 50259, 50259]], device='cuda:0')\n"
          ],
          "name": "stdout"
        },
        {
          "output_type": "stream",
          "text": [
            "\rTraining:  10%|▉         | 28/287 [00:15<02:26,  1.76it/s]"
          ],
          "name": "stderr"
        },
        {
          "output_type": "stream",
          "text": [
            "32\n",
            "tensor([[50258, 50258, 50258,  ..., 50259, 50259, 50259],\n",
            "        [50258, 50258, 50258,  ..., 50259, 50259, 50259],\n",
            "        [50258, 50258, 50258,  ..., 50259, 50259, 50259],\n",
            "        ...,\n",
            "        [50258, 50258, 50258,  ..., 50259, 50259, 50259],\n",
            "        [50258, 50258, 50258,  ..., 50259, 50259, 50259],\n",
            "        [50258, 50258, 50258,  ..., 50259, 50259, 50259]], device='cuda:0')\n"
          ],
          "name": "stdout"
        },
        {
          "output_type": "stream",
          "text": [
            "\rTraining:  10%|█         | 29/287 [00:16<02:26,  1.76it/s]"
          ],
          "name": "stderr"
        },
        {
          "output_type": "stream",
          "text": [
            "32\n",
            "tensor([[50258, 50258, 50258,  ..., 50259, 50259, 50259],\n",
            "        [50258, 50258, 50258,  ..., 50259, 50259, 50259],\n",
            "        [50258, 50258, 50258,  ..., 50259, 50259, 50259],\n",
            "        ...,\n",
            "        [50258, 50258, 50258,  ..., 50259, 50259, 50259],\n",
            "        [50258, 50258, 50258,  ..., 50259, 50259, 50259],\n",
            "        [50258, 50258, 50258,  ..., 50259, 50259, 50259]], device='cuda:0')\n"
          ],
          "name": "stdout"
        },
        {
          "output_type": "stream",
          "text": [
            "\rTraining:  10%|█         | 30/287 [00:16<02:26,  1.76it/s]"
          ],
          "name": "stderr"
        },
        {
          "output_type": "stream",
          "text": [
            "32\n",
            "tensor([[50258, 50258, 50258,  ..., 50259, 50259, 50259],\n",
            "        [50258, 50258, 50258,  ..., 50259, 50259, 50259],\n",
            "        [50258, 50258, 50258,  ..., 50259, 50259, 50259],\n",
            "        ...,\n",
            "        [50258, 50258, 50258,  ..., 50259, 50259, 50259],\n",
            "        [50258, 50258, 50258,  ..., 50259, 50259, 50259],\n",
            "        [50258, 50258, 50258,  ..., 50259, 50259, 50259]], device='cuda:0')\n"
          ],
          "name": "stdout"
        },
        {
          "output_type": "stream",
          "text": [
            "\rTraining:  11%|█         | 31/287 [00:17<02:26,  1.75it/s]"
          ],
          "name": "stderr"
        },
        {
          "output_type": "stream",
          "text": [
            "32\n",
            "tensor([[50258, 50258, 50258,  ..., 50259, 50259, 50259],\n",
            "        [50258, 50258, 50258,  ..., 50259, 50259, 50259],\n",
            "        [50258, 50258, 50258,  ..., 50259, 50259, 50259],\n",
            "        ...,\n",
            "        [50258, 50258, 50258,  ..., 50259, 50259, 50259],\n",
            "        [50258, 50258, 50258,  ..., 50259, 50259, 50259],\n",
            "        [50258, 50258, 50258,  ..., 50259, 50259, 50259]], device='cuda:0')\n"
          ],
          "name": "stdout"
        },
        {
          "output_type": "stream",
          "text": [
            "\rTraining:  11%|█         | 32/287 [00:17<02:25,  1.75it/s]"
          ],
          "name": "stderr"
        },
        {
          "output_type": "stream",
          "text": [
            "32\n",
            "tensor([[50258, 50258, 50258,  ..., 50259, 50259, 50259],\n",
            "        [50258, 50258, 50258,  ..., 50259, 50259, 50259],\n",
            "        [50258, 50258, 50258,  ..., 50259, 50259, 50259],\n",
            "        ...,\n",
            "        [50258, 50258, 50258,  ..., 50259, 50259, 50259],\n",
            "        [50258, 50258, 50258,  ..., 50259, 50259, 50259],\n",
            "        [50258, 50258, 50258,  ..., 50259, 50259, 50259]], device='cuda:0')\n"
          ],
          "name": "stdout"
        },
        {
          "output_type": "stream",
          "text": [
            "\rTraining:  11%|█▏        | 33/287 [00:18<02:25,  1.75it/s]"
          ],
          "name": "stderr"
        },
        {
          "output_type": "stream",
          "text": [
            "32\n",
            "tensor([[50258, 50258, 50258,  ..., 50259, 50259, 50259],\n",
            "        [50258, 50258, 50258,  ..., 50259, 50259, 50259],\n",
            "        [50258, 50258, 50258,  ..., 50259, 50259, 50259],\n",
            "        ...,\n",
            "        [50258, 50258, 50258,  ..., 50259, 50259, 50259],\n",
            "        [50258, 50258, 50258,  ..., 50259, 50259, 50259],\n",
            "        [50258, 50258, 50258,  ..., 50259, 50259, 50259]], device='cuda:0')\n"
          ],
          "name": "stdout"
        },
        {
          "output_type": "stream",
          "text": [
            "\rTraining:  12%|█▏        | 34/287 [00:19<02:24,  1.75it/s]"
          ],
          "name": "stderr"
        },
        {
          "output_type": "stream",
          "text": [
            "32\n",
            "tensor([[50258, 50258, 50258,  ..., 50259, 50259, 50259],\n",
            "        [50258, 50258, 50258,  ..., 50259, 50259, 50259],\n",
            "        [50258, 50258, 50258,  ..., 50259, 50259, 50259],\n",
            "        ...,\n",
            "        [50258, 50258, 50258,  ..., 50259, 50259, 50259],\n",
            "        [50258, 50258, 50258,  ..., 50259, 50259, 50259],\n",
            "        [50258, 50258, 50258,  ..., 50259, 50259, 50259]], device='cuda:0')\n"
          ],
          "name": "stdout"
        },
        {
          "output_type": "stream",
          "text": [
            "\rTraining:  12%|█▏        | 35/287 [00:19<02:24,  1.75it/s]"
          ],
          "name": "stderr"
        },
        {
          "output_type": "stream",
          "text": [
            "32\n",
            "tensor([[50258, 50258, 50258,  ..., 50259, 50259, 50259],\n",
            "        [50258, 50258, 50258,  ..., 50259, 50259, 50259],\n",
            "        [50258, 50258, 50258,  ..., 50259, 50259, 50259],\n",
            "        ...,\n",
            "        [50258, 50258, 50258,  ..., 50259, 50259, 50259],\n",
            "        [50258, 50258, 50258,  ..., 50259, 50259, 50259],\n",
            "        [50258, 50258, 50258,  ..., 50259, 50259, 50259]], device='cuda:0')\n"
          ],
          "name": "stdout"
        },
        {
          "output_type": "stream",
          "text": [
            "\rTraining:  13%|█▎        | 36/287 [00:20<02:23,  1.74it/s]"
          ],
          "name": "stderr"
        },
        {
          "output_type": "stream",
          "text": [
            "32\n",
            "tensor([[50258, 50258, 50258,  ..., 50259, 50259, 50259],\n",
            "        [50258, 50258, 50258,  ..., 50259, 50259, 50259],\n",
            "        [50258, 50258, 50258,  ..., 50259, 50259, 50259],\n",
            "        ...,\n",
            "        [50258, 50258, 50258,  ..., 50259, 50259, 50259],\n",
            "        [50258, 50258, 50258,  ..., 50259, 50259, 50259],\n",
            "        [50258, 50258, 50258,  ..., 50259, 50259, 50259]], device='cuda:0')\n"
          ],
          "name": "stdout"
        },
        {
          "output_type": "stream",
          "text": [
            "\rTraining:  13%|█▎        | 37/287 [00:20<02:23,  1.74it/s]"
          ],
          "name": "stderr"
        },
        {
          "output_type": "stream",
          "text": [
            "32\n",
            "tensor([[50258, 50258, 50258,  ..., 50259, 50259, 50259],\n",
            "        [50258, 50258, 50258,  ..., 50259, 50259, 50259],\n",
            "        [50258, 50258, 50258,  ..., 50259, 50259, 50259],\n",
            "        ...,\n",
            "        [50258, 50258, 50258,  ..., 50259, 50259, 50259],\n",
            "        [50258, 50258, 50258,  ..., 50259, 50259, 50259],\n",
            "        [50258, 50258, 50258,  ..., 50259, 50259, 50259]], device='cuda:0')\n"
          ],
          "name": "stdout"
        },
        {
          "output_type": "stream",
          "text": [
            "\rTraining:  13%|█▎        | 38/287 [00:21<02:23,  1.74it/s]"
          ],
          "name": "stderr"
        },
        {
          "output_type": "stream",
          "text": [
            "32\n",
            "tensor([[50258, 50258, 50258,  ..., 50259, 50259, 50259],\n",
            "        [50258, 50258, 50258,  ..., 50259, 50259, 50259],\n",
            "        [50258, 50258, 50258,  ..., 50259, 50259, 50259],\n",
            "        ...,\n",
            "        [50258, 50258, 50258,  ..., 50259, 50259, 50259],\n",
            "        [50258, 50258, 50258,  ..., 50259, 50259, 50259],\n",
            "        [50258, 50258, 50258,  ..., 50259, 50259, 50259]], device='cuda:0')\n"
          ],
          "name": "stdout"
        },
        {
          "output_type": "stream",
          "text": [
            "\rTraining:  14%|█▎        | 39/287 [00:21<02:22,  1.74it/s]"
          ],
          "name": "stderr"
        },
        {
          "output_type": "stream",
          "text": [
            "32\n",
            "tensor([[50258, 50258, 50258,  ..., 50259, 50259, 50259],\n",
            "        [50258, 50258, 50258,  ..., 50259, 50259, 50259],\n",
            "        [50258, 50258, 50258,  ..., 50259, 50259, 50259],\n",
            "        ...,\n",
            "        [50258, 50258, 50258,  ..., 50259, 50259, 50259],\n",
            "        [50258, 50258, 50258,  ..., 50259, 50259, 50259],\n",
            "        [50258, 50258, 50258,  ..., 50259, 50259, 50259]], device='cuda:0')\n"
          ],
          "name": "stdout"
        },
        {
          "output_type": "stream",
          "text": [
            "\rTraining:  14%|█▍        | 40/287 [00:22<02:22,  1.73it/s]"
          ],
          "name": "stderr"
        },
        {
          "output_type": "stream",
          "text": [
            "32\n",
            "tensor([[50258, 50258, 50258,  ..., 50259, 50259, 50259],\n",
            "        [50258, 50258, 50258,  ..., 50259, 50259, 50259],\n",
            "        [50258, 50258, 50258,  ..., 50259, 50259, 50259],\n",
            "        ...,\n",
            "        [50258, 50258, 50258,  ..., 50259, 50259, 50259],\n",
            "        [50258, 50258, 50258,  ..., 50259, 50259, 50259],\n",
            "        [50258, 50258, 50258,  ..., 50259, 50259, 50259]], device='cuda:0')\n"
          ],
          "name": "stdout"
        },
        {
          "output_type": "stream",
          "text": [
            "\rTraining:  14%|█▍        | 41/287 [00:23<02:22,  1.73it/s]"
          ],
          "name": "stderr"
        },
        {
          "output_type": "stream",
          "text": [
            "32\n",
            "tensor([[50258, 50258, 50258,  ..., 50259, 50259, 50259],\n",
            "        [50258, 50258, 50258,  ..., 50259, 50259, 50259],\n",
            "        [50258, 50258, 50258,  ..., 50259, 50259, 50259],\n",
            "        ...,\n",
            "        [50258, 50258, 50258,  ..., 50259, 50259, 50259],\n",
            "        [50258, 50258, 50258,  ..., 50259, 50259, 50259],\n",
            "        [50258, 50258, 50258,  ..., 50259, 50259, 50259]], device='cuda:0')\n"
          ],
          "name": "stdout"
        },
        {
          "output_type": "stream",
          "text": [
            "\rTraining:  15%|█▍        | 42/287 [00:23<02:21,  1.73it/s]"
          ],
          "name": "stderr"
        },
        {
          "output_type": "stream",
          "text": [
            "32\n",
            "tensor([[50258, 50258, 50258,  ..., 50259, 50259, 50259],\n",
            "        [50258, 50258, 50258,  ..., 50259, 50259, 50259],\n",
            "        [50258, 50258, 50258,  ..., 50259, 50259, 50259],\n",
            "        ...,\n",
            "        [50258, 50258, 50258,  ..., 50259, 50259, 50259],\n",
            "        [50258, 50258, 50258,  ..., 50259, 50259, 50259],\n",
            "        [50258, 50258, 50258,  ..., 50259, 50259, 50259]], device='cuda:0')\n"
          ],
          "name": "stdout"
        },
        {
          "output_type": "stream",
          "text": [
            "\rTraining:  15%|█▍        | 43/287 [00:24<02:21,  1.73it/s]"
          ],
          "name": "stderr"
        },
        {
          "output_type": "stream",
          "text": [
            "32\n",
            "tensor([[50258, 50258, 50258,  ..., 50259, 50259, 50259],\n",
            "        [50258, 50258, 50258,  ..., 50259, 50259, 50259],\n",
            "        [50258, 50258, 50258,  ..., 50259, 50259, 50259],\n",
            "        ...,\n",
            "        [50258, 50258, 50258,  ..., 50259, 50259, 50259],\n",
            "        [50258, 50258, 50258,  ..., 50259, 50259, 50259],\n",
            "        [50258, 50258, 50258,  ..., 50259, 50259, 50259]], device='cuda:0')\n"
          ],
          "name": "stdout"
        },
        {
          "output_type": "stream",
          "text": [
            "\rTraining:  15%|█▌        | 44/287 [00:24<02:20,  1.73it/s]"
          ],
          "name": "stderr"
        },
        {
          "output_type": "stream",
          "text": [
            "32\n",
            "tensor([[50258, 50258, 50258,  ..., 50259, 50259, 50259],\n",
            "        [50258, 50258, 50258,  ..., 50259, 50259, 50259],\n",
            "        [50258, 50258, 50258,  ..., 50259, 50259, 50259],\n",
            "        ...,\n",
            "        [50258, 50258, 50258,  ..., 50259, 50259, 50259],\n",
            "        [50258, 50258, 50258,  ..., 50259, 50259, 50259],\n",
            "        [50258, 50258, 50258,  ..., 50259, 50259, 50259]], device='cuda:0')\n"
          ],
          "name": "stdout"
        },
        {
          "output_type": "stream",
          "text": [
            "\rTraining:  16%|█▌        | 45/287 [00:25<02:20,  1.73it/s]"
          ],
          "name": "stderr"
        },
        {
          "output_type": "stream",
          "text": [
            "32\n",
            "tensor([[50258, 50258, 50258,  ..., 50259, 50259, 50259],\n",
            "        [50258, 50258, 50258,  ..., 50259, 50259, 50259],\n",
            "        [50258, 50258, 50258,  ..., 50259, 50259, 50259],\n",
            "        ...,\n",
            "        [50258, 50258, 50258,  ..., 50259, 50259, 50259],\n",
            "        [50258, 50258, 50258,  ..., 50259, 50259, 50259],\n",
            "        [50258, 50258, 50258,  ..., 50259, 50259, 50259]], device='cuda:0')\n"
          ],
          "name": "stdout"
        },
        {
          "output_type": "stream",
          "text": [
            "\rTraining:  16%|█▌        | 46/287 [00:26<02:19,  1.73it/s]"
          ],
          "name": "stderr"
        },
        {
          "output_type": "stream",
          "text": [
            "32\n",
            "tensor([[50258, 50258, 50258,  ..., 50259, 50259, 50259],\n",
            "        [50258, 50258, 50258,  ..., 50259, 50259, 50259],\n",
            "        [50258, 50258, 50258,  ..., 50259, 50259, 50259],\n",
            "        ...,\n",
            "        [50258, 50258, 50258,  ..., 50259, 50259, 50259],\n",
            "        [50258, 50258, 50258,  ..., 50259, 50259, 50259],\n",
            "        [50258, 50258, 50258,  ..., 50259, 50259, 50259]], device='cuda:0')\n"
          ],
          "name": "stdout"
        },
        {
          "output_type": "stream",
          "text": [
            "\rTraining:  16%|█▋        | 47/287 [00:26<02:18,  1.73it/s]"
          ],
          "name": "stderr"
        },
        {
          "output_type": "stream",
          "text": [
            "32\n",
            "tensor([[50258, 50258, 50258,  ..., 50259, 50259, 50259],\n",
            "        [50258, 50258, 50258,  ..., 50259, 50259, 50259],\n",
            "        [50258, 50258, 50258,  ..., 50259, 50259, 50259],\n",
            "        ...,\n",
            "        [50258, 50258, 50258,  ..., 50259, 50259, 50259],\n",
            "        [50258, 50258, 50258,  ..., 50259, 50259, 50259],\n",
            "        [50258, 50258, 50258,  ..., 50259, 50259, 50259]], device='cuda:0')\n"
          ],
          "name": "stdout"
        },
        {
          "output_type": "stream",
          "text": [
            "\rTraining:  17%|█▋        | 48/287 [00:27<02:18,  1.73it/s]"
          ],
          "name": "stderr"
        },
        {
          "output_type": "stream",
          "text": [
            "32\n",
            "tensor([[50258, 50258, 50258,  ..., 50259, 50259, 50259],\n",
            "        [50258, 50258, 50258,  ..., 50259, 50259, 50259],\n",
            "        [50258, 50258, 50258,  ..., 50259, 50259, 50259],\n",
            "        ...,\n",
            "        [50258, 50258, 50258,  ..., 50259, 50259, 50259],\n",
            "        [50258, 50258, 50258,  ..., 50259, 50259, 50259],\n",
            "        [50258, 50258, 50258,  ..., 50259, 50259, 50259]], device='cuda:0')\n"
          ],
          "name": "stdout"
        },
        {
          "output_type": "stream",
          "text": [
            "\rTraining:  17%|█▋        | 49/287 [00:27<02:18,  1.72it/s]"
          ],
          "name": "stderr"
        },
        {
          "output_type": "stream",
          "text": [
            "32\n",
            "tensor([[50258, 50258, 50258,  ..., 50259, 50259, 50259],\n",
            "        [50258, 50258, 50258,  ..., 50259, 50259, 50259],\n",
            "        [50258, 50258, 50258,  ..., 50259, 50259, 50259],\n",
            "        ...,\n",
            "        [50258, 50258, 50258,  ..., 50259, 50259, 50259],\n",
            "        [50258, 50258, 50258,  ..., 50259, 50259, 50259],\n",
            "        [50258, 50258, 50258,  ..., 50259, 50259, 50259]], device='cuda:0')\n"
          ],
          "name": "stdout"
        },
        {
          "output_type": "stream",
          "text": [
            "\rTraining:  17%|█▋        | 50/287 [00:28<02:17,  1.72it/s]"
          ],
          "name": "stderr"
        },
        {
          "output_type": "stream",
          "text": [
            "32\n",
            "tensor([[50258, 50258, 50258,  ..., 50259, 50259, 50259],\n",
            "        [50258, 50258, 50258,  ..., 50259, 50259, 50259],\n",
            "        [50258, 50258, 50258,  ..., 50259, 50259, 50259],\n",
            "        ...,\n",
            "        [50258, 50258, 50258,  ..., 50259, 50259, 50259],\n",
            "        [50258, 50258, 50258,  ..., 50259, 50259, 50259],\n",
            "        [50258, 50258, 50258,  ..., 50259, 50259, 50259]], device='cuda:0')\n"
          ],
          "name": "stdout"
        },
        {
          "output_type": "stream",
          "text": [
            "\rTraining:  18%|█▊        | 51/287 [00:28<02:17,  1.72it/s]"
          ],
          "name": "stderr"
        },
        {
          "output_type": "stream",
          "text": [
            "32\n",
            "tensor([[50258, 50258, 50258,  ..., 50259, 50259, 50259],\n",
            "        [50258, 50258, 50258,  ..., 50259, 50259, 50259],\n",
            "        [50258, 50258, 50258,  ..., 50259, 50259, 50259],\n",
            "        ...,\n",
            "        [50258, 50258, 50258,  ..., 50259, 50259, 50259],\n",
            "        [50258, 50258, 50258,  ..., 50259, 50259, 50259],\n",
            "        [50258, 50258, 50258,  ..., 50259, 50259, 50259]], device='cuda:0')\n"
          ],
          "name": "stdout"
        },
        {
          "output_type": "stream",
          "text": [
            "\rTraining:  18%|█▊        | 52/287 [00:29<02:16,  1.72it/s]"
          ],
          "name": "stderr"
        },
        {
          "output_type": "stream",
          "text": [
            "32\n",
            "tensor([[50258, 50258, 50258,  ..., 50259, 50259, 50259],\n",
            "        [50258, 50258, 50258,  ..., 50259, 50259, 50259],\n",
            "        [50258, 50258, 50258,  ..., 50259, 50259, 50259],\n",
            "        ...,\n",
            "        [50258, 50258, 50258,  ..., 50259, 50259, 50259],\n",
            "        [50258, 50258, 50258,  ..., 50259, 50259, 50259],\n",
            "        [50258, 50258, 50258,  ..., 50259, 50259, 50259]], device='cuda:0')\n"
          ],
          "name": "stdout"
        },
        {
          "output_type": "stream",
          "text": [
            "\rTraining:  18%|█▊        | 53/287 [00:30<02:15,  1.72it/s]"
          ],
          "name": "stderr"
        },
        {
          "output_type": "stream",
          "text": [
            "32\n",
            "tensor([[50258, 50258, 50258,  ..., 50259, 50259, 50259],\n",
            "        [50258, 50258, 50258,  ..., 50259, 50259, 50259],\n",
            "        [50258, 50258, 50258,  ..., 50259, 50259, 50259],\n",
            "        ...,\n",
            "        [50258, 50258, 50258,  ..., 50259, 50259, 50259],\n",
            "        [50258, 50258, 50258,  ..., 50259, 50259, 50259],\n",
            "        [50258, 50258, 50258,  ..., 50259, 50259, 50259]], device='cuda:0')\n"
          ],
          "name": "stdout"
        },
        {
          "output_type": "stream",
          "text": [
            "\rTraining:  19%|█▉        | 54/287 [00:30<02:15,  1.72it/s]"
          ],
          "name": "stderr"
        },
        {
          "output_type": "stream",
          "text": [
            "32\n",
            "tensor([[50258, 50258, 50258,  ..., 50259, 50259, 50259],\n",
            "        [50258, 50258, 50258,  ..., 50259, 50259, 50259],\n",
            "        [50258, 50258, 50258,  ..., 50259, 50259, 50259],\n",
            "        ...,\n",
            "        [50258, 50258, 50258,  ..., 50259, 50259, 50259],\n",
            "        [50258, 50258, 50258,  ..., 50259, 50259, 50259],\n",
            "        [50258, 50258, 50258,  ..., 50259, 50259, 50259]], device='cuda:0')\n"
          ],
          "name": "stdout"
        },
        {
          "output_type": "stream",
          "text": [
            "\rTraining:  19%|█▉        | 55/287 [00:31<02:14,  1.72it/s]"
          ],
          "name": "stderr"
        },
        {
          "output_type": "stream",
          "text": [
            "32\n",
            "tensor([[50258, 50258, 50258,  ..., 50259, 50259, 50259],\n",
            "        [50258, 50258, 50258,  ..., 50259, 50259, 50259],\n",
            "        [50258, 50258, 50258,  ..., 50259, 50259, 50259],\n",
            "        ...,\n",
            "        [50258, 50258, 50258,  ..., 50259, 50259, 50259],\n",
            "        [50258, 50258, 50258,  ..., 50259, 50259, 50259],\n",
            "        [50258, 50258, 50258,  ..., 50259, 50259, 50259]], device='cuda:0')\n"
          ],
          "name": "stdout"
        },
        {
          "output_type": "stream",
          "text": [
            "\rTraining:  20%|█▉        | 56/287 [00:31<02:14,  1.72it/s]"
          ],
          "name": "stderr"
        },
        {
          "output_type": "stream",
          "text": [
            "32\n",
            "tensor([[50258, 50258, 50258,  ..., 50259, 50259, 50259],\n",
            "        [50258, 50258, 50258,  ..., 50259, 50259, 50259],\n",
            "        [50258, 50258, 50258,  ..., 50259, 50259, 50259],\n",
            "        ...,\n",
            "        [50258, 50258, 50258,  ..., 50259, 50259, 50259],\n",
            "        [50258, 50258, 50258,  ..., 50259, 50259, 50259],\n",
            "        [50258, 50258, 50258,  ..., 50259, 50259, 50259]], device='cuda:0')\n"
          ],
          "name": "stdout"
        },
        {
          "output_type": "stream",
          "text": [
            "\rTraining:  20%|█▉        | 57/287 [00:32<02:13,  1.72it/s]"
          ],
          "name": "stderr"
        },
        {
          "output_type": "stream",
          "text": [
            "32\n",
            "tensor([[50258, 50258, 50258,  ..., 50259, 50259, 50259],\n",
            "        [50258, 50258, 50258,  ..., 50259, 50259, 50259],\n",
            "        [50258, 50258, 50258,  ..., 50259, 50259, 50259],\n",
            "        ...,\n",
            "        [50258, 50258, 50258,  ..., 50259, 50259, 50259],\n",
            "        [50258, 50258, 50258,  ..., 50259, 50259, 50259],\n",
            "        [50258, 50258, 50258,  ..., 50259, 50259, 50259]], device='cuda:0')\n"
          ],
          "name": "stdout"
        },
        {
          "output_type": "stream",
          "text": [
            "\rTraining:  20%|██        | 58/287 [00:33<02:12,  1.73it/s]"
          ],
          "name": "stderr"
        },
        {
          "output_type": "stream",
          "text": [
            "32\n",
            "tensor([[50258, 50258, 50258,  ..., 50259, 50259, 50259],\n",
            "        [50258, 50258, 50258,  ..., 50259, 50259, 50259],\n",
            "        [50258, 50258, 50258,  ..., 50259, 50259, 50259],\n",
            "        ...,\n",
            "        [50258, 50258, 50258,  ..., 50259, 50259, 50259],\n",
            "        [50258, 50258, 50258,  ..., 50259, 50259, 50259],\n",
            "        [50258, 50258, 50258,  ..., 50259, 50259, 50259]], device='cuda:0')\n"
          ],
          "name": "stdout"
        },
        {
          "output_type": "stream",
          "text": [
            "\rTraining:  21%|██        | 59/287 [00:33<02:12,  1.73it/s]"
          ],
          "name": "stderr"
        },
        {
          "output_type": "stream",
          "text": [
            "32\n",
            "tensor([[50258, 50258, 50258,  ..., 50259, 50259, 50259],\n",
            "        [50258, 50258, 50258,  ..., 50259, 50259, 50259],\n",
            "        [50258, 50258, 50258,  ..., 50259, 50259, 50259],\n",
            "        ...,\n",
            "        [50258, 50258, 50258,  ..., 50259, 50259, 50259],\n",
            "        [50258, 50258, 50258,  ..., 50259, 50259, 50259],\n",
            "        [50258, 50258, 50258,  ..., 50259, 50259, 50259]], device='cuda:0')\n"
          ],
          "name": "stdout"
        },
        {
          "output_type": "stream",
          "text": [
            "\rTraining:  21%|██        | 60/287 [00:34<02:11,  1.73it/s]"
          ],
          "name": "stderr"
        },
        {
          "output_type": "stream",
          "text": [
            "32\n",
            "tensor([[50258, 50258, 50258,  ..., 50259, 50259, 50259],\n",
            "        [50258, 50258, 50258,  ..., 50259, 50259, 50259],\n",
            "        [50258, 50258, 50258,  ..., 50259, 50259, 50259],\n",
            "        ...,\n",
            "        [50258, 50258, 50258,  ..., 50259, 50259, 50259],\n",
            "        [50258, 50258, 50258,  ..., 50259, 50259, 50259],\n",
            "        [50258, 50258, 50258,  ..., 50259, 50259, 50259]], device='cuda:0')\n"
          ],
          "name": "stdout"
        },
        {
          "output_type": "stream",
          "text": [
            "\rTraining:  21%|██▏       | 61/287 [00:34<02:10,  1.73it/s]"
          ],
          "name": "stderr"
        },
        {
          "output_type": "stream",
          "text": [
            "32\n",
            "tensor([[50258, 50258, 50258,  ..., 50259, 50259, 50259],\n",
            "        [50258, 50258, 50258,  ..., 50259, 50259, 50259],\n",
            "        [50258, 50258, 50258,  ..., 50259, 50259, 50259],\n",
            "        ...,\n",
            "        [50258, 50258, 50258,  ..., 50259, 50259, 50259],\n",
            "        [50258, 50258, 50258,  ..., 50259, 50259, 50259],\n",
            "        [50258, 50258, 50258,  ..., 50259, 50259, 50259]], device='cuda:0')\n"
          ],
          "name": "stdout"
        },
        {
          "output_type": "stream",
          "text": [
            "\rTraining:  22%|██▏       | 62/287 [00:35<02:09,  1.73it/s]"
          ],
          "name": "stderr"
        },
        {
          "output_type": "stream",
          "text": [
            "32\n",
            "tensor([[50258, 50258, 50258,  ..., 50259, 50259, 50259],\n",
            "        [50258, 50258, 50258,  ..., 50259, 50259, 50259],\n",
            "        [50258, 50258, 50258,  ..., 50259, 50259, 50259],\n",
            "        ...,\n",
            "        [50258, 50258, 50258,  ..., 50259, 50259, 50259],\n",
            "        [50258, 50258, 50258,  ..., 50259, 50259, 50259],\n",
            "        [50258, 50258, 50258,  ..., 50259, 50259, 50259]], device='cuda:0')\n"
          ],
          "name": "stdout"
        },
        {
          "output_type": "stream",
          "text": [
            "\rTraining:  22%|██▏       | 63/287 [00:35<02:09,  1.73it/s]"
          ],
          "name": "stderr"
        },
        {
          "output_type": "stream",
          "text": [
            "32\n",
            "tensor([[50258, 50258, 50258,  ..., 50259, 50259, 50259],\n",
            "        [50258, 50258, 50258,  ..., 50259, 50259, 50259],\n",
            "        [50258, 50258, 50258,  ..., 50259, 50259, 50259],\n",
            "        ...,\n",
            "        [50258, 50258, 50258,  ..., 50259, 50259, 50259],\n",
            "        [50258, 50258, 50258,  ..., 50259, 50259, 50259],\n",
            "        [50258, 50258, 50258,  ..., 50259, 50259, 50259]], device='cuda:0')\n"
          ],
          "name": "stdout"
        },
        {
          "output_type": "stream",
          "text": [
            "\rTraining:  22%|██▏       | 64/287 [00:36<02:08,  1.74it/s]"
          ],
          "name": "stderr"
        },
        {
          "output_type": "stream",
          "text": [
            "32\n",
            "tensor([[50258, 50258, 50258,  ..., 50259, 50259, 50259],\n",
            "        [50258, 50258, 50258,  ..., 50259, 50259, 50259],\n",
            "        [50258, 50258, 50258,  ..., 50259, 50259, 50259],\n",
            "        ...,\n",
            "        [50258, 50258, 50258,  ..., 50259, 50259, 50259],\n",
            "        [50258, 50258, 50258,  ..., 50259, 50259, 50259],\n",
            "        [50258, 50258, 50258,  ..., 50259, 50259, 50259]], device='cuda:0')\n"
          ],
          "name": "stdout"
        },
        {
          "output_type": "stream",
          "text": [
            "\rTraining:  23%|██▎       | 65/287 [00:37<02:07,  1.74it/s]"
          ],
          "name": "stderr"
        },
        {
          "output_type": "stream",
          "text": [
            "32\n",
            "tensor([[50258, 50258, 50258,  ..., 50259, 50259, 50259],\n",
            "        [50258, 50258, 50258,  ..., 50259, 50259, 50259],\n",
            "        [50258, 50258, 50258,  ..., 50259, 50259, 50259],\n",
            "        ...,\n",
            "        [50258, 50258, 50258,  ..., 50259, 50259, 50259],\n",
            "        [50258, 50258, 50258,  ..., 50259, 50259, 50259],\n",
            "        [50258, 50258, 50258,  ..., 50259, 50259, 50259]], device='cuda:0')\n"
          ],
          "name": "stdout"
        },
        {
          "output_type": "stream",
          "text": [
            "\rTraining:  23%|██▎       | 66/287 [00:37<02:06,  1.74it/s]"
          ],
          "name": "stderr"
        },
        {
          "output_type": "stream",
          "text": [
            "32\n",
            "tensor([[50258, 50258, 50258,  ..., 50259, 50259, 50259],\n",
            "        [50258, 50258, 50258,  ..., 50259, 50259, 50259],\n",
            "        [50258, 50258, 50258,  ..., 50259, 50259, 50259],\n",
            "        ...,\n",
            "        [50258, 50258, 50258,  ..., 50259, 50259, 50259],\n",
            "        [50258, 50258, 50258,  ..., 50259, 50259, 50259],\n",
            "        [50258, 50258, 50258,  ..., 50259, 50259, 50259]], device='cuda:0')\n"
          ],
          "name": "stdout"
        },
        {
          "output_type": "stream",
          "text": [
            "\rTraining:  23%|██▎       | 67/287 [00:38<02:05,  1.75it/s]"
          ],
          "name": "stderr"
        },
        {
          "output_type": "stream",
          "text": [
            "32\n",
            "tensor([[50258, 50258, 50258,  ..., 50259, 50259, 50259],\n",
            "        [50258, 50258, 50258,  ..., 50259, 50259, 50259],\n",
            "        [50258, 50258, 50258,  ..., 50259, 50259, 50259],\n",
            "        ...,\n",
            "        [50258, 50258, 50258,  ..., 50259, 50259, 50259],\n",
            "        [50258, 50258, 50258,  ..., 50259, 50259, 50259],\n",
            "        [50258, 50258, 50258,  ..., 50259, 50259, 50259]], device='cuda:0')\n"
          ],
          "name": "stdout"
        },
        {
          "output_type": "stream",
          "text": [
            "\rTraining:  24%|██▎       | 68/287 [00:38<02:05,  1.75it/s]"
          ],
          "name": "stderr"
        },
        {
          "output_type": "stream",
          "text": [
            "32\n",
            "tensor([[50258, 50258, 50258,  ..., 50259, 50259, 50259],\n",
            "        [50258, 50258, 50258,  ..., 50259, 50259, 50259],\n",
            "        [50258, 50258, 50258,  ..., 50259, 50259, 50259],\n",
            "        ...,\n",
            "        [50258, 50258, 50258,  ..., 50259, 50259, 50259],\n",
            "        [50258, 50258, 50258,  ..., 50259, 50259, 50259],\n",
            "        [50258, 50258, 50258,  ..., 50259, 50259, 50259]], device='cuda:0')\n"
          ],
          "name": "stdout"
        },
        {
          "output_type": "stream",
          "text": [
            "\rTraining:  24%|██▍       | 69/287 [00:39<02:04,  1.75it/s]"
          ],
          "name": "stderr"
        },
        {
          "output_type": "stream",
          "text": [
            "32\n",
            "tensor([[50258, 50258, 50258,  ..., 50259, 50259, 50259],\n",
            "        [50258, 50258, 50258,  ..., 50259, 50259, 50259],\n",
            "        [50258, 50258, 50258,  ..., 50259, 50259, 50259],\n",
            "        ...,\n",
            "        [50258, 50258, 50258,  ..., 50259, 50259, 50259],\n",
            "        [50258, 50258, 50258,  ..., 50259, 50259, 50259],\n",
            "        [50258, 50258, 50258,  ..., 50259, 50259, 50259]], device='cuda:0')\n"
          ],
          "name": "stdout"
        },
        {
          "output_type": "stream",
          "text": [
            "\rTraining:  24%|██▍       | 70/287 [00:39<02:03,  1.75it/s]"
          ],
          "name": "stderr"
        },
        {
          "output_type": "stream",
          "text": [
            "32\n",
            "tensor([[50258, 50258, 50258,  ..., 50259, 50259, 50259],\n",
            "        [50258, 50258, 50258,  ..., 50259, 50259, 50259],\n",
            "        [50258, 50258, 50258,  ..., 50259, 50259, 50259],\n",
            "        ...,\n",
            "        [50258, 50258, 50258,  ..., 50259, 50259, 50259],\n",
            "        [50258, 50258, 50258,  ..., 50259, 50259, 50259],\n",
            "        [50258, 50258, 50258,  ..., 50259, 50259, 50259]], device='cuda:0')\n"
          ],
          "name": "stdout"
        },
        {
          "output_type": "stream",
          "text": [
            "\rTraining:  25%|██▍       | 71/287 [00:40<02:03,  1.75it/s]"
          ],
          "name": "stderr"
        },
        {
          "output_type": "stream",
          "text": [
            "32\n",
            "tensor([[50258, 50258, 50258,  ..., 50259, 50259, 50259],\n",
            "        [50258, 50258, 50258,  ..., 50259, 50259, 50259],\n",
            "        [50258, 50258, 50258,  ..., 50259, 50259, 50259],\n",
            "        ...,\n",
            "        [50258, 50258, 50258,  ..., 50259, 50259, 50259],\n",
            "        [50258, 50258, 50258,  ..., 50259, 50259, 50259],\n",
            "        [50258, 50258, 50258,  ..., 50259, 50259, 50259]], device='cuda:0')\n"
          ],
          "name": "stdout"
        },
        {
          "output_type": "stream",
          "text": [
            "\rTraining:  25%|██▌       | 72/287 [00:41<02:02,  1.75it/s]"
          ],
          "name": "stderr"
        },
        {
          "output_type": "stream",
          "text": [
            "32\n",
            "tensor([[50258, 50258, 50258,  ..., 50259, 50259, 50259],\n",
            "        [50258, 50258, 50258,  ..., 50259, 50259, 50259],\n",
            "        [50258, 50258, 50258,  ..., 50259, 50259, 50259],\n",
            "        ...,\n",
            "        [50258, 50258, 50258,  ..., 50259, 50259, 50259],\n",
            "        [50258, 50258, 50258,  ..., 50259, 50259, 50259],\n",
            "        [50258, 50258, 50258,  ..., 50259, 50259, 50259]], device='cuda:0')\n"
          ],
          "name": "stdout"
        },
        {
          "output_type": "stream",
          "text": [
            "\rTraining:  25%|██▌       | 73/287 [00:41<02:02,  1.75it/s]"
          ],
          "name": "stderr"
        },
        {
          "output_type": "stream",
          "text": [
            "32\n",
            "tensor([[50258, 50258, 50258,  ..., 50259, 50259, 50259],\n",
            "        [50258, 50258, 50258,  ..., 50259, 50259, 50259],\n",
            "        [50258, 50258, 50258,  ..., 50259, 50259, 50259],\n",
            "        ...,\n",
            "        [50258, 50258, 50258,  ..., 50259, 50259, 50259],\n",
            "        [50258, 50258, 50258,  ..., 50259, 50259, 50259],\n",
            "        [50258, 50258, 50258,  ..., 50259, 50259, 50259]], device='cuda:0')\n"
          ],
          "name": "stdout"
        },
        {
          "output_type": "stream",
          "text": [
            "\rTraining:  26%|██▌       | 74/287 [00:42<02:01,  1.75it/s]"
          ],
          "name": "stderr"
        },
        {
          "output_type": "stream",
          "text": [
            "32\n",
            "tensor([[50258, 50258, 50258,  ..., 50259, 50259, 50259],\n",
            "        [50258, 50258, 50258,  ..., 50259, 50259, 50259],\n",
            "        [50258, 50258, 50258,  ..., 50259, 50259, 50259],\n",
            "        ...,\n",
            "        [50258, 50258, 50258,  ..., 50259, 50259, 50259],\n",
            "        [50258, 50258, 50258,  ..., 50259, 50259, 50259],\n",
            "        [50258, 50258, 50258,  ..., 50259, 50259, 50259]], device='cuda:0')\n"
          ],
          "name": "stdout"
        },
        {
          "output_type": "stream",
          "text": [
            "\rTraining:  26%|██▌       | 75/287 [00:42<02:00,  1.75it/s]"
          ],
          "name": "stderr"
        },
        {
          "output_type": "stream",
          "text": [
            "32\n",
            "tensor([[50258, 50258, 50258,  ..., 50259, 50259, 50259],\n",
            "        [50258, 50258, 50258,  ..., 50259, 50259, 50259],\n",
            "        [50258, 50258, 50258,  ..., 50259, 50259, 50259],\n",
            "        ...,\n",
            "        [50258, 50258, 50258,  ..., 50259, 50259, 50259],\n",
            "        [50258, 50258, 50258,  ..., 50259, 50259, 50259],\n",
            "        [50258, 50258, 50258,  ..., 50259, 50259, 50259]], device='cuda:0')\n"
          ],
          "name": "stdout"
        },
        {
          "output_type": "stream",
          "text": [
            "\rTraining:  26%|██▋       | 76/287 [00:43<02:00,  1.76it/s]"
          ],
          "name": "stderr"
        },
        {
          "output_type": "stream",
          "text": [
            "32\n",
            "tensor([[50258, 50258, 50258,  ..., 50259, 50259, 50259],\n",
            "        [50258, 50258, 50258,  ..., 50259, 50259, 50259],\n",
            "        [50258, 50258, 50258,  ..., 50259, 50259, 50259],\n",
            "        ...,\n",
            "        [50258, 50258, 50258,  ..., 50259, 50259, 50259],\n",
            "        [50258, 50258, 50258,  ..., 50259, 50259, 50259],\n",
            "        [50258, 50258, 50258,  ..., 50259, 50259, 50259]], device='cuda:0')\n"
          ],
          "name": "stdout"
        },
        {
          "output_type": "stream",
          "text": [
            "\rTraining:  27%|██▋       | 77/287 [00:43<01:59,  1.76it/s]"
          ],
          "name": "stderr"
        },
        {
          "output_type": "stream",
          "text": [
            "32\n",
            "tensor([[50258, 50258, 50258,  ..., 50259, 50259, 50259],\n",
            "        [50258, 50258, 50258,  ..., 50259, 50259, 50259],\n",
            "        [50258, 50258, 50258,  ..., 50259, 50259, 50259],\n",
            "        ...,\n",
            "        [50258, 50258, 50258,  ..., 50259, 50259, 50259],\n",
            "        [50258, 50258, 50258,  ..., 50259, 50259, 50259],\n",
            "        [50258, 50258, 50258,  ..., 50259, 50259, 50259]], device='cuda:0')\n"
          ],
          "name": "stdout"
        },
        {
          "output_type": "stream",
          "text": [
            "\rTraining:  27%|██▋       | 78/287 [00:44<01:58,  1.76it/s]"
          ],
          "name": "stderr"
        },
        {
          "output_type": "stream",
          "text": [
            "32\n",
            "tensor([[50258, 50258, 50258,  ..., 50259, 50259, 50259],\n",
            "        [50258, 50258, 50258,  ..., 50259, 50259, 50259],\n",
            "        [50258, 50258, 50258,  ..., 50259, 50259, 50259],\n",
            "        ...,\n",
            "        [50258, 50258, 50258,  ..., 50259, 50259, 50259],\n",
            "        [50258, 50258, 50258,  ..., 50259, 50259, 50259],\n",
            "        [50258, 50258, 50258,  ..., 50259, 50259, 50259]], device='cuda:0')\n"
          ],
          "name": "stdout"
        },
        {
          "output_type": "stream",
          "text": [
            "\rTraining:  28%|██▊       | 79/287 [00:45<01:58,  1.76it/s]"
          ],
          "name": "stderr"
        },
        {
          "output_type": "stream",
          "text": [
            "32\n",
            "tensor([[50258, 50258, 50258,  ..., 50259, 50259, 50259],\n",
            "        [50258, 50258, 50258,  ..., 50259, 50259, 50259],\n",
            "        [50258, 50258, 50258,  ..., 50259, 50259, 50259],\n",
            "        ...,\n",
            "        [50258, 50258, 50258,  ..., 50259, 50259, 50259],\n",
            "        [50258, 50258, 50258,  ..., 50259, 50259, 50259],\n",
            "        [50258, 50258, 50258,  ..., 50259, 50259, 50259]], device='cuda:0')\n"
          ],
          "name": "stdout"
        },
        {
          "output_type": "stream",
          "text": [
            "\rTraining:  28%|██▊       | 80/287 [00:45<01:57,  1.76it/s]"
          ],
          "name": "stderr"
        },
        {
          "output_type": "stream",
          "text": [
            "32\n",
            "tensor([[50258, 50258, 50258,  ..., 50259, 50259, 50259],\n",
            "        [50258, 50258, 50258,  ..., 50259, 50259, 50259],\n",
            "        [50258, 50258, 50258,  ..., 50259, 50259, 50259],\n",
            "        ...,\n",
            "        [50258, 50258, 50258,  ..., 50259, 50259, 50259],\n",
            "        [50258, 50258, 50258,  ..., 50259, 50259, 50259],\n",
            "        [50258, 50258, 50258,  ..., 50259, 50259, 50259]], device='cuda:0')\n"
          ],
          "name": "stdout"
        },
        {
          "output_type": "stream",
          "text": [
            "\rTraining:  28%|██▊       | 81/287 [00:46<01:57,  1.76it/s]"
          ],
          "name": "stderr"
        },
        {
          "output_type": "stream",
          "text": [
            "32\n",
            "tensor([[50258, 50258, 50258,  ..., 50259, 50259, 50259],\n",
            "        [50258, 50258, 50258,  ..., 50259, 50259, 50259],\n",
            "        [50258, 50258, 50258,  ..., 50259, 50259, 50259],\n",
            "        ...,\n",
            "        [50258, 50258, 50258,  ..., 50259, 50259, 50259],\n",
            "        [50258, 50258, 50258,  ..., 50259, 50259, 50259],\n",
            "        [50258, 50258, 50258,  ..., 50259, 50259, 50259]], device='cuda:0')\n"
          ],
          "name": "stdout"
        },
        {
          "output_type": "stream",
          "text": [
            "\rTraining:  29%|██▊       | 82/287 [00:46<01:56,  1.76it/s]"
          ],
          "name": "stderr"
        },
        {
          "output_type": "stream",
          "text": [
            "32\n",
            "tensor([[50258, 50258, 50258,  ..., 50259, 50259, 50259],\n",
            "        [50258, 50258, 50258,  ..., 50259, 50259, 50259],\n",
            "        [50258, 50258, 50258,  ..., 50259, 50259, 50259],\n",
            "        ...,\n",
            "        [50258, 50258, 50258,  ..., 50259, 50259, 50259],\n",
            "        [50258, 50258, 50258,  ..., 50259, 50259, 50259],\n",
            "        [50258, 50258, 50258,  ..., 50259, 50259, 50259]], device='cuda:0')\n"
          ],
          "name": "stdout"
        },
        {
          "output_type": "stream",
          "text": [
            "\rTraining:  29%|██▉       | 83/287 [00:47<01:55,  1.77it/s]"
          ],
          "name": "stderr"
        },
        {
          "output_type": "stream",
          "text": [
            "32\n",
            "tensor([[50258, 50258, 50258,  ..., 50259, 50259, 50259],\n",
            "        [50258, 50258, 50258,  ..., 50259, 50259, 50259],\n",
            "        [50258, 50258, 50258,  ..., 50259, 50259, 50259],\n",
            "        ...,\n",
            "        [50258, 50258, 50258,  ..., 50259, 50259, 50259],\n",
            "        [50258, 50258, 50258,  ..., 50259, 50259, 50259],\n",
            "        [50258, 50258, 50258,  ..., 50259, 50259, 50259]], device='cuda:0')\n"
          ],
          "name": "stdout"
        },
        {
          "output_type": "stream",
          "text": [
            "\rTraining:  29%|██▉       | 84/287 [00:47<01:55,  1.75it/s]"
          ],
          "name": "stderr"
        },
        {
          "output_type": "stream",
          "text": [
            "32\n",
            "tensor([[50258, 50258, 50258,  ..., 50259, 50259, 50259],\n",
            "        [50258, 50258, 50258,  ..., 50259, 50259, 50259],\n",
            "        [50258, 50258, 50258,  ..., 50259, 50259, 50259],\n",
            "        ...,\n",
            "        [50258, 50258, 50258,  ..., 50259, 50259, 50259],\n",
            "        [50258, 50258, 50258,  ..., 50259, 50259, 50259],\n",
            "        [50258, 50258, 50258,  ..., 50259, 50259, 50259]], device='cuda:0')\n"
          ],
          "name": "stdout"
        },
        {
          "output_type": "stream",
          "text": [
            "\rTraining:  30%|██▉       | 85/287 [00:48<01:54,  1.77it/s]"
          ],
          "name": "stderr"
        },
        {
          "output_type": "stream",
          "text": [
            "32\n",
            "tensor([[50258, 50258, 50258,  ..., 50259, 50259, 50259],\n",
            "        [50258, 50258, 50258,  ..., 50259, 50259, 50259],\n",
            "        [50258, 50258, 50258,  ..., 50259, 50259, 50259],\n",
            "        ...,\n",
            "        [50258, 50258, 50258,  ..., 50259, 50259, 50259],\n",
            "        [50258, 50258, 50258,  ..., 50259, 50259, 50259],\n",
            "        [50258, 50258, 50258,  ..., 50259, 50259, 50259]], device='cuda:0')\n"
          ],
          "name": "stdout"
        },
        {
          "output_type": "stream",
          "text": [
            "\rTraining:  30%|██▉       | 86/287 [00:48<01:53,  1.77it/s]"
          ],
          "name": "stderr"
        },
        {
          "output_type": "stream",
          "text": [
            "32\n",
            "tensor([[50258, 50258, 50258,  ..., 50259, 50259, 50259],\n",
            "        [50258, 50258, 50258,  ..., 50259, 50259, 50259],\n",
            "        [50258, 50258, 50258,  ..., 50259, 50259, 50259],\n",
            "        ...,\n",
            "        [50258, 50258, 50258,  ..., 50259, 50259, 50259],\n",
            "        [50258, 50258, 50258,  ..., 50259, 50259, 50259],\n",
            "        [50258, 50258, 50258,  ..., 50259, 50259, 50259]], device='cuda:0')\n"
          ],
          "name": "stdout"
        },
        {
          "output_type": "stream",
          "text": [
            "\rTraining:  30%|███       | 87/287 [00:49<01:52,  1.77it/s]"
          ],
          "name": "stderr"
        },
        {
          "output_type": "stream",
          "text": [
            "32\n",
            "tensor([[50258, 50258, 50258,  ..., 50259, 50259, 50259],\n",
            "        [50258, 50258, 50258,  ..., 50259, 50259, 50259],\n",
            "        [50258, 50258, 50258,  ..., 50259, 50259, 50259],\n",
            "        ...,\n",
            "        [50258, 50258, 50258,  ..., 50259, 50259, 50259],\n",
            "        [50258, 50258, 50258,  ..., 50259, 50259, 50259],\n",
            "        [50258, 50258, 50258,  ..., 50259, 50259, 50259]], device='cuda:0')\n"
          ],
          "name": "stdout"
        },
        {
          "output_type": "stream",
          "text": [
            "\rTraining:  31%|███       | 88/287 [00:50<01:52,  1.77it/s]"
          ],
          "name": "stderr"
        },
        {
          "output_type": "stream",
          "text": [
            "32\n",
            "tensor([[50258, 50258, 50258,  ..., 50259, 50259, 50259],\n",
            "        [50258, 50258, 50258,  ..., 50259, 50259, 50259],\n",
            "        [50258, 50258, 50258,  ..., 50259, 50259, 50259],\n",
            "        ...,\n",
            "        [50258, 50258, 50258,  ..., 50259, 50259, 50259],\n",
            "        [50258, 50258, 50258,  ..., 50259, 50259, 50259],\n",
            "        [50258, 50258, 50258,  ..., 50259, 50259, 50259]], device='cuda:0')\n"
          ],
          "name": "stdout"
        },
        {
          "output_type": "stream",
          "text": [
            "\rTraining:  31%|███       | 89/287 [00:50<01:51,  1.78it/s]"
          ],
          "name": "stderr"
        },
        {
          "output_type": "stream",
          "text": [
            "32\n",
            "tensor([[50258, 50258, 50258,  ..., 50259, 50259, 50259],\n",
            "        [50258, 50258, 50258,  ..., 50259, 50259, 50259],\n",
            "        [50258, 50258, 50258,  ..., 50259, 50259, 50259],\n",
            "        ...,\n",
            "        [50258, 50258, 50258,  ..., 50259, 50259, 50259],\n",
            "        [50258, 50258, 50258,  ..., 50259, 50259, 50259],\n",
            "        [50258, 50258, 50258,  ..., 50259, 50259, 50259]], device='cuda:0')\n"
          ],
          "name": "stdout"
        },
        {
          "output_type": "stream",
          "text": [
            "\rTraining:  31%|███▏      | 90/287 [00:51<01:50,  1.77it/s]"
          ],
          "name": "stderr"
        },
        {
          "output_type": "stream",
          "text": [
            "32\n",
            "tensor([[50258, 50258, 50258,  ..., 50259, 50259, 50259],\n",
            "        [50258, 50258, 50258,  ..., 50259, 50259, 50259],\n",
            "        [50258, 50258, 50258,  ..., 50259, 50259, 50259],\n",
            "        ...,\n",
            "        [50258, 50258, 50258,  ..., 50259, 50259, 50259],\n",
            "        [50258, 50258, 50258,  ..., 50259, 50259, 50259],\n",
            "        [50258, 50258, 50258,  ..., 50259, 50259, 50259]], device='cuda:0')\n"
          ],
          "name": "stdout"
        },
        {
          "output_type": "stream",
          "text": [
            "\rTraining:  32%|███▏      | 91/287 [00:51<01:50,  1.78it/s]"
          ],
          "name": "stderr"
        },
        {
          "output_type": "stream",
          "text": [
            "32\n",
            "tensor([[50258, 50258, 50258,  ..., 50259, 50259, 50259],\n",
            "        [50258, 50258, 50258,  ..., 50259, 50259, 50259],\n",
            "        [50258, 50258, 50258,  ..., 50259, 50259, 50259],\n",
            "        ...,\n",
            "        [50258, 50258, 50258,  ..., 50259, 50259, 50259],\n",
            "        [50258, 50258, 50258,  ..., 50259, 50259, 50259],\n",
            "        [50258, 50258, 50258,  ..., 50259, 50259, 50259]], device='cuda:0')\n"
          ],
          "name": "stdout"
        },
        {
          "output_type": "stream",
          "text": [
            "\rTraining:  32%|███▏      | 92/287 [00:52<01:49,  1.78it/s]"
          ],
          "name": "stderr"
        },
        {
          "output_type": "stream",
          "text": [
            "32\n",
            "tensor([[50258, 50258, 50258,  ..., 50259, 50259, 50259],\n",
            "        [50258, 50258, 50258,  ..., 50259, 50259, 50259],\n",
            "        [50258, 50258, 50258,  ..., 50259, 50259, 50259],\n",
            "        ...,\n",
            "        [50258, 50258, 50258,  ..., 50259, 50259, 50259],\n",
            "        [50258, 50258, 50258,  ..., 50259, 50259, 50259],\n",
            "        [50258, 50258, 50258,  ..., 50259, 50259, 50259]], device='cuda:0')\n"
          ],
          "name": "stdout"
        },
        {
          "output_type": "stream",
          "text": [
            "\rTraining:  32%|███▏      | 93/287 [00:52<01:49,  1.78it/s]"
          ],
          "name": "stderr"
        },
        {
          "output_type": "stream",
          "text": [
            "32\n",
            "tensor([[50258, 50258, 50258,  ..., 50259, 50259, 50259],\n",
            "        [50258, 50258, 50258,  ..., 50259, 50259, 50259],\n",
            "        [50258, 50258, 50258,  ..., 50259, 50259, 50259],\n",
            "        ...,\n",
            "        [50258, 50258, 50258,  ..., 50259, 50259, 50259],\n",
            "        [50258, 50258, 50258,  ..., 50259, 50259, 50259],\n",
            "        [50258, 50258, 50258,  ..., 50259, 50259, 50259]], device='cuda:0')\n"
          ],
          "name": "stdout"
        },
        {
          "output_type": "stream",
          "text": [
            "\rTraining:  33%|███▎      | 94/287 [00:53<01:48,  1.78it/s]"
          ],
          "name": "stderr"
        },
        {
          "output_type": "stream",
          "text": [
            "32\n",
            "tensor([[50258, 50258, 50258,  ..., 50259, 50259, 50259],\n",
            "        [50258, 50258, 50258,  ..., 50259, 50259, 50259],\n",
            "        [50258, 50258, 50258,  ..., 50259, 50259, 50259],\n",
            "        ...,\n",
            "        [50258, 50258, 50258,  ..., 50259, 50259, 50259],\n",
            "        [50258, 50258, 50258,  ..., 50259, 50259, 50259],\n",
            "        [50258, 50258, 50258,  ..., 50259, 50259, 50259]], device='cuda:0')\n"
          ],
          "name": "stdout"
        },
        {
          "output_type": "stream",
          "text": [
            "\rTraining:  33%|███▎      | 95/287 [00:54<01:47,  1.78it/s]"
          ],
          "name": "stderr"
        },
        {
          "output_type": "stream",
          "text": [
            "32\n",
            "tensor([[50258, 50258, 50258,  ..., 50259, 50259, 50259],\n",
            "        [50258, 50258, 50258,  ..., 50259, 50259, 50259],\n",
            "        [50258, 50258, 50258,  ..., 50259, 50259, 50259],\n",
            "        ...,\n",
            "        [50258, 50258, 50258,  ..., 50259, 50259, 50259],\n",
            "        [50258, 50258, 50258,  ..., 50259, 50259, 50259],\n",
            "        [50258, 50258, 50258,  ..., 50259, 50259, 50259]], device='cuda:0')\n"
          ],
          "name": "stdout"
        },
        {
          "output_type": "stream",
          "text": [
            "\rTraining:  33%|███▎      | 96/287 [00:54<01:47,  1.78it/s]"
          ],
          "name": "stderr"
        },
        {
          "output_type": "stream",
          "text": [
            "32\n",
            "tensor([[50258, 50258, 50258,  ..., 50259, 50259, 50259],\n",
            "        [50258, 50258, 50258,  ..., 50259, 50259, 50259],\n",
            "        [50258, 50258, 50258,  ..., 50259, 50259, 50259],\n",
            "        ...,\n",
            "        [50258, 50258, 50258,  ..., 50259, 50259, 50259],\n",
            "        [50258, 50258, 50258,  ..., 50259, 50259, 50259],\n",
            "        [50258, 50258, 50258,  ..., 50259, 50259, 50259]], device='cuda:0')\n"
          ],
          "name": "stdout"
        },
        {
          "output_type": "stream",
          "text": [
            "\rTraining:  34%|███▍      | 97/287 [00:55<01:46,  1.78it/s]"
          ],
          "name": "stderr"
        },
        {
          "output_type": "stream",
          "text": [
            "32\n",
            "tensor([[50258, 50258, 50258,  ..., 50259, 50259, 50259],\n",
            "        [50258, 50258, 50258,  ..., 50259, 50259, 50259],\n",
            "        [50258, 50258, 50258,  ..., 50259, 50259, 50259],\n",
            "        ...,\n",
            "        [50258, 50258, 50258,  ..., 50259, 50259, 50259],\n",
            "        [50258, 50258, 50258,  ..., 50259, 50259, 50259],\n",
            "        [50258, 50258, 50258,  ..., 50259, 50259, 50259]], device='cuda:0')\n"
          ],
          "name": "stdout"
        },
        {
          "output_type": "stream",
          "text": [
            "\rTraining:  34%|███▍      | 98/287 [00:55<01:46,  1.78it/s]"
          ],
          "name": "stderr"
        },
        {
          "output_type": "stream",
          "text": [
            "32\n",
            "tensor([[50258, 50258, 50258,  ..., 50259, 50259, 50259],\n",
            "        [50258, 50258, 50258,  ..., 50259, 50259, 50259],\n",
            "        [50258, 50258, 50258,  ..., 50259, 50259, 50259],\n",
            "        ...,\n",
            "        [50258, 50258, 50258,  ..., 50259, 50259, 50259],\n",
            "        [50258, 50258, 50258,  ..., 50259, 50259, 50259],\n",
            "        [50258, 50258, 50258,  ..., 50259, 50259, 50259]], device='cuda:0')\n"
          ],
          "name": "stdout"
        },
        {
          "output_type": "stream",
          "text": [
            "\rTraining:  34%|███▍      | 99/287 [00:56<01:45,  1.78it/s]"
          ],
          "name": "stderr"
        },
        {
          "output_type": "stream",
          "text": [
            "32\n",
            "tensor([[50258, 50258, 50258,  ..., 50259, 50259, 50259],\n",
            "        [50258, 50258, 50258,  ..., 50259, 50259, 50259],\n",
            "        [50258, 50258, 50258,  ..., 50259, 50259, 50259],\n",
            "        ...,\n",
            "        [50258, 50258, 50258,  ..., 50259, 50259, 50259],\n",
            "        [50258, 50258, 50258,  ..., 50259, 50259, 50259],\n",
            "        [50258, 50258, 50258,  ..., 50259, 50259, 50259]], device='cuda:0')\n"
          ],
          "name": "stdout"
        },
        {
          "output_type": "stream",
          "text": [
            "\rTraining:  35%|███▍      | 100/287 [00:56<01:44,  1.78it/s]"
          ],
          "name": "stderr"
        },
        {
          "output_type": "stream",
          "text": [
            "32\n",
            "tensor([[50258, 50258, 50258,  ..., 50259, 50259, 50259],\n",
            "        [50258, 50258, 50258,  ..., 50259, 50259, 50259],\n",
            "        [50258, 50258, 50258,  ..., 50259, 50259, 50259],\n",
            "        ...,\n",
            "        [50258, 50258, 50258,  ..., 50259, 50259, 50259],\n",
            "        [50258, 50258, 50258,  ..., 50259, 50259, 50259],\n",
            "        [50258, 50258, 50258,  ..., 50259, 50259, 50259]], device='cuda:0')\n"
          ],
          "name": "stdout"
        },
        {
          "output_type": "stream",
          "text": [
            "\rTraining:  35%|███▌      | 101/287 [00:57<01:44,  1.78it/s]"
          ],
          "name": "stderr"
        },
        {
          "output_type": "stream",
          "text": [
            "32\n",
            "tensor([[50258, 50258, 50258,  ..., 50259, 50259, 50259],\n",
            "        [50258, 50258, 50258,  ..., 50259, 50259, 50259],\n",
            "        [50258, 50258, 50258,  ..., 50259, 50259, 50259],\n",
            "        ...,\n",
            "        [50258, 50258, 50258,  ..., 50259, 50259, 50259],\n",
            "        [50258, 50258, 50258,  ..., 50259, 50259, 50259],\n",
            "        [50258, 50258, 50258,  ..., 50259, 50259, 50259]], device='cuda:0')\n"
          ],
          "name": "stdout"
        },
        {
          "output_type": "stream",
          "text": [
            "\rTraining:  36%|███▌      | 102/287 [00:57<01:43,  1.79it/s]"
          ],
          "name": "stderr"
        },
        {
          "output_type": "stream",
          "text": [
            "32\n",
            "tensor([[50258, 50258, 50258,  ..., 50259, 50259, 50259],\n",
            "        [50258, 50258, 50258,  ..., 50259, 50259, 50259],\n",
            "        [50258, 50258, 50258,  ..., 50259, 50259, 50259],\n",
            "        ...,\n",
            "        [50258, 50258, 50258,  ..., 50259, 50259, 50259],\n",
            "        [50258, 50258, 50258,  ..., 50259, 50259, 50259],\n",
            "        [50258, 50258, 50258,  ..., 50259, 50259, 50259]], device='cuda:0')\n"
          ],
          "name": "stdout"
        },
        {
          "output_type": "stream",
          "text": [
            "\rTraining:  36%|███▌      | 103/287 [00:58<01:42,  1.79it/s]"
          ],
          "name": "stderr"
        },
        {
          "output_type": "stream",
          "text": [
            "32\n",
            "tensor([[50258, 50258, 50258,  ..., 50259, 50259, 50259],\n",
            "        [50258, 50258, 50258,  ..., 50259, 50259, 50259],\n",
            "        [50258, 50258, 50258,  ..., 50259, 50259, 50259],\n",
            "        ...,\n",
            "        [50258, 50258, 50258,  ..., 50259, 50259, 50259],\n",
            "        [50258, 50258, 50258,  ..., 50259, 50259, 50259],\n",
            "        [50258, 50258, 50258,  ..., 50259, 50259, 50259]], device='cuda:0')\n"
          ],
          "name": "stdout"
        },
        {
          "output_type": "stream",
          "text": [
            "\rTraining:  36%|███▌      | 104/287 [00:59<01:42,  1.79it/s]"
          ],
          "name": "stderr"
        },
        {
          "output_type": "stream",
          "text": [
            "32\n",
            "tensor([[50258, 50258, 50258,  ..., 50259, 50259, 50259],\n",
            "        [50258, 50258, 50258,  ..., 50259, 50259, 50259],\n",
            "        [50258, 50258, 50258,  ..., 50259, 50259, 50259],\n",
            "        ...,\n",
            "        [50258, 50258, 50258,  ..., 50259, 50259, 50259],\n",
            "        [50258, 50258, 50258,  ..., 50259, 50259, 50259],\n",
            "        [50258, 50258, 50258,  ..., 50259, 50259, 50259]], device='cuda:0')\n"
          ],
          "name": "stdout"
        },
        {
          "output_type": "stream",
          "text": [
            "\rTraining:  37%|███▋      | 105/287 [00:59<01:41,  1.79it/s]"
          ],
          "name": "stderr"
        },
        {
          "output_type": "stream",
          "text": [
            "32\n",
            "tensor([[50258, 50258, 50258,  ..., 50259, 50259, 50259],\n",
            "        [50258, 50258, 50258,  ..., 50259, 50259, 50259],\n",
            "        [50258, 50258, 50258,  ..., 50259, 50259, 50259],\n",
            "        ...,\n",
            "        [50258, 50258, 50258,  ..., 50259, 50259, 50259],\n",
            "        [50258, 50258, 50258,  ..., 50259, 50259, 50259],\n",
            "        [50258, 50258, 50258,  ..., 50259, 50259, 50259]], device='cuda:0')\n"
          ],
          "name": "stdout"
        },
        {
          "output_type": "stream",
          "text": [
            "\rTraining:  37%|███▋      | 106/287 [01:00<01:41,  1.79it/s]"
          ],
          "name": "stderr"
        },
        {
          "output_type": "stream",
          "text": [
            "32\n",
            "tensor([[50258, 50258, 50258,  ..., 50259, 50259, 50259],\n",
            "        [50258, 50258, 50258,  ..., 50259, 50259, 50259],\n",
            "        [50258, 50258, 50258,  ..., 50259, 50259, 50259],\n",
            "        ...,\n",
            "        [50258, 50258, 50258,  ..., 50259, 50259, 50259],\n",
            "        [50258, 50258, 50258,  ..., 50259, 50259, 50259],\n",
            "        [50258, 50258, 50258,  ..., 50259, 50259, 50259]], device='cuda:0')\n"
          ],
          "name": "stdout"
        },
        {
          "output_type": "stream",
          "text": [
            "\rTraining:  37%|███▋      | 107/287 [01:00<01:40,  1.79it/s]"
          ],
          "name": "stderr"
        },
        {
          "output_type": "stream",
          "text": [
            "32\n",
            "tensor([[50258, 50258, 50258,  ..., 50259, 50259, 50259],\n",
            "        [50258, 50258, 50258,  ..., 50259, 50259, 50259],\n",
            "        [50258, 50258, 50258,  ..., 50259, 50259, 50259],\n",
            "        ...,\n",
            "        [50258, 50258, 50258,  ..., 50259, 50259, 50259],\n",
            "        [50258, 50258, 50258,  ..., 50259, 50259, 50259],\n",
            "        [50258, 50258, 50258,  ..., 50259, 50259, 50259]], device='cuda:0')\n"
          ],
          "name": "stdout"
        },
        {
          "output_type": "stream",
          "text": [
            "\rTraining:  38%|███▊      | 108/287 [01:01<01:39,  1.79it/s]"
          ],
          "name": "stderr"
        },
        {
          "output_type": "stream",
          "text": [
            "32\n",
            "tensor([[50258, 50258, 50258,  ..., 50259, 50259, 50259],\n",
            "        [50258, 50258, 50258,  ..., 50259, 50259, 50259],\n",
            "        [50258, 50258, 50258,  ..., 50259, 50259, 50259],\n",
            "        ...,\n",
            "        [50258, 50258, 50258,  ..., 50259, 50259, 50259],\n",
            "        [50258, 50258, 50258,  ..., 50259, 50259, 50259],\n",
            "        [50258, 50258, 50258,  ..., 50259, 50259, 50259]], device='cuda:0')\n"
          ],
          "name": "stdout"
        },
        {
          "output_type": "stream",
          "text": [
            "\rTraining:  38%|███▊      | 109/287 [01:01<01:39,  1.79it/s]"
          ],
          "name": "stderr"
        },
        {
          "output_type": "stream",
          "text": [
            "32\n",
            "tensor([[50258, 50258, 50258,  ..., 50259, 50259, 50259],\n",
            "        [50258, 50258, 50258,  ..., 50259, 50259, 50259],\n",
            "        [50258, 50258, 50258,  ..., 50259, 50259, 50259],\n",
            "        ...,\n",
            "        [50258, 50258, 50258,  ..., 50259, 50259, 50259],\n",
            "        [50258, 50258, 50258,  ..., 50259, 50259, 50259],\n",
            "        [50258, 50258, 50258,  ..., 50259, 50259, 50259]], device='cuda:0')\n"
          ],
          "name": "stdout"
        },
        {
          "output_type": "stream",
          "text": [
            "\rTraining:  38%|███▊      | 110/287 [01:02<01:38,  1.79it/s]"
          ],
          "name": "stderr"
        },
        {
          "output_type": "stream",
          "text": [
            "32\n",
            "tensor([[50258, 50258, 50258,  ..., 50259, 50259, 50259],\n",
            "        [50258, 50258, 50258,  ..., 50259, 50259, 50259],\n",
            "        [50258, 50258, 50258,  ..., 50259, 50259, 50259],\n",
            "        ...,\n",
            "        [50258, 50258, 50258,  ..., 50259, 50259, 50259],\n",
            "        [50258, 50258, 50258,  ..., 50259, 50259, 50259],\n",
            "        [50258, 50258, 50258,  ..., 50259, 50259, 50259]], device='cuda:0')\n"
          ],
          "name": "stdout"
        },
        {
          "output_type": "stream",
          "text": [
            "\rTraining:  39%|███▊      | 111/287 [01:02<01:38,  1.80it/s]"
          ],
          "name": "stderr"
        },
        {
          "output_type": "stream",
          "text": [
            "32\n",
            "tensor([[50258, 50258, 50258,  ..., 50259, 50259, 50259],\n",
            "        [50258, 50258, 50258,  ..., 50259, 50259, 50259],\n",
            "        [50258, 50258, 50258,  ..., 50259, 50259, 50259],\n",
            "        ...,\n",
            "        [50258, 50258, 50258,  ..., 50259, 50259, 50259],\n",
            "        [50258, 50258, 50258,  ..., 50259, 50259, 50259],\n",
            "        [50258, 50258, 50258,  ..., 50259, 50259, 50259]], device='cuda:0')\n"
          ],
          "name": "stdout"
        },
        {
          "output_type": "stream",
          "text": [
            "\rTraining:  39%|███▉      | 112/287 [01:03<01:37,  1.79it/s]"
          ],
          "name": "stderr"
        },
        {
          "output_type": "stream",
          "text": [
            "32\n",
            "tensor([[50258, 50258, 50258,  ..., 50259, 50259, 50259],\n",
            "        [50258, 50258, 50258,  ..., 50259, 50259, 50259],\n",
            "        [50258, 50258, 50258,  ..., 50259, 50259, 50259],\n",
            "        ...,\n",
            "        [50258, 50258, 50258,  ..., 50259, 50259, 50259],\n",
            "        [50258, 50258, 50258,  ..., 50259, 50259, 50259],\n",
            "        [50258, 50258, 50258,  ..., 50259, 50259, 50259]], device='cuda:0')\n"
          ],
          "name": "stdout"
        },
        {
          "output_type": "stream",
          "text": [
            "\rTraining:  39%|███▉      | 113/287 [01:04<01:36,  1.80it/s]"
          ],
          "name": "stderr"
        },
        {
          "output_type": "stream",
          "text": [
            "32\n",
            "tensor([[50258, 50258, 50258,  ..., 50259, 50259, 50259],\n",
            "        [50258, 50258, 50258,  ..., 50259, 50259, 50259],\n",
            "        [50258, 50258, 50258,  ..., 50259, 50259, 50259],\n",
            "        ...,\n",
            "        [50258, 50258, 50258,  ..., 50259, 50259, 50259],\n",
            "        [50258, 50258, 50258,  ..., 50259, 50259, 50259],\n",
            "        [50258, 50258, 50258,  ..., 50259, 50259, 50259]], device='cuda:0')\n"
          ],
          "name": "stdout"
        },
        {
          "output_type": "stream",
          "text": [
            "\rTraining:  40%|███▉      | 114/287 [01:04<01:36,  1.79it/s]"
          ],
          "name": "stderr"
        },
        {
          "output_type": "stream",
          "text": [
            "32\n",
            "tensor([[50258, 50258, 50258,  ..., 50259, 50259, 50259],\n",
            "        [50258, 50258, 50258,  ..., 50259, 50259, 50259],\n",
            "        [50258, 50258, 50258,  ..., 50259, 50259, 50259],\n",
            "        ...,\n",
            "        [50258, 50258, 50258,  ..., 50259, 50259, 50259],\n",
            "        [50258, 50258, 50258,  ..., 50259, 50259, 50259],\n",
            "        [50258, 50258, 50258,  ..., 50259, 50259, 50259]], device='cuda:0')\n"
          ],
          "name": "stdout"
        },
        {
          "output_type": "stream",
          "text": [
            "\rTraining:  40%|████      | 115/287 [01:05<01:35,  1.80it/s]"
          ],
          "name": "stderr"
        },
        {
          "output_type": "stream",
          "text": [
            "32\n",
            "tensor([[50258, 50258, 50258,  ..., 50259, 50259, 50259],\n",
            "        [50258, 50258, 50258,  ..., 50259, 50259, 50259],\n",
            "        [50258, 50258, 50258,  ..., 50259, 50259, 50259],\n",
            "        ...,\n",
            "        [50258, 50258, 50258,  ..., 50259, 50259, 50259],\n",
            "        [50258, 50258, 50258,  ..., 50259, 50259, 50259],\n",
            "        [50258, 50258, 50258,  ..., 50259, 50259, 50259]], device='cuda:0')\n"
          ],
          "name": "stdout"
        },
        {
          "output_type": "stream",
          "text": [
            "\rTraining:  40%|████      | 116/287 [01:05<01:35,  1.80it/s]"
          ],
          "name": "stderr"
        },
        {
          "output_type": "stream",
          "text": [
            "32\n",
            "tensor([[50258, 50258, 50258,  ..., 50259, 50259, 50259],\n",
            "        [50258, 50258, 50258,  ..., 50259, 50259, 50259],\n",
            "        [50258, 50258, 50258,  ..., 50259, 50259, 50259],\n",
            "        ...,\n",
            "        [50258, 50258, 50258,  ..., 50259, 50259, 50259],\n",
            "        [50258, 50258, 50258,  ..., 50259, 50259, 50259],\n",
            "        [50258, 50258, 50258,  ..., 50259, 50259, 50259]], device='cuda:0')\n"
          ],
          "name": "stdout"
        },
        {
          "output_type": "stream",
          "text": [
            "\rTraining:  41%|████      | 117/287 [01:06<01:34,  1.80it/s]"
          ],
          "name": "stderr"
        },
        {
          "output_type": "stream",
          "text": [
            "32\n",
            "tensor([[50258, 50258, 50258,  ..., 50259, 50259, 50259],\n",
            "        [50258, 50258, 50258,  ..., 50259, 50259, 50259],\n",
            "        [50258, 50258, 50258,  ..., 50259, 50259, 50259],\n",
            "        ...,\n",
            "        [50258, 50258, 50258,  ..., 50259, 50259, 50259],\n",
            "        [50258, 50258, 50258,  ..., 50259, 50259, 50259],\n",
            "        [50258, 50258, 50258,  ..., 50259, 50259, 50259]], device='cuda:0')\n"
          ],
          "name": "stdout"
        },
        {
          "output_type": "stream",
          "text": [
            "\rTraining:  41%|████      | 118/287 [01:06<01:34,  1.80it/s]"
          ],
          "name": "stderr"
        },
        {
          "output_type": "stream",
          "text": [
            "32\n",
            "tensor([[50258, 50258, 50258,  ..., 50259, 50259, 50259],\n",
            "        [50258, 50258, 50258,  ..., 50259, 50259, 50259],\n",
            "        [50258, 50258, 50258,  ..., 50259, 50259, 50259],\n",
            "        ...,\n",
            "        [50258, 50258, 50258,  ..., 50259, 50259, 50259],\n",
            "        [50258, 50258, 50258,  ..., 50259, 50259, 50259],\n",
            "        [50258, 50258, 50258,  ..., 50259, 50259, 50259]], device='cuda:0')\n"
          ],
          "name": "stdout"
        },
        {
          "output_type": "stream",
          "text": [
            "\rTraining:  41%|████▏     | 119/287 [01:07<01:33,  1.80it/s]"
          ],
          "name": "stderr"
        },
        {
          "output_type": "stream",
          "text": [
            "32\n",
            "tensor([[50258, 50258, 50258,  ..., 50259, 50259, 50259],\n",
            "        [50258, 50258, 50258,  ..., 50259, 50259, 50259],\n",
            "        [50258, 50258, 50258,  ..., 50259, 50259, 50259],\n",
            "        ...,\n",
            "        [50258, 50258, 50258,  ..., 50259, 50259, 50259],\n",
            "        [50258, 50258, 50258,  ..., 50259, 50259, 50259],\n",
            "        [50258, 50258, 50258,  ..., 50259, 50259, 50259]], device='cuda:0')\n"
          ],
          "name": "stdout"
        },
        {
          "output_type": "stream",
          "text": [
            "\rTraining:  42%|████▏     | 120/287 [01:07<01:32,  1.80it/s]"
          ],
          "name": "stderr"
        },
        {
          "output_type": "stream",
          "text": [
            "32\n",
            "tensor([[50258, 50258, 50258,  ..., 50259, 50259, 50259],\n",
            "        [50258, 50258, 50258,  ..., 50259, 50259, 50259],\n",
            "        [50258, 50258, 50258,  ..., 50259, 50259, 50259],\n",
            "        ...,\n",
            "        [50258, 50258, 50258,  ..., 50259, 50259, 50259],\n",
            "        [50258, 50258, 50258,  ..., 50259, 50259, 50259],\n",
            "        [50258, 50258, 50258,  ..., 50259, 50259, 50259]], device='cuda:0')\n"
          ],
          "name": "stdout"
        },
        {
          "output_type": "stream",
          "text": [
            "\rTraining:  42%|████▏     | 121/287 [01:08<01:32,  1.80it/s]"
          ],
          "name": "stderr"
        },
        {
          "output_type": "stream",
          "text": [
            "32\n",
            "tensor([[50258, 50258, 50258,  ..., 50259, 50259, 50259],\n",
            "        [50258, 50258, 50258,  ..., 50259, 50259, 50259],\n",
            "        [50258, 50258, 50258,  ..., 50259, 50259, 50259],\n",
            "        ...,\n",
            "        [50258, 50258, 50258,  ..., 50259, 50259, 50259],\n",
            "        [50258, 50258, 50258,  ..., 50259, 50259, 50259],\n",
            "        [50258, 50258, 50258,  ..., 50259, 50259, 50259]], device='cuda:0')\n"
          ],
          "name": "stdout"
        },
        {
          "output_type": "stream",
          "text": [
            "\rTraining:  43%|████▎     | 122/287 [01:09<01:31,  1.80it/s]"
          ],
          "name": "stderr"
        },
        {
          "output_type": "stream",
          "text": [
            "32\n",
            "tensor([[50258, 50258, 50258,  ..., 50259, 50259, 50259],\n",
            "        [50258, 50258, 50258,  ..., 50259, 50259, 50259],\n",
            "        [50258, 50258, 50258,  ..., 50259, 50259, 50259],\n",
            "        ...,\n",
            "        [50258, 50258, 50258,  ..., 50259, 50259, 50259],\n",
            "        [50258, 50258, 50258,  ..., 50259, 50259, 50259],\n",
            "        [50258, 50258, 50258,  ..., 50259, 50259, 50259]], device='cuda:0')\n"
          ],
          "name": "stdout"
        },
        {
          "output_type": "stream",
          "text": [
            "\rTraining:  43%|████▎     | 123/287 [01:09<01:31,  1.80it/s]"
          ],
          "name": "stderr"
        },
        {
          "output_type": "stream",
          "text": [
            "32\n",
            "tensor([[50258, 50258, 50258,  ..., 50259, 50259, 50259],\n",
            "        [50258, 50258, 50258,  ..., 50259, 50259, 50259],\n",
            "        [50258, 50258, 50258,  ..., 50259, 50259, 50259],\n",
            "        ...,\n",
            "        [50258, 50258, 50258,  ..., 50259, 50259, 50259],\n",
            "        [50258, 50258, 50258,  ..., 50259, 50259, 50259],\n",
            "        [50258, 50258, 50258,  ..., 50259, 50259, 50259]], device='cuda:0')\n"
          ],
          "name": "stdout"
        },
        {
          "output_type": "stream",
          "text": [
            "\rTraining:  43%|████▎     | 124/287 [01:10<01:30,  1.79it/s]"
          ],
          "name": "stderr"
        },
        {
          "output_type": "stream",
          "text": [
            "32\n",
            "tensor([[50258, 50258, 50258,  ..., 50259, 50259, 50259],\n",
            "        [50258, 50258, 50258,  ..., 50259, 50259, 50259],\n",
            "        [50258, 50258, 50258,  ..., 50259, 50259, 50259],\n",
            "        ...,\n",
            "        [50258, 50258, 50258,  ..., 50259, 50259, 50259],\n",
            "        [50258, 50258, 50258,  ..., 50259, 50259, 50259],\n",
            "        [50258, 50258, 50258,  ..., 50259, 50259, 50259]], device='cuda:0')\n"
          ],
          "name": "stdout"
        },
        {
          "output_type": "stream",
          "text": [
            "\rTraining:  44%|████▎     | 125/287 [01:10<01:30,  1.80it/s]"
          ],
          "name": "stderr"
        },
        {
          "output_type": "stream",
          "text": [
            "32\n",
            "tensor([[50258, 50258, 50258,  ..., 50259, 50259, 50259],\n",
            "        [50258, 50258, 50258,  ..., 50259, 50259, 50259],\n",
            "        [50258, 50258, 50258,  ..., 50259, 50259, 50259],\n",
            "        ...,\n",
            "        [50258, 50258, 50258,  ..., 50259, 50259, 50259],\n",
            "        [50258, 50258, 50258,  ..., 50259, 50259, 50259],\n",
            "        [50258, 50258, 50258,  ..., 50259, 50259, 50259]], device='cuda:0')\n"
          ],
          "name": "stdout"
        },
        {
          "output_type": "stream",
          "text": [
            "\rTraining:  44%|████▍     | 126/287 [01:11<01:29,  1.80it/s]"
          ],
          "name": "stderr"
        },
        {
          "output_type": "stream",
          "text": [
            "32\n",
            "tensor([[50258, 50258, 50258,  ..., 50259, 50259, 50259],\n",
            "        [50258, 50258, 50258,  ..., 50259, 50259, 50259],\n",
            "        [50258, 50258, 50258,  ..., 50259, 50259, 50259],\n",
            "        ...,\n",
            "        [50258, 50258, 50258,  ..., 50259, 50259, 50259],\n",
            "        [50258, 50258, 50258,  ..., 50259, 50259, 50259],\n",
            "        [50258, 50258, 50258,  ..., 50259, 50259, 50259]], device='cuda:0')\n"
          ],
          "name": "stdout"
        },
        {
          "output_type": "stream",
          "text": [
            "\rTraining:  44%|████▍     | 127/287 [01:11<01:28,  1.80it/s]"
          ],
          "name": "stderr"
        },
        {
          "output_type": "stream",
          "text": [
            "32\n",
            "tensor([[50258, 50258, 50258,  ..., 50259, 50259, 50259],\n",
            "        [50258, 50258, 50258,  ..., 50259, 50259, 50259],\n",
            "        [50258, 50258, 50258,  ..., 50259, 50259, 50259],\n",
            "        ...,\n",
            "        [50258, 50258, 50258,  ..., 50259, 50259, 50259],\n",
            "        [50258, 50258, 50258,  ..., 50259, 50259, 50259],\n",
            "        [50258, 50258, 50258,  ..., 50259, 50259, 50259]], device='cuda:0')\n"
          ],
          "name": "stdout"
        },
        {
          "output_type": "stream",
          "text": [
            "\rTraining:  45%|████▍     | 128/287 [01:12<01:28,  1.80it/s]"
          ],
          "name": "stderr"
        },
        {
          "output_type": "stream",
          "text": [
            "32\n",
            "tensor([[50258, 50258, 50258,  ..., 50259, 50259, 50259],\n",
            "        [50258, 50258, 50258,  ..., 50259, 50259, 50259],\n",
            "        [50258, 50258, 50258,  ..., 50259, 50259, 50259],\n",
            "        ...,\n",
            "        [50258, 50258, 50258,  ..., 50259, 50259, 50259],\n",
            "        [50258, 50258, 50258,  ..., 50259, 50259, 50259],\n",
            "        [50258, 50258, 50258,  ..., 50259, 50259, 50259]], device='cuda:0')\n"
          ],
          "name": "stdout"
        },
        {
          "output_type": "stream",
          "text": [
            "\rTraining:  45%|████▍     | 129/287 [01:12<01:27,  1.80it/s]"
          ],
          "name": "stderr"
        },
        {
          "output_type": "stream",
          "text": [
            "32\n",
            "tensor([[50258, 50258, 50258,  ..., 50259, 50259, 50259],\n",
            "        [50258, 50258, 50258,  ..., 50259, 50259, 50259],\n",
            "        [50258, 50258, 50258,  ..., 50259, 50259, 50259],\n",
            "        ...,\n",
            "        [50258, 50258, 50258,  ..., 50259, 50259, 50259],\n",
            "        [50258, 50258, 50258,  ..., 50259, 50259, 50259],\n",
            "        [50258, 50258, 50258,  ..., 50259, 50259, 50259]], device='cuda:0')\n"
          ],
          "name": "stdout"
        },
        {
          "output_type": "stream",
          "text": [
            "\rTraining:  45%|████▌     | 130/287 [01:13<01:27,  1.80it/s]"
          ],
          "name": "stderr"
        },
        {
          "output_type": "stream",
          "text": [
            "32\n",
            "tensor([[50258, 50258, 50258,  ..., 50259, 50259, 50259],\n",
            "        [50258, 50258, 50258,  ..., 50259, 50259, 50259],\n",
            "        [50258, 50258, 50258,  ..., 50259, 50259, 50259],\n",
            "        ...,\n",
            "        [50258, 50258, 50258,  ..., 50259, 50259, 50259],\n",
            "        [50258, 50258, 50258,  ..., 50259, 50259, 50259],\n",
            "        [50258, 50258, 50258,  ..., 50259, 50259, 50259]], device='cuda:0')\n"
          ],
          "name": "stdout"
        },
        {
          "output_type": "stream",
          "text": [
            "\rTraining:  46%|████▌     | 131/287 [01:14<01:26,  1.80it/s]"
          ],
          "name": "stderr"
        },
        {
          "output_type": "stream",
          "text": [
            "32\n",
            "tensor([[50258, 50258, 50258,  ..., 50259, 50259, 50259],\n",
            "        [50258, 50258, 50258,  ..., 50259, 50259, 50259],\n",
            "        [50258, 50258, 50258,  ..., 50259, 50259, 50259],\n",
            "        ...,\n",
            "        [50258, 50258, 50258,  ..., 50259, 50259, 50259],\n",
            "        [50258, 50258, 50258,  ..., 50259, 50259, 50259],\n",
            "        [50258, 50258, 50258,  ..., 50259, 50259, 50259]], device='cuda:0')\n"
          ],
          "name": "stdout"
        },
        {
          "output_type": "stream",
          "text": [
            "\rTraining:  46%|████▌     | 132/287 [01:14<01:26,  1.80it/s]"
          ],
          "name": "stderr"
        },
        {
          "output_type": "stream",
          "text": [
            "32\n",
            "tensor([[50258, 50258, 50258,  ..., 50259, 50259, 50259],\n",
            "        [50258, 50258, 50258,  ..., 50259, 50259, 50259],\n",
            "        [50258, 50258, 50258,  ..., 50259, 50259, 50259],\n",
            "        ...,\n",
            "        [50258, 50258, 50258,  ..., 50259, 50259, 50259],\n",
            "        [50258, 50258, 50258,  ..., 50259, 50259, 50259],\n",
            "        [50258, 50258, 50258,  ..., 50259, 50259, 50259]], device='cuda:0')\n"
          ],
          "name": "stdout"
        },
        {
          "output_type": "stream",
          "text": [
            "\rTraining:  46%|████▋     | 133/287 [01:15<01:25,  1.80it/s]"
          ],
          "name": "stderr"
        },
        {
          "output_type": "stream",
          "text": [
            "32\n",
            "tensor([[50258, 50258, 50258,  ..., 50259, 50259, 50259],\n",
            "        [50258, 50258, 50258,  ..., 50259, 50259, 50259],\n",
            "        [50258, 50258, 50258,  ..., 50259, 50259, 50259],\n",
            "        ...,\n",
            "        [50258, 50258, 50258,  ..., 50259, 50259, 50259],\n",
            "        [50258, 50258, 50258,  ..., 50259, 50259, 50259],\n",
            "        [50258, 50258, 50258,  ..., 50259, 50259, 50259]], device='cuda:0')\n"
          ],
          "name": "stdout"
        },
        {
          "output_type": "stream",
          "text": [
            "\rTraining:  47%|████▋     | 134/287 [01:15<01:25,  1.80it/s]"
          ],
          "name": "stderr"
        },
        {
          "output_type": "stream",
          "text": [
            "32\n",
            "tensor([[50258, 50258, 50258,  ..., 50259, 50259, 50259],\n",
            "        [50258, 50258, 50258,  ..., 50259, 50259, 50259],\n",
            "        [50258, 50258, 50258,  ..., 50259, 50259, 50259],\n",
            "        ...,\n",
            "        [50258, 50258, 50258,  ..., 50259, 50259, 50259],\n",
            "        [50258, 50258, 50258,  ..., 50259, 50259, 50259],\n",
            "        [50258, 50258, 50258,  ..., 50259, 50259, 50259]], device='cuda:0')\n"
          ],
          "name": "stdout"
        },
        {
          "output_type": "stream",
          "text": [
            "\rTraining:  47%|████▋     | 135/287 [01:16<01:24,  1.80it/s]"
          ],
          "name": "stderr"
        },
        {
          "output_type": "stream",
          "text": [
            "32\n",
            "tensor([[50258, 50258, 50258,  ..., 50259, 50259, 50259],\n",
            "        [50258, 50258, 50258,  ..., 50259, 50259, 50259],\n",
            "        [50258, 50258, 50258,  ..., 50259, 50259, 50259],\n",
            "        ...,\n",
            "        [50258, 50258, 50258,  ..., 50259, 50259, 50259],\n",
            "        [50258, 50258, 50258,  ..., 50259, 50259, 50259],\n",
            "        [50258, 50258, 50258,  ..., 50259, 50259, 50259]], device='cuda:0')\n"
          ],
          "name": "stdout"
        },
        {
          "output_type": "stream",
          "text": [
            "\rTraining:  47%|████▋     | 136/287 [01:16<01:24,  1.79it/s]"
          ],
          "name": "stderr"
        },
        {
          "output_type": "stream",
          "text": [
            "32\n",
            "tensor([[50258, 50258, 50258,  ..., 50259, 50259, 50259],\n",
            "        [50258, 50258, 50258,  ..., 50259, 50259, 50259],\n",
            "        [50258, 50258, 50258,  ..., 50259, 50259, 50259],\n",
            "        ...,\n",
            "        [50258, 50258, 50258,  ..., 50259, 50259, 50259],\n",
            "        [50258, 50258, 50258,  ..., 50259, 50259, 50259],\n",
            "        [50258, 50258, 50258,  ..., 50259, 50259, 50259]], device='cuda:0')\n"
          ],
          "name": "stdout"
        },
        {
          "output_type": "stream",
          "text": [
            "\rTraining:  48%|████▊     | 137/287 [01:17<01:23,  1.80it/s]"
          ],
          "name": "stderr"
        },
        {
          "output_type": "stream",
          "text": [
            "32\n",
            "tensor([[50258, 50258, 50258,  ..., 50259, 50259, 50259],\n",
            "        [50258, 50258, 50258,  ..., 50259, 50259, 50259],\n",
            "        [50258, 50258, 50258,  ..., 50259, 50259, 50259],\n",
            "        ...,\n",
            "        [50258, 50258, 50258,  ..., 50259, 50259, 50259],\n",
            "        [50258, 50258, 50258,  ..., 50259, 50259, 50259],\n",
            "        [50258, 50258, 50258,  ..., 50259, 50259, 50259]], device='cuda:0')\n"
          ],
          "name": "stdout"
        },
        {
          "output_type": "stream",
          "text": [
            "\rTraining:  48%|████▊     | 138/287 [01:17<01:23,  1.79it/s]"
          ],
          "name": "stderr"
        },
        {
          "output_type": "stream",
          "text": [
            "32\n",
            "tensor([[50258, 50258, 50258,  ..., 50259, 50259, 50259],\n",
            "        [50258, 50258, 50258,  ..., 50259, 50259, 50259],\n",
            "        [50258, 50258, 50258,  ..., 50259, 50259, 50259],\n",
            "        ...,\n",
            "        [50258, 50258, 50258,  ..., 50259, 50259, 50259],\n",
            "        [50258, 50258, 50258,  ..., 50259, 50259, 50259],\n",
            "        [50258, 50258, 50258,  ..., 50259, 50259, 50259]], device='cuda:0')\n"
          ],
          "name": "stdout"
        },
        {
          "output_type": "stream",
          "text": [
            "\rTraining:  48%|████▊     | 139/287 [01:18<01:22,  1.79it/s]"
          ],
          "name": "stderr"
        },
        {
          "output_type": "stream",
          "text": [
            "32\n",
            "tensor([[50258, 50258, 50258,  ..., 50259, 50259, 50259],\n",
            "        [50258, 50258, 50258,  ..., 50259, 50259, 50259],\n",
            "        [50258, 50258, 50258,  ..., 50259, 50259, 50259],\n",
            "        ...,\n",
            "        [50258, 50258, 50258,  ..., 50259, 50259, 50259],\n",
            "        [50258, 50258, 50258,  ..., 50259, 50259, 50259],\n",
            "        [50258, 50258, 50258,  ..., 50259, 50259, 50259]], device='cuda:0')\n"
          ],
          "name": "stdout"
        },
        {
          "output_type": "stream",
          "text": [
            "\rTraining:  49%|████▉     | 140/287 [01:19<01:22,  1.79it/s]"
          ],
          "name": "stderr"
        },
        {
          "output_type": "stream",
          "text": [
            "32\n",
            "tensor([[50258, 50258, 50258,  ..., 50259, 50259, 50259],\n",
            "        [50258, 50258, 50258,  ..., 50259, 50259, 50259],\n",
            "        [50258, 50258, 50258,  ..., 50259, 50259, 50259],\n",
            "        ...,\n",
            "        [50258, 50258, 50258,  ..., 50259, 50259, 50259],\n",
            "        [50258, 50258, 50258,  ..., 50259, 50259, 50259],\n",
            "        [50258, 50258, 50258,  ..., 50259, 50259, 50259]], device='cuda:0')\n"
          ],
          "name": "stdout"
        },
        {
          "output_type": "stream",
          "text": [
            "\rTraining:  49%|████▉     | 141/287 [01:19<01:21,  1.79it/s]"
          ],
          "name": "stderr"
        },
        {
          "output_type": "stream",
          "text": [
            "32\n",
            "tensor([[50258, 50258, 50258,  ..., 50259, 50259, 50259],\n",
            "        [50258, 50258, 50258,  ..., 50259, 50259, 50259],\n",
            "        [50258, 50258, 50258,  ..., 50259, 50259, 50259],\n",
            "        ...,\n",
            "        [50258, 50258, 50258,  ..., 50259, 50259, 50259],\n",
            "        [50258, 50258, 50258,  ..., 50259, 50259, 50259],\n",
            "        [50258, 50258, 50258,  ..., 50259, 50259, 50259]], device='cuda:0')\n"
          ],
          "name": "stdout"
        },
        {
          "output_type": "stream",
          "text": [
            "\rTraining:  49%|████▉     | 142/287 [01:20<01:20,  1.79it/s]"
          ],
          "name": "stderr"
        },
        {
          "output_type": "stream",
          "text": [
            "32\n",
            "tensor([[50258, 50258, 50258,  ..., 50259, 50259, 50259],\n",
            "        [50258, 50258, 50258,  ..., 50259, 50259, 50259],\n",
            "        [50258, 50258, 50258,  ..., 50259, 50259, 50259],\n",
            "        ...,\n",
            "        [50258, 50258, 50258,  ..., 50259, 50259, 50259],\n",
            "        [50258, 50258, 50258,  ..., 50259, 50259, 50259],\n",
            "        [50258, 50258, 50258,  ..., 50259, 50259, 50259]], device='cuda:0')\n"
          ],
          "name": "stdout"
        },
        {
          "output_type": "stream",
          "text": [
            "\rTraining:  50%|████▉     | 143/287 [01:20<01:20,  1.79it/s]"
          ],
          "name": "stderr"
        },
        {
          "output_type": "stream",
          "text": [
            "32\n",
            "tensor([[50258, 50258, 50258,  ..., 50259, 50259, 50259],\n",
            "        [50258, 50258, 50258,  ..., 50259, 50259, 50259],\n",
            "        [50258, 50258, 50258,  ..., 50259, 50259, 50259],\n",
            "        ...,\n",
            "        [50258, 50258, 50258,  ..., 50259, 50259, 50259],\n",
            "        [50258, 50258, 50258,  ..., 50259, 50259, 50259],\n",
            "        [50258, 50258, 50258,  ..., 50259, 50259, 50259]], device='cuda:0')\n"
          ],
          "name": "stdout"
        },
        {
          "output_type": "stream",
          "text": [
            "\rTraining:  50%|█████     | 144/287 [01:21<01:19,  1.79it/s]"
          ],
          "name": "stderr"
        },
        {
          "output_type": "stream",
          "text": [
            "32\n",
            "tensor([[50258, 50258, 50258,  ..., 50259, 50259, 50259],\n",
            "        [50258, 50258, 50258,  ..., 50259, 50259, 50259],\n",
            "        [50258, 50258, 50258,  ..., 50259, 50259, 50259],\n",
            "        ...,\n",
            "        [50258, 50258, 50258,  ..., 50259, 50259, 50259],\n",
            "        [50258, 50258, 50258,  ..., 50259, 50259, 50259],\n",
            "        [50258, 50258, 50258,  ..., 50259, 50259, 50259]], device='cuda:0')\n"
          ],
          "name": "stdout"
        },
        {
          "output_type": "stream",
          "text": [
            "\rTraining:  51%|█████     | 145/287 [01:21<01:19,  1.79it/s]"
          ],
          "name": "stderr"
        },
        {
          "output_type": "stream",
          "text": [
            "32\n",
            "tensor([[50258, 50258, 50258,  ..., 50259, 50259, 50259],\n",
            "        [50258, 50258, 50258,  ..., 50259, 50259, 50259],\n",
            "        [50258, 50258, 50258,  ..., 50259, 50259, 50259],\n",
            "        ...,\n",
            "        [50258, 50258, 50258,  ..., 50259, 50259, 50259],\n",
            "        [50258, 50258, 50258,  ..., 50259, 50259, 50259],\n",
            "        [50258, 50258, 50258,  ..., 50259, 50259, 50259]], device='cuda:0')\n"
          ],
          "name": "stdout"
        },
        {
          "output_type": "stream",
          "text": [
            "\rTraining:  51%|█████     | 146/287 [01:22<01:18,  1.79it/s]"
          ],
          "name": "stderr"
        },
        {
          "output_type": "stream",
          "text": [
            "32\n",
            "tensor([[50258, 50258, 50258,  ..., 50259, 50259, 50259],\n",
            "        [50258, 50258, 50258,  ..., 50259, 50259, 50259],\n",
            "        [50258, 50258, 50258,  ..., 50259, 50259, 50259],\n",
            "        ...,\n",
            "        [50258, 50258, 50258,  ..., 50259, 50259, 50259],\n",
            "        [50258, 50258, 50258,  ..., 50259, 50259, 50259],\n",
            "        [50258, 50258, 50258,  ..., 50259, 50259, 50259]], device='cuda:0')\n"
          ],
          "name": "stdout"
        },
        {
          "output_type": "stream",
          "text": [
            "\rTraining:  51%|█████     | 147/287 [01:23<01:18,  1.79it/s]"
          ],
          "name": "stderr"
        },
        {
          "output_type": "stream",
          "text": [
            "32\n",
            "tensor([[50258, 50258, 50258,  ..., 50259, 50259, 50259],\n",
            "        [50258, 50258, 50258,  ..., 50259, 50259, 50259],\n",
            "        [50258, 50258, 50258,  ..., 50259, 50259, 50259],\n",
            "        ...,\n",
            "        [50258, 50258, 50258,  ..., 50259, 50259, 50259],\n",
            "        [50258, 50258, 50258,  ..., 50259, 50259, 50259],\n",
            "        [50258, 50258, 50258,  ..., 50259, 50259, 50259]], device='cuda:0')\n"
          ],
          "name": "stdout"
        },
        {
          "output_type": "stream",
          "text": [
            "\rTraining:  52%|█████▏    | 148/287 [01:23<01:17,  1.79it/s]"
          ],
          "name": "stderr"
        },
        {
          "output_type": "stream",
          "text": [
            "32\n",
            "tensor([[50258, 50258, 50258,  ..., 50259, 50259, 50259],\n",
            "        [50258, 50258, 50258,  ..., 50259, 50259, 50259],\n",
            "        [50258, 50258, 50258,  ..., 50259, 50259, 50259],\n",
            "        ...,\n",
            "        [50258, 50258, 50258,  ..., 50259, 50259, 50259],\n",
            "        [50258, 50258, 50258,  ..., 50259, 50259, 50259],\n",
            "        [50258, 50258, 50258,  ..., 50259, 50259, 50259]], device='cuda:0')\n"
          ],
          "name": "stdout"
        },
        {
          "output_type": "stream",
          "text": [
            "\rTraining:  52%|█████▏    | 149/287 [01:24<01:16,  1.80it/s]"
          ],
          "name": "stderr"
        },
        {
          "output_type": "stream",
          "text": [
            "32\n",
            "tensor([[50258, 50258, 50258,  ..., 50259, 50259, 50259],\n",
            "        [50258, 50258, 50258,  ..., 50259, 50259, 50259],\n",
            "        [50258, 50258, 50258,  ..., 50259, 50259, 50259],\n",
            "        ...,\n",
            "        [50258, 50258, 50258,  ..., 50259, 50259, 50259],\n",
            "        [50258, 50258, 50258,  ..., 50259, 50259, 50259],\n",
            "        [50258, 50258, 50258,  ..., 50259, 50259, 50259]], device='cuda:0')\n"
          ],
          "name": "stdout"
        },
        {
          "output_type": "stream",
          "text": [
            "\rTraining:  52%|█████▏    | 150/287 [01:24<01:16,  1.79it/s]"
          ],
          "name": "stderr"
        },
        {
          "output_type": "stream",
          "text": [
            "32\n",
            "tensor([[50258, 50258, 50258,  ..., 50259, 50259, 50259],\n",
            "        [50258, 50258, 50258,  ..., 50259, 50259, 50259],\n",
            "        [50258, 50258, 50258,  ..., 50259, 50259, 50259],\n",
            "        ...,\n",
            "        [50258, 50258, 50258,  ..., 50259, 50259, 50259],\n",
            "        [50258, 50258, 50258,  ..., 50259, 50259, 50259],\n",
            "        [50258, 50258, 50258,  ..., 50259, 50259, 50259]], device='cuda:0')\n"
          ],
          "name": "stdout"
        },
        {
          "output_type": "stream",
          "text": [
            "\rTraining:  53%|█████▎    | 151/287 [01:25<01:15,  1.79it/s]"
          ],
          "name": "stderr"
        },
        {
          "output_type": "stream",
          "text": [
            "32\n",
            "tensor([[50258, 50258, 50258,  ..., 50259, 50259, 50259],\n",
            "        [50258, 50258, 50258,  ..., 50259, 50259, 50259],\n",
            "        [50258, 50258, 50258,  ..., 50259, 50259, 50259],\n",
            "        ...,\n",
            "        [50258, 50258, 50258,  ..., 50259, 50259, 50259],\n",
            "        [50258, 50258, 50258,  ..., 50259, 50259, 50259],\n",
            "        [50258, 50258, 50258,  ..., 50259, 50259, 50259]], device='cuda:0')\n"
          ],
          "name": "stdout"
        },
        {
          "output_type": "stream",
          "text": [
            "\rTraining:  53%|█████▎    | 152/287 [01:25<01:15,  1.79it/s]"
          ],
          "name": "stderr"
        },
        {
          "output_type": "stream",
          "text": [
            "32\n",
            "tensor([[50258, 50258, 50258,  ..., 50259, 50259, 50259],\n",
            "        [50258, 50258, 50258,  ..., 50259, 50259, 50259],\n",
            "        [50258, 50258, 50258,  ..., 50259, 50259, 50259],\n",
            "        ...,\n",
            "        [50258, 50258, 50258,  ..., 50259, 50259, 50259],\n",
            "        [50258, 50258, 50258,  ..., 50259, 50259, 50259],\n",
            "        [50258, 50258, 50258,  ..., 50259, 50259, 50259]], device='cuda:0')\n"
          ],
          "name": "stdout"
        },
        {
          "output_type": "stream",
          "text": [
            "\rTraining:  53%|█████▎    | 153/287 [01:26<01:14,  1.79it/s]"
          ],
          "name": "stderr"
        },
        {
          "output_type": "stream",
          "text": [
            "32\n",
            "tensor([[50258, 50258, 50258,  ..., 50259, 50259, 50259],\n",
            "        [50258, 50258, 50258,  ..., 50259, 50259, 50259],\n",
            "        [50258, 50258, 50258,  ..., 50259, 50259, 50259],\n",
            "        ...,\n",
            "        [50258, 50258, 50258,  ..., 50259, 50259, 50259],\n",
            "        [50258, 50258, 50258,  ..., 50259, 50259, 50259],\n",
            "        [50258, 50258, 50258,  ..., 50259, 50259, 50259]], device='cuda:0')\n"
          ],
          "name": "stdout"
        },
        {
          "output_type": "stream",
          "text": [
            "\rTraining:  54%|█████▎    | 154/287 [01:26<01:14,  1.79it/s]"
          ],
          "name": "stderr"
        },
        {
          "output_type": "stream",
          "text": [
            "32\n",
            "tensor([[50258, 50258, 50258,  ..., 50259, 50259, 50259],\n",
            "        [50258, 50258, 50258,  ..., 50259, 50259, 50259],\n",
            "        [50258, 50258, 50258,  ..., 50259, 50259, 50259],\n",
            "        ...,\n",
            "        [50258, 50258, 50258,  ..., 50259, 50259, 50259],\n",
            "        [50258, 50258, 50258,  ..., 50259, 50259, 50259],\n",
            "        [50258, 50258, 50258,  ..., 50259, 50259, 50259]], device='cuda:0')\n"
          ],
          "name": "stdout"
        },
        {
          "output_type": "stream",
          "text": [
            "\rTraining:  54%|█████▍    | 155/287 [01:27<01:13,  1.79it/s]"
          ],
          "name": "stderr"
        },
        {
          "output_type": "stream",
          "text": [
            "32\n",
            "tensor([[50258, 50258, 50258,  ..., 50259, 50259, 50259],\n",
            "        [50258, 50258, 50258,  ..., 50259, 50259, 50259],\n",
            "        [50258, 50258, 50258,  ..., 50259, 50259, 50259],\n",
            "        ...,\n",
            "        [50258, 50258, 50258,  ..., 50259, 50259, 50259],\n",
            "        [50258, 50258, 50258,  ..., 50259, 50259, 50259],\n",
            "        [50258, 50258, 50258,  ..., 50259, 50259, 50259]], device='cuda:0')\n"
          ],
          "name": "stdout"
        },
        {
          "output_type": "stream",
          "text": [
            "\rTraining:  54%|█████▍    | 156/287 [01:28<01:13,  1.79it/s]"
          ],
          "name": "stderr"
        },
        {
          "output_type": "stream",
          "text": [
            "32\n",
            "tensor([[50258, 50258, 50258,  ..., 50259, 50259, 50259],\n",
            "        [50258, 50258, 50258,  ..., 50259, 50259, 50259],\n",
            "        [50258, 50258, 50258,  ..., 50259, 50259, 50259],\n",
            "        ...,\n",
            "        [50258, 50258, 50258,  ..., 50259, 50259, 50259],\n",
            "        [50258, 50258, 50258,  ..., 50259, 50259, 50259],\n",
            "        [50258, 50258, 50258,  ..., 50259, 50259, 50259]], device='cuda:0')\n"
          ],
          "name": "stdout"
        },
        {
          "output_type": "stream",
          "text": [
            "\rTraining:  55%|█████▍    | 157/287 [01:28<01:12,  1.79it/s]"
          ],
          "name": "stderr"
        },
        {
          "output_type": "stream",
          "text": [
            "32\n",
            "tensor([[50258, 50258, 50258,  ..., 50259, 50259, 50259],\n",
            "        [50258, 50258, 50258,  ..., 50259, 50259, 50259],\n",
            "        [50258, 50258, 50258,  ..., 50259, 50259, 50259],\n",
            "        ...,\n",
            "        [50258, 50258, 50258,  ..., 50259, 50259, 50259],\n",
            "        [50258, 50258, 50258,  ..., 50259, 50259, 50259],\n",
            "        [50258, 50258, 50258,  ..., 50259, 50259, 50259]], device='cuda:0')\n"
          ],
          "name": "stdout"
        },
        {
          "output_type": "stream",
          "text": [
            "\rTraining:  55%|█████▌    | 158/287 [01:29<01:12,  1.79it/s]"
          ],
          "name": "stderr"
        },
        {
          "output_type": "stream",
          "text": [
            "32\n",
            "tensor([[50258, 50258, 50258,  ..., 50259, 50259, 50259],\n",
            "        [50258, 50258, 50258,  ..., 50259, 50259, 50259],\n",
            "        [50258, 50258, 50258,  ..., 50259, 50259, 50259],\n",
            "        ...,\n",
            "        [50258, 50258, 50258,  ..., 50259, 50259, 50259],\n",
            "        [50258, 50258, 50258,  ..., 50259, 50259, 50259],\n",
            "        [50258, 50258, 50258,  ..., 50259, 50259, 50259]], device='cuda:0')\n"
          ],
          "name": "stdout"
        },
        {
          "output_type": "stream",
          "text": [
            "\rTraining:  55%|█████▌    | 159/287 [01:29<01:11,  1.79it/s]"
          ],
          "name": "stderr"
        },
        {
          "output_type": "stream",
          "text": [
            "32\n",
            "tensor([[50258, 50258, 50258,  ..., 50259, 50259, 50259],\n",
            "        [50258, 50258, 50258,  ..., 50259, 50259, 50259],\n",
            "        [50258, 50258, 50258,  ..., 50259, 50259, 50259],\n",
            "        ...,\n",
            "        [50258, 50258, 50258,  ..., 50259, 50259, 50259],\n",
            "        [50258, 50258, 50258,  ..., 50259, 50259, 50259],\n",
            "        [50258, 50258, 50258,  ..., 50259, 50259, 50259]], device='cuda:0')\n"
          ],
          "name": "stdout"
        },
        {
          "output_type": "stream",
          "text": [
            "\rTraining:  56%|█████▌    | 160/287 [01:30<01:11,  1.79it/s]"
          ],
          "name": "stderr"
        },
        {
          "output_type": "stream",
          "text": [
            "32\n",
            "tensor([[50258, 50258, 50258,  ..., 50259, 50259, 50259],\n",
            "        [50258, 50258, 50258,  ..., 50259, 50259, 50259],\n",
            "        [50258, 50258, 50258,  ..., 50259, 50259, 50259],\n",
            "        ...,\n",
            "        [50258, 50258, 50258,  ..., 50259, 50259, 50259],\n",
            "        [50258, 50258, 50258,  ..., 50259, 50259, 50259],\n",
            "        [50258, 50258, 50258,  ..., 50259, 50259, 50259]], device='cuda:0')\n"
          ],
          "name": "stdout"
        },
        {
          "output_type": "stream",
          "text": [
            "\rTraining:  56%|█████▌    | 161/287 [01:30<01:10,  1.78it/s]"
          ],
          "name": "stderr"
        },
        {
          "output_type": "stream",
          "text": [
            "32\n",
            "tensor([[50258, 50258, 50258,  ..., 50259, 50259, 50259],\n",
            "        [50258, 50258, 50258,  ..., 50259, 50259, 50259],\n",
            "        [50258, 50258, 50258,  ..., 50259, 50259, 50259],\n",
            "        ...,\n",
            "        [50258, 50258, 50258,  ..., 50259, 50259, 50259],\n",
            "        [50258, 50258, 50258,  ..., 50259, 50259, 50259],\n",
            "        [50258, 50258, 50258,  ..., 50259, 50259, 50259]], device='cuda:0')\n"
          ],
          "name": "stdout"
        },
        {
          "output_type": "stream",
          "text": [
            "\rTraining:  56%|█████▋    | 162/287 [01:31<01:10,  1.78it/s]"
          ],
          "name": "stderr"
        },
        {
          "output_type": "stream",
          "text": [
            "32\n",
            "tensor([[50258, 50258, 50258,  ..., 50259, 50259, 50259],\n",
            "        [50258, 50258, 50258,  ..., 50259, 50259, 50259],\n",
            "        [50258, 50258, 50258,  ..., 50259, 50259, 50259],\n",
            "        ...,\n",
            "        [50258, 50258, 50258,  ..., 50259, 50259, 50259],\n",
            "        [50258, 50258, 50258,  ..., 50259, 50259, 50259],\n",
            "        [50258, 50258, 50258,  ..., 50259, 50259, 50259]], device='cuda:0')\n"
          ],
          "name": "stdout"
        },
        {
          "output_type": "stream",
          "text": [
            "\rTraining:  57%|█████▋    | 163/287 [01:31<01:09,  1.78it/s]"
          ],
          "name": "stderr"
        },
        {
          "output_type": "stream",
          "text": [
            "32\n",
            "tensor([[50258, 50258, 50258,  ..., 50259, 50259, 50259],\n",
            "        [50258, 50258, 50258,  ..., 50259, 50259, 50259],\n",
            "        [50258, 50258, 50258,  ..., 50259, 50259, 50259],\n",
            "        ...,\n",
            "        [50258, 50258, 50258,  ..., 50259, 50259, 50259],\n",
            "        [50258, 50258, 50258,  ..., 50259, 50259, 50259],\n",
            "        [50258, 50258, 50258,  ..., 50259, 50259, 50259]], device='cuda:0')\n"
          ],
          "name": "stdout"
        },
        {
          "output_type": "stream",
          "text": [
            "\rTraining:  57%|█████▋    | 164/287 [01:32<01:09,  1.78it/s]"
          ],
          "name": "stderr"
        },
        {
          "output_type": "stream",
          "text": [
            "32\n",
            "tensor([[50258, 50258, 50258,  ..., 50259, 50259, 50259],\n",
            "        [50258, 50258, 50258,  ..., 50259, 50259, 50259],\n",
            "        [50258, 50258, 50258,  ..., 50259, 50259, 50259],\n",
            "        ...,\n",
            "        [50258, 50258, 50258,  ..., 50259, 50259, 50259],\n",
            "        [50258, 50258, 50258,  ..., 50259, 50259, 50259],\n",
            "        [50258, 50258, 50258,  ..., 50259, 50259, 50259]], device='cuda:0')\n"
          ],
          "name": "stdout"
        },
        {
          "output_type": "stream",
          "text": [
            "\rTraining:  57%|█████▋    | 165/287 [01:33<01:08,  1.78it/s]"
          ],
          "name": "stderr"
        },
        {
          "output_type": "stream",
          "text": [
            "32\n",
            "tensor([[50258, 50258, 50258,  ..., 50259, 50259, 50259],\n",
            "        [50258, 50258, 50258,  ..., 50259, 50259, 50259],\n",
            "        [50258, 50258, 50258,  ..., 50259, 50259, 50259],\n",
            "        ...,\n",
            "        [50258, 50258, 50258,  ..., 50259, 50259, 50259],\n",
            "        [50258, 50258, 50258,  ..., 50259, 50259, 50259],\n",
            "        [50258, 50258, 50258,  ..., 50259, 50259, 50259]], device='cuda:0')\n"
          ],
          "name": "stdout"
        },
        {
          "output_type": "stream",
          "text": [
            "\rTraining:  58%|█████▊    | 166/287 [01:33<01:07,  1.78it/s]"
          ],
          "name": "stderr"
        },
        {
          "output_type": "stream",
          "text": [
            "32\n",
            "tensor([[50258, 50258, 50258,  ..., 50259, 50259, 50259],\n",
            "        [50258, 50258, 50258,  ..., 50259, 50259, 50259],\n",
            "        [50258, 50258, 50258,  ..., 50259, 50259, 50259],\n",
            "        ...,\n",
            "        [50258, 50258, 50258,  ..., 50259, 50259, 50259],\n",
            "        [50258, 50258, 50258,  ..., 50259, 50259, 50259],\n",
            "        [50258, 50258, 50258,  ..., 50259, 50259, 50259]], device='cuda:0')\n"
          ],
          "name": "stdout"
        },
        {
          "output_type": "stream",
          "text": [
            "\rTraining:  58%|█████▊    | 167/287 [01:34<01:07,  1.78it/s]"
          ],
          "name": "stderr"
        },
        {
          "output_type": "stream",
          "text": [
            "32\n",
            "tensor([[50258, 50258, 50258,  ..., 50259, 50259, 50259],\n",
            "        [50258, 50258, 50258,  ..., 50259, 50259, 50259],\n",
            "        [50258, 50258, 50258,  ..., 50259, 50259, 50259],\n",
            "        ...,\n",
            "        [50258, 50258, 50258,  ..., 50259, 50259, 50259],\n",
            "        [50258, 50258, 50258,  ..., 50259, 50259, 50259],\n",
            "        [50258, 50258, 50258,  ..., 50259, 50259, 50259]], device='cuda:0')\n"
          ],
          "name": "stdout"
        },
        {
          "output_type": "stream",
          "text": [
            "\rTraining:  59%|█████▊    | 168/287 [01:34<01:06,  1.78it/s]"
          ],
          "name": "stderr"
        },
        {
          "output_type": "stream",
          "text": [
            "32\n",
            "tensor([[50258, 50258, 50258,  ..., 50259, 50259, 50259],\n",
            "        [50258, 50258, 50258,  ..., 50259, 50259, 50259],\n",
            "        [50258, 50258, 50258,  ..., 50259, 50259, 50259],\n",
            "        ...,\n",
            "        [50258, 50258, 50258,  ..., 50259, 50259, 50259],\n",
            "        [50258, 50258, 50258,  ..., 50259, 50259, 50259],\n",
            "        [50258, 50258, 50258,  ..., 50259, 50259, 50259]], device='cuda:0')\n"
          ],
          "name": "stdout"
        },
        {
          "output_type": "stream",
          "text": [
            "\rTraining:  59%|█████▉    | 169/287 [01:35<01:06,  1.78it/s]"
          ],
          "name": "stderr"
        },
        {
          "output_type": "stream",
          "text": [
            "32\n",
            "tensor([[50258, 50258, 50258,  ..., 50259, 50259, 50259],\n",
            "        [50258, 50258, 50258,  ..., 50259, 50259, 50259],\n",
            "        [50258, 50258, 50258,  ..., 50259, 50259, 50259],\n",
            "        ...,\n",
            "        [50258, 50258, 50258,  ..., 50259, 50259, 50259],\n",
            "        [50258, 50258, 50258,  ..., 50259, 50259, 50259],\n",
            "        [50258, 50258, 50258,  ..., 50259, 50259, 50259]], device='cuda:0')\n"
          ],
          "name": "stdout"
        },
        {
          "output_type": "stream",
          "text": [
            "\rTraining:  59%|█████▉    | 170/287 [01:35<01:05,  1.78it/s]"
          ],
          "name": "stderr"
        },
        {
          "output_type": "stream",
          "text": [
            "32\n",
            "tensor([[50258, 50258, 50258,  ..., 50259, 50259, 50259],\n",
            "        [50258, 50258, 50258,  ..., 50259, 50259, 50259],\n",
            "        [50258, 50258, 50258,  ..., 50259, 50259, 50259],\n",
            "        ...,\n",
            "        [50258, 50258, 50258,  ..., 50259, 50259, 50259],\n",
            "        [50258, 50258, 50258,  ..., 50259, 50259, 50259],\n",
            "        [50258, 50258, 50258,  ..., 50259, 50259, 50259]], device='cuda:0')\n"
          ],
          "name": "stdout"
        },
        {
          "output_type": "stream",
          "text": [
            "\rTraining:  60%|█████▉    | 171/287 [01:36<01:05,  1.77it/s]"
          ],
          "name": "stderr"
        },
        {
          "output_type": "stream",
          "text": [
            "32\n",
            "tensor([[50258, 50258, 50258,  ..., 50259, 50259, 50259],\n",
            "        [50258, 50258, 50258,  ..., 50259, 50259, 50259],\n",
            "        [50258, 50258, 50258,  ..., 50259, 50259, 50259],\n",
            "        ...,\n",
            "        [50258, 50258, 50258,  ..., 50259, 50259, 50259],\n",
            "        [50258, 50258, 50258,  ..., 50259, 50259, 50259],\n",
            "        [50258, 50258, 50258,  ..., 50259, 50259, 50259]], device='cuda:0')\n"
          ],
          "name": "stdout"
        },
        {
          "output_type": "stream",
          "text": [
            "\rTraining:  60%|█████▉    | 172/287 [01:37<01:04,  1.78it/s]"
          ],
          "name": "stderr"
        },
        {
          "output_type": "stream",
          "text": [
            "32\n",
            "tensor([[50258, 50258, 50258,  ..., 50259, 50259, 50259],\n",
            "        [50258, 50258, 50258,  ..., 50259, 50259, 50259],\n",
            "        [50258, 50258, 50258,  ..., 50259, 50259, 50259],\n",
            "        ...,\n",
            "        [50258, 50258, 50258,  ..., 50259, 50259, 50259],\n",
            "        [50258, 50258, 50258,  ..., 50259, 50259, 50259],\n",
            "        [50258, 50258, 50258,  ..., 50259, 50259, 50259]], device='cuda:0')\n"
          ],
          "name": "stdout"
        },
        {
          "output_type": "stream",
          "text": [
            "\rTraining:  60%|██████    | 173/287 [01:37<01:04,  1.77it/s]"
          ],
          "name": "stderr"
        },
        {
          "output_type": "stream",
          "text": [
            "32\n",
            "tensor([[50258, 50258, 50258,  ..., 50259, 50259, 50259],\n",
            "        [50258, 50258, 50258,  ..., 50259, 50259, 50259],\n",
            "        [50258, 50258, 50258,  ..., 50259, 50259, 50259],\n",
            "        ...,\n",
            "        [50258, 50258, 50258,  ..., 50259, 50259, 50259],\n",
            "        [50258, 50258, 50258,  ..., 50259, 50259, 50259],\n",
            "        [50258, 50258, 50258,  ..., 50259, 50259, 50259]], device='cuda:0')\n"
          ],
          "name": "stdout"
        },
        {
          "output_type": "stream",
          "text": [
            "\rTraining:  61%|██████    | 174/287 [01:38<01:03,  1.77it/s]"
          ],
          "name": "stderr"
        },
        {
          "output_type": "stream",
          "text": [
            "32\n",
            "tensor([[50258, 50258, 50258,  ..., 50259, 50259, 50259],\n",
            "        [50258, 50258, 50258,  ..., 50259, 50259, 50259],\n",
            "        [50258, 50258, 50258,  ..., 50259, 50259, 50259],\n",
            "        ...,\n",
            "        [50258, 50258, 50258,  ..., 50259, 50259, 50259],\n",
            "        [50258, 50258, 50258,  ..., 50259, 50259, 50259],\n",
            "        [50258, 50258, 50258,  ..., 50259, 50259, 50259]], device='cuda:0')\n"
          ],
          "name": "stdout"
        },
        {
          "output_type": "stream",
          "text": [
            "\rTraining:  61%|██████    | 175/287 [01:38<01:03,  1.77it/s]"
          ],
          "name": "stderr"
        },
        {
          "output_type": "stream",
          "text": [
            "32\n",
            "tensor([[50258, 50258, 50258,  ..., 50259, 50259, 50259],\n",
            "        [50258, 50258, 50258,  ..., 50259, 50259, 50259],\n",
            "        [50258, 50258, 50258,  ..., 50259, 50259, 50259],\n",
            "        ...,\n",
            "        [50258, 50258, 50258,  ..., 50259, 50259, 50259],\n",
            "        [50258, 50258, 50258,  ..., 50259, 50259, 50259],\n",
            "        [50258, 50258, 50258,  ..., 50259, 50259, 50259]], device='cuda:0')\n"
          ],
          "name": "stdout"
        },
        {
          "output_type": "stream",
          "text": [
            "\rTraining:  61%|██████▏   | 176/287 [01:39<01:02,  1.77it/s]"
          ],
          "name": "stderr"
        },
        {
          "output_type": "stream",
          "text": [
            "32\n",
            "tensor([[50258, 50258, 50258,  ..., 50259, 50259, 50259],\n",
            "        [50258, 50258, 50258,  ..., 50259, 50259, 50259],\n",
            "        [50258, 50258, 50258,  ..., 50259, 50259, 50259],\n",
            "        ...,\n",
            "        [50258, 50258, 50258,  ..., 50259, 50259, 50259],\n",
            "        [50258, 50258, 50258,  ..., 50259, 50259, 50259],\n",
            "        [50258, 50258, 50258,  ..., 50259, 50259, 50259]], device='cuda:0')\n"
          ],
          "name": "stdout"
        },
        {
          "output_type": "stream",
          "text": [
            "\rTraining:  62%|██████▏   | 177/287 [01:39<01:02,  1.77it/s]"
          ],
          "name": "stderr"
        },
        {
          "output_type": "stream",
          "text": [
            "32\n",
            "tensor([[50258, 50258, 50258,  ..., 50259, 50259, 50259],\n",
            "        [50258, 50258, 50258,  ..., 50259, 50259, 50259],\n",
            "        [50258, 50258, 50258,  ..., 50259, 50259, 50259],\n",
            "        ...,\n",
            "        [50258, 50258, 50258,  ..., 50259, 50259, 50259],\n",
            "        [50258, 50258, 50258,  ..., 50259, 50259, 50259],\n",
            "        [50258, 50258, 50258,  ..., 50259, 50259, 50259]], device='cuda:0')\n"
          ],
          "name": "stdout"
        },
        {
          "output_type": "stream",
          "text": [
            "\rTraining:  62%|██████▏   | 178/287 [01:40<01:01,  1.76it/s]"
          ],
          "name": "stderr"
        },
        {
          "output_type": "stream",
          "text": [
            "32\n",
            "tensor([[50258, 50258, 50258,  ..., 50259, 50259, 50259],\n",
            "        [50258, 50258, 50258,  ..., 50259, 50259, 50259],\n",
            "        [50258, 50258, 50258,  ..., 50259, 50259, 50259],\n",
            "        ...,\n",
            "        [50258, 50258, 50258,  ..., 50259, 50259, 50259],\n",
            "        [50258, 50258, 50258,  ..., 50259, 50259, 50259],\n",
            "        [50258, 50258, 50258,  ..., 50259, 50259, 50259]], device='cuda:0')\n"
          ],
          "name": "stdout"
        },
        {
          "output_type": "stream",
          "text": [
            "\rTraining:  62%|██████▏   | 179/287 [01:40<01:01,  1.76it/s]"
          ],
          "name": "stderr"
        },
        {
          "output_type": "stream",
          "text": [
            "32\n",
            "tensor([[50258, 50258, 50258,  ..., 50259, 50259, 50259],\n",
            "        [50258, 50258, 50258,  ..., 50259, 50259, 50259],\n",
            "        [50258, 50258, 50258,  ..., 50259, 50259, 50259],\n",
            "        ...,\n",
            "        [50258, 50258, 50258,  ..., 50259, 50259, 50259],\n",
            "        [50258, 50258, 50258,  ..., 50259, 50259, 50259],\n",
            "        [50258, 50258, 50258,  ..., 50259, 50259, 50259]], device='cuda:0')\n"
          ],
          "name": "stdout"
        },
        {
          "output_type": "stream",
          "text": [
            "\rTraining:  63%|██████▎   | 180/287 [01:41<01:00,  1.76it/s]"
          ],
          "name": "stderr"
        },
        {
          "output_type": "stream",
          "text": [
            "32\n",
            "tensor([[50258, 50258, 50258,  ..., 50259, 50259, 50259],\n",
            "        [50258, 50258, 50258,  ..., 50259, 50259, 50259],\n",
            "        [50258, 50258, 50258,  ..., 50259, 50259, 50259],\n",
            "        ...,\n",
            "        [50258, 50258, 50258,  ..., 50259, 50259, 50259],\n",
            "        [50258, 50258, 50258,  ..., 50259, 50259, 50259],\n",
            "        [50258, 50258, 50258,  ..., 50259, 50259, 50259]], device='cuda:0')\n"
          ],
          "name": "stdout"
        },
        {
          "output_type": "stream",
          "text": [
            "\rTraining:  63%|██████▎   | 181/287 [01:42<01:00,  1.77it/s]"
          ],
          "name": "stderr"
        },
        {
          "output_type": "stream",
          "text": [
            "32\n",
            "tensor([[50258, 50258, 50258,  ..., 50259, 50259, 50259],\n",
            "        [50258, 50258, 50258,  ..., 50259, 50259, 50259],\n",
            "        [50258, 50258, 50258,  ..., 50259, 50259, 50259],\n",
            "        ...,\n",
            "        [50258, 50258, 50258,  ..., 50259, 50259, 50259],\n",
            "        [50258, 50258, 50258,  ..., 50259, 50259, 50259],\n",
            "        [50258, 50258, 50258,  ..., 50259, 50259, 50259]], device='cuda:0')\n"
          ],
          "name": "stdout"
        },
        {
          "output_type": "stream",
          "text": [
            "\rTraining:  63%|██████▎   | 182/287 [01:42<00:59,  1.77it/s]"
          ],
          "name": "stderr"
        },
        {
          "output_type": "stream",
          "text": [
            "32\n",
            "tensor([[50258, 50258, 50258,  ..., 50259, 50259, 50259],\n",
            "        [50258, 50258, 50258,  ..., 50259, 50259, 50259],\n",
            "        [50258, 50258, 50258,  ..., 50259, 50259, 50259],\n",
            "        ...,\n",
            "        [50258, 50258, 50258,  ..., 50259, 50259, 50259],\n",
            "        [50258, 50258, 50258,  ..., 50259, 50259, 50259],\n",
            "        [50258, 50258, 50258,  ..., 50259, 50259, 50259]], device='cuda:0')\n"
          ],
          "name": "stdout"
        },
        {
          "output_type": "stream",
          "text": [
            "\rTraining:  64%|██████▍   | 183/287 [01:43<00:58,  1.76it/s]"
          ],
          "name": "stderr"
        },
        {
          "output_type": "stream",
          "text": [
            "32\n",
            "tensor([[50258, 50258, 50258,  ..., 50259, 50259, 50259],\n",
            "        [50258, 50258, 50258,  ..., 50259, 50259, 50259],\n",
            "        [50258, 50258, 50258,  ..., 50259, 50259, 50259],\n",
            "        ...,\n",
            "        [50258, 50258, 50258,  ..., 50259, 50259, 50259],\n",
            "        [50258, 50258, 50258,  ..., 50259, 50259, 50259],\n",
            "        [50258, 50258, 50258,  ..., 50259, 50259, 50259]], device='cuda:0')\n"
          ],
          "name": "stdout"
        },
        {
          "output_type": "stream",
          "text": [
            "\rTraining:  64%|██████▍   | 184/287 [01:43<00:58,  1.76it/s]"
          ],
          "name": "stderr"
        },
        {
          "output_type": "stream",
          "text": [
            "32\n",
            "tensor([[50258, 50258, 50258,  ..., 50259, 50259, 50259],\n",
            "        [50258, 50258, 50258,  ..., 50259, 50259, 50259],\n",
            "        [50258, 50258, 50258,  ..., 50259, 50259, 50259],\n",
            "        ...,\n",
            "        [50258, 50258, 50258,  ..., 50259, 50259, 50259],\n",
            "        [50258, 50258, 50258,  ..., 50259, 50259, 50259],\n",
            "        [50258, 50258, 50258,  ..., 50259, 50259, 50259]], device='cuda:0')\n"
          ],
          "name": "stdout"
        },
        {
          "output_type": "stream",
          "text": [
            "\rTraining:  64%|██████▍   | 185/287 [01:44<00:57,  1.76it/s]"
          ],
          "name": "stderr"
        },
        {
          "output_type": "stream",
          "text": [
            "32\n",
            "tensor([[50258, 50258, 50258,  ..., 50259, 50259, 50259],\n",
            "        [50258, 50258, 50258,  ..., 50259, 50259, 50259],\n",
            "        [50258, 50258, 50258,  ..., 50259, 50259, 50259],\n",
            "        ...,\n",
            "        [50258, 50258, 50258,  ..., 50259, 50259, 50259],\n",
            "        [50258, 50258, 50258,  ..., 50259, 50259, 50259],\n",
            "        [50258, 50258, 50258,  ..., 50259, 50259, 50259]], device='cuda:0')\n"
          ],
          "name": "stdout"
        },
        {
          "output_type": "stream",
          "text": [
            "\rTraining:  65%|██████▍   | 186/287 [01:44<00:57,  1.76it/s]"
          ],
          "name": "stderr"
        },
        {
          "output_type": "stream",
          "text": [
            "32\n",
            "tensor([[50258, 50258, 50258,  ..., 50259, 50259, 50259],\n",
            "        [50258, 50258, 50258,  ..., 50259, 50259, 50259],\n",
            "        [50258, 50258, 50258,  ..., 50259, 50259, 50259],\n",
            "        ...,\n",
            "        [50258, 50258, 50258,  ..., 50259, 50259, 50259],\n",
            "        [50258, 50258, 50258,  ..., 50259, 50259, 50259],\n",
            "        [50258, 50258, 50258,  ..., 50259, 50259, 50259]], device='cuda:0')\n"
          ],
          "name": "stdout"
        },
        {
          "output_type": "stream",
          "text": [
            "\rTraining:  65%|██████▌   | 187/287 [01:45<00:56,  1.76it/s]"
          ],
          "name": "stderr"
        },
        {
          "output_type": "stream",
          "text": [
            "32\n",
            "tensor([[50258, 50258, 50258,  ..., 50259, 50259, 50259],\n",
            "        [50258, 50258, 50258,  ..., 50259, 50259, 50259],\n",
            "        [50258, 50258, 50258,  ..., 50259, 50259, 50259],\n",
            "        ...,\n",
            "        [50258, 50258, 50258,  ..., 50259, 50259, 50259],\n",
            "        [50258, 50258, 50258,  ..., 50259, 50259, 50259],\n",
            "        [50258, 50258, 50258,  ..., 50259, 50259, 50259]], device='cuda:0')\n"
          ],
          "name": "stdout"
        },
        {
          "output_type": "stream",
          "text": [
            "\rTraining:  66%|██████▌   | 188/287 [01:46<00:56,  1.76it/s]"
          ],
          "name": "stderr"
        },
        {
          "output_type": "stream",
          "text": [
            "32\n",
            "tensor([[50258, 50258, 50258,  ..., 50259, 50259, 50259],\n",
            "        [50258, 50258, 50258,  ..., 50259, 50259, 50259],\n",
            "        [50258, 50258, 50258,  ..., 50259, 50259, 50259],\n",
            "        ...,\n",
            "        [50258, 50258, 50258,  ..., 50259, 50259, 50259],\n",
            "        [50258, 50258, 50258,  ..., 50259, 50259, 50259],\n",
            "        [50258, 50258, 50258,  ..., 50259, 50259, 50259]], device='cuda:0')\n"
          ],
          "name": "stdout"
        },
        {
          "output_type": "stream",
          "text": [
            "\rTraining:  66%|██████▌   | 189/287 [01:46<00:55,  1.76it/s]"
          ],
          "name": "stderr"
        },
        {
          "output_type": "stream",
          "text": [
            "32\n",
            "tensor([[50258, 50258, 50258,  ..., 50259, 50259, 50259],\n",
            "        [50258, 50258, 50258,  ..., 50259, 50259, 50259],\n",
            "        [50258, 50258, 50258,  ..., 50259, 50259, 50259],\n",
            "        ...,\n",
            "        [50258, 50258, 50258,  ..., 50259, 50259, 50259],\n",
            "        [50258, 50258, 50258,  ..., 50259, 50259, 50259],\n",
            "        [50258, 50258, 50258,  ..., 50259, 50259, 50259]], device='cuda:0')\n"
          ],
          "name": "stdout"
        },
        {
          "output_type": "stream",
          "text": [
            "\rTraining:  66%|██████▌   | 190/287 [01:47<00:55,  1.76it/s]"
          ],
          "name": "stderr"
        },
        {
          "output_type": "stream",
          "text": [
            "32\n",
            "tensor([[50258, 50258, 50258,  ..., 50259, 50259, 50259],\n",
            "        [50258, 50258, 50258,  ..., 50259, 50259, 50259],\n",
            "        [50258, 50258, 50258,  ..., 50259, 50259, 50259],\n",
            "        ...,\n",
            "        [50258, 50258, 50258,  ..., 50259, 50259, 50259],\n",
            "        [50258, 50258, 50258,  ..., 50259, 50259, 50259],\n",
            "        [50258, 50258, 50258,  ..., 50259, 50259, 50259]], device='cuda:0')\n"
          ],
          "name": "stdout"
        },
        {
          "output_type": "stream",
          "text": [
            "\rTraining:  67%|██████▋   | 191/287 [01:47<00:54,  1.76it/s]"
          ],
          "name": "stderr"
        },
        {
          "output_type": "stream",
          "text": [
            "32\n",
            "tensor([[50258, 50258, 50258,  ..., 50259, 50259, 50259],\n",
            "        [50258, 50258, 50258,  ..., 50259, 50259, 50259],\n",
            "        [50258, 50258, 50258,  ..., 50259, 50259, 50259],\n",
            "        ...,\n",
            "        [50258, 50258, 50258,  ..., 50259, 50259, 50259],\n",
            "        [50258, 50258, 50258,  ..., 50259, 50259, 50259],\n",
            "        [50258, 50258, 50258,  ..., 50259, 50259, 50259]], device='cuda:0')\n"
          ],
          "name": "stdout"
        },
        {
          "output_type": "stream",
          "text": [
            "\rTraining:  67%|██████▋   | 192/287 [01:48<00:53,  1.76it/s]"
          ],
          "name": "stderr"
        },
        {
          "output_type": "stream",
          "text": [
            "32\n",
            "tensor([[50258, 50258, 50258,  ..., 50259, 50259, 50259],\n",
            "        [50258, 50258, 50258,  ..., 50259, 50259, 50259],\n",
            "        [50258, 50258, 50258,  ..., 50259, 50259, 50259],\n",
            "        ...,\n",
            "        [50258, 50258, 50258,  ..., 50259, 50259, 50259],\n",
            "        [50258, 50258, 50258,  ..., 50259, 50259, 50259],\n",
            "        [50258, 50258, 50258,  ..., 50259, 50259, 50259]], device='cuda:0')\n"
          ],
          "name": "stdout"
        },
        {
          "output_type": "stream",
          "text": [
            "\rTraining:  67%|██████▋   | 193/287 [01:48<00:53,  1.76it/s]"
          ],
          "name": "stderr"
        },
        {
          "output_type": "stream",
          "text": [
            "32\n",
            "tensor([[50258, 50258, 50258,  ..., 50259, 50259, 50259],\n",
            "        [50258, 50258, 50258,  ..., 50259, 50259, 50259],\n",
            "        [50258, 50258, 50258,  ..., 50259, 50259, 50259],\n",
            "        ...,\n",
            "        [50258, 50258, 50258,  ..., 50259, 50259, 50259],\n",
            "        [50258, 50258, 50258,  ..., 50259, 50259, 50259],\n",
            "        [50258, 50258, 50258,  ..., 50259, 50259, 50259]], device='cuda:0')\n"
          ],
          "name": "stdout"
        },
        {
          "output_type": "stream",
          "text": [
            "\rTraining:  68%|██████▊   | 194/287 [01:49<00:52,  1.76it/s]"
          ],
          "name": "stderr"
        },
        {
          "output_type": "stream",
          "text": [
            "32\n",
            "tensor([[50258, 50258, 50258,  ..., 50259, 50259, 50259],\n",
            "        [50258, 50258, 50258,  ..., 50259, 50259, 50259],\n",
            "        [50258, 50258, 50258,  ..., 50259, 50259, 50259],\n",
            "        ...,\n",
            "        [50258, 50258, 50258,  ..., 50259, 50259, 50259],\n",
            "        [50258, 50258, 50258,  ..., 50259, 50259, 50259],\n",
            "        [50258, 50258, 50258,  ..., 50259, 50259, 50259]], device='cuda:0')\n"
          ],
          "name": "stdout"
        },
        {
          "output_type": "stream",
          "text": [
            "\rTraining:  68%|██████▊   | 195/287 [01:50<00:52,  1.76it/s]"
          ],
          "name": "stderr"
        },
        {
          "output_type": "stream",
          "text": [
            "32\n",
            "tensor([[50258, 50258, 50258,  ..., 50259, 50259, 50259],\n",
            "        [50258, 50258, 50258,  ..., 50259, 50259, 50259],\n",
            "        [50258, 50258, 50258,  ..., 50259, 50259, 50259],\n",
            "        ...,\n",
            "        [50258, 50258, 50258,  ..., 50259, 50259, 50259],\n",
            "        [50258, 50258, 50258,  ..., 50259, 50259, 50259],\n",
            "        [50258, 50258, 50258,  ..., 50259, 50259, 50259]], device='cuda:0')\n"
          ],
          "name": "stdout"
        },
        {
          "output_type": "stream",
          "text": [
            "\rTraining:  68%|██████▊   | 196/287 [01:50<00:51,  1.76it/s]"
          ],
          "name": "stderr"
        },
        {
          "output_type": "stream",
          "text": [
            "32\n",
            "tensor([[50258, 50258, 50258,  ..., 50259, 50259, 50259],\n",
            "        [50258, 50258, 50258,  ..., 50259, 50259, 50259],\n",
            "        [50258, 50258, 50258,  ..., 50259, 50259, 50259],\n",
            "        ...,\n",
            "        [50258, 50258, 50258,  ..., 50259, 50259, 50259],\n",
            "        [50258, 50258, 50258,  ..., 50259, 50259, 50259],\n",
            "        [50258, 50258, 50258,  ..., 50259, 50259, 50259]], device='cuda:0')\n"
          ],
          "name": "stdout"
        },
        {
          "output_type": "stream",
          "text": [
            "\rTraining:  69%|██████▊   | 197/287 [01:51<00:51,  1.76it/s]"
          ],
          "name": "stderr"
        },
        {
          "output_type": "stream",
          "text": [
            "32\n",
            "tensor([[50258, 50258, 50258,  ..., 50259, 50259, 50259],\n",
            "        [50258, 50258, 50258,  ..., 50259, 50259, 50259],\n",
            "        [50258, 50258, 50258,  ..., 50259, 50259, 50259],\n",
            "        ...,\n",
            "        [50258, 50258, 50258,  ..., 50259, 50259, 50259],\n",
            "        [50258, 50258, 50258,  ..., 50259, 50259, 50259],\n",
            "        [50258, 50258, 50258,  ..., 50259, 50259, 50259]], device='cuda:0')\n"
          ],
          "name": "stdout"
        },
        {
          "output_type": "stream",
          "text": [
            "\rTraining:  69%|██████▉   | 198/287 [01:51<00:50,  1.76it/s]"
          ],
          "name": "stderr"
        },
        {
          "output_type": "stream",
          "text": [
            "32\n",
            "tensor([[50258, 50258, 50258,  ..., 50259, 50259, 50259],\n",
            "        [50258, 50258, 50258,  ..., 50259, 50259, 50259],\n",
            "        [50258, 50258, 50258,  ..., 50259, 50259, 50259],\n",
            "        ...,\n",
            "        [50258, 50258, 50258,  ..., 50259, 50259, 50259],\n",
            "        [50258, 50258, 50258,  ..., 50259, 50259, 50259],\n",
            "        [50258, 50258, 50258,  ..., 50259, 50259, 50259]], device='cuda:0')\n"
          ],
          "name": "stdout"
        },
        {
          "output_type": "stream",
          "text": [
            "\rTraining:  69%|██████▉   | 199/287 [01:52<00:49,  1.76it/s]"
          ],
          "name": "stderr"
        },
        {
          "output_type": "stream",
          "text": [
            "32\n",
            "tensor([[50258, 50258, 50258,  ..., 50259, 50259, 50259],\n",
            "        [50258, 50258, 50258,  ..., 50259, 50259, 50259],\n",
            "        [50258, 50258, 50258,  ..., 50259, 50259, 50259],\n",
            "        ...,\n",
            "        [50258, 50258, 50258,  ..., 50259, 50259, 50259],\n",
            "        [50258, 50258, 50258,  ..., 50259, 50259, 50259],\n",
            "        [50258, 50258, 50258,  ..., 50259, 50259, 50259]], device='cuda:0')\n"
          ],
          "name": "stdout"
        },
        {
          "output_type": "stream",
          "text": [
            "\rTraining:  70%|██████▉   | 200/287 [01:52<00:49,  1.76it/s]"
          ],
          "name": "stderr"
        },
        {
          "output_type": "stream",
          "text": [
            "32\n",
            "tensor([[50258, 50258, 50258,  ..., 50259, 50259, 50259],\n",
            "        [50258, 50258, 50258,  ..., 50259, 50259, 50259],\n",
            "        [50258, 50258, 50258,  ..., 50259, 50259, 50259],\n",
            "        ...,\n",
            "        [50258, 50258, 50258,  ..., 50259, 50259, 50259],\n",
            "        [50258, 50258, 50258,  ..., 50259, 50259, 50259],\n",
            "        [50258, 50258, 50258,  ..., 50259, 50259, 50259]], device='cuda:0')\n"
          ],
          "name": "stdout"
        },
        {
          "output_type": "stream",
          "text": [
            "\rTraining:  70%|███████   | 201/287 [01:53<00:48,  1.76it/s]"
          ],
          "name": "stderr"
        },
        {
          "output_type": "stream",
          "text": [
            "32\n",
            "tensor([[50258, 50258, 50258,  ..., 50259, 50259, 50259],\n",
            "        [50258, 50258, 50258,  ..., 50259, 50259, 50259],\n",
            "        [50258, 50258, 50258,  ..., 50259, 50259, 50259],\n",
            "        ...,\n",
            "        [50258, 50258, 50258,  ..., 50259, 50259, 50259],\n",
            "        [50258, 50258, 50258,  ..., 50259, 50259, 50259],\n",
            "        [50258, 50258, 50258,  ..., 50259, 50259, 50259]], device='cuda:0')\n"
          ],
          "name": "stdout"
        },
        {
          "output_type": "stream",
          "text": [
            "\rTraining:  70%|███████   | 202/287 [01:54<00:48,  1.76it/s]"
          ],
          "name": "stderr"
        },
        {
          "output_type": "stream",
          "text": [
            "32\n",
            "tensor([[50258, 50258, 50258,  ..., 50259, 50259, 50259],\n",
            "        [50258, 50258, 50258,  ..., 50259, 50259, 50259],\n",
            "        [50258, 50258, 50258,  ..., 50259, 50259, 50259],\n",
            "        ...,\n",
            "        [50258, 50258, 50258,  ..., 50259, 50259, 50259],\n",
            "        [50258, 50258, 50258,  ..., 50259, 50259, 50259],\n",
            "        [50258, 50258, 50258,  ..., 50259, 50259, 50259]], device='cuda:0')\n"
          ],
          "name": "stdout"
        },
        {
          "output_type": "stream",
          "text": [
            "\rTraining:  71%|███████   | 203/287 [01:54<00:47,  1.76it/s]"
          ],
          "name": "stderr"
        },
        {
          "output_type": "stream",
          "text": [
            "32\n",
            "tensor([[50258, 50258, 50258,  ..., 50259, 50259, 50259],\n",
            "        [50258, 50258, 50258,  ..., 50259, 50259, 50259],\n",
            "        [50258, 50258, 50258,  ..., 50259, 50259, 50259],\n",
            "        ...,\n",
            "        [50258, 50258, 50258,  ..., 50259, 50259, 50259],\n",
            "        [50258, 50258, 50258,  ..., 50259, 50259, 50259],\n",
            "        [50258, 50258, 50258,  ..., 50259, 50259, 50259]], device='cuda:0')\n"
          ],
          "name": "stdout"
        },
        {
          "output_type": "stream",
          "text": [
            "\rTraining:  71%|███████   | 204/287 [01:55<00:47,  1.76it/s]"
          ],
          "name": "stderr"
        },
        {
          "output_type": "stream",
          "text": [
            "32\n",
            "tensor([[50258, 50258, 50258,  ..., 50259, 50259, 50259],\n",
            "        [50258, 50258, 50258,  ..., 50259, 50259, 50259],\n",
            "        [50258, 50258, 50258,  ..., 50259, 50259, 50259],\n",
            "        ...,\n",
            "        [50258, 50258, 50258,  ..., 50259, 50259, 50259],\n",
            "        [50258, 50258, 50258,  ..., 50259, 50259, 50259],\n",
            "        [50258, 50258, 50258,  ..., 50259, 50259, 50259]], device='cuda:0')\n"
          ],
          "name": "stdout"
        },
        {
          "output_type": "stream",
          "text": [
            "\rTraining:  71%|███████▏  | 205/287 [01:55<00:46,  1.76it/s]"
          ],
          "name": "stderr"
        },
        {
          "output_type": "stream",
          "text": [
            "32\n",
            "tensor([[50258, 50258, 50258,  ..., 50259, 50259, 50259],\n",
            "        [50258, 50258, 50258,  ..., 50259, 50259, 50259],\n",
            "        [50258, 50258, 50258,  ..., 50259, 50259, 50259],\n",
            "        ...,\n",
            "        [50258, 50258, 50258,  ..., 50259, 50259, 50259],\n",
            "        [50258, 50258, 50258,  ..., 50259, 50259, 50259],\n",
            "        [50258, 50258, 50258,  ..., 50259, 50259, 50259]], device='cuda:0')\n"
          ],
          "name": "stdout"
        },
        {
          "output_type": "stream",
          "text": [
            "\rTraining:  72%|███████▏  | 206/287 [01:56<00:46,  1.76it/s]"
          ],
          "name": "stderr"
        },
        {
          "output_type": "stream",
          "text": [
            "32\n",
            "tensor([[50258, 50258, 50258,  ..., 50259, 50259, 50259],\n",
            "        [50258, 50258, 50258,  ..., 50259, 50259, 50259],\n",
            "        [50258, 50258, 50258,  ..., 50259, 50259, 50259],\n",
            "        ...,\n",
            "        [50258, 50258, 50258,  ..., 50259, 50259, 50259],\n",
            "        [50258, 50258, 50258,  ..., 50259, 50259, 50259],\n",
            "        [50258, 50258, 50258,  ..., 50259, 50259, 50259]], device='cuda:0')\n"
          ],
          "name": "stdout"
        },
        {
          "output_type": "stream",
          "text": [
            "\rTraining:  72%|███████▏  | 207/287 [01:56<00:45,  1.76it/s]"
          ],
          "name": "stderr"
        },
        {
          "output_type": "stream",
          "text": [
            "32\n",
            "tensor([[50258, 50258, 50258,  ..., 50259, 50259, 50259],\n",
            "        [50258, 50258, 50258,  ..., 50259, 50259, 50259],\n",
            "        [50258, 50258, 50258,  ..., 50259, 50259, 50259],\n",
            "        ...,\n",
            "        [50258, 50258, 50258,  ..., 50259, 50259, 50259],\n",
            "        [50258, 50258, 50258,  ..., 50259, 50259, 50259],\n",
            "        [50258, 50258, 50258,  ..., 50259, 50259, 50259]], device='cuda:0')\n"
          ],
          "name": "stdout"
        },
        {
          "output_type": "stream",
          "text": [
            "\rTraining:  72%|███████▏  | 208/287 [01:57<00:44,  1.76it/s]"
          ],
          "name": "stderr"
        },
        {
          "output_type": "stream",
          "text": [
            "32\n",
            "tensor([[50258, 50258, 50258,  ..., 50259, 50259, 50259],\n",
            "        [50258, 50258, 50258,  ..., 50259, 50259, 50259],\n",
            "        [50258, 50258, 50258,  ..., 50259, 50259, 50259],\n",
            "        ...,\n",
            "        [50258, 50258, 50258,  ..., 50259, 50259, 50259],\n",
            "        [50258, 50258, 50258,  ..., 50259, 50259, 50259],\n",
            "        [50258, 50258, 50258,  ..., 50259, 50259, 50259]], device='cuda:0')\n"
          ],
          "name": "stdout"
        },
        {
          "output_type": "stream",
          "text": [
            "\rTraining:  73%|███████▎  | 209/287 [01:58<00:44,  1.76it/s]"
          ],
          "name": "stderr"
        },
        {
          "output_type": "stream",
          "text": [
            "32\n",
            "tensor([[50258, 50258, 50258,  ..., 50259, 50259, 50259],\n",
            "        [50258, 50258, 50258,  ..., 50259, 50259, 50259],\n",
            "        [50258, 50258, 50258,  ..., 50259, 50259, 50259],\n",
            "        ...,\n",
            "        [50258, 50258, 50258,  ..., 50259, 50259, 50259],\n",
            "        [50258, 50258, 50258,  ..., 50259, 50259, 50259],\n",
            "        [50258, 50258, 50258,  ..., 50259, 50259, 50259]], device='cuda:0')\n"
          ],
          "name": "stdout"
        },
        {
          "output_type": "stream",
          "text": [
            "\rTraining:  73%|███████▎  | 210/287 [01:58<00:43,  1.76it/s]"
          ],
          "name": "stderr"
        },
        {
          "output_type": "stream",
          "text": [
            "32\n",
            "tensor([[50258, 50258, 50258,  ..., 50259, 50259, 50259],\n",
            "        [50258, 50258, 50258,  ..., 50259, 50259, 50259],\n",
            "        [50258, 50258, 50258,  ..., 50259, 50259, 50259],\n",
            "        ...,\n",
            "        [50258, 50258, 50258,  ..., 50259, 50259, 50259],\n",
            "        [50258, 50258, 50258,  ..., 50259, 50259, 50259],\n",
            "        [50258, 50258, 50258,  ..., 50259, 50259, 50259]], device='cuda:0')\n"
          ],
          "name": "stdout"
        },
        {
          "output_type": "stream",
          "text": [
            "\rTraining:  74%|███████▎  | 211/287 [01:59<00:43,  1.76it/s]"
          ],
          "name": "stderr"
        },
        {
          "output_type": "stream",
          "text": [
            "32\n",
            "tensor([[50258, 50258, 50258,  ..., 50259, 50259, 50259],\n",
            "        [50258, 50258, 50258,  ..., 50259, 50259, 50259],\n",
            "        [50258, 50258, 50258,  ..., 50259, 50259, 50259],\n",
            "        ...,\n",
            "        [50258, 50258, 50258,  ..., 50259, 50259, 50259],\n",
            "        [50258, 50258, 50258,  ..., 50259, 50259, 50259],\n",
            "        [50258, 50258, 50258,  ..., 50259, 50259, 50259]], device='cuda:0')\n"
          ],
          "name": "stdout"
        },
        {
          "output_type": "stream",
          "text": [
            "\rTraining:  74%|███████▍  | 212/287 [01:59<00:42,  1.76it/s]"
          ],
          "name": "stderr"
        },
        {
          "output_type": "stream",
          "text": [
            "32\n",
            "tensor([[50258, 50258, 50258,  ..., 50259, 50259, 50259],\n",
            "        [50258, 50258, 50258,  ..., 50259, 50259, 50259],\n",
            "        [50258, 50258, 50258,  ..., 50259, 50259, 50259],\n",
            "        ...,\n",
            "        [50258, 50258, 50258,  ..., 50259, 50259, 50259],\n",
            "        [50258, 50258, 50258,  ..., 50259, 50259, 50259],\n",
            "        [50258, 50258, 50258,  ..., 50259, 50259, 50259]], device='cuda:0')\n"
          ],
          "name": "stdout"
        },
        {
          "output_type": "stream",
          "text": [
            "\rTraining:  74%|███████▍  | 213/287 [02:00<00:42,  1.76it/s]"
          ],
          "name": "stderr"
        },
        {
          "output_type": "stream",
          "text": [
            "32\n",
            "tensor([[50258, 50258, 50258,  ..., 50259, 50259, 50259],\n",
            "        [50258, 50258, 50258,  ..., 50259, 50259, 50259],\n",
            "        [50258, 50258, 50258,  ..., 50259, 50259, 50259],\n",
            "        ...,\n",
            "        [50258, 50258, 50258,  ..., 50259, 50259, 50259],\n",
            "        [50258, 50258, 50258,  ..., 50259, 50259, 50259],\n",
            "        [50258, 50258, 50258,  ..., 50259, 50259, 50259]], device='cuda:0')\n"
          ],
          "name": "stdout"
        },
        {
          "output_type": "stream",
          "text": [
            "\rTraining:  75%|███████▍  | 214/287 [02:00<00:41,  1.76it/s]"
          ],
          "name": "stderr"
        },
        {
          "output_type": "stream",
          "text": [
            "32\n",
            "tensor([[50258, 50258, 50258,  ..., 50259, 50259, 50259],\n",
            "        [50258, 50258, 50258,  ..., 50259, 50259, 50259],\n",
            "        [50258, 50258, 50258,  ..., 50259, 50259, 50259],\n",
            "        ...,\n",
            "        [50258, 50258, 50258,  ..., 50259, 50259, 50259],\n",
            "        [50258, 50258, 50258,  ..., 50259, 50259, 50259],\n",
            "        [50258, 50258, 50258,  ..., 50259, 50259, 50259]], device='cuda:0')\n"
          ],
          "name": "stdout"
        },
        {
          "output_type": "stream",
          "text": [
            "\rTraining:  75%|███████▍  | 215/287 [02:01<00:40,  1.76it/s]"
          ],
          "name": "stderr"
        },
        {
          "output_type": "stream",
          "text": [
            "32\n",
            "tensor([[50258, 50258, 50258,  ..., 50259, 50259, 50259],\n",
            "        [50258, 50258, 50258,  ..., 50259, 50259, 50259],\n",
            "        [50258, 50258, 50258,  ..., 50259, 50259, 50259],\n",
            "        ...,\n",
            "        [50258, 50258, 50258,  ..., 50259, 50259, 50259],\n",
            "        [50258, 50258, 50258,  ..., 50259, 50259, 50259],\n",
            "        [50258, 50258, 50258,  ..., 50259, 50259, 50259]], device='cuda:0')\n"
          ],
          "name": "stdout"
        },
        {
          "output_type": "stream",
          "text": [
            "\rTraining:  75%|███████▌  | 216/287 [02:02<00:40,  1.76it/s]"
          ],
          "name": "stderr"
        },
        {
          "output_type": "stream",
          "text": [
            "32\n",
            "tensor([[50258, 50258, 50258,  ..., 50259, 50259, 50259],\n",
            "        [50258, 50258, 50258,  ..., 50259, 50259, 50259],\n",
            "        [50258, 50258, 50258,  ..., 50259, 50259, 50259],\n",
            "        ...,\n",
            "        [50258, 50258, 50258,  ..., 50259, 50259, 50259],\n",
            "        [50258, 50258, 50258,  ..., 50259, 50259, 50259],\n",
            "        [50258, 50258, 50258,  ..., 50259, 50259, 50259]], device='cuda:0')\n"
          ],
          "name": "stdout"
        },
        {
          "output_type": "stream",
          "text": [
            "\rTraining:  76%|███████▌  | 217/287 [02:02<00:39,  1.76it/s]"
          ],
          "name": "stderr"
        },
        {
          "output_type": "stream",
          "text": [
            "32\n",
            "tensor([[50258, 50258, 50258,  ..., 50259, 50259, 50259],\n",
            "        [50258, 50258, 50258,  ..., 50259, 50259, 50259],\n",
            "        [50258, 50258, 50258,  ..., 50259, 50259, 50259],\n",
            "        ...,\n",
            "        [50258, 50258, 50258,  ..., 50259, 50259, 50259],\n",
            "        [50258, 50258, 50258,  ..., 50259, 50259, 50259],\n",
            "        [50258, 50258, 50258,  ..., 50259, 50259, 50259]], device='cuda:0')\n"
          ],
          "name": "stdout"
        },
        {
          "output_type": "stream",
          "text": [
            "\rTraining:  76%|███████▌  | 218/287 [02:03<00:39,  1.76it/s]"
          ],
          "name": "stderr"
        },
        {
          "output_type": "stream",
          "text": [
            "32\n",
            "tensor([[50258, 50258, 50258,  ..., 50259, 50259, 50259],\n",
            "        [50258, 50258, 50258,  ..., 50259, 50259, 50259],\n",
            "        [50258, 50258, 50258,  ..., 50259, 50259, 50259],\n",
            "        ...,\n",
            "        [50258, 50258, 50258,  ..., 50259, 50259, 50259],\n",
            "        [50258, 50258, 50258,  ..., 50259, 50259, 50259],\n",
            "        [50258, 50258, 50258,  ..., 50259, 50259, 50259]], device='cuda:0')\n"
          ],
          "name": "stdout"
        },
        {
          "output_type": "stream",
          "text": [
            "\rTraining:  76%|███████▋  | 219/287 [02:03<00:38,  1.76it/s]"
          ],
          "name": "stderr"
        },
        {
          "output_type": "stream",
          "text": [
            "32\n",
            "tensor([[50258, 50258, 50258,  ..., 50259, 50259, 50259],\n",
            "        [50258, 50258, 50258,  ..., 50259, 50259, 50259],\n",
            "        [50258, 50258, 50258,  ..., 50259, 50259, 50259],\n",
            "        ...,\n",
            "        [50258, 50258, 50258,  ..., 50259, 50259, 50259],\n",
            "        [50258, 50258, 50258,  ..., 50259, 50259, 50259],\n",
            "        [50258, 50258, 50258,  ..., 50259, 50259, 50259]], device='cuda:0')\n"
          ],
          "name": "stdout"
        },
        {
          "output_type": "stream",
          "text": [
            "\rTraining:  77%|███████▋  | 220/287 [02:04<00:37,  1.77it/s]"
          ],
          "name": "stderr"
        },
        {
          "output_type": "stream",
          "text": [
            "32\n",
            "tensor([[50258, 50258, 50258,  ..., 50259, 50259, 50259],\n",
            "        [50258, 50258, 50258,  ..., 50259, 50259, 50259],\n",
            "        [50258, 50258, 50258,  ..., 50259, 50259, 50259],\n",
            "        ...,\n",
            "        [50258, 50258, 50258,  ..., 50259, 50259, 50259],\n",
            "        [50258, 50258, 50258,  ..., 50259, 50259, 50259],\n",
            "        [50258, 50258, 50258,  ..., 50259, 50259, 50259]], device='cuda:0')\n"
          ],
          "name": "stdout"
        },
        {
          "output_type": "stream",
          "text": [
            "\rTraining:  77%|███████▋  | 221/287 [02:04<00:37,  1.76it/s]"
          ],
          "name": "stderr"
        },
        {
          "output_type": "stream",
          "text": [
            "32\n",
            "tensor([[50258, 50258, 50258,  ..., 50259, 50259, 50259],\n",
            "        [50258, 50258, 50258,  ..., 50259, 50259, 50259],\n",
            "        [50258, 50258, 50258,  ..., 50259, 50259, 50259],\n",
            "        ...,\n",
            "        [50258, 50258, 50258,  ..., 50259, 50259, 50259],\n",
            "        [50258, 50258, 50258,  ..., 50259, 50259, 50259],\n",
            "        [50258, 50258, 50258,  ..., 50259, 50259, 50259]], device='cuda:0')\n"
          ],
          "name": "stdout"
        },
        {
          "output_type": "stream",
          "text": [
            "\rTraining:  77%|███████▋  | 222/287 [02:05<00:36,  1.77it/s]"
          ],
          "name": "stderr"
        },
        {
          "output_type": "stream",
          "text": [
            "32\n",
            "tensor([[50258, 50258, 50258,  ..., 50259, 50259, 50259],\n",
            "        [50258, 50258, 50258,  ..., 50259, 50259, 50259],\n",
            "        [50258, 50258, 50258,  ..., 50259, 50259, 50259],\n",
            "        ...,\n",
            "        [50258, 50258, 50258,  ..., 50259, 50259, 50259],\n",
            "        [50258, 50258, 50258,  ..., 50259, 50259, 50259],\n",
            "        [50258, 50258, 50258,  ..., 50259, 50259, 50259]], device='cuda:0')\n"
          ],
          "name": "stdout"
        },
        {
          "output_type": "stream",
          "text": [
            "\rTraining:  78%|███████▊  | 223/287 [02:05<00:36,  1.76it/s]"
          ],
          "name": "stderr"
        },
        {
          "output_type": "stream",
          "text": [
            "32\n",
            "tensor([[50258, 50258, 50258,  ..., 50259, 50259, 50259],\n",
            "        [50258, 50258, 50258,  ..., 50259, 50259, 50259],\n",
            "        [50258, 50258, 50258,  ..., 50259, 50259, 50259],\n",
            "        ...,\n",
            "        [50258, 50258, 50258,  ..., 50259, 50259, 50259],\n",
            "        [50258, 50258, 50258,  ..., 50259, 50259, 50259],\n",
            "        [50258, 50258, 50258,  ..., 50259, 50259, 50259]], device='cuda:0')\n"
          ],
          "name": "stdout"
        },
        {
          "output_type": "stream",
          "text": [
            "\rTraining:  78%|███████▊  | 224/287 [02:06<00:35,  1.77it/s]"
          ],
          "name": "stderr"
        },
        {
          "output_type": "stream",
          "text": [
            "32\n",
            "tensor([[50258, 50258, 50258,  ..., 50259, 50259, 50259],\n",
            "        [50258, 50258, 50258,  ..., 50259, 50259, 50259],\n",
            "        [50258, 50258, 50258,  ..., 50259, 50259, 50259],\n",
            "        ...,\n",
            "        [50258, 50258, 50258,  ..., 50259, 50259, 50259],\n",
            "        [50258, 50258, 50258,  ..., 50259, 50259, 50259],\n",
            "        [50258, 50258, 50258,  ..., 50259, 50259, 50259]], device='cuda:0')\n"
          ],
          "name": "stdout"
        },
        {
          "output_type": "stream",
          "text": [
            "\rTraining:  78%|███████▊  | 225/287 [02:07<00:35,  1.76it/s]"
          ],
          "name": "stderr"
        },
        {
          "output_type": "stream",
          "text": [
            "32\n",
            "tensor([[50258, 50258, 50258,  ..., 50259, 50259, 50259],\n",
            "        [50258, 50258, 50258,  ..., 50259, 50259, 50259],\n",
            "        [50258, 50258, 50258,  ..., 50259, 50259, 50259],\n",
            "        ...,\n",
            "        [50258, 50258, 50258,  ..., 50259, 50259, 50259],\n",
            "        [50258, 50258, 50258,  ..., 50259, 50259, 50259],\n",
            "        [50258, 50258, 50258,  ..., 50259, 50259, 50259]], device='cuda:0')\n"
          ],
          "name": "stdout"
        },
        {
          "output_type": "stream",
          "text": [
            "\rTraining:  79%|███████▊  | 226/287 [02:07<00:34,  1.77it/s]"
          ],
          "name": "stderr"
        },
        {
          "output_type": "stream",
          "text": [
            "32\n",
            "tensor([[50258, 50258, 50258,  ..., 50259, 50259, 50259],\n",
            "        [50258, 50258, 50258,  ..., 50259, 50259, 50259],\n",
            "        [50258, 50258, 50258,  ..., 50259, 50259, 50259],\n",
            "        ...,\n",
            "        [50258, 50258, 50258,  ..., 50259, 50259, 50259],\n",
            "        [50258, 50258, 50258,  ..., 50259, 50259, 50259],\n",
            "        [50258, 50258, 50258,  ..., 50259, 50259, 50259]], device='cuda:0')\n"
          ],
          "name": "stdout"
        },
        {
          "output_type": "stream",
          "text": [
            "\rTraining:  79%|███████▉  | 227/287 [02:08<00:33,  1.77it/s]"
          ],
          "name": "stderr"
        },
        {
          "output_type": "stream",
          "text": [
            "32\n",
            "tensor([[50258, 50258, 50258,  ..., 50259, 50259, 50259],\n",
            "        [50258, 50258, 50258,  ..., 50259, 50259, 50259],\n",
            "        [50258, 50258, 50258,  ..., 50259, 50259, 50259],\n",
            "        ...,\n",
            "        [50258, 50258, 50258,  ..., 50259, 50259, 50259],\n",
            "        [50258, 50258, 50258,  ..., 50259, 50259, 50259],\n",
            "        [50258, 50258, 50258,  ..., 50259, 50259, 50259]], device='cuda:0')\n"
          ],
          "name": "stdout"
        },
        {
          "output_type": "stream",
          "text": [
            "\rTraining:  79%|███████▉  | 228/287 [02:08<00:33,  1.77it/s]"
          ],
          "name": "stderr"
        },
        {
          "output_type": "stream",
          "text": [
            "32\n",
            "tensor([[50258, 50258, 50258,  ..., 50259, 50259, 50259],\n",
            "        [50258, 50258, 50258,  ..., 50259, 50259, 50259],\n",
            "        [50258, 50258, 50258,  ..., 50259, 50259, 50259],\n",
            "        ...,\n",
            "        [50258, 50258, 50258,  ..., 50259, 50259, 50259],\n",
            "        [50258, 50258, 50258,  ..., 50259, 50259, 50259],\n",
            "        [50258, 50258, 50258,  ..., 50259, 50259, 50259]], device='cuda:0')\n"
          ],
          "name": "stdout"
        },
        {
          "output_type": "stream",
          "text": [
            "\rTraining:  80%|███████▉  | 229/287 [02:09<00:32,  1.77it/s]"
          ],
          "name": "stderr"
        },
        {
          "output_type": "stream",
          "text": [
            "32\n",
            "tensor([[50258, 50258, 50258,  ..., 50259, 50259, 50259],\n",
            "        [50258, 50258, 50258,  ..., 50259, 50259, 50259],\n",
            "        [50258, 50258, 50258,  ..., 50259, 50259, 50259],\n",
            "        ...,\n",
            "        [50258, 50258, 50258,  ..., 50259, 50259, 50259],\n",
            "        [50258, 50258, 50258,  ..., 50259, 50259, 50259],\n",
            "        [50258, 50258, 50258,  ..., 50259, 50259, 50259]], device='cuda:0')\n"
          ],
          "name": "stdout"
        },
        {
          "output_type": "stream",
          "text": [
            "\rTraining:  80%|████████  | 230/287 [02:09<00:32,  1.77it/s]"
          ],
          "name": "stderr"
        },
        {
          "output_type": "stream",
          "text": [
            "32\n",
            "tensor([[50258, 50258, 50258,  ..., 50259, 50259, 50259],\n",
            "        [50258, 50258, 50258,  ..., 50259, 50259, 50259],\n",
            "        [50258, 50258, 50258,  ..., 50259, 50259, 50259],\n",
            "        ...,\n",
            "        [50258, 50258, 50258,  ..., 50259, 50259, 50259],\n",
            "        [50258, 50258, 50258,  ..., 50259, 50259, 50259],\n",
            "        [50258, 50258, 50258,  ..., 50259, 50259, 50259]], device='cuda:0')\n"
          ],
          "name": "stdout"
        },
        {
          "output_type": "stream",
          "text": [
            "\rTraining:  80%|████████  | 231/287 [02:10<00:31,  1.77it/s]"
          ],
          "name": "stderr"
        },
        {
          "output_type": "stream",
          "text": [
            "32\n",
            "tensor([[50258, 50258, 50258,  ..., 50259, 50259, 50259],\n",
            "        [50258, 50258, 50258,  ..., 50259, 50259, 50259],\n",
            "        [50258, 50258, 50258,  ..., 50259, 50259, 50259],\n",
            "        ...,\n",
            "        [50258, 50258, 50258,  ..., 50259, 50259, 50259],\n",
            "        [50258, 50258, 50258,  ..., 50259, 50259, 50259],\n",
            "        [50258, 50258, 50258,  ..., 50259, 50259, 50259]], device='cuda:0')\n"
          ],
          "name": "stdout"
        },
        {
          "output_type": "stream",
          "text": [
            "\rTraining:  81%|████████  | 232/287 [02:11<00:31,  1.77it/s]"
          ],
          "name": "stderr"
        },
        {
          "output_type": "stream",
          "text": [
            "32\n",
            "tensor([[50258, 50258, 50258,  ..., 50259, 50259, 50259],\n",
            "        [50258, 50258, 50258,  ..., 50259, 50259, 50259],\n",
            "        [50258, 50258, 50258,  ..., 50259, 50259, 50259],\n",
            "        ...,\n",
            "        [50258, 50258, 50258,  ..., 50259, 50259, 50259],\n",
            "        [50258, 50258, 50258,  ..., 50259, 50259, 50259],\n",
            "        [50258, 50258, 50258,  ..., 50259, 50259, 50259]], device='cuda:0')\n"
          ],
          "name": "stdout"
        },
        {
          "output_type": "stream",
          "text": [
            "\rTraining:  81%|████████  | 233/287 [02:11<00:30,  1.77it/s]"
          ],
          "name": "stderr"
        },
        {
          "output_type": "stream",
          "text": [
            "32\n",
            "tensor([[50258, 50258, 50258,  ..., 50259, 50259, 50259],\n",
            "        [50258, 50258, 50258,  ..., 50259, 50259, 50259],\n",
            "        [50258, 50258, 50258,  ..., 50259, 50259, 50259],\n",
            "        ...,\n",
            "        [50258, 50258, 50258,  ..., 50259, 50259, 50259],\n",
            "        [50258, 50258, 50258,  ..., 50259, 50259, 50259],\n",
            "        [50258, 50258, 50258,  ..., 50259, 50259, 50259]], device='cuda:0')\n"
          ],
          "name": "stdout"
        },
        {
          "output_type": "stream",
          "text": [
            "\rTraining:  82%|████████▏ | 234/287 [02:12<00:29,  1.77it/s]"
          ],
          "name": "stderr"
        },
        {
          "output_type": "stream",
          "text": [
            "32\n",
            "tensor([[50258, 50258, 50258,  ..., 50259, 50259, 50259],\n",
            "        [50258, 50258, 50258,  ..., 50259, 50259, 50259],\n",
            "        [50258, 50258, 50258,  ..., 50259, 50259, 50259],\n",
            "        ...,\n",
            "        [50258, 50258, 50258,  ..., 50259, 50259, 50259],\n",
            "        [50258, 50258, 50258,  ..., 50259, 50259, 50259],\n",
            "        [50258, 50258, 50258,  ..., 50259, 50259, 50259]], device='cuda:0')\n"
          ],
          "name": "stdout"
        },
        {
          "output_type": "stream",
          "text": [
            "\rTraining:  82%|████████▏ | 235/287 [02:12<00:29,  1.77it/s]"
          ],
          "name": "stderr"
        },
        {
          "output_type": "stream",
          "text": [
            "32\n",
            "tensor([[50258, 50258, 50258,  ..., 50259, 50259, 50259],\n",
            "        [50258, 50258, 50258,  ..., 50259, 50259, 50259],\n",
            "        [50258, 50258, 50258,  ..., 50259, 50259, 50259],\n",
            "        ...,\n",
            "        [50258, 50258, 50258,  ..., 50259, 50259, 50259],\n",
            "        [50258, 50258, 50258,  ..., 50259, 50259, 50259],\n",
            "        [50258, 50258, 50258,  ..., 50259, 50259, 50259]], device='cuda:0')\n"
          ],
          "name": "stdout"
        },
        {
          "output_type": "stream",
          "text": [
            "\rTraining:  82%|████████▏ | 236/287 [02:13<00:28,  1.77it/s]"
          ],
          "name": "stderr"
        },
        {
          "output_type": "stream",
          "text": [
            "32\n",
            "tensor([[50258, 50258, 50258,  ..., 50259, 50259, 50259],\n",
            "        [50258, 50258, 50258,  ..., 50259, 50259, 50259],\n",
            "        [50258, 50258, 50258,  ..., 50259, 50259, 50259],\n",
            "        ...,\n",
            "        [50258, 50258, 50258,  ..., 50259, 50259, 50259],\n",
            "        [50258, 50258, 50258,  ..., 50259, 50259, 50259],\n",
            "        [50258, 50258, 50258,  ..., 50259, 50259, 50259]], device='cuda:0')\n"
          ],
          "name": "stdout"
        },
        {
          "output_type": "stream",
          "text": [
            "\rTraining:  83%|████████▎ | 237/287 [02:13<00:28,  1.77it/s]"
          ],
          "name": "stderr"
        },
        {
          "output_type": "stream",
          "text": [
            "32\n",
            "tensor([[50258, 50258, 50258,  ..., 50259, 50259, 50259],\n",
            "        [50258, 50258, 50258,  ..., 50259, 50259, 50259],\n",
            "        [50258, 50258, 50258,  ..., 50259, 50259, 50259],\n",
            "        ...,\n",
            "        [50258, 50258, 50258,  ..., 50259, 50259, 50259],\n",
            "        [50258, 50258, 50258,  ..., 50259, 50259, 50259],\n",
            "        [50258, 50258, 50258,  ..., 50259, 50259, 50259]], device='cuda:0')\n"
          ],
          "name": "stdout"
        },
        {
          "output_type": "stream",
          "text": [
            "\rTraining:  83%|████████▎ | 238/287 [02:14<00:27,  1.77it/s]"
          ],
          "name": "stderr"
        },
        {
          "output_type": "stream",
          "text": [
            "32\n",
            "tensor([[50258, 50258, 50258,  ..., 50259, 50259, 50259],\n",
            "        [50258, 50258, 50258,  ..., 50259, 50259, 50259],\n",
            "        [50258, 50258, 50258,  ..., 50259, 50259, 50259],\n",
            "        ...,\n",
            "        [50258, 50258, 50258,  ..., 50259, 50259, 50259],\n",
            "        [50258, 50258, 50258,  ..., 50259, 50259, 50259],\n",
            "        [50258, 50258, 50258,  ..., 50259, 50259, 50259]], device='cuda:0')\n"
          ],
          "name": "stdout"
        },
        {
          "output_type": "stream",
          "text": [
            "\rTraining:  83%|████████▎ | 239/287 [02:15<00:27,  1.77it/s]"
          ],
          "name": "stderr"
        },
        {
          "output_type": "stream",
          "text": [
            "32\n",
            "tensor([[50258, 50258, 50258,  ..., 50259, 50259, 50259],\n",
            "        [50258, 50258, 50258,  ..., 50259, 50259, 50259],\n",
            "        [50258, 50258, 50258,  ..., 50259, 50259, 50259],\n",
            "        ...,\n",
            "        [50258, 50258, 50258,  ..., 50259, 50259, 50259],\n",
            "        [50258, 50258, 50258,  ..., 50259, 50259, 50259],\n",
            "        [50258, 50258, 50258,  ..., 50259, 50259, 50259]], device='cuda:0')\n"
          ],
          "name": "stdout"
        },
        {
          "output_type": "stream",
          "text": [
            "\rTraining:  84%|████████▎ | 240/287 [02:15<00:26,  1.77it/s]"
          ],
          "name": "stderr"
        },
        {
          "output_type": "stream",
          "text": [
            "32\n",
            "tensor([[50258, 50258, 50258,  ..., 50259, 50259, 50259],\n",
            "        [50258, 50258, 50258,  ..., 50259, 50259, 50259],\n",
            "        [50258, 50258, 50258,  ..., 50259, 50259, 50259],\n",
            "        ...,\n",
            "        [50258, 50258, 50258,  ..., 50259, 50259, 50259],\n",
            "        [50258, 50258, 50258,  ..., 50259, 50259, 50259],\n",
            "        [50258, 50258, 50258,  ..., 50259, 50259, 50259]], device='cuda:0')\n"
          ],
          "name": "stdout"
        },
        {
          "output_type": "stream",
          "text": [
            "\rTraining:  84%|████████▍ | 241/287 [02:16<00:25,  1.77it/s]"
          ],
          "name": "stderr"
        },
        {
          "output_type": "stream",
          "text": [
            "32\n",
            "tensor([[50258, 50258, 50258,  ..., 50259, 50259, 50259],\n",
            "        [50258, 50258, 50258,  ..., 50259, 50259, 50259],\n",
            "        [50258, 50258, 50258,  ..., 50259, 50259, 50259],\n",
            "        ...,\n",
            "        [50258, 50258, 50258,  ..., 50259, 50259, 50259],\n",
            "        [50258, 50258, 50258,  ..., 50259, 50259, 50259],\n",
            "        [50258, 50258, 50258,  ..., 50259, 50259, 50259]], device='cuda:0')\n"
          ],
          "name": "stdout"
        },
        {
          "output_type": "stream",
          "text": [
            "\rTraining:  84%|████████▍ | 242/287 [02:16<00:25,  1.77it/s]"
          ],
          "name": "stderr"
        },
        {
          "output_type": "stream",
          "text": [
            "32\n",
            "tensor([[50258, 50258, 50258,  ..., 50259, 50259, 50259],\n",
            "        [50258, 50258, 50258,  ..., 50259, 50259, 50259],\n",
            "        [50258, 50258, 50258,  ..., 50259, 50259, 50259],\n",
            "        ...,\n",
            "        [50258, 50258, 50258,  ..., 50259, 50259, 50259],\n",
            "        [50258, 50258, 50258,  ..., 50259, 50259, 50259],\n",
            "        [50258, 50258, 50258,  ..., 50259, 50259, 50259]], device='cuda:0')\n"
          ],
          "name": "stdout"
        },
        {
          "output_type": "stream",
          "text": [
            "\rTraining:  85%|████████▍ | 243/287 [02:17<00:24,  1.77it/s]"
          ],
          "name": "stderr"
        },
        {
          "output_type": "stream",
          "text": [
            "32\n",
            "tensor([[50258, 50258, 50258,  ..., 50259, 50259, 50259],\n",
            "        [50258, 50258, 50258,  ..., 50259, 50259, 50259],\n",
            "        [50258, 50258, 50258,  ..., 50259, 50259, 50259],\n",
            "        ...,\n",
            "        [50258, 50258, 50258,  ..., 50259, 50259, 50259],\n",
            "        [50258, 50258, 50258,  ..., 50259, 50259, 50259],\n",
            "        [50258, 50258, 50258,  ..., 50259, 50259, 50259]], device='cuda:0')\n"
          ],
          "name": "stdout"
        },
        {
          "output_type": "stream",
          "text": [
            "\rTraining:  85%|████████▌ | 244/287 [02:17<00:24,  1.77it/s]"
          ],
          "name": "stderr"
        },
        {
          "output_type": "stream",
          "text": [
            "32\n",
            "tensor([[50258, 50258, 50258,  ..., 50259, 50259, 50259],\n",
            "        [50258, 50258, 50258,  ..., 50259, 50259, 50259],\n",
            "        [50258, 50258, 50258,  ..., 50259, 50259, 50259],\n",
            "        ...,\n",
            "        [50258, 50258, 50258,  ..., 50259, 50259, 50259],\n",
            "        [50258, 50258, 50258,  ..., 50259, 50259, 50259],\n",
            "        [50258, 50258, 50258,  ..., 50259, 50259, 50259]], device='cuda:0')\n"
          ],
          "name": "stdout"
        },
        {
          "output_type": "stream",
          "text": [
            "\rTraining:  85%|████████▌ | 245/287 [02:18<00:23,  1.77it/s]"
          ],
          "name": "stderr"
        },
        {
          "output_type": "stream",
          "text": [
            "32\n",
            "tensor([[50258, 50258, 50258,  ..., 50259, 50259, 50259],\n",
            "        [50258, 50258, 50258,  ..., 50259, 50259, 50259],\n",
            "        [50258, 50258, 50258,  ..., 50259, 50259, 50259],\n",
            "        ...,\n",
            "        [50258, 50258, 50258,  ..., 50259, 50259, 50259],\n",
            "        [50258, 50258, 50258,  ..., 50259, 50259, 50259],\n",
            "        [50258, 50258, 50258,  ..., 50259, 50259, 50259]], device='cuda:0')\n"
          ],
          "name": "stdout"
        },
        {
          "output_type": "stream",
          "text": [
            "\rTraining:  86%|████████▌ | 246/287 [02:18<00:23,  1.77it/s]"
          ],
          "name": "stderr"
        },
        {
          "output_type": "stream",
          "text": [
            "32\n",
            "tensor([[50258, 50258, 50258,  ..., 50259, 50259, 50259],\n",
            "        [50258, 50258, 50258,  ..., 50259, 50259, 50259],\n",
            "        [50258, 50258, 50258,  ..., 50259, 50259, 50259],\n",
            "        ...,\n",
            "        [50258, 50258, 50258,  ..., 50259, 50259, 50259],\n",
            "        [50258, 50258, 50258,  ..., 50259, 50259, 50259],\n",
            "        [50258, 50258, 50258,  ..., 50259, 50259, 50259]], device='cuda:0')\n"
          ],
          "name": "stdout"
        },
        {
          "output_type": "stream",
          "text": [
            "\rTraining:  86%|████████▌ | 247/287 [02:19<00:22,  1.77it/s]"
          ],
          "name": "stderr"
        },
        {
          "output_type": "stream",
          "text": [
            "32\n",
            "tensor([[50258, 50258, 50258,  ..., 50259, 50259, 50259],\n",
            "        [50258, 50258, 50258,  ..., 50259, 50259, 50259],\n",
            "        [50258, 50258, 50258,  ..., 50259, 50259, 50259],\n",
            "        ...,\n",
            "        [50258, 50258, 50258,  ..., 50259, 50259, 50259],\n",
            "        [50258, 50258, 50258,  ..., 50259, 50259, 50259],\n",
            "        [50258, 50258, 50258,  ..., 50259, 50259, 50259]], device='cuda:0')\n"
          ],
          "name": "stdout"
        },
        {
          "output_type": "stream",
          "text": [
            "\rTraining:  86%|████████▋ | 248/287 [02:20<00:22,  1.77it/s]"
          ],
          "name": "stderr"
        },
        {
          "output_type": "stream",
          "text": [
            "32\n",
            "tensor([[50258, 50258, 50258,  ..., 50259, 50259, 50259],\n",
            "        [50258, 50258, 50258,  ..., 50259, 50259, 50259],\n",
            "        [50258, 50258, 50258,  ..., 50259, 50259, 50259],\n",
            "        ...,\n",
            "        [50258, 50258, 50258,  ..., 50259, 50259, 50259],\n",
            "        [50258, 50258, 50258,  ..., 50259, 50259, 50259],\n",
            "        [50258, 50258, 50258,  ..., 50259, 50259, 50259]], device='cuda:0')\n"
          ],
          "name": "stdout"
        },
        {
          "output_type": "stream",
          "text": [
            "\rTraining:  87%|████████▋ | 249/287 [02:20<00:21,  1.78it/s]"
          ],
          "name": "stderr"
        },
        {
          "output_type": "stream",
          "text": [
            "32\n",
            "tensor([[50258, 50258, 50258,  ..., 50259, 50259, 50259],\n",
            "        [50258, 50258, 50258,  ..., 50259, 50259, 50259],\n",
            "        [50258, 50258, 50258,  ..., 50259, 50259, 50259],\n",
            "        ...,\n",
            "        [50258, 50258, 50258,  ..., 50259, 50259, 50259],\n",
            "        [50258, 50258, 50258,  ..., 50259, 50259, 50259],\n",
            "        [50258, 50258, 50258,  ..., 50259, 50259, 50259]], device='cuda:0')\n"
          ],
          "name": "stdout"
        },
        {
          "output_type": "stream",
          "text": [
            "\rTraining:  87%|████████▋ | 250/287 [02:21<00:20,  1.77it/s]"
          ],
          "name": "stderr"
        },
        {
          "output_type": "stream",
          "text": [
            "32\n",
            "tensor([[50258, 50258, 50258,  ..., 50259, 50259, 50259],\n",
            "        [50258, 50258, 50258,  ..., 50259, 50259, 50259],\n",
            "        [50258, 50258, 50258,  ..., 50259, 50259, 50259],\n",
            "        ...,\n",
            "        [50258, 50258, 50258,  ..., 50259, 50259, 50259],\n",
            "        [50258, 50258, 50258,  ..., 50259, 50259, 50259],\n",
            "        [50258, 50258, 50258,  ..., 50259, 50259, 50259]], device='cuda:0')\n"
          ],
          "name": "stdout"
        },
        {
          "output_type": "stream",
          "text": [
            "\rTraining:  87%|████████▋ | 251/287 [02:21<00:20,  1.77it/s]"
          ],
          "name": "stderr"
        },
        {
          "output_type": "stream",
          "text": [
            "32\n",
            "tensor([[50258, 50258, 50258,  ..., 50259, 50259, 50259],\n",
            "        [50258, 50258, 50258,  ..., 50259, 50259, 50259],\n",
            "        [50258, 50258, 50258,  ..., 50259, 50259, 50259],\n",
            "        ...,\n",
            "        [50258, 50258, 50258,  ..., 50259, 50259, 50259],\n",
            "        [50258, 50258, 50258,  ..., 50259, 50259, 50259],\n",
            "        [50258, 50258, 50258,  ..., 50259, 50259, 50259]], device='cuda:0')\n"
          ],
          "name": "stdout"
        },
        {
          "output_type": "stream",
          "text": [
            "\rTraining:  88%|████████▊ | 252/287 [02:22<00:19,  1.77it/s]"
          ],
          "name": "stderr"
        },
        {
          "output_type": "stream",
          "text": [
            "32\n",
            "tensor([[50258, 50258, 50258,  ..., 50259, 50259, 50259],\n",
            "        [50258, 50258, 50258,  ..., 50259, 50259, 50259],\n",
            "        [50258, 50258, 50258,  ..., 50259, 50259, 50259],\n",
            "        ...,\n",
            "        [50258, 50258, 50258,  ..., 50259, 50259, 50259],\n",
            "        [50258, 50258, 50258,  ..., 50259, 50259, 50259],\n",
            "        [50258, 50258, 50258,  ..., 50259, 50259, 50259]], device='cuda:0')\n"
          ],
          "name": "stdout"
        },
        {
          "output_type": "stream",
          "text": [
            "\rTraining:  88%|████████▊ | 253/287 [02:22<00:19,  1.78it/s]"
          ],
          "name": "stderr"
        },
        {
          "output_type": "stream",
          "text": [
            "32\n",
            "tensor([[50258, 50258, 50258,  ..., 50259, 50259, 50259],\n",
            "        [50258, 50258, 50258,  ..., 50259, 50259, 50259],\n",
            "        [50258, 50258, 50258,  ..., 50259, 50259, 50259],\n",
            "        ...,\n",
            "        [50258, 50258, 50258,  ..., 50259, 50259, 50259],\n",
            "        [50258, 50258, 50258,  ..., 50259, 50259, 50259],\n",
            "        [50258, 50258, 50258,  ..., 50259, 50259, 50259]], device='cuda:0')\n"
          ],
          "name": "stdout"
        },
        {
          "output_type": "stream",
          "text": [
            "\rTraining:  89%|████████▊ | 254/287 [02:23<00:18,  1.78it/s]"
          ],
          "name": "stderr"
        },
        {
          "output_type": "stream",
          "text": [
            "32\n",
            "tensor([[50258, 50258, 50258,  ..., 50259, 50259, 50259],\n",
            "        [50258, 50258, 50258,  ..., 50259, 50259, 50259],\n",
            "        [50258, 50258, 50258,  ..., 50259, 50259, 50259],\n",
            "        ...,\n",
            "        [50258, 50258, 50258,  ..., 50259, 50259, 50259],\n",
            "        [50258, 50258, 50258,  ..., 50259, 50259, 50259],\n",
            "        [50258, 50258, 50258,  ..., 50259, 50259, 50259]], device='cuda:0')\n"
          ],
          "name": "stdout"
        },
        {
          "output_type": "stream",
          "text": [
            "\rTraining:  89%|████████▉ | 255/287 [02:24<00:17,  1.78it/s]"
          ],
          "name": "stderr"
        },
        {
          "output_type": "stream",
          "text": [
            "32\n",
            "tensor([[50258, 50258, 50258,  ..., 50259, 50259, 50259],\n",
            "        [50258, 50258, 50258,  ..., 50259, 50259, 50259],\n",
            "        [50258, 50258, 50258,  ..., 50259, 50259, 50259],\n",
            "        ...,\n",
            "        [50258, 50258, 50258,  ..., 50259, 50259, 50259],\n",
            "        [50258, 50258, 50258,  ..., 50259, 50259, 50259],\n",
            "        [50258, 50258, 50258,  ..., 50259, 50259, 50259]], device='cuda:0')\n"
          ],
          "name": "stdout"
        },
        {
          "output_type": "stream",
          "text": [
            "\rTraining:  89%|████████▉ | 256/287 [02:24<00:17,  1.78it/s]"
          ],
          "name": "stderr"
        },
        {
          "output_type": "stream",
          "text": [
            "32\n",
            "tensor([[50258, 50258, 50258,  ..., 50259, 50259, 50259],\n",
            "        [50258, 50258, 50258,  ..., 50259, 50259, 50259],\n",
            "        [50258, 50258, 50258,  ..., 50259, 50259, 50259],\n",
            "        ...,\n",
            "        [50258, 50258, 50258,  ..., 50259, 50259, 50259],\n",
            "        [50258, 50258, 50258,  ..., 50259, 50259, 50259],\n",
            "        [50258, 50258, 50258,  ..., 50259, 50259, 50259]], device='cuda:0')\n"
          ],
          "name": "stdout"
        },
        {
          "output_type": "stream",
          "text": [
            "\rTraining:  90%|████████▉ | 257/287 [02:25<00:16,  1.78it/s]"
          ],
          "name": "stderr"
        },
        {
          "output_type": "stream",
          "text": [
            "32\n",
            "tensor([[50258, 50258, 50258,  ..., 50259, 50259, 50259],\n",
            "        [50258, 50258, 50258,  ..., 50259, 50259, 50259],\n",
            "        [50258, 50258, 50258,  ..., 50259, 50259, 50259],\n",
            "        ...,\n",
            "        [50258, 50258, 50258,  ..., 50259, 50259, 50259],\n",
            "        [50258, 50258, 50258,  ..., 50259, 50259, 50259],\n",
            "        [50258, 50258, 50258,  ..., 50259, 50259, 50259]], device='cuda:0')\n"
          ],
          "name": "stdout"
        },
        {
          "output_type": "stream",
          "text": [
            "\rTraining:  90%|████████▉ | 258/287 [02:25<00:16,  1.77it/s]"
          ],
          "name": "stderr"
        },
        {
          "output_type": "stream",
          "text": [
            "32\n",
            "tensor([[50258, 50258, 50258,  ..., 50259, 50259, 50259],\n",
            "        [50258, 50258, 50258,  ..., 50259, 50259, 50259],\n",
            "        [50258, 50258, 50258,  ..., 50259, 50259, 50259],\n",
            "        ...,\n",
            "        [50258, 50258, 50258,  ..., 50259, 50259, 50259],\n",
            "        [50258, 50258, 50258,  ..., 50259, 50259, 50259],\n",
            "        [50258, 50258, 50258,  ..., 50259, 50259, 50259]], device='cuda:0')\n"
          ],
          "name": "stdout"
        },
        {
          "output_type": "stream",
          "text": [
            "\rTraining:  90%|█████████ | 259/287 [02:26<00:15,  1.78it/s]"
          ],
          "name": "stderr"
        },
        {
          "output_type": "stream",
          "text": [
            "32\n",
            "tensor([[50258, 50258, 50258,  ..., 50259, 50259, 50259],\n",
            "        [50258, 50258, 50258,  ..., 50259, 50259, 50259],\n",
            "        [50258, 50258, 50258,  ..., 50259, 50259, 50259],\n",
            "        ...,\n",
            "        [50258, 50258, 50258,  ..., 50259, 50259, 50259],\n",
            "        [50258, 50258, 50258,  ..., 50259, 50259, 50259],\n",
            "        [50258, 50258, 50258,  ..., 50259, 50259, 50259]], device='cuda:0')\n"
          ],
          "name": "stdout"
        },
        {
          "output_type": "stream",
          "text": [
            "\rTraining:  91%|█████████ | 260/287 [02:26<00:15,  1.77it/s]"
          ],
          "name": "stderr"
        },
        {
          "output_type": "stream",
          "text": [
            "32\n",
            "tensor([[50258, 50258, 50258,  ..., 50259, 50259, 50259],\n",
            "        [50258, 50258, 50258,  ..., 50259, 50259, 50259],\n",
            "        [50258, 50258, 50258,  ..., 50259, 50259, 50259],\n",
            "        ...,\n",
            "        [50258, 50258, 50258,  ..., 50259, 50259, 50259],\n",
            "        [50258, 50258, 50258,  ..., 50259, 50259, 50259],\n",
            "        [50258, 50258, 50258,  ..., 50259, 50259, 50259]], device='cuda:0')\n"
          ],
          "name": "stdout"
        },
        {
          "output_type": "stream",
          "text": [
            "\rTraining:  91%|█████████ | 261/287 [02:27<00:14,  1.77it/s]"
          ],
          "name": "stderr"
        },
        {
          "output_type": "stream",
          "text": [
            "32\n",
            "tensor([[50258, 50258, 50258,  ..., 50259, 50259, 50259],\n",
            "        [50258, 50258, 50258,  ..., 50259, 50259, 50259],\n",
            "        [50258, 50258, 50258,  ..., 50259, 50259, 50259],\n",
            "        ...,\n",
            "        [50258, 50258, 50258,  ..., 50259, 50259, 50259],\n",
            "        [50258, 50258, 50258,  ..., 50259, 50259, 50259],\n",
            "        [50258, 50258, 50258,  ..., 50259, 50259, 50259]], device='cuda:0')\n"
          ],
          "name": "stdout"
        },
        {
          "output_type": "stream",
          "text": [
            "\rTraining:  91%|█████████▏| 262/287 [02:27<00:14,  1.78it/s]"
          ],
          "name": "stderr"
        },
        {
          "output_type": "stream",
          "text": [
            "32\n",
            "tensor([[50258, 50258, 50258,  ..., 50259, 50259, 50259],\n",
            "        [50258, 50258, 50258,  ..., 50259, 50259, 50259],\n",
            "        [50258, 50258, 50258,  ..., 50259, 50259, 50259],\n",
            "        ...,\n",
            "        [50258, 50258, 50258,  ..., 50259, 50259, 50259],\n",
            "        [50258, 50258, 50258,  ..., 50259, 50259, 50259],\n",
            "        [50258, 50258, 50258,  ..., 50259, 50259, 50259]], device='cuda:0')\n"
          ],
          "name": "stdout"
        },
        {
          "output_type": "stream",
          "text": [
            "\rTraining:  92%|█████████▏| 263/287 [02:28<00:13,  1.77it/s]"
          ],
          "name": "stderr"
        },
        {
          "output_type": "stream",
          "text": [
            "32\n",
            "tensor([[50258, 50258, 50258,  ..., 50259, 50259, 50259],\n",
            "        [50258, 50258, 50258,  ..., 50259, 50259, 50259],\n",
            "        [50258, 50258, 50258,  ..., 50259, 50259, 50259],\n",
            "        ...,\n",
            "        [50258, 50258, 50258,  ..., 50259, 50259, 50259],\n",
            "        [50258, 50258, 50258,  ..., 50259, 50259, 50259],\n",
            "        [50258, 50258, 50258,  ..., 50259, 50259, 50259]], device='cuda:0')\n"
          ],
          "name": "stdout"
        },
        {
          "output_type": "stream",
          "text": [
            "\rTraining:  92%|█████████▏| 264/287 [02:29<00:12,  1.77it/s]"
          ],
          "name": "stderr"
        },
        {
          "output_type": "stream",
          "text": [
            "32\n",
            "tensor([[50258, 50258, 50258,  ..., 50259, 50259, 50259],\n",
            "        [50258, 50258, 50258,  ..., 50259, 50259, 50259],\n",
            "        [50258, 50258, 50258,  ..., 50259, 50259, 50259],\n",
            "        ...,\n",
            "        [50258, 50258, 50258,  ..., 50259, 50259, 50259],\n",
            "        [50258, 50258, 50258,  ..., 50259, 50259, 50259],\n",
            "        [50258, 50258, 50258,  ..., 50259, 50259, 50259]], device='cuda:0')\n"
          ],
          "name": "stdout"
        },
        {
          "output_type": "stream",
          "text": [
            "\rTraining:  92%|█████████▏| 265/287 [02:29<00:12,  1.77it/s]"
          ],
          "name": "stderr"
        },
        {
          "output_type": "stream",
          "text": [
            "32\n",
            "tensor([[50258, 50258, 50258,  ..., 50259, 50259, 50259],\n",
            "        [50258, 50258, 50258,  ..., 50259, 50259, 50259],\n",
            "        [50258, 50258, 50258,  ..., 50259, 50259, 50259],\n",
            "        ...,\n",
            "        [50258, 50258, 50258,  ..., 50259, 50259, 50259],\n",
            "        [50258, 50258, 50258,  ..., 50259, 50259, 50259],\n",
            "        [50258, 50258, 50258,  ..., 50259, 50259, 50259]], device='cuda:0')\n"
          ],
          "name": "stdout"
        },
        {
          "output_type": "stream",
          "text": [
            "\rTraining:  93%|█████████▎| 266/287 [02:30<00:11,  1.78it/s]"
          ],
          "name": "stderr"
        },
        {
          "output_type": "stream",
          "text": [
            "32\n",
            "tensor([[50258, 50258, 50258,  ..., 50259, 50259, 50259],\n",
            "        [50258, 50258, 50258,  ..., 50259, 50259, 50259],\n",
            "        [50258, 50258, 50258,  ..., 50259, 50259, 50259],\n",
            "        ...,\n",
            "        [50258, 50258, 50258,  ..., 50259, 50259, 50259],\n",
            "        [50258, 50258, 50258,  ..., 50259, 50259, 50259],\n",
            "        [50258, 50258, 50258,  ..., 50259, 50259, 50259]], device='cuda:0')\n"
          ],
          "name": "stdout"
        },
        {
          "output_type": "stream",
          "text": [
            "\rTraining:  93%|█████████▎| 267/287 [02:30<00:11,  1.78it/s]"
          ],
          "name": "stderr"
        },
        {
          "output_type": "stream",
          "text": [
            "32\n",
            "tensor([[50258, 50258, 50258,  ..., 50259, 50259, 50259],\n",
            "        [50258, 50258, 50258,  ..., 50259, 50259, 50259],\n",
            "        [50258, 50258, 50258,  ..., 50259, 50259, 50259],\n",
            "        ...,\n",
            "        [50258, 50258, 50258,  ..., 50259, 50259, 50259],\n",
            "        [50258, 50258, 50258,  ..., 50259, 50259, 50259],\n",
            "        [50258, 50258, 50258,  ..., 50259, 50259, 50259]], device='cuda:0')\n"
          ],
          "name": "stdout"
        },
        {
          "output_type": "stream",
          "text": [
            "\rTraining:  93%|█████████▎| 268/287 [02:31<00:10,  1.78it/s]"
          ],
          "name": "stderr"
        },
        {
          "output_type": "stream",
          "text": [
            "32\n",
            "tensor([[50258, 50258, 50258,  ..., 50259, 50259, 50259],\n",
            "        [50258, 50258, 50258,  ..., 50259, 50259, 50259],\n",
            "        [50258, 50258, 50258,  ..., 50259, 50259, 50259],\n",
            "        ...,\n",
            "        [50258, 50258, 50258,  ..., 50259, 50259, 50259],\n",
            "        [50258, 50258, 50258,  ..., 50259, 50259, 50259],\n",
            "        [50258, 50258, 50258,  ..., 50259, 50259, 50259]], device='cuda:0')\n"
          ],
          "name": "stdout"
        },
        {
          "output_type": "stream",
          "text": [
            "\rTraining:  94%|█████████▎| 269/287 [02:31<00:10,  1.77it/s]"
          ],
          "name": "stderr"
        },
        {
          "output_type": "stream",
          "text": [
            "32\n",
            "tensor([[50258, 50258, 50258,  ..., 50259, 50259, 50259],\n",
            "        [50258, 50258, 50258,  ..., 50259, 50259, 50259],\n",
            "        [50258, 50258, 50258,  ..., 50259, 50259, 50259],\n",
            "        ...,\n",
            "        [50258, 50258, 50258,  ..., 50259, 50259, 50259],\n",
            "        [50258, 50258, 50258,  ..., 50259, 50259, 50259],\n",
            "        [50258, 50258, 50258,  ..., 50259, 50259, 50259]], device='cuda:0')\n"
          ],
          "name": "stdout"
        },
        {
          "output_type": "stream",
          "text": [
            "\rTraining:  94%|█████████▍| 270/287 [02:32<00:09,  1.78it/s]"
          ],
          "name": "stderr"
        },
        {
          "output_type": "stream",
          "text": [
            "32\n",
            "tensor([[50258, 50258, 50258,  ..., 50259, 50259, 50259],\n",
            "        [50258, 50258, 50258,  ..., 50259, 50259, 50259],\n",
            "        [50258, 50258, 50258,  ..., 50259, 50259, 50259],\n",
            "        ...,\n",
            "        [50258, 50258, 50258,  ..., 50259, 50259, 50259],\n",
            "        [50258, 50258, 50258,  ..., 50259, 50259, 50259],\n",
            "        [50258, 50258, 50258,  ..., 50259, 50259, 50259]], device='cuda:0')\n"
          ],
          "name": "stdout"
        },
        {
          "output_type": "stream",
          "text": [
            "\rTraining:  94%|█████████▍| 271/287 [02:33<00:09,  1.78it/s]"
          ],
          "name": "stderr"
        },
        {
          "output_type": "stream",
          "text": [
            "32\n",
            "tensor([[50258, 50258, 50258,  ..., 50259, 50259, 50259],\n",
            "        [50258, 50258, 50258,  ..., 50259, 50259, 50259],\n",
            "        [50258, 50258, 50258,  ..., 50259, 50259, 50259],\n",
            "        ...,\n",
            "        [50258, 50258, 50258,  ..., 50259, 50259, 50259],\n",
            "        [50258, 50258, 50258,  ..., 50259, 50259, 50259],\n",
            "        [50258, 50258, 50258,  ..., 50259, 50259, 50259]], device='cuda:0')\n"
          ],
          "name": "stdout"
        },
        {
          "output_type": "stream",
          "text": [
            "\rTraining:  95%|█████████▍| 272/287 [02:33<00:08,  1.78it/s]"
          ],
          "name": "stderr"
        },
        {
          "output_type": "stream",
          "text": [
            "32\n",
            "tensor([[50258, 50258, 50258,  ..., 50259, 50259, 50259],\n",
            "        [50258, 50258, 50258,  ..., 50259, 50259, 50259],\n",
            "        [50258, 50258, 50258,  ..., 50259, 50259, 50259],\n",
            "        ...,\n",
            "        [50258, 50258, 50258,  ..., 50259, 50259, 50259],\n",
            "        [50258, 50258, 50258,  ..., 50259, 50259, 50259],\n",
            "        [50258, 50258, 50258,  ..., 50259, 50259, 50259]], device='cuda:0')\n"
          ],
          "name": "stdout"
        },
        {
          "output_type": "stream",
          "text": [
            "\rTraining:  95%|█████████▌| 273/287 [02:34<00:07,  1.78it/s]"
          ],
          "name": "stderr"
        },
        {
          "output_type": "stream",
          "text": [
            "32\n",
            "tensor([[50258, 50258, 50258,  ..., 50259, 50259, 50259],\n",
            "        [50258, 50258, 50258,  ..., 50259, 50259, 50259],\n",
            "        [50258, 50258, 50258,  ..., 50259, 50259, 50259],\n",
            "        ...,\n",
            "        [50258, 50258, 50258,  ..., 50259, 50259, 50259],\n",
            "        [50258, 50258, 50258,  ..., 50259, 50259, 50259],\n",
            "        [50258, 50258, 50258,  ..., 50259, 50259, 50259]], device='cuda:0')\n"
          ],
          "name": "stdout"
        },
        {
          "output_type": "stream",
          "text": [
            "\rTraining:  95%|█████████▌| 274/287 [02:34<00:07,  1.78it/s]"
          ],
          "name": "stderr"
        },
        {
          "output_type": "stream",
          "text": [
            "32\n",
            "tensor([[50258, 50258, 50258,  ..., 50259, 50259, 50259],\n",
            "        [50258, 50258, 50258,  ..., 50259, 50259, 50259],\n",
            "        [50258, 50258, 50258,  ..., 50259, 50259, 50259],\n",
            "        ...,\n",
            "        [50258, 50258, 50258,  ..., 50259, 50259, 50259],\n",
            "        [50258, 50258, 50258,  ..., 50259, 50259, 50259],\n",
            "        [50258, 50258, 50258,  ..., 50259, 50259, 50259]], device='cuda:0')\n"
          ],
          "name": "stdout"
        },
        {
          "output_type": "stream",
          "text": [
            "\rTraining:  96%|█████████▌| 275/287 [02:35<00:06,  1.78it/s]"
          ],
          "name": "stderr"
        },
        {
          "output_type": "stream",
          "text": [
            "32\n",
            "tensor([[50258, 50258, 50258,  ..., 50259, 50259, 50259],\n",
            "        [50258, 50258, 50258,  ..., 50259, 50259, 50259],\n",
            "        [50258, 50258, 50258,  ..., 50259, 50259, 50259],\n",
            "        ...,\n",
            "        [50258, 50258, 50258,  ..., 50259, 50259, 50259],\n",
            "        [50258, 50258, 50258,  ..., 50259, 50259, 50259],\n",
            "        [50258, 50258, 50258,  ..., 50259, 50259, 50259]], device='cuda:0')\n"
          ],
          "name": "stdout"
        },
        {
          "output_type": "stream",
          "text": [
            "\rTraining:  96%|█████████▌| 276/287 [02:35<00:06,  1.78it/s]"
          ],
          "name": "stderr"
        },
        {
          "output_type": "stream",
          "text": [
            "32\n",
            "tensor([[50258, 50258, 50258,  ..., 50259, 50259, 50259],\n",
            "        [50258, 50258, 50258,  ..., 50259, 50259, 50259],\n",
            "        [50258, 50258, 50258,  ..., 50259, 50259, 50259],\n",
            "        ...,\n",
            "        [50258, 50258, 50258,  ..., 50259, 50259, 50259],\n",
            "        [50258, 50258, 50258,  ..., 50259, 50259, 50259],\n",
            "        [50258, 50258, 50258,  ..., 50259, 50259, 50259]], device='cuda:0')\n"
          ],
          "name": "stdout"
        },
        {
          "output_type": "stream",
          "text": [
            "\rTraining:  97%|█████████▋| 277/287 [02:36<00:05,  1.78it/s]"
          ],
          "name": "stderr"
        },
        {
          "output_type": "stream",
          "text": [
            "32\n",
            "tensor([[50258, 50258, 50258,  ..., 50259, 50259, 50259],\n",
            "        [50258, 50258, 50258,  ..., 50259, 50259, 50259],\n",
            "        [50258, 50258, 50258,  ..., 50259, 50259, 50259],\n",
            "        ...,\n",
            "        [50258, 50258, 50258,  ..., 50259, 50259, 50259],\n",
            "        [50258, 50258, 50258,  ..., 50259, 50259, 50259],\n",
            "        [50258, 50258, 50258,  ..., 50259, 50259, 50259]], device='cuda:0')\n"
          ],
          "name": "stdout"
        },
        {
          "output_type": "stream",
          "text": [
            "\rTraining:  97%|█████████▋| 278/287 [02:36<00:05,  1.78it/s]"
          ],
          "name": "stderr"
        },
        {
          "output_type": "stream",
          "text": [
            "32\n",
            "tensor([[50258, 50258, 50258,  ..., 50259, 50259, 50259],\n",
            "        [50258, 50258, 50258,  ..., 50259, 50259, 50259],\n",
            "        [50258, 50258, 50258,  ..., 50259, 50259, 50259],\n",
            "        ...,\n",
            "        [50258, 50258, 50258,  ..., 50259, 50259, 50259],\n",
            "        [50258, 50258, 50258,  ..., 50259, 50259, 50259],\n",
            "        [50258, 50258, 50258,  ..., 50259, 50259, 50259]], device='cuda:0')\n"
          ],
          "name": "stdout"
        },
        {
          "output_type": "stream",
          "text": [
            "\rTraining:  97%|█████████▋| 279/287 [02:37<00:04,  1.78it/s]"
          ],
          "name": "stderr"
        },
        {
          "output_type": "stream",
          "text": [
            "32\n",
            "tensor([[50258, 50258, 50258,  ..., 50259, 50259, 50259],\n",
            "        [50258, 50258, 50258,  ..., 50259, 50259, 50259],\n",
            "        [50258, 50258, 50258,  ..., 50259, 50259, 50259],\n",
            "        ...,\n",
            "        [50258, 50258, 50258,  ..., 50259, 50259, 50259],\n",
            "        [50258, 50258, 50258,  ..., 50259, 50259, 50259],\n",
            "        [50258, 50258, 50258,  ..., 50259, 50259, 50259]], device='cuda:0')\n"
          ],
          "name": "stdout"
        },
        {
          "output_type": "stream",
          "text": [
            "\rTraining:  98%|█████████▊| 280/287 [02:38<00:03,  1.78it/s]"
          ],
          "name": "stderr"
        },
        {
          "output_type": "stream",
          "text": [
            "32\n",
            "tensor([[50258, 50258, 50258,  ..., 50259, 50259, 50259],\n",
            "        [50258, 50258, 50258,  ..., 50259, 50259, 50259],\n",
            "        [50258, 50258, 50258,  ..., 50259, 50259, 50259],\n",
            "        ...,\n",
            "        [50258, 50258, 50258,  ..., 50259, 50259, 50259],\n",
            "        [50258, 50258, 50258,  ..., 50259, 50259, 50259],\n",
            "        [50258, 50258, 50258,  ..., 50259, 50259, 50259]], device='cuda:0')\n"
          ],
          "name": "stdout"
        },
        {
          "output_type": "stream",
          "text": [
            "\rTraining:  98%|█████████▊| 281/287 [02:38<00:03,  1.78it/s]"
          ],
          "name": "stderr"
        },
        {
          "output_type": "stream",
          "text": [
            "32\n",
            "tensor([[50258, 50258, 50258,  ..., 50259, 50259, 50259],\n",
            "        [50258, 50258, 50258,  ..., 50259, 50259, 50259],\n",
            "        [50258, 50258, 50258,  ..., 50259, 50259, 50259],\n",
            "        ...,\n",
            "        [50258, 50258, 50258,  ..., 50259, 50259, 50259],\n",
            "        [50258, 50258, 50258,  ..., 50259, 50259, 50259],\n",
            "        [50258, 50258, 50258,  ..., 50259, 50259, 50259]], device='cuda:0')\n"
          ],
          "name": "stdout"
        },
        {
          "output_type": "stream",
          "text": [
            "\rTraining:  98%|█████████▊| 282/287 [02:39<00:02,  1.78it/s]"
          ],
          "name": "stderr"
        },
        {
          "output_type": "stream",
          "text": [
            "32\n",
            "tensor([[50258, 50258, 50258,  ..., 50259, 50259, 50259],\n",
            "        [50258, 50258, 50258,  ..., 50259, 50259, 50259],\n",
            "        [50258, 50258, 50258,  ..., 50259, 50259, 50259],\n",
            "        ...,\n",
            "        [50258, 50258, 50258,  ..., 50259, 50259, 50259],\n",
            "        [50258, 50258, 50258,  ..., 50259, 50259, 50259],\n",
            "        [50258, 50258, 50258,  ..., 50259, 50259, 50259]], device='cuda:0')\n"
          ],
          "name": "stdout"
        },
        {
          "output_type": "stream",
          "text": [
            "\rTraining:  99%|█████████▊| 283/287 [02:39<00:02,  1.78it/s]"
          ],
          "name": "stderr"
        },
        {
          "output_type": "stream",
          "text": [
            "32\n",
            "tensor([[50258, 50258, 50258,  ..., 50259, 50259, 50259],\n",
            "        [50258, 50258, 50258,  ..., 50259, 50259, 50259],\n",
            "        [50258, 50258, 50258,  ..., 50259, 50259, 50259],\n",
            "        ...,\n",
            "        [50258, 50258, 50258,  ..., 50259, 50259, 50259],\n",
            "        [50258, 50258, 50258,  ..., 50259, 50259, 50259],\n",
            "        [50258, 50258, 50258,  ..., 50259, 50259, 50259]], device='cuda:0')\n"
          ],
          "name": "stdout"
        },
        {
          "output_type": "stream",
          "text": [
            "\rTraining:  99%|█████████▉| 284/287 [02:40<00:01,  1.78it/s]"
          ],
          "name": "stderr"
        },
        {
          "output_type": "stream",
          "text": [
            "32\n",
            "tensor([[50258, 50258, 50258,  ..., 50259, 50259, 50259],\n",
            "        [50258, 50258, 50258,  ..., 50259, 50259, 50259],\n",
            "        [50258, 50258, 50258,  ..., 50259, 50259, 50259],\n",
            "        ...,\n",
            "        [50258, 50258, 50258,  ..., 50259, 50259, 50259],\n",
            "        [50258, 50258, 50258,  ..., 50259, 50259, 50259],\n",
            "        [50258, 50258, 50258,  ..., 50259, 50259, 50259]], device='cuda:0')\n"
          ],
          "name": "stdout"
        },
        {
          "output_type": "stream",
          "text": [
            "\rTraining:  99%|█████████▉| 285/287 [02:40<00:01,  1.78it/s]"
          ],
          "name": "stderr"
        },
        {
          "output_type": "stream",
          "text": [
            "32\n",
            "tensor([[50258, 50258, 50258,  ..., 50259, 50259, 50259],\n",
            "        [50258, 50258, 50258,  ..., 50259, 50259, 50259],\n",
            "        [50258, 50258, 50258,  ..., 50259, 50259, 50259],\n",
            "        ...,\n",
            "        [50258, 50258, 50258,  ..., 50259, 50259, 50259],\n",
            "        [50258, 50258, 50258,  ..., 50259, 50259, 50259],\n",
            "        [50258, 50258, 50258,  ..., 50259, 50259, 50259]], device='cuda:0')\n"
          ],
          "name": "stdout"
        },
        {
          "output_type": "stream",
          "text": [
            "\rTraining: 100%|█████████▉| 286/287 [02:41<00:00,  1.78it/s]"
          ],
          "name": "stderr"
        },
        {
          "output_type": "stream",
          "text": [
            "32\n",
            "tensor([[50258, 50258, 50258,  ..., 50259, 50259, 50259],\n",
            "        [50258, 50258, 50259,  ..., 50259, 50259, 50259],\n",
            "        [50258, 50258, 50258,  ..., 50259, 50259, 50259],\n",
            "        ...,\n",
            "        [50258, 50258, 50258,  ..., 50259, 50259, 50259],\n",
            "        [50258, 50258, 50258,  ..., 50259, 50259, 50259],\n",
            "        [50258, 50258, 50258,  ..., 50259, 50259, 50259]], device='cuda:0')\n"
          ],
          "name": "stdout"
        },
        {
          "output_type": "stream",
          "text": [
            "Training: 100%|██████████| 287/287 [02:42<00:00,  1.77it/s]\n",
            "Validation: 100%|██████████| 16/16 [00:06<00:00,  2.56it/s]\n",
            "Training:   0%|          | 0/287 [00:00<?, ?it/s]"
          ],
          "name": "stderr"
        },
        {
          "output_type": "stream",
          "text": [
            "\n",
            "--- Epoch #0 finished --- Training cost: 5.35646508213535 / Validation cost: 3.285345516952814\n",
            "\n",
            "--- Starting epoch #1 ---\n",
            "32\n",
            "tensor([[50258, 50258, 50258,  ..., 50259, 50259, 50259],\n",
            "        [50258, 50258, 50258,  ..., 50259, 50259, 50259],\n",
            "        [50258, 50258, 50258,  ..., 50259, 50259, 50259],\n",
            "        ...,\n",
            "        [50258, 50258, 50258,  ..., 50259, 50259, 50259],\n",
            "        [50258, 50258, 50258,  ..., 50259, 50259, 50259],\n",
            "        [50258, 50258, 50258,  ..., 50259, 50259, 50259]], device='cuda:0')\n"
          ],
          "name": "stdout"
        },
        {
          "output_type": "stream",
          "text": [
            "\rTraining:   0%|          | 1/287 [00:00<02:33,  1.87it/s]"
          ],
          "name": "stderr"
        },
        {
          "output_type": "stream",
          "text": [
            "32\n",
            "tensor([[50258, 50258, 50258,  ..., 50259, 50259, 50259],\n",
            "        [50258, 50258, 50258,  ..., 50259, 50259, 50259],\n",
            "        [50258, 50258, 50258,  ..., 50259, 50259, 50259],\n",
            "        ...,\n",
            "        [50258, 50258, 50258,  ..., 50259, 50259, 50259],\n",
            "        [50258, 50258, 50258,  ..., 50259, 50259, 50259],\n",
            "        [50258, 50258, 50258,  ..., 50259, 50259, 50259]], device='cuda:0')\n"
          ],
          "name": "stdout"
        },
        {
          "output_type": "stream",
          "text": [
            "\rTraining:   1%|          | 2/287 [00:01<02:34,  1.84it/s]"
          ],
          "name": "stderr"
        },
        {
          "output_type": "stream",
          "text": [
            "32\n",
            "tensor([[50258, 50258, 50258,  ..., 50259, 50259, 50259],\n",
            "        [50258, 50258, 50258,  ..., 50259, 50259, 50259],\n",
            "        [50258, 50258, 50258,  ..., 50259, 50259, 50259],\n",
            "        ...,\n",
            "        [50258, 50258, 50258,  ..., 50259, 50259, 50259],\n",
            "        [50258, 50258, 50258,  ..., 50259, 50259, 50259],\n",
            "        [50258, 50258, 50258,  ..., 50259, 50259, 50259]], device='cuda:0')\n"
          ],
          "name": "stdout"
        },
        {
          "output_type": "stream",
          "text": [
            "\rTraining:   1%|          | 3/287 [00:01<02:36,  1.82it/s]"
          ],
          "name": "stderr"
        },
        {
          "output_type": "stream",
          "text": [
            "32\n",
            "tensor([[50258, 50258, 50258,  ..., 50259, 50259, 50259],\n",
            "        [50258, 50258, 50258,  ..., 50259, 50259, 50259],\n",
            "        [50258, 50258, 50258,  ..., 50259, 50259, 50259],\n",
            "        ...,\n",
            "        [50258, 50258, 50258,  ..., 50259, 50259, 50259],\n",
            "        [50258, 50258, 50258,  ..., 50259, 50259, 50259],\n",
            "        [50258, 50258, 50258,  ..., 50259, 50259, 50259]], device='cuda:0')\n"
          ],
          "name": "stdout"
        },
        {
          "output_type": "stream",
          "text": [
            "\rTraining:   1%|▏         | 4/287 [00:02<02:36,  1.81it/s]"
          ],
          "name": "stderr"
        },
        {
          "output_type": "stream",
          "text": [
            "32\n",
            "tensor([[50258, 50258, 50258,  ..., 50259, 50259, 50259],\n",
            "        [50258, 50258, 50258,  ..., 50259, 50259, 50259],\n",
            "        [50258, 50258, 50258,  ..., 50259, 50259, 50259],\n",
            "        ...,\n",
            "        [50258, 50258, 50258,  ..., 50259, 50259, 50259],\n",
            "        [50258, 50258, 50258,  ..., 50259, 50259, 50259],\n",
            "        [50258, 50258, 50258,  ..., 50259, 50259, 50259]], device='cuda:0')\n"
          ],
          "name": "stdout"
        },
        {
          "output_type": "stream",
          "text": [
            "\rTraining:   2%|▏         | 5/287 [00:02<02:36,  1.80it/s]"
          ],
          "name": "stderr"
        },
        {
          "output_type": "stream",
          "text": [
            "32\n",
            "tensor([[50258, 50258, 50258,  ..., 50259, 50259, 50259],\n",
            "        [50258, 50258, 50258,  ..., 50259, 50259, 50259],\n",
            "        [50258, 50258, 50258,  ..., 50259, 50259, 50259],\n",
            "        ...,\n",
            "        [50258, 50258, 50258,  ..., 50259, 50259, 50259],\n",
            "        [50258, 50258, 50258,  ..., 50259, 50259, 50259],\n",
            "        [50258, 50258, 50258,  ..., 50259, 50259, 50259]], device='cuda:0')\n"
          ],
          "name": "stdout"
        },
        {
          "output_type": "stream",
          "text": [
            "\rTraining:   2%|▏         | 6/287 [00:03<02:36,  1.79it/s]"
          ],
          "name": "stderr"
        },
        {
          "output_type": "stream",
          "text": [
            "32\n",
            "tensor([[50258, 50258, 50258,  ..., 50259, 50259, 50259],\n",
            "        [50258, 50258, 50258,  ..., 50259, 50259, 50259],\n",
            "        [50258, 50258, 50258,  ..., 50259, 50259, 50259],\n",
            "        ...,\n",
            "        [50258, 50258, 50258,  ..., 50259, 50259, 50259],\n",
            "        [50258, 50258, 50258,  ..., 50259, 50259, 50259],\n",
            "        [50258, 50258, 50258,  ..., 50259, 50259, 50259]], device='cuda:0')\n"
          ],
          "name": "stdout"
        },
        {
          "output_type": "stream",
          "text": [
            "\rTraining:   2%|▏         | 7/287 [00:03<02:36,  1.78it/s]"
          ],
          "name": "stderr"
        },
        {
          "output_type": "stream",
          "text": [
            "32\n",
            "tensor([[50258, 50258, 50258,  ..., 50259, 50259, 50259],\n",
            "        [50258, 50258, 50258,  ..., 50259, 50259, 50259],\n",
            "        [50258, 50258, 50258,  ..., 50259, 50259, 50259],\n",
            "        ...,\n",
            "        [50258, 50258, 50258,  ..., 50259, 50259, 50259],\n",
            "        [50258, 50258, 50258,  ..., 50259, 50259, 50259],\n",
            "        [50258, 50258, 50258,  ..., 50259, 50259, 50259]], device='cuda:0')\n"
          ],
          "name": "stdout"
        },
        {
          "output_type": "stream",
          "text": [
            "\rTraining:   3%|▎         | 8/287 [00:04<02:36,  1.78it/s]"
          ],
          "name": "stderr"
        },
        {
          "output_type": "stream",
          "text": [
            "32\n",
            "tensor([[50258, 50258, 50258,  ..., 50259, 50259, 50259],\n",
            "        [50258, 50258, 50258,  ..., 50259, 50259, 50259],\n",
            "        [50258, 50258, 50258,  ..., 50259, 50259, 50259],\n",
            "        ...,\n",
            "        [50258, 50258, 50258,  ..., 50259, 50259, 50259],\n",
            "        [50258, 50258, 50258,  ..., 50259, 50259, 50259],\n",
            "        [50258, 50258, 50258,  ..., 50259, 50259, 50259]], device='cuda:0')\n"
          ],
          "name": "stdout"
        },
        {
          "output_type": "stream",
          "text": [
            "\rTraining:   3%|▎         | 9/287 [00:05<02:36,  1.78it/s]"
          ],
          "name": "stderr"
        },
        {
          "output_type": "stream",
          "text": [
            "32\n",
            "tensor([[50258, 50258, 50258,  ..., 50259, 50259, 50259],\n",
            "        [50258, 50258, 50258,  ..., 50259, 50259, 50259],\n",
            "        [50258, 50258, 50258,  ..., 50259, 50259, 50259],\n",
            "        ...,\n",
            "        [50258, 50258, 50258,  ..., 50259, 50259, 50259],\n",
            "        [50258, 50258, 50258,  ..., 50259, 50259, 50259],\n",
            "        [50258, 50258, 50258,  ..., 50259, 50259, 50259]], device='cuda:0')\n"
          ],
          "name": "stdout"
        },
        {
          "output_type": "stream",
          "text": [
            "\rTraining:   3%|▎         | 10/287 [00:05<02:35,  1.78it/s]"
          ],
          "name": "stderr"
        },
        {
          "output_type": "stream",
          "text": [
            "32\n",
            "tensor([[50258, 50258, 50258,  ..., 50259, 50259, 50259],\n",
            "        [50258, 50258, 50258,  ..., 50259, 50259, 50259],\n",
            "        [50258, 50258, 50258,  ..., 50259, 50259, 50259],\n",
            "        ...,\n",
            "        [50258, 50258, 50258,  ..., 50259, 50259, 50259],\n",
            "        [50258, 50258, 50258,  ..., 50259, 50259, 50259],\n",
            "        [50258, 50258, 50258,  ..., 50259, 50259, 50259]], device='cuda:0')\n"
          ],
          "name": "stdout"
        },
        {
          "output_type": "stream",
          "text": [
            "\rTraining:   4%|▍         | 11/287 [00:06<02:35,  1.78it/s]"
          ],
          "name": "stderr"
        },
        {
          "output_type": "stream",
          "text": [
            "32\n",
            "tensor([[50258, 50258, 50258,  ..., 50259, 50259, 50259],\n",
            "        [50258, 50258, 50258,  ..., 50259, 50259, 50259],\n",
            "        [50258, 50258, 50258,  ..., 50259, 50259, 50259],\n",
            "        ...,\n",
            "        [50258, 50258, 50258,  ..., 50259, 50259, 50259],\n",
            "        [50258, 50258, 50258,  ..., 50259, 50259, 50259],\n",
            "        [50258, 50258, 50258,  ..., 50259, 50259, 50259]], device='cuda:0')\n"
          ],
          "name": "stdout"
        },
        {
          "output_type": "stream",
          "text": [
            "\rTraining:   4%|▍         | 12/287 [00:06<02:34,  1.78it/s]"
          ],
          "name": "stderr"
        },
        {
          "output_type": "stream",
          "text": [
            "32\n",
            "tensor([[50258, 50258, 50258,  ..., 50259, 50259, 50259],\n",
            "        [50258, 50258, 50258,  ..., 50259, 50259, 50259],\n",
            "        [50258, 50258, 50258,  ..., 50259, 50259, 50259],\n",
            "        ...,\n",
            "        [50258, 50258, 50258,  ..., 50259, 50259, 50259],\n",
            "        [50258, 50258, 50258,  ..., 50259, 50259, 50259],\n",
            "        [50258, 50258, 50258,  ..., 50259, 50259, 50259]], device='cuda:0')\n"
          ],
          "name": "stdout"
        },
        {
          "output_type": "stream",
          "text": [
            "\rTraining:   5%|▍         | 13/287 [00:07<02:34,  1.78it/s]"
          ],
          "name": "stderr"
        },
        {
          "output_type": "stream",
          "text": [
            "32\n",
            "tensor([[50258, 50258, 50258,  ..., 50259, 50259, 50259],\n",
            "        [50258, 50258, 50258,  ..., 50259, 50259, 50259],\n",
            "        [50258, 50258, 50258,  ..., 50259, 50259, 50259],\n",
            "        ...,\n",
            "        [50258, 50258, 50258,  ..., 50259, 50259, 50259],\n",
            "        [50258, 50258, 50258,  ..., 50259, 50259, 50259],\n",
            "        [50258, 50258, 50258,  ..., 50259, 50259, 50259]], device='cuda:0')\n"
          ],
          "name": "stdout"
        },
        {
          "output_type": "stream",
          "text": [
            "\rTraining:   5%|▍         | 14/287 [00:07<02:33,  1.78it/s]"
          ],
          "name": "stderr"
        },
        {
          "output_type": "stream",
          "text": [
            "32\n",
            "tensor([[50258, 50258, 50258,  ..., 50259, 50259, 50259],\n",
            "        [50258, 50258, 50258,  ..., 50259, 50259, 50259],\n",
            "        [50258, 50258, 50258,  ..., 50259, 50259, 50259],\n",
            "        ...,\n",
            "        [50258, 50258, 50258,  ..., 50259, 50259, 50259],\n",
            "        [50258, 50258, 50258,  ..., 50259, 50259, 50259],\n",
            "        [50258, 50258, 50258,  ..., 50259, 50259, 50259]], device='cuda:0')\n"
          ],
          "name": "stdout"
        },
        {
          "output_type": "stream",
          "text": [
            "\rTraining:   5%|▌         | 15/287 [00:08<02:33,  1.77it/s]"
          ],
          "name": "stderr"
        },
        {
          "output_type": "stream",
          "text": [
            "32\n",
            "tensor([[50258, 50258, 50258,  ..., 50259, 50259, 50259],\n",
            "        [50258, 50258, 50258,  ..., 50259, 50259, 50259],\n",
            "        [50258, 50258, 50258,  ..., 50259, 50259, 50259],\n",
            "        ...,\n",
            "        [50258, 50258, 50258,  ..., 50259, 50259, 50259],\n",
            "        [50258, 50258, 50258,  ..., 50259, 50259, 50259],\n",
            "        [50258, 50258, 50258,  ..., 50259, 50259, 50259]], device='cuda:0')\n"
          ],
          "name": "stdout"
        },
        {
          "output_type": "stream",
          "text": [
            "\rTraining:   6%|▌         | 16/287 [00:08<02:32,  1.77it/s]"
          ],
          "name": "stderr"
        },
        {
          "output_type": "stream",
          "text": [
            "32\n",
            "tensor([[50258, 50258, 50258,  ..., 50259, 50259, 50259],\n",
            "        [50258, 50258, 50258,  ..., 50259, 50259, 50259],\n",
            "        [50258, 50258, 50258,  ..., 50259, 50259, 50259],\n",
            "        ...,\n",
            "        [50258, 50258, 50258,  ..., 50259, 50259, 50259],\n",
            "        [50258, 50258, 50258,  ..., 50259, 50259, 50259],\n",
            "        [50258, 50258, 50258,  ..., 50259, 50259, 50259]], device='cuda:0')\n"
          ],
          "name": "stdout"
        },
        {
          "output_type": "stream",
          "text": [
            "\rTraining:   6%|▌         | 17/287 [00:09<02:32,  1.77it/s]"
          ],
          "name": "stderr"
        },
        {
          "output_type": "stream",
          "text": [
            "32\n",
            "tensor([[50258, 50258, 50258,  ..., 50259, 50259, 50259],\n",
            "        [50258, 50258, 50258,  ..., 50259, 50259, 50259],\n",
            "        [50258, 50258, 50258,  ..., 50259, 50259, 50259],\n",
            "        ...,\n",
            "        [50258, 50258, 50258,  ..., 50259, 50259, 50259],\n",
            "        [50258, 50258, 50258,  ..., 50259, 50259, 50259],\n",
            "        [50258, 50258, 50258,  ..., 50259, 50259, 50259]], device='cuda:0')\n"
          ],
          "name": "stdout"
        },
        {
          "output_type": "stream",
          "text": [
            "\rTraining:   6%|▋         | 18/287 [00:10<02:31,  1.77it/s]"
          ],
          "name": "stderr"
        },
        {
          "output_type": "stream",
          "text": [
            "32\n",
            "tensor([[50258, 50258, 50258,  ..., 50259, 50259, 50259],\n",
            "        [50258, 50258, 50258,  ..., 50259, 50259, 50259],\n",
            "        [50258, 50258, 50258,  ..., 50259, 50259, 50259],\n",
            "        ...,\n",
            "        [50258, 50258, 50258,  ..., 50259, 50259, 50259],\n",
            "        [50258, 50258, 50258,  ..., 50259, 50259, 50259],\n",
            "        [50258, 50258, 50258,  ..., 50259, 50259, 50259]], device='cuda:0')\n"
          ],
          "name": "stdout"
        },
        {
          "output_type": "stream",
          "text": [
            "\rTraining:   7%|▋         | 19/287 [00:10<02:31,  1.77it/s]"
          ],
          "name": "stderr"
        },
        {
          "output_type": "stream",
          "text": [
            "32\n",
            "tensor([[50258, 50258, 50258,  ..., 50259, 50259, 50259],\n",
            "        [50258, 50258, 50258,  ..., 50259, 50259, 50259],\n",
            "        [50258, 50258, 50258,  ..., 50259, 50259, 50259],\n",
            "        ...,\n",
            "        [50258, 50258, 50258,  ..., 50259, 50259, 50259],\n",
            "        [50258, 50258, 50258,  ..., 50259, 50259, 50259],\n",
            "        [50258, 50258, 50258,  ..., 50259, 50259, 50259]], device='cuda:0')\n"
          ],
          "name": "stdout"
        },
        {
          "output_type": "stream",
          "text": [
            "\rTraining:   7%|▋         | 20/287 [00:11<02:30,  1.78it/s]"
          ],
          "name": "stderr"
        },
        {
          "output_type": "stream",
          "text": [
            "32\n",
            "tensor([[50258, 50258, 50258,  ..., 50259, 50259, 50259],\n",
            "        [50258, 50258, 50258,  ..., 50259, 50259, 50259],\n",
            "        [50258, 50258, 50258,  ..., 50259, 50259, 50259],\n",
            "        ...,\n",
            "        [50258, 50258, 50258,  ..., 50259, 50259, 50259],\n",
            "        [50258, 50258, 50258,  ..., 50259, 50259, 50259],\n",
            "        [50258, 50258, 50258,  ..., 50259, 50259, 50259]], device='cuda:0')\n"
          ],
          "name": "stdout"
        },
        {
          "output_type": "stream",
          "text": [
            "\rTraining:   7%|▋         | 21/287 [00:11<02:30,  1.77it/s]"
          ],
          "name": "stderr"
        },
        {
          "output_type": "stream",
          "text": [
            "32\n",
            "tensor([[50258, 50258, 50258,  ..., 50259, 50259, 50259],\n",
            "        [50258, 50258, 50258,  ..., 50259, 50259, 50259],\n",
            "        [50258, 50258, 50258,  ..., 50259, 50259, 50259],\n",
            "        ...,\n",
            "        [50258, 50258, 50258,  ..., 50259, 50259, 50259],\n",
            "        [50258, 50258, 50258,  ..., 50259, 50259, 50259],\n",
            "        [50258, 50258, 50258,  ..., 50259, 50259, 50259]], device='cuda:0')\n"
          ],
          "name": "stdout"
        },
        {
          "output_type": "stream",
          "text": [
            "\rTraining:   8%|▊         | 22/287 [00:12<02:29,  1.77it/s]"
          ],
          "name": "stderr"
        },
        {
          "output_type": "stream",
          "text": [
            "32\n",
            "tensor([[50258, 50258, 50258,  ..., 50259, 50259, 50259],\n",
            "        [50258, 50258, 50258,  ..., 50259, 50259, 50259],\n",
            "        [50258, 50258, 50258,  ..., 50259, 50259, 50259],\n",
            "        ...,\n",
            "        [50258, 50258, 50258,  ..., 50259, 50259, 50259],\n",
            "        [50258, 50258, 50258,  ..., 50259, 50259, 50259],\n",
            "        [50258, 50258, 50258,  ..., 50259, 50259, 50259]], device='cuda:0')\n"
          ],
          "name": "stdout"
        },
        {
          "output_type": "stream",
          "text": [
            "\rTraining:   8%|▊         | 23/287 [00:12<02:28,  1.77it/s]"
          ],
          "name": "stderr"
        },
        {
          "output_type": "stream",
          "text": [
            "32\n",
            "tensor([[50258, 50258, 50258,  ..., 50259, 50259, 50259],\n",
            "        [50258, 50258, 50258,  ..., 50259, 50259, 50259],\n",
            "        [50258, 50258, 50258,  ..., 50259, 50259, 50259],\n",
            "        ...,\n",
            "        [50258, 50258, 50258,  ..., 50259, 50259, 50259],\n",
            "        [50258, 50258, 50258,  ..., 50259, 50259, 50259],\n",
            "        [50258, 50258, 50258,  ..., 50259, 50259, 50259]], device='cuda:0')\n"
          ],
          "name": "stdout"
        },
        {
          "output_type": "stream",
          "text": [
            "\rTraining:   8%|▊         | 24/287 [00:13<02:28,  1.78it/s]"
          ],
          "name": "stderr"
        },
        {
          "output_type": "stream",
          "text": [
            "32\n",
            "tensor([[50258, 50258, 50258,  ..., 50259, 50259, 50259],\n",
            "        [50258, 50258, 50258,  ..., 50259, 50259, 50259],\n",
            "        [50258, 50258, 50258,  ..., 50259, 50259, 50259],\n",
            "        ...,\n",
            "        [50258, 50258, 50258,  ..., 50259, 50259, 50259],\n",
            "        [50258, 50258, 50258,  ..., 50259, 50259, 50259],\n",
            "        [50258, 50258, 50258,  ..., 50259, 50259, 50259]], device='cuda:0')\n"
          ],
          "name": "stdout"
        },
        {
          "output_type": "stream",
          "text": [
            "\rTraining:   9%|▊         | 25/287 [00:14<02:27,  1.77it/s]"
          ],
          "name": "stderr"
        },
        {
          "output_type": "stream",
          "text": [
            "32\n",
            "tensor([[50258, 50258, 50258,  ..., 50259, 50259, 50259],\n",
            "        [50258, 50258, 50258,  ..., 50259, 50259, 50259],\n",
            "        [50258, 50258, 50258,  ..., 50259, 50259, 50259],\n",
            "        ...,\n",
            "        [50258, 50258, 50258,  ..., 50259, 50259, 50259],\n",
            "        [50258, 50258, 50258,  ..., 50259, 50259, 50259],\n",
            "        [50258, 50258, 50258,  ..., 50259, 50259, 50259]], device='cuda:0')\n"
          ],
          "name": "stdout"
        },
        {
          "output_type": "stream",
          "text": [
            "\rTraining:   9%|▉         | 26/287 [00:14<02:26,  1.78it/s]"
          ],
          "name": "stderr"
        },
        {
          "output_type": "stream",
          "text": [
            "32\n",
            "tensor([[50258, 50258, 50258,  ..., 50259, 50259, 50259],\n",
            "        [50258, 50258, 50258,  ..., 50259, 50259, 50259],\n",
            "        [50258, 50258, 50258,  ..., 50259, 50259, 50259],\n",
            "        ...,\n",
            "        [50258, 50258, 50258,  ..., 50259, 50259, 50259],\n",
            "        [50258, 50258, 50258,  ..., 50259, 50259, 50259],\n",
            "        [50258, 50258, 50258,  ..., 50259, 50259, 50259]], device='cuda:0')\n"
          ],
          "name": "stdout"
        },
        {
          "output_type": "stream",
          "text": [
            "\rTraining:   9%|▉         | 27/287 [00:15<02:26,  1.78it/s]"
          ],
          "name": "stderr"
        },
        {
          "output_type": "stream",
          "text": [
            "32\n",
            "tensor([[50258, 50258, 50258,  ..., 50259, 50259, 50259],\n",
            "        [50258, 50258, 50258,  ..., 50259, 50259, 50259],\n",
            "        [50258, 50258, 50258,  ..., 50259, 50259, 50259],\n",
            "        ...,\n",
            "        [50258, 50258, 50258,  ..., 50259, 50259, 50259],\n",
            "        [50258, 50258, 50258,  ..., 50259, 50259, 50259],\n",
            "        [50258, 50258, 50258,  ..., 50259, 50259, 50259]], device='cuda:0')\n"
          ],
          "name": "stdout"
        },
        {
          "output_type": "stream",
          "text": [
            "\rTraining:  10%|▉         | 28/287 [00:15<02:25,  1.78it/s]"
          ],
          "name": "stderr"
        },
        {
          "output_type": "stream",
          "text": [
            "32\n",
            "tensor([[50258, 50258, 50258,  ..., 50259, 50259, 50259],\n",
            "        [50258, 50258, 50258,  ..., 50259, 50259, 50259],\n",
            "        [50258, 50258, 50258,  ..., 50259, 50259, 50259],\n",
            "        ...,\n",
            "        [50258, 50258, 50258,  ..., 50259, 50259, 50259],\n",
            "        [50258, 50258, 50258,  ..., 50259, 50259, 50259],\n",
            "        [50258, 50258, 50258,  ..., 50259, 50259, 50259]], device='cuda:0')\n"
          ],
          "name": "stdout"
        },
        {
          "output_type": "stream",
          "text": [
            "\rTraining:  10%|█         | 29/287 [00:16<02:25,  1.78it/s]"
          ],
          "name": "stderr"
        },
        {
          "output_type": "stream",
          "text": [
            "32\n",
            "tensor([[50258, 50258, 50258,  ..., 50259, 50259, 50259],\n",
            "        [50258, 50258, 50258,  ..., 50259, 50259, 50259],\n",
            "        [50258, 50258, 50258,  ..., 50259, 50259, 50259],\n",
            "        ...,\n",
            "        [50258, 50258, 50258,  ..., 50259, 50259, 50259],\n",
            "        [50258, 50258, 50258,  ..., 50259, 50259, 50259],\n",
            "        [50258, 50258, 50258,  ..., 50259, 50259, 50259]], device='cuda:0')\n"
          ],
          "name": "stdout"
        },
        {
          "output_type": "stream",
          "text": [
            "\rTraining:  10%|█         | 30/287 [00:16<02:24,  1.78it/s]"
          ],
          "name": "stderr"
        },
        {
          "output_type": "stream",
          "text": [
            "32\n",
            "tensor([[50258, 50258, 50258,  ..., 50259, 50259, 50259],\n",
            "        [50258, 50258, 50258,  ..., 50259, 50259, 50259],\n",
            "        [50258, 50258, 50258,  ..., 50259, 50259, 50259],\n",
            "        ...,\n",
            "        [50258, 50258, 50258,  ..., 50259, 50259, 50259],\n",
            "        [50258, 50258, 50258,  ..., 50259, 50259, 50259],\n",
            "        [50258, 50258, 50258,  ..., 50259, 50259, 50259]], device='cuda:0')\n"
          ],
          "name": "stdout"
        },
        {
          "output_type": "stream",
          "text": [
            "\rTraining:  11%|█         | 31/287 [00:17<02:23,  1.78it/s]"
          ],
          "name": "stderr"
        },
        {
          "output_type": "stream",
          "text": [
            "32\n",
            "tensor([[50258, 50258, 50258,  ..., 50259, 50259, 50259],\n",
            "        [50258, 50258, 50258,  ..., 50259, 50259, 50259],\n",
            "        [50258, 50258, 50258,  ..., 50259, 50259, 50259],\n",
            "        ...,\n",
            "        [50258, 50258, 50258,  ..., 50259, 50259, 50259],\n",
            "        [50258, 50258, 50258,  ..., 50259, 50259, 50259],\n",
            "        [50258, 50258, 50258,  ..., 50259, 50259, 50259]], device='cuda:0')\n"
          ],
          "name": "stdout"
        },
        {
          "output_type": "stream",
          "text": [
            "\rTraining:  11%|█         | 32/287 [00:17<02:23,  1.78it/s]"
          ],
          "name": "stderr"
        },
        {
          "output_type": "stream",
          "text": [
            "32\n",
            "tensor([[50258, 50258, 50258,  ..., 50259, 50259, 50259],\n",
            "        [50258, 50258, 50258,  ..., 50259, 50259, 50259],\n",
            "        [50258, 50258, 50258,  ..., 50259, 50259, 50259],\n",
            "        ...,\n",
            "        [50258, 50258, 50258,  ..., 50259, 50259, 50259],\n",
            "        [50258, 50258, 50258,  ..., 50259, 50259, 50259],\n",
            "        [50258, 50258, 50258,  ..., 50259, 50259, 50259]], device='cuda:0')\n"
          ],
          "name": "stdout"
        },
        {
          "output_type": "stream",
          "text": [
            "\rTraining:  11%|█▏        | 33/287 [00:18<02:22,  1.78it/s]"
          ],
          "name": "stderr"
        },
        {
          "output_type": "stream",
          "text": [
            "32\n",
            "tensor([[50258, 50258, 50258,  ..., 50259, 50259, 50259],\n",
            "        [50258, 50258, 50258,  ..., 50259, 50259, 50259],\n",
            "        [50258, 50258, 50258,  ..., 50259, 50259, 50259],\n",
            "        ...,\n",
            "        [50258, 50258, 50258,  ..., 50259, 50259, 50259],\n",
            "        [50258, 50258, 50258,  ..., 50259, 50259, 50259],\n",
            "        [50258, 50258, 50258,  ..., 50259, 50259, 50259]], device='cuda:0')\n"
          ],
          "name": "stdout"
        },
        {
          "output_type": "stream",
          "text": [
            "\rTraining:  12%|█▏        | 34/287 [00:19<02:22,  1.78it/s]"
          ],
          "name": "stderr"
        },
        {
          "output_type": "stream",
          "text": [
            "32\n",
            "tensor([[50258, 50258, 50258,  ..., 50259, 50259, 50259],\n",
            "        [50258, 50258, 50258,  ..., 50259, 50259, 50259],\n",
            "        [50258, 50258, 50258,  ..., 50259, 50259, 50259],\n",
            "        ...,\n",
            "        [50258, 50258, 50258,  ..., 50259, 50259, 50259],\n",
            "        [50258, 50258, 50258,  ..., 50259, 50259, 50259],\n",
            "        [50258, 50258, 50258,  ..., 50259, 50259, 50259]], device='cuda:0')\n"
          ],
          "name": "stdout"
        },
        {
          "output_type": "stream",
          "text": [
            "\rTraining:  12%|█▏        | 35/287 [00:19<02:21,  1.78it/s]"
          ],
          "name": "stderr"
        },
        {
          "output_type": "stream",
          "text": [
            "32\n",
            "tensor([[50258, 50258, 50258,  ..., 50259, 50259, 50259],\n",
            "        [50258, 50258, 50258,  ..., 50259, 50259, 50259],\n",
            "        [50258, 50258, 50258,  ..., 50259, 50259, 50259],\n",
            "        ...,\n",
            "        [50258, 50258, 50258,  ..., 50259, 50259, 50259],\n",
            "        [50258, 50258, 50258,  ..., 50259, 50259, 50259],\n",
            "        [50258, 50258, 50258,  ..., 50259, 50259, 50259]], device='cuda:0')\n"
          ],
          "name": "stdout"
        },
        {
          "output_type": "stream",
          "text": [
            "\rTraining:  13%|█▎        | 36/287 [00:20<02:21,  1.77it/s]"
          ],
          "name": "stderr"
        },
        {
          "output_type": "stream",
          "text": [
            "32\n",
            "tensor([[50258, 50258, 50258,  ..., 50259, 50259, 50259],\n",
            "        [50258, 50258, 50258,  ..., 50259, 50259, 50259],\n",
            "        [50258, 50258, 50258,  ..., 50259, 50259, 50259],\n",
            "        ...,\n",
            "        [50258, 50258, 50258,  ..., 50259, 50259, 50259],\n",
            "        [50258, 50258, 50258,  ..., 50259, 50259, 50259],\n",
            "        [50258, 50258, 50258,  ..., 50259, 50259, 50259]], device='cuda:0')\n"
          ],
          "name": "stdout"
        },
        {
          "output_type": "stream",
          "text": [
            "\rTraining:  13%|█▎        | 37/287 [00:20<02:20,  1.78it/s]"
          ],
          "name": "stderr"
        },
        {
          "output_type": "stream",
          "text": [
            "32\n",
            "tensor([[50258, 50258, 50258,  ..., 50259, 50259, 50259],\n",
            "        [50258, 50258, 50258,  ..., 50259, 50259, 50259],\n",
            "        [50258, 50258, 50258,  ..., 50259, 50259, 50259],\n",
            "        ...,\n",
            "        [50258, 50258, 50258,  ..., 50259, 50259, 50259],\n",
            "        [50258, 50258, 50258,  ..., 50259, 50259, 50259],\n",
            "        [50258, 50258, 50258,  ..., 50259, 50259, 50259]], device='cuda:0')\n"
          ],
          "name": "stdout"
        },
        {
          "output_type": "stream",
          "text": [
            "\rTraining:  13%|█▎        | 38/287 [00:21<02:20,  1.77it/s]"
          ],
          "name": "stderr"
        },
        {
          "output_type": "stream",
          "text": [
            "32\n",
            "tensor([[50258, 50258, 50258,  ..., 50259, 50259, 50259],\n",
            "        [50258, 50258, 50258,  ..., 50259, 50259, 50259],\n",
            "        [50258, 50258, 50258,  ..., 50259, 50259, 50259],\n",
            "        ...,\n",
            "        [50258, 50258, 50258,  ..., 50259, 50259, 50259],\n",
            "        [50258, 50258, 50258,  ..., 50259, 50259, 50259],\n",
            "        [50258, 50258, 50258,  ..., 50259, 50259, 50259]], device='cuda:0')\n"
          ],
          "name": "stdout"
        },
        {
          "output_type": "stream",
          "text": [
            "\rTraining:  14%|█▎        | 39/287 [00:21<02:19,  1.78it/s]"
          ],
          "name": "stderr"
        },
        {
          "output_type": "stream",
          "text": [
            "32\n",
            "tensor([[50258, 50258, 50258,  ..., 50259, 50259, 50259],\n",
            "        [50258, 50258, 50258,  ..., 50259, 50259, 50259],\n",
            "        [50258, 50258, 50258,  ..., 50259, 50259, 50259],\n",
            "        ...,\n",
            "        [50258, 50258, 50258,  ..., 50259, 50259, 50259],\n",
            "        [50258, 50258, 50258,  ..., 50259, 50259, 50259],\n",
            "        [50258, 50258, 50258,  ..., 50259, 50259, 50259]], device='cuda:0')\n"
          ],
          "name": "stdout"
        },
        {
          "output_type": "stream",
          "text": [
            "\rTraining:  14%|█▍        | 40/287 [00:22<02:19,  1.78it/s]"
          ],
          "name": "stderr"
        },
        {
          "output_type": "stream",
          "text": [
            "32\n",
            "tensor([[50258, 50258, 50258,  ..., 50259, 50259, 50259],\n",
            "        [50258, 50258, 50258,  ..., 50259, 50259, 50259],\n",
            "        [50258, 50258, 50258,  ..., 50259, 50259, 50259],\n",
            "        ...,\n",
            "        [50258, 50258, 50258,  ..., 50259, 50259, 50259],\n",
            "        [50258, 50258, 50258,  ..., 50259, 50259, 50259],\n",
            "        [50258, 50258, 50258,  ..., 50259, 50259, 50259]], device='cuda:0')\n"
          ],
          "name": "stdout"
        },
        {
          "output_type": "stream",
          "text": [
            "\rTraining:  14%|█▍        | 41/287 [00:23<02:18,  1.78it/s]"
          ],
          "name": "stderr"
        },
        {
          "output_type": "stream",
          "text": [
            "32\n",
            "tensor([[50258, 50258, 50258,  ..., 50259, 50259, 50259],\n",
            "        [50258, 50258, 50258,  ..., 50259, 50259, 50259],\n",
            "        [50258, 50258, 50258,  ..., 50259, 50259, 50259],\n",
            "        ...,\n",
            "        [50258, 50258, 50258,  ..., 50259, 50259, 50259],\n",
            "        [50258, 50258, 50258,  ..., 50259, 50259, 50259],\n",
            "        [50258, 50258, 50258,  ..., 50259, 50259, 50259]], device='cuda:0')\n"
          ],
          "name": "stdout"
        },
        {
          "output_type": "stream",
          "text": [
            "\rTraining:  15%|█▍        | 42/287 [00:23<02:18,  1.77it/s]"
          ],
          "name": "stderr"
        },
        {
          "output_type": "stream",
          "text": [
            "32\n",
            "tensor([[50258, 50258, 50258,  ..., 50259, 50259, 50259],\n",
            "        [50258, 50258, 50258,  ..., 50259, 50259, 50259],\n",
            "        [50258, 50258, 50258,  ..., 50259, 50259, 50259],\n",
            "        ...,\n",
            "        [50258, 50258, 50258,  ..., 50259, 50259, 50259],\n",
            "        [50258, 50258, 50258,  ..., 50259, 50259, 50259],\n",
            "        [50258, 50258, 50258,  ..., 50259, 50259, 50259]], device='cuda:0')\n"
          ],
          "name": "stdout"
        },
        {
          "output_type": "stream",
          "text": [
            "\rTraining:  15%|█▍        | 43/287 [00:24<02:17,  1.77it/s]"
          ],
          "name": "stderr"
        },
        {
          "output_type": "stream",
          "text": [
            "32\n",
            "tensor([[50258, 50258, 50258,  ..., 50259, 50259, 50259],\n",
            "        [50258, 50258, 50258,  ..., 50259, 50259, 50259],\n",
            "        [50258, 50258, 50258,  ..., 50259, 50259, 50259],\n",
            "        ...,\n",
            "        [50258, 50258, 50258,  ..., 50259, 50259, 50259],\n",
            "        [50258, 50258, 50258,  ..., 50259, 50259, 50259],\n",
            "        [50258, 50258, 50258,  ..., 50259, 50259, 50259]], device='cuda:0')\n"
          ],
          "name": "stdout"
        },
        {
          "output_type": "stream",
          "text": [
            "\rTraining:  15%|█▌        | 44/287 [00:24<02:17,  1.77it/s]"
          ],
          "name": "stderr"
        },
        {
          "output_type": "stream",
          "text": [
            "32\n",
            "tensor([[50258, 50258, 50258,  ..., 50259, 50259, 50259],\n",
            "        [50258, 50258, 50258,  ..., 50259, 50259, 50259],\n",
            "        [50258, 50258, 50258,  ..., 50259, 50259, 50259],\n",
            "        ...,\n",
            "        [50258, 50258, 50258,  ..., 50259, 50259, 50259],\n",
            "        [50258, 50258, 50258,  ..., 50259, 50259, 50259],\n",
            "        [50258, 50258, 50258,  ..., 50259, 50259, 50259]], device='cuda:0')\n"
          ],
          "name": "stdout"
        },
        {
          "output_type": "stream",
          "text": [
            "\rTraining:  16%|█▌        | 45/287 [00:25<02:16,  1.77it/s]"
          ],
          "name": "stderr"
        },
        {
          "output_type": "stream",
          "text": [
            "32\n",
            "tensor([[50258, 50258, 50258,  ..., 50259, 50259, 50259],\n",
            "        [50258, 50258, 50258,  ..., 50259, 50259, 50259],\n",
            "        [50258, 50258, 50258,  ..., 50259, 50259, 50259],\n",
            "        ...,\n",
            "        [50258, 50258, 50258,  ..., 50259, 50259, 50259],\n",
            "        [50258, 50258, 50258,  ..., 50259, 50259, 50259],\n",
            "        [50258, 50258, 50258,  ..., 50259, 50259, 50259]], device='cuda:0')\n"
          ],
          "name": "stdout"
        },
        {
          "output_type": "stream",
          "text": [
            "\rTraining:  16%|█▌        | 46/287 [00:25<02:16,  1.77it/s]"
          ],
          "name": "stderr"
        },
        {
          "output_type": "stream",
          "text": [
            "32\n",
            "tensor([[50258, 50258, 50258,  ..., 50259, 50259, 50259],\n",
            "        [50258, 50258, 50258,  ..., 50259, 50259, 50259],\n",
            "        [50258, 50258, 50258,  ..., 50259, 50259, 50259],\n",
            "        ...,\n",
            "        [50258, 50258, 50258,  ..., 50259, 50259, 50259],\n",
            "        [50258, 50258, 50258,  ..., 50259, 50259, 50259],\n",
            "        [50258, 50258, 50258,  ..., 50259, 50259, 50259]], device='cuda:0')\n"
          ],
          "name": "stdout"
        },
        {
          "output_type": "stream",
          "text": [
            "\rTraining:  16%|█▋        | 47/287 [00:26<02:15,  1.77it/s]"
          ],
          "name": "stderr"
        },
        {
          "output_type": "stream",
          "text": [
            "32\n",
            "tensor([[50258, 50258, 50258,  ..., 50259, 50259, 50259],\n",
            "        [50258, 50258, 50258,  ..., 50259, 50259, 50259],\n",
            "        [50258, 50258, 50258,  ..., 50259, 50259, 50259],\n",
            "        ...,\n",
            "        [50258, 50258, 50258,  ..., 50259, 50259, 50259],\n",
            "        [50258, 50258, 50258,  ..., 50259, 50259, 50259],\n",
            "        [50258, 50258, 50258,  ..., 50259, 50259, 50259]], device='cuda:0')\n"
          ],
          "name": "stdout"
        },
        {
          "output_type": "stream",
          "text": [
            "\rTraining:  17%|█▋        | 48/287 [00:27<02:14,  1.77it/s]"
          ],
          "name": "stderr"
        },
        {
          "output_type": "stream",
          "text": [
            "32\n",
            "tensor([[50258, 50258, 50258,  ..., 50259, 50259, 50259],\n",
            "        [50258, 50258, 50258,  ..., 50259, 50259, 50259],\n",
            "        [50258, 50258, 50258,  ..., 50259, 50259, 50259],\n",
            "        ...,\n",
            "        [50258, 50258, 50258,  ..., 50259, 50259, 50259],\n",
            "        [50258, 50258, 50258,  ..., 50259, 50259, 50259],\n",
            "        [50258, 50258, 50258,  ..., 50259, 50259, 50259]], device='cuda:0')\n"
          ],
          "name": "stdout"
        },
        {
          "output_type": "stream",
          "text": [
            "\rTraining:  17%|█▋        | 49/287 [00:27<02:14,  1.77it/s]"
          ],
          "name": "stderr"
        },
        {
          "output_type": "stream",
          "text": [
            "32\n",
            "tensor([[50258, 50258, 50258,  ..., 50259, 50259, 50259],\n",
            "        [50258, 50258, 50258,  ..., 50259, 50259, 50259],\n",
            "        [50258, 50258, 50258,  ..., 50259, 50259, 50259],\n",
            "        ...,\n",
            "        [50258, 50258, 50258,  ..., 50259, 50259, 50259],\n",
            "        [50258, 50258, 50258,  ..., 50259, 50259, 50259],\n",
            "        [50258, 50258, 50258,  ..., 50259, 50259, 50259]], device='cuda:0')\n"
          ],
          "name": "stdout"
        },
        {
          "output_type": "stream",
          "text": [
            "\rTraining:  17%|█▋        | 50/287 [00:28<02:13,  1.77it/s]"
          ],
          "name": "stderr"
        },
        {
          "output_type": "stream",
          "text": [
            "32\n",
            "tensor([[50258, 50258, 50258,  ..., 50259, 50259, 50259],\n",
            "        [50258, 50258, 50258,  ..., 50259, 50259, 50259],\n",
            "        [50258, 50258, 50258,  ..., 50259, 50259, 50259],\n",
            "        ...,\n",
            "        [50258, 50258, 50258,  ..., 50259, 50259, 50259],\n",
            "        [50258, 50258, 50258,  ..., 50259, 50259, 50259],\n",
            "        [50258, 50258, 50258,  ..., 50259, 50259, 50259]], device='cuda:0')\n"
          ],
          "name": "stdout"
        },
        {
          "output_type": "stream",
          "text": [
            "\rTraining:  18%|█▊        | 51/287 [00:28<02:13,  1.77it/s]"
          ],
          "name": "stderr"
        },
        {
          "output_type": "stream",
          "text": [
            "32\n",
            "tensor([[50258, 50258, 50258,  ..., 50259, 50259, 50259],\n",
            "        [50258, 50258, 50258,  ..., 50259, 50259, 50259],\n",
            "        [50258, 50258, 50258,  ..., 50259, 50259, 50259],\n",
            "        ...,\n",
            "        [50258, 50258, 50258,  ..., 50259, 50259, 50259],\n",
            "        [50258, 50258, 50258,  ..., 50259, 50259, 50259],\n",
            "        [50258, 50258, 50258,  ..., 50259, 50259, 50259]], device='cuda:0')\n"
          ],
          "name": "stdout"
        },
        {
          "output_type": "stream",
          "text": [
            "\rTraining:  18%|█▊        | 52/287 [00:29<02:12,  1.77it/s]"
          ],
          "name": "stderr"
        },
        {
          "output_type": "stream",
          "text": [
            "32\n",
            "tensor([[50258, 50258, 50258,  ..., 50259, 50259, 50259],\n",
            "        [50258, 50258, 50258,  ..., 50259, 50259, 50259],\n",
            "        [50258, 50258, 50258,  ..., 50259, 50259, 50259],\n",
            "        ...,\n",
            "        [50258, 50258, 50258,  ..., 50259, 50259, 50259],\n",
            "        [50258, 50258, 50258,  ..., 50259, 50259, 50259],\n",
            "        [50258, 50258, 50258,  ..., 50259, 50259, 50259]], device='cuda:0')\n"
          ],
          "name": "stdout"
        },
        {
          "output_type": "stream",
          "text": [
            "\rTraining:  18%|█▊        | 53/287 [00:29<02:12,  1.77it/s]"
          ],
          "name": "stderr"
        },
        {
          "output_type": "stream",
          "text": [
            "32\n",
            "tensor([[50258, 50258, 50258,  ..., 50259, 50259, 50259],\n",
            "        [50258, 50258, 50258,  ..., 50259, 50259, 50259],\n",
            "        [50258, 50258, 50258,  ..., 50259, 50259, 50259],\n",
            "        ...,\n",
            "        [50258, 50258, 50258,  ..., 50259, 50259, 50259],\n",
            "        [50258, 50258, 50258,  ..., 50259, 50259, 50259],\n",
            "        [50258, 50258, 50258,  ..., 50259, 50259, 50259]], device='cuda:0')\n"
          ],
          "name": "stdout"
        },
        {
          "output_type": "stream",
          "text": [
            "\rTraining:  19%|█▉        | 54/287 [00:30<02:11,  1.77it/s]"
          ],
          "name": "stderr"
        },
        {
          "output_type": "stream",
          "text": [
            "32\n",
            "tensor([[50258, 50258, 50258,  ..., 50259, 50259, 50259],\n",
            "        [50258, 50258, 50258,  ..., 50259, 50259, 50259],\n",
            "        [50258, 50258, 50258,  ..., 50259, 50259, 50259],\n",
            "        ...,\n",
            "        [50258, 50258, 50258,  ..., 50259, 50259, 50259],\n",
            "        [50258, 50258, 50258,  ..., 50259, 50259, 50259],\n",
            "        [50258, 50258, 50258,  ..., 50259, 50259, 50259]], device='cuda:0')\n"
          ],
          "name": "stdout"
        },
        {
          "output_type": "stream",
          "text": [
            "\rTraining:  19%|█▉        | 55/287 [00:30<02:11,  1.77it/s]"
          ],
          "name": "stderr"
        },
        {
          "output_type": "stream",
          "text": [
            "32\n",
            "tensor([[50258, 50258, 50258,  ..., 50259, 50259, 50259],\n",
            "        [50258, 50258, 50258,  ..., 50259, 50259, 50259],\n",
            "        [50258, 50258, 50258,  ..., 50259, 50259, 50259],\n",
            "        ...,\n",
            "        [50258, 50258, 50258,  ..., 50259, 50259, 50259],\n",
            "        [50258, 50258, 50258,  ..., 50259, 50259, 50259],\n",
            "        [50258, 50258, 50258,  ..., 50259, 50259, 50259]], device='cuda:0')\n"
          ],
          "name": "stdout"
        },
        {
          "output_type": "stream",
          "text": [
            "\rTraining:  20%|█▉        | 56/287 [00:31<02:11,  1.76it/s]"
          ],
          "name": "stderr"
        },
        {
          "output_type": "stream",
          "text": [
            "32\n",
            "tensor([[50258, 50258, 50258,  ..., 50259, 50259, 50259],\n",
            "        [50258, 50258, 50258,  ..., 50259, 50259, 50259],\n",
            "        [50258, 50258, 50258,  ..., 50259, 50259, 50259],\n",
            "        ...,\n",
            "        [50258, 50258, 50258,  ..., 50259, 50259, 50259],\n",
            "        [50258, 50258, 50258,  ..., 50259, 50259, 50259],\n",
            "        [50258, 50258, 50258,  ..., 50259, 50259, 50259]], device='cuda:0')\n"
          ],
          "name": "stdout"
        },
        {
          "output_type": "stream",
          "text": [
            "\rTraining:  20%|█▉        | 57/287 [00:32<02:10,  1.77it/s]"
          ],
          "name": "stderr"
        },
        {
          "output_type": "stream",
          "text": [
            "32\n",
            "tensor([[50258, 50258, 50258,  ..., 50259, 50259, 50259],\n",
            "        [50258, 50258, 50258,  ..., 50259, 50259, 50259],\n",
            "        [50258, 50258, 50258,  ..., 50259, 50259, 50259],\n",
            "        ...,\n",
            "        [50258, 50258, 50258,  ..., 50259, 50259, 50259],\n",
            "        [50258, 50258, 50258,  ..., 50259, 50259, 50259],\n",
            "        [50258, 50258, 50258,  ..., 50259, 50259, 50259]], device='cuda:0')\n"
          ],
          "name": "stdout"
        },
        {
          "output_type": "stream",
          "text": [
            "\rTraining:  20%|██        | 58/287 [00:32<02:09,  1.76it/s]"
          ],
          "name": "stderr"
        },
        {
          "output_type": "stream",
          "text": [
            "32\n",
            "tensor([[50258, 50258, 50258,  ..., 50259, 50259, 50259],\n",
            "        [50258, 50258, 50258,  ..., 50259, 50259, 50259],\n",
            "        [50258, 50258, 50258,  ..., 50259, 50259, 50259],\n",
            "        ...,\n",
            "        [50258, 50258, 50258,  ..., 50259, 50259, 50259],\n",
            "        [50258, 50258, 50258,  ..., 50259, 50259, 50259],\n",
            "        [50258, 50258, 50258,  ..., 50259, 50259, 50259]], device='cuda:0')\n"
          ],
          "name": "stdout"
        },
        {
          "output_type": "stream",
          "text": [
            "\rTraining:  21%|██        | 59/287 [00:33<02:08,  1.77it/s]"
          ],
          "name": "stderr"
        },
        {
          "output_type": "stream",
          "text": [
            "32\n",
            "tensor([[50258, 50258, 50258,  ..., 50259, 50259, 50259],\n",
            "        [50258, 50258, 50258,  ..., 50259, 50259, 50259],\n",
            "        [50258, 50258, 50258,  ..., 50259, 50259, 50259],\n",
            "        ...,\n",
            "        [50258, 50258, 50258,  ..., 50259, 50259, 50259],\n",
            "        [50258, 50258, 50258,  ..., 50259, 50259, 50259],\n",
            "        [50258, 50258, 50258,  ..., 50259, 50259, 50259]], device='cuda:0')\n"
          ],
          "name": "stdout"
        },
        {
          "output_type": "stream",
          "text": [
            "\rTraining:  21%|██        | 60/287 [00:33<02:08,  1.77it/s]"
          ],
          "name": "stderr"
        },
        {
          "output_type": "stream",
          "text": [
            "32\n",
            "tensor([[50258, 50258, 50258,  ..., 50259, 50259, 50259],\n",
            "        [50258, 50258, 50258,  ..., 50259, 50259, 50259],\n",
            "        [50258, 50258, 50258,  ..., 50259, 50259, 50259],\n",
            "        ...,\n",
            "        [50258, 50258, 50258,  ..., 50259, 50259, 50259],\n",
            "        [50258, 50258, 50258,  ..., 50259, 50259, 50259],\n",
            "        [50258, 50258, 50258,  ..., 50259, 50259, 50259]], device='cuda:0')\n"
          ],
          "name": "stdout"
        },
        {
          "output_type": "stream",
          "text": [
            "\rTraining:  21%|██▏       | 61/287 [00:34<02:07,  1.77it/s]"
          ],
          "name": "stderr"
        },
        {
          "output_type": "stream",
          "text": [
            "32\n",
            "tensor([[50258, 50258, 50258,  ..., 50259, 50259, 50259],\n",
            "        [50258, 50258, 50258,  ..., 50259, 50259, 50259],\n",
            "        [50258, 50258, 50258,  ..., 50259, 50259, 50259],\n",
            "        ...,\n",
            "        [50258, 50258, 50258,  ..., 50259, 50259, 50259],\n",
            "        [50258, 50258, 50258,  ..., 50259, 50259, 50259],\n",
            "        [50258, 50258, 50258,  ..., 50259, 50259, 50259]], device='cuda:0')\n"
          ],
          "name": "stdout"
        },
        {
          "output_type": "stream",
          "text": [
            "\rTraining:  22%|██▏       | 62/287 [00:34<02:07,  1.77it/s]"
          ],
          "name": "stderr"
        },
        {
          "output_type": "stream",
          "text": [
            "32\n",
            "tensor([[50258, 50258, 50258,  ..., 50259, 50259, 50259],\n",
            "        [50258, 50258, 50258,  ..., 50259, 50259, 50259],\n",
            "        [50258, 50258, 50258,  ..., 50259, 50259, 50259],\n",
            "        ...,\n",
            "        [50258, 50258, 50258,  ..., 50259, 50259, 50259],\n",
            "        [50258, 50258, 50258,  ..., 50259, 50259, 50259],\n",
            "        [50258, 50258, 50258,  ..., 50259, 50259, 50259]], device='cuda:0')\n"
          ],
          "name": "stdout"
        },
        {
          "output_type": "stream",
          "text": [
            "\rTraining:  22%|██▏       | 63/287 [00:35<02:06,  1.77it/s]"
          ],
          "name": "stderr"
        },
        {
          "output_type": "stream",
          "text": [
            "32\n",
            "tensor([[50258, 50258, 50258,  ..., 50259, 50259, 50259],\n",
            "        [50258, 50258, 50258,  ..., 50259, 50259, 50259],\n",
            "        [50258, 50258, 50258,  ..., 50259, 50259, 50259],\n",
            "        ...,\n",
            "        [50258, 50258, 50258,  ..., 50259, 50259, 50259],\n",
            "        [50258, 50258, 50258,  ..., 50259, 50259, 50259],\n",
            "        [50258, 50258, 50258,  ..., 50259, 50259, 50259]], device='cuda:0')\n"
          ],
          "name": "stdout"
        },
        {
          "output_type": "stream",
          "text": [
            "\rTraining:  22%|██▏       | 64/287 [00:36<02:05,  1.77it/s]"
          ],
          "name": "stderr"
        },
        {
          "output_type": "stream",
          "text": [
            "32\n",
            "tensor([[50258, 50258, 50258,  ..., 50259, 50259, 50259],\n",
            "        [50258, 50258, 50259,  ..., 50259, 50259, 50259],\n",
            "        [50258, 50258, 50258,  ..., 50259, 50259, 50259],\n",
            "        ...,\n",
            "        [50258, 50258, 50258,  ..., 50259, 50259, 50259],\n",
            "        [50258, 50258, 50258,  ..., 50259, 50259, 50259],\n",
            "        [50258, 50258, 50258,  ..., 50259, 50259, 50259]], device='cuda:0')\n"
          ],
          "name": "stdout"
        },
        {
          "output_type": "stream",
          "text": [
            "\rTraining:  23%|██▎       | 65/287 [00:36<02:05,  1.77it/s]"
          ],
          "name": "stderr"
        },
        {
          "output_type": "stream",
          "text": [
            "32\n",
            "tensor([[50258, 50258, 50258,  ..., 50259, 50259, 50259],\n",
            "        [50258, 50258, 50258,  ..., 50259, 50259, 50259],\n",
            "        [50258, 50258, 50258,  ..., 50259, 50259, 50259],\n",
            "        ...,\n",
            "        [50258, 50258, 50258,  ..., 50259, 50259, 50259],\n",
            "        [50258, 50258, 50258,  ..., 50259, 50259, 50259],\n",
            "        [50258, 50258, 50258,  ..., 50259, 50259, 50259]], device='cuda:0')\n"
          ],
          "name": "stdout"
        },
        {
          "output_type": "stream",
          "text": [
            "\rTraining:  23%|██▎       | 66/287 [00:37<02:04,  1.77it/s]"
          ],
          "name": "stderr"
        },
        {
          "output_type": "stream",
          "text": [
            "32\n",
            "tensor([[50258, 50258, 50258,  ..., 50259, 50259, 50259],\n",
            "        [50258, 50258, 50258,  ..., 50259, 50259, 50259],\n",
            "        [50258, 50258, 50258,  ..., 50259, 50259, 50259],\n",
            "        ...,\n",
            "        [50258, 50258, 50258,  ..., 50259, 50259, 50259],\n",
            "        [50258, 50258, 50258,  ..., 50259, 50259, 50259],\n",
            "        [50258, 50258, 50258,  ..., 50259, 50259, 50259]], device='cuda:0')\n"
          ],
          "name": "stdout"
        },
        {
          "output_type": "stream",
          "text": [
            "\rTraining:  23%|██▎       | 67/287 [00:37<02:04,  1.77it/s]"
          ],
          "name": "stderr"
        },
        {
          "output_type": "stream",
          "text": [
            "32\n",
            "tensor([[50258, 50258, 50258,  ..., 50259, 50259, 50259],\n",
            "        [50258, 50258, 50258,  ..., 50259, 50259, 50259],\n",
            "        [50258, 50258, 50258,  ..., 50259, 50259, 50259],\n",
            "        ...,\n",
            "        [50258, 50258, 50258,  ..., 50259, 50259, 50259],\n",
            "        [50258, 50258, 50258,  ..., 50259, 50259, 50259],\n",
            "        [50258, 50258, 50258,  ..., 50259, 50259, 50259]], device='cuda:0')\n"
          ],
          "name": "stdout"
        },
        {
          "output_type": "stream",
          "text": [
            "\rTraining:  24%|██▎       | 68/287 [00:38<02:03,  1.77it/s]"
          ],
          "name": "stderr"
        },
        {
          "output_type": "stream",
          "text": [
            "32\n",
            "tensor([[50258, 50258, 50258,  ..., 50259, 50259, 50259],\n",
            "        [50258, 50258, 50258,  ..., 50259, 50259, 50259],\n",
            "        [50258, 50258, 50258,  ..., 50259, 50259, 50259],\n",
            "        ...,\n",
            "        [50258, 50258, 50258,  ..., 50259, 50259, 50259],\n",
            "        [50258, 50258, 50258,  ..., 50259, 50259, 50259],\n",
            "        [50258, 50258, 50258,  ..., 50259, 50259, 50259]], device='cuda:0')\n"
          ],
          "name": "stdout"
        },
        {
          "output_type": "stream",
          "text": [
            "\rTraining:  24%|██▍       | 69/287 [00:38<02:02,  1.77it/s]"
          ],
          "name": "stderr"
        },
        {
          "output_type": "stream",
          "text": [
            "32\n",
            "tensor([[50258, 50258, 50258,  ..., 50259, 50259, 50259],\n",
            "        [50258, 50258, 50258,  ..., 50259, 50259, 50259],\n",
            "        [50258, 50258, 50258,  ..., 50259, 50259, 50259],\n",
            "        ...,\n",
            "        [50258, 50258, 50258,  ..., 50259, 50259, 50259],\n",
            "        [50258, 50258, 50258,  ..., 50259, 50259, 50259],\n",
            "        [50258, 50258, 50258,  ..., 50259, 50259, 50259]], device='cuda:0')\n"
          ],
          "name": "stdout"
        },
        {
          "output_type": "stream",
          "text": [
            "\rTraining:  24%|██▍       | 70/287 [00:39<02:02,  1.78it/s]"
          ],
          "name": "stderr"
        },
        {
          "output_type": "stream",
          "text": [
            "32\n",
            "tensor([[50258, 50258, 50258,  ..., 50259, 50259, 50259],\n",
            "        [50258, 50258, 50258,  ..., 50259, 50259, 50259],\n",
            "        [50258, 50258, 50258,  ..., 50259, 50259, 50259],\n",
            "        ...,\n",
            "        [50258, 50258, 50258,  ..., 50259, 50259, 50259],\n",
            "        [50258, 50258, 50258,  ..., 50259, 50259, 50259],\n",
            "        [50258, 50258, 50258,  ..., 50259, 50259, 50259]], device='cuda:0')\n"
          ],
          "name": "stdout"
        },
        {
          "output_type": "stream",
          "text": [
            "\rTraining:  25%|██▍       | 71/287 [00:40<02:01,  1.77it/s]"
          ],
          "name": "stderr"
        },
        {
          "output_type": "stream",
          "text": [
            "32\n",
            "tensor([[50258, 50258, 50258,  ..., 50259, 50259, 50259],\n",
            "        [50258, 50258, 50258,  ..., 50259, 50259, 50259],\n",
            "        [50258, 50258, 50258,  ..., 50259, 50259, 50259],\n",
            "        ...,\n",
            "        [50258, 50258, 50258,  ..., 50259, 50259, 50259],\n",
            "        [50258, 50258, 50258,  ..., 50259, 50259, 50259],\n",
            "        [50258, 50258, 50258,  ..., 50259, 50259, 50259]], device='cuda:0')\n"
          ],
          "name": "stdout"
        },
        {
          "output_type": "stream",
          "text": [
            "\rTraining:  25%|██▌       | 72/287 [00:40<02:01,  1.78it/s]"
          ],
          "name": "stderr"
        },
        {
          "output_type": "stream",
          "text": [
            "32\n",
            "tensor([[50258, 50258, 50258,  ..., 50259, 50259, 50259],\n",
            "        [50258, 50258, 50258,  ..., 50259, 50259, 50259],\n",
            "        [50258, 50258, 50258,  ..., 50259, 50259, 50259],\n",
            "        ...,\n",
            "        [50258, 50258, 50258,  ..., 50259, 50259, 50259],\n",
            "        [50258, 50258, 50258,  ..., 50259, 50259, 50259],\n",
            "        [50258, 50258, 50258,  ..., 50259, 50259, 50259]], device='cuda:0')\n"
          ],
          "name": "stdout"
        },
        {
          "output_type": "stream",
          "text": [
            "\rTraining:  25%|██▌       | 73/287 [00:41<02:00,  1.77it/s]"
          ],
          "name": "stderr"
        },
        {
          "output_type": "stream",
          "text": [
            "32\n",
            "tensor([[50258, 50258, 50258,  ..., 50259, 50259, 50259],\n",
            "        [50258, 50258, 50258,  ..., 50259, 50259, 50259],\n",
            "        [50258, 50258, 50258,  ..., 50259, 50259, 50259],\n",
            "        ...,\n",
            "        [50258, 50258, 50258,  ..., 50259, 50259, 50259],\n",
            "        [50258, 50258, 50258,  ..., 50259, 50259, 50259],\n",
            "        [50258, 50258, 50258,  ..., 50259, 50259, 50259]], device='cuda:0')\n"
          ],
          "name": "stdout"
        },
        {
          "output_type": "stream",
          "text": [
            "\rTraining:  26%|██▌       | 74/287 [00:41<01:59,  1.78it/s]"
          ],
          "name": "stderr"
        },
        {
          "output_type": "stream",
          "text": [
            "32\n",
            "tensor([[50258, 50258, 50258,  ..., 50259, 50259, 50259],\n",
            "        [50258, 50258, 50258,  ..., 50259, 50259, 50259],\n",
            "        [50258, 50258, 50258,  ..., 50259, 50259, 50259],\n",
            "        ...,\n",
            "        [50258, 50258, 50258,  ..., 50259, 50259, 50259],\n",
            "        [50258, 50258, 50258,  ..., 50259, 50259, 50259],\n",
            "        [50258, 50258, 50258,  ..., 50259, 50259, 50259]], device='cuda:0')\n"
          ],
          "name": "stdout"
        },
        {
          "output_type": "stream",
          "text": [
            "\rTraining:  26%|██▌       | 75/287 [00:42<01:59,  1.77it/s]"
          ],
          "name": "stderr"
        },
        {
          "output_type": "stream",
          "text": [
            "32\n",
            "tensor([[50258, 50258, 50258,  ..., 50259, 50259, 50259],\n",
            "        [50258, 50258, 50258,  ..., 50259, 50259, 50259],\n",
            "        [50258, 50258, 50258,  ..., 50259, 50259, 50259],\n",
            "        ...,\n",
            "        [50258, 50258, 50258,  ..., 50259, 50259, 50259],\n",
            "        [50258, 50258, 50258,  ..., 50259, 50259, 50259],\n",
            "        [50258, 50258, 50258,  ..., 50259, 50259, 50259]], device='cuda:0')\n"
          ],
          "name": "stdout"
        },
        {
          "output_type": "stream",
          "text": [
            "\rTraining:  26%|██▋       | 76/287 [00:42<01:59,  1.77it/s]"
          ],
          "name": "stderr"
        },
        {
          "output_type": "stream",
          "text": [
            "32\n",
            "tensor([[50258, 50258, 50258,  ..., 50259, 50259, 50259],\n",
            "        [50258, 50258, 50258,  ..., 50259, 50259, 50259],\n",
            "        [50258, 50258, 50258,  ..., 50259, 50259, 50259],\n",
            "        ...,\n",
            "        [50258, 50258, 50258,  ..., 50259, 50259, 50259],\n",
            "        [50258, 50258, 50258,  ..., 50259, 50259, 50259],\n",
            "        [50258, 50258, 50258,  ..., 50259, 50259, 50259]], device='cuda:0')\n"
          ],
          "name": "stdout"
        },
        {
          "output_type": "stream",
          "text": [
            "\rTraining:  27%|██▋       | 77/287 [00:43<01:58,  1.77it/s]"
          ],
          "name": "stderr"
        },
        {
          "output_type": "stream",
          "text": [
            "32\n",
            "tensor([[50258, 50258, 50258,  ..., 50259, 50259, 50259],\n",
            "        [50258, 50258, 50258,  ..., 50259, 50259, 50259],\n",
            "        [50258, 50258, 50258,  ..., 50259, 50259, 50259],\n",
            "        ...,\n",
            "        [50258, 50258, 50258,  ..., 50259, 50259, 50259],\n",
            "        [50258, 50258, 50258,  ..., 50259, 50259, 50259],\n",
            "        [50258, 50258, 50258,  ..., 50259, 50259, 50259]], device='cuda:0')\n"
          ],
          "name": "stdout"
        },
        {
          "output_type": "stream",
          "text": [
            "\rTraining:  27%|██▋       | 78/287 [00:43<01:58,  1.77it/s]"
          ],
          "name": "stderr"
        },
        {
          "output_type": "stream",
          "text": [
            "32\n",
            "tensor([[50258, 50258, 50258,  ..., 50259, 50259, 50259],\n",
            "        [50258, 50258, 50258,  ..., 50259, 50259, 50259],\n",
            "        [50258, 50258, 50258,  ..., 50259, 50259, 50259],\n",
            "        ...,\n",
            "        [50258, 50258, 50258,  ..., 50259, 50259, 50259],\n",
            "        [50258, 50258, 50258,  ..., 50259, 50259, 50259],\n",
            "        [50258, 50258, 50258,  ..., 50259, 50259, 50259]], device='cuda:0')\n"
          ],
          "name": "stdout"
        },
        {
          "output_type": "stream",
          "text": [
            "\rTraining:  28%|██▊       | 79/287 [00:44<01:57,  1.77it/s]"
          ],
          "name": "stderr"
        },
        {
          "output_type": "stream",
          "text": [
            "32\n",
            "tensor([[50258, 50258, 50258,  ..., 50259, 50259, 50259],\n",
            "        [50258, 50258, 50258,  ..., 50259, 50259, 50259],\n",
            "        [50258, 50258, 50258,  ..., 50259, 50259, 50259],\n",
            "        ...,\n",
            "        [50258, 50258, 50258,  ..., 50259, 50259, 50259],\n",
            "        [50258, 50258, 50258,  ..., 50259, 50259, 50259],\n",
            "        [50258, 50258, 50258,  ..., 50259, 50259, 50259]], device='cuda:0')\n"
          ],
          "name": "stdout"
        },
        {
          "output_type": "stream",
          "text": [
            "\rTraining:  28%|██▊       | 80/287 [00:45<01:56,  1.77it/s]"
          ],
          "name": "stderr"
        },
        {
          "output_type": "stream",
          "text": [
            "32\n",
            "tensor([[50258, 50258, 50258,  ..., 50259, 50259, 50259],\n",
            "        [50258, 50258, 50258,  ..., 50259, 50259, 50259],\n",
            "        [50258, 50258, 50258,  ..., 50259, 50259, 50259],\n",
            "        ...,\n",
            "        [50258, 50258, 50258,  ..., 50259, 50259, 50259],\n",
            "        [50258, 50258, 50258,  ..., 50259, 50259, 50259],\n",
            "        [50258, 50258, 50258,  ..., 50259, 50259, 50259]], device='cuda:0')\n"
          ],
          "name": "stdout"
        },
        {
          "output_type": "stream",
          "text": [
            "\rTraining:  28%|██▊       | 81/287 [00:45<01:56,  1.77it/s]"
          ],
          "name": "stderr"
        },
        {
          "output_type": "stream",
          "text": [
            "32\n",
            "tensor([[50258, 50258, 50258,  ..., 50259, 50259, 50259],\n",
            "        [50258, 50258, 50258,  ..., 50259, 50259, 50259],\n",
            "        [50258, 50258, 50258,  ..., 50259, 50259, 50259],\n",
            "        ...,\n",
            "        [50258, 50258, 50258,  ..., 50259, 50259, 50259],\n",
            "        [50258, 50258, 50258,  ..., 50259, 50259, 50259],\n",
            "        [50258, 50258, 50258,  ..., 50259, 50259, 50259]], device='cuda:0')\n"
          ],
          "name": "stdout"
        },
        {
          "output_type": "stream",
          "text": [
            "\rTraining:  29%|██▊       | 82/287 [00:46<01:55,  1.77it/s]"
          ],
          "name": "stderr"
        },
        {
          "output_type": "stream",
          "text": [
            "32\n",
            "tensor([[50258, 50258, 50258,  ..., 50259, 50259, 50259],\n",
            "        [50258, 50258, 50258,  ..., 50259, 50259, 50259],\n",
            "        [50258, 50258, 50258,  ..., 50259, 50259, 50259],\n",
            "        ...,\n",
            "        [50258, 50258, 50258,  ..., 50259, 50259, 50259],\n",
            "        [50258, 50258, 50258,  ..., 50259, 50259, 50259],\n",
            "        [50258, 50258, 50258,  ..., 50259, 50259, 50259]], device='cuda:0')\n"
          ],
          "name": "stdout"
        },
        {
          "output_type": "stream",
          "text": [
            "\rTraining:  29%|██▉       | 83/287 [00:46<01:55,  1.77it/s]"
          ],
          "name": "stderr"
        },
        {
          "output_type": "stream",
          "text": [
            "32\n",
            "tensor([[50258, 50258, 50258,  ..., 50259, 50259, 50259],\n",
            "        [50258, 50258, 50258,  ..., 50259, 50259, 50259],\n",
            "        [50258, 50258, 50258,  ..., 50259, 50259, 50259],\n",
            "        ...,\n",
            "        [50258, 50258, 50258,  ..., 50259, 50259, 50259],\n",
            "        [50258, 50258, 50258,  ..., 50259, 50259, 50259],\n",
            "        [50258, 50258, 50258,  ..., 50259, 50259, 50259]], device='cuda:0')\n"
          ],
          "name": "stdout"
        },
        {
          "output_type": "stream",
          "text": [
            "\rTraining:  29%|██▉       | 84/287 [00:47<01:54,  1.77it/s]"
          ],
          "name": "stderr"
        },
        {
          "output_type": "stream",
          "text": [
            "32\n",
            "tensor([[50258, 50258, 50258,  ..., 50259, 50259, 50259],\n",
            "        [50258, 50258, 50258,  ..., 50259, 50259, 50259],\n",
            "        [50258, 50258, 50258,  ..., 50259, 50259, 50259],\n",
            "        ...,\n",
            "        [50258, 50258, 50258,  ..., 50259, 50259, 50259],\n",
            "        [50258, 50258, 50258,  ..., 50259, 50259, 50259],\n",
            "        [50258, 50258, 50258,  ..., 50259, 50259, 50259]], device='cuda:0')\n"
          ],
          "name": "stdout"
        },
        {
          "output_type": "stream",
          "text": [
            "\rTraining:  30%|██▉       | 85/287 [00:47<01:54,  1.77it/s]"
          ],
          "name": "stderr"
        },
        {
          "output_type": "stream",
          "text": [
            "32\n",
            "tensor([[50258, 50258, 50258,  ..., 50259, 50259, 50259],\n",
            "        [50258, 50258, 50258,  ..., 50259, 50259, 50259],\n",
            "        [50258, 50258, 50258,  ..., 50259, 50259, 50259],\n",
            "        ...,\n",
            "        [50258, 50258, 50258,  ..., 50259, 50259, 50259],\n",
            "        [50258, 50258, 50258,  ..., 50259, 50259, 50259],\n",
            "        [50258, 50258, 50258,  ..., 50259, 50259, 50259]], device='cuda:0')\n"
          ],
          "name": "stdout"
        },
        {
          "output_type": "stream",
          "text": [
            "\rTraining:  30%|██▉       | 86/287 [00:48<01:53,  1.77it/s]"
          ],
          "name": "stderr"
        },
        {
          "output_type": "stream",
          "text": [
            "32\n",
            "tensor([[50258, 50258, 50258,  ..., 50259, 50259, 50259],\n",
            "        [50258, 50258, 50258,  ..., 50259, 50259, 50259],\n",
            "        [50258, 50258, 50258,  ..., 50259, 50259, 50259],\n",
            "        ...,\n",
            "        [50258, 50258, 50258,  ..., 50259, 50259, 50259],\n",
            "        [50258, 50258, 50258,  ..., 50259, 50259, 50259],\n",
            "        [50258, 50258, 50258,  ..., 50259, 50259, 50259]], device='cuda:0')\n"
          ],
          "name": "stdout"
        },
        {
          "output_type": "stream",
          "text": [
            "\rTraining:  30%|███       | 87/287 [00:49<01:53,  1.77it/s]"
          ],
          "name": "stderr"
        },
        {
          "output_type": "stream",
          "text": [
            "32\n",
            "tensor([[50258, 50258, 50258,  ..., 50259, 50259, 50259],\n",
            "        [50258, 50258, 50258,  ..., 50259, 50259, 50259],\n",
            "        [50258, 50258, 50258,  ..., 50259, 50259, 50259],\n",
            "        ...,\n",
            "        [50258, 50258, 50258,  ..., 50259, 50259, 50259],\n",
            "        [50258, 50258, 50258,  ..., 50259, 50259, 50259],\n",
            "        [50258, 50258, 50258,  ..., 50259, 50259, 50259]], device='cuda:0')\n"
          ],
          "name": "stdout"
        },
        {
          "output_type": "stream",
          "text": [
            "\rTraining:  31%|███       | 88/287 [00:49<01:52,  1.77it/s]"
          ],
          "name": "stderr"
        },
        {
          "output_type": "stream",
          "text": [
            "32\n",
            "tensor([[50258, 50258, 50258,  ..., 50259, 50259, 50259],\n",
            "        [50258, 50258, 50258,  ..., 50259, 50259, 50259],\n",
            "        [50258, 50258, 50258,  ..., 50259, 50259, 50259],\n",
            "        ...,\n",
            "        [50258, 50258, 50258,  ..., 50259, 50259, 50259],\n",
            "        [50258, 50258, 50258,  ..., 50259, 50259, 50259],\n",
            "        [50258, 50258, 50258,  ..., 50259, 50259, 50259]], device='cuda:0')\n"
          ],
          "name": "stdout"
        },
        {
          "output_type": "stream",
          "text": [
            "\rTraining:  31%|███       | 89/287 [00:50<01:52,  1.76it/s]"
          ],
          "name": "stderr"
        },
        {
          "output_type": "stream",
          "text": [
            "32\n",
            "tensor([[50258, 50258, 50258,  ..., 50259, 50259, 50259],\n",
            "        [50258, 50258, 50258,  ..., 50259, 50259, 50259],\n",
            "        [50258, 50258, 50258,  ..., 50259, 50259, 50259],\n",
            "        ...,\n",
            "        [50258, 50258, 50258,  ..., 50259, 50259, 50259],\n",
            "        [50258, 50258, 50258,  ..., 50259, 50259, 50259],\n",
            "        [50258, 50258, 50258,  ..., 50259, 50259, 50259]], device='cuda:0')\n"
          ],
          "name": "stdout"
        },
        {
          "output_type": "stream",
          "text": [
            "\rTraining:  31%|███▏      | 90/287 [00:50<01:51,  1.77it/s]"
          ],
          "name": "stderr"
        },
        {
          "output_type": "stream",
          "text": [
            "32\n",
            "tensor([[50258, 50258, 50258,  ..., 50259, 50259, 50259],\n",
            "        [50258, 50258, 50258,  ..., 50259, 50259, 50259],\n",
            "        [50258, 50258, 50258,  ..., 50259, 50259, 50259],\n",
            "        ...,\n",
            "        [50258, 50258, 50258,  ..., 50259, 50259, 50259],\n",
            "        [50258, 50258, 50258,  ..., 50259, 50259, 50259],\n",
            "        [50258, 50258, 50258,  ..., 50259, 50259, 50259]], device='cuda:0')\n"
          ],
          "name": "stdout"
        },
        {
          "output_type": "stream",
          "text": [
            "\rTraining:  32%|███▏      | 91/287 [00:51<01:51,  1.76it/s]"
          ],
          "name": "stderr"
        },
        {
          "output_type": "stream",
          "text": [
            "32\n",
            "tensor([[50258, 50258, 50258,  ..., 50259, 50259, 50259],\n",
            "        [50258, 50258, 50258,  ..., 50259, 50259, 50259],\n",
            "        [50258, 50258, 50258,  ..., 50259, 50259, 50259],\n",
            "        ...,\n",
            "        [50258, 50258, 50258,  ..., 50259, 50259, 50259],\n",
            "        [50258, 50258, 50258,  ..., 50259, 50259, 50259],\n",
            "        [50258, 50258, 50258,  ..., 50259, 50259, 50259]], device='cuda:0')\n"
          ],
          "name": "stdout"
        },
        {
          "output_type": "stream",
          "text": [
            "\rTraining:  32%|███▏      | 92/287 [00:51<01:50,  1.77it/s]"
          ],
          "name": "stderr"
        },
        {
          "output_type": "stream",
          "text": [
            "32\n",
            "tensor([[50258, 50258, 50258,  ..., 50259, 50259, 50259],\n",
            "        [50258, 50258, 50258,  ..., 50259, 50259, 50259],\n",
            "        [50258, 50258, 50258,  ..., 50259, 50259, 50259],\n",
            "        ...,\n",
            "        [50258, 50258, 50258,  ..., 50259, 50259, 50259],\n",
            "        [50258, 50258, 50258,  ..., 50259, 50259, 50259],\n",
            "        [50258, 50258, 50258,  ..., 50259, 50259, 50259]], device='cuda:0')\n"
          ],
          "name": "stdout"
        },
        {
          "output_type": "stream",
          "text": [
            "\rTraining:  32%|███▏      | 93/287 [00:52<01:49,  1.77it/s]"
          ],
          "name": "stderr"
        },
        {
          "output_type": "stream",
          "text": [
            "32\n",
            "tensor([[50258, 50258, 50258,  ..., 50259, 50259, 50259],\n",
            "        [50258, 50258, 50258,  ..., 50259, 50259, 50259],\n",
            "        [50258, 50258, 50258,  ..., 50259, 50259, 50259],\n",
            "        ...,\n",
            "        [50258, 50258, 50258,  ..., 50259, 50259, 50259],\n",
            "        [50258, 50258, 50258,  ..., 50259, 50259, 50259],\n",
            "        [50258, 50258, 50258,  ..., 50259, 50259, 50259]], device='cuda:0')\n"
          ],
          "name": "stdout"
        },
        {
          "output_type": "stream",
          "text": [
            "\rTraining:  33%|███▎      | 94/287 [00:53<01:49,  1.77it/s]"
          ],
          "name": "stderr"
        },
        {
          "output_type": "stream",
          "text": [
            "32\n",
            "tensor([[50258, 50258, 50258,  ..., 50259, 50259, 50259],\n",
            "        [50258, 50258, 50258,  ..., 50259, 50259, 50259],\n",
            "        [50258, 50258, 50258,  ..., 50259, 50259, 50259],\n",
            "        ...,\n",
            "        [50258, 50258, 50258,  ..., 50259, 50259, 50259],\n",
            "        [50258, 50258, 50258,  ..., 50259, 50259, 50259],\n",
            "        [50258, 50258, 50258,  ..., 50259, 50259, 50259]], device='cuda:0')\n"
          ],
          "name": "stdout"
        },
        {
          "output_type": "stream",
          "text": [
            "\rTraining:  33%|███▎      | 95/287 [00:53<01:48,  1.77it/s]"
          ],
          "name": "stderr"
        },
        {
          "output_type": "stream",
          "text": [
            "32\n",
            "tensor([[50258, 50258, 50258,  ..., 50259, 50259, 50259],\n",
            "        [50258, 50258, 50258,  ..., 50259, 50259, 50259],\n",
            "        [50258, 50258, 50258,  ..., 50259, 50259, 50259],\n",
            "        ...,\n",
            "        [50258, 50258, 50258,  ..., 50259, 50259, 50259],\n",
            "        [50258, 50258, 50258,  ..., 50259, 50259, 50259],\n",
            "        [50258, 50258, 50258,  ..., 50259, 50259, 50259]], device='cuda:0')\n"
          ],
          "name": "stdout"
        },
        {
          "output_type": "stream",
          "text": [
            "\rTraining:  33%|███▎      | 96/287 [00:54<01:48,  1.77it/s]"
          ],
          "name": "stderr"
        },
        {
          "output_type": "stream",
          "text": [
            "32\n",
            "tensor([[50258, 50258, 50258,  ..., 50259, 50259, 50259],\n",
            "        [50258, 50258, 50258,  ..., 50259, 50259, 50259],\n",
            "        [50258, 50258, 50258,  ..., 50259, 50259, 50259],\n",
            "        ...,\n",
            "        [50258, 50258, 50258,  ..., 50259, 50259, 50259],\n",
            "        [50258, 50258, 50258,  ..., 50259, 50259, 50259],\n",
            "        [50258, 50258, 50258,  ..., 50259, 50259, 50259]], device='cuda:0')\n"
          ],
          "name": "stdout"
        },
        {
          "output_type": "stream",
          "text": [
            "\rTraining:  34%|███▍      | 97/287 [00:54<01:47,  1.77it/s]"
          ],
          "name": "stderr"
        },
        {
          "output_type": "stream",
          "text": [
            "32\n",
            "tensor([[50258, 50258, 50258,  ..., 50259, 50259, 50259],\n",
            "        [50258, 50258, 50258,  ..., 50259, 50259, 50259],\n",
            "        [50258, 50258, 50258,  ..., 50259, 50259, 50259],\n",
            "        ...,\n",
            "        [50258, 50258, 50258,  ..., 50259, 50259, 50259],\n",
            "        [50258, 50258, 50258,  ..., 50259, 50259, 50259],\n",
            "        [50258, 50258, 50258,  ..., 50259, 50259, 50259]], device='cuda:0')\n"
          ],
          "name": "stdout"
        },
        {
          "output_type": "stream",
          "text": [
            "\rTraining:  34%|███▍      | 98/287 [00:55<01:46,  1.77it/s]"
          ],
          "name": "stderr"
        },
        {
          "output_type": "stream",
          "text": [
            "32\n",
            "tensor([[50258, 50258, 50258,  ..., 50259, 50259, 50259],\n",
            "        [50258, 50258, 50258,  ..., 50259, 50259, 50259],\n",
            "        [50258, 50258, 50258,  ..., 50259, 50259, 50259],\n",
            "        ...,\n",
            "        [50258, 50258, 50258,  ..., 50259, 50259, 50259],\n",
            "        [50258, 50258, 50258,  ..., 50259, 50259, 50259],\n",
            "        [50258, 50258, 50258,  ..., 50259, 50259, 50259]], device='cuda:0')\n"
          ],
          "name": "stdout"
        },
        {
          "output_type": "stream",
          "text": [
            "\rTraining:  34%|███▍      | 99/287 [00:55<01:46,  1.77it/s]"
          ],
          "name": "stderr"
        },
        {
          "output_type": "stream",
          "text": [
            "32\n",
            "tensor([[50258, 50258, 50258,  ..., 50259, 50259, 50259],\n",
            "        [50258, 50258, 50258,  ..., 50259, 50259, 50259],\n",
            "        [50258, 50258, 50258,  ..., 50259, 50259, 50259],\n",
            "        ...,\n",
            "        [50258, 50258, 50258,  ..., 50259, 50259, 50259],\n",
            "        [50258, 50258, 50258,  ..., 50259, 50259, 50259],\n",
            "        [50258, 50258, 50258,  ..., 50259, 50259, 50259]], device='cuda:0')\n"
          ],
          "name": "stdout"
        },
        {
          "output_type": "stream",
          "text": [
            "\rTraining:  35%|███▍      | 100/287 [00:56<01:45,  1.77it/s]"
          ],
          "name": "stderr"
        },
        {
          "output_type": "stream",
          "text": [
            "32\n",
            "tensor([[50258, 50258, 50258,  ..., 50259, 50259, 50259],\n",
            "        [50258, 50258, 50258,  ..., 50259, 50259, 50259],\n",
            "        [50258, 50258, 50258,  ..., 50259, 50259, 50259],\n",
            "        ...,\n",
            "        [50258, 50258, 50258,  ..., 50259, 50259, 50259],\n",
            "        [50258, 50258, 50258,  ..., 50259, 50259, 50259],\n",
            "        [50258, 50258, 50258,  ..., 50259, 50259, 50259]], device='cuda:0')\n"
          ],
          "name": "stdout"
        },
        {
          "output_type": "stream",
          "text": [
            "\rTraining:  35%|███▌      | 101/287 [00:56<01:45,  1.77it/s]"
          ],
          "name": "stderr"
        },
        {
          "output_type": "stream",
          "text": [
            "32\n",
            "tensor([[50258, 50258, 50258,  ..., 50259, 50259, 50259],\n",
            "        [50258, 50258, 50258,  ..., 50259, 50259, 50259],\n",
            "        [50258, 50258, 50258,  ..., 50259, 50259, 50259],\n",
            "        ...,\n",
            "        [50258, 50258, 50258,  ..., 50259, 50259, 50259],\n",
            "        [50258, 50258, 50258,  ..., 50259, 50259, 50259],\n",
            "        [50258, 50258, 50258,  ..., 50259, 50259, 50259]], device='cuda:0')\n"
          ],
          "name": "stdout"
        },
        {
          "output_type": "stream",
          "text": [
            "\rTraining:  36%|███▌      | 102/287 [00:57<01:44,  1.77it/s]"
          ],
          "name": "stderr"
        },
        {
          "output_type": "stream",
          "text": [
            "32\n",
            "tensor([[50258, 50258, 50258,  ..., 50259, 50259, 50259],\n",
            "        [50258, 50258, 50258,  ..., 50259, 50259, 50259],\n",
            "        [50258, 50258, 50258,  ..., 50259, 50259, 50259],\n",
            "        ...,\n",
            "        [50258, 50258, 50258,  ..., 50259, 50259, 50259],\n",
            "        [50258, 50258, 50258,  ..., 50259, 50259, 50259],\n",
            "        [50258, 50258, 50258,  ..., 50259, 50259, 50259]], device='cuda:0')\n"
          ],
          "name": "stdout"
        },
        {
          "output_type": "stream",
          "text": [
            "\rTraining:  36%|███▌      | 103/287 [00:58<01:44,  1.76it/s]"
          ],
          "name": "stderr"
        },
        {
          "output_type": "stream",
          "text": [
            "32\n",
            "tensor([[50258, 50258, 50258,  ..., 50259, 50259, 50259],\n",
            "        [50258, 50258, 50258,  ..., 50259, 50259, 50259],\n",
            "        [50258, 50258, 50258,  ..., 50259, 50259, 50259],\n",
            "        ...,\n",
            "        [50258, 50258, 50258,  ..., 50259, 50259, 50259],\n",
            "        [50258, 50258, 50258,  ..., 50259, 50259, 50259],\n",
            "        [50258, 50258, 50258,  ..., 50259, 50259, 50259]], device='cuda:0')\n"
          ],
          "name": "stdout"
        },
        {
          "output_type": "stream",
          "text": [
            "\rTraining:  36%|███▌      | 104/287 [00:58<01:43,  1.77it/s]"
          ],
          "name": "stderr"
        },
        {
          "output_type": "stream",
          "text": [
            "32\n",
            "tensor([[50258, 50258, 50258,  ..., 50259, 50259, 50259],\n",
            "        [50258, 50258, 50258,  ..., 50259, 50259, 50259],\n",
            "        [50258, 50258, 50258,  ..., 50259, 50259, 50259],\n",
            "        ...,\n",
            "        [50258, 50258, 50258,  ..., 50259, 50259, 50259],\n",
            "        [50258, 50258, 50258,  ..., 50259, 50259, 50259],\n",
            "        [50258, 50258, 50258,  ..., 50259, 50259, 50259]], device='cuda:0')\n"
          ],
          "name": "stdout"
        },
        {
          "output_type": "stream",
          "text": [
            "\rTraining:  37%|███▋      | 105/287 [00:59<01:43,  1.77it/s]"
          ],
          "name": "stderr"
        },
        {
          "output_type": "stream",
          "text": [
            "32\n",
            "tensor([[50258, 50258, 50258,  ..., 50259, 50259, 50259],\n",
            "        [50258, 50258, 50258,  ..., 50259, 50259, 50259],\n",
            "        [50258, 50258, 50258,  ..., 50259, 50259, 50259],\n",
            "        ...,\n",
            "        [50258, 50258, 50258,  ..., 50259, 50259, 50259],\n",
            "        [50258, 50258, 50258,  ..., 50259, 50259, 50259],\n",
            "        [50258, 50258, 50258,  ..., 50259, 50259, 50259]], device='cuda:0')\n"
          ],
          "name": "stdout"
        },
        {
          "output_type": "stream",
          "text": [
            "\rTraining:  37%|███▋      | 106/287 [00:59<01:42,  1.77it/s]"
          ],
          "name": "stderr"
        },
        {
          "output_type": "stream",
          "text": [
            "32\n",
            "tensor([[50258, 50258, 50258,  ..., 50259, 50259, 50259],\n",
            "        [50258, 50258, 50258,  ..., 50259, 50259, 50259],\n",
            "        [50258, 50258, 50258,  ..., 50259, 50259, 50259],\n",
            "        ...,\n",
            "        [50258, 50258, 50258,  ..., 50259, 50259, 50259],\n",
            "        [50258, 50258, 50258,  ..., 50259, 50259, 50259],\n",
            "        [50258, 50258, 50258,  ..., 50259, 50259, 50259]], device='cuda:0')\n"
          ],
          "name": "stdout"
        },
        {
          "output_type": "stream",
          "text": [
            "\rTraining:  37%|███▋      | 107/287 [01:00<01:41,  1.77it/s]"
          ],
          "name": "stderr"
        },
        {
          "output_type": "stream",
          "text": [
            "32\n",
            "tensor([[50258, 50258, 50258,  ..., 50259, 50259, 50259],\n",
            "        [50258, 50258, 50258,  ..., 50259, 50259, 50259],\n",
            "        [50258, 50258, 50258,  ..., 50259, 50259, 50259],\n",
            "        ...,\n",
            "        [50258, 50258, 50258,  ..., 50259, 50259, 50259],\n",
            "        [50258, 50258, 50258,  ..., 50259, 50259, 50259],\n",
            "        [50258, 50258, 50258,  ..., 50259, 50259, 50259]], device='cuda:0')\n"
          ],
          "name": "stdout"
        },
        {
          "output_type": "stream",
          "text": [
            "\rTraining:  38%|███▊      | 108/287 [01:00<01:41,  1.77it/s]"
          ],
          "name": "stderr"
        },
        {
          "output_type": "stream",
          "text": [
            "32\n",
            "tensor([[50258, 50258, 50258,  ..., 50259, 50259, 50259],\n",
            "        [50258, 50258, 50258,  ..., 50259, 50259, 50259],\n",
            "        [50258, 50258, 50258,  ..., 50259, 50259, 50259],\n",
            "        ...,\n",
            "        [50258, 50258, 50258,  ..., 50259, 50259, 50259],\n",
            "        [50258, 50258, 50258,  ..., 50259, 50259, 50259],\n",
            "        [50258, 50258, 50258,  ..., 50259, 50259, 50259]], device='cuda:0')\n"
          ],
          "name": "stdout"
        },
        {
          "output_type": "stream",
          "text": [
            "\rTraining:  38%|███▊      | 109/287 [01:01<01:40,  1.77it/s]"
          ],
          "name": "stderr"
        },
        {
          "output_type": "stream",
          "text": [
            "32\n",
            "tensor([[50258, 50258, 50258,  ..., 50259, 50259, 50259],\n",
            "        [50258, 50258, 50258,  ..., 50259, 50259, 50259],\n",
            "        [50258, 50258, 50258,  ..., 50259, 50259, 50259],\n",
            "        ...,\n",
            "        [50258, 50258, 50258,  ..., 50259, 50259, 50259],\n",
            "        [50258, 50258, 50258,  ..., 50259, 50259, 50259],\n",
            "        [50258, 50258, 50258,  ..., 50259, 50259, 50259]], device='cuda:0')\n"
          ],
          "name": "stdout"
        },
        {
          "output_type": "stream",
          "text": [
            "\rTraining:  38%|███▊      | 110/287 [01:02<01:40,  1.77it/s]"
          ],
          "name": "stderr"
        },
        {
          "output_type": "stream",
          "text": [
            "32\n",
            "tensor([[50258, 50258, 50258,  ..., 50259, 50259, 50259],\n",
            "        [50258, 50258, 50258,  ..., 50259, 50259, 50259],\n",
            "        [50258, 50258, 50258,  ..., 50259, 50259, 50259],\n",
            "        ...,\n",
            "        [50258, 50258, 50258,  ..., 50259, 50259, 50259],\n",
            "        [50258, 50258, 50258,  ..., 50259, 50259, 50259],\n",
            "        [50258, 50258, 50258,  ..., 50259, 50259, 50259]], device='cuda:0')\n"
          ],
          "name": "stdout"
        },
        {
          "output_type": "stream",
          "text": [
            "\rTraining:  39%|███▊      | 111/287 [01:02<01:39,  1.77it/s]"
          ],
          "name": "stderr"
        },
        {
          "output_type": "stream",
          "text": [
            "32\n",
            "tensor([[50258, 50258, 50258,  ..., 50259, 50259, 50259],\n",
            "        [50258, 50258, 50258,  ..., 50259, 50259, 50259],\n",
            "        [50258, 50258, 50258,  ..., 50259, 50259, 50259],\n",
            "        ...,\n",
            "        [50258, 50258, 50258,  ..., 50259, 50259, 50259],\n",
            "        [50258, 50258, 50258,  ..., 50259, 50259, 50259],\n",
            "        [50258, 50258, 50258,  ..., 50259, 50259, 50259]], device='cuda:0')\n"
          ],
          "name": "stdout"
        },
        {
          "output_type": "stream",
          "text": [
            "\rTraining:  39%|███▉      | 112/287 [01:03<01:38,  1.77it/s]"
          ],
          "name": "stderr"
        },
        {
          "output_type": "stream",
          "text": [
            "32\n",
            "tensor([[50258, 50258, 50258,  ..., 50259, 50259, 50259],\n",
            "        [50258, 50258, 50258,  ..., 50259, 50259, 50259],\n",
            "        [50258, 50258, 50258,  ..., 50259, 50259, 50259],\n",
            "        ...,\n",
            "        [50258, 50258, 50258,  ..., 50259, 50259, 50259],\n",
            "        [50258, 50258, 50258,  ..., 50259, 50259, 50259],\n",
            "        [50258, 50258, 50258,  ..., 50259, 50259, 50259]], device='cuda:0')\n"
          ],
          "name": "stdout"
        },
        {
          "output_type": "stream",
          "text": [
            "\rTraining:  39%|███▉      | 113/287 [01:03<01:38,  1.77it/s]"
          ],
          "name": "stderr"
        },
        {
          "output_type": "stream",
          "text": [
            "32\n",
            "tensor([[50258, 50258, 50258,  ..., 50259, 50259, 50259],\n",
            "        [50258, 50258, 50258,  ..., 50259, 50259, 50259],\n",
            "        [50258, 50258, 50258,  ..., 50259, 50259, 50259],\n",
            "        ...,\n",
            "        [50258, 50258, 50258,  ..., 50259, 50259, 50259],\n",
            "        [50258, 50258, 50258,  ..., 50259, 50259, 50259],\n",
            "        [50258, 50258, 50258,  ..., 50259, 50259, 50259]], device='cuda:0')\n"
          ],
          "name": "stdout"
        },
        {
          "output_type": "stream",
          "text": [
            "\rTraining:  40%|███▉      | 114/287 [01:04<01:37,  1.77it/s]"
          ],
          "name": "stderr"
        },
        {
          "output_type": "stream",
          "text": [
            "32\n",
            "tensor([[50258, 50258, 50258,  ..., 50259, 50259, 50259],\n",
            "        [50258, 50258, 50258,  ..., 50259, 50259, 50259],\n",
            "        [50258, 50258, 50258,  ..., 50259, 50259, 50259],\n",
            "        ...,\n",
            "        [50258, 50258, 50258,  ..., 50259, 50259, 50259],\n",
            "        [50258, 50258, 50258,  ..., 50259, 50259, 50259],\n",
            "        [50258, 50258, 50258,  ..., 50259, 50259, 50259]], device='cuda:0')\n"
          ],
          "name": "stdout"
        },
        {
          "output_type": "stream",
          "text": [
            "\rTraining:  40%|████      | 115/287 [01:04<01:37,  1.77it/s]"
          ],
          "name": "stderr"
        },
        {
          "output_type": "stream",
          "text": [
            "32\n",
            "tensor([[50258, 50258, 50258,  ..., 50259, 50259, 50259],\n",
            "        [50258, 50258, 50258,  ..., 50259, 50259, 50259],\n",
            "        [50258, 50258, 50258,  ..., 50259, 50259, 50259],\n",
            "        ...,\n",
            "        [50258, 50258, 50258,  ..., 50259, 50259, 50259],\n",
            "        [50258, 50258, 50258,  ..., 50259, 50259, 50259],\n",
            "        [50258, 50258, 50258,  ..., 50259, 50259, 50259]], device='cuda:0')\n"
          ],
          "name": "stdout"
        },
        {
          "output_type": "stream",
          "text": [
            "\rTraining:  40%|████      | 116/287 [01:05<01:36,  1.77it/s]"
          ],
          "name": "stderr"
        },
        {
          "output_type": "stream",
          "text": [
            "32\n",
            "tensor([[50258, 50258, 50258,  ..., 50259, 50259, 50259],\n",
            "        [50258, 50258, 50258,  ..., 50259, 50259, 50259],\n",
            "        [50258, 50258, 50258,  ..., 50259, 50259, 50259],\n",
            "        ...,\n",
            "        [50258, 50258, 50258,  ..., 50259, 50259, 50259],\n",
            "        [50258, 50258, 50258,  ..., 50259, 50259, 50259],\n",
            "        [50258, 50258, 50258,  ..., 50259, 50259, 50259]], device='cuda:0')\n"
          ],
          "name": "stdout"
        },
        {
          "output_type": "stream",
          "text": [
            "\rTraining:  41%|████      | 117/287 [01:06<01:36,  1.76it/s]"
          ],
          "name": "stderr"
        },
        {
          "output_type": "stream",
          "text": [
            "32\n",
            "tensor([[50258, 50258, 50258,  ..., 50259, 50259, 50259],\n",
            "        [50258, 50258, 50258,  ..., 50259, 50259, 50259],\n",
            "        [50258, 50258, 50258,  ..., 50259, 50259, 50259],\n",
            "        ...,\n",
            "        [50258, 50258, 50258,  ..., 50259, 50259, 50259],\n",
            "        [50258, 50258, 50258,  ..., 50259, 50259, 50259],\n",
            "        [50258, 50258, 50258,  ..., 50259, 50259, 50259]], device='cuda:0')\n"
          ],
          "name": "stdout"
        },
        {
          "output_type": "stream",
          "text": [
            "\rTraining:  41%|████      | 118/287 [01:06<01:35,  1.77it/s]"
          ],
          "name": "stderr"
        },
        {
          "output_type": "stream",
          "text": [
            "32\n",
            "tensor([[50258, 50258, 50258,  ..., 50259, 50259, 50259],\n",
            "        [50258, 50258, 50258,  ..., 50259, 50259, 50259],\n",
            "        [50258, 50258, 50258,  ..., 50259, 50259, 50259],\n",
            "        ...,\n",
            "        [50258, 50258, 50258,  ..., 50259, 50259, 50259],\n",
            "        [50258, 50258, 50258,  ..., 50259, 50259, 50259],\n",
            "        [50258, 50258, 50258,  ..., 50259, 50259, 50259]], device='cuda:0')\n"
          ],
          "name": "stdout"
        },
        {
          "output_type": "stream",
          "text": [
            "\rTraining:  41%|████▏     | 119/287 [01:07<01:34,  1.77it/s]"
          ],
          "name": "stderr"
        },
        {
          "output_type": "stream",
          "text": [
            "32\n",
            "tensor([[50258, 50258, 50258,  ..., 50259, 50259, 50259],\n",
            "        [50258, 50258, 50258,  ..., 50259, 50259, 50259],\n",
            "        [50258, 50258, 50258,  ..., 50259, 50259, 50259],\n",
            "        ...,\n",
            "        [50258, 50258, 50258,  ..., 50259, 50259, 50259],\n",
            "        [50258, 50258, 50258,  ..., 50259, 50259, 50259],\n",
            "        [50258, 50258, 50258,  ..., 50259, 50259, 50259]], device='cuda:0')\n"
          ],
          "name": "stdout"
        },
        {
          "output_type": "stream",
          "text": [
            "\rTraining:  42%|████▏     | 120/287 [01:07<01:34,  1.77it/s]"
          ],
          "name": "stderr"
        },
        {
          "output_type": "stream",
          "text": [
            "32\n",
            "tensor([[50258, 50258, 50258,  ..., 50259, 50259, 50259],\n",
            "        [50258, 50258, 50258,  ..., 50259, 50259, 50259],\n",
            "        [50258, 50258, 50258,  ..., 50259, 50259, 50259],\n",
            "        ...,\n",
            "        [50258, 50258, 50258,  ..., 50259, 50259, 50259],\n",
            "        [50258, 50258, 50258,  ..., 50259, 50259, 50259],\n",
            "        [50258, 50258, 50258,  ..., 50259, 50259, 50259]], device='cuda:0')\n"
          ],
          "name": "stdout"
        },
        {
          "output_type": "stream",
          "text": [
            "\rTraining:  42%|████▏     | 121/287 [01:08<01:33,  1.77it/s]"
          ],
          "name": "stderr"
        },
        {
          "output_type": "stream",
          "text": [
            "32\n",
            "tensor([[50258, 50258, 50258,  ..., 50259, 50259, 50259],\n",
            "        [50258, 50258, 50258,  ..., 50259, 50259, 50259],\n",
            "        [50258, 50258, 50258,  ..., 50259, 50259, 50259],\n",
            "        ...,\n",
            "        [50258, 50258, 50258,  ..., 50259, 50259, 50259],\n",
            "        [50258, 50258, 50258,  ..., 50259, 50259, 50259],\n",
            "        [50258, 50258, 50258,  ..., 50259, 50259, 50259]], device='cuda:0')\n"
          ],
          "name": "stdout"
        },
        {
          "output_type": "stream",
          "text": [
            "\rTraining:  43%|████▎     | 122/287 [01:08<01:33,  1.77it/s]"
          ],
          "name": "stderr"
        },
        {
          "output_type": "stream",
          "text": [
            "32\n",
            "tensor([[50258, 50258, 50258,  ..., 50259, 50259, 50259],\n",
            "        [50258, 50258, 50258,  ..., 50259, 50259, 50259],\n",
            "        [50258, 50258, 50258,  ..., 50259, 50259, 50259],\n",
            "        ...,\n",
            "        [50258, 50258, 50258,  ..., 50259, 50259, 50259],\n",
            "        [50258, 50258, 50258,  ..., 50259, 50259, 50259],\n",
            "        [50258, 50258, 50258,  ..., 50259, 50259, 50259]], device='cuda:0')\n"
          ],
          "name": "stdout"
        },
        {
          "output_type": "stream",
          "text": [
            "\rTraining:  43%|████▎     | 123/287 [01:09<01:32,  1.77it/s]"
          ],
          "name": "stderr"
        },
        {
          "output_type": "stream",
          "text": [
            "32\n",
            "tensor([[50258, 50258, 50258,  ..., 50259, 50259, 50259],\n",
            "        [50258, 50258, 50258,  ..., 50259, 50259, 50259],\n",
            "        [50258, 50258, 50258,  ..., 50259, 50259, 50259],\n",
            "        ...,\n",
            "        [50258, 50258, 50258,  ..., 50259, 50259, 50259],\n",
            "        [50258, 50258, 50258,  ..., 50259, 50259, 50259],\n",
            "        [50258, 50258, 50258,  ..., 50259, 50259, 50259]], device='cuda:0')\n"
          ],
          "name": "stdout"
        },
        {
          "output_type": "stream",
          "text": [
            "\rTraining:  43%|████▎     | 124/287 [01:09<01:32,  1.76it/s]"
          ],
          "name": "stderr"
        },
        {
          "output_type": "stream",
          "text": [
            "32\n",
            "tensor([[50258, 50258, 50258,  ..., 50259, 50259, 50259],\n",
            "        [50258, 50258, 50258,  ..., 50259, 50259, 50259],\n",
            "        [50258, 50258, 50258,  ..., 50259, 50259, 50259],\n",
            "        ...,\n",
            "        [50258, 50258, 50258,  ..., 50259, 50259, 50259],\n",
            "        [50258, 50258, 50258,  ..., 50259, 50259, 50259],\n",
            "        [50258, 50258, 50258,  ..., 50259, 50259, 50259]], device='cuda:0')\n"
          ],
          "name": "stdout"
        },
        {
          "output_type": "stream",
          "text": [
            "\rTraining:  44%|████▎     | 125/287 [01:10<01:31,  1.77it/s]"
          ],
          "name": "stderr"
        },
        {
          "output_type": "stream",
          "text": [
            "32\n",
            "tensor([[50258, 50258, 50258,  ..., 50259, 50259, 50259],\n",
            "        [50258, 50258, 50258,  ..., 50259, 50259, 50259],\n",
            "        [50258, 50258, 50258,  ..., 50259, 50259, 50259],\n",
            "        ...,\n",
            "        [50258, 50258, 50258,  ..., 50259, 50259, 50259],\n",
            "        [50258, 50258, 50258,  ..., 50259, 50259, 50259],\n",
            "        [50258, 50258, 50258,  ..., 50259, 50259, 50259]], device='cuda:0')\n"
          ],
          "name": "stdout"
        },
        {
          "output_type": "stream",
          "text": [
            "\rTraining:  44%|████▍     | 126/287 [01:11<01:31,  1.76it/s]"
          ],
          "name": "stderr"
        },
        {
          "output_type": "stream",
          "text": [
            "32\n",
            "tensor([[50258, 50258, 50258,  ..., 50259, 50259, 50259],\n",
            "        [50258, 50258, 50258,  ..., 50259, 50259, 50259],\n",
            "        [50258, 50258, 50258,  ..., 50259, 50259, 50259],\n",
            "        ...,\n",
            "        [50258, 50258, 50258,  ..., 50259, 50259, 50259],\n",
            "        [50258, 50258, 50258,  ..., 50259, 50259, 50259],\n",
            "        [50258, 50258, 50258,  ..., 50259, 50259, 50259]], device='cuda:0')\n"
          ],
          "name": "stdout"
        },
        {
          "output_type": "stream",
          "text": [
            "\rTraining:  44%|████▍     | 127/287 [01:11<01:30,  1.77it/s]"
          ],
          "name": "stderr"
        },
        {
          "output_type": "stream",
          "text": [
            "32\n",
            "tensor([[50258, 50258, 50258,  ..., 50259, 50259, 50259],\n",
            "        [50258, 50258, 50258,  ..., 50259, 50259, 50259],\n",
            "        [50258, 50258, 50258,  ..., 50259, 50259, 50259],\n",
            "        ...,\n",
            "        [50258, 50258, 50258,  ..., 50259, 50259, 50259],\n",
            "        [50258, 50258, 50258,  ..., 50259, 50259, 50259],\n",
            "        [50258, 50258, 50258,  ..., 50259, 50259, 50259]], device='cuda:0')\n"
          ],
          "name": "stdout"
        },
        {
          "output_type": "stream",
          "text": [
            "\rTraining:  45%|████▍     | 128/287 [01:12<01:30,  1.76it/s]"
          ],
          "name": "stderr"
        },
        {
          "output_type": "stream",
          "text": [
            "32\n",
            "tensor([[50258, 50258, 50258,  ..., 50259, 50259, 50259],\n",
            "        [50258, 50258, 50258,  ..., 50259, 50259, 50259],\n",
            "        [50258, 50258, 50258,  ..., 50259, 50259, 50259],\n",
            "        ...,\n",
            "        [50258, 50258, 50258,  ..., 50259, 50259, 50259],\n",
            "        [50258, 50258, 50258,  ..., 50259, 50259, 50259],\n",
            "        [50258, 50258, 50258,  ..., 50259, 50259, 50259]], device='cuda:0')\n"
          ],
          "name": "stdout"
        },
        {
          "output_type": "stream",
          "text": [
            "\rTraining:  45%|████▍     | 129/287 [01:12<01:29,  1.77it/s]"
          ],
          "name": "stderr"
        },
        {
          "output_type": "stream",
          "text": [
            "32\n",
            "tensor([[50258, 50258, 50258,  ..., 50259, 50259, 50259],\n",
            "        [50258, 50258, 50258,  ..., 50259, 50259, 50259],\n",
            "        [50258, 50258, 50258,  ..., 50259, 50259, 50259],\n",
            "        ...,\n",
            "        [50258, 50258, 50258,  ..., 50259, 50259, 50259],\n",
            "        [50258, 50258, 50258,  ..., 50259, 50259, 50259],\n",
            "        [50258, 50258, 50258,  ..., 50259, 50259, 50259]], device='cuda:0')\n"
          ],
          "name": "stdout"
        },
        {
          "output_type": "stream",
          "text": [
            "\rTraining:  45%|████▌     | 130/287 [01:13<01:28,  1.77it/s]"
          ],
          "name": "stderr"
        },
        {
          "output_type": "stream",
          "text": [
            "32\n",
            "tensor([[50258, 50258, 50258,  ..., 50259, 50259, 50259],\n",
            "        [50258, 50258, 50258,  ..., 50259, 50259, 50259],\n",
            "        [50258, 50258, 50258,  ..., 50259, 50259, 50259],\n",
            "        ...,\n",
            "        [50258, 50258, 50258,  ..., 50259, 50259, 50259],\n",
            "        [50258, 50258, 50258,  ..., 50259, 50259, 50259],\n",
            "        [50258, 50258, 50258,  ..., 50259, 50259, 50259]], device='cuda:0')\n"
          ],
          "name": "stdout"
        },
        {
          "output_type": "stream",
          "text": [
            "\rTraining:  46%|████▌     | 131/287 [01:13<01:28,  1.77it/s]"
          ],
          "name": "stderr"
        },
        {
          "output_type": "stream",
          "text": [
            "32\n",
            "tensor([[50258, 50258, 50258,  ..., 50259, 50259, 50259],\n",
            "        [50258, 50258, 50258,  ..., 50259, 50259, 50259],\n",
            "        [50258, 50258, 50258,  ..., 50259, 50259, 50259],\n",
            "        ...,\n",
            "        [50258, 50258, 50258,  ..., 50259, 50259, 50259],\n",
            "        [50258, 50258, 50258,  ..., 50259, 50259, 50259],\n",
            "        [50258, 50258, 50258,  ..., 50259, 50259, 50259]], device='cuda:0')\n"
          ],
          "name": "stdout"
        },
        {
          "output_type": "stream",
          "text": [
            "\rTraining:  46%|████▌     | 132/287 [01:14<01:27,  1.77it/s]"
          ],
          "name": "stderr"
        },
        {
          "output_type": "stream",
          "text": [
            "32\n",
            "tensor([[50258, 50258, 50258,  ..., 50259, 50259, 50259],\n",
            "        [50258, 50258, 50258,  ..., 50259, 50259, 50259],\n",
            "        [50258, 50258, 50258,  ..., 50259, 50259, 50259],\n",
            "        ...,\n",
            "        [50258, 50258, 50258,  ..., 50259, 50259, 50259],\n",
            "        [50258, 50258, 50258,  ..., 50259, 50259, 50259],\n",
            "        [50258, 50258, 50258,  ..., 50259, 50259, 50259]], device='cuda:0')\n"
          ],
          "name": "stdout"
        },
        {
          "output_type": "stream",
          "text": [
            "\rTraining:  46%|████▋     | 133/287 [01:15<01:26,  1.77it/s]"
          ],
          "name": "stderr"
        },
        {
          "output_type": "stream",
          "text": [
            "32\n",
            "tensor([[50258, 50258, 50258,  ..., 50259, 50259, 50259],\n",
            "        [50258, 50258, 50258,  ..., 50259, 50259, 50259],\n",
            "        [50258, 50258, 50258,  ..., 50259, 50259, 50259],\n",
            "        ...,\n",
            "        [50258, 50258, 50258,  ..., 50259, 50259, 50259],\n",
            "        [50258, 50258, 50258,  ..., 50259, 50259, 50259],\n",
            "        [50258, 50258, 50258,  ..., 50259, 50259, 50259]], device='cuda:0')\n"
          ],
          "name": "stdout"
        },
        {
          "output_type": "stream",
          "text": [
            "\rTraining:  47%|████▋     | 134/287 [01:15<01:26,  1.77it/s]"
          ],
          "name": "stderr"
        },
        {
          "output_type": "stream",
          "text": [
            "32\n",
            "tensor([[50258, 50258, 50258,  ..., 50259, 50259, 50259],\n",
            "        [50258, 50258, 50258,  ..., 50259, 50259, 50259],\n",
            "        [50258, 50258, 50258,  ..., 50259, 50259, 50259],\n",
            "        ...,\n",
            "        [50258, 50258, 50258,  ..., 50259, 50259, 50259],\n",
            "        [50258, 50258, 50258,  ..., 50259, 50259, 50259],\n",
            "        [50258, 50258, 50258,  ..., 50259, 50259, 50259]], device='cuda:0')\n"
          ],
          "name": "stdout"
        },
        {
          "output_type": "stream",
          "text": [
            "\rTraining:  47%|████▋     | 135/287 [01:16<01:25,  1.77it/s]"
          ],
          "name": "stderr"
        },
        {
          "output_type": "stream",
          "text": [
            "32\n",
            "tensor([[50258, 50258, 50258,  ..., 50259, 50259, 50259],\n",
            "        [50258, 50258, 50258,  ..., 50259, 50259, 50259],\n",
            "        [50258, 50258, 50258,  ..., 50259, 50259, 50259],\n",
            "        ...,\n",
            "        [50258, 50258, 50258,  ..., 50259, 50259, 50259],\n",
            "        [50258, 50258, 50258,  ..., 50259, 50259, 50259],\n",
            "        [50258, 50258, 50258,  ..., 50259, 50259, 50259]], device='cuda:0')\n"
          ],
          "name": "stdout"
        },
        {
          "output_type": "stream",
          "text": [
            "\rTraining:  47%|████▋     | 136/287 [01:16<01:25,  1.77it/s]"
          ],
          "name": "stderr"
        },
        {
          "output_type": "stream",
          "text": [
            "32\n",
            "tensor([[50258, 50258, 50258,  ..., 50259, 50259, 50259],\n",
            "        [50258, 50258, 50258,  ..., 50259, 50259, 50259],\n",
            "        [50258, 50258, 50258,  ..., 50259, 50259, 50259],\n",
            "        ...,\n",
            "        [50258, 50258, 50258,  ..., 50259, 50259, 50259],\n",
            "        [50258, 50258, 50258,  ..., 50259, 50259, 50259],\n",
            "        [50258, 50258, 50258,  ..., 50259, 50259, 50259]], device='cuda:0')\n"
          ],
          "name": "stdout"
        },
        {
          "output_type": "stream",
          "text": [
            "\rTraining:  48%|████▊     | 137/287 [01:17<01:24,  1.77it/s]"
          ],
          "name": "stderr"
        },
        {
          "output_type": "stream",
          "text": [
            "32\n",
            "tensor([[50258, 50258, 50258,  ..., 50259, 50259, 50259],\n",
            "        [50258, 50258, 50258,  ..., 50259, 50259, 50259],\n",
            "        [50258, 50258, 50258,  ..., 50259, 50259, 50259],\n",
            "        ...,\n",
            "        [50258, 50258, 50258,  ..., 50259, 50259, 50259],\n",
            "        [50258, 50258, 50258,  ..., 50259, 50259, 50259],\n",
            "        [50258, 50258, 50258,  ..., 50259, 50259, 50259]], device='cuda:0')\n"
          ],
          "name": "stdout"
        },
        {
          "output_type": "stream",
          "text": [
            "\rTraining:  48%|████▊     | 138/287 [01:17<01:24,  1.77it/s]"
          ],
          "name": "stderr"
        },
        {
          "output_type": "stream",
          "text": [
            "32\n",
            "tensor([[50258, 50258, 50258,  ..., 50259, 50259, 50259],\n",
            "        [50258, 50258, 50258,  ..., 50259, 50259, 50259],\n",
            "        [50258, 50258, 50258,  ..., 50259, 50259, 50259],\n",
            "        ...,\n",
            "        [50258, 50258, 50258,  ..., 50259, 50259, 50259],\n",
            "        [50258, 50258, 50258,  ..., 50259, 50259, 50259],\n",
            "        [50258, 50258, 50258,  ..., 50259, 50259, 50259]], device='cuda:0')\n"
          ],
          "name": "stdout"
        },
        {
          "output_type": "stream",
          "text": [
            "\rTraining:  48%|████▊     | 139/287 [01:18<01:23,  1.77it/s]"
          ],
          "name": "stderr"
        },
        {
          "output_type": "stream",
          "text": [
            "32\n",
            "tensor([[50258, 50258, 50258,  ..., 50259, 50259, 50259],\n",
            "        [50258, 50258, 50258,  ..., 50259, 50259, 50259],\n",
            "        [50258, 50258, 50258,  ..., 50259, 50259, 50259],\n",
            "        ...,\n",
            "        [50258, 50258, 50258,  ..., 50259, 50259, 50259],\n",
            "        [50258, 50258, 50258,  ..., 50259, 50259, 50259],\n",
            "        [50258, 50258, 50258,  ..., 50259, 50259, 50259]], device='cuda:0')\n"
          ],
          "name": "stdout"
        },
        {
          "output_type": "stream",
          "text": [
            "\rTraining:  49%|████▉     | 140/287 [01:19<01:23,  1.77it/s]"
          ],
          "name": "stderr"
        },
        {
          "output_type": "stream",
          "text": [
            "32\n",
            "tensor([[50258, 50258, 50258,  ..., 50259, 50259, 50259],\n",
            "        [50258, 50258, 50258,  ..., 50259, 50259, 50259],\n",
            "        [50258, 50258, 50258,  ..., 50259, 50259, 50259],\n",
            "        ...,\n",
            "        [50258, 50258, 50258,  ..., 50259, 50259, 50259],\n",
            "        [50258, 50258, 50258,  ..., 50259, 50259, 50259],\n",
            "        [50258, 50258, 50258,  ..., 50259, 50259, 50259]], device='cuda:0')\n"
          ],
          "name": "stdout"
        },
        {
          "output_type": "stream",
          "text": [
            "\rTraining:  49%|████▉     | 141/287 [01:19<01:22,  1.76it/s]"
          ],
          "name": "stderr"
        },
        {
          "output_type": "stream",
          "text": [
            "32\n",
            "tensor([[50258, 50258, 50258,  ..., 50259, 50259, 50259],\n",
            "        [50258, 50258, 50258,  ..., 50259, 50259, 50259],\n",
            "        [50258, 50258, 50258,  ..., 50259, 50259, 50259],\n",
            "        ...,\n",
            "        [50258, 50258, 50258,  ..., 50259, 50259, 50259],\n",
            "        [50258, 50258, 50258,  ..., 50259, 50259, 50259],\n",
            "        [50258, 50258, 50258,  ..., 50259, 50259, 50259]], device='cuda:0')\n"
          ],
          "name": "stdout"
        },
        {
          "output_type": "stream",
          "text": [
            "\rTraining:  49%|████▉     | 142/287 [01:20<01:22,  1.76it/s]"
          ],
          "name": "stderr"
        },
        {
          "output_type": "stream",
          "text": [
            "32\n",
            "tensor([[50258, 50258, 50258,  ..., 50259, 50259, 50259],\n",
            "        [50258, 50258, 50258,  ..., 50259, 50259, 50259],\n",
            "        [50258, 50258, 50258,  ..., 50259, 50259, 50259],\n",
            "        ...,\n",
            "        [50258, 50258, 50258,  ..., 50259, 50259, 50259],\n",
            "        [50258, 50258, 50258,  ..., 50259, 50259, 50259],\n",
            "        [50258, 50258, 50258,  ..., 50259, 50259, 50259]], device='cuda:0')\n"
          ],
          "name": "stdout"
        },
        {
          "output_type": "stream",
          "text": [
            "\rTraining:  50%|████▉     | 143/287 [01:20<01:21,  1.77it/s]"
          ],
          "name": "stderr"
        },
        {
          "output_type": "stream",
          "text": [
            "32\n",
            "tensor([[50258, 50258, 50258,  ..., 50259, 50259, 50259],\n",
            "        [50258, 50258, 50258,  ..., 50259, 50259, 50259],\n",
            "        [50258, 50258, 50258,  ..., 50259, 50259, 50259],\n",
            "        ...,\n",
            "        [50258, 50258, 50258,  ..., 50259, 50259, 50259],\n",
            "        [50258, 50258, 50258,  ..., 50259, 50259, 50259],\n",
            "        [50258, 50258, 50258,  ..., 50259, 50259, 50259]], device='cuda:0')\n"
          ],
          "name": "stdout"
        },
        {
          "output_type": "stream",
          "text": [
            "\rTraining:  50%|█████     | 144/287 [01:21<01:21,  1.76it/s]"
          ],
          "name": "stderr"
        },
        {
          "output_type": "stream",
          "text": [
            "32\n",
            "tensor([[50258, 50258, 50258,  ..., 50259, 50259, 50259],\n",
            "        [50258, 50258, 50258,  ..., 50259, 50259, 50259],\n",
            "        [50258, 50258, 50258,  ..., 50259, 50259, 50259],\n",
            "        ...,\n",
            "        [50258, 50258, 50258,  ..., 50259, 50259, 50259],\n",
            "        [50258, 50258, 50258,  ..., 50259, 50259, 50259],\n",
            "        [50258, 50258, 50258,  ..., 50259, 50259, 50259]], device='cuda:0')\n"
          ],
          "name": "stdout"
        },
        {
          "output_type": "stream",
          "text": [
            "\rTraining:  51%|█████     | 145/287 [01:21<01:20,  1.77it/s]"
          ],
          "name": "stderr"
        },
        {
          "output_type": "stream",
          "text": [
            "32\n",
            "tensor([[50258, 50258, 50258,  ..., 50259, 50259, 50259],\n",
            "        [50258, 50258, 50258,  ..., 50259, 50259, 50259],\n",
            "        [50258, 50258, 50258,  ..., 50259, 50259, 50259],\n",
            "        ...,\n",
            "        [50258, 50258, 50258,  ..., 50259, 50259, 50259],\n",
            "        [50258, 50258, 50258,  ..., 50259, 50259, 50259],\n",
            "        [50258, 50258, 50258,  ..., 50259, 50259, 50259]], device='cuda:0')\n"
          ],
          "name": "stdout"
        },
        {
          "output_type": "stream",
          "text": [
            "\rTraining:  51%|█████     | 146/287 [01:22<01:20,  1.76it/s]"
          ],
          "name": "stderr"
        },
        {
          "output_type": "stream",
          "text": [
            "32\n",
            "tensor([[50258, 50258, 50258,  ..., 50259, 50259, 50259],\n",
            "        [50258, 50258, 50258,  ..., 50259, 50259, 50259],\n",
            "        [50258, 50258, 50258,  ..., 50259, 50259, 50259],\n",
            "        ...,\n",
            "        [50258, 50258, 50258,  ..., 50259, 50259, 50259],\n",
            "        [50258, 50258, 50258,  ..., 50259, 50259, 50259],\n",
            "        [50258, 50258, 50258,  ..., 50259, 50259, 50259]], device='cuda:0')\n"
          ],
          "name": "stdout"
        },
        {
          "output_type": "stream",
          "text": [
            "\rTraining:  51%|█████     | 147/287 [01:22<01:19,  1.77it/s]"
          ],
          "name": "stderr"
        },
        {
          "output_type": "stream",
          "text": [
            "32\n",
            "tensor([[50258, 50258, 50258,  ..., 50259, 50259, 50259],\n",
            "        [50258, 50258, 50258,  ..., 50259, 50259, 50259],\n",
            "        [50258, 50258, 50258,  ..., 50259, 50259, 50259],\n",
            "        ...,\n",
            "        [50258, 50258, 50258,  ..., 50259, 50259, 50259],\n",
            "        [50258, 50258, 50258,  ..., 50259, 50259, 50259],\n",
            "        [50258, 50258, 50258,  ..., 50259, 50259, 50259]], device='cuda:0')\n"
          ],
          "name": "stdout"
        },
        {
          "output_type": "stream",
          "text": [
            "\rTraining:  52%|█████▏    | 148/287 [01:23<01:18,  1.76it/s]"
          ],
          "name": "stderr"
        },
        {
          "output_type": "stream",
          "text": [
            "32\n",
            "tensor([[50258, 50258, 50258,  ..., 50259, 50259, 50259],\n",
            "        [50258, 50258, 50258,  ..., 50259, 50259, 50259],\n",
            "        [50258, 50258, 50258,  ..., 50259, 50259, 50259],\n",
            "        ...,\n",
            "        [50258, 50258, 50258,  ..., 50259, 50259, 50259],\n",
            "        [50258, 50258, 50258,  ..., 50259, 50259, 50259],\n",
            "        [50258, 50258, 50258,  ..., 50259, 50259, 50259]], device='cuda:0')\n"
          ],
          "name": "stdout"
        },
        {
          "output_type": "stream",
          "text": [
            "\rTraining:  52%|█████▏    | 149/287 [01:24<01:18,  1.77it/s]"
          ],
          "name": "stderr"
        },
        {
          "output_type": "stream",
          "text": [
            "32\n",
            "tensor([[50258, 50258, 50258,  ..., 50259, 50259, 50259],\n",
            "        [50258, 50258, 50258,  ..., 50259, 50259, 50259],\n",
            "        [50258, 50258, 50258,  ..., 50259, 50259, 50259],\n",
            "        ...,\n",
            "        [50258, 50258, 50258,  ..., 50259, 50259, 50259],\n",
            "        [50258, 50258, 50258,  ..., 50259, 50259, 50259],\n",
            "        [50258, 50258, 50258,  ..., 50259, 50259, 50259]], device='cuda:0')\n"
          ],
          "name": "stdout"
        },
        {
          "output_type": "stream",
          "text": [
            "\rTraining:  52%|█████▏    | 150/287 [01:24<01:17,  1.77it/s]"
          ],
          "name": "stderr"
        },
        {
          "output_type": "stream",
          "text": [
            "32\n",
            "tensor([[50258, 50258, 50258,  ..., 50259, 50259, 50259],\n",
            "        [50258, 50258, 50258,  ..., 50259, 50259, 50259],\n",
            "        [50258, 50258, 50258,  ..., 50259, 50259, 50259],\n",
            "        ...,\n",
            "        [50258, 50258, 50258,  ..., 50259, 50259, 50259],\n",
            "        [50258, 50258, 50258,  ..., 50259, 50259, 50259],\n",
            "        [50258, 50258, 50258,  ..., 50259, 50259, 50259]], device='cuda:0')\n"
          ],
          "name": "stdout"
        },
        {
          "output_type": "stream",
          "text": [
            "\rTraining:  53%|█████▎    | 151/287 [01:25<01:16,  1.77it/s]"
          ],
          "name": "stderr"
        },
        {
          "output_type": "stream",
          "text": [
            "32\n",
            "tensor([[50258, 50258, 50258,  ..., 50259, 50259, 50259],\n",
            "        [50258, 50258, 50258,  ..., 50259, 50259, 50259],\n",
            "        [50258, 50258, 50258,  ..., 50259, 50259, 50259],\n",
            "        ...,\n",
            "        [50258, 50258, 50258,  ..., 50259, 50259, 50259],\n",
            "        [50258, 50258, 50258,  ..., 50259, 50259, 50259],\n",
            "        [50258, 50258, 50258,  ..., 50259, 50259, 50259]], device='cuda:0')\n"
          ],
          "name": "stdout"
        },
        {
          "output_type": "stream",
          "text": [
            "\rTraining:  53%|█████▎    | 152/287 [01:25<01:16,  1.77it/s]"
          ],
          "name": "stderr"
        },
        {
          "output_type": "stream",
          "text": [
            "32\n",
            "tensor([[50258, 50258, 50258,  ..., 50259, 50259, 50259],\n",
            "        [50258, 50258, 50258,  ..., 50259, 50259, 50259],\n",
            "        [50258, 50258, 50258,  ..., 50259, 50259, 50259],\n",
            "        ...,\n",
            "        [50258, 50258, 50258,  ..., 50259, 50259, 50259],\n",
            "        [50258, 50258, 50258,  ..., 50259, 50259, 50259],\n",
            "        [50258, 50258, 50258,  ..., 50259, 50259, 50259]], device='cuda:0')\n"
          ],
          "name": "stdout"
        },
        {
          "output_type": "stream",
          "text": [
            "\rTraining:  53%|█████▎    | 153/287 [01:26<01:15,  1.77it/s]"
          ],
          "name": "stderr"
        },
        {
          "output_type": "stream",
          "text": [
            "32\n",
            "tensor([[50258, 50258, 50258,  ..., 50259, 50259, 50259],\n",
            "        [50258, 50258, 50258,  ..., 50259, 50259, 50259],\n",
            "        [50258, 50258, 50258,  ..., 50259, 50259, 50259],\n",
            "        ...,\n",
            "        [50258, 50258, 50258,  ..., 50259, 50259, 50259],\n",
            "        [50258, 50258, 50258,  ..., 50259, 50259, 50259],\n",
            "        [50258, 50258, 50258,  ..., 50259, 50259, 50259]], device='cuda:0')\n"
          ],
          "name": "stdout"
        },
        {
          "output_type": "stream",
          "text": [
            "\rTraining:  54%|█████▎    | 154/287 [01:26<01:15,  1.77it/s]"
          ],
          "name": "stderr"
        },
        {
          "output_type": "stream",
          "text": [
            "32\n",
            "tensor([[50258, 50258, 50258,  ..., 50259, 50259, 50259],\n",
            "        [50258, 50258, 50258,  ..., 50259, 50259, 50259],\n",
            "        [50258, 50258, 50258,  ..., 50259, 50259, 50259],\n",
            "        ...,\n",
            "        [50258, 50258, 50258,  ..., 50259, 50259, 50259],\n",
            "        [50258, 50258, 50258,  ..., 50259, 50259, 50259],\n",
            "        [50258, 50258, 50258,  ..., 50259, 50259, 50259]], device='cuda:0')\n"
          ],
          "name": "stdout"
        },
        {
          "output_type": "stream",
          "text": [
            "\rTraining:  54%|█████▍    | 155/287 [01:27<01:14,  1.77it/s]"
          ],
          "name": "stderr"
        },
        {
          "output_type": "stream",
          "text": [
            "32\n",
            "tensor([[50258, 50258, 50258,  ..., 50259, 50259, 50259],\n",
            "        [50258, 50258, 50258,  ..., 50259, 50259, 50259],\n",
            "        [50258, 50258, 50258,  ..., 50259, 50259, 50259],\n",
            "        ...,\n",
            "        [50258, 50258, 50258,  ..., 50259, 50259, 50259],\n",
            "        [50258, 50258, 50258,  ..., 50259, 50259, 50259],\n",
            "        [50258, 50258, 50258,  ..., 50259, 50259, 50259]], device='cuda:0')\n"
          ],
          "name": "stdout"
        },
        {
          "output_type": "stream",
          "text": [
            "\rTraining:  54%|█████▍    | 156/287 [01:28<01:14,  1.77it/s]"
          ],
          "name": "stderr"
        },
        {
          "output_type": "stream",
          "text": [
            "32\n",
            "tensor([[50258, 50258, 50258,  ..., 50259, 50259, 50259],\n",
            "        [50258, 50258, 50258,  ..., 50259, 50259, 50259],\n",
            "        [50258, 50258, 50258,  ..., 50259, 50259, 50259],\n",
            "        ...,\n",
            "        [50258, 50258, 50258,  ..., 50259, 50259, 50259],\n",
            "        [50258, 50258, 50258,  ..., 50259, 50259, 50259],\n",
            "        [50258, 50258, 50258,  ..., 50259, 50259, 50259]], device='cuda:0')\n"
          ],
          "name": "stdout"
        },
        {
          "output_type": "stream",
          "text": [
            "\rTraining:  55%|█████▍    | 157/287 [01:28<01:13,  1.77it/s]"
          ],
          "name": "stderr"
        },
        {
          "output_type": "stream",
          "text": [
            "32\n",
            "tensor([[50258, 50258, 50258,  ..., 50259, 50259, 50259],\n",
            "        [50258, 50258, 50258,  ..., 50259, 50259, 50259],\n",
            "        [50258, 50258, 50258,  ..., 50259, 50259, 50259],\n",
            "        ...,\n",
            "        [50258, 50258, 50258,  ..., 50259, 50259, 50259],\n",
            "        [50258, 50258, 50258,  ..., 50259, 50259, 50259],\n",
            "        [50258, 50258, 50258,  ..., 50259, 50259, 50259]], device='cuda:0')\n"
          ],
          "name": "stdout"
        },
        {
          "output_type": "stream",
          "text": [
            "\rTraining:  55%|█████▌    | 158/287 [01:29<01:13,  1.77it/s]"
          ],
          "name": "stderr"
        },
        {
          "output_type": "stream",
          "text": [
            "32\n",
            "tensor([[50258, 50258, 50258,  ..., 50259, 50259, 50259],\n",
            "        [50258, 50258, 50258,  ..., 50259, 50259, 50259],\n",
            "        [50258, 50258, 50258,  ..., 50259, 50259, 50259],\n",
            "        ...,\n",
            "        [50258, 50258, 50258,  ..., 50259, 50259, 50259],\n",
            "        [50258, 50258, 50258,  ..., 50259, 50259, 50259],\n",
            "        [50258, 50258, 50258,  ..., 50259, 50259, 50259]], device='cuda:0')\n"
          ],
          "name": "stdout"
        },
        {
          "output_type": "stream",
          "text": [
            "\rTraining:  55%|█████▌    | 159/287 [01:29<01:12,  1.77it/s]"
          ],
          "name": "stderr"
        },
        {
          "output_type": "stream",
          "text": [
            "32\n",
            "tensor([[50258, 50258, 50258,  ..., 50259, 50259, 50259],\n",
            "        [50258, 50258, 50258,  ..., 50259, 50259, 50259],\n",
            "        [50258, 50258, 50258,  ..., 50259, 50259, 50259],\n",
            "        ...,\n",
            "        [50258, 50258, 50258,  ..., 50259, 50259, 50259],\n",
            "        [50258, 50258, 50258,  ..., 50259, 50259, 50259],\n",
            "        [50258, 50258, 50258,  ..., 50259, 50259, 50259]], device='cuda:0')\n"
          ],
          "name": "stdout"
        },
        {
          "output_type": "stream",
          "text": [
            "\rTraining:  56%|█████▌    | 160/287 [01:30<01:11,  1.77it/s]"
          ],
          "name": "stderr"
        },
        {
          "output_type": "stream",
          "text": [
            "32\n",
            "tensor([[50258, 50258, 50258,  ..., 50259, 50259, 50259],\n",
            "        [50258, 50258, 50258,  ..., 50259, 50259, 50259],\n",
            "        [50258, 50258, 50258,  ..., 50259, 50259, 50259],\n",
            "        ...,\n",
            "        [50258, 50258, 50258,  ..., 50259, 50259, 50259],\n",
            "        [50258, 50258, 50258,  ..., 50259, 50259, 50259],\n",
            "        [50258, 50258, 50258,  ..., 50259, 50259, 50259]], device='cuda:0')\n"
          ],
          "name": "stdout"
        },
        {
          "output_type": "stream",
          "text": [
            "\rTraining:  56%|█████▌    | 161/287 [01:30<01:11,  1.77it/s]"
          ],
          "name": "stderr"
        },
        {
          "output_type": "stream",
          "text": [
            "32\n",
            "tensor([[50258, 50258, 50258,  ..., 50259, 50259, 50259],\n",
            "        [50258, 50258, 50258,  ..., 50259, 50259, 50259],\n",
            "        [50258, 50258, 50258,  ..., 50259, 50259, 50259],\n",
            "        ...,\n",
            "        [50258, 50258, 50258,  ..., 50259, 50259, 50259],\n",
            "        [50258, 50258, 50258,  ..., 50259, 50259, 50259],\n",
            "        [50258, 50258, 50258,  ..., 50259, 50259, 50259]], device='cuda:0')\n"
          ],
          "name": "stdout"
        },
        {
          "output_type": "stream",
          "text": [
            "\rTraining:  56%|█████▋    | 162/287 [01:31<01:10,  1.76it/s]"
          ],
          "name": "stderr"
        },
        {
          "output_type": "stream",
          "text": [
            "32\n",
            "tensor([[50258, 50258, 50258,  ..., 50259, 50259, 50259],\n",
            "        [50258, 50258, 50258,  ..., 50259, 50259, 50259],\n",
            "        [50258, 50258, 50258,  ..., 50259, 50259, 50259],\n",
            "        ...,\n",
            "        [50258, 50258, 50258,  ..., 50259, 50259, 50259],\n",
            "        [50258, 50258, 50258,  ..., 50259, 50259, 50259],\n",
            "        [50258, 50258, 50258,  ..., 50259, 50259, 50259]], device='cuda:0')\n"
          ],
          "name": "stdout"
        },
        {
          "output_type": "stream",
          "text": [
            "\rTraining:  57%|█████▋    | 163/287 [01:32<01:10,  1.76it/s]"
          ],
          "name": "stderr"
        },
        {
          "output_type": "stream",
          "text": [
            "32\n",
            "tensor([[50258, 50258, 50258,  ..., 50259, 50259, 50259],\n",
            "        [50258, 50258, 50258,  ..., 50259, 50259, 50259],\n",
            "        [50258, 50258, 50258,  ..., 50259, 50259, 50259],\n",
            "        ...,\n",
            "        [50258, 50258, 50258,  ..., 50259, 50259, 50259],\n",
            "        [50258, 50258, 50258,  ..., 50259, 50259, 50259],\n",
            "        [50258, 50258, 50258,  ..., 50259, 50259, 50259]], device='cuda:0')\n"
          ],
          "name": "stdout"
        },
        {
          "output_type": "stream",
          "text": [
            "\rTraining:  57%|█████▋    | 164/287 [01:32<01:09,  1.76it/s]"
          ],
          "name": "stderr"
        },
        {
          "output_type": "stream",
          "text": [
            "32\n",
            "tensor([[50258, 50258, 50258,  ..., 50259, 50259, 50259],\n",
            "        [50258, 50258, 50258,  ..., 50259, 50259, 50259],\n",
            "        [50258, 50258, 50258,  ..., 50259, 50259, 50259],\n",
            "        ...,\n",
            "        [50258, 50258, 50258,  ..., 50259, 50259, 50259],\n",
            "        [50258, 50258, 50258,  ..., 50259, 50259, 50259],\n",
            "        [50258, 50258, 50258,  ..., 50259, 50259, 50259]], device='cuda:0')\n"
          ],
          "name": "stdout"
        },
        {
          "output_type": "stream",
          "text": [
            "\rTraining:  57%|█████▋    | 165/287 [01:33<01:09,  1.76it/s]"
          ],
          "name": "stderr"
        },
        {
          "output_type": "stream",
          "text": [
            "32\n",
            "tensor([[50258, 50258, 50258,  ..., 50259, 50259, 50259],\n",
            "        [50258, 50258, 50258,  ..., 50259, 50259, 50259],\n",
            "        [50258, 50258, 50258,  ..., 50259, 50259, 50259],\n",
            "        ...,\n",
            "        [50258, 50258, 50258,  ..., 50259, 50259, 50259],\n",
            "        [50258, 50258, 50258,  ..., 50259, 50259, 50259],\n",
            "        [50258, 50258, 50258,  ..., 50259, 50259, 50259]], device='cuda:0')\n"
          ],
          "name": "stdout"
        },
        {
          "output_type": "stream",
          "text": [
            "\rTraining:  58%|█████▊    | 166/287 [01:33<01:08,  1.76it/s]"
          ],
          "name": "stderr"
        },
        {
          "output_type": "stream",
          "text": [
            "32\n",
            "tensor([[50258, 50258, 50258,  ..., 50259, 50259, 50259],\n",
            "        [50258, 50258, 50258,  ..., 50259, 50259, 50259],\n",
            "        [50258, 50258, 50258,  ..., 50259, 50259, 50259],\n",
            "        ...,\n",
            "        [50258, 50258, 50258,  ..., 50259, 50259, 50259],\n",
            "        [50258, 50258, 50258,  ..., 50259, 50259, 50259],\n",
            "        [50258, 50258, 50258,  ..., 50259, 50259, 50259]], device='cuda:0')\n"
          ],
          "name": "stdout"
        },
        {
          "output_type": "stream",
          "text": [
            "\rTraining:  58%|█████▊    | 167/287 [01:34<01:07,  1.77it/s]"
          ],
          "name": "stderr"
        },
        {
          "output_type": "stream",
          "text": [
            "32\n",
            "tensor([[50258, 50258, 50258,  ..., 50259, 50259, 50259],\n",
            "        [50258, 50258, 50258,  ..., 50259, 50259, 50259],\n",
            "        [50258, 50258, 50258,  ..., 50259, 50259, 50259],\n",
            "        ...,\n",
            "        [50258, 50258, 50258,  ..., 50259, 50259, 50259],\n",
            "        [50258, 50258, 50258,  ..., 50259, 50259, 50259],\n",
            "        [50258, 50258, 50258,  ..., 50259, 50259, 50259]], device='cuda:0')\n"
          ],
          "name": "stdout"
        },
        {
          "output_type": "stream",
          "text": [
            "\rTraining:  59%|█████▊    | 168/287 [01:34<01:07,  1.77it/s]"
          ],
          "name": "stderr"
        },
        {
          "output_type": "stream",
          "text": [
            "32\n",
            "tensor([[50258, 50258, 50258,  ..., 50259, 50259, 50259],\n",
            "        [50258, 50258, 50258,  ..., 50259, 50259, 50259],\n",
            "        [50258, 50258, 50258,  ..., 50259, 50259, 50259],\n",
            "        ...,\n",
            "        [50258, 50258, 50258,  ..., 50259, 50259, 50259],\n",
            "        [50258, 50258, 50258,  ..., 50259, 50259, 50259],\n",
            "        [50258, 50258, 50258,  ..., 50259, 50259, 50259]], device='cuda:0')\n"
          ],
          "name": "stdout"
        },
        {
          "output_type": "stream",
          "text": [
            "\rTraining:  59%|█████▉    | 169/287 [01:35<01:06,  1.76it/s]"
          ],
          "name": "stderr"
        },
        {
          "output_type": "stream",
          "text": [
            "32\n",
            "tensor([[50258, 50258, 50258,  ..., 50259, 50259, 50259],\n",
            "        [50258, 50258, 50258,  ..., 50259, 50259, 50259],\n",
            "        [50258, 50258, 50258,  ..., 50259, 50259, 50259],\n",
            "        ...,\n",
            "        [50258, 50258, 50258,  ..., 50259, 50259, 50259],\n",
            "        [50258, 50258, 50258,  ..., 50259, 50259, 50259],\n",
            "        [50258, 50258, 50258,  ..., 50259, 50259, 50259]], device='cuda:0')\n"
          ],
          "name": "stdout"
        },
        {
          "output_type": "stream",
          "text": [
            "\rTraining:  59%|█████▉    | 170/287 [01:36<01:06,  1.77it/s]"
          ],
          "name": "stderr"
        },
        {
          "output_type": "stream",
          "text": [
            "32\n",
            "tensor([[50258, 50258, 50258,  ..., 50259, 50259, 50259],\n",
            "        [50258, 50258, 50258,  ..., 50259, 50259, 50259],\n",
            "        [50258, 50258, 50258,  ..., 50259, 50259, 50259],\n",
            "        ...,\n",
            "        [50258, 50258, 50258,  ..., 50259, 50259, 50259],\n",
            "        [50258, 50258, 50258,  ..., 50259, 50259, 50259],\n",
            "        [50258, 50258, 50258,  ..., 50259, 50259, 50259]], device='cuda:0')\n"
          ],
          "name": "stdout"
        },
        {
          "output_type": "stream",
          "text": [
            "\rTraining:  60%|█████▉    | 171/287 [01:36<01:05,  1.76it/s]"
          ],
          "name": "stderr"
        },
        {
          "output_type": "stream",
          "text": [
            "32\n",
            "tensor([[50258, 50258, 50258,  ..., 50259, 50259, 50259],\n",
            "        [50258, 50258, 50258,  ..., 50259, 50259, 50259],\n",
            "        [50258, 50258, 50258,  ..., 50259, 50259, 50259],\n",
            "        ...,\n",
            "        [50258, 50258, 50258,  ..., 50259, 50259, 50259],\n",
            "        [50258, 50258, 50258,  ..., 50259, 50259, 50259],\n",
            "        [50258, 50258, 50258,  ..., 50259, 50259, 50259]], device='cuda:0')\n"
          ],
          "name": "stdout"
        },
        {
          "output_type": "stream",
          "text": [
            "\rTraining:  60%|█████▉    | 172/287 [01:37<01:05,  1.77it/s]"
          ],
          "name": "stderr"
        },
        {
          "output_type": "stream",
          "text": [
            "32\n",
            "tensor([[50258, 50258, 50258,  ..., 50259, 50259, 50259],\n",
            "        [50258, 50258, 50258,  ..., 50259, 50259, 50259],\n",
            "        [50258, 50258, 50258,  ..., 50259, 50259, 50259],\n",
            "        ...,\n",
            "        [50258, 50258, 50258,  ..., 50259, 50259, 50259],\n",
            "        [50258, 50258, 50258,  ..., 50259, 50259, 50259],\n",
            "        [50258, 50258, 50258,  ..., 50259, 50259, 50259]], device='cuda:0')\n"
          ],
          "name": "stdout"
        },
        {
          "output_type": "stream",
          "text": [
            "\rTraining:  60%|██████    | 173/287 [01:37<01:04,  1.76it/s]"
          ],
          "name": "stderr"
        },
        {
          "output_type": "stream",
          "text": [
            "32\n",
            "tensor([[50258, 50258, 50258,  ..., 50259, 50259, 50259],\n",
            "        [50258, 50258, 50258,  ..., 50259, 50259, 50259],\n",
            "        [50258, 50258, 50258,  ..., 50259, 50259, 50259],\n",
            "        ...,\n",
            "        [50258, 50258, 50258,  ..., 50259, 50259, 50259],\n",
            "        [50258, 50258, 50258,  ..., 50259, 50259, 50259],\n",
            "        [50258, 50258, 50258,  ..., 50259, 50259, 50259]], device='cuda:0')\n"
          ],
          "name": "stdout"
        },
        {
          "output_type": "stream",
          "text": [
            "\rTraining:  61%|██████    | 174/287 [01:38<01:04,  1.76it/s]"
          ],
          "name": "stderr"
        },
        {
          "output_type": "stream",
          "text": [
            "32\n",
            "tensor([[50258, 50258, 50258,  ..., 50259, 50259, 50259],\n",
            "        [50258, 50258, 50258,  ..., 50259, 50259, 50259],\n",
            "        [50258, 50258, 50258,  ..., 50259, 50259, 50259],\n",
            "        ...,\n",
            "        [50258, 50258, 50258,  ..., 50259, 50259, 50259],\n",
            "        [50258, 50258, 50258,  ..., 50259, 50259, 50259],\n",
            "        [50258, 50258, 50258,  ..., 50259, 50259, 50259]], device='cuda:0')\n"
          ],
          "name": "stdout"
        },
        {
          "output_type": "stream",
          "text": [
            "\rTraining:  61%|██████    | 175/287 [01:38<01:03,  1.76it/s]"
          ],
          "name": "stderr"
        },
        {
          "output_type": "stream",
          "text": [
            "32\n",
            "tensor([[50258, 50258, 50258,  ..., 50259, 50259, 50259],\n",
            "        [50258, 50258, 50258,  ..., 50259, 50259, 50259],\n",
            "        [50258, 50258, 50258,  ..., 50259, 50259, 50259],\n",
            "        ...,\n",
            "        [50258, 50258, 50258,  ..., 50259, 50259, 50259],\n",
            "        [50258, 50258, 50258,  ..., 50259, 50259, 50259],\n",
            "        [50258, 50258, 50258,  ..., 50259, 50259, 50259]], device='cuda:0')\n"
          ],
          "name": "stdout"
        },
        {
          "output_type": "stream",
          "text": [
            "\rTraining:  61%|██████▏   | 176/287 [01:39<01:03,  1.76it/s]"
          ],
          "name": "stderr"
        },
        {
          "output_type": "stream",
          "text": [
            "32\n",
            "tensor([[50258, 50258, 50258,  ..., 50259, 50259, 50259],\n",
            "        [50258, 50258, 50258,  ..., 50259, 50259, 50259],\n",
            "        [50258, 50258, 50258,  ..., 50259, 50259, 50259],\n",
            "        ...,\n",
            "        [50258, 50258, 50258,  ..., 50259, 50259, 50259],\n",
            "        [50258, 50258, 50258,  ..., 50259, 50259, 50259],\n",
            "        [50258, 50258, 50258,  ..., 50259, 50259, 50259]], device='cuda:0')\n"
          ],
          "name": "stdout"
        },
        {
          "output_type": "stream",
          "text": [
            "\rTraining:  62%|██████▏   | 177/287 [01:39<01:02,  1.76it/s]"
          ],
          "name": "stderr"
        },
        {
          "output_type": "stream",
          "text": [
            "32\n",
            "tensor([[50258, 50258, 50258,  ..., 50259, 50259, 50259],\n",
            "        [50258, 50258, 50258,  ..., 50259, 50259, 50259],\n",
            "        [50258, 50258, 50258,  ..., 50259, 50259, 50259],\n",
            "        ...,\n",
            "        [50258, 50258, 50258,  ..., 50259, 50259, 50259],\n",
            "        [50258, 50258, 50258,  ..., 50259, 50259, 50259],\n",
            "        [50258, 50258, 50258,  ..., 50259, 50259, 50259]], device='cuda:0')\n"
          ],
          "name": "stdout"
        },
        {
          "output_type": "stream",
          "text": [
            "\rTraining:  62%|██████▏   | 178/287 [01:40<01:01,  1.76it/s]"
          ],
          "name": "stderr"
        },
        {
          "output_type": "stream",
          "text": [
            "32\n",
            "tensor([[50258, 50258, 50258,  ..., 50259, 50259, 50259],\n",
            "        [50258, 50258, 50258,  ..., 50259, 50259, 50259],\n",
            "        [50258, 50258, 50258,  ..., 50259, 50259, 50259],\n",
            "        ...,\n",
            "        [50258, 50258, 50258,  ..., 50259, 50259, 50259],\n",
            "        [50258, 50258, 50258,  ..., 50259, 50259, 50259],\n",
            "        [50258, 50258, 50258,  ..., 50259, 50259, 50259]], device='cuda:0')\n"
          ],
          "name": "stdout"
        },
        {
          "output_type": "stream",
          "text": [
            "\rTraining:  62%|██████▏   | 179/287 [01:41<01:01,  1.76it/s]"
          ],
          "name": "stderr"
        },
        {
          "output_type": "stream",
          "text": [
            "32\n",
            "tensor([[50258, 50258, 50258,  ..., 50259, 50259, 50259],\n",
            "        [50258, 50258, 50258,  ..., 50259, 50259, 50259],\n",
            "        [50258, 50258, 50258,  ..., 50259, 50259, 50259],\n",
            "        ...,\n",
            "        [50258, 50258, 50258,  ..., 50259, 50259, 50259],\n",
            "        [50258, 50258, 50258,  ..., 50259, 50259, 50259],\n",
            "        [50258, 50258, 50258,  ..., 50259, 50259, 50259]], device='cuda:0')\n"
          ],
          "name": "stdout"
        },
        {
          "output_type": "stream",
          "text": [
            "\rTraining:  63%|██████▎   | 180/287 [01:41<01:00,  1.76it/s]"
          ],
          "name": "stderr"
        },
        {
          "output_type": "stream",
          "text": [
            "32\n",
            "tensor([[50258, 50258, 50258,  ..., 50259, 50259, 50259],\n",
            "        [50258, 50258, 50258,  ..., 50259, 50259, 50259],\n",
            "        [50258, 50258, 50258,  ..., 50259, 50259, 50259],\n",
            "        ...,\n",
            "        [50258, 50258, 50258,  ..., 50259, 50259, 50259],\n",
            "        [50258, 50258, 50258,  ..., 50259, 50259, 50259],\n",
            "        [50258, 50258, 50258,  ..., 50259, 50259, 50259]], device='cuda:0')\n"
          ],
          "name": "stdout"
        },
        {
          "output_type": "stream",
          "text": [
            "\rTraining:  63%|██████▎   | 181/287 [01:42<00:59,  1.77it/s]"
          ],
          "name": "stderr"
        },
        {
          "output_type": "stream",
          "text": [
            "32\n",
            "tensor([[50258, 50258, 50258,  ..., 50259, 50259, 50259],\n",
            "        [50258, 50258, 50258,  ..., 50259, 50259, 50259],\n",
            "        [50258, 50258, 50258,  ..., 50259, 50259, 50259],\n",
            "        ...,\n",
            "        [50258, 50258, 50258,  ..., 50259, 50259, 50259],\n",
            "        [50258, 50258, 50258,  ..., 50259, 50259, 50259],\n",
            "        [50258, 50258, 50258,  ..., 50259, 50259, 50259]], device='cuda:0')\n"
          ],
          "name": "stdout"
        },
        {
          "output_type": "stream",
          "text": [
            "\rTraining:  63%|██████▎   | 182/287 [01:42<00:59,  1.77it/s]"
          ],
          "name": "stderr"
        },
        {
          "output_type": "stream",
          "text": [
            "32\n",
            "tensor([[50258, 50258, 50258,  ..., 50259, 50259, 50259],\n",
            "        [50258, 50258, 50258,  ..., 50259, 50259, 50259],\n",
            "        [50258, 50258, 50258,  ..., 50259, 50259, 50259],\n",
            "        ...,\n",
            "        [50258, 50258, 50258,  ..., 50259, 50259, 50259],\n",
            "        [50258, 50258, 50258,  ..., 50259, 50259, 50259],\n",
            "        [50258, 50258, 50258,  ..., 50259, 50259, 50259]], device='cuda:0')\n"
          ],
          "name": "stdout"
        },
        {
          "output_type": "stream",
          "text": [
            "\rTraining:  64%|██████▍   | 183/287 [01:43<00:58,  1.77it/s]"
          ],
          "name": "stderr"
        },
        {
          "output_type": "stream",
          "text": [
            "32\n",
            "tensor([[50258, 50258, 50258,  ..., 50259, 50259, 50259],\n",
            "        [50258, 50258, 50258,  ..., 50259, 50259, 50259],\n",
            "        [50258, 50258, 50258,  ..., 50259, 50259, 50259],\n",
            "        ...,\n",
            "        [50258, 50258, 50258,  ..., 50259, 50259, 50259],\n",
            "        [50258, 50258, 50258,  ..., 50259, 50259, 50259],\n",
            "        [50258, 50258, 50258,  ..., 50259, 50259, 50259]], device='cuda:0')\n"
          ],
          "name": "stdout"
        },
        {
          "output_type": "stream",
          "text": [
            "\rTraining:  64%|██████▍   | 184/287 [01:43<00:58,  1.77it/s]"
          ],
          "name": "stderr"
        },
        {
          "output_type": "stream",
          "text": [
            "32\n",
            "tensor([[50258, 50258, 50258,  ..., 50259, 50259, 50259],\n",
            "        [50258, 50258, 50258,  ..., 50259, 50259, 50259],\n",
            "        [50258, 50258, 50258,  ..., 50259, 50259, 50259],\n",
            "        ...,\n",
            "        [50258, 50258, 50258,  ..., 50259, 50259, 50259],\n",
            "        [50258, 50258, 50258,  ..., 50259, 50259, 50259],\n",
            "        [50258, 50258, 50258,  ..., 50259, 50259, 50259]], device='cuda:0')\n"
          ],
          "name": "stdout"
        },
        {
          "output_type": "stream",
          "text": [
            "\rTraining:  64%|██████▍   | 185/287 [01:44<00:57,  1.77it/s]"
          ],
          "name": "stderr"
        },
        {
          "output_type": "stream",
          "text": [
            "32\n",
            "tensor([[50258, 50258, 50258,  ..., 50259, 50259, 50259],\n",
            "        [50258, 50258, 50258,  ..., 50259, 50259, 50259],\n",
            "        [50258, 50258, 50258,  ..., 50259, 50259, 50259],\n",
            "        ...,\n",
            "        [50258, 50258, 50258,  ..., 50259, 50259, 50259],\n",
            "        [50258, 50258, 50258,  ..., 50259, 50259, 50259],\n",
            "        [50258, 50258, 50258,  ..., 50259, 50259, 50259]], device='cuda:0')\n"
          ],
          "name": "stdout"
        },
        {
          "output_type": "stream",
          "text": [
            "\rTraining:  65%|██████▍   | 186/287 [01:45<00:57,  1.76it/s]"
          ],
          "name": "stderr"
        },
        {
          "output_type": "stream",
          "text": [
            "32\n",
            "tensor([[50258, 50258, 50258,  ..., 50259, 50259, 50259],\n",
            "        [50258, 50258, 50258,  ..., 50259, 50259, 50259],\n",
            "        [50258, 50258, 50258,  ..., 50259, 50259, 50259],\n",
            "        ...,\n",
            "        [50258, 50258, 50258,  ..., 50259, 50259, 50259],\n",
            "        [50258, 50258, 50258,  ..., 50259, 50259, 50259],\n",
            "        [50258, 50258, 50258,  ..., 50259, 50259, 50259]], device='cuda:0')\n"
          ],
          "name": "stdout"
        },
        {
          "output_type": "stream",
          "text": [
            "\rTraining:  65%|██████▌   | 187/287 [01:45<00:56,  1.76it/s]"
          ],
          "name": "stderr"
        },
        {
          "output_type": "stream",
          "text": [
            "32\n",
            "tensor([[50258, 50258, 50258,  ..., 50259, 50259, 50259],\n",
            "        [50258, 50258, 50258,  ..., 50259, 50259, 50259],\n",
            "        [50258, 50258, 50258,  ..., 50259, 50259, 50259],\n",
            "        ...,\n",
            "        [50258, 50258, 50258,  ..., 50259, 50259, 50259],\n",
            "        [50258, 50258, 50258,  ..., 50259, 50259, 50259],\n",
            "        [50258, 50258, 50258,  ..., 50259, 50259, 50259]], device='cuda:0')\n"
          ],
          "name": "stdout"
        },
        {
          "output_type": "stream",
          "text": [
            "\rTraining:  66%|██████▌   | 188/287 [01:46<00:56,  1.77it/s]"
          ],
          "name": "stderr"
        },
        {
          "output_type": "stream",
          "text": [
            "32\n",
            "tensor([[50258, 50258, 50258,  ..., 50259, 50259, 50259],\n",
            "        [50258, 50258, 50258,  ..., 50259, 50259, 50259],\n",
            "        [50258, 50258, 50258,  ..., 50259, 50259, 50259],\n",
            "        ...,\n",
            "        [50258, 50258, 50258,  ..., 50259, 50259, 50259],\n",
            "        [50258, 50258, 50258,  ..., 50259, 50259, 50259],\n",
            "        [50258, 50258, 50258,  ..., 50259, 50259, 50259]], device='cuda:0')\n"
          ],
          "name": "stdout"
        },
        {
          "output_type": "stream",
          "text": [
            "\rTraining:  66%|██████▌   | 189/287 [01:46<00:55,  1.77it/s]"
          ],
          "name": "stderr"
        },
        {
          "output_type": "stream",
          "text": [
            "32\n",
            "tensor([[50258, 50258, 50258,  ..., 50259, 50259, 50259],\n",
            "        [50258, 50258, 50258,  ..., 50259, 50259, 50259],\n",
            "        [50258, 50258, 50258,  ..., 50259, 50259, 50259],\n",
            "        ...,\n",
            "        [50258, 50258, 50258,  ..., 50259, 50259, 50259],\n",
            "        [50258, 50258, 50258,  ..., 50259, 50259, 50259],\n",
            "        [50258, 50258, 50258,  ..., 50259, 50259, 50259]], device='cuda:0')\n"
          ],
          "name": "stdout"
        },
        {
          "output_type": "stream",
          "text": [
            "\rTraining:  66%|██████▌   | 190/287 [01:47<00:54,  1.77it/s]"
          ],
          "name": "stderr"
        },
        {
          "output_type": "stream",
          "text": [
            "32\n",
            "tensor([[50258, 50258, 50258,  ..., 50259, 50259, 50259],\n",
            "        [50258, 50258, 50258,  ..., 50259, 50259, 50259],\n",
            "        [50258, 50258, 50258,  ..., 50259, 50259, 50259],\n",
            "        ...,\n",
            "        [50258, 50258, 50258,  ..., 50259, 50259, 50259],\n",
            "        [50258, 50258, 50258,  ..., 50259, 50259, 50259],\n",
            "        [50258, 50258, 50258,  ..., 50259, 50259, 50259]], device='cuda:0')\n"
          ],
          "name": "stdout"
        },
        {
          "output_type": "stream",
          "text": [
            "\rTraining:  67%|██████▋   | 191/287 [01:47<00:54,  1.77it/s]"
          ],
          "name": "stderr"
        },
        {
          "output_type": "stream",
          "text": [
            "32\n",
            "tensor([[50258, 50258, 50258,  ..., 50259, 50259, 50259],\n",
            "        [50258, 50258, 50258,  ..., 50259, 50259, 50259],\n",
            "        [50258, 50258, 50258,  ..., 50259, 50259, 50259],\n",
            "        ...,\n",
            "        [50258, 50258, 50258,  ..., 50259, 50259, 50259],\n",
            "        [50258, 50258, 50258,  ..., 50259, 50259, 50259],\n",
            "        [50258, 50258, 50258,  ..., 50259, 50259, 50259]], device='cuda:0')\n"
          ],
          "name": "stdout"
        },
        {
          "output_type": "stream",
          "text": [
            "\rTraining:  67%|██████▋   | 192/287 [01:48<00:53,  1.77it/s]"
          ],
          "name": "stderr"
        },
        {
          "output_type": "stream",
          "text": [
            "32\n",
            "tensor([[50258, 50258, 50258,  ..., 50259, 50259, 50259],\n",
            "        [50258, 50258, 50258,  ..., 50259, 50259, 50259],\n",
            "        [50258, 50258, 50258,  ..., 50259, 50259, 50259],\n",
            "        ...,\n",
            "        [50258, 50258, 50258,  ..., 50259, 50259, 50259],\n",
            "        [50258, 50258, 50258,  ..., 50259, 50259, 50259],\n",
            "        [50258, 50258, 50258,  ..., 50259, 50259, 50259]], device='cuda:0')\n"
          ],
          "name": "stdout"
        },
        {
          "output_type": "stream",
          "text": [
            "\rTraining:  67%|██████▋   | 193/287 [01:49<00:53,  1.77it/s]"
          ],
          "name": "stderr"
        },
        {
          "output_type": "stream",
          "text": [
            "32\n",
            "tensor([[50258, 50258, 50258,  ..., 50259, 50259, 50259],\n",
            "        [50258, 50258, 50258,  ..., 50259, 50259, 50259],\n",
            "        [50258, 50258, 50258,  ..., 50259, 50259, 50259],\n",
            "        ...,\n",
            "        [50258, 50258, 50258,  ..., 50259, 50259, 50259],\n",
            "        [50258, 50258, 50258,  ..., 50259, 50259, 50259],\n",
            "        [50258, 50258, 50258,  ..., 50259, 50259, 50259]], device='cuda:0')\n"
          ],
          "name": "stdout"
        },
        {
          "output_type": "stream",
          "text": [
            "\rTraining:  68%|██████▊   | 194/287 [01:49<00:52,  1.77it/s]"
          ],
          "name": "stderr"
        },
        {
          "output_type": "stream",
          "text": [
            "32\n",
            "tensor([[50258, 50258, 50258,  ..., 50259, 50259, 50259],\n",
            "        [50258, 50258, 50258,  ..., 50259, 50259, 50259],\n",
            "        [50258, 50258, 50258,  ..., 50259, 50259, 50259],\n",
            "        ...,\n",
            "        [50258, 50258, 50258,  ..., 50259, 50259, 50259],\n",
            "        [50258, 50258, 50258,  ..., 50259, 50259, 50259],\n",
            "        [50258, 50258, 50258,  ..., 50259, 50259, 50259]], device='cuda:0')\n"
          ],
          "name": "stdout"
        },
        {
          "output_type": "stream",
          "text": [
            "\rTraining:  68%|██████▊   | 195/287 [01:50<00:52,  1.77it/s]"
          ],
          "name": "stderr"
        },
        {
          "output_type": "stream",
          "text": [
            "32\n",
            "tensor([[50258, 50258, 50258,  ..., 50259, 50259, 50259],\n",
            "        [50258, 50258, 50258,  ..., 50259, 50259, 50259],\n",
            "        [50258, 50258, 50258,  ..., 50259, 50259, 50259],\n",
            "        ...,\n",
            "        [50258, 50258, 50258,  ..., 50259, 50259, 50259],\n",
            "        [50258, 50258, 50258,  ..., 50259, 50259, 50259],\n",
            "        [50258, 50258, 50258,  ..., 50259, 50259, 50259]], device='cuda:0')\n"
          ],
          "name": "stdout"
        },
        {
          "output_type": "stream",
          "text": [
            "\rTraining:  68%|██████▊   | 196/287 [01:50<00:51,  1.77it/s]"
          ],
          "name": "stderr"
        },
        {
          "output_type": "stream",
          "text": [
            "32\n",
            "tensor([[50258, 50258, 50258,  ..., 50259, 50259, 50259],\n",
            "        [50258, 50258, 50258,  ..., 50259, 50259, 50259],\n",
            "        [50258, 50258, 50258,  ..., 50259, 50259, 50259],\n",
            "        ...,\n",
            "        [50258, 50258, 50258,  ..., 50259, 50259, 50259],\n",
            "        [50258, 50258, 50258,  ..., 50259, 50259, 50259],\n",
            "        [50258, 50258, 50258,  ..., 50259, 50259, 50259]], device='cuda:0')\n"
          ],
          "name": "stdout"
        },
        {
          "output_type": "stream",
          "text": [
            "\rTraining:  69%|██████▊   | 197/287 [01:51<00:50,  1.77it/s]"
          ],
          "name": "stderr"
        },
        {
          "output_type": "stream",
          "text": [
            "32\n",
            "tensor([[50258, 50258, 50258,  ..., 50259, 50259, 50259],\n",
            "        [50258, 50258, 50258,  ..., 50259, 50259, 50259],\n",
            "        [50258, 50258, 50258,  ..., 50259, 50259, 50259],\n",
            "        ...,\n",
            "        [50258, 50258, 50258,  ..., 50259, 50259, 50259],\n",
            "        [50258, 50258, 50258,  ..., 50259, 50259, 50259],\n",
            "        [50258, 50258, 50258,  ..., 50259, 50259, 50259]], device='cuda:0')\n"
          ],
          "name": "stdout"
        },
        {
          "output_type": "stream",
          "text": [
            "\rTraining:  69%|██████▉   | 198/287 [01:51<00:50,  1.77it/s]"
          ],
          "name": "stderr"
        },
        {
          "output_type": "stream",
          "text": [
            "32\n",
            "tensor([[50258, 50258, 50258,  ..., 50259, 50259, 50259],\n",
            "        [50258, 50258, 50258,  ..., 50259, 50259, 50259],\n",
            "        [50258, 50258, 50258,  ..., 50259, 50259, 50259],\n",
            "        ...,\n",
            "        [50258, 50258, 50258,  ..., 50259, 50259, 50259],\n",
            "        [50258, 50258, 50258,  ..., 50259, 50259, 50259],\n",
            "        [50258, 50258, 50258,  ..., 50259, 50259, 50259]], device='cuda:0')\n"
          ],
          "name": "stdout"
        },
        {
          "output_type": "stream",
          "text": [
            "\rTraining:  69%|██████▉   | 199/287 [01:52<00:49,  1.77it/s]"
          ],
          "name": "stderr"
        },
        {
          "output_type": "stream",
          "text": [
            "32\n",
            "tensor([[50258, 50258, 50258,  ..., 50259, 50259, 50259],\n",
            "        [50258, 50258, 50258,  ..., 50259, 50259, 50259],\n",
            "        [50258, 50258, 50258,  ..., 50259, 50259, 50259],\n",
            "        ...,\n",
            "        [50258, 50258, 50258,  ..., 50259, 50259, 50259],\n",
            "        [50258, 50258, 50258,  ..., 50259, 50259, 50259],\n",
            "        [50258, 50258, 50258,  ..., 50259, 50259, 50259]], device='cuda:0')\n"
          ],
          "name": "stdout"
        },
        {
          "output_type": "stream",
          "text": [
            "\rTraining:  70%|██████▉   | 200/287 [01:52<00:49,  1.77it/s]"
          ],
          "name": "stderr"
        },
        {
          "output_type": "stream",
          "text": [
            "32\n",
            "tensor([[50258, 50258, 50258,  ..., 50259, 50259, 50259],\n",
            "        [50258, 50258, 50258,  ..., 50259, 50259, 50259],\n",
            "        [50258, 50258, 50258,  ..., 50259, 50259, 50259],\n",
            "        ...,\n",
            "        [50258, 50258, 50258,  ..., 50259, 50259, 50259],\n",
            "        [50258, 50258, 50258,  ..., 50259, 50259, 50259],\n",
            "        [50258, 50258, 50258,  ..., 50259, 50259, 50259]], device='cuda:0')\n"
          ],
          "name": "stdout"
        },
        {
          "output_type": "stream",
          "text": [
            "\rTraining:  70%|███████   | 201/287 [01:53<00:48,  1.77it/s]"
          ],
          "name": "stderr"
        },
        {
          "output_type": "stream",
          "text": [
            "32\n",
            "tensor([[50258, 50258, 50258,  ..., 50259, 50259, 50259],\n",
            "        [50258, 50258, 50258,  ..., 50259, 50259, 50259],\n",
            "        [50258, 50258, 50258,  ..., 50259, 50259, 50259],\n",
            "        ...,\n",
            "        [50258, 50258, 50258,  ..., 50259, 50259, 50259],\n",
            "        [50258, 50258, 50258,  ..., 50259, 50259, 50259],\n",
            "        [50258, 50258, 50258,  ..., 50259, 50259, 50259]], device='cuda:0')\n"
          ],
          "name": "stdout"
        },
        {
          "output_type": "stream",
          "text": [
            "\rTraining:  70%|███████   | 202/287 [01:54<00:47,  1.77it/s]"
          ],
          "name": "stderr"
        },
        {
          "output_type": "stream",
          "text": [
            "32\n",
            "tensor([[50258, 50258, 50258,  ..., 50259, 50259, 50259],\n",
            "        [50258, 50258, 50258,  ..., 50259, 50259, 50259],\n",
            "        [50258, 50258, 50258,  ..., 50259, 50259, 50259],\n",
            "        ...,\n",
            "        [50258, 50258, 50258,  ..., 50259, 50259, 50259],\n",
            "        [50258, 50258, 50258,  ..., 50259, 50259, 50259],\n",
            "        [50258, 50258, 50258,  ..., 50259, 50259, 50259]], device='cuda:0')\n"
          ],
          "name": "stdout"
        },
        {
          "output_type": "stream",
          "text": [
            "\rTraining:  71%|███████   | 203/287 [01:54<00:47,  1.77it/s]"
          ],
          "name": "stderr"
        },
        {
          "output_type": "stream",
          "text": [
            "32\n",
            "tensor([[50258, 50258, 50258,  ..., 50259, 50259, 50259],\n",
            "        [50258, 50258, 50258,  ..., 50259, 50259, 50259],\n",
            "        [50258, 50258, 50258,  ..., 50259, 50259, 50259],\n",
            "        ...,\n",
            "        [50258, 50258, 50258,  ..., 50259, 50259, 50259],\n",
            "        [50258, 50258, 50258,  ..., 50259, 50259, 50259],\n",
            "        [50258, 50258, 50258,  ..., 50259, 50259, 50259]], device='cuda:0')\n"
          ],
          "name": "stdout"
        },
        {
          "output_type": "stream",
          "text": [
            "\rTraining:  71%|███████   | 204/287 [01:55<00:46,  1.77it/s]"
          ],
          "name": "stderr"
        },
        {
          "output_type": "stream",
          "text": [
            "32\n",
            "tensor([[50258, 50258, 50258,  ..., 50259, 50259, 50259],\n",
            "        [50258, 50258, 50258,  ..., 50259, 50259, 50259],\n",
            "        [50258, 50258, 50258,  ..., 50259, 50259, 50259],\n",
            "        ...,\n",
            "        [50258, 50258, 50258,  ..., 50259, 50259, 50259],\n",
            "        [50258, 50258, 50258,  ..., 50259, 50259, 50259],\n",
            "        [50258, 50258, 50258,  ..., 50259, 50259, 50259]], device='cuda:0')\n"
          ],
          "name": "stdout"
        },
        {
          "output_type": "stream",
          "text": [
            "\rTraining:  71%|███████▏  | 205/287 [01:55<00:46,  1.77it/s]"
          ],
          "name": "stderr"
        },
        {
          "output_type": "stream",
          "text": [
            "32\n",
            "tensor([[50258, 50258, 50258,  ..., 50259, 50259, 50259],\n",
            "        [50258, 50258, 50258,  ..., 50259, 50259, 50259],\n",
            "        [50258, 50258, 50258,  ..., 50259, 50259, 50259],\n",
            "        ...,\n",
            "        [50258, 50258, 50258,  ..., 50259, 50259, 50259],\n",
            "        [50258, 50258, 50258,  ..., 50259, 50259, 50259],\n",
            "        [50258, 50258, 50258,  ..., 50259, 50259, 50259]], device='cuda:0')\n"
          ],
          "name": "stdout"
        },
        {
          "output_type": "stream",
          "text": [
            "\rTraining:  72%|███████▏  | 206/287 [01:56<00:45,  1.78it/s]"
          ],
          "name": "stderr"
        },
        {
          "output_type": "stream",
          "text": [
            "32\n",
            "tensor([[50258, 50258, 50258,  ..., 50259, 50259, 50259],\n",
            "        [50258, 50258, 50258,  ..., 50259, 50259, 50259],\n",
            "        [50258, 50258, 50258,  ..., 50259, 50259, 50259],\n",
            "        ...,\n",
            "        [50258, 50258, 50258,  ..., 50259, 50259, 50259],\n",
            "        [50258, 50258, 50258,  ..., 50259, 50259, 50259],\n",
            "        [50258, 50258, 50258,  ..., 50259, 50259, 50259]], device='cuda:0')\n"
          ],
          "name": "stdout"
        },
        {
          "output_type": "stream",
          "text": [
            "\rTraining:  72%|███████▏  | 207/287 [01:56<00:45,  1.77it/s]"
          ],
          "name": "stderr"
        },
        {
          "output_type": "stream",
          "text": [
            "32\n",
            "tensor([[50258, 50258, 50258,  ..., 50259, 50259, 50259],\n",
            "        [50258, 50258, 50258,  ..., 50259, 50259, 50259],\n",
            "        [50258, 50258, 50258,  ..., 50259, 50259, 50259],\n",
            "        ...,\n",
            "        [50258, 50258, 50258,  ..., 50259, 50259, 50259],\n",
            "        [50258, 50258, 50258,  ..., 50259, 50259, 50259],\n",
            "        [50258, 50258, 50258,  ..., 50259, 50259, 50259]], device='cuda:0')\n"
          ],
          "name": "stdout"
        },
        {
          "output_type": "stream",
          "text": [
            "\rTraining:  72%|███████▏  | 208/287 [01:57<00:44,  1.77it/s]"
          ],
          "name": "stderr"
        },
        {
          "output_type": "stream",
          "text": [
            "32\n",
            "tensor([[50258, 50258, 50258,  ..., 50259, 50259, 50259],\n",
            "        [50258, 50258, 50258,  ..., 50259, 50259, 50259],\n",
            "        [50258, 50258, 50258,  ..., 50259, 50259, 50259],\n",
            "        ...,\n",
            "        [50258, 50258, 50258,  ..., 50259, 50259, 50259],\n",
            "        [50258, 50258, 50258,  ..., 50259, 50259, 50259],\n",
            "        [50258, 50258, 50258,  ..., 50259, 50259, 50259]], device='cuda:0')\n"
          ],
          "name": "stdout"
        },
        {
          "output_type": "stream",
          "text": [
            "\rTraining:  73%|███████▎  | 209/287 [01:58<00:44,  1.77it/s]"
          ],
          "name": "stderr"
        },
        {
          "output_type": "stream",
          "text": [
            "32\n",
            "tensor([[50258, 50258, 50258,  ..., 50259, 50259, 50259],\n",
            "        [50258, 50258, 50258,  ..., 50259, 50259, 50259],\n",
            "        [50258, 50258, 50258,  ..., 50259, 50259, 50259],\n",
            "        ...,\n",
            "        [50258, 50258, 50258,  ..., 50259, 50259, 50259],\n",
            "        [50258, 50258, 50258,  ..., 50259, 50259, 50259],\n",
            "        [50258, 50258, 50258,  ..., 50259, 50259, 50259]], device='cuda:0')\n"
          ],
          "name": "stdout"
        },
        {
          "output_type": "stream",
          "text": [
            "\rTraining:  73%|███████▎  | 210/287 [01:58<00:43,  1.77it/s]"
          ],
          "name": "stderr"
        },
        {
          "output_type": "stream",
          "text": [
            "32\n",
            "tensor([[50258, 50258, 50258,  ..., 50259, 50259, 50259],\n",
            "        [50258, 50258, 50258,  ..., 50259, 50259, 50259],\n",
            "        [50258, 50258, 50258,  ..., 50259, 50259, 50259],\n",
            "        ...,\n",
            "        [50258, 50258, 50258,  ..., 50259, 50259, 50259],\n",
            "        [50258, 50258, 50258,  ..., 50259, 50259, 50259],\n",
            "        [50258, 50258, 50258,  ..., 50259, 50259, 50259]], device='cuda:0')\n"
          ],
          "name": "stdout"
        },
        {
          "output_type": "stream",
          "text": [
            "\rTraining:  74%|███████▎  | 211/287 [01:59<00:42,  1.77it/s]"
          ],
          "name": "stderr"
        },
        {
          "output_type": "stream",
          "text": [
            "32\n",
            "tensor([[50258, 50258, 50258,  ..., 50259, 50259, 50259],\n",
            "        [50258, 50258, 50258,  ..., 50259, 50259, 50259],\n",
            "        [50258, 50258, 50258,  ..., 50259, 50259, 50259],\n",
            "        ...,\n",
            "        [50258, 50258, 50258,  ..., 50259, 50259, 50259],\n",
            "        [50258, 50258, 50258,  ..., 50259, 50259, 50259],\n",
            "        [50258, 50258, 50258,  ..., 50259, 50259, 50259]], device='cuda:0')\n"
          ],
          "name": "stdout"
        },
        {
          "output_type": "stream",
          "text": [
            "\rTraining:  74%|███████▍  | 212/287 [01:59<00:42,  1.77it/s]"
          ],
          "name": "stderr"
        },
        {
          "output_type": "stream",
          "text": [
            "32\n",
            "tensor([[50258, 50258, 50258,  ..., 50259, 50259, 50259],\n",
            "        [50258, 50258, 50258,  ..., 50259, 50259, 50259],\n",
            "        [50258, 50258, 50258,  ..., 50259, 50259, 50259],\n",
            "        ...,\n",
            "        [50258, 50258, 50258,  ..., 50259, 50259, 50259],\n",
            "        [50258, 50258, 50258,  ..., 50259, 50259, 50259],\n",
            "        [50258, 50258, 50258,  ..., 50259, 50259, 50259]], device='cuda:0')\n"
          ],
          "name": "stdout"
        },
        {
          "output_type": "stream",
          "text": [
            "\rTraining:  74%|███████▍  | 213/287 [02:00<00:41,  1.77it/s]"
          ],
          "name": "stderr"
        },
        {
          "output_type": "stream",
          "text": [
            "32\n",
            "tensor([[50258, 50258, 50258,  ..., 50259, 50259, 50259],\n",
            "        [50258, 50258, 50258,  ..., 50259, 50259, 50259],\n",
            "        [50258, 50258, 50258,  ..., 50259, 50259, 50259],\n",
            "        ...,\n",
            "        [50258, 50258, 50258,  ..., 50259, 50259, 50259],\n",
            "        [50258, 50258, 50258,  ..., 50259, 50259, 50259],\n",
            "        [50258, 50258, 50258,  ..., 50259, 50259, 50259]], device='cuda:0')\n"
          ],
          "name": "stdout"
        },
        {
          "output_type": "stream",
          "text": [
            "\rTraining:  75%|███████▍  | 214/287 [02:00<00:41,  1.77it/s]"
          ],
          "name": "stderr"
        },
        {
          "output_type": "stream",
          "text": [
            "32\n",
            "tensor([[50258, 50258, 50258,  ..., 50259, 50259, 50259],\n",
            "        [50258, 50258, 50258,  ..., 50259, 50259, 50259],\n",
            "        [50258, 50258, 50258,  ..., 50259, 50259, 50259],\n",
            "        ...,\n",
            "        [50258, 50258, 50258,  ..., 50259, 50259, 50259],\n",
            "        [50258, 50258, 50258,  ..., 50259, 50259, 50259],\n",
            "        [50258, 50258, 50258,  ..., 50259, 50259, 50259]], device='cuda:0')\n"
          ],
          "name": "stdout"
        },
        {
          "output_type": "stream",
          "text": [
            "\rTraining:  75%|███████▍  | 215/287 [02:01<00:40,  1.78it/s]"
          ],
          "name": "stderr"
        },
        {
          "output_type": "stream",
          "text": [
            "32\n",
            "tensor([[50258, 50258, 50258,  ..., 50259, 50259, 50259],\n",
            "        [50258, 50258, 50258,  ..., 50259, 50259, 50259],\n",
            "        [50258, 50258, 50258,  ..., 50259, 50259, 50259],\n",
            "        ...,\n",
            "        [50258, 50258, 50258,  ..., 50259, 50259, 50259],\n",
            "        [50258, 50258, 50258,  ..., 50259, 50259, 50259],\n",
            "        [50258, 50258, 50258,  ..., 50259, 50259, 50259]], device='cuda:0')\n"
          ],
          "name": "stdout"
        },
        {
          "output_type": "stream",
          "text": [
            "\rTraining:  75%|███████▌  | 216/287 [02:02<00:40,  1.77it/s]"
          ],
          "name": "stderr"
        },
        {
          "output_type": "stream",
          "text": [
            "32\n",
            "tensor([[50258, 50258, 50258,  ..., 50259, 50259, 50259],\n",
            "        [50258, 50258, 50258,  ..., 50259, 50259, 50259],\n",
            "        [50258, 50258, 50258,  ..., 50259, 50259, 50259],\n",
            "        ...,\n",
            "        [50258, 50258, 50258,  ..., 50259, 50259, 50259],\n",
            "        [50258, 50258, 50258,  ..., 50259, 50259, 50259],\n",
            "        [50258, 50258, 50258,  ..., 50259, 50259, 50259]], device='cuda:0')\n"
          ],
          "name": "stdout"
        },
        {
          "output_type": "stream",
          "text": [
            "\rTraining:  76%|███████▌  | 217/287 [02:02<00:39,  1.77it/s]"
          ],
          "name": "stderr"
        },
        {
          "output_type": "stream",
          "text": [
            "32\n",
            "tensor([[50258, 50258, 50258,  ..., 50259, 50259, 50259],\n",
            "        [50258, 50258, 50258,  ..., 50259, 50259, 50259],\n",
            "        [50258, 50258, 50258,  ..., 50259, 50259, 50259],\n",
            "        ...,\n",
            "        [50258, 50258, 50258,  ..., 50259, 50259, 50259],\n",
            "        [50258, 50258, 50258,  ..., 50259, 50259, 50259],\n",
            "        [50258, 50258, 50258,  ..., 50259, 50259, 50259]], device='cuda:0')\n"
          ],
          "name": "stdout"
        },
        {
          "output_type": "stream",
          "text": [
            "\rTraining:  76%|███████▌  | 218/287 [02:03<00:38,  1.77it/s]"
          ],
          "name": "stderr"
        },
        {
          "output_type": "stream",
          "text": [
            "32\n",
            "tensor([[50258, 50258, 50258,  ..., 50259, 50259, 50259],\n",
            "        [50258, 50258, 50258,  ..., 50259, 50259, 50259],\n",
            "        [50258, 50258, 50258,  ..., 50259, 50259, 50259],\n",
            "        ...,\n",
            "        [50258, 50258, 50258,  ..., 50259, 50259, 50259],\n",
            "        [50258, 50258, 50258,  ..., 50259, 50259, 50259],\n",
            "        [50258, 50258, 50258,  ..., 50259, 50259, 50259]], device='cuda:0')\n"
          ],
          "name": "stdout"
        },
        {
          "output_type": "stream",
          "text": [
            "\rTraining:  76%|███████▋  | 219/287 [02:03<00:38,  1.77it/s]"
          ],
          "name": "stderr"
        },
        {
          "output_type": "stream",
          "text": [
            "32\n",
            "tensor([[50258, 50258, 50258,  ..., 50259, 50259, 50259],\n",
            "        [50258, 50258, 50258,  ..., 50259, 50259, 50259],\n",
            "        [50258, 50258, 50258,  ..., 50259, 50259, 50259],\n",
            "        ...,\n",
            "        [50258, 50258, 50258,  ..., 50259, 50259, 50259],\n",
            "        [50258, 50258, 50258,  ..., 50259, 50259, 50259],\n",
            "        [50258, 50258, 50258,  ..., 50259, 50259, 50259]], device='cuda:0')\n"
          ],
          "name": "stdout"
        },
        {
          "output_type": "stream",
          "text": [
            "\rTraining:  77%|███████▋  | 220/287 [02:04<00:37,  1.77it/s]"
          ],
          "name": "stderr"
        },
        {
          "output_type": "stream",
          "text": [
            "32\n",
            "tensor([[50258, 50258, 50258,  ..., 50259, 50259, 50259],\n",
            "        [50258, 50258, 50258,  ..., 50259, 50259, 50259],\n",
            "        [50258, 50258, 50258,  ..., 50259, 50259, 50259],\n",
            "        ...,\n",
            "        [50258, 50258, 50258,  ..., 50259, 50259, 50259],\n",
            "        [50258, 50258, 50258,  ..., 50259, 50259, 50259],\n",
            "        [50258, 50258, 50258,  ..., 50259, 50259, 50259]], device='cuda:0')\n"
          ],
          "name": "stdout"
        },
        {
          "output_type": "stream",
          "text": [
            "\rTraining:  77%|███████▋  | 221/287 [02:04<00:37,  1.77it/s]"
          ],
          "name": "stderr"
        },
        {
          "output_type": "stream",
          "text": [
            "32\n",
            "tensor([[50258, 50258, 50258,  ..., 50259, 50259, 50259],\n",
            "        [50258, 50258, 50258,  ..., 50259, 50259, 50259],\n",
            "        [50258, 50258, 50258,  ..., 50259, 50259, 50259],\n",
            "        ...,\n",
            "        [50258, 50258, 50258,  ..., 50259, 50259, 50259],\n",
            "        [50258, 50258, 50258,  ..., 50259, 50259, 50259],\n",
            "        [50258, 50258, 50258,  ..., 50259, 50259, 50259]], device='cuda:0')\n"
          ],
          "name": "stdout"
        },
        {
          "output_type": "stream",
          "text": [
            "\rTraining:  77%|███████▋  | 222/287 [02:05<00:36,  1.77it/s]"
          ],
          "name": "stderr"
        },
        {
          "output_type": "stream",
          "text": [
            "32\n",
            "tensor([[50258, 50258, 50258,  ..., 50259, 50259, 50259],\n",
            "        [50258, 50258, 50258,  ..., 50259, 50259, 50259],\n",
            "        [50258, 50258, 50258,  ..., 50259, 50259, 50259],\n",
            "        ...,\n",
            "        [50258, 50258, 50258,  ..., 50259, 50259, 50259],\n",
            "        [50258, 50258, 50258,  ..., 50259, 50259, 50259],\n",
            "        [50258, 50258, 50258,  ..., 50259, 50259, 50259]], device='cuda:0')\n"
          ],
          "name": "stdout"
        },
        {
          "output_type": "stream",
          "text": [
            "\rTraining:  78%|███████▊  | 223/287 [02:05<00:36,  1.77it/s]"
          ],
          "name": "stderr"
        },
        {
          "output_type": "stream",
          "text": [
            "32\n",
            "tensor([[50258, 50258, 50258,  ..., 50259, 50259, 50259],\n",
            "        [50258, 50258, 50258,  ..., 50259, 50259, 50259],\n",
            "        [50258, 50258, 50258,  ..., 50259, 50259, 50259],\n",
            "        ...,\n",
            "        [50258, 50258, 50258,  ..., 50259, 50259, 50259],\n",
            "        [50258, 50258, 50258,  ..., 50259, 50259, 50259],\n",
            "        [50258, 50258, 50258,  ..., 50259, 50259, 50259]], device='cuda:0')\n"
          ],
          "name": "stdout"
        },
        {
          "output_type": "stream",
          "text": [
            "\rTraining:  78%|███████▊  | 224/287 [02:06<00:35,  1.78it/s]"
          ],
          "name": "stderr"
        },
        {
          "output_type": "stream",
          "text": [
            "32\n",
            "tensor([[50258, 50258, 50258,  ..., 50259, 50259, 50259],\n",
            "        [50258, 50258, 50258,  ..., 50259, 50259, 50259],\n",
            "        [50258, 50258, 50258,  ..., 50259, 50259, 50259],\n",
            "        ...,\n",
            "        [50258, 50258, 50258,  ..., 50259, 50259, 50259],\n",
            "        [50258, 50258, 50258,  ..., 50259, 50259, 50259],\n",
            "        [50258, 50258, 50258,  ..., 50259, 50259, 50259]], device='cuda:0')\n"
          ],
          "name": "stdout"
        },
        {
          "output_type": "stream",
          "text": [
            "\rTraining:  78%|███████▊  | 225/287 [02:07<00:35,  1.77it/s]"
          ],
          "name": "stderr"
        },
        {
          "output_type": "stream",
          "text": [
            "32\n",
            "tensor([[50258, 50258, 50258,  ..., 50259, 50259, 50259],\n",
            "        [50258, 50258, 50258,  ..., 50259, 50259, 50259],\n",
            "        [50258, 50258, 50258,  ..., 50259, 50259, 50259],\n",
            "        ...,\n",
            "        [50258, 50258, 50258,  ..., 50259, 50259, 50259],\n",
            "        [50258, 50258, 50258,  ..., 50259, 50259, 50259],\n",
            "        [50258, 50258, 50258,  ..., 50259, 50259, 50259]], device='cuda:0')\n"
          ],
          "name": "stdout"
        },
        {
          "output_type": "stream",
          "text": [
            "\rTraining:  79%|███████▊  | 226/287 [02:07<00:34,  1.78it/s]"
          ],
          "name": "stderr"
        },
        {
          "output_type": "stream",
          "text": [
            "32\n",
            "tensor([[50258, 50258, 50258,  ..., 50259, 50259, 50259],\n",
            "        [50258, 50258, 50258,  ..., 50259, 50259, 50259],\n",
            "        [50258, 50258, 50258,  ..., 50259, 50259, 50259],\n",
            "        ...,\n",
            "        [50258, 50258, 50258,  ..., 50259, 50259, 50259],\n",
            "        [50258, 50258, 50258,  ..., 50259, 50259, 50259],\n",
            "        [50258, 50258, 50258,  ..., 50259, 50259, 50259]], device='cuda:0')\n"
          ],
          "name": "stdout"
        },
        {
          "output_type": "stream",
          "text": [
            "\rTraining:  79%|███████▉  | 227/287 [02:08<00:33,  1.77it/s]"
          ],
          "name": "stderr"
        },
        {
          "output_type": "stream",
          "text": [
            "32\n",
            "tensor([[50258, 50258, 50258,  ..., 50259, 50259, 50259],\n",
            "        [50258, 50258, 50258,  ..., 50259, 50259, 50259],\n",
            "        [50258, 50258, 50258,  ..., 50259, 50259, 50259],\n",
            "        ...,\n",
            "        [50258, 50258, 50258,  ..., 50259, 50259, 50259],\n",
            "        [50258, 50258, 50258,  ..., 50259, 50259, 50259],\n",
            "        [50258, 50258, 50258,  ..., 50259, 50259, 50259]], device='cuda:0')\n"
          ],
          "name": "stdout"
        },
        {
          "output_type": "stream",
          "text": [
            "\rTraining:  79%|███████▉  | 228/287 [02:08<00:33,  1.77it/s]"
          ],
          "name": "stderr"
        },
        {
          "output_type": "stream",
          "text": [
            "32\n",
            "tensor([[50258, 50258, 50258,  ..., 50259, 50259, 50259],\n",
            "        [50258, 50258, 50258,  ..., 50259, 50259, 50259],\n",
            "        [50258, 50258, 50258,  ..., 50259, 50259, 50259],\n",
            "        ...,\n",
            "        [50258, 50258, 50258,  ..., 50259, 50259, 50259],\n",
            "        [50258, 50258, 50258,  ..., 50259, 50259, 50259],\n",
            "        [50258, 50258, 50258,  ..., 50259, 50259, 50259]], device='cuda:0')\n"
          ],
          "name": "stdout"
        },
        {
          "output_type": "stream",
          "text": [
            "\rTraining:  80%|███████▉  | 229/287 [02:09<00:32,  1.77it/s]"
          ],
          "name": "stderr"
        },
        {
          "output_type": "stream",
          "text": [
            "32\n",
            "tensor([[50258, 50258, 50258,  ..., 50259, 50259, 50259],\n",
            "        [50258, 50258, 50258,  ..., 50259, 50259, 50259],\n",
            "        [50258, 50258, 50258,  ..., 50259, 50259, 50259],\n",
            "        ...,\n",
            "        [50258, 50258, 50258,  ..., 50259, 50259, 50259],\n",
            "        [50258, 50258, 50258,  ..., 50259, 50259, 50259],\n",
            "        [50258, 50258, 50258,  ..., 50259, 50259, 50259]], device='cuda:0')\n"
          ],
          "name": "stdout"
        },
        {
          "output_type": "stream",
          "text": [
            "\rTraining:  80%|████████  | 230/287 [02:09<00:32,  1.77it/s]"
          ],
          "name": "stderr"
        },
        {
          "output_type": "stream",
          "text": [
            "32\n",
            "tensor([[50258, 50258, 50258,  ..., 50259, 50259, 50259],\n",
            "        [50258, 50258, 50258,  ..., 50259, 50259, 50259],\n",
            "        [50258, 50258, 50258,  ..., 50259, 50259, 50259],\n",
            "        ...,\n",
            "        [50258, 50258, 50258,  ..., 50259, 50259, 50259],\n",
            "        [50258, 50258, 50258,  ..., 50259, 50259, 50259],\n",
            "        [50258, 50258, 50258,  ..., 50259, 50259, 50259]], device='cuda:0')\n"
          ],
          "name": "stdout"
        },
        {
          "output_type": "stream",
          "text": [
            "\rTraining:  80%|████████  | 231/287 [02:10<00:31,  1.77it/s]"
          ],
          "name": "stderr"
        },
        {
          "output_type": "stream",
          "text": [
            "32\n",
            "tensor([[50258, 50258, 50258,  ..., 50259, 50259, 50259],\n",
            "        [50258, 50258, 50258,  ..., 50259, 50259, 50259],\n",
            "        [50258, 50258, 50258,  ..., 50259, 50259, 50259],\n",
            "        ...,\n",
            "        [50258, 50258, 50258,  ..., 50259, 50259, 50259],\n",
            "        [50258, 50258, 50258,  ..., 50259, 50259, 50259],\n",
            "        [50258, 50258, 50258,  ..., 50259, 50259, 50259]], device='cuda:0')\n"
          ],
          "name": "stdout"
        },
        {
          "output_type": "stream",
          "text": [
            "\rTraining:  81%|████████  | 232/287 [02:11<00:30,  1.77it/s]"
          ],
          "name": "stderr"
        },
        {
          "output_type": "stream",
          "text": [
            "32\n",
            "tensor([[50258, 50258, 50258,  ..., 50259, 50259, 50259],\n",
            "        [50258, 50258, 50258,  ..., 50259, 50259, 50259],\n",
            "        [50258, 50258, 50258,  ..., 50259, 50259, 50259],\n",
            "        ...,\n",
            "        [50258, 50258, 50258,  ..., 50259, 50259, 50259],\n",
            "        [50258, 50258, 50258,  ..., 50259, 50259, 50259],\n",
            "        [50258, 50258, 50258,  ..., 50259, 50259, 50259]], device='cuda:0')\n"
          ],
          "name": "stdout"
        },
        {
          "output_type": "stream",
          "text": [
            "\rTraining:  81%|████████  | 233/287 [02:11<00:30,  1.77it/s]"
          ],
          "name": "stderr"
        },
        {
          "output_type": "stream",
          "text": [
            "32\n",
            "tensor([[50258, 50258, 50258,  ..., 50259, 50259, 50259],\n",
            "        [50258, 50258, 50258,  ..., 50259, 50259, 50259],\n",
            "        [50258, 50258, 50258,  ..., 50259, 50259, 50259],\n",
            "        ...,\n",
            "        [50258, 50258, 50258,  ..., 50259, 50259, 50259],\n",
            "        [50258, 50258, 50258,  ..., 50259, 50259, 50259],\n",
            "        [50258, 50258, 50258,  ..., 50259, 50259, 50259]], device='cuda:0')\n"
          ],
          "name": "stdout"
        },
        {
          "output_type": "stream",
          "text": [
            "\rTraining:  82%|████████▏ | 234/287 [02:12<00:29,  1.77it/s]"
          ],
          "name": "stderr"
        },
        {
          "output_type": "stream",
          "text": [
            "32\n",
            "tensor([[50258, 50258, 50258,  ..., 50259, 50259, 50259],\n",
            "        [50258, 50258, 50258,  ..., 50259, 50259, 50259],\n",
            "        [50258, 50258, 50258,  ..., 50259, 50259, 50259],\n",
            "        ...,\n",
            "        [50258, 50258, 50258,  ..., 50259, 50259, 50259],\n",
            "        [50258, 50258, 50258,  ..., 50259, 50259, 50259],\n",
            "        [50258, 50258, 50258,  ..., 50259, 50259, 50259]], device='cuda:0')\n"
          ],
          "name": "stdout"
        },
        {
          "output_type": "stream",
          "text": [
            "\rTraining:  82%|████████▏ | 235/287 [02:12<00:29,  1.77it/s]"
          ],
          "name": "stderr"
        },
        {
          "output_type": "stream",
          "text": [
            "32\n",
            "tensor([[50258, 50258, 50258,  ..., 50259, 50259, 50259],\n",
            "        [50258, 50258, 50258,  ..., 50259, 50259, 50259],\n",
            "        [50258, 50258, 50258,  ..., 50259, 50259, 50259],\n",
            "        ...,\n",
            "        [50258, 50258, 50258,  ..., 50259, 50259, 50259],\n",
            "        [50258, 50258, 50258,  ..., 50259, 50259, 50259],\n",
            "        [50258, 50258, 50258,  ..., 50259, 50259, 50259]], device='cuda:0')\n"
          ],
          "name": "stdout"
        },
        {
          "output_type": "stream",
          "text": [
            "\rTraining:  82%|████████▏ | 236/287 [02:13<00:28,  1.77it/s]"
          ],
          "name": "stderr"
        },
        {
          "output_type": "stream",
          "text": [
            "32\n",
            "tensor([[50258, 50258, 50258,  ..., 50259, 50259, 50259],\n",
            "        [50258, 50258, 50258,  ..., 50259, 50259, 50259],\n",
            "        [50258, 50258, 50258,  ..., 50259, 50259, 50259],\n",
            "        ...,\n",
            "        [50258, 50258, 50258,  ..., 50259, 50259, 50259],\n",
            "        [50258, 50258, 50258,  ..., 50259, 50259, 50259],\n",
            "        [50258, 50258, 50258,  ..., 50259, 50259, 50259]], device='cuda:0')\n"
          ],
          "name": "stdout"
        },
        {
          "output_type": "stream",
          "text": [
            "\rTraining:  83%|████████▎ | 237/287 [02:13<00:28,  1.77it/s]"
          ],
          "name": "stderr"
        },
        {
          "output_type": "stream",
          "text": [
            "32\n",
            "tensor([[50258, 50258, 50258,  ..., 50259, 50259, 50259],\n",
            "        [50258, 50258, 50258,  ..., 50259, 50259, 50259],\n",
            "        [50258, 50258, 50258,  ..., 50259, 50259, 50259],\n",
            "        ...,\n",
            "        [50258, 50258, 50258,  ..., 50259, 50259, 50259],\n",
            "        [50258, 50258, 50258,  ..., 50259, 50259, 50259],\n",
            "        [50258, 50258, 50258,  ..., 50259, 50259, 50259]], device='cuda:0')\n"
          ],
          "name": "stdout"
        },
        {
          "output_type": "stream",
          "text": [
            "\rTraining:  83%|████████▎ | 238/287 [02:14<00:27,  1.77it/s]"
          ],
          "name": "stderr"
        },
        {
          "output_type": "stream",
          "text": [
            "32\n",
            "tensor([[50258, 50258, 50258,  ..., 50259, 50259, 50259],\n",
            "        [50258, 50258, 50258,  ..., 50259, 50259, 50259],\n",
            "        [50258, 50258, 50258,  ..., 50259, 50259, 50259],\n",
            "        ...,\n",
            "        [50258, 50258, 50258,  ..., 50259, 50259, 50259],\n",
            "        [50258, 50258, 50258,  ..., 50259, 50259, 50259],\n",
            "        [50258, 50258, 50258,  ..., 50259, 50259, 50259]], device='cuda:0')\n"
          ],
          "name": "stdout"
        },
        {
          "output_type": "stream",
          "text": [
            "\rTraining:  83%|████████▎ | 239/287 [02:14<00:27,  1.77it/s]"
          ],
          "name": "stderr"
        },
        {
          "output_type": "stream",
          "text": [
            "32\n",
            "tensor([[50258, 50258, 50258,  ..., 50259, 50259, 50259],\n",
            "        [50258, 50258, 50258,  ..., 50259, 50259, 50259],\n",
            "        [50258, 50258, 50258,  ..., 50259, 50259, 50259],\n",
            "        ...,\n",
            "        [50258, 50258, 50258,  ..., 50259, 50259, 50259],\n",
            "        [50258, 50258, 50258,  ..., 50259, 50259, 50259],\n",
            "        [50258, 50258, 50258,  ..., 50259, 50259, 50259]], device='cuda:0')\n"
          ],
          "name": "stdout"
        },
        {
          "output_type": "stream",
          "text": [
            "\rTraining:  84%|████████▎ | 240/287 [02:15<00:26,  1.77it/s]"
          ],
          "name": "stderr"
        },
        {
          "output_type": "stream",
          "text": [
            "32\n",
            "tensor([[50258, 50258, 50258,  ..., 50259, 50259, 50259],\n",
            "        [50258, 50258, 50258,  ..., 50259, 50259, 50259],\n",
            "        [50258, 50258, 50258,  ..., 50259, 50259, 50259],\n",
            "        ...,\n",
            "        [50258, 50258, 50258,  ..., 50259, 50259, 50259],\n",
            "        [50258, 50258, 50258,  ..., 50259, 50259, 50259],\n",
            "        [50258, 50258, 50258,  ..., 50259, 50259, 50259]], device='cuda:0')\n"
          ],
          "name": "stdout"
        },
        {
          "output_type": "stream",
          "text": [
            "\rTraining:  84%|████████▍ | 241/287 [02:16<00:25,  1.77it/s]"
          ],
          "name": "stderr"
        },
        {
          "output_type": "stream",
          "text": [
            "32\n",
            "tensor([[50258, 50258, 50258,  ..., 50259, 50259, 50259],\n",
            "        [50258, 50258, 50258,  ..., 50259, 50259, 50259],\n",
            "        [50258, 50258, 50258,  ..., 50259, 50259, 50259],\n",
            "        ...,\n",
            "        [50258, 50258, 50258,  ..., 50259, 50259, 50259],\n",
            "        [50258, 50258, 50258,  ..., 50259, 50259, 50259],\n",
            "        [50258, 50258, 50258,  ..., 50259, 50259, 50259]], device='cuda:0')\n"
          ],
          "name": "stdout"
        },
        {
          "output_type": "stream",
          "text": [
            "\rTraining:  84%|████████▍ | 242/287 [02:16<00:25,  1.77it/s]"
          ],
          "name": "stderr"
        },
        {
          "output_type": "stream",
          "text": [
            "32\n",
            "tensor([[50258, 50258, 50258,  ..., 50259, 50259, 50259],\n",
            "        [50258, 50258, 50258,  ..., 50259, 50259, 50259],\n",
            "        [50258, 50258, 50258,  ..., 50259, 50259, 50259],\n",
            "        ...,\n",
            "        [50258, 50258, 50258,  ..., 50259, 50259, 50259],\n",
            "        [50258, 50258, 50258,  ..., 50259, 50259, 50259],\n",
            "        [50258, 50258, 50258,  ..., 50259, 50259, 50259]], device='cuda:0')\n"
          ],
          "name": "stdout"
        },
        {
          "output_type": "stream",
          "text": [
            "\rTraining:  85%|████████▍ | 243/287 [02:17<00:24,  1.77it/s]"
          ],
          "name": "stderr"
        },
        {
          "output_type": "stream",
          "text": [
            "32\n",
            "tensor([[50258, 50258, 50258,  ..., 50259, 50259, 50259],\n",
            "        [50258, 50258, 50258,  ..., 50259, 50259, 50259],\n",
            "        [50258, 50258, 50258,  ..., 50259, 50259, 50259],\n",
            "        ...,\n",
            "        [50258, 50258, 50258,  ..., 50259, 50259, 50259],\n",
            "        [50258, 50258, 50258,  ..., 50259, 50259, 50259],\n",
            "        [50258, 50258, 50258,  ..., 50259, 50259, 50259]], device='cuda:0')\n"
          ],
          "name": "stdout"
        },
        {
          "output_type": "stream",
          "text": [
            "\rTraining:  85%|████████▌ | 244/287 [02:17<00:24,  1.77it/s]"
          ],
          "name": "stderr"
        },
        {
          "output_type": "stream",
          "text": [
            "32\n",
            "tensor([[50258, 50258, 50258,  ..., 50259, 50259, 50259],\n",
            "        [50258, 50258, 50258,  ..., 50259, 50259, 50259],\n",
            "        [50258, 50258, 50258,  ..., 50259, 50259, 50259],\n",
            "        ...,\n",
            "        [50258, 50258, 50258,  ..., 50259, 50259, 50259],\n",
            "        [50258, 50258, 50258,  ..., 50259, 50259, 50259],\n",
            "        [50258, 50258, 50258,  ..., 50259, 50259, 50259]], device='cuda:0')\n"
          ],
          "name": "stdout"
        },
        {
          "output_type": "stream",
          "text": [
            "\rTraining:  85%|████████▌ | 245/287 [02:18<00:23,  1.77it/s]"
          ],
          "name": "stderr"
        },
        {
          "output_type": "stream",
          "text": [
            "32\n",
            "tensor([[50258, 50258, 50258,  ..., 50259, 50259, 50259],\n",
            "        [50258, 50258, 50258,  ..., 50259, 50259, 50259],\n",
            "        [50258, 50258, 50258,  ..., 50259, 50259, 50259],\n",
            "        ...,\n",
            "        [50258, 50258, 50258,  ..., 50259, 50259, 50259],\n",
            "        [50258, 50258, 50258,  ..., 50259, 50259, 50259],\n",
            "        [50258, 50258, 50258,  ..., 50259, 50259, 50259]], device='cuda:0')\n"
          ],
          "name": "stdout"
        },
        {
          "output_type": "stream",
          "text": [
            "\rTraining:  86%|████████▌ | 246/287 [02:18<00:23,  1.77it/s]"
          ],
          "name": "stderr"
        },
        {
          "output_type": "stream",
          "text": [
            "32\n",
            "tensor([[50258, 50258, 50258,  ..., 50259, 50259, 50259],\n",
            "        [50258, 50258, 50258,  ..., 50259, 50259, 50259],\n",
            "        [50258, 50258, 50258,  ..., 50259, 50259, 50259],\n",
            "        ...,\n",
            "        [50258, 50258, 50258,  ..., 50259, 50259, 50259],\n",
            "        [50258, 50258, 50258,  ..., 50259, 50259, 50259],\n",
            "        [50258, 50258, 50258,  ..., 50259, 50259, 50259]], device='cuda:0')\n"
          ],
          "name": "stdout"
        },
        {
          "output_type": "stream",
          "text": [
            "\rTraining:  86%|████████▌ | 247/287 [02:19<00:22,  1.77it/s]"
          ],
          "name": "stderr"
        },
        {
          "output_type": "stream",
          "text": [
            "32\n",
            "tensor([[50258, 50258, 50258,  ..., 50259, 50259, 50259],\n",
            "        [50258, 50258, 50258,  ..., 50259, 50259, 50259],\n",
            "        [50258, 50258, 50258,  ..., 50259, 50259, 50259],\n",
            "        ...,\n",
            "        [50258, 50258, 50258,  ..., 50259, 50259, 50259],\n",
            "        [50258, 50258, 50258,  ..., 50259, 50259, 50259],\n",
            "        [50258, 50258, 50258,  ..., 50259, 50259, 50259]], device='cuda:0')\n"
          ],
          "name": "stdout"
        },
        {
          "output_type": "stream",
          "text": [
            "\rTraining:  86%|████████▋ | 248/287 [02:20<00:21,  1.77it/s]"
          ],
          "name": "stderr"
        },
        {
          "output_type": "stream",
          "text": [
            "32\n",
            "tensor([[50258, 50258, 50258,  ..., 50259, 50259, 50259],\n",
            "        [50258, 50258, 50258,  ..., 50259, 50259, 50259],\n",
            "        [50258, 50258, 50258,  ..., 50259, 50259, 50259],\n",
            "        ...,\n",
            "        [50258, 50258, 50258,  ..., 50259, 50259, 50259],\n",
            "        [50258, 50258, 50258,  ..., 50259, 50259, 50259],\n",
            "        [50258, 50258, 50258,  ..., 50259, 50259, 50259]], device='cuda:0')\n"
          ],
          "name": "stdout"
        },
        {
          "output_type": "stream",
          "text": [
            "\rTraining:  87%|████████▋ | 249/287 [02:20<00:21,  1.78it/s]"
          ],
          "name": "stderr"
        },
        {
          "output_type": "stream",
          "text": [
            "32\n",
            "tensor([[50258, 50258, 50258,  ..., 50259, 50259, 50259],\n",
            "        [50258, 50258, 50258,  ..., 50259, 50259, 50259],\n",
            "        [50258, 50258, 50258,  ..., 50259, 50259, 50259],\n",
            "        ...,\n",
            "        [50258, 50258, 50258,  ..., 50259, 50259, 50259],\n",
            "        [50258, 50258, 50258,  ..., 50259, 50259, 50259],\n",
            "        [50258, 50258, 50258,  ..., 50259, 50259, 50259]], device='cuda:0')\n"
          ],
          "name": "stdout"
        },
        {
          "output_type": "stream",
          "text": [
            "\rTraining:  87%|████████▋ | 250/287 [02:21<00:20,  1.78it/s]"
          ],
          "name": "stderr"
        },
        {
          "output_type": "stream",
          "text": [
            "32\n",
            "tensor([[50258, 50258, 50258,  ..., 50259, 50259, 50259],\n",
            "        [50258, 50258, 50258,  ..., 50259, 50259, 50259],\n",
            "        [50258, 50258, 50258,  ..., 50259, 50259, 50259],\n",
            "        ...,\n",
            "        [50258, 50258, 50258,  ..., 50259, 50259, 50259],\n",
            "        [50258, 50258, 50258,  ..., 50259, 50259, 50259],\n",
            "        [50258, 50258, 50258,  ..., 50259, 50259, 50259]], device='cuda:0')\n"
          ],
          "name": "stdout"
        },
        {
          "output_type": "stream",
          "text": [
            "\rTraining:  87%|████████▋ | 251/287 [02:21<00:20,  1.78it/s]"
          ],
          "name": "stderr"
        },
        {
          "output_type": "stream",
          "text": [
            "32\n",
            "tensor([[50258, 50258, 50258,  ..., 50259, 50259, 50259],\n",
            "        [50258, 50258, 50258,  ..., 50259, 50259, 50259],\n",
            "        [50258, 50258, 50258,  ..., 50259, 50259, 50259],\n",
            "        ...,\n",
            "        [50258, 50258, 50258,  ..., 50259, 50259, 50259],\n",
            "        [50258, 50258, 50258,  ..., 50259, 50259, 50259],\n",
            "        [50258, 50258, 50258,  ..., 50259, 50259, 50259]], device='cuda:0')\n"
          ],
          "name": "stdout"
        },
        {
          "output_type": "stream",
          "text": [
            "\rTraining:  88%|████████▊ | 252/287 [02:22<00:19,  1.77it/s]"
          ],
          "name": "stderr"
        },
        {
          "output_type": "stream",
          "text": [
            "32\n",
            "tensor([[50258, 50258, 50258,  ..., 50259, 50259, 50259],\n",
            "        [50258, 50258, 50258,  ..., 50259, 50259, 50259],\n",
            "        [50258, 50258, 50258,  ..., 50259, 50259, 50259],\n",
            "        ...,\n",
            "        [50258, 50258, 50258,  ..., 50259, 50259, 50259],\n",
            "        [50258, 50258, 50258,  ..., 50259, 50259, 50259],\n",
            "        [50258, 50258, 50258,  ..., 50259, 50259, 50259]], device='cuda:0')\n"
          ],
          "name": "stdout"
        },
        {
          "output_type": "stream",
          "text": [
            "\rTraining:  88%|████████▊ | 253/287 [02:22<00:19,  1.77it/s]"
          ],
          "name": "stderr"
        },
        {
          "output_type": "stream",
          "text": [
            "32\n",
            "tensor([[50258, 50258, 50258,  ..., 50259, 50259, 50259],\n",
            "        [50258, 50258, 50258,  ..., 50259, 50259, 50259],\n",
            "        [50258, 50258, 50258,  ..., 50259, 50259, 50259],\n",
            "        ...,\n",
            "        [50258, 50258, 50258,  ..., 50259, 50259, 50259],\n",
            "        [50258, 50258, 50258,  ..., 50259, 50259, 50259],\n",
            "        [50258, 50258, 50258,  ..., 50259, 50259, 50259]], device='cuda:0')\n"
          ],
          "name": "stdout"
        },
        {
          "output_type": "stream",
          "text": [
            "\rTraining:  89%|████████▊ | 254/287 [02:23<00:18,  1.77it/s]"
          ],
          "name": "stderr"
        },
        {
          "output_type": "stream",
          "text": [
            "32\n",
            "tensor([[50258, 50258, 50258,  ..., 50259, 50259, 50259],\n",
            "        [50258, 50258, 50258,  ..., 50259, 50259, 50259],\n",
            "        [50258, 50258, 50258,  ..., 50259, 50259, 50259],\n",
            "        ...,\n",
            "        [50258, 50258, 50258,  ..., 50259, 50259, 50259],\n",
            "        [50258, 50258, 50258,  ..., 50259, 50259, 50259],\n",
            "        [50258, 50258, 50258,  ..., 50259, 50259, 50259]], device='cuda:0')\n"
          ],
          "name": "stdout"
        },
        {
          "output_type": "stream",
          "text": [
            "\rTraining:  89%|████████▉ | 255/287 [02:24<00:18,  1.77it/s]"
          ],
          "name": "stderr"
        },
        {
          "output_type": "stream",
          "text": [
            "32\n",
            "tensor([[50258, 50258, 50258,  ..., 50259, 50259, 50259],\n",
            "        [50258, 50258, 50258,  ..., 50259, 50259, 50259],\n",
            "        [50258, 50258, 50258,  ..., 50259, 50259, 50259],\n",
            "        ...,\n",
            "        [50258, 50258, 50258,  ..., 50259, 50259, 50259],\n",
            "        [50258, 50258, 50258,  ..., 50259, 50259, 50259],\n",
            "        [50258, 50258, 50258,  ..., 50259, 50259, 50259]], device='cuda:0')\n"
          ],
          "name": "stdout"
        },
        {
          "output_type": "stream",
          "text": [
            "\rTraining:  89%|████████▉ | 256/287 [02:24<00:17,  1.77it/s]"
          ],
          "name": "stderr"
        },
        {
          "output_type": "stream",
          "text": [
            "32\n",
            "tensor([[50258, 50258, 50258,  ..., 50259, 50259, 50259],\n",
            "        [50258, 50258, 50258,  ..., 50259, 50259, 50259],\n",
            "        [50258, 50258, 50258,  ..., 50259, 50259, 50259],\n",
            "        ...,\n",
            "        [50258, 50258, 50258,  ..., 50259, 50259, 50259],\n",
            "        [50258, 50258, 50258,  ..., 50259, 50259, 50259],\n",
            "        [50258, 50258, 50258,  ..., 50259, 50259, 50259]], device='cuda:0')\n"
          ],
          "name": "stdout"
        },
        {
          "output_type": "stream",
          "text": [
            "\rTraining:  90%|████████▉ | 257/287 [02:25<00:16,  1.77it/s]"
          ],
          "name": "stderr"
        },
        {
          "output_type": "stream",
          "text": [
            "32\n",
            "tensor([[50258, 50258, 50258,  ..., 50259, 50259, 50259],\n",
            "        [50258, 50258, 50258,  ..., 50259, 50259, 50259],\n",
            "        [50258, 50258, 50258,  ..., 50259, 50259, 50259],\n",
            "        ...,\n",
            "        [50258, 50258, 50258,  ..., 50259, 50259, 50259],\n",
            "        [50258, 50258, 50258,  ..., 50259, 50259, 50259],\n",
            "        [50258, 50258, 50258,  ..., 50259, 50259, 50259]], device='cuda:0')\n"
          ],
          "name": "stdout"
        },
        {
          "output_type": "stream",
          "text": [
            "\rTraining:  90%|████████▉ | 258/287 [02:25<00:16,  1.77it/s]"
          ],
          "name": "stderr"
        },
        {
          "output_type": "stream",
          "text": [
            "32\n",
            "tensor([[50258, 50258, 50258,  ..., 50259, 50259, 50259],\n",
            "        [50258, 50258, 50258,  ..., 50259, 50259, 50259],\n",
            "        [50258, 50258, 50258,  ..., 50259, 50259, 50259],\n",
            "        ...,\n",
            "        [50258, 50258, 50258,  ..., 50259, 50259, 50259],\n",
            "        [50258, 50258, 50258,  ..., 50259, 50259, 50259],\n",
            "        [50258, 50258, 50258,  ..., 50259, 50259, 50259]], device='cuda:0')\n"
          ],
          "name": "stdout"
        },
        {
          "output_type": "stream",
          "text": [
            "\rTraining:  90%|█████████ | 259/287 [02:26<00:15,  1.77it/s]"
          ],
          "name": "stderr"
        },
        {
          "output_type": "stream",
          "text": [
            "32\n",
            "tensor([[50258, 50258, 50258,  ..., 50259, 50259, 50259],\n",
            "        [50258, 50258, 50258,  ..., 50259, 50259, 50259],\n",
            "        [50258, 50258, 50258,  ..., 50259, 50259, 50259],\n",
            "        ...,\n",
            "        [50258, 50258, 50258,  ..., 50259, 50259, 50259],\n",
            "        [50258, 50258, 50258,  ..., 50259, 50259, 50259],\n",
            "        [50258, 50258, 50258,  ..., 50259, 50259, 50259]], device='cuda:0')\n"
          ],
          "name": "stdout"
        },
        {
          "output_type": "stream",
          "text": [
            "\rTraining:  91%|█████████ | 260/287 [02:26<00:15,  1.77it/s]"
          ],
          "name": "stderr"
        },
        {
          "output_type": "stream",
          "text": [
            "32\n",
            "tensor([[50258, 50258, 50258,  ..., 50259, 50259, 50259],\n",
            "        [50258, 50258, 50258,  ..., 50259, 50259, 50259],\n",
            "        [50258, 50258, 50258,  ..., 50259, 50259, 50259],\n",
            "        ...,\n",
            "        [50258, 50258, 50258,  ..., 50259, 50259, 50259],\n",
            "        [50258, 50258, 50258,  ..., 50259, 50259, 50259],\n",
            "        [50258, 50258, 50258,  ..., 50259, 50259, 50259]], device='cuda:0')\n"
          ],
          "name": "stdout"
        },
        {
          "output_type": "stream",
          "text": [
            "\rTraining:  91%|█████████ | 261/287 [02:27<00:14,  1.78it/s]"
          ],
          "name": "stderr"
        },
        {
          "output_type": "stream",
          "text": [
            "32\n",
            "tensor([[50258, 50258, 50258,  ..., 50259, 50259, 50259],\n",
            "        [50258, 50258, 50258,  ..., 50259, 50259, 50259],\n",
            "        [50258, 50258, 50258,  ..., 50259, 50259, 50259],\n",
            "        ...,\n",
            "        [50258, 50258, 50258,  ..., 50259, 50259, 50259],\n",
            "        [50258, 50258, 50258,  ..., 50259, 50259, 50259],\n",
            "        [50258, 50258, 50258,  ..., 50259, 50259, 50259]], device='cuda:0')\n"
          ],
          "name": "stdout"
        },
        {
          "output_type": "stream",
          "text": [
            "\rTraining:  91%|█████████▏| 262/287 [02:27<00:14,  1.77it/s]"
          ],
          "name": "stderr"
        },
        {
          "output_type": "stream",
          "text": [
            "32\n",
            "tensor([[50258, 50258, 50258,  ..., 50259, 50259, 50259],\n",
            "        [50258, 50258, 50258,  ..., 50259, 50259, 50259],\n",
            "        [50258, 50258, 50258,  ..., 50259, 50259, 50259],\n",
            "        ...,\n",
            "        [50258, 50258, 50258,  ..., 50259, 50259, 50259],\n",
            "        [50258, 50258, 50258,  ..., 50259, 50259, 50259],\n",
            "        [50258, 50258, 50258,  ..., 50259, 50259, 50259]], device='cuda:0')\n"
          ],
          "name": "stdout"
        },
        {
          "output_type": "stream",
          "text": [
            "\rTraining:  92%|█████████▏| 263/287 [02:28<00:13,  1.78it/s]"
          ],
          "name": "stderr"
        },
        {
          "output_type": "stream",
          "text": [
            "32\n",
            "tensor([[50258, 50258, 50258,  ..., 50259, 50259, 50259],\n",
            "        [50258, 50258, 50258,  ..., 50259, 50259, 50259],\n",
            "        [50258, 50258, 50258,  ..., 50259, 50259, 50259],\n",
            "        ...,\n",
            "        [50258, 50258, 50258,  ..., 50259, 50259, 50259],\n",
            "        [50258, 50258, 50258,  ..., 50259, 50259, 50259],\n",
            "        [50258, 50258, 50258,  ..., 50259, 50259, 50259]], device='cuda:0')\n"
          ],
          "name": "stdout"
        },
        {
          "output_type": "stream",
          "text": [
            "\rTraining:  92%|█████████▏| 264/287 [02:29<00:12,  1.77it/s]"
          ],
          "name": "stderr"
        },
        {
          "output_type": "stream",
          "text": [
            "32\n",
            "tensor([[50258, 50258, 50258,  ..., 50259, 50259, 50259],\n",
            "        [50258, 50258, 50258,  ..., 50259, 50259, 50259],\n",
            "        [50258, 50258, 50258,  ..., 50259, 50259, 50259],\n",
            "        ...,\n",
            "        [50258, 50258, 50258,  ..., 50259, 50259, 50259],\n",
            "        [50258, 50258, 50258,  ..., 50259, 50259, 50259],\n",
            "        [50258, 50258, 50258,  ..., 50259, 50259, 50259]], device='cuda:0')\n"
          ],
          "name": "stdout"
        },
        {
          "output_type": "stream",
          "text": [
            "\rTraining:  92%|█████████▏| 265/287 [02:29<00:12,  1.77it/s]"
          ],
          "name": "stderr"
        },
        {
          "output_type": "stream",
          "text": [
            "32\n",
            "tensor([[50258, 50258, 50258,  ..., 50259, 50259, 50259],\n",
            "        [50258, 50258, 50258,  ..., 50259, 50259, 50259],\n",
            "        [50258, 50258, 50258,  ..., 50259, 50259, 50259],\n",
            "        ...,\n",
            "        [50258, 50258, 50258,  ..., 50259, 50259, 50259],\n",
            "        [50258, 50258, 50258,  ..., 50259, 50259, 50259],\n",
            "        [50258, 50258, 50258,  ..., 50259, 50259, 50259]], device='cuda:0')\n"
          ],
          "name": "stdout"
        },
        {
          "output_type": "stream",
          "text": [
            "\rTraining:  93%|█████████▎| 266/287 [02:30<00:11,  1.77it/s]"
          ],
          "name": "stderr"
        },
        {
          "output_type": "stream",
          "text": [
            "32\n",
            "tensor([[50258, 50258, 50258,  ..., 50259, 50259, 50259],\n",
            "        [50258, 50258, 50258,  ..., 50259, 50259, 50259],\n",
            "        [50258, 50258, 50258,  ..., 50259, 50259, 50259],\n",
            "        ...,\n",
            "        [50258, 50258, 50258,  ..., 50259, 50259, 50259],\n",
            "        [50258, 50258, 50258,  ..., 50259, 50259, 50259],\n",
            "        [50258, 50258, 50258,  ..., 50259, 50259, 50259]], device='cuda:0')\n"
          ],
          "name": "stdout"
        },
        {
          "output_type": "stream",
          "text": [
            "\rTraining:  93%|█████████▎| 267/287 [02:30<00:11,  1.77it/s]"
          ],
          "name": "stderr"
        },
        {
          "output_type": "stream",
          "text": [
            "32\n",
            "tensor([[50258, 50258, 50258,  ..., 50259, 50259, 50259],\n",
            "        [50258, 50258, 50258,  ..., 50259, 50259, 50259],\n",
            "        [50258, 50258, 50258,  ..., 50259, 50259, 50259],\n",
            "        ...,\n",
            "        [50258, 50258, 50258,  ..., 50259, 50259, 50259],\n",
            "        [50258, 50258, 50258,  ..., 50259, 50259, 50259],\n",
            "        [50258, 50258, 50258,  ..., 50259, 50259, 50259]], device='cuda:0')\n"
          ],
          "name": "stdout"
        },
        {
          "output_type": "stream",
          "text": [
            "\rTraining:  93%|█████████▎| 268/287 [02:31<00:10,  1.77it/s]"
          ],
          "name": "stderr"
        },
        {
          "output_type": "stream",
          "text": [
            "32\n",
            "tensor([[50258, 50258, 50258,  ..., 50259, 50259, 50259],\n",
            "        [50258, 50258, 50258,  ..., 50259, 50259, 50259],\n",
            "        [50258, 50258, 50258,  ..., 50259, 50259, 50259],\n",
            "        ...,\n",
            "        [50258, 50258, 50258,  ..., 50259, 50259, 50259],\n",
            "        [50258, 50258, 50258,  ..., 50259, 50259, 50259],\n",
            "        [50258, 50258, 50258,  ..., 50259, 50259, 50259]], device='cuda:0')\n"
          ],
          "name": "stdout"
        },
        {
          "output_type": "stream",
          "text": [
            "\rTraining:  94%|█████████▎| 269/287 [02:31<00:10,  1.77it/s]"
          ],
          "name": "stderr"
        },
        {
          "output_type": "stream",
          "text": [
            "32\n",
            "tensor([[50258, 50258, 50258,  ..., 50259, 50259, 50259],\n",
            "        [50258, 50258, 50258,  ..., 50259, 50259, 50259],\n",
            "        [50258, 50258, 50258,  ..., 50259, 50259, 50259],\n",
            "        ...,\n",
            "        [50258, 50258, 50258,  ..., 50259, 50259, 50259],\n",
            "        [50258, 50258, 50258,  ..., 50259, 50259, 50259],\n",
            "        [50258, 50258, 50258,  ..., 50259, 50259, 50259]], device='cuda:0')\n"
          ],
          "name": "stdout"
        },
        {
          "output_type": "stream",
          "text": [
            "\rTraining:  94%|█████████▍| 270/287 [02:32<00:09,  1.77it/s]"
          ],
          "name": "stderr"
        },
        {
          "output_type": "stream",
          "text": [
            "32\n",
            "tensor([[50258, 50258, 50258,  ..., 50259, 50259, 50259],\n",
            "        [50258, 50258, 50258,  ..., 50259, 50259, 50259],\n",
            "        [50258, 50258, 50258,  ..., 50259, 50259, 50259],\n",
            "        ...,\n",
            "        [50258, 50258, 50258,  ..., 50259, 50259, 50259],\n",
            "        [50258, 50258, 50258,  ..., 50259, 50259, 50259],\n",
            "        [50258, 50258, 50258,  ..., 50259, 50259, 50259]], device='cuda:0')\n"
          ],
          "name": "stdout"
        },
        {
          "output_type": "stream",
          "text": [
            "\rTraining:  94%|█████████▍| 271/287 [02:33<00:09,  1.77it/s]"
          ],
          "name": "stderr"
        },
        {
          "output_type": "stream",
          "text": [
            "32\n",
            "tensor([[50258, 50258, 50258,  ..., 50259, 50259, 50259],\n",
            "        [50258, 50258, 50258,  ..., 50259, 50259, 50259],\n",
            "        [50258, 50258, 50258,  ..., 50259, 50259, 50259],\n",
            "        ...,\n",
            "        [50258, 50258, 50258,  ..., 50259, 50259, 50259],\n",
            "        [50258, 50258, 50258,  ..., 50259, 50259, 50259],\n",
            "        [50258, 50258, 50258,  ..., 50259, 50259, 50259]], device='cuda:0')\n"
          ],
          "name": "stdout"
        },
        {
          "output_type": "stream",
          "text": [
            "\rTraining:  95%|█████████▍| 272/287 [02:33<00:08,  1.77it/s]"
          ],
          "name": "stderr"
        },
        {
          "output_type": "stream",
          "text": [
            "32\n",
            "tensor([[50258, 50258, 50258,  ..., 50259, 50259, 50259],\n",
            "        [50258, 50258, 50258,  ..., 50259, 50259, 50259],\n",
            "        [50258, 50258, 50258,  ..., 50259, 50259, 50259],\n",
            "        ...,\n",
            "        [50258, 50258, 50258,  ..., 50259, 50259, 50259],\n",
            "        [50258, 50258, 50258,  ..., 50259, 50259, 50259],\n",
            "        [50258, 50258, 50258,  ..., 50259, 50259, 50259]], device='cuda:0')\n"
          ],
          "name": "stdout"
        },
        {
          "output_type": "stream",
          "text": [
            "\rTraining:  95%|█████████▌| 273/287 [02:34<00:07,  1.77it/s]"
          ],
          "name": "stderr"
        },
        {
          "output_type": "stream",
          "text": [
            "32\n",
            "tensor([[50258, 50258, 50258,  ..., 50259, 50259, 50259],\n",
            "        [50258, 50258, 50258,  ..., 50259, 50259, 50259],\n",
            "        [50258, 50258, 50258,  ..., 50259, 50259, 50259],\n",
            "        ...,\n",
            "        [50258, 50258, 50258,  ..., 50259, 50259, 50259],\n",
            "        [50258, 50258, 50258,  ..., 50259, 50259, 50259],\n",
            "        [50258, 50258, 50258,  ..., 50259, 50259, 50259]], device='cuda:0')\n"
          ],
          "name": "stdout"
        },
        {
          "output_type": "stream",
          "text": [
            "\rTraining:  95%|█████████▌| 274/287 [02:34<00:07,  1.77it/s]"
          ],
          "name": "stderr"
        },
        {
          "output_type": "stream",
          "text": [
            "32\n",
            "tensor([[50258, 50258, 50258,  ..., 50259, 50259, 50259],\n",
            "        [50258, 50258, 50258,  ..., 50259, 50259, 50259],\n",
            "        [50258, 50258, 50258,  ..., 50259, 50259, 50259],\n",
            "        ...,\n",
            "        [50258, 50258, 50258,  ..., 50259, 50259, 50259],\n",
            "        [50258, 50258, 50258,  ..., 50259, 50259, 50259],\n",
            "        [50258, 50258, 50258,  ..., 50259, 50259, 50259]], device='cuda:0')\n"
          ],
          "name": "stdout"
        },
        {
          "output_type": "stream",
          "text": [
            "\rTraining:  96%|█████████▌| 275/287 [02:35<00:06,  1.77it/s]"
          ],
          "name": "stderr"
        },
        {
          "output_type": "stream",
          "text": [
            "32\n",
            "tensor([[50258, 50258, 50258,  ..., 50259, 50259, 50259],\n",
            "        [50258, 50258, 50258,  ..., 50259, 50259, 50259],\n",
            "        [50258, 50258, 50258,  ..., 50259, 50259, 50259],\n",
            "        ...,\n",
            "        [50258, 50258, 50258,  ..., 50259, 50259, 50259],\n",
            "        [50258, 50258, 50258,  ..., 50259, 50259, 50259],\n",
            "        [50258, 50258, 50258,  ..., 50259, 50259, 50259]], device='cuda:0')\n"
          ],
          "name": "stdout"
        },
        {
          "output_type": "stream",
          "text": [
            "\rTraining:  96%|█████████▌| 276/287 [02:35<00:06,  1.77it/s]"
          ],
          "name": "stderr"
        },
        {
          "output_type": "stream",
          "text": [
            "32\n",
            "tensor([[50258, 50258, 50258,  ..., 50259, 50259, 50259],\n",
            "        [50258, 50258, 50258,  ..., 50259, 50259, 50259],\n",
            "        [50258, 50258, 50258,  ..., 50259, 50259, 50259],\n",
            "        ...,\n",
            "        [50258, 50258, 50258,  ..., 50259, 50259, 50259],\n",
            "        [50258, 50258, 50258,  ..., 50259, 50259, 50259],\n",
            "        [50258, 50258, 50258,  ..., 50259, 50259, 50259]], device='cuda:0')\n"
          ],
          "name": "stdout"
        },
        {
          "output_type": "stream",
          "text": [
            "\rTraining:  97%|█████████▋| 277/287 [02:36<00:05,  1.77it/s]"
          ],
          "name": "stderr"
        },
        {
          "output_type": "stream",
          "text": [
            "32\n",
            "tensor([[50258, 50258, 50258,  ..., 50259, 50259, 50259],\n",
            "        [50258, 50258, 50258,  ..., 50259, 50259, 50259],\n",
            "        [50258, 50258, 50258,  ..., 50259, 50259, 50259],\n",
            "        ...,\n",
            "        [50258, 50258, 50258,  ..., 50259, 50259, 50259],\n",
            "        [50258, 50258, 50258,  ..., 50259, 50259, 50259],\n",
            "        [50258, 50258, 50258,  ..., 50259, 50259, 50259]], device='cuda:0')\n"
          ],
          "name": "stdout"
        },
        {
          "output_type": "stream",
          "text": [
            "\rTraining:  97%|█████████▋| 278/287 [02:37<00:05,  1.77it/s]"
          ],
          "name": "stderr"
        },
        {
          "output_type": "stream",
          "text": [
            "32\n",
            "tensor([[50258, 50258, 50258,  ..., 50259, 50259, 50259],\n",
            "        [50258, 50258, 50258,  ..., 50259, 50259, 50259],\n",
            "        [50258, 50258, 50258,  ..., 50259, 50259, 50259],\n",
            "        ...,\n",
            "        [50258, 50258, 50258,  ..., 50259, 50259, 50259],\n",
            "        [50258, 50258, 50258,  ..., 50259, 50259, 50259],\n",
            "        [50258, 50258, 50258,  ..., 50259, 50259, 50259]], device='cuda:0')\n"
          ],
          "name": "stdout"
        },
        {
          "output_type": "stream",
          "text": [
            "\rTraining:  97%|█████████▋| 279/287 [02:37<00:04,  1.77it/s]"
          ],
          "name": "stderr"
        },
        {
          "output_type": "stream",
          "text": [
            "32\n",
            "tensor([[50258, 50258, 50258,  ..., 50259, 50259, 50259],\n",
            "        [50258, 50258, 50258,  ..., 50259, 50259, 50259],\n",
            "        [50258, 50258, 50258,  ..., 50259, 50259, 50259],\n",
            "        ...,\n",
            "        [50258, 50258, 50258,  ..., 50259, 50259, 50259],\n",
            "        [50258, 50258, 50258,  ..., 50259, 50259, 50259],\n",
            "        [50258, 50258, 50258,  ..., 50259, 50259, 50259]], device='cuda:0')\n"
          ],
          "name": "stdout"
        },
        {
          "output_type": "stream",
          "text": [
            "\rTraining:  98%|█████████▊| 280/287 [02:38<00:03,  1.77it/s]"
          ],
          "name": "stderr"
        },
        {
          "output_type": "stream",
          "text": [
            "32\n",
            "tensor([[50258, 50258, 50258,  ..., 50259, 50259, 50259],\n",
            "        [50258, 50258, 50258,  ..., 50259, 50259, 50259],\n",
            "        [50258, 50258, 50258,  ..., 50259, 50259, 50259],\n",
            "        ...,\n",
            "        [50258, 50258, 50258,  ..., 50259, 50259, 50259],\n",
            "        [50258, 50258, 50258,  ..., 50259, 50259, 50259],\n",
            "        [50258, 50258, 50258,  ..., 50259, 50259, 50259]], device='cuda:0')\n"
          ],
          "name": "stdout"
        },
        {
          "output_type": "stream",
          "text": [
            "\rTraining:  98%|█████████▊| 281/287 [02:38<00:03,  1.78it/s]"
          ],
          "name": "stderr"
        },
        {
          "output_type": "stream",
          "text": [
            "32\n",
            "tensor([[50258, 50258, 50258,  ..., 50259, 50259, 50259],\n",
            "        [50258, 50258, 50258,  ..., 50259, 50259, 50259],\n",
            "        [50258, 50258, 50258,  ..., 50259, 50259, 50259],\n",
            "        ...,\n",
            "        [50258, 50258, 50258,  ..., 50259, 50259, 50259],\n",
            "        [50258, 50258, 50258,  ..., 50259, 50259, 50259],\n",
            "        [50258, 50258, 50258,  ..., 50259, 50259, 50259]], device='cuda:0')\n"
          ],
          "name": "stdout"
        },
        {
          "output_type": "stream",
          "text": [
            "\rTraining:  98%|█████████▊| 282/287 [02:39<00:02,  1.77it/s]"
          ],
          "name": "stderr"
        },
        {
          "output_type": "stream",
          "text": [
            "32\n",
            "tensor([[50258, 50258, 50258,  ..., 50259, 50259, 50259],\n",
            "        [50258, 50258, 50258,  ..., 50259, 50259, 50259],\n",
            "        [50258, 50258, 50258,  ..., 50259, 50259, 50259],\n",
            "        ...,\n",
            "        [50258, 50258, 50258,  ..., 50259, 50259, 50259],\n",
            "        [50258, 50258, 50258,  ..., 50259, 50259, 50259],\n",
            "        [50258, 50258, 50258,  ..., 50259, 50259, 50259]], device='cuda:0')\n"
          ],
          "name": "stdout"
        },
        {
          "output_type": "stream",
          "text": [
            "\rTraining:  99%|█████████▊| 283/287 [02:39<00:02,  1.77it/s]"
          ],
          "name": "stderr"
        },
        {
          "output_type": "stream",
          "text": [
            "32\n",
            "tensor([[50258, 50258, 50258,  ..., 50259, 50259, 50259],\n",
            "        [50258, 50258, 50258,  ..., 50259, 50259, 50259],\n",
            "        [50258, 50258, 50258,  ..., 50259, 50259, 50259],\n",
            "        ...,\n",
            "        [50258, 50258, 50258,  ..., 50259, 50259, 50259],\n",
            "        [50258, 50258, 50258,  ..., 50259, 50259, 50259],\n",
            "        [50258, 50258, 50258,  ..., 50259, 50259, 50259]], device='cuda:0')\n"
          ],
          "name": "stdout"
        },
        {
          "output_type": "stream",
          "text": [
            "\rTraining:  99%|█████████▉| 284/287 [02:40<00:01,  1.77it/s]"
          ],
          "name": "stderr"
        },
        {
          "output_type": "stream",
          "text": [
            "32\n",
            "tensor([[50258, 50258, 50258,  ..., 50259, 50259, 50259],\n",
            "        [50258, 50258, 50258,  ..., 50259, 50259, 50259],\n",
            "        [50258, 50258, 50258,  ..., 50259, 50259, 50259],\n",
            "        ...,\n",
            "        [50258, 50258, 50258,  ..., 50259, 50259, 50259],\n",
            "        [50258, 50258, 50258,  ..., 50259, 50259, 50259],\n",
            "        [50258, 50258, 50258,  ..., 50259, 50259, 50259]], device='cuda:0')\n"
          ],
          "name": "stdout"
        },
        {
          "output_type": "stream",
          "text": [
            "\rTraining:  99%|█████████▉| 285/287 [02:40<00:01,  1.78it/s]"
          ],
          "name": "stderr"
        },
        {
          "output_type": "stream",
          "text": [
            "32\n",
            "tensor([[50258, 50258, 50258,  ..., 50259, 50259, 50259],\n",
            "        [50258, 50258, 50258,  ..., 50259, 50259, 50259],\n",
            "        [50258, 50258, 50258,  ..., 50259, 50259, 50259],\n",
            "        ...,\n",
            "        [50258, 50258, 50258,  ..., 50259, 50259, 50259],\n",
            "        [50258, 50258, 50258,  ..., 50259, 50259, 50259],\n",
            "        [50258, 50258, 50258,  ..., 50259, 50259, 50259]], device='cuda:0')\n"
          ],
          "name": "stdout"
        },
        {
          "output_type": "stream",
          "text": [
            "\rTraining: 100%|█████████▉| 286/287 [02:41<00:00,  1.77it/s]"
          ],
          "name": "stderr"
        },
        {
          "output_type": "stream",
          "text": [
            "32\n",
            "tensor([[50258, 50258, 50258,  ..., 50259, 50259, 50259],\n",
            "        [50258, 50258, 50258,  ..., 50259, 50259, 50259],\n",
            "        [50258, 50258, 50258,  ..., 50259, 50259, 50259],\n",
            "        ...,\n",
            "        [50258, 50258, 50258,  ..., 50259, 50259, 50259],\n",
            "        [50258, 50258, 50258,  ..., 50259, 50259, 50259],\n",
            "        [50258, 50258, 50258,  ..., 50259, 50259, 50259]], device='cuda:0')\n"
          ],
          "name": "stdout"
        },
        {
          "output_type": "stream",
          "text": [
            "Training: 100%|██████████| 287/287 [02:42<00:00,  1.77it/s]\n",
            "Validation: 100%|██████████| 16/16 [00:06<00:00,  2.54it/s]"
          ],
          "name": "stderr"
        },
        {
          "output_type": "stream",
          "text": [
            "\n",
            "--- Epoch #1 finished --- Training cost: 2.725821315619173 / Validation cost: 3.279965400695801\n"
          ],
          "name": "stdout"
        },
        {
          "output_type": "stream",
          "text": [
            "\n"
          ],
          "name": "stderr"
        }
      ]
    },
    {
      "cell_type": "code",
      "metadata": {
        "id": "cR8gVDXWiE9h"
      },
      "source": [
        "torch.save(model, '/content/model_slogan.pkl')"
      ],
      "execution_count": 48,
      "outputs": []
    },
    {
      "cell_type": "code",
      "metadata": {
        "id": "pTaA9fXlClRV"
      },
      "source": [
        "# Sampling functions with top k and top p from HuggingFace:\n",
        "\n",
        "import torch.nn.functional as F\n",
        "from tqdm import trange\n",
        "\n",
        "\n",
        "def top_k_top_p_filtering(logits, top_k=0, top_p=0.0, filter_value=-float('Inf')):\n",
        "    \"\"\" Filter a distribution of logits using top-k and/or nucleus (top-p) filtering\n",
        "        Args:\n",
        "            logits: logits distribution shape (batch size x vocabulary size)\n",
        "            top_k > 0: keep only top k tokens with highest probability (top-k filtering).\n",
        "            top_p > 0.0: keep the top tokens with cumulative probability >= top_p (nucleus filtering).\n",
        "                Nucleus filtering is described in Holtzman et al. (http://arxiv.org/abs/1904.09751)\n",
        "        From: https://gist.github.com/thomwolf/1a5a29f6962089e871b94cbd09daf317\n",
        "    \"\"\"\n",
        "    top_k = min(top_k, logits.size(-1))  # Safety check\n",
        "    if top_k > 1:\n",
        "        # Remove all tokens with a probability less than the last token of the top-k\n",
        "        indices_to_remove = logits < torch.topk(logits, top_k)[0][..., -1, None]\n",
        "        logits[indices_to_remove] = filter_value\n",
        "\n",
        "    if top_p > 0.5:\n",
        "        sorted_logits, sorted_indices = torch.sort(logits, descending=True)\n",
        "        cumulative_probs = torch.cumsum(F.softmax(sorted_logits, dim=-1), dim=-1)\n",
        "\n",
        "        # Remove tokens with cumulative probability above the threshold\n",
        "        sorted_indices_to_remove = cumulative_probs > top_p\n",
        "        # Shift the indices to the right to keep also the first token above the threshold\n",
        "        sorted_indices_to_remove[..., 1:] = sorted_indices_to_remove[..., :-1].clone()\n",
        "        sorted_indices_to_remove[..., 0] = 0\n",
        "\n",
        "        # scatter sorted tensors to original indexing\n",
        "        indices_to_remove = sorted_indices_to_remove.scatter(dim=1, index=sorted_indices, src=sorted_indices_to_remove)\n",
        "        logits[indices_to_remove] = filter_value\n",
        "    return logits\n",
        "\n",
        "\n",
        "# From HuggingFace, adapted to work with the context/slogan separation:\n",
        "def sample_sequence(model, length, context, segments_tokens=None, num_samples=1, temperature=1, top_k=0, top_p=0.0, repetition_penalty=1.0,\n",
        "                    device='cpu'):\n",
        "    context = torch.tensor(context, dtype=torch.long, device=device)\n",
        "    context = context.unsqueeze(0).repeat(num_samples, 1)\n",
        "    generated = context\n",
        "\n",
        "    with torch.no_grad():\n",
        "        for _ in trange(length):\n",
        "\n",
        "            inputs = {'input_ids': generated}\n",
        "            if segments_tokens != None:\n",
        "              inputs['token_type_ids'] = torch.tensor(segments_tokens[:generated.shape[1]]).unsqueeze(0).repeat(num_samples, 1)\n",
        "\n",
        "\n",
        "            outputs = model(**inputs)  # Note: we could also use 'past' with GPT-2/Transfo-XL/XLNet/CTRL (cached hidden-states)\n",
        "            next_token_logits = outputs[0][:, -1, :] / (temperature if temperature > 0 else 1.)\n",
        "\n",
        "            # repetition penalty from CTRL (https://arxiv.org/abs/1909.05858)\n",
        "            for i in range(num_samples):\n",
        "                for _ in set(generated[i].tolist()):\n",
        "                    next_token_logits[i, _] /= repetition_penalty\n",
        "                \n",
        "            filtered_logits = top_k_top_p_filtering(next_token_logits, top_k=top_k, top_p=top_p)\n",
        "            if temperature == 0: # greedy sampling:\n",
        "                next_token = torch.argmax(filtered_logits, dim=-1).unsqueeze(-1)\n",
        "            else:\n",
        "                next_token = torch.multinomial(F.softmax(filtered_logits, dim=-1), num_samples=1)\n",
        "            generated = torch.cat((generated, next_token), dim=1)\n",
        "    return generated"
      ],
      "execution_count": 49,
      "outputs": []
    },
    {
      "cell_type": "code",
      "metadata": {
        "colab": {
          "base_uri": "https://localhost:8080/"
        },
        "id": "FS1MR7AUCuSv",
        "outputId": "a3f8b4de-da94-4754-c88d-ce488277c399"
      },
      "source": [
        "context = \"Matrimonial\"\n",
        "\n",
        "context_tkn = tokenizer.additional_special_tokens_ids[0]\n",
        "slogan_tkn = tokenizer.additional_special_tokens_ids[1]\n",
        "\n",
        "input_ids = [context_tkn] + tokenizer.encode(context)\n",
        "\n",
        "segments = [slogan_tkn] * 64\n",
        "segments[:len(input_ids)] = [context_tkn] * len(input_ids)\n",
        "\n",
        "input_ids += [slogan_tkn]\n",
        "\n",
        "# Move the model back to the CPU for inference:\n",
        "model.to(torch.device('cpu'))\n",
        "\n",
        "# Generate 20 samples of max length 20\n",
        "generated = sample_sequence(model, length=20, context=input_ids, segments_tokens=segments, num_samples=30)\n",
        "\n",
        "print('\\n\\n--- Generated Slogans ---\\n')\n",
        "\n",
        "for g in generated:\n",
        "  slogan = tokenizer.decode(g.squeeze().tolist())\n",
        "  slogan = slogan.split('<|endoftext|>')[0].split('<slogan>')[1]\n",
        "  print(slogan)"
      ],
      "execution_count": null,
      "outputs": [
        {
          "output_type": "stream",
          "text": [
            " 45%|████▌     | 9/20 [00:10<00:14,  1.31s/it]"
          ],
          "name": "stderr"
        }
      ]
    },
    {
      "cell_type": "markdown",
      "metadata": {
        "id": "NBY_Ym5HZqZc"
      },
      "source": [
        ""
      ]
    }
  ]
}